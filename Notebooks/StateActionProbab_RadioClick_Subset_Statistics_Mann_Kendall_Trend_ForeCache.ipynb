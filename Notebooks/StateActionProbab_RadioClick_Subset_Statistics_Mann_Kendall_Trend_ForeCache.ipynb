{
  "cells": [
    {
      "cell_type": "code",
      "execution_count": 2,
      "metadata": {
        "id": "3Z_4ZesOpGRO",
        "colab": {
          "base_uri": "https://localhost:8080/"
        },
        "outputId": "dd90dbd4-0cce-45d6-d285-becd826c2536"
      },
      "outputs": [
        {
          "output_type": "stream",
          "name": "stderr",
          "text": [
            "/usr/local/lib/python3.7/dist-packages/statsmodels/tools/_testing.py:19: FutureWarning: pandas.util.testing is deprecated. Use the functions in the public API at pandas.testing instead.\n",
            "  import pandas.util.testing as tm\n"
          ]
        }
      ],
      "source": [
        "import pandas as pd\n",
        "import numpy as np\n",
        "import os\n",
        "from tqdm import tqdm\n",
        "from statsmodels.tsa.stattools import adfuller\n",
        "import pymannkendall as mk"
      ]
    },
    {
      "cell_type": "code",
      "source": [
        "pip install pymannkendall"
      ],
      "metadata": {
        "colab": {
          "base_uri": "https://localhost:8080/"
        },
        "id": "yrHatKk5LJUh",
        "outputId": "1099daec-0b2d-421b-db10-cbd203e5917b"
      },
      "execution_count": 1,
      "outputs": [
        {
          "output_type": "stream",
          "name": "stdout",
          "text": [
            "Collecting pymannkendall\n",
            "  Downloading pymannkendall-1.4.2-py3-none-any.whl (12 kB)\n",
            "Requirement already satisfied: numpy in /usr/local/lib/python3.7/dist-packages (from pymannkendall) (1.21.5)\n",
            "Requirement already satisfied: scipy in /usr/local/lib/python3.7/dist-packages (from pymannkendall) (1.4.1)\n",
            "Installing collected packages: pymannkendall\n",
            "Successfully installed pymannkendall-1.4.2\n"
          ]
        }
      ]
    },
    {
      "cell_type": "code",
      "source": [
        "# this is implemented from STATE ACTION ANALYSIS FILE : https://colab.research.google.com/drive/1n9nJdd84etLey3piTKkRJmttpZlW1gor#scrollTo=bgGiHn-LobHm\n",
        "\n",
        "#GET ALL STATE ACTION MODEL FOR NDSI 2D AND NDSI 3D\n",
        "global_drive_path=\"/content/drive/MyDrive/ForeCache/interactions/stateActionModel/\"\n",
        "path=(str(global_drive_path) +\"/ndsi-3d\")\n",
        "fileNames_NDSI_3D=[]\n",
        "for filename in os.listdir(path):\n",
        "    if filename.endswith(\".csv\"):\n",
        "        filePath=(os.path.join(path, filename))\n",
        "        fileNames_NDSI_3D.append(filename)\n",
        "    else:\n",
        "        continue\n",
        "path=(str(global_drive_path) +\"/ndsi-2d\")\n",
        "fileNames_NDSI_2D=[]\n",
        "for filename in os.listdir(path):\n",
        "    if filename.endswith(\".csv\"):\n",
        "        filePath=(os.path.join(path, filename))\n",
        "        fileNames_NDSI_2D.append(filename)\n",
        "    else:\n",
        "        continue\n",
        "matchingName=[]\n",
        "df_twoD=[]\n",
        "df_threeD=[]\n",
        "path_twoD=(str(global_drive_path) +\"/ndsi-2d\")\n",
        "path_threeD=(str(global_drive_path) +\"/ndsi-3d\")\n",
        "for i in range(len(fileNames_NDSI_2D)):\n",
        "  for j in range(len(fileNames_NDSI_3D)):\n",
        "  # if fileNames_NDSI_2D[i].removesuffix('taskname_ndsi-2d-task_') == fileNames_NDSI_3D[i].removesuffix('taskname_ndsi-3d-task_'):\n",
        "   if fileNames_NDSI_2D[i][22:] == fileNames_NDSI_3D[j][22:]:\n",
        "      #print(os.path.join(path, str(fileNames_NDSI_2D[i])))\n",
        "      df=pd.read_csv(os.path.join(path_twoD, str(fileNames_NDSI_2D[i])),sep=',')\n",
        "      df_twoD.append(df)\n",
        "      df=pd.read_csv(os.path.join(path_threeD, str(fileNames_NDSI_3D[j])),sep=',')\n",
        "      df_threeD.append(df)\n",
        "      matchingName.append(fileNames_NDSI_2D[i])\n",
        "#STORE ALL USERS NAME\n",
        "users=[]\n",
        "for name in matchingName:\n",
        "    users.append(name[22:-4:1])"
      ],
      "metadata": {
        "id": "JGqHw-GJPIjU"
      },
      "execution_count": 3,
      "outputs": []
    },
    {
      "cell_type": "code",
      "source": [
        "class StationarityTests:\n",
        "    def __init__(self, significance=.05):\n",
        "        self.SignificanceLevel = significance\n",
        "        self.pValue = None\n",
        "        self.isStationary = None\n",
        "        self.trend= None\n",
        "\n",
        "    def ADF_Stationarity_Test(self, timeseries, printResults = True):\n",
        "      #Dickey-Fuller test:\n",
        "      adfTest = adfuller(timeseries, autolag='AIC')\n",
        "      \n",
        "      self.pValue = adfTest[1]\n",
        "      \n",
        "      if (self.pValue<self.SignificanceLevel):\n",
        "          self.isStationary = True\n",
        "      else:\n",
        "          self.isStationary = False\n",
        "      \n",
        "      if printResults:\n",
        "          dfResults = pd.Series(adfTest[0:4], index=['ADF Test Statistic','P-Value','# Lags Used','# Observations Used'])\n",
        "          #Add Critical Values\n",
        "          for key,value in adfTest[4].items():\n",
        "              dfResults['Critical Value (%s)'%key] = value\n",
        "          print('Augmented Dickey-Fuller Test Results:')\n",
        "          print(dfResults)\n",
        "    \n",
        "    def Mann_Kendall_Stationarity_Test(self, timeseries, printResults = True):\n",
        "      #Mann Kendall Trend Test:\n",
        "      mktTest = mk.original_test(timeseries)\n",
        "      \n",
        "      self.pValue = mktTest[2]\n",
        "      self.trend= mktTest[0]\n",
        "      self.isStationary = mktTest[1]\n",
        "      \n",
        "      if printResults:\n",
        "          dfResults = pd.Series(mktTest[0:3], index=['Trend Type','Stationarity','P-Value'])\n",
        "          #Add Critical Values\n",
        "          for key,value in mktTest[3].items():\n",
        "              dfResults['Critical Value (%s)'%key] = value\n",
        "          print('Mann Kendall Trend Test:')\n",
        "          print(dfResults)"
      ],
      "metadata": {
        "id": "xAQzaSSWYHWR"
      },
      "execution_count": 4,
      "outputs": []
    },
    {
      "cell_type": "code",
      "execution_count": null,
      "metadata": {
        "id": "KwyTVSXTqAbw"
      },
      "outputs": [],
      "source": [
        "def make_numerical_dataframe(df):\n",
        "  df['State_Action']=(df['Action']+ df['State'])\n",
        " \n",
        "  df['Action']=pd.factorize(df['Action'])[0]\n",
        "  df['State']=pd.factorize(df['State'])[0]\n",
        "  state_action_correlated_series=pd.factorize(df['State_Action'])[0]\n",
        " \n",
        "  action_only_series=df['Action'].values\n",
        "  state_only_series=df['State'].values\n",
        "  options=[state_action_correlated_series,action_only_series,state_only_series]\n",
        "  return options"
      ]
    },
    {
      "cell_type": "code",
      "source": [
        "\n",
        "#3D Mann Kendall\n",
        "def Subset_radioClick(user,all_states_dataframe):\n",
        "  failed_files=[]\n",
        "  final_dataframe_3d = pd.DataFrame(columns=['User','StateNumber','Subtask_RadioClick_Time','MKT Stationary_State_Action'])\n",
        "  for i in tqdm(range(len(all_states_dataframe))):\n",
        "    subtask=0\n",
        "    length_parsedFile=0\n",
        "    print(\"For state: ############\",i)\n",
        "\n",
        "    window_dataframe=all_states_dataframe[i]\n",
        "\n",
        "    subtask_values=window_dataframe[\"Subtask_RadioClick_Time\"].unique()\n",
        "    print(subtask_values)\n",
        "    original_fileLength=len(window_dataframe)\n",
        "\n",
        "    while ((length_parsedFile < original_fileLength) and (subtask <= len(subtask_values))):\n",
        "      \n",
        "      window_dataframe_subset=window_dataframe.loc[window_dataframe['Subtask_RadioClick_Time'] == subtask_values[subtask]]\n",
        "      length_parsedFile+=len(window_dataframe_subset)\n",
        "      #print(\"Length of file\",len(window_dataframe_subset), \" in \",\"Subtask: \",subtask_values[subtask])\n",
        "      #creating series\n",
        "      state_action_correlated_series=window_dataframe_subset['StateActionProbab'].values\n",
        "\n",
        "      three_series=[state_action_correlated_series]\n",
        "      three_series_results=[user,i,subtask_values[subtask]]\n",
        "      for series in (three_series):\n",
        "        if len(series)>2:\n",
        "          sTest_state = StationarityTests()\n",
        "          sTest_state.Mann_Kendall_Stationarity_Test(series, printResults = False)\n",
        "          three_series_results.append(sTest_state.trend)\n",
        "          \n",
        "        else:\n",
        "          three_series_results.append(\"Not Enough Data\")\n",
        "          failed_files.append(user)\n",
        "      #adding results per subtask per user to dataframe\n",
        "      df_length = len(final_dataframe_3d)\n",
        "      final_dataframe_3d.loc[df_length] = three_series_results\n",
        "      subtask +=1\n",
        "  return final_dataframe_3d\n",
        "    "
      ],
      "metadata": {
        "id": "68WgRv1PQQH3"
      },
      "execution_count": 5,
      "outputs": []
    },
    {
      "cell_type": "code",
      "source": [
        "#3D Mann Kendall\n",
        "saveDir=(str(global_drive_path) +\"StationarityTests/ndsi-3d/ActionBased\")\n",
        "combined_final_dataframe_3d = pd.DataFrame(columns=['User','StateNumber','Subtask_RadioClick_Time','MKT Stationary_State_Action'])\n",
        "array_of_dataframes=[]\n",
        "for j in tqdm(range(len(df_threeD))):\n",
        "  \n",
        "  all_states_dataframes=[]\n",
        "  # df_Navigation=df_threeD[j].loc[df_threeD[j]['State'] == 'Navigation']\n",
        "  # all_states_dataframes.append(df_Navigation)\n",
        "  df_Sensemaking=df_threeD[j].loc[df_threeD[j]['State'] == 'Sensemaking']\n",
        "  all_states_dataframes.append(df_Sensemaking)\n",
        "  # df_Answering=df_threeD[j].loc[df_threeD[j]['State'] == 'Answering']\n",
        "  # all_states_dataframes.append(df_Answering)\n",
        "  df_Foraging=df_threeD[j].loc[df_threeD[j]['State'] == 'Foraging']\n",
        "  all_states_dataframes.append(df_Foraging)\n",
        "  print(j)\n",
        "  print(users[j])\n",
        "  #running MKT on one user after dividing data based on states\n",
        "  if (len(all_states_dataframes) == 2):\n",
        "    actiondf=Subset_radioClick(users[j],all_states_dataframes)\n",
        "    array_of_dataframes.append(actiondf)\n",
        "    \n",
        "  else:\n",
        "    print(\"failed for user\", user[j])\n",
        "array_of_dataframes = pd.concat(array_of_dataframes)\n",
        "userfilename= \"All Users_RadioClick_MKT_sliding_.xlsx\"\n",
        "array_of_dataframes.to_excel(os.path.join(saveDir,userfilename), index=False)\n",
        "   "
      ],
      "metadata": {
        "colab": {
          "base_uri": "https://localhost:8080/"
        },
        "id": "yZ6TgxZruBie",
        "outputId": "f7b13487-0371-42b0-c429-282234402b3d"
      },
      "execution_count": 6,
      "outputs": [
        {
          "output_type": "stream",
          "name": "stderr",
          "text": [
            "\r  0%|          | 0/19 [00:00<?, ?it/s]"
          ]
        },
        {
          "output_type": "stream",
          "name": "stdout",
          "text": [
            "0\n",
            "userid_82316e37-1117-4663-84b4-ddb6455c83b2\n"
          ]
        },
        {
          "output_type": "stream",
          "name": "stderr",
          "text": [
            "\n",
            "100%|██████████| 2/2 [00:00<00:00, 50.95it/s]\n"
          ]
        },
        {
          "output_type": "stream",
          "name": "stdout",
          "text": [
            "For state: ############ 0\n",
            "[1 2]\n",
            "For state: ############ 1\n",
            "[1 2]\n",
            "1\n",
            "userid_d6555293-35c7-4c27-b522-38d67d2d1b1a\n"
          ]
        },
        {
          "output_type": "stream",
          "name": "stderr",
          "text": [
            "\n",
            "100%|██████████| 2/2 [00:00<00:00, 48.66it/s]\n",
            " 11%|█         | 2/19 [00:00<00:01, 14.67it/s]"
          ]
        },
        {
          "output_type": "stream",
          "name": "stdout",
          "text": [
            "For state: ############ 0\n",
            "[1 2]\n",
            "For state: ############ 1\n",
            "[1 2]\n",
            "2\n",
            "userid_bda49380-37ad-41c5-a109-7fa198a7691a\n"
          ]
        },
        {
          "output_type": "stream",
          "name": "stderr",
          "text": [
            "\n",
            "100%|██████████| 2/2 [00:00<00:00, 55.16it/s]\n"
          ]
        },
        {
          "output_type": "stream",
          "name": "stdout",
          "text": [
            "For state: ############ 0\n",
            "[1 2]\n",
            "For state: ############ 1\n",
            "[1 2]\n",
            "3\n",
            "userid_da52acdd-3cea-483c-86e5-2c2740d371aa\n"
          ]
        },
        {
          "output_type": "stream",
          "name": "stderr",
          "text": [
            "\n",
            "  0%|          | 0/2 [00:00<?, ?it/s]\u001b[A"
          ]
        },
        {
          "output_type": "stream",
          "name": "stdout",
          "text": [
            "For state: ############ 0\n",
            "[1 2]\n"
          ]
        },
        {
          "output_type": "stream",
          "name": "stderr",
          "text": [
            "100%|██████████| 2/2 [00:00<00:00, 37.90it/s]\n",
            " 21%|██        | 4/19 [00:00<00:01, 14.60it/s]"
          ]
        },
        {
          "output_type": "stream",
          "name": "stdout",
          "text": [
            "For state: ############ 1\n",
            "[1 2]\n",
            "4\n",
            "userid_3abeecbe-327a-441e-be2a-0dd3763c1d45\n"
          ]
        },
        {
          "output_type": "stream",
          "name": "stderr",
          "text": [
            "\n",
            "  0%|          | 0/2 [00:00<?, ?it/s]\u001b[A"
          ]
        },
        {
          "output_type": "stream",
          "name": "stdout",
          "text": [
            "For state: ############ 0\n",
            "[1 2]\n"
          ]
        },
        {
          "output_type": "stream",
          "name": "stderr",
          "text": [
            "\r100%|██████████| 2/2 [00:00<00:00, 40.56it/s]\n"
          ]
        },
        {
          "output_type": "stream",
          "name": "stdout",
          "text": [
            "For state: ############ 1\n",
            "[1 2]\n",
            "5\n",
            "userid_ac5b65d7-f260-4534-9fae-d998b726ed32\n"
          ]
        },
        {
          "output_type": "stream",
          "name": "stderr",
          "text": [
            "\n",
            "  0%|          | 0/2 [00:00<?, ?it/s]\u001b[A"
          ]
        },
        {
          "output_type": "stream",
          "name": "stdout",
          "text": [
            "For state: ############ 0\n",
            "[1 2]\n"
          ]
        },
        {
          "output_type": "stream",
          "name": "stderr",
          "text": [
            "100%|██████████| 2/2 [00:00<00:00, 43.64it/s]\n",
            " 32%|███▏      | 6/19 [00:00<00:00, 14.32it/s]"
          ]
        },
        {
          "output_type": "stream",
          "name": "stdout",
          "text": [
            "For state: ############ 1\n",
            "[1 2]\n",
            "6\n",
            "userid_ff56863b-0710-4a58-ad22-4bf2889c9bc0\n"
          ]
        },
        {
          "output_type": "stream",
          "name": "stderr",
          "text": [
            "\n",
            "  0%|          | 0/2 [00:00<?, ?it/s]\u001b[A"
          ]
        },
        {
          "output_type": "stream",
          "name": "stdout",
          "text": [
            "For state: ############ 0\n",
            "[1]\n"
          ]
        },
        {
          "output_type": "stream",
          "name": "stderr",
          "text": [
            "\r100%|██████████| 2/2 [00:00<00:00, 39.26it/s]\n"
          ]
        },
        {
          "output_type": "stream",
          "name": "stdout",
          "text": [
            "For state: ############ 1\n",
            "[1 2]\n",
            "7\n",
            "userid_bc9f9425-e867-4876-a5d9-791229916767\n"
          ]
        },
        {
          "output_type": "stream",
          "name": "stderr",
          "text": [
            "\n",
            "  0%|          | 0/2 [00:00<?, ?it/s]\u001b[A"
          ]
        },
        {
          "output_type": "stream",
          "name": "stdout",
          "text": [
            "For state: ############ 0\n",
            "[1 2]\n"
          ]
        },
        {
          "output_type": "stream",
          "name": "stderr",
          "text": [
            "100%|██████████| 2/2 [00:00<00:00, 51.79it/s]\n",
            " 42%|████▏     | 8/19 [00:00<00:00, 14.57it/s]"
          ]
        },
        {
          "output_type": "stream",
          "name": "stdout",
          "text": [
            "For state: ############ 1\n",
            "[1 2]\n",
            "8\n",
            "userid_8bf5b71b-dfd4-403f-8791-06427b26ccaf\n"
          ]
        },
        {
          "output_type": "stream",
          "name": "stderr",
          "text": [
            "\n",
            "  0%|          | 0/2 [00:00<?, ?it/s]\u001b[A"
          ]
        },
        {
          "output_type": "stream",
          "name": "stdout",
          "text": [
            "For state: ############ 0\n",
            "[1 2]\n"
          ]
        },
        {
          "output_type": "stream",
          "name": "stderr",
          "text": [
            "\r100%|██████████| 2/2 [00:00<00:00, 52.00it/s]\n"
          ]
        },
        {
          "output_type": "stream",
          "name": "stdout",
          "text": [
            "For state: ############ 1\n",
            "[1 2]\n",
            "9\n",
            "userid_7d014c75-453b-4188-9e4e-fb086984896a\n"
          ]
        },
        {
          "output_type": "stream",
          "name": "stderr",
          "text": [
            "\n",
            "  0%|          | 0/2 [00:00<?, ?it/s]\u001b[A"
          ]
        },
        {
          "output_type": "stream",
          "name": "stdout",
          "text": [
            "For state: ############ 0\n",
            "[1 2]\n",
            "For state: ############ 1\n",
            "[1 2]\n"
          ]
        },
        {
          "output_type": "stream",
          "name": "stderr",
          "text": [
            "100%|██████████| 2/2 [00:00<00:00, 42.01it/s]\n",
            " 53%|█████▎    | 10/19 [00:00<00:00, 15.21it/s]"
          ]
        },
        {
          "output_type": "stream",
          "name": "stdout",
          "text": [
            "10\n",
            "userid_6d49fab8-273b-4a91-948b-ecd14556b049\n"
          ]
        },
        {
          "output_type": "stream",
          "name": "stderr",
          "text": [
            "\n",
            "  0%|          | 0/2 [00:00<?, ?it/s]\u001b[A"
          ]
        },
        {
          "output_type": "stream",
          "name": "stdout",
          "text": [
            "For state: ############ 0\n",
            "[1 2]\n",
            "For state: ############ 1\n"
          ]
        },
        {
          "output_type": "stream",
          "name": "stderr",
          "text": [
            "\r100%|██████████| 2/2 [00:00<00:00, 53.36it/s]\n"
          ]
        },
        {
          "output_type": "stream",
          "name": "stdout",
          "text": [
            "[1 2]\n",
            "11\n",
            "userid_733a1ac5-0b01-485e-9b29-ac33932aa240\n"
          ]
        },
        {
          "output_type": "stream",
          "name": "stderr",
          "text": [
            "\n",
            "  0%|          | 0/2 [00:00<?, ?it/s]\u001b[A"
          ]
        },
        {
          "output_type": "stream",
          "name": "stdout",
          "text": [
            "For state: ############ 0\n",
            "[1 2]\n"
          ]
        },
        {
          "output_type": "stream",
          "name": "stderr",
          "text": [
            "100%|██████████| 2/2 [00:00<00:00, 43.26it/s]\n",
            " 63%|██████▎   | 12/19 [00:00<00:00, 15.17it/s]"
          ]
        },
        {
          "output_type": "stream",
          "name": "stdout",
          "text": [
            "For state: ############ 1\n",
            "[1 2]\n",
            "12\n",
            "userid_954edb7c-4eae-47ab-9338-5c5c7eccac2d\n"
          ]
        },
        {
          "output_type": "stream",
          "name": "stderr",
          "text": [
            "\n",
            "  0%|          | 0/2 [00:00<?, ?it/s]\u001b[A"
          ]
        },
        {
          "output_type": "stream",
          "name": "stdout",
          "text": [
            "For state: ############ 0\n",
            "[1]\n",
            "For state: ############ 1\n",
            "[1 2]\n"
          ]
        },
        {
          "output_type": "stream",
          "name": "stderr",
          "text": [
            "\r100%|██████████| 2/2 [00:00<00:00, 45.28it/s]\n"
          ]
        },
        {
          "output_type": "stream",
          "name": "stdout",
          "text": [
            "13\n",
            "userid_cd3ef507-e3e9-4edb-9222-90a69a9bf272\n"
          ]
        },
        {
          "output_type": "stream",
          "name": "stderr",
          "text": [
            "\n",
            "  0%|          | 0/2 [00:00<?, ?it/s]\u001b[A"
          ]
        },
        {
          "output_type": "stream",
          "name": "stdout",
          "text": [
            "For state: ############ 0\n",
            "[1 2]\n"
          ]
        },
        {
          "output_type": "stream",
          "name": "stderr",
          "text": [
            "100%|██████████| 2/2 [00:00<00:00, 53.31it/s]\n",
            " 74%|███████▎  | 14/19 [00:00<00:00, 15.05it/s]"
          ]
        },
        {
          "output_type": "stream",
          "name": "stdout",
          "text": [
            "For state: ############ 1\n",
            "[1 2]\n",
            "14\n",
            "userid_44968286-f204-4ad6-a9b5-d95b38e97866\n"
          ]
        },
        {
          "output_type": "stream",
          "name": "stderr",
          "text": [
            "\n",
            "  0%|          | 0/2 [00:00<?, ?it/s]\u001b[A"
          ]
        },
        {
          "output_type": "stream",
          "name": "stdout",
          "text": [
            "For state: ############ 0\n",
            "[1 2]\n"
          ]
        },
        {
          "output_type": "stream",
          "name": "stderr",
          "text": [
            "\r100%|██████████| 2/2 [00:00<00:00, 38.23it/s]"
          ]
        },
        {
          "output_type": "stream",
          "name": "stdout",
          "text": [
            "For state: ############ 1\n",
            "[1 2]\n"
          ]
        },
        {
          "output_type": "stream",
          "name": "stderr",
          "text": [
            "\n"
          ]
        },
        {
          "output_type": "stream",
          "name": "stdout",
          "text": [
            "15\n",
            "userid_8b544d24-3274-4bb0-9719-fd2bccc87b02\n"
          ]
        },
        {
          "output_type": "stream",
          "name": "stderr",
          "text": [
            "\n",
            "  0%|          | 0/2 [00:00<?, ?it/s]\u001b[A"
          ]
        },
        {
          "output_type": "stream",
          "name": "stdout",
          "text": [
            "For state: ############ 0\n",
            "[1 2]\n"
          ]
        },
        {
          "output_type": "stream",
          "name": "stderr",
          "text": [
            "100%|██████████| 2/2 [00:00<00:00, 43.91it/s]\n",
            " 84%|████████▍ | 16/19 [00:01<00:00, 14.88it/s]"
          ]
        },
        {
          "output_type": "stream",
          "name": "stdout",
          "text": [
            "For state: ############ 1\n",
            "[1 2]\n",
            "16\n",
            "userid_e4221e48-0930-40db-af3c-f4de1ed87582\n"
          ]
        },
        {
          "output_type": "stream",
          "name": "stderr",
          "text": [
            "\n",
            "  0%|          | 0/2 [00:00<?, ?it/s]\u001b[A"
          ]
        },
        {
          "output_type": "stream",
          "name": "stdout",
          "text": [
            "For state: ############ 0\n",
            "[1]\n",
            "For state: ############ 1\n",
            "[1 2]\n"
          ]
        },
        {
          "output_type": "stream",
          "name": "stderr",
          "text": [
            "\r100%|██████████| 2/2 [00:00<00:00, 51.22it/s]\n"
          ]
        },
        {
          "output_type": "stream",
          "name": "stdout",
          "text": [
            "17\n",
            "userid_a6aab5f5-fdb6-41df-9fc6-221d70f8c6e8\n"
          ]
        },
        {
          "output_type": "stream",
          "name": "stderr",
          "text": [
            "\n",
            "  0%|          | 0/2 [00:00<?, ?it/s]\u001b[A"
          ]
        },
        {
          "output_type": "stream",
          "name": "stdout",
          "text": [
            "For state: ############ 0\n",
            "[1 2]\n"
          ]
        },
        {
          "output_type": "stream",
          "name": "stderr",
          "text": [
            "\r100%|██████████| 2/2 [00:00<00:00, 47.77it/s]"
          ]
        },
        {
          "output_type": "stream",
          "name": "stdout",
          "text": [
            "For state: ############ 1\n",
            "[1 2]\n"
          ]
        },
        {
          "output_type": "stream",
          "name": "stderr",
          "text": [
            "\n",
            "\r 95%|█████████▍| 18/19 [00:01<00:00, 14.59it/s]"
          ]
        },
        {
          "output_type": "stream",
          "name": "stdout",
          "text": [
            "18\n",
            "userid_93be0a02-3f7a-46c9-b526-aa956ed00856\n"
          ]
        },
        {
          "output_type": "stream",
          "name": "stderr",
          "text": [
            "\n",
            "  0%|          | 0/2 [00:00<?, ?it/s]\u001b[A"
          ]
        },
        {
          "output_type": "stream",
          "name": "stdout",
          "text": [
            "For state: ############ 0\n",
            "[1 2]\n",
            "For state: ############ 1\n",
            "[1 2]\n"
          ]
        },
        {
          "output_type": "stream",
          "name": "stderr",
          "text": [
            "100%|██████████| 2/2 [00:00<00:00, 40.28it/s]\n",
            "100%|██████████| 19/19 [00:01<00:00, 14.61it/s]\n"
          ]
        }
      ]
    },
    {
      "cell_type": "markdown",
      "source": [
        "**NOT APPLICABLE FOR 2D TASKS BECAUSE NO ANSWERING SO NO RADIOCLICK **"
      ],
      "metadata": {
        "id": "LYELQVNGDBHy"
      }
    }
  ],
  "metadata": {
    "colab": {
      "name": "StateActionProbab_RadioClick_Subset_Statistics_Mann_Kendall_Trend_ForeCache.ipynb",
      "provenance": [],
      "collapsed_sections": [],
      "mount_file_id": "15NnJ_Ru7E_HRKYkGgO3nu4KgJWAL63d5",
      "authorship_tag": "ABX9TyNw5mZE8iHIFEaPlNcdhsEj"
    },
    "kernelspec": {
      "display_name": "Python 3",
      "name": "python3"
    },
    "language_info": {
      "name": "python"
    }
  },
  "nbformat": 4,
  "nbformat_minor": 0
}