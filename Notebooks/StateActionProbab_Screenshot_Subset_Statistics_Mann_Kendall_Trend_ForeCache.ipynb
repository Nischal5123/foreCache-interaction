{
  "cells": [
    {
      "cell_type": "code",
      "execution_count": 1,
      "metadata": {
        "id": "3Z_4ZesOpGRO",
        "colab": {
          "base_uri": "https://localhost:8080/"
        },
        "outputId": "52718632-b2bf-4199-c3fa-f3e1070af710"
      },
      "outputs": [
        {
          "output_type": "stream",
          "name": "stderr",
          "text": [
            "/usr/local/lib/python3.7/dist-packages/statsmodels/tools/_testing.py:19: FutureWarning: pandas.util.testing is deprecated. Use the functions in the public API at pandas.testing instead.\n",
            "  import pandas.util.testing as tm\n"
          ]
        }
      ],
      "source": [
        "import pandas as pd\n",
        "import numpy as np\n",
        "import os\n",
        "from tqdm import tqdm\n",
        "from statsmodels.tsa.stattools import adfuller\n",
        "import pymannkendall as mk"
      ]
    },
    {
      "cell_type": "code",
      "source": [
        "pip install pymannkendall"
      ],
      "metadata": {
        "colab": {
          "base_uri": "https://localhost:8080/"
        },
        "id": "yrHatKk5LJUh",
        "outputId": "b28ef583-09ac-46de-8539-16ff6147e183"
      },
      "execution_count": 1,
      "outputs": [
        {
          "output_type": "stream",
          "name": "stdout",
          "text": [
            "Collecting pymannkendall\n",
            "  Downloading pymannkendall-1.4.2-py3-none-any.whl (12 kB)\n",
            "Requirement already satisfied: scipy in /usr/local/lib/python3.7/dist-packages (from pymannkendall) (1.4.1)\n",
            "Requirement already satisfied: numpy in /usr/local/lib/python3.7/dist-packages (from pymannkendall) (1.21.5)\n",
            "Installing collected packages: pymannkendall\n",
            "Successfully installed pymannkendall-1.4.2\n"
          ]
        }
      ]
    },
    {
      "cell_type": "code",
      "source": [
        "# this is implemented from STATE ACTION ANALYSIS FILE : https://colab.research.google.com/drive/1n9nJdd84etLey3piTKkRJmttpZlW1gor#scrollTo=bgGiHn-LobHm\n",
        "\n",
        "#GET ALL STATE ACTION MODEL FOR NDSI 2D AND NDSI 3D\n",
        "global_drive_path=\"/content/drive/MyDrive/ForeCache/interactions/stateActionModel/\"\n",
        "path=(str(global_drive_path) +\"/ndsi-3d\")\n",
        "fileNames_NDSI_3D=[]\n",
        "for filename in os.listdir(path):\n",
        "    if filename.endswith(\".csv\"):\n",
        "        filePath=(os.path.join(path, filename))\n",
        "        fileNames_NDSI_3D.append(filename)\n",
        "    else:\n",
        "        continue\n",
        "path=(str(global_drive_path) +\"/ndsi-2d\")\n",
        "fileNames_NDSI_2D=[]\n",
        "for filename in os.listdir(path):\n",
        "    if filename.endswith(\".csv\"):\n",
        "        filePath=(os.path.join(path, filename))\n",
        "        fileNames_NDSI_2D.append(filename)\n",
        "    else:\n",
        "        continue\n",
        "matchingName=[]\n",
        "df_twoD=[]\n",
        "df_threeD=[]\n",
        "path_twoD=(str(global_drive_path) +\"/ndsi-2d\")\n",
        "path_threeD=(str(global_drive_path) +\"/ndsi-3d\")\n",
        "for i in range(len(fileNames_NDSI_2D)):\n",
        "  for j in range(len(fileNames_NDSI_3D)):\n",
        "  # if fileNames_NDSI_2D[i].removesuffix('taskname_ndsi-2d-task_') == fileNames_NDSI_3D[i].removesuffix('taskname_ndsi-3d-task_'):\n",
        "   if fileNames_NDSI_2D[i][22:] == fileNames_NDSI_3D[j][22:]:\n",
        "      #print(os.path.join(path, str(fileNames_NDSI_2D[i])))\n",
        "      df=pd.read_csv(os.path.join(path_twoD, str(fileNames_NDSI_2D[i])),sep=',')\n",
        "      df_twoD.append(df)\n",
        "      df=pd.read_csv(os.path.join(path_threeD, str(fileNames_NDSI_3D[j])),sep=',')\n",
        "      df_threeD.append(df)\n",
        "      matchingName.append(fileNames_NDSI_2D[i])\n",
        "#STORE ALL USERS NAME\n",
        "users=[]\n",
        "for name in matchingName:\n",
        "    users.append(name[22:-4:1])"
      ],
      "metadata": {
        "id": "JGqHw-GJPIjU"
      },
      "execution_count": 2,
      "outputs": []
    },
    {
      "cell_type": "code",
      "source": [
        "class StationarityTests:\n",
        "    def __init__(self, significance=.05):\n",
        "        self.SignificanceLevel = significance\n",
        "        self.pValue = None\n",
        "        self.isStationary = None\n",
        "        self.trend= None\n",
        "\n",
        "    def ADF_Stationarity_Test(self, timeseries, printResults = True):\n",
        "      #Dickey-Fuller test:\n",
        "      adfTest = adfuller(timeseries, autolag='AIC')\n",
        "      \n",
        "      self.pValue = adfTest[1]\n",
        "      \n",
        "      if (self.pValue<self.SignificanceLevel):\n",
        "          self.isStationary = True\n",
        "      else:\n",
        "          self.isStationary = False\n",
        "      \n",
        "      if printResults:\n",
        "          dfResults = pd.Series(adfTest[0:4], index=['ADF Test Statistic','P-Value','# Lags Used','# Observations Used'])\n",
        "          #Add Critical Values\n",
        "          for key,value in adfTest[4].items():\n",
        "              dfResults['Critical Value (%s)'%key] = value\n",
        "          print('Augmented Dickey-Fuller Test Results:')\n",
        "          print(dfResults)\n",
        "    \n",
        "    def Mann_Kendall_Stationarity_Test(self, timeseries, printResults = True):\n",
        "      #Mann Kendall Trend Test:\n",
        "      mktTest = mk.original_test(timeseries)\n",
        "      \n",
        "      self.pValue = mktTest[2]\n",
        "      self.trend= mktTest[0]\n",
        "      self.isStationary = mktTest[1]\n",
        "      \n",
        "      if printResults:\n",
        "          dfResults = pd.Series(mktTest[0:3], index=['Trend Type','Stationarity','P-Value'])\n",
        "          #Add Critical Values\n",
        "          for key,value in mktTest[3].items():\n",
        "              dfResults['Critical Value (%s)'%key] = value\n",
        "          print('Mann Kendall Trend Test:')\n",
        "          print(dfResults)"
      ],
      "metadata": {
        "id": "xAQzaSSWYHWR"
      },
      "execution_count": 3,
      "outputs": []
    },
    {
      "cell_type": "code",
      "execution_count": 4,
      "metadata": {
        "id": "KwyTVSXTqAbw"
      },
      "outputs": [],
      "source": [
        "def make_numerical_dataframe(df):\n",
        "  df['State_Action']=(df['Action']+ df['State'])\n",
        " \n",
        "  df['Action']=pd.factorize(df['Action'])[0]\n",
        "  df['State']=pd.factorize(df['State'])[0]\n",
        "  state_action_correlated_series=pd.factorize(df['State_Action'])[0]\n",
        " \n",
        "  action_only_series=df['Action'].values\n",
        "  state_only_series=df['State'].values\n",
        "  options=[state_action_correlated_series,action_only_series,state_only_series]\n",
        "  return options"
      ]
    },
    {
      "cell_type": "code",
      "source": [
        "#3D Mann Kendall\n",
        "saveDir=(str(global_drive_path) +\"StationarityTests/ndsi-3d/ActionBased\")\n",
        "combined_final_dataframe_3d = pd.DataFrame(columns=['User','ActionNumber','Subtask_IdleTime','MKT Stationary_State_Action'])\n",
        "array_of_dataframes=[]\n",
        "for j in tqdm(range(len(df_threeD))):\n",
        "  \n",
        "  all_states_dataframes=[]\n",
        "  df_Navigation=df_threeD[j].loc[df_threeD[j]['State'] == 'Navigation']\n",
        "  all_states_dataframes.append(df_Navigation)\n",
        "  df_Sensemaking=df_threeD[j].loc[df_threeD[j]['State'] == 'Sensemaking']\n",
        "  all_states_dataframes.append(df_Sensemaking)\n",
        "  df_Answering=df_threeD[j].loc[df_threeD[j]['State'] == 'Answering']\n",
        "  all_states_dataframes.append(df_Answering)\n",
        "  df_Foraging=df_threeD[j].loc[df_threeD[j]['State'] == 'Foraging']\n",
        "  all_states_dataframes.append(df_Foraging)\n",
        "  print(j)\n",
        "  print(users[j])\n",
        "  #running MKT on one user after dividing data based on states\n",
        "  if (len(all_states_dataframes) == 4):\n",
        "    actiondf=Subset_screenshot_time(users[j],all_states_dataframes)\n",
        "    array_of_dataframes.append(actiondf)\n",
        "    \n",
        "  else:\n",
        "    print(\"failed for user\", user[j])\n",
        "array_of_dataframes = pd.concat(array_of_dataframes)\n",
        "userfilename= \"All Users_ScreenShot_MKT_sliding_.xlsx\"\n",
        "array_of_dataframes.to_excel(os.path.join(saveDir,userfilename), index=False)\n",
        "   "
      ],
      "metadata": {
        "colab": {
          "base_uri": "https://localhost:8080/"
        },
        "id": "yZ6TgxZruBie",
        "outputId": "fe7da4a1-d2a2-4030-e78b-eae306e455f1"
      },
      "execution_count": 7,
      "outputs": [
        {
          "output_type": "stream",
          "name": "stderr",
          "text": [
            "\r  0%|          | 0/19 [00:00<?, ?it/s]"
          ]
        },
        {
          "output_type": "stream",
          "name": "stdout",
          "text": [
            "0\n",
            "userid_82316e37-1117-4663-84b4-ddb6455c83b2\n"
          ]
        },
        {
          "output_type": "stream",
          "name": "stderr",
          "text": [
            "\n",
            "100%|██████████| 4/4 [00:00<00:00, 65.57it/s]\n"
          ]
        },
        {
          "output_type": "stream",
          "name": "stdout",
          "text": [
            "For action: ############ 0\n",
            "[1]\n",
            "For action: ############ 1\n",
            "[1 2 3]\n",
            "For action: ############ 2\n",
            "[1 3]\n",
            "For action: ############ 3\n",
            "[1]\n",
            "1\n",
            "userid_d6555293-35c7-4c27-b522-38d67d2d1b1a\n"
          ]
        },
        {
          "output_type": "stream",
          "name": "stderr",
          "text": [
            "\n",
            "100%|██████████| 4/4 [00:00<00:00, 58.16it/s]\n",
            " 11%|█         | 2/19 [00:00<00:01, 11.43it/s]"
          ]
        },
        {
          "output_type": "stream",
          "name": "stdout",
          "text": [
            "For action: ############ 0\n",
            "[1 2]\n",
            "For action: ############ 1\n",
            "[1 2]\n",
            "For action: ############ 2\n",
            "[1 2]\n",
            "For action: ############ 3\n",
            "[1 2]\n",
            "2\n",
            "userid_bda49380-37ad-41c5-a109-7fa198a7691a\n"
          ]
        },
        {
          "output_type": "stream",
          "name": "stderr",
          "text": [
            "\n",
            "  0%|          | 0/4 [00:00<?, ?it/s]\u001b[A"
          ]
        },
        {
          "output_type": "stream",
          "name": "stdout",
          "text": [
            "For action: ############ 0\n",
            "[1]\n",
            "For action: ############ 1\n",
            "[1 2]\n"
          ]
        },
        {
          "output_type": "stream",
          "name": "stderr",
          "text": [
            "\r100%|██████████| 4/4 [00:00<00:00, 90.47it/s]\n"
          ]
        },
        {
          "output_type": "stream",
          "name": "stdout",
          "text": [
            "For action: ############ 2\n",
            "[1]\n",
            "For action: ############ 3\n",
            "[1]\n",
            "3\n",
            "userid_da52acdd-3cea-483c-86e5-2c2740d371aa\n"
          ]
        },
        {
          "output_type": "stream",
          "name": "stderr",
          "text": [
            "\n",
            "  0%|          | 0/4 [00:00<?, ?it/s]\u001b[A"
          ]
        },
        {
          "output_type": "stream",
          "name": "stdout",
          "text": [
            "For action: ############ 0\n",
            "[1]\n",
            "For action: ############ 1\n",
            "[1 2]\n"
          ]
        },
        {
          "output_type": "stream",
          "name": "stderr",
          "text": [
            "100%|██████████| 4/4 [00:00<00:00, 63.50it/s]\n",
            " 21%|██        | 4/19 [00:00<00:01, 11.50it/s]"
          ]
        },
        {
          "output_type": "stream",
          "name": "stdout",
          "text": [
            "For action: ############ 2\n",
            "[1]\n",
            "For action: ############ 3\n",
            "[1]\n",
            "4\n",
            "userid_3abeecbe-327a-441e-be2a-0dd3763c1d45\n"
          ]
        },
        {
          "output_type": "stream",
          "name": "stderr",
          "text": [
            "\n",
            "100%|██████████| 4/4 [00:00<00:00, 64.71it/s]"
          ]
        },
        {
          "output_type": "stream",
          "name": "stdout",
          "text": [
            "For action: ############ 0\n",
            "[1]\n",
            "For action: ############ 1\n",
            "[1 2]\n",
            "For action: ############ 2\n",
            "[1]\n",
            "For action: ############ 3\n",
            "[1]\n"
          ]
        },
        {
          "output_type": "stream",
          "name": "stderr",
          "text": [
            "\n"
          ]
        },
        {
          "output_type": "stream",
          "name": "stdout",
          "text": [
            "5\n",
            "userid_ac5b65d7-f260-4534-9fae-d998b726ed32\n"
          ]
        },
        {
          "output_type": "stream",
          "name": "stderr",
          "text": [
            "\n",
            "  0%|          | 0/4 [00:00<?, ?it/s]\u001b[A"
          ]
        },
        {
          "output_type": "stream",
          "name": "stdout",
          "text": [
            "For action: ############ 0\n",
            "[1 3]\n",
            "For action: ############ 1\n",
            "[1 2 3]\n"
          ]
        },
        {
          "output_type": "stream",
          "name": "stderr",
          "text": [
            "100%|██████████| 4/4 [00:00<00:00, 59.92it/s]\n",
            " 32%|███▏      | 6/19 [00:00<00:01, 11.34it/s]"
          ]
        },
        {
          "output_type": "stream",
          "name": "stdout",
          "text": [
            "For action: ############ 2\n",
            "[1 3]\n",
            "For action: ############ 3\n",
            "[1]\n",
            "6\n",
            "userid_ff56863b-0710-4a58-ad22-4bf2889c9bc0\n"
          ]
        },
        {
          "output_type": "stream",
          "name": "stderr",
          "text": [
            "\n",
            "  0%|          | 0/4 [00:00<?, ?it/s]\u001b[A"
          ]
        },
        {
          "output_type": "stream",
          "name": "stdout",
          "text": [
            "For action: ############ 0\n",
            "[1 3]\n",
            "For action: ############"
          ]
        },
        {
          "output_type": "stream",
          "name": "stderr",
          "text": [
            "\r100%|██████████| 4/4 [00:00<00:00, 51.10it/s]"
          ]
        },
        {
          "output_type": "stream",
          "name": "stdout",
          "text": [
            " 1\n",
            "[1 2 3]\n",
            "For action: ############ 2\n",
            "[3]\n",
            "For action: ############ 3\n",
            "[1]\n"
          ]
        },
        {
          "output_type": "stream",
          "name": "stderr",
          "text": [
            "\n"
          ]
        },
        {
          "output_type": "stream",
          "name": "stdout",
          "text": [
            "7\n",
            "userid_bc9f9425-e867-4876-a5d9-791229916767\n"
          ]
        },
        {
          "output_type": "stream",
          "name": "stderr",
          "text": [
            "\n",
            "  0%|          | 0/4 [00:00<?, ?it/s]\u001b[A"
          ]
        },
        {
          "output_type": "stream",
          "name": "stdout",
          "text": [
            "For action: ############ 0\n",
            "[1]\n",
            "For action: ############ 1\n",
            "[1 2]\n",
            "For action: ############ 2"
          ]
        },
        {
          "output_type": "stream",
          "name": "stderr",
          "text": [
            "100%|██████████| 4/4 [00:00<00:00, 80.84it/s]\n",
            " 42%|████▏     | 8/19 [00:00<00:00, 11.10it/s]"
          ]
        },
        {
          "output_type": "stream",
          "name": "stdout",
          "text": [
            "\n",
            "[1]\n",
            "For action: ############ 3\n",
            "[1]\n",
            "8\n",
            "userid_8bf5b71b-dfd4-403f-8791-06427b26ccaf\n"
          ]
        },
        {
          "output_type": "stream",
          "name": "stderr",
          "text": [
            "\n",
            "  0%|          | 0/4 [00:00<?, ?it/s]\u001b[A"
          ]
        },
        {
          "output_type": "stream",
          "name": "stdout",
          "text": [
            "For action: ############ 0\n",
            "[1]\n",
            "For action: ############ 1\n",
            "[1 2 3]\n"
          ]
        },
        {
          "output_type": "stream",
          "name": "stderr",
          "text": [
            "\r100%|██████████| 4/4 [00:00<00:00, 65.24it/s]\n"
          ]
        },
        {
          "output_type": "stream",
          "name": "stdout",
          "text": [
            "For action: ############ 2\n",
            "[1]\n",
            "For action: ############ 3\n",
            "[1]\n",
            "9\n",
            "userid_7d014c75-453b-4188-9e4e-fb086984896a\n"
          ]
        },
        {
          "output_type": "stream",
          "name": "stderr",
          "text": [
            "\n",
            "100%|██████████| 4/4 [00:00<00:00, 71.31it/s]"
          ]
        },
        {
          "output_type": "stream",
          "name": "stdout",
          "text": [
            "For action: ############ 0\n",
            "[1]\n",
            "For action: ############ 1\n",
            "[1 2]\n",
            "For action: ############ 2\n",
            "[1]\n",
            "For action: ############ 3\n",
            "[1]\n"
          ]
        },
        {
          "output_type": "stream",
          "name": "stderr",
          "text": [
            "\n",
            "\r 53%|█████▎    | 10/19 [00:00<00:00, 10.89it/s]"
          ]
        },
        {
          "output_type": "stream",
          "name": "stdout",
          "text": [
            "10\n",
            "userid_6d49fab8-273b-4a91-948b-ecd14556b049\n"
          ]
        },
        {
          "output_type": "stream",
          "name": "stderr",
          "text": [
            "\n",
            "  0%|          | 0/4 [00:00<?, ?it/s]\u001b[A"
          ]
        },
        {
          "output_type": "stream",
          "name": "stdout",
          "text": [
            "For action: ############ 0\n",
            "[1]\n",
            "For action: ############ 1\n",
            "[1 2]\n"
          ]
        },
        {
          "output_type": "stream",
          "name": "stderr",
          "text": [
            "\r100%|██████████| 4/4 [00:00<00:00, 62.97it/s]"
          ]
        },
        {
          "output_type": "stream",
          "name": "stdout",
          "text": [
            "For action: ############ 2\n",
            "[1]\n",
            "For action: ############ 3\n",
            "[1]\n",
            "11\n",
            "userid_733a1ac5-0b01-485e-9b29-ac33932aa240\n"
          ]
        },
        {
          "output_type": "stream",
          "name": "stderr",
          "text": [
            "\n",
            "\n",
            "100%|██████████| 4/4 [00:00<00:00, 96.96it/s]\n",
            " 63%|██████▎   | 12/19 [00:01<00:00, 11.71it/s]"
          ]
        },
        {
          "output_type": "stream",
          "name": "stdout",
          "text": [
            "For action: ############ 0\n",
            "[1]\n",
            "For action: ############ 1\n",
            "[1 2]\n",
            "For action: ############ 2\n",
            "[1]\n",
            "For action: ############ 3\n",
            "[1]\n",
            "12\n",
            "userid_954edb7c-4eae-47ab-9338-5c5c7eccac2d\n"
          ]
        },
        {
          "output_type": "stream",
          "name": "stderr",
          "text": [
            "\n",
            "  0%|          | 0/4 [00:00<?, ?it/s]\u001b[A"
          ]
        },
        {
          "output_type": "stream",
          "name": "stdout",
          "text": [
            "For action: ############ 0\n",
            "[1 3]\n",
            "For action: ############ 1\n",
            "[1 2]\n",
            "For action: ############ 2\n",
            "[3]\n",
            "For action: ############ 3\n",
            "[1 3]\n"
          ]
        },
        {
          "output_type": "stream",
          "name": "stderr",
          "text": [
            "\n",
            "100%|██████████| 4/4 [00:00<00:00, 30.61it/s]\n"
          ]
        },
        {
          "output_type": "stream",
          "name": "stdout",
          "text": [
            "13\n",
            "userid_cd3ef507-e3e9-4edb-9222-90a69a9bf272\n"
          ]
        },
        {
          "output_type": "stream",
          "name": "stderr",
          "text": [
            "\n",
            "  0%|          | 0/4 [00:00<?, ?it/s]\u001b[A"
          ]
        },
        {
          "output_type": "stream",
          "name": "stdout",
          "text": [
            "For action: ############ 0\n",
            "[1]\n",
            "For action: ############ 1\n",
            "[1 2]\n",
            "For action: ############ 2\n",
            "[1]\n",
            "For action: ############ 3\n",
            "[1]\n"
          ]
        },
        {
          "output_type": "stream",
          "name": "stderr",
          "text": [
            "100%|██████████| 4/4 [00:00<00:00, 47.28it/s]\n",
            " 74%|███████▎  | 14/19 [00:01<00:00,  9.59it/s]"
          ]
        },
        {
          "output_type": "stream",
          "name": "stdout",
          "text": [
            "14\n",
            "userid_44968286-f204-4ad6-a9b5-d95b38e97866\n"
          ]
        },
        {
          "output_type": "stream",
          "name": "stderr",
          "text": [
            "\n",
            "  0%|          | 0/4 [00:00<?, ?it/s]\u001b[A"
          ]
        },
        {
          "output_type": "stream",
          "name": "stdout",
          "text": [
            "For action: ############ 0\n",
            "[1 3]\n",
            "For action: ############ 1\n",
            "[1 2]\n",
            "For action: ############ 2\n",
            "[1 3]\n"
          ]
        },
        {
          "output_type": "stream",
          "name": "stderr",
          "text": [
            "\n",
            "100%|██████████| 4/4 [00:00<00:00, 38.13it/s]"
          ]
        },
        {
          "output_type": "stream",
          "name": "stdout",
          "text": [
            "For action: ############ 3\n",
            "[1 3]\n"
          ]
        },
        {
          "output_type": "stream",
          "name": "stderr",
          "text": [
            "100%|██████████| 4/4 [00:00<00:00, 30.37it/s]\n"
          ]
        },
        {
          "output_type": "stream",
          "name": "stdout",
          "text": [
            "15\n",
            "userid_8b544d24-3274-4bb0-9719-fd2bccc87b02\n"
          ]
        },
        {
          "output_type": "stream",
          "name": "stderr",
          "text": [
            "\n",
            "  0%|          | 0/4 [00:00<?, ?it/s]\u001b[A"
          ]
        },
        {
          "output_type": "stream",
          "name": "stdout",
          "text": [
            "For action: ############ 0\n",
            "[1 3]\n",
            "For action: ############ 1\n",
            "[1 2 3]\n",
            "For action: ############ 2\n",
            "[3]\n",
            "For action: ############ 3\n",
            "[1]\n"
          ]
        },
        {
          "output_type": "stream",
          "name": "stderr",
          "text": [
            "100%|██████████| 4/4 [00:00<00:00, 44.95it/s]\n",
            " 84%|████████▍ | 16/19 [00:01<00:00,  7.95it/s]"
          ]
        },
        {
          "output_type": "stream",
          "name": "stdout",
          "text": [
            "16\n",
            "userid_e4221e48-0930-40db-af3c-f4de1ed87582\n"
          ]
        },
        {
          "output_type": "stream",
          "name": "stderr",
          "text": [
            "\n",
            "  0%|          | 0/4 [00:00<?, ?it/s]\u001b[A"
          ]
        },
        {
          "output_type": "stream",
          "name": "stdout",
          "text": [
            "For action: ############ 0\n",
            "[1 4]\n",
            "For action: ############"
          ]
        },
        {
          "output_type": "stream",
          "name": "stderr",
          "text": [
            "\n",
            " 75%|███████▌  | 3/4 [00:00<00:00, 28.24it/s]\u001b[A"
          ]
        },
        {
          "output_type": "stream",
          "name": "stdout",
          "text": [
            " 1\n",
            "[1 2 3]\n",
            "For action: ############ 2\n",
            "[1 4]\n"
          ]
        },
        {
          "output_type": "stream",
          "name": "stderr",
          "text": [
            "100%|██████████| 4/4 [00:00<00:00, 29.62it/s]\n",
            " 89%|████████▉ | 17/19 [00:01<00:00,  7.28it/s]"
          ]
        },
        {
          "output_type": "stream",
          "name": "stdout",
          "text": [
            "For action: ############ 3\n",
            "[1 4]\n",
            "17\n",
            "userid_a6aab5f5-fdb6-41df-9fc6-221d70f8c6e8\n"
          ]
        },
        {
          "output_type": "stream",
          "name": "stderr",
          "text": [
            "\n",
            "  0%|          | 0/4 [00:00<?, ?it/s]\u001b[A"
          ]
        },
        {
          "output_type": "stream",
          "name": "stdout",
          "text": [
            "For action: ############ 0\n",
            "[1]\n"
          ]
        },
        {
          "output_type": "stream",
          "name": "stderr",
          "text": [
            "\r100%|██████████| 4/4 [00:00<00:00, 76.13it/s]"
          ]
        },
        {
          "output_type": "stream",
          "name": "stdout",
          "text": [
            "For action: ############ 1\n",
            "[1 2]\n",
            "For action: ############ 2\n",
            "[1]\n",
            "For action: ############ 3\n",
            "[1]\n",
            "18"
          ]
        },
        {
          "output_type": "stream",
          "name": "stderr",
          "text": [
            "\n"
          ]
        },
        {
          "output_type": "stream",
          "name": "stdout",
          "text": [
            "\n",
            "userid_93be0a02-3f7a-46c9-b526-aa956ed00856\n"
          ]
        },
        {
          "output_type": "stream",
          "name": "stderr",
          "text": [
            "\n",
            "  0%|          | 0/4 [00:00<?, ?it/s]\u001b[A"
          ]
        },
        {
          "output_type": "stream",
          "name": "stdout",
          "text": [
            "For action: ############ 0\n",
            "[1]\n",
            "For action: ############ 1\n",
            "[1 2 3 4 5]\n"
          ]
        },
        {
          "output_type": "stream",
          "name": "stderr",
          "text": [
            "100%|██████████| 4/4 [00:00<00:00, 48.05it/s]\n",
            "100%|██████████| 19/19 [00:02<00:00,  9.19it/s]"
          ]
        },
        {
          "output_type": "stream",
          "name": "stdout",
          "text": [
            "For action: ############ 2\n",
            "[1 3 4]\n",
            "For action: ############ 3\n",
            "[1]\n"
          ]
        },
        {
          "output_type": "stream",
          "name": "stderr",
          "text": [
            "\n"
          ]
        }
      ]
    },
    {
      "cell_type": "code",
      "source": [
        "\n",
        "#3D Mann Kendall\n",
        "def Subset_screenshot_time(user,all_states_dataframe):\n",
        "  failed_files=[]\n",
        "  final_dataframe_3d = pd.DataFrame(columns=['User','ActionNumber','Subtask_Screenshot_Time','MKT Stationary_State_Action'])\n",
        "  for i in tqdm(range(len(all_states_dataframe))):\n",
        "    subtask=0\n",
        "    length_parsedFile=0\n",
        "    print(\"For action: ############\",i)\n",
        "\n",
        "    window_dataframe=all_states_dataframe[i]\n",
        "\n",
        "    subtask_values=window_dataframe[\"Subtask_Screenshot_Time\"].unique()\n",
        "    print(subtask_values)\n",
        "    original_fileLength=len(window_dataframe)\n",
        "\n",
        "    while ((length_parsedFile < original_fileLength) and (subtask <= len(subtask_values))):\n",
        "      \n",
        "      window_dataframe_subset=window_dataframe.loc[window_dataframe['Subtask_Screenshot_Time'] == subtask_values[subtask]]\n",
        "      length_parsedFile+=len(window_dataframe_subset)\n",
        "      #print(\"Length of file\",len(window_dataframe_subset), \" in \",\"Subtask: \",subtask_values[subtask])\n",
        "      #creating series\n",
        "      state_action_correlated_series=window_dataframe_subset['StateActionProbab'].values\n",
        "\n",
        "      three_series=[state_action_correlated_series]\n",
        "      three_series_results=[user,i,subtask_values[subtask]]\n",
        "      for series in (three_series):\n",
        "        if len(series)>2:\n",
        "          sTest_state = StationarityTests()\n",
        "          sTest_state.Mann_Kendall_Stationarity_Test(series, printResults = False)\n",
        "          three_series_results.append(sTest_state.trend)\n",
        "          \n",
        "        else:\n",
        "          three_series_results.append(\"Not Enough Data\")\n",
        "          failed_files.append(user)\n",
        "      #adding results per subtask per user to dataframe\n",
        "      df_length = len(final_dataframe_3d)\n",
        "      final_dataframe_3d.loc[df_length] = three_series_results\n",
        "      subtask +=1\n",
        "  return final_dataframe_3d\n",
        "    "
      ],
      "metadata": {
        "id": "Nz77xFVOSfh3"
      },
      "execution_count": 6,
      "outputs": []
    },
    {
      "cell_type": "code",
      "source": [
        "failed_files"
      ],
      "metadata": {
        "colab": {
          "base_uri": "https://localhost:8080/"
        },
        "id": "E_qnn5cno1Nh",
        "outputId": "1df30efb-28b0-4b42-c0bb-c672322adfec"
      },
      "execution_count": null,
      "outputs": [
        {
          "output_type": "execute_result",
          "data": {
            "text/plain": [
              "['userid_bda49380-37ad-41c5-a109-7fa198a7691a',\n",
              " 'userid_da52acdd-3cea-483c-86e5-2c2740d371aa',\n",
              " 'userid_3abeecbe-327a-441e-be2a-0dd3763c1d45',\n",
              " 'userid_ac5b65d7-f260-4534-9fae-d998b726ed32',\n",
              " 'userid_bc9f9425-e867-4876-a5d9-791229916767',\n",
              " 'userid_8bf5b71b-dfd4-403f-8791-06427b26ccaf',\n",
              " 'userid_6d49fab8-273b-4a91-948b-ecd14556b049',\n",
              " 'userid_733a1ac5-0b01-485e-9b29-ac33932aa240',\n",
              " 'userid_954edb7c-4eae-47ab-9338-5c5c7eccac2d',\n",
              " 'userid_cd3ef507-e3e9-4edb-9222-90a69a9bf272',\n",
              " 'userid_44968286-f204-4ad6-a9b5-d95b38e97866',\n",
              " 'userid_a6aab5f5-fdb6-41df-9fc6-221d70f8c6e8']"
            ]
          },
          "metadata": {},
          "execution_count": 8
        }
      ]
    },
    {
      "cell_type": "code",
      "source": [
        "#2D Mann Kendall\n",
        "saveDir=(str(global_drive_path) +\"StationarityTests/ndsi-2d/MKT_Sliding\")\n",
        "failed_files=[]\n",
        "for i in tqdm(range(len(df_twoD))):\n",
        "  final_dataframe_3d = pd.DataFrame(columns=['User','MKT Stationary_State_Action'])\n",
        "  subtask=0\n",
        "  length_parsedFile=0\n",
        "\n",
        "\n",
        "  window_dataframe=(df_twoD[i])\n",
        "  window_dataframe['State_Action']=(window_dataframe['Action']+ window_dataframe['State'])\n",
        "  window_dataframe['Action']=pd.factorize(window_dataframe['Action'])[0]\n",
        "  window_dataframe['State']=pd.factorize(window_dataframe['State'])[0]\n",
        "  window_dataframe['State_Action']=pd.factorize(window_dataframe['State_Action'])[0]\n",
        "  subtask_values=window_dataframe[\"Subtask\"].unique()\n",
        "  original_fileLength=len(window_dataframe)\n",
        "\n",
        "  print(\"Starting for user\", users[i])\n",
        "  while ((length_parsedFile < original_fileLength) and (subtask <= len(subtask_values))):\n",
        "    \n",
        "    window_dataframe_subset=window_dataframe.loc[window_dataframe['Subtask'] == subtask_values[subtask]]\n",
        "    length_parsedFile+=len(window_dataframe_subset)\n",
        "    print(\"Length of file\",len(window_dataframe_subset), \" in \",\"Subtask: \",subtask_values[subtask])\n",
        "    #creating series\n",
        "    state_action_correlated_series=window_dataframe_subset['State_Action'].values\n",
        "    # action_only_series=window_dataframe_subset['Action'].values\n",
        "    # state_only_series=window_dataframe_subset['State'].values\n",
        "    three_series=[state_action_correlated_series]\n",
        "    three_series_results=[subtask_values[subtask]]\n",
        "    for series in (three_series):\n",
        "      if len(series)>2:\n",
        "        sTest_state = StationarityTests()\n",
        "        sTest_state.Mann_Kendall_Stationarity_Test(series, printResults = False)\n",
        "        three_series_results.append(sTest_state.trend)\n",
        "        \n",
        "      else:\n",
        "        three_series_results.append(\"Not Enough Data\")\n",
        "        print(\"Failed for user\", users[i])\n",
        "        failed_files.append(users[i])\n",
        "    df_length = len(final_dataframe_3d)\n",
        "    final_dataframe_3d.loc[df_length] = three_series_results\n",
        "    userfilename= str(users[i]) + \"MKT_sliding.csv\"\n",
        "    final_dataframe_3d.to_csv(os.path.join(saveDir,userfilename), index=False)\n",
        "    subtask +=1\n",
        "    "
      ],
      "metadata": {
        "colab": {
          "base_uri": "https://localhost:8080/"
        },
        "id": "cfu9caJPX51L",
        "outputId": "99140031-06c7-403f-b1d8-acb31f6bee70"
      },
      "execution_count": null,
      "outputs": [
        {
          "output_type": "stream",
          "name": "stderr",
          "text": [
            "\r  0%|          | 0/19 [00:00<?, ?it/s]"
          ]
        },
        {
          "output_type": "stream",
          "name": "stdout",
          "text": [
            "Starting for user userid_ac5b65d7-f260-4534-9fae-d998b726ed32\n",
            "Length of file 42  in  Subtask:  1\n"
          ]
        },
        {
          "output_type": "stream",
          "name": "stderr",
          "text": [
            "\r  5%|▌         | 1/19 [00:00<00:15,  1.14it/s]"
          ]
        },
        {
          "output_type": "stream",
          "name": "stdout",
          "text": [
            "Length of file 51  in  Subtask:  2\n",
            "Length of file 19  in  Subtask:  3\n",
            "Starting for user userid_82316e37-1117-4663-84b4-ddb6455c83b2\n",
            "Length of file 11  in  Subtask:  1\n"
          ]
        },
        {
          "output_type": "stream",
          "name": "stderr",
          "text": [
            "\r 11%|█         | 2/19 [00:01<00:10,  1.58it/s]"
          ]
        },
        {
          "output_type": "stream",
          "name": "stdout",
          "text": [
            "Length of file 17  in  Subtask:  2\n",
            "Length of file 21  in  Subtask:  3\n",
            "Starting for user userid_da52acdd-3cea-483c-86e5-2c2740d371aa\n",
            "Length of file 57  in  Subtask:  1\n"
          ]
        },
        {
          "output_type": "stream",
          "name": "stderr",
          "text": [
            "\r 16%|█▌        | 3/19 [00:01<00:08,  1.85it/s]"
          ]
        },
        {
          "output_type": "stream",
          "name": "stdout",
          "text": [
            "Length of file 26  in  Subtask:  2\n",
            "Length of file 28  in  Subtask:  3\n",
            "Length of file 4  in  Subtask:  4\n",
            "Length of file 10  in  Subtask:  5\n",
            "Starting for user userid_ff56863b-0710-4a58-ad22-4bf2889c9bc0\n",
            "Length of file 91  in  Subtask:  1\n"
          ]
        },
        {
          "output_type": "stream",
          "name": "stderr",
          "text": [
            "\r 21%|██        | 4/19 [00:02<00:07,  2.12it/s]"
          ]
        },
        {
          "output_type": "stream",
          "name": "stdout",
          "text": [
            "Length of file 30  in  Subtask:  2\n",
            "Length of file 55  in  Subtask:  3\n",
            "Starting for user userid_d6555293-35c7-4c27-b522-38d67d2d1b1a\n",
            "Length of file 33  in  Subtask:  1\n"
          ]
        },
        {
          "output_type": "stream",
          "name": "stderr",
          "text": [
            "\r 26%|██▋       | 5/19 [00:02<00:06,  2.31it/s]"
          ]
        },
        {
          "output_type": "stream",
          "name": "stdout",
          "text": [
            "Length of file 11  in  Subtask:  2\n",
            "Length of file 38  in  Subtask:  3\n",
            "Starting for user userid_bc9f9425-e867-4876-a5d9-791229916767\n",
            "Length of file 13  in  Subtask:  1\n"
          ]
        },
        {
          "output_type": "stream",
          "name": "stderr",
          "text": [
            "\r 32%|███▏      | 6/19 [00:02<00:05,  2.41it/s]"
          ]
        },
        {
          "output_type": "stream",
          "name": "stdout",
          "text": [
            "Length of file 1  in  Subtask:  2\n",
            "Failed for user userid_bc9f9425-e867-4876-a5d9-791229916767\n",
            "Length of file 18  in  Subtask:  3\n",
            "Length of file 13  in  Subtask:  4\n",
            "Starting for user userid_bda49380-37ad-41c5-a109-7fa198a7691a\n",
            "Length of file 39  in  Subtask:  1\n"
          ]
        },
        {
          "output_type": "stream",
          "name": "stderr",
          "text": [
            "\r 37%|███▋      | 7/19 [00:03<00:05,  2.38it/s]"
          ]
        },
        {
          "output_type": "stream",
          "name": "stdout",
          "text": [
            "Length of file 27  in  Subtask:  2\n",
            "Length of file 27  in  Subtask:  3\n",
            "Length of file 36  in  Subtask:  4\n",
            "Starting for user userid_7d014c75-453b-4188-9e4e-fb086984896a\n",
            "Length of file 36  in  Subtask:  1\n"
          ]
        },
        {
          "output_type": "stream",
          "name": "stderr",
          "text": [
            "\r 42%|████▏     | 8/19 [00:03<00:04,  2.40it/s]"
          ]
        },
        {
          "output_type": "stream",
          "name": "stdout",
          "text": [
            "Length of file 143  in  Subtask:  2\n",
            "Length of file 12  in  Subtask:  3\n",
            "Length of file 4  in  Subtask:  4\n",
            "Starting for user userid_8bf5b71b-dfd4-403f-8791-06427b26ccaf\n",
            "Length of file 45  in  Subtask:  1\n"
          ]
        },
        {
          "output_type": "stream",
          "name": "stderr",
          "text": [
            "\r 47%|████▋     | 9/19 [00:04<00:04,  2.41it/s]"
          ]
        },
        {
          "output_type": "stream",
          "name": "stdout",
          "text": [
            "Length of file 25  in  Subtask:  2\n",
            "Length of file 11  in  Subtask:  3\n",
            "Starting for user userid_cd3ef507-e3e9-4edb-9222-90a69a9bf272\n",
            "Length of file 27  in  Subtask:  1\n"
          ]
        },
        {
          "output_type": "stream",
          "name": "stderr",
          "text": [
            "\r 53%|█████▎    | 10/19 [00:04<00:03,  2.39it/s]"
          ]
        },
        {
          "output_type": "stream",
          "name": "stdout",
          "text": [
            "Length of file 17  in  Subtask:  2\n",
            "Length of file 22  in  Subtask:  3\n",
            "Starting for user userid_3abeecbe-327a-441e-be2a-0dd3763c1d45\n",
            "Length of file 27  in  Subtask:  1\n",
            "Length of file 1  in  Subtask:  2\n",
            "Failed for user userid_3abeecbe-327a-441e-be2a-0dd3763c1d45\n",
            "Length of file 9  in  Subtask:  3\n",
            "Starting for user userid_93be0a02-3f7a-46c9-b526-aa956ed00856\n",
            "Length of file 28  in  Subtask:  1\n"
          ]
        },
        {
          "output_type": "stream",
          "name": "stderr",
          "text": [
            "\r 63%|██████▎   | 12/19 [00:04<00:02,  3.09it/s]"
          ]
        },
        {
          "output_type": "stream",
          "name": "stdout",
          "text": [
            "Length of file 38  in  Subtask:  2\n",
            "Length of file 64  in  Subtask:  3\n",
            "Starting for user userid_e4221e48-0930-40db-af3c-f4de1ed87582\n",
            "Length of file 14  in  Subtask:  1\n"
          ]
        },
        {
          "output_type": "stream",
          "name": "stderr",
          "text": [
            "\r 68%|██████▊   | 13/19 [00:05<00:02,  2.81it/s]"
          ]
        },
        {
          "output_type": "stream",
          "name": "stdout",
          "text": [
            "Length of file 1  in  Subtask:  2\n",
            "Failed for user userid_e4221e48-0930-40db-af3c-f4de1ed87582\n",
            "Length of file 14  in  Subtask:  3\n",
            "Length of file 18  in  Subtask:  4\n",
            "Starting for user userid_6d49fab8-273b-4a91-948b-ecd14556b049\n",
            "Length of file 16  in  Subtask:  1\n"
          ]
        },
        {
          "output_type": "stream",
          "name": "stderr",
          "text": [
            "\r 74%|███████▎  | 14/19 [00:05<00:01,  2.55it/s]"
          ]
        },
        {
          "output_type": "stream",
          "name": "stdout",
          "text": [
            "Length of file 20  in  Subtask:  2\n",
            "Length of file 35  in  Subtask:  3\n",
            "Length of file 5  in  Subtask:  4\n",
            "Starting for user userid_733a1ac5-0b01-485e-9b29-ac33932aa240\n",
            "Length of file 14  in  Subtask:  1\n"
          ]
        },
        {
          "output_type": "stream",
          "name": "stderr",
          "text": [
            "\r 79%|███████▉  | 15/19 [00:06<00:01,  2.46it/s]"
          ]
        },
        {
          "output_type": "stream",
          "name": "stdout",
          "text": [
            "Length of file 5  in  Subtask:  2\n",
            "Length of file 24  in  Subtask:  3\n",
            "Starting for user userid_a6aab5f5-fdb6-41df-9fc6-221d70f8c6e8\n",
            "Length of file 37  in  Subtask:  1\n"
          ]
        },
        {
          "output_type": "stream",
          "name": "stderr",
          "text": [
            "\r 84%|████████▍ | 16/19 [00:06<00:01,  2.41it/s]"
          ]
        },
        {
          "output_type": "stream",
          "name": "stdout",
          "text": [
            "Length of file 13  in  Subtask:  2\n",
            "Length of file 10  in  Subtask:  3\n",
            "Starting for user userid_44968286-f204-4ad6-a9b5-d95b38e97866\n",
            "Length of file 23  in  Subtask:  1\n",
            "Length of file 56  in  Subtask:  2\n",
            "Length of file 3  in  Subtask:  3\n",
            "Length of file 5  in  Subtask:  4\n",
            "Starting for user userid_954edb7c-4eae-47ab-9338-5c5c7eccac2d\n",
            "Length of file 22  in  Subtask:  1\n"
          ]
        },
        {
          "output_type": "stream",
          "name": "stderr",
          "text": [
            "\r 95%|█████████▍| 18/19 [00:07<00:00,  2.88it/s]"
          ]
        },
        {
          "output_type": "stream",
          "name": "stdout",
          "text": [
            "Length of file 17  in  Subtask:  2\n",
            "Length of file 10  in  Subtask:  3\n",
            "Length of file 10  in  Subtask:  4\n",
            "Starting for user userid_8b544d24-3274-4bb0-9719-fd2bccc87b02\n",
            "Length of file 22  in  Subtask:  1\n"
          ]
        },
        {
          "output_type": "stream",
          "name": "stderr",
          "text": [
            "100%|██████████| 19/19 [00:07<00:00,  2.44it/s]"
          ]
        },
        {
          "output_type": "stream",
          "name": "stdout",
          "text": [
            "Length of file 35  in  Subtask:  2\n",
            "Length of file 2  in  Subtask:  3\n",
            "Failed for user userid_8b544d24-3274-4bb0-9719-fd2bccc87b02\n",
            "Length of file 15  in  Subtask:  4\n"
          ]
        },
        {
          "output_type": "stream",
          "name": "stderr",
          "text": [
            "\n"
          ]
        }
      ]
    },
    {
      "cell_type": "code",
      "source": [
        "failed_files"
      ],
      "metadata": {
        "colab": {
          "base_uri": "https://localhost:8080/"
        },
        "id": "hThQgEl7_m5m",
        "outputId": "e9b68689-93f7-48b1-b3a9-cf850edf6f98"
      },
      "execution_count": null,
      "outputs": [
        {
          "output_type": "execute_result",
          "data": {
            "text/plain": [
              "['userid_bc9f9425-e867-4876-a5d9-791229916767',\n",
              " 'userid_3abeecbe-327a-441e-be2a-0dd3763c1d45',\n",
              " 'userid_e4221e48-0930-40db-af3c-f4de1ed87582',\n",
              " 'userid_8b544d24-3274-4bb0-9719-fd2bccc87b02']"
            ]
          },
          "metadata": {},
          "execution_count": 71
        }
      ]
    }
  ],
  "metadata": {
    "colab": {
      "name": "StateActionProbab_Screenshot_Subset_Statistics_Mann_Kendall_Trend_ForeCache.ipynb",
      "provenance": [],
      "collapsed_sections": [],
      "mount_file_id": "1kEqJC-F0JJfMqHgj-5faON28s4bZ4z5V",
      "authorship_tag": "ABX9TyNx/u2fhCzW60V7iVkilMlk"
    },
    "kernelspec": {
      "display_name": "Python 3",
      "name": "python3"
    },
    "language_info": {
      "name": "python"
    }
  },
  "nbformat": 4,
  "nbformat_minor": 0
}