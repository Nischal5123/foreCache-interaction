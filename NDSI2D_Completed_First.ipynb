{
  "cells": [
    {
      "cell_type": "code",
      "execution_count": null,
      "metadata": {
        "id": "mSNQnD5v9k8M"
      },
      "outputs": [],
      "source": [
        "import pandas as pd\n",
        "import os\n",
        "import seaborn as sns\n",
        "import matplotlib.pyplot as plt"
      ]
    },
    {
      "cell_type": "code",
      "execution_count": null,
      "metadata": {
        "id": "fE3qi718U_VZ"
      },
      "outputs": [],
      "source": [
        "#global path\n",
        "global_drive_path=\"/content/drive/MyDrive/ForeCache/interactions/stateActionModel/\"\n",
        "    \n",
        "          "
      ]
    },
    {
      "cell_type": "code",
      "execution_count": null,
      "metadata": {
        "id": "M37m3vw7909d"
      },
      "outputs": [],
      "source": [
        "path=(str(global_drive_path) +\"/ndsi-3d\")\n",
        "fileNames_NDSI_3D=[]\n",
        "for filename in os.listdir(path):\n",
        "    if filename.endswith(\".csv\"):\n",
        "        filePath=(os.path.join(path, filename))\n",
        "        fileNames_NDSI_3D.append(filename)\n",
        "    else:\n",
        "        continue"
      ]
    },
    {
      "cell_type": "code",
      "execution_count": null,
      "metadata": {
        "id": "hTR3gmaMVVq6"
      },
      "outputs": [],
      "source": [
        "path=(str(global_drive_path) +\"/ndsi-2d\")\n",
        "fileNames_NDSI_2D=[]\n",
        "for filename in os.listdir(path):\n",
        "    if filename.endswith(\".csv\"):\n",
        "        filePath=(os.path.join(path, filename))\n",
        "        fileNames_NDSI_2D.append(filename)\n",
        "    else:\n",
        "        continue"
      ]
    },
    {
      "cell_type": "code",
      "execution_count": null,
      "metadata": {
        "colab": {
          "base_uri": "https://localhost:8080/"
        },
        "id": "6NB4e7VmU-5u",
        "outputId": "922c2ae2-6d9e-4edc-8aa0-9442fcb0709b"
      },
      "outputs": [
        {
          "output_type": "execute_result",
          "data": {
            "text/plain": [
              "20"
            ]
          },
          "metadata": {},
          "execution_count": 17
        }
      ],
      "source": [
        "len(fileNames_NDSI_2D)"
      ]
    },
    {
      "cell_type": "code",
      "source": [
        "fileNames_NDSI_3D[0][22:]"
      ],
      "metadata": {
        "colab": {
          "base_uri": "https://localhost:8080/",
          "height": 35
        },
        "id": "xMNgpvYePtz1",
        "outputId": "f4e0bd97-1048-4f13-ba1a-f784d012ec26"
      },
      "execution_count": null,
      "outputs": [
        {
          "output_type": "execute_result",
          "data": {
            "text/plain": [
              "'userid_ff56863b-0710-4a58-ad22-4bf2889c9bc0.csv'"
            ],
            "application/vnd.google.colaboratory.intrinsic+json": {
              "type": "string"
            }
          },
          "metadata": {},
          "execution_count": 18
        }
      ]
    },
    {
      "cell_type": "code",
      "execution_count": null,
      "metadata": {
        "id": "0NhapFp4AGmF",
        "colab": {
          "base_uri": "https://localhost:8080/"
        },
        "outputId": "546663fa-e94c-497c-e2d3-da6cef810afd"
      },
      "outputs": [
        {
          "output_type": "stream",
          "name": "stdout",
          "text": [
            "taskname_ndsi-2d-task_userid_82316e37-1117-4663-84b4-ddb6455c83b2.csv\n",
            "taskname_ndsi-2d-task_userid_ff56863b-0710-4a58-ad22-4bf2889c9bc0.csv\n",
            "taskname_ndsi-2d-task_userid_bda49380-37ad-41c5-a109-7fa198a7691a.csv\n",
            "taskname_ndsi-2d-task_userid_3abeecbe-327a-441e-be2a-0dd3763c1d45.csv\n",
            "taskname_ndsi-2d-task_userid_6d49fab8-273b-4a91-948b-ecd14556b049.csv\n",
            "taskname_ndsi-2d-task_userid_954edb7c-4eae-47ab-9338-5c5c7eccac2d.csv\n",
            "taskname_ndsi-2d-task_userid_a6aab5f5-fdb6-41df-9fc6-221d70f8c6e8.csv\n",
            "taskname_ndsi-2d-task_userid_8b544d24-3274-4bb0-9719-fd2bccc87b02.csv\n"
          ]
        }
      ],
      "source": [
        "matchingName=[]\n",
        "df_twoD=[]\n",
        "df_threeD=[]\n",
        "path_twoD=(str(global_drive_path) +\"/ndsi-2d\")\n",
        "path_threeD=(str(global_drive_path) +\"/ndsi-3d\")\n",
        "for i in range(len(fileNames_NDSI_2D)):\n",
        "  for j in range(len(fileNames_NDSI_3D)):\n",
        "  # if fileNames_NDSI_2D[i].removesuffix('taskname_ndsi-2d-task_') == fileNames_NDSI_3D[i].removesuffix('taskname_ndsi-3d-task_'):\n",
        "   if fileNames_NDSI_2D[i][22:] == fileNames_NDSI_3D[j][22:]:\n",
        "      #print(os.path.join(path, str(fileNames_NDSI_2D[i])))\n",
        "      df_2=pd.read_csv(os.path.join(path_twoD, str(fileNames_NDSI_2D[i])),sep=',')\n",
        "      df_twoD.append(df_2)\n",
        "      df_3=pd.read_csv(os.path.join(path_threeD, str(fileNames_NDSI_3D[j])),sep=',')\n",
        "      df_threeD.append(df_3)\n",
        "      if max(df_2[\"TimeStamp\"]) > max(df_3[\"TimeStamp\"]):\n",
        "        print(fileNames_NDSI_2D[i])\n",
        "      matchingName.append(fileNames_NDSI_2D[i])\n",
        "      "
      ]
    }
  ],
  "metadata": {
    "colab": {
      "collapsed_sections": [],
      "provenance": [],
      "mount_file_id": "1n9nJdd84etLey3piTKkRJmttpZlW1gor",
      "authorship_tag": "ABX9TyM6fWaVeScivz8CqdxHCN7B"
    },
    "kernelspec": {
      "display_name": "Python 3",
      "name": "python3"
    },
    "language_info": {
      "name": "python"
    }
  },
  "nbformat": 4,
  "nbformat_minor": 0
}