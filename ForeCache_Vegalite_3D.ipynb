{
  "nbformat": 4,
  "nbformat_minor": 0,
  "metadata": {
    "colab": {
      "name": "ForeCache_Vegalite-3D.ipynb",
      "provenance": [],
      "collapsed_sections": [],
      "mount_file_id": "1_rwLfiPfLAdAUm8jXkExQWgQ6O-QbtsH",
      "authorship_tag": "ABX9TyOCBOdpLt9QL3ztQ63RuU9D"
    },
    "kernelspec": {
      "name": "python3",
      "display_name": "Python 3"
    },
    "language_info": {
      "name": "python"
    }
  },
  "cells": [
    {
      "cell_type": "code",
      "source": [
        "import os\n",
        "import pandas as pd\n",
        "import numpy as np\n",
        "import glob"
      ],
      "metadata": {
        "id": "jLtOA4-4Jw5n"
      },
      "execution_count": 1,
      "outputs": []
    },
    {
      "cell_type": "code",
      "source": [
        "#global path\n",
        "global_drive_path=\"/content/drive/MyDrive/ForeCache/interactions/\"\n",
        "directory =(str(global_drive_path) +\"/stateActionModel/ndsi-3d\")\n",
        "\n",
        "\n",
        "          "
      ],
      "metadata": {
        "id": "K9iJVr7EAn8Y"
      },
      "execution_count": 2,
      "outputs": []
    },
    {
      "cell_type": "code",
      "source": [
        "fileNames=[]\n",
        "for filename in os.listdir(directory):\n",
        "  if filename.startswith('taskname_ndsi-3d-task_'):\n",
        "    fileNames.append(filename)"
      ],
      "metadata": {
        "id": "K0OjPwlqAoBl"
      },
      "execution_count": 3,
      "outputs": []
    },
    {
      "cell_type": "code",
      "source": [
        "#subset of users\n",
        "fileNames2D=['taskname_ndsi-2d-task_userid_3abeecbe-327a-441e-be2a-0dd3763c1d45.csv',\n",
        " 'taskname_ndsi-2d-task_userid_44968286-f204-4ad6-a9b5-d95b38e97866.csv',\n",
        " 'taskname_ndsi-2d-task_userid_6d49fab8-273b-4a91-948b-ecd14556b049.csv',\n",
        " 'taskname_ndsi-2d-task_userid_72a8d170-77ae-400e-b2a5-de9e1d33a714.csv',\n",
        " 'taskname_ndsi-2d-task_userid_733a1ac5-0b01-485e-9b29-ac33932aa240.csv']"
      ],
      "metadata": {
        "id": "Up_HgCSN5Gf3"
      },
      "execution_count": null,
      "outputs": []
    },
    {
      "cell_type": "code",
      "source": [
        "#subset of users\n",
        "fileNames3D=['taskname_ndsi-3d-task_userid_3abeecbe-327a-441e-be2a-0dd3763c1d45.csv',\n",
        " 'taskname_ndsi-3d-task_userid_44968286-f204-4ad6-a9b5-d95b38e97866.csv',\n",
        " 'taskname_ndsi-3d-task_userid_6d49fab8-273b-4a91-948b-ecd14556b049.csv',\n",
        " 'taskname_ndsi-3d-task_userid_733a1ac5-0b01-485e-9b29-ac33932aa240.csv',\n",
        " 'taskname_ndsi-3d-task_userid_7d014c75-453b-4188-9e4e-fb086984896a.csv']"
      ],
      "metadata": {
        "id": "xySvCpZpfoEq"
      },
      "execution_count": 4,
      "outputs": []
    },
    {
      "cell_type": "code",
      "source": [
        "def get_min(time_str):\n",
        "    \"\"\"Get minutes from time.\"\"\"\n",
        "    time_str=time_str.split(' ')\n",
        "    h, m, s = time_str[1].split(':')\n",
        "    s=round(float(s))\n",
        "    seconds= int(h) * 3600 + int(m) * 60 + int(s)\n",
        "    return round(seconds/60)"
      ],
      "metadata": {
        "id": "d4jtvLJVQdCW"
      },
      "execution_count": 5,
      "outputs": []
    },
    {
      "cell_type": "code",
      "source": [
        "def get_sec(time_str):\n",
        "    \"\"\"Get seconds from time.\"\"\"\n",
        "    h, m, s = time_str.split(':')\n",
        "    seconds= int(h) * 3600 + int(m) * 60 + int(s)\n",
        "    return seconds"
      ],
      "metadata": {
        "id": "RcXN3gOGZbGI"
      },
      "execution_count": 6,
      "outputs": []
    },
    {
      "cell_type": "code",
      "source": [
        "final_dataframe = pd.DataFrame(columns=['Index','Time','State','action','reward','visualization','subtask','high-level-action',''])\n",
        "all_dfs=[]\n",
        "length=0\n",
        "for filename in fileNames3D:\n",
        "      print(\"###########################\",filename)"
      ],
      "metadata": {
        "colab": {
          "base_uri": "https://localhost:8080/"
        },
        "id": "Annsx9mzwPxk",
        "outputId": "0299e03e-97e5-45d5-fb0b-51a9e09ec135"
      },
      "execution_count": 7,
      "outputs": [
        {
          "output_type": "stream",
          "name": "stdout",
          "text": [
            "########################### taskname_ndsi-3d-task_userid_3abeecbe-327a-441e-be2a-0dd3763c1d45.csv\n",
            "########################### taskname_ndsi-3d-task_userid_44968286-f204-4ad6-a9b5-d95b38e97866.csv\n",
            "########################### taskname_ndsi-3d-task_userid_6d49fab8-273b-4a91-948b-ecd14556b049.csv\n",
            "########################### taskname_ndsi-3d-task_userid_733a1ac5-0b01-485e-9b29-ac33932aa240.csv\n",
            "########################### taskname_ndsi-3d-task_userid_7d014c75-453b-4188-9e4e-fb086984896a.csv\n"
          ]
        }
      ]
    },
    {
      "cell_type": "code",
      "source": [
        "#final_dataframe = pd.DataFrame(columns=['Index','Time','State','action','reward','visualization','subtask'])\n",
        "all_dfs=[]\n",
        "length=0\n",
        "for filename in fileNames3D:\n",
        "      print(\"###########################\",filename)\n",
        "      \n",
        "      index=[]\n",
        "      user=[]\n",
        "      df = pd.read_csv(os.path.join(directory,filename))\n",
        "      df['State_Zoom']=np.zeros(len(df))\n",
        "      df['high-level-action']=np.zeros(len(df))\n",
        "      df['LatitudeLongitude']=np.zeros(len(df))\n",
        "      length=length+len(df)\n",
        "      start_time=get_min(df['TimeStamp'][0])\n",
        "      current_state=None\n",
        "      for i in range(len(df)):\n",
        "        df['NDSI'][i]=df['NDSI'][i]\n",
        "        df['LatitudeLongitude'][i]=int(df['Latitude'][i])+int(df['Longitude'][i])\n",
        "        if df[\"State\"][i]== current_state:\n",
        "          df[\"high-level-action\"][i]=\"same\"\n",
        "        else:\n",
        "          df[\"high-level-action\"][i]=\"change\"\n",
        "        current_state=df[\"State\"][i]\n",
        "        if \"Answering\" in df[\"State\"][i]:\n",
        "           df[\"State\"][i]='Answering'\n",
        "        # elif \"Foraging\" in df[\"State\"][i]:\n",
        "        #    df[\"State\"][i]='Foraging / Hypothesis Generation'\n",
        "        # else:\n",
        "        #    df[\"State\"][i]='Navigation / Hypothesis Gathering'\n",
        "        df['State_Zoom'][i]=df['State'][i] + str( df['ZoomLevel'][i])\n",
        "        df[\"TimeStamp\"][i]=get_min(df[\"TimeStamp\"][i])-start_time  #get minute or get seconds\n",
        "        index.append(i+1)\n",
        "        user.append(filename[filename.find(\"userid_\")+7: filename.find(\"(1).csv\")])\n",
        "        if df[\"Subtask_Zoom\"][i]>= 2:\n",
        "          df[\"Subtask_Zoom\"]=2\n",
        "     \n",
        "      df['Index']=index\n",
        "      df['User']=user\n",
        "      df = df[df.State != \"Inference Feedback\"] #dropped all fields with Inference Feedback\n",
        "      \n",
        "      all_dfs.append(df)"
      ],
      "metadata": {
        "colab": {
          "base_uri": "https://localhost:8080/"
        },
        "id": "MqEmeGT5BVdW",
        "outputId": "4e320e5f-d277-4e7f-c5dc-e0b9d2948a4c"
      },
      "execution_count": 8,
      "outputs": [
        {
          "output_type": "stream",
          "name": "stdout",
          "text": [
            "########################### taskname_ndsi-3d-task_userid_3abeecbe-327a-441e-be2a-0dd3763c1d45.csv\n"
          ]
        },
        {
          "output_type": "stream",
          "name": "stderr",
          "text": [
            "/usr/local/lib/python3.7/dist-packages/ipykernel_launcher.py:17: SettingWithCopyWarning: \n",
            "A value is trying to be set on a copy of a slice from a DataFrame\n",
            "\n",
            "See the caveats in the documentation: https://pandas.pydata.org/pandas-docs/stable/user_guide/indexing.html#returning-a-view-versus-a-copy\n",
            "/usr/local/lib/python3.7/dist-packages/ipykernel_launcher.py:18: SettingWithCopyWarning: \n",
            "A value is trying to be set on a copy of a slice from a DataFrame\n",
            "\n",
            "See the caveats in the documentation: https://pandas.pydata.org/pandas-docs/stable/user_guide/indexing.html#returning-a-view-versus-a-copy\n",
            "/usr/local/lib/python3.7/dist-packages/ipykernel_launcher.py:22: SettingWithCopyWarning: \n",
            "A value is trying to be set on a copy of a slice from a DataFrame\n",
            "\n",
            "See the caveats in the documentation: https://pandas.pydata.org/pandas-docs/stable/user_guide/indexing.html#returning-a-view-versus-a-copy\n",
            "/usr/local/lib/python3.7/dist-packages/pandas/core/indexing.py:1732: SettingWithCopyWarning: \n",
            "A value is trying to be set on a copy of a slice from a DataFrame\n",
            "\n",
            "See the caveats in the documentation: https://pandas.pydata.org/pandas-docs/stable/user_guide/indexing.html#returning-a-view-versus-a-copy\n",
            "  self._setitem_single_block(indexer, value, name)\n",
            "/usr/local/lib/python3.7/dist-packages/ipykernel_launcher.py:30: SettingWithCopyWarning: \n",
            "A value is trying to be set on a copy of a slice from a DataFrame\n",
            "\n",
            "See the caveats in the documentation: https://pandas.pydata.org/pandas-docs/stable/user_guide/indexing.html#returning-a-view-versus-a-copy\n",
            "/usr/local/lib/python3.7/dist-packages/ipykernel_launcher.py:31: SettingWithCopyWarning: \n",
            "A value is trying to be set on a copy of a slice from a DataFrame\n",
            "\n",
            "See the caveats in the documentation: https://pandas.pydata.org/pandas-docs/stable/user_guide/indexing.html#returning-a-view-versus-a-copy\n",
            "/usr/local/lib/python3.7/dist-packages/ipykernel_launcher.py:25: SettingWithCopyWarning: \n",
            "A value is trying to be set on a copy of a slice from a DataFrame\n",
            "\n",
            "See the caveats in the documentation: https://pandas.pydata.org/pandas-docs/stable/user_guide/indexing.html#returning-a-view-versus-a-copy\n"
          ]
        },
        {
          "output_type": "stream",
          "name": "stdout",
          "text": [
            "########################### taskname_ndsi-3d-task_userid_44968286-f204-4ad6-a9b5-d95b38e97866.csv\n",
            "########################### taskname_ndsi-3d-task_userid_6d49fab8-273b-4a91-948b-ecd14556b049.csv\n",
            "########################### taskname_ndsi-3d-task_userid_733a1ac5-0b01-485e-9b29-ac33932aa240.csv\n",
            "########################### taskname_ndsi-3d-task_userid_7d014c75-453b-4188-9e4e-fb086984896a.csv\n"
          ]
        }
      ]
    },
    {
      "cell_type": "code",
      "source": [
        "new_df = pd.concat(all_dfs)"
      ],
      "metadata": {
        "id": "07xtHsgmGIS8"
      },
      "execution_count": 9,
      "outputs": []
    },
    {
      "cell_type": "code",
      "source": [
        "new_df.to_excel(os.path.join(global_drive_path,directory,\"all_user_NDSI-3D.xlsx\"), index=False)"
      ],
      "metadata": {
        "id": "JfTOrSstFw4Y"
      },
      "execution_count": 10,
      "outputs": []
    },
    {
      "cell_type": "code",
      "source": [
        "new_df.head(5)"
      ],
      "metadata": {
        "colab": {
          "base_uri": "https://localhost:8080/",
          "height": 250
        },
        "id": "8c-aNTq9BQut",
        "outputId": "05fb8f26-af0a-4dc0-f2ed-c4dde5573640"
      },
      "execution_count": 11,
      "outputs": [
        {
          "output_type": "execute_result",
          "data": {
            "text/plain": [
              "  Action        State TimeStamp  StateActionProbab  IdleTime  Reward  \\\n",
              "0  start     Foraging         0                0.4     0.000       0   \n",
              "1   zoom   Navigation         1                0.4    12.241       0   \n",
              "2   zoom   Navigation         1                0.5     0.897       0   \n",
              "3    pan  Sensemaking         1                0.4     1.316       0   \n",
              "4    pan  Sensemaking         1                0.5     1.543       0   \n",
              "\n",
              "   Subtask_Screenshot_Time  Subtask_Idle_Time  ZoomLevel      NDSI  \\\n",
              "0                        1                  1          0  0.640034   \n",
              "1                        1                  1          1  0.380068   \n",
              "2                        1                  1          2  0.338582   \n",
              "3                        1                  1          2  0.427716   \n",
              "4                        1                  1          2  0.495085   \n",
              "\n",
              "   Subtask_Zoom  Longitude  Latitude     Angle    State_Zoom  \\\n",
              "0             1    52.1250   65.8125  0.000000     Foraging0   \n",
              "1             1    57.0625   30.9375  0.000000   Navigation1   \n",
              "2             1    36.5000   27.0625  0.000000   Navigation2   \n",
              "3             1   104.5000   79.5000  0.538955  Sensemaking2   \n",
              "4             1   113.5000   37.0000  1.441392  Sensemaking2   \n",
              "\n",
              "  high-level-action  LatitudeLongitude  Index  \\\n",
              "0            change              117.0      1   \n",
              "1            change               87.0      2   \n",
              "2              same               63.0      3   \n",
              "3            change              183.0      4   \n",
              "4              same              150.0      5   \n",
              "\n",
              "                                      User  \n",
              "0  3abeecbe-327a-441e-be2a-0dd3763c1d45.cs  \n",
              "1  3abeecbe-327a-441e-be2a-0dd3763c1d45.cs  \n",
              "2  3abeecbe-327a-441e-be2a-0dd3763c1d45.cs  \n",
              "3  3abeecbe-327a-441e-be2a-0dd3763c1d45.cs  \n",
              "4  3abeecbe-327a-441e-be2a-0dd3763c1d45.cs  "
            ],
            "text/html": [
              "\n",
              "  <div id=\"df-a41acbeb-142a-4b6b-8ea8-aa46fb73a062\">\n",
              "    <div class=\"colab-df-container\">\n",
              "      <div>\n",
              "<style scoped>\n",
              "    .dataframe tbody tr th:only-of-type {\n",
              "        vertical-align: middle;\n",
              "    }\n",
              "\n",
              "    .dataframe tbody tr th {\n",
              "        vertical-align: top;\n",
              "    }\n",
              "\n",
              "    .dataframe thead th {\n",
              "        text-align: right;\n",
              "    }\n",
              "</style>\n",
              "<table border=\"1\" class=\"dataframe\">\n",
              "  <thead>\n",
              "    <tr style=\"text-align: right;\">\n",
              "      <th></th>\n",
              "      <th>Action</th>\n",
              "      <th>State</th>\n",
              "      <th>TimeStamp</th>\n",
              "      <th>StateActionProbab</th>\n",
              "      <th>IdleTime</th>\n",
              "      <th>Reward</th>\n",
              "      <th>Subtask_Screenshot_Time</th>\n",
              "      <th>Subtask_Idle_Time</th>\n",
              "      <th>ZoomLevel</th>\n",
              "      <th>NDSI</th>\n",
              "      <th>Subtask_Zoom</th>\n",
              "      <th>Longitude</th>\n",
              "      <th>Latitude</th>\n",
              "      <th>Angle</th>\n",
              "      <th>State_Zoom</th>\n",
              "      <th>high-level-action</th>\n",
              "      <th>LatitudeLongitude</th>\n",
              "      <th>Index</th>\n",
              "      <th>User</th>\n",
              "    </tr>\n",
              "  </thead>\n",
              "  <tbody>\n",
              "    <tr>\n",
              "      <th>0</th>\n",
              "      <td>start</td>\n",
              "      <td>Foraging</td>\n",
              "      <td>0</td>\n",
              "      <td>0.4</td>\n",
              "      <td>0.000</td>\n",
              "      <td>0</td>\n",
              "      <td>1</td>\n",
              "      <td>1</td>\n",
              "      <td>0</td>\n",
              "      <td>0.640034</td>\n",
              "      <td>1</td>\n",
              "      <td>52.1250</td>\n",
              "      <td>65.8125</td>\n",
              "      <td>0.000000</td>\n",
              "      <td>Foraging0</td>\n",
              "      <td>change</td>\n",
              "      <td>117.0</td>\n",
              "      <td>1</td>\n",
              "      <td>3abeecbe-327a-441e-be2a-0dd3763c1d45.cs</td>\n",
              "    </tr>\n",
              "    <tr>\n",
              "      <th>1</th>\n",
              "      <td>zoom</td>\n",
              "      <td>Navigation</td>\n",
              "      <td>1</td>\n",
              "      <td>0.4</td>\n",
              "      <td>12.241</td>\n",
              "      <td>0</td>\n",
              "      <td>1</td>\n",
              "      <td>1</td>\n",
              "      <td>1</td>\n",
              "      <td>0.380068</td>\n",
              "      <td>1</td>\n",
              "      <td>57.0625</td>\n",
              "      <td>30.9375</td>\n",
              "      <td>0.000000</td>\n",
              "      <td>Navigation1</td>\n",
              "      <td>change</td>\n",
              "      <td>87.0</td>\n",
              "      <td>2</td>\n",
              "      <td>3abeecbe-327a-441e-be2a-0dd3763c1d45.cs</td>\n",
              "    </tr>\n",
              "    <tr>\n",
              "      <th>2</th>\n",
              "      <td>zoom</td>\n",
              "      <td>Navigation</td>\n",
              "      <td>1</td>\n",
              "      <td>0.5</td>\n",
              "      <td>0.897</td>\n",
              "      <td>0</td>\n",
              "      <td>1</td>\n",
              "      <td>1</td>\n",
              "      <td>2</td>\n",
              "      <td>0.338582</td>\n",
              "      <td>1</td>\n",
              "      <td>36.5000</td>\n",
              "      <td>27.0625</td>\n",
              "      <td>0.000000</td>\n",
              "      <td>Navigation2</td>\n",
              "      <td>same</td>\n",
              "      <td>63.0</td>\n",
              "      <td>3</td>\n",
              "      <td>3abeecbe-327a-441e-be2a-0dd3763c1d45.cs</td>\n",
              "    </tr>\n",
              "    <tr>\n",
              "      <th>3</th>\n",
              "      <td>pan</td>\n",
              "      <td>Sensemaking</td>\n",
              "      <td>1</td>\n",
              "      <td>0.4</td>\n",
              "      <td>1.316</td>\n",
              "      <td>0</td>\n",
              "      <td>1</td>\n",
              "      <td>1</td>\n",
              "      <td>2</td>\n",
              "      <td>0.427716</td>\n",
              "      <td>1</td>\n",
              "      <td>104.5000</td>\n",
              "      <td>79.5000</td>\n",
              "      <td>0.538955</td>\n",
              "      <td>Sensemaking2</td>\n",
              "      <td>change</td>\n",
              "      <td>183.0</td>\n",
              "      <td>4</td>\n",
              "      <td>3abeecbe-327a-441e-be2a-0dd3763c1d45.cs</td>\n",
              "    </tr>\n",
              "    <tr>\n",
              "      <th>4</th>\n",
              "      <td>pan</td>\n",
              "      <td>Sensemaking</td>\n",
              "      <td>1</td>\n",
              "      <td>0.5</td>\n",
              "      <td>1.543</td>\n",
              "      <td>0</td>\n",
              "      <td>1</td>\n",
              "      <td>1</td>\n",
              "      <td>2</td>\n",
              "      <td>0.495085</td>\n",
              "      <td>1</td>\n",
              "      <td>113.5000</td>\n",
              "      <td>37.0000</td>\n",
              "      <td>1.441392</td>\n",
              "      <td>Sensemaking2</td>\n",
              "      <td>same</td>\n",
              "      <td>150.0</td>\n",
              "      <td>5</td>\n",
              "      <td>3abeecbe-327a-441e-be2a-0dd3763c1d45.cs</td>\n",
              "    </tr>\n",
              "  </tbody>\n",
              "</table>\n",
              "</div>\n",
              "      <button class=\"colab-df-convert\" onclick=\"convertToInteractive('df-a41acbeb-142a-4b6b-8ea8-aa46fb73a062')\"\n",
              "              title=\"Convert this dataframe to an interactive table.\"\n",
              "              style=\"display:none;\">\n",
              "        \n",
              "  <svg xmlns=\"http://www.w3.org/2000/svg\" height=\"24px\"viewBox=\"0 0 24 24\"\n",
              "       width=\"24px\">\n",
              "    <path d=\"M0 0h24v24H0V0z\" fill=\"none\"/>\n",
              "    <path d=\"M18.56 5.44l.94 2.06.94-2.06 2.06-.94-2.06-.94-.94-2.06-.94 2.06-2.06.94zm-11 1L8.5 8.5l.94-2.06 2.06-.94-2.06-.94L8.5 2.5l-.94 2.06-2.06.94zm10 10l.94 2.06.94-2.06 2.06-.94-2.06-.94-.94-2.06-.94 2.06-2.06.94z\"/><path d=\"M17.41 7.96l-1.37-1.37c-.4-.4-.92-.59-1.43-.59-.52 0-1.04.2-1.43.59L10.3 9.45l-7.72 7.72c-.78.78-.78 2.05 0 2.83L4 21.41c.39.39.9.59 1.41.59.51 0 1.02-.2 1.41-.59l7.78-7.78 2.81-2.81c.8-.78.8-2.07 0-2.86zM5.41 20L4 18.59l7.72-7.72 1.47 1.35L5.41 20z\"/>\n",
              "  </svg>\n",
              "      </button>\n",
              "      \n",
              "  <style>\n",
              "    .colab-df-container {\n",
              "      display:flex;\n",
              "      flex-wrap:wrap;\n",
              "      gap: 12px;\n",
              "    }\n",
              "\n",
              "    .colab-df-convert {\n",
              "      background-color: #E8F0FE;\n",
              "      border: none;\n",
              "      border-radius: 50%;\n",
              "      cursor: pointer;\n",
              "      display: none;\n",
              "      fill: #1967D2;\n",
              "      height: 32px;\n",
              "      padding: 0 0 0 0;\n",
              "      width: 32px;\n",
              "    }\n",
              "\n",
              "    .colab-df-convert:hover {\n",
              "      background-color: #E2EBFA;\n",
              "      box-shadow: 0px 1px 2px rgba(60, 64, 67, 0.3), 0px 1px 3px 1px rgba(60, 64, 67, 0.15);\n",
              "      fill: #174EA6;\n",
              "    }\n",
              "\n",
              "    [theme=dark] .colab-df-convert {\n",
              "      background-color: #3B4455;\n",
              "      fill: #D2E3FC;\n",
              "    }\n",
              "\n",
              "    [theme=dark] .colab-df-convert:hover {\n",
              "      background-color: #434B5C;\n",
              "      box-shadow: 0px 1px 3px 1px rgba(0, 0, 0, 0.15);\n",
              "      filter: drop-shadow(0px 1px 2px rgba(0, 0, 0, 0.3));\n",
              "      fill: #FFFFFF;\n",
              "    }\n",
              "  </style>\n",
              "\n",
              "      <script>\n",
              "        const buttonEl =\n",
              "          document.querySelector('#df-a41acbeb-142a-4b6b-8ea8-aa46fb73a062 button.colab-df-convert');\n",
              "        buttonEl.style.display =\n",
              "          google.colab.kernel.accessAllowed ? 'block' : 'none';\n",
              "\n",
              "        async function convertToInteractive(key) {\n",
              "          const element = document.querySelector('#df-a41acbeb-142a-4b6b-8ea8-aa46fb73a062');\n",
              "          const dataTable =\n",
              "            await google.colab.kernel.invokeFunction('convertToInteractive',\n",
              "                                                     [key], {});\n",
              "          if (!dataTable) return;\n",
              "\n",
              "          const docLinkHtml = 'Like what you see? Visit the ' +\n",
              "            '<a target=\"_blank\" href=https://colab.research.google.com/notebooks/data_table.ipynb>data table notebook</a>'\n",
              "            + ' to learn more about interactive tables.';\n",
              "          element.innerHTML = '';\n",
              "          dataTable['output_type'] = 'display_data';\n",
              "          await google.colab.output.renderOutput(dataTable, element);\n",
              "          const docLink = document.createElement('div');\n",
              "          docLink.innerHTML = docLinkHtml;\n",
              "          element.appendChild(docLink);\n",
              "        }\n",
              "      </script>\n",
              "    </div>\n",
              "  </div>\n",
              "  "
            ]
          },
          "metadata": {},
          "execution_count": 11
        }
      ]
    }
  ]
}