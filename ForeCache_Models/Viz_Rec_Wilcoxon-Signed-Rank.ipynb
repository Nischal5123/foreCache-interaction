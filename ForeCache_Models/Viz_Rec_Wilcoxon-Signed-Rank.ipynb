{
 "cells": [
  {
   "cell_type": "code",
   "execution_count": 13,
   "metadata": {
    "collapsed": true,
    "ExecuteTime": {
     "end_time": "2023-12-04T20:40:39.931352Z",
     "start_time": "2023-12-04T20:40:39.924609Z"
    }
   },
   "outputs": [],
   "source": [
    "import numpy as np\n",
    "import glob\n",
    "import pandas as pd\n",
    "pd.options.mode.chained_assignment = None  # default='warn'\n",
    "from scipy.stats import wilcoxon"
   ]
  },
  {
   "cell_type": "code",
   "execution_count": 14,
   "outputs": [],
   "source": [
    "fileNames2D = np.sort(glob.glob(\"./data/zheng/processed_interactions/*\"))[:5]"
   ],
   "metadata": {
    "collapsed": false,
    "pycharm": {
     "name": "#%%\n"
    },
    "ExecuteTime": {
     "end_time": "2023-12-04T20:40:40.237797Z",
     "start_time": "2023-12-04T20:40:40.216490Z"
    }
   }
  },
  {
   "cell_type": "code",
   "execution_count": 15,
   "outputs": [],
   "source": [
    "def get_probabilities(dataframe,current_phase):\n",
    "    map = ['same','modify-x','modify-y','modify-z','modify-x-y','modify-y-z','modify-x-z','modify-x-y-z']\n",
    "    dict_map = dict.fromkeys(map, 0)\n",
    "    for action in dataframe['Action']:\n",
    "        dict_map[action] += 1\n",
    "    return dict_map[current_phase] / sum(dict_map.values())\n"
   ],
   "metadata": {
    "collapsed": false,
    "ExecuteTime": {
     "end_time": "2023-12-04T20:40:40.615887Z",
     "start_time": "2023-12-04T20:40:40.611896Z"
    }
   }
  },
  {
   "cell_type": "code",
   "execution_count": 16,
   "outputs": [],
   "source": [
    "class StationarityTests:\n",
    "    def __init__(self, significance=.05):\n",
    "        self.SignificanceLevel = significance\n",
    "        self.pValue = None\n",
    "        self.isStationary = None\n",
    "        self.trend= None\n",
    "\n",
    "    def Wilcoxon_Test(self,series_X, series_Y):\n",
    "\n",
    "        return wilcoxon(series_X, series_Y)\n"
   ],
   "metadata": {
    "collapsed": false,
    "pycharm": {
     "name": "#%%\n"
    },
    "ExecuteTime": {
     "end_time": "2023-12-04T20:40:41.127060Z",
     "start_time": "2023-12-04T20:40:41.123345Z"
    }
   }
  },
  {
   "cell_type": "code",
   "execution_count": 18,
   "outputs": [
    {
     "name": "stdout",
     "output_type": "stream",
     "text": [
      "\n",
      "Processing test for state: same\n",
      "State: same , Probabilities: 0.6172839506172839 0.6049382716049383 , Users are Non-stationary False with p-value 0.7150006546880893\n",
      "\n",
      "Processing test for state: modify-x\n",
      "State: modify-x , Probabilities: 0.037037037037037035 0.0 , Users are Non-stationary False with p-value 0.8125\n",
      "\n",
      "Processing test for state: modify-y\n",
      "State: modify-y , Probabilities: 0.012345679012345678 0.012345679012345678 , Users are Non-stationary False with p-value 0.4652088184521418\n",
      "\n",
      "Processing test for state: modify-z\n",
      "State: modify-z , Probabilities: 0.25925925925925924 0.2716049382716049 , Users are Non-stationary False with p-value 0.5929800980174267\n",
      "\n",
      "Processing test for state: modify-x-y\n",
      "State: modify-x-y , Probabilities: 0.024691358024691357 0.024691358024691357 , Users are Non-stationary False with p-value 0.7150006546880893\n",
      "\n",
      "Processing test for state: modify-y-z\n",
      "State: modify-y-z , Probabilities: 0.024691358024691357 0.06172839506172839 , Users are Non-stationary False with p-value 1.0\n",
      "\n",
      "Processing test for state: modify-x-z\n",
      "State: modify-x-z , Probabilities: 0.012345679012345678 0.0 , Users are Non-stationary False with p-value 0.14412703481601533\n",
      "\n",
      "Processing test for state: modify-x-y-z\n",
      "State: modify-x-y-z , Probabilities: 0.012345679012345678 0.024691358024691357 , Users are Non-stationary False with p-value 0.4652088184521418\n"
     ]
    },
    {
     "name": "stderr",
     "output_type": "stream",
     "text": [
      "/var/folders/w6/jn7_623d6d96165_8x9l_vqh0000gn/T/ipykernel_11882/1151033281.py:32: FutureWarning: The behavior of DataFrame concatenation with empty or all-NA entries is deprecated. In a future version, this will no longer exclude empty or all-NA columns when determining the result dtypes. To retain the old behavior, exclude the relevant entries before the concat operation.\n",
      "  test_dfs = pd.concat([test_dfs, user_df], ignore_index=True)\n",
      "/Users/aryal/anaconda3/envs/ForeCache-Master/lib/python3.9/site-packages/scipy/stats/_morestats.py:4088: UserWarning: Exact p-value calculation does not work if there are zeros. Switching to normal approximation.\n",
      "  warnings.warn(\"Exact p-value calculation does not work if there are \"\n",
      "/Users/aryal/anaconda3/envs/ForeCache-Master/lib/python3.9/site-packages/scipy/stats/_morestats.py:4102: UserWarning: Sample size too small for normal approximation.\n",
      "  warnings.warn(\"Sample size too small for normal approximation.\")\n",
      "/var/folders/w6/jn7_623d6d96165_8x9l_vqh0000gn/T/ipykernel_11882/1151033281.py:32: FutureWarning: The behavior of DataFrame concatenation with empty or all-NA entries is deprecated. In a future version, this will no longer exclude empty or all-NA columns when determining the result dtypes. To retain the old behavior, exclude the relevant entries before the concat operation.\n",
      "  test_dfs = pd.concat([test_dfs, user_df], ignore_index=True)\n",
      "/var/folders/w6/jn7_623d6d96165_8x9l_vqh0000gn/T/ipykernel_11882/1151033281.py:32: FutureWarning: The behavior of DataFrame concatenation with empty or all-NA entries is deprecated. In a future version, this will no longer exclude empty or all-NA columns when determining the result dtypes. To retain the old behavior, exclude the relevant entries before the concat operation.\n",
      "  test_dfs = pd.concat([test_dfs, user_df], ignore_index=True)\n",
      "/Users/aryal/anaconda3/envs/ForeCache-Master/lib/python3.9/site-packages/scipy/stats/_morestats.py:4088: UserWarning: Exact p-value calculation does not work if there are zeros. Switching to normal approximation.\n",
      "  warnings.warn(\"Exact p-value calculation does not work if there are \"\n",
      "/Users/aryal/anaconda3/envs/ForeCache-Master/lib/python3.9/site-packages/scipy/stats/_morestats.py:4102: UserWarning: Sample size too small for normal approximation.\n",
      "  warnings.warn(\"Sample size too small for normal approximation.\")\n",
      "/var/folders/w6/jn7_623d6d96165_8x9l_vqh0000gn/T/ipykernel_11882/1151033281.py:32: FutureWarning: The behavior of DataFrame concatenation with empty or all-NA entries is deprecated. In a future version, this will no longer exclude empty or all-NA columns when determining the result dtypes. To retain the old behavior, exclude the relevant entries before the concat operation.\n",
      "  test_dfs = pd.concat([test_dfs, user_df], ignore_index=True)\n",
      "/Users/aryal/anaconda3/envs/ForeCache-Master/lib/python3.9/site-packages/scipy/stats/_morestats.py:4088: UserWarning: Exact p-value calculation does not work if there are zeros. Switching to normal approximation.\n",
      "  warnings.warn(\"Exact p-value calculation does not work if there are \"\n",
      "/Users/aryal/anaconda3/envs/ForeCache-Master/lib/python3.9/site-packages/scipy/stats/_morestats.py:4102: UserWarning: Sample size too small for normal approximation.\n",
      "  warnings.warn(\"Sample size too small for normal approximation.\")\n",
      "/var/folders/w6/jn7_623d6d96165_8x9l_vqh0000gn/T/ipykernel_11882/1151033281.py:32: FutureWarning: The behavior of DataFrame concatenation with empty or all-NA entries is deprecated. In a future version, this will no longer exclude empty or all-NA columns when determining the result dtypes. To retain the old behavior, exclude the relevant entries before the concat operation.\n",
      "  test_dfs = pd.concat([test_dfs, user_df], ignore_index=True)\n",
      "/Users/aryal/anaconda3/envs/ForeCache-Master/lib/python3.9/site-packages/scipy/stats/_morestats.py:4088: UserWarning: Exact p-value calculation does not work if there are zeros. Switching to normal approximation.\n",
      "  warnings.warn(\"Exact p-value calculation does not work if there are \"\n",
      "/Users/aryal/anaconda3/envs/ForeCache-Master/lib/python3.9/site-packages/scipy/stats/_morestats.py:4102: UserWarning: Sample size too small for normal approximation.\n",
      "  warnings.warn(\"Sample size too small for normal approximation.\")\n",
      "/var/folders/w6/jn7_623d6d96165_8x9l_vqh0000gn/T/ipykernel_11882/1151033281.py:32: FutureWarning: The behavior of DataFrame concatenation with empty or all-NA entries is deprecated. In a future version, this will no longer exclude empty or all-NA columns when determining the result dtypes. To retain the old behavior, exclude the relevant entries before the concat operation.\n",
      "  test_dfs = pd.concat([test_dfs, user_df], ignore_index=True)\n",
      "/Users/aryal/anaconda3/envs/ForeCache-Master/lib/python3.9/site-packages/scipy/stats/_morestats.py:4088: UserWarning: Exact p-value calculation does not work if there are zeros. Switching to normal approximation.\n",
      "  warnings.warn(\"Exact p-value calculation does not work if there are \"\n",
      "/Users/aryal/anaconda3/envs/ForeCache-Master/lib/python3.9/site-packages/scipy/stats/_morestats.py:4102: UserWarning: Sample size too small for normal approximation.\n",
      "  warnings.warn(\"Sample size too small for normal approximation.\")\n",
      "/var/folders/w6/jn7_623d6d96165_8x9l_vqh0000gn/T/ipykernel_11882/1151033281.py:32: FutureWarning: The behavior of DataFrame concatenation with empty or all-NA entries is deprecated. In a future version, this will no longer exclude empty or all-NA columns when determining the result dtypes. To retain the old behavior, exclude the relevant entries before the concat operation.\n",
      "  test_dfs = pd.concat([test_dfs, user_df], ignore_index=True)\n",
      "/Users/aryal/anaconda3/envs/ForeCache-Master/lib/python3.9/site-packages/scipy/stats/_morestats.py:4088: UserWarning: Exact p-value calculation does not work if there are zeros. Switching to normal approximation.\n",
      "  warnings.warn(\"Exact p-value calculation does not work if there are \"\n",
      "/Users/aryal/anaconda3/envs/ForeCache-Master/lib/python3.9/site-packages/scipy/stats/_morestats.py:4102: UserWarning: Sample size too small for normal approximation.\n",
      "  warnings.warn(\"Sample size too small for normal approximation.\")\n",
      "/var/folders/w6/jn7_623d6d96165_8x9l_vqh0000gn/T/ipykernel_11882/1151033281.py:32: FutureWarning: The behavior of DataFrame concatenation with empty or all-NA entries is deprecated. In a future version, this will no longer exclude empty or all-NA columns when determining the result dtypes. To retain the old behavior, exclude the relevant entries before the concat operation.\n",
      "  test_dfs = pd.concat([test_dfs, user_df], ignore_index=True)\n",
      "/Users/aryal/anaconda3/envs/ForeCache-Master/lib/python3.9/site-packages/scipy/stats/_morestats.py:4088: UserWarning: Exact p-value calculation does not work if there are zeros. Switching to normal approximation.\n",
      "  warnings.warn(\"Exact p-value calculation does not work if there are \"\n",
      "/Users/aryal/anaconda3/envs/ForeCache-Master/lib/python3.9/site-packages/scipy/stats/_morestats.py:4102: UserWarning: Sample size too small for normal approximation.\n",
      "  warnings.warn(\"Sample size too small for normal approximation.\")\n"
     ]
    }
   ],
   "source": [
    "\n",
    "all_pvalue=[]\n",
    "for state in['same','modify-x','modify-y','modify-z','modify-x-y','modify-y-z','modify-x-z','modify-x-y-z']:\n",
    "    print(f\"\\nProcessing test for state: {state}\")\n",
    "     # Create an empty DataFrame to store test data\n",
    "    test_dfs = pd.DataFrame(columns=['User', 'First_Half', 'Second_Half'])\n",
    "    # Iterate through file names\n",
    "    for i, u in enumerate(fileNames2D):\n",
    "        # Read CSV file\n",
    "        df = pd.read_csv(u)\n",
    "\n",
    "        # Extract user information from file path\n",
    "\n",
    "\n",
    "        #print(f\"\\nProcessing data for user: {u}\")\n",
    "\n",
    "        # Split the DataFrame into two halves\n",
    "        mid = round(len(df) / 2)\n",
    "        slice1 = df[:mid].reset_index(drop=True)\n",
    "        slice2 = df[mid:].reset_index(drop=True)\n",
    "        #print('length of slice',len(slice1), len(slice2))\n",
    "\n",
    "        # Calculate Navigation probabilities for each half\n",
    "        probab_1 = get_probabilities(slice1,state)\n",
    "        probab_2 = get_probabilities(slice2,state)\n",
    "\n",
    "        #print(f\"Probabilities for {u} - First Half: {probab_1}, Second Half: {probab_2}\")\n",
    "\n",
    "        # Create a DataFrame with user, first_half, and second_half probabilities\n",
    "        user_df = pd.DataFrame({'User': [u], 'First_Half': [probab_1], 'Second_Half': [probab_2]})\n",
    "\n",
    "        # Concatenate the result to the test_dfs DataFrame for all users\n",
    "        test_dfs = pd.concat([test_dfs, user_df], ignore_index=True)\n",
    "\n",
    "    # Perform Wilcoxon signed-rank test on the probabilities of the two halves\n",
    "    stats_test = StationarityTests()\n",
    "    result = stats_test.Wilcoxon_Test(test_dfs['First_Half'], test_dfs['Second_Half'])\n",
    "    #print(result)\n",
    "    del test_dfs\n",
    "\n",
    "    print(f\"State: {state} , Probabilities: {probab_1} {probab_2} , Users are Non-stationary {result.pvalue<0.05} with p-value {result.pvalue}\")\n",
    "    all_pvalue.append(result.pvalue)\n"
   ],
   "metadata": {
    "collapsed": false,
    "ExecuteTime": {
     "end_time": "2023-12-04T20:44:50.432111Z",
     "start_time": "2023-12-04T20:44:50.375319Z"
    }
   }
  },
  {
   "cell_type": "code",
   "execution_count": 6,
   "outputs": [
    {
     "data": {
      "text/plain": "array([0.50192072, 0.55888545, 0.50072108, 0.50072108, 0.50072108,\n       0.50072108, 0.41618218, 0.93591497])"
     },
     "execution_count": 6,
     "metadata": {},
     "output_type": "execute_result"
    }
   ],
   "source": [
    "from scipy import stats\n",
    "stats.false_discovery_control(all_pvalue,method='bh')"
   ],
   "metadata": {
    "collapsed": false,
    "ExecuteTime": {
     "end_time": "2023-12-03T04:04:20.522729Z",
     "start_time": "2023-12-03T04:04:20.520277Z"
    }
   }
  },
  {
   "cell_type": "code",
   "execution_count": 112,
   "outputs": [
    {
     "data": {
      "text/plain": "(array([False,  True, False]),\n array([1.        , 0.00813675, 0.07185173]),\n 0.016952427508441503,\n 0.016666666666666666)"
     },
     "execution_count": 112,
     "metadata": {},
     "output_type": "execute_result"
    }
   ],
   "source": [
    "from statsmodels.stats.multitest import multipletests\n",
    "multipletests(all_pvalue,alpha=0.05,method='bonferroni')"
   ],
   "metadata": {
    "collapsed": false,
    "ExecuteTime": {
     "end_time": "2023-11-29T22:22:39.799637Z",
     "start_time": "2023-11-29T22:22:39.785933Z"
    }
   }
  },
  {
   "cell_type": "code",
   "execution_count": 8,
   "outputs": [
    {
     "ename": "NameError",
     "evalue": "name 'test_dfs' is not defined",
     "output_type": "error",
     "traceback": [
      "\u001B[0;31m---------------------------------------------------------------------------\u001B[0m",
      "\u001B[0;31mNameError\u001B[0m                                 Traceback (most recent call last)",
      "Cell \u001B[0;32mIn[8], line 1\u001B[0m\n\u001B[0;32m----> 1\u001B[0m \u001B[43mtest_dfs\u001B[49m\n",
      "\u001B[0;31mNameError\u001B[0m: name 'test_dfs' is not defined"
     ]
    }
   ],
   "source": [
    "test_dfs"
   ],
   "metadata": {
    "collapsed": false,
    "ExecuteTime": {
     "end_time": "2023-12-03T04:07:13.892215Z",
     "start_time": "2023-12-03T04:07:13.562989Z"
    }
   }
  },
  {
   "cell_type": "code",
   "execution_count": null,
   "outputs": [],
   "source": [],
   "metadata": {
    "collapsed": false
   }
  }
 ],
 "metadata": {
  "kernelspec": {
   "display_name": "Python 3",
   "language": "python",
   "name": "python3"
  },
  "language_info": {
   "codemirror_mode": {
    "name": "ipython",
    "version": 2
   },
   "file_extension": ".py",
   "mimetype": "text/x-python",
   "name": "python",
   "nbconvert_exporter": "python",
   "pygments_lexer": "ipython2",
   "version": "2.7.6"
  }
 },
 "nbformat": 4,
 "nbformat_minor": 0
}
