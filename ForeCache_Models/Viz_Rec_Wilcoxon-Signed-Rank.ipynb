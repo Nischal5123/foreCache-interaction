{
 "cells": [
  {
   "cell_type": "code",
   "execution_count": 1,
   "metadata": {
    "collapsed": true,
    "ExecuteTime": {
     "end_time": "2023-12-06T20:28:14.616197Z",
     "start_time": "2023-12-06T20:28:12.434566Z"
    }
   },
   "outputs": [],
   "source": [
    "import numpy as np\n",
    "import glob\n",
    "import pandas as pd\n",
    "pd.options.mode.chained_assignment = None  # default='warn'\n",
    "from scipy.stats import wilcoxon\n",
    "import ast"
   ]
  },
  {
   "cell_type": "code",
   "execution_count": 2,
   "outputs": [],
   "source": [
    "fileNames2D = np.sort(glob.glob(\"./data/zheng/processed_interactions/*\"))[:5]"
   ],
   "metadata": {
    "collapsed": false,
    "pycharm": {
     "name": "#%%\n"
    },
    "ExecuteTime": {
     "end_time": "2023-12-06T20:28:14.619573Z",
     "start_time": "2023-12-06T20:28:14.617110Z"
    }
   }
  },
  {
   "cell_type": "code",
   "execution_count": 3,
   "outputs": [],
   "source": [
    "def get_probabilities_action(dataframe,current_phase):\n",
    "    map = ['same','modify-x','modify-y','modify-z','modify-x-y','modify-y-z','modify-x-z','modify-x-y-z']\n",
    "    dict_map = dict.fromkeys(map, 0.000001)\n",
    "    for action in dataframe['Action']:\n",
    "        dict_map[action] += 1\n",
    "    return dict_map[current_phase]\n"
   ],
   "metadata": {
    "collapsed": false,
    "ExecuteTime": {
     "end_time": "2023-12-06T20:28:14.622662Z",
     "start_time": "2023-12-06T20:28:14.621070Z"
    }
   }
  },
  {
   "cell_type": "code",
   "execution_count": 4,
   "outputs": [],
   "source": [
    "def get_probabilities(dataframe,current_phase):\n",
    "    map = ['Title', 'US_Gross', 'Worldwide_Gross', 'US_DVD_Sales', 'Production_Budget', 'Release_Date',\n",
    "                           'MPAA_Rating', 'Running_Time_min', 'Distributor', 'Source', 'Major_Genre', 'Creative_Type',\n",
    "                           'Director', 'Rotten_Tomatoes_Rating', 'IMDB_Rating', 'IMDB_Votes', 'None']\n",
    "    dict_map = dict.fromkeys(map, 0.00001)\n",
    "    for index, row in dataframe.iterrows():\n",
    "        for field in ast.literal_eval(row['Attribute']):\n",
    "            dict_map[field] += 1\n",
    "    return dict_map[current_phase]"
   ],
   "metadata": {
    "collapsed": false,
    "ExecuteTime": {
     "end_time": "2023-12-06T20:28:15.081932Z",
     "start_time": "2023-12-06T20:28:15.078358Z"
    }
   }
  },
  {
   "cell_type": "code",
   "execution_count": 5,
   "outputs": [],
   "source": [
    "class StationarityTests:\n",
    "    def __init__(self, significance=.05):\n",
    "        self.SignificanceLevel = significance\n",
    "        self.pValue = None\n",
    "        self.isStationary = None\n",
    "        self.trend= None\n",
    "\n",
    "    def Wilcoxon_Test(self,series_X, series_Y):\n",
    "\n",
    "        return wilcoxon(series_X, series_Y)\n"
   ],
   "metadata": {
    "collapsed": false,
    "pycharm": {
     "name": "#%%\n"
    },
    "ExecuteTime": {
     "end_time": "2023-12-06T20:28:15.960294Z",
     "start_time": "2023-12-06T20:28:15.955588Z"
    }
   }
  },
  {
   "cell_type": "code",
   "execution_count": 6,
   "outputs": [
    {
     "name": "stdout",
     "output_type": "stream",
     "text": [
      "\n",
      "Processing test for state: Title\n",
      "State: Title , Probabilities: 3.00001 1e-05 , Users are Non-stationary False with p-value 0.5807121621890252\n",
      "\n",
      "Processing test for state: US_Gross\n",
      "State: US_Gross , Probabilities: 4.00001 6.00001 , Users are Non-stationary False with p-value 0.8125\n",
      "\n",
      "Processing test for state: Worldwide_Gross\n",
      "State: Worldwide_Gross , Probabilities: 14.00001 1.00001 , Users are Non-stationary False with p-value 0.0625\n",
      "\n",
      "Processing test for state: US_DVD_Sales\n",
      "State: US_DVD_Sales , Probabilities: 8.00001 10.00001 , Users are Non-stationary False with p-value 1.0\n",
      "\n",
      "Processing test for state: Production_Budget\n",
      "State: Production_Budget , Probabilities: 10.00001 20.00001 , Users are Non-stationary False with p-value 0.06788915486182899\n",
      "\n",
      "Processing test for state: Release_Date\n",
      "State: Release_Date , Probabilities: 24.00001 12.00001 , Users are Non-stationary False with p-value 0.8125\n",
      "\n",
      "Processing test for state: MPAA_Rating\n",
      "State: MPAA_Rating , Probabilities: 16.00001 22.00001 , Users are Non-stationary False with p-value 0.5807121621890252\n",
      "\n",
      "Processing test for state: Running_Time_min\n",
      "State: Running_Time_min , Probabilities: 1e-05 1e-05 , Users are Non-stationary False with p-value 0.5929800980174267\n",
      "\n",
      "Processing test for state: Distributor\n",
      "State: Distributor , Probabilities: 1e-05 19.00001 , Users are Non-stationary False with p-value 0.8539232992870668\n",
      "\n",
      "Processing test for state: Source\n",
      "State: Source , Probabilities: 28.00001 26.00001 , Users are Non-stationary False with p-value 0.625\n",
      "\n",
      "Processing test for state: Major_Genre\n",
      "State: Major_Genre , Probabilities: 19.00001 30.00001 , Users are Non-stationary False with p-value 0.4375\n",
      "\n",
      "Processing test for state: Creative_Type\n"
     ]
    },
    {
     "name": "stderr",
     "output_type": "stream",
     "text": [
      "/var/folders/w6/jn7_623d6d96165_8x9l_vqh0000gn/T/ipykernel_48481/2328100734.py:34: FutureWarning: The behavior of DataFrame concatenation with empty or all-NA entries is deprecated. In a future version, this will no longer exclude empty or all-NA columns when determining the result dtypes. To retain the old behavior, exclude the relevant entries before the concat operation.\n",
      "  test_dfs = pd.concat([test_dfs, user_df], ignore_index=True)\n",
      "/Users/aryal/anaconda3/envs/ForeCache-Master/lib/python3.9/site-packages/scipy/stats/_morestats.py:4088: UserWarning: Exact p-value calculation does not work if there are zeros. Switching to normal approximation.\n",
      "  warnings.warn(\"Exact p-value calculation does not work if there are \"\n",
      "/Users/aryal/anaconda3/envs/ForeCache-Master/lib/python3.9/site-packages/scipy/stats/_morestats.py:4102: UserWarning: Sample size too small for normal approximation.\n",
      "  warnings.warn(\"Sample size too small for normal approximation.\")\n",
      "/var/folders/w6/jn7_623d6d96165_8x9l_vqh0000gn/T/ipykernel_48481/2328100734.py:34: FutureWarning: The behavior of DataFrame concatenation with empty or all-NA entries is deprecated. In a future version, this will no longer exclude empty or all-NA columns when determining the result dtypes. To retain the old behavior, exclude the relevant entries before the concat operation.\n",
      "  test_dfs = pd.concat([test_dfs, user_df], ignore_index=True)\n",
      "/var/folders/w6/jn7_623d6d96165_8x9l_vqh0000gn/T/ipykernel_48481/2328100734.py:34: FutureWarning: The behavior of DataFrame concatenation with empty or all-NA entries is deprecated. In a future version, this will no longer exclude empty or all-NA columns when determining the result dtypes. To retain the old behavior, exclude the relevant entries before the concat operation.\n",
      "  test_dfs = pd.concat([test_dfs, user_df], ignore_index=True)\n",
      "/var/folders/w6/jn7_623d6d96165_8x9l_vqh0000gn/T/ipykernel_48481/2328100734.py:34: FutureWarning: The behavior of DataFrame concatenation with empty or all-NA entries is deprecated. In a future version, this will no longer exclude empty or all-NA columns when determining the result dtypes. To retain the old behavior, exclude the relevant entries before the concat operation.\n",
      "  test_dfs = pd.concat([test_dfs, user_df], ignore_index=True)\n",
      "/Users/aryal/anaconda3/envs/ForeCache-Master/lib/python3.9/site-packages/scipy/stats/_morestats.py:4088: UserWarning: Exact p-value calculation does not work if there are zeros. Switching to normal approximation.\n",
      "  warnings.warn(\"Exact p-value calculation does not work if there are \"\n",
      "/Users/aryal/anaconda3/envs/ForeCache-Master/lib/python3.9/site-packages/scipy/stats/_morestats.py:4102: UserWarning: Sample size too small for normal approximation.\n",
      "  warnings.warn(\"Sample size too small for normal approximation.\")\n",
      "/var/folders/w6/jn7_623d6d96165_8x9l_vqh0000gn/T/ipykernel_48481/2328100734.py:34: FutureWarning: The behavior of DataFrame concatenation with empty or all-NA entries is deprecated. In a future version, this will no longer exclude empty or all-NA columns when determining the result dtypes. To retain the old behavior, exclude the relevant entries before the concat operation.\n",
      "  test_dfs = pd.concat([test_dfs, user_df], ignore_index=True)\n",
      "/Users/aryal/anaconda3/envs/ForeCache-Master/lib/python3.9/site-packages/scipy/stats/_morestats.py:4088: UserWarning: Exact p-value calculation does not work if there are zeros. Switching to normal approximation.\n",
      "  warnings.warn(\"Exact p-value calculation does not work if there are \"\n",
      "/Users/aryal/anaconda3/envs/ForeCache-Master/lib/python3.9/site-packages/scipy/stats/_morestats.py:4102: UserWarning: Sample size too small for normal approximation.\n",
      "  warnings.warn(\"Sample size too small for normal approximation.\")\n",
      "/var/folders/w6/jn7_623d6d96165_8x9l_vqh0000gn/T/ipykernel_48481/2328100734.py:34: FutureWarning: The behavior of DataFrame concatenation with empty or all-NA entries is deprecated. In a future version, this will no longer exclude empty or all-NA columns when determining the result dtypes. To retain the old behavior, exclude the relevant entries before the concat operation.\n",
      "  test_dfs = pd.concat([test_dfs, user_df], ignore_index=True)\n",
      "/var/folders/w6/jn7_623d6d96165_8x9l_vqh0000gn/T/ipykernel_48481/2328100734.py:34: FutureWarning: The behavior of DataFrame concatenation with empty or all-NA entries is deprecated. In a future version, this will no longer exclude empty or all-NA columns when determining the result dtypes. To retain the old behavior, exclude the relevant entries before the concat operation.\n",
      "  test_dfs = pd.concat([test_dfs, user_df], ignore_index=True)\n",
      "/Users/aryal/anaconda3/envs/ForeCache-Master/lib/python3.9/site-packages/scipy/stats/_morestats.py:4088: UserWarning: Exact p-value calculation does not work if there are zeros. Switching to normal approximation.\n",
      "  warnings.warn(\"Exact p-value calculation does not work if there are \"\n",
      "/Users/aryal/anaconda3/envs/ForeCache-Master/lib/python3.9/site-packages/scipy/stats/_morestats.py:4102: UserWarning: Sample size too small for normal approximation.\n",
      "  warnings.warn(\"Sample size too small for normal approximation.\")\n",
      "/var/folders/w6/jn7_623d6d96165_8x9l_vqh0000gn/T/ipykernel_48481/2328100734.py:34: FutureWarning: The behavior of DataFrame concatenation with empty or all-NA entries is deprecated. In a future version, this will no longer exclude empty or all-NA columns when determining the result dtypes. To retain the old behavior, exclude the relevant entries before the concat operation.\n",
      "  test_dfs = pd.concat([test_dfs, user_df], ignore_index=True)\n",
      "/Users/aryal/anaconda3/envs/ForeCache-Master/lib/python3.9/site-packages/scipy/stats/_morestats.py:4088: UserWarning: Exact p-value calculation does not work if there are zeros. Switching to normal approximation.\n",
      "  warnings.warn(\"Exact p-value calculation does not work if there are \"\n",
      "/Users/aryal/anaconda3/envs/ForeCache-Master/lib/python3.9/site-packages/scipy/stats/_morestats.py:4102: UserWarning: Sample size too small for normal approximation.\n",
      "  warnings.warn(\"Sample size too small for normal approximation.\")\n",
      "/var/folders/w6/jn7_623d6d96165_8x9l_vqh0000gn/T/ipykernel_48481/2328100734.py:34: FutureWarning: The behavior of DataFrame concatenation with empty or all-NA entries is deprecated. In a future version, this will no longer exclude empty or all-NA columns when determining the result dtypes. To retain the old behavior, exclude the relevant entries before the concat operation.\n",
      "  test_dfs = pd.concat([test_dfs, user_df], ignore_index=True)\n",
      "/Users/aryal/anaconda3/envs/ForeCache-Master/lib/python3.9/site-packages/scipy/stats/_morestats.py:4088: UserWarning: Exact p-value calculation does not work if there are zeros. Switching to normal approximation.\n",
      "  warnings.warn(\"Exact p-value calculation does not work if there are \"\n",
      "/Users/aryal/anaconda3/envs/ForeCache-Master/lib/python3.9/site-packages/scipy/stats/_morestats.py:4102: UserWarning: Sample size too small for normal approximation.\n",
      "  warnings.warn(\"Sample size too small for normal approximation.\")\n",
      "/var/folders/w6/jn7_623d6d96165_8x9l_vqh0000gn/T/ipykernel_48481/2328100734.py:34: FutureWarning: The behavior of DataFrame concatenation with empty or all-NA entries is deprecated. In a future version, this will no longer exclude empty or all-NA columns when determining the result dtypes. To retain the old behavior, exclude the relevant entries before the concat operation.\n",
      "  test_dfs = pd.concat([test_dfs, user_df], ignore_index=True)\n",
      "/var/folders/w6/jn7_623d6d96165_8x9l_vqh0000gn/T/ipykernel_48481/2328100734.py:34: FutureWarning: The behavior of DataFrame concatenation with empty or all-NA entries is deprecated. In a future version, this will no longer exclude empty or all-NA columns when determining the result dtypes. To retain the old behavior, exclude the relevant entries before the concat operation.\n",
      "  test_dfs = pd.concat([test_dfs, user_df], ignore_index=True)\n",
      "/var/folders/w6/jn7_623d6d96165_8x9l_vqh0000gn/T/ipykernel_48481/2328100734.py:34: FutureWarning: The behavior of DataFrame concatenation with empty or all-NA entries is deprecated. In a future version, this will no longer exclude empty or all-NA columns when determining the result dtypes. To retain the old behavior, exclude the relevant entries before the concat operation.\n",
      "  test_dfs = pd.concat([test_dfs, user_df], ignore_index=True)\n",
      "/Users/aryal/anaconda3/envs/ForeCache-Master/lib/python3.9/site-packages/scipy/stats/_morestats.py:4088: UserWarning: Exact p-value calculation does not work if there are zeros. Switching to normal approximation.\n",
      "  warnings.warn(\"Exact p-value calculation does not work if there are \"\n",
      "/Users/aryal/anaconda3/envs/ForeCache-Master/lib/python3.9/site-packages/scipy/stats/_morestats.py:4102: UserWarning: Sample size too small for normal approximation.\n",
      "  warnings.warn(\"Sample size too small for normal approximation.\")\n"
     ]
    },
    {
     "name": "stdout",
     "output_type": "stream",
     "text": [
      "State: Creative_Type , Probabilities: 7.00001 7.00001 , Users are Non-stationary False with p-value 0.17971249487899976\n",
      "\n",
      "Processing test for state: Director\n",
      "State: Director , Probabilities: 1e-05 5.00001 , Users are Non-stationary False with p-value 0.0625\n",
      "\n",
      "Processing test for state: Rotten_Tomatoes_Rating\n",
      "State: Rotten_Tomatoes_Rating , Probabilities: 1e-05 1.00001 , Users are Non-stationary False with p-value 1.0\n",
      "\n",
      "Processing test for state: IMDB_Rating\n",
      "State: IMDB_Rating , Probabilities: 3.00001 1.00001 , Users are Non-stationary False with p-value 1.0\n",
      "\n",
      "Processing test for state: IMDB_Votes\n",
      "State: IMDB_Votes , Probabilities: 1.00001 1e-05 , Users are Non-stationary False with p-value 0.17971249487899976\n",
      "\n",
      "Processing test for state: None\n",
      "State: None , Probabilities: 106.00001 83.00001 , Users are Non-stationary False with p-value 0.14412703481601533\n"
     ]
    },
    {
     "name": "stderr",
     "output_type": "stream",
     "text": [
      "/var/folders/w6/jn7_623d6d96165_8x9l_vqh0000gn/T/ipykernel_48481/2328100734.py:34: FutureWarning: The behavior of DataFrame concatenation with empty or all-NA entries is deprecated. In a future version, this will no longer exclude empty or all-NA columns when determining the result dtypes. To retain the old behavior, exclude the relevant entries before the concat operation.\n",
      "  test_dfs = pd.concat([test_dfs, user_df], ignore_index=True)\n",
      "/var/folders/w6/jn7_623d6d96165_8x9l_vqh0000gn/T/ipykernel_48481/2328100734.py:34: FutureWarning: The behavior of DataFrame concatenation with empty or all-NA entries is deprecated. In a future version, this will no longer exclude empty or all-NA columns when determining the result dtypes. To retain the old behavior, exclude the relevant entries before the concat operation.\n",
      "  test_dfs = pd.concat([test_dfs, user_df], ignore_index=True)\n",
      "/var/folders/w6/jn7_623d6d96165_8x9l_vqh0000gn/T/ipykernel_48481/2328100734.py:34: FutureWarning: The behavior of DataFrame concatenation with empty or all-NA entries is deprecated. In a future version, this will no longer exclude empty or all-NA columns when determining the result dtypes. To retain the old behavior, exclude the relevant entries before the concat operation.\n",
      "  test_dfs = pd.concat([test_dfs, user_df], ignore_index=True)\n",
      "/Users/aryal/anaconda3/envs/ForeCache-Master/lib/python3.9/site-packages/scipy/stats/_morestats.py:4088: UserWarning: Exact p-value calculation does not work if there are zeros. Switching to normal approximation.\n",
      "  warnings.warn(\"Exact p-value calculation does not work if there are \"\n",
      "/Users/aryal/anaconda3/envs/ForeCache-Master/lib/python3.9/site-packages/scipy/stats/_morestats.py:4102: UserWarning: Sample size too small for normal approximation.\n",
      "  warnings.warn(\"Sample size too small for normal approximation.\")\n",
      "/var/folders/w6/jn7_623d6d96165_8x9l_vqh0000gn/T/ipykernel_48481/2328100734.py:34: FutureWarning: The behavior of DataFrame concatenation with empty or all-NA entries is deprecated. In a future version, this will no longer exclude empty or all-NA columns when determining the result dtypes. To retain the old behavior, exclude the relevant entries before the concat operation.\n",
      "  test_dfs = pd.concat([test_dfs, user_df], ignore_index=True)\n",
      "/Users/aryal/anaconda3/envs/ForeCache-Master/lib/python3.9/site-packages/scipy/stats/_morestats.py:4088: UserWarning: Exact p-value calculation does not work if there are zeros. Switching to normal approximation.\n",
      "  warnings.warn(\"Exact p-value calculation does not work if there are \"\n",
      "/Users/aryal/anaconda3/envs/ForeCache-Master/lib/python3.9/site-packages/scipy/stats/_morestats.py:4102: UserWarning: Sample size too small for normal approximation.\n",
      "  warnings.warn(\"Sample size too small for normal approximation.\")\n",
      "/var/folders/w6/jn7_623d6d96165_8x9l_vqh0000gn/T/ipykernel_48481/2328100734.py:34: FutureWarning: The behavior of DataFrame concatenation with empty or all-NA entries is deprecated. In a future version, this will no longer exclude empty or all-NA columns when determining the result dtypes. To retain the old behavior, exclude the relevant entries before the concat operation.\n",
      "  test_dfs = pd.concat([test_dfs, user_df], ignore_index=True)\n",
      "/Users/aryal/anaconda3/envs/ForeCache-Master/lib/python3.9/site-packages/scipy/stats/_morestats.py:4088: UserWarning: Exact p-value calculation does not work if there are zeros. Switching to normal approximation.\n",
      "  warnings.warn(\"Exact p-value calculation does not work if there are \"\n",
      "/Users/aryal/anaconda3/envs/ForeCache-Master/lib/python3.9/site-packages/scipy/stats/_morestats.py:4102: UserWarning: Sample size too small for normal approximation.\n",
      "  warnings.warn(\"Sample size too small for normal approximation.\")\n"
     ]
    }
   ],
   "source": [
    "\n",
    "all_pvalue=[]\n",
    "for state in ['Title', 'US_Gross', 'Worldwide_Gross', 'US_DVD_Sales', 'Production_Budget', 'Release_Date',\n",
    "                           'MPAA_Rating', 'Running_Time_min', 'Distributor', 'Source', 'Major_Genre', 'Creative_Type',\n",
    "                           'Director', 'Rotten_Tomatoes_Rating', 'IMDB_Rating', 'IMDB_Votes', 'None']:\n",
    "    print(f\"\\nProcessing test for state: {state}\")\n",
    "     # Create an empty DataFrame to store test data\n",
    "    test_dfs = pd.DataFrame(columns=['User', 'First_Half', 'Second_Half'])\n",
    "    # Iterate through file names\n",
    "    for i, u in enumerate(fileNames2D):\n",
    "        # Read CSV file\n",
    "        df = pd.read_csv(u)\n",
    "\n",
    "        # Extract user information from file path\n",
    "\n",
    "\n",
    "        #print(f\"\\nProcessing data for user: {u}\")\n",
    "\n",
    "        # Split the DataFrame into two halves\n",
    "        mid = round(len(df) / 2)\n",
    "        slice1 = df[:mid].reset_index(drop=True)\n",
    "        slice2 = df[mid:].reset_index(drop=True)\n",
    "        #print('length of slice',len(slice1), len(slice2))\n",
    "\n",
    "        # Calculate Navigation probabilities for each half\n",
    "        probab_1 = get_probabilities(slice1,state)\n",
    "        probab_2 = get_probabilities(slice2,state)\n",
    "\n",
    "        #print(f\"Probabilities for {u} - First Half: {probab_1}, Second Half: {probab_2}\")\n",
    "\n",
    "        # Create a DataFrame with user, first_half, and second_half probabilities\n",
    "        user_df = pd.DataFrame({'User': [u], 'First_Half': [probab_1], 'Second_Half': [probab_2]})\n",
    "\n",
    "        # Concatenate the result to the test_dfs DataFrame for all users\n",
    "        test_dfs = pd.concat([test_dfs, user_df], ignore_index=True)\n",
    "\n",
    "    # Perform Wilcoxon signed-rank test on the probabilities of the two halves\n",
    "    stats_test = StationarityTests()\n",
    "    result = stats_test.Wilcoxon_Test(test_dfs['First_Half'], test_dfs['Second_Half'])\n",
    "    #print(result)\n",
    "    del test_dfs\n",
    "\n",
    "    print(f\"State: {state} , Probabilities: {probab_1} {probab_2} , Users are Non-stationary {result.pvalue<0.05} with p-value {result.pvalue}\")\n",
    "    all_pvalue.append(result.pvalue)\n"
   ],
   "metadata": {
    "collapsed": false,
    "ExecuteTime": {
     "end_time": "2023-12-06T20:28:17.291569Z",
     "start_time": "2023-12-06T20:28:16.994523Z"
    }
   }
  },
  {
   "cell_type": "code",
   "execution_count": 6,
   "outputs": [
    {
     "data": {
      "text/plain": "array([0.50192072, 0.55888545, 0.50072108, 0.50072108, 0.50072108,\n       0.50072108, 0.41618218, 0.93591497])"
     },
     "execution_count": 6,
     "metadata": {},
     "output_type": "execute_result"
    }
   ],
   "source": [
    "from scipy import stats\n",
    "stats.false_discovery_control(all_pvalue,method='bh')"
   ],
   "metadata": {
    "collapsed": false,
    "ExecuteTime": {
     "end_time": "2023-12-03T04:04:20.522729Z",
     "start_time": "2023-12-03T04:04:20.520277Z"
    }
   }
  },
  {
   "cell_type": "code",
   "execution_count": 112,
   "outputs": [
    {
     "data": {
      "text/plain": "(array([False,  True, False]),\n array([1.        , 0.00813675, 0.07185173]),\n 0.016952427508441503,\n 0.016666666666666666)"
     },
     "execution_count": 112,
     "metadata": {},
     "output_type": "execute_result"
    }
   ],
   "source": [
    "from statsmodels.stats.multitest import multipletests\n",
    "multipletests(all_pvalue,alpha=0.05,method='bonferroni')"
   ],
   "metadata": {
    "collapsed": false,
    "ExecuteTime": {
     "end_time": "2023-11-29T22:22:39.799637Z",
     "start_time": "2023-11-29T22:22:39.785933Z"
    }
   }
  },
  {
   "cell_type": "code",
   "execution_count": 8,
   "outputs": [
    {
     "ename": "NameError",
     "evalue": "name 'test_dfs' is not defined",
     "output_type": "error",
     "traceback": [
      "\u001B[0;31m---------------------------------------------------------------------------\u001B[0m",
      "\u001B[0;31mNameError\u001B[0m                                 Traceback (most recent call last)",
      "Cell \u001B[0;32mIn[8], line 1\u001B[0m\n\u001B[0;32m----> 1\u001B[0m \u001B[43mtest_dfs\u001B[49m\n",
      "\u001B[0;31mNameError\u001B[0m: name 'test_dfs' is not defined"
     ]
    }
   ],
   "source": [
    "test_dfs"
   ],
   "metadata": {
    "collapsed": false,
    "ExecuteTime": {
     "end_time": "2023-12-03T04:07:13.892215Z",
     "start_time": "2023-12-03T04:07:13.562989Z"
    }
   }
  },
  {
   "cell_type": "code",
   "execution_count": null,
   "outputs": [],
   "source": [],
   "metadata": {
    "collapsed": false
   }
  }
 ],
 "metadata": {
  "kernelspec": {
   "display_name": "Python 3",
   "language": "python",
   "name": "python3"
  },
  "language_info": {
   "codemirror_mode": {
    "name": "ipython",
    "version": 2
   },
   "file_extension": ".py",
   "mimetype": "text/x-python",
   "name": "python",
   "nbconvert_exporter": "python",
   "pygments_lexer": "ipython2",
   "version": "2.7.6"
  }
 },
 "nbformat": 4,
 "nbformat_minor": 0
}
