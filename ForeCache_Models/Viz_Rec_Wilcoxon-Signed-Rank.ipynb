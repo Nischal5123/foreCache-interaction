{
 "cells": [
  {
   "cell_type": "code",
   "execution_count": 10,
   "metadata": {
    "collapsed": true,
    "ExecuteTime": {
     "end_time": "2023-12-03T04:09:12.927365Z",
     "start_time": "2023-12-03T04:09:12.924544Z"
    }
   },
   "outputs": [],
   "source": [
    "import numpy as np\n",
    "import glob\n",
    "import pandas as pd\n",
    "pd.options.mode.chained_assignment = None  # default='warn'\n",
    "from scipy.stats import wilcoxon"
   ]
  },
  {
   "cell_type": "code",
   "execution_count": 11,
   "outputs": [],
   "source": [
    "fileNames2D = np.sort(glob.glob(\"./data/zheng/processed_interactions/*\"))[:3]"
   ],
   "metadata": {
    "collapsed": false,
    "pycharm": {
     "name": "#%%\n"
    },
    "ExecuteTime": {
     "end_time": "2023-12-03T04:09:13.103835Z",
     "start_time": "2023-12-03T04:09:13.101103Z"
    }
   }
  },
  {
   "cell_type": "code",
   "execution_count": 12,
   "outputs": [],
   "source": [
    "def get_probabilities(dataframe,current_phase):\n",
    "    map = ['same','modify-x','modify-y','modify-z','modify-x-y','modify-y-z','modify-x-z','modify-x-y-z']\n",
    "    dict_map = dict.fromkeys(map, 0)\n",
    "    for action in dataframe['Action']:\n",
    "        dict_map[action] += 1\n",
    "    return dict_map[current_phase] / sum(dict_map.values())\n"
   ],
   "metadata": {
    "collapsed": false,
    "ExecuteTime": {
     "end_time": "2023-12-03T04:09:13.298707Z",
     "start_time": "2023-12-03T04:09:13.296181Z"
    }
   }
  },
  {
   "cell_type": "code",
   "execution_count": 13,
   "outputs": [],
   "source": [
    "class StationarityTests:\n",
    "    def __init__(self, significance=.05):\n",
    "        self.SignificanceLevel = significance\n",
    "        self.pValue = None\n",
    "        self.isStationary = None\n",
    "        self.trend= None\n",
    "\n",
    "    def Wilcoxon_Test(self,series_X, series_Y):\n",
    "\n",
    "        return wilcoxon(series_X, series_Y)\n"
   ],
   "metadata": {
    "collapsed": false,
    "pycharm": {
     "name": "#%%\n"
    },
    "ExecuteTime": {
     "end_time": "2023-12-03T04:09:13.496654Z",
     "start_time": "2023-12-03T04:09:13.493760Z"
    }
   }
  },
  {
   "cell_type": "code",
   "execution_count": 14,
   "outputs": [
    {
     "name": "stdout",
     "output_type": "stream",
     "text": [
      "\n",
      "Processing test for state: same\n",
      "Probabilities for ./data/zheng/processed_interactions/pro13_ace_p4_logs.csv - First Half: 0.91875, Second Half: 0.975\n",
      "Probabilities for ./data/zheng/processed_interactions/pro15_ade_p4_logs.csv - First Half: 0.8141025641025641, Second Half: 0.8\n",
      "Probabilities for ./data/zheng/processed_interactions/pro17_ace_p4_logs.csv - First Half: 0.9373259052924791, Second Half: 0.9652294853963839\n",
      "WilcoxonResult(statistic=1.0, pvalue=0.5)\n",
      "State: same Users are Non-stationary False\n",
      "\n",
      "Processing test for state: modify-x\n",
      "Probabilities for ./data/zheng/processed_interactions/pro13_ace_p4_logs.csv - First Half: 0.00625, Second Half: 0.0\n",
      "Probabilities for ./data/zheng/processed_interactions/pro15_ade_p4_logs.csv - First Half: 0.00641025641025641, Second Half: 0.012903225806451613\n",
      "Probabilities for ./data/zheng/processed_interactions/pro17_ace_p4_logs.csv - First Half: 0.006963788300835654, Second Half: 0.0027816411682892906\n",
      "WilcoxonResult(statistic=3.0, pvalue=1.0)\n",
      "State: modify-x Users are Non-stationary False\n",
      "\n",
      "Processing test for state: modify-y\n",
      "Probabilities for ./data/zheng/processed_interactions/pro13_ace_p4_logs.csv - First Half: 0.0, Second Half: 0.00625\n",
      "Probabilities for ./data/zheng/processed_interactions/pro15_ade_p4_logs.csv - First Half: 0.12179487179487179, Second Half: 0.05161290322580645\n",
      "Probabilities for ./data/zheng/processed_interactions/pro17_ace_p4_logs.csv - First Half: 0.008356545961002786, Second Half: 0.008344923504867872\n",
      "WilcoxonResult(statistic=2.0, pvalue=0.75)\n",
      "State: modify-y Users are Non-stationary False\n",
      "\n",
      "Processing test for state: modify-z\n",
      "Probabilities for ./data/zheng/processed_interactions/pro13_ace_p4_logs.csv - First Half: 0.0, Second Half: 0.0\n",
      "Probabilities for ./data/zheng/processed_interactions/pro15_ade_p4_logs.csv - First Half: 0.01282051282051282, Second Half: 0.08387096774193549\n",
      "Probabilities for ./data/zheng/processed_interactions/pro17_ace_p4_logs.csv - First Half: 0.009749303621169917, Second Half: 0.0013908205841446453\n",
      "WilcoxonResult(statistic=1.0, pvalue=0.6547208460185769)\n",
      "State: modify-z Users are Non-stationary False\n",
      "\n",
      "Processing test for state: modify-x-y\n",
      "Probabilities for ./data/zheng/processed_interactions/pro13_ace_p4_logs.csv - First Half: 0.025, Second Half: 0.0\n",
      "Probabilities for ./data/zheng/processed_interactions/pro15_ade_p4_logs.csv - First Half: 0.04487179487179487, Second Half: 0.01935483870967742\n",
      "Probabilities for ./data/zheng/processed_interactions/pro17_ace_p4_logs.csv - First Half: 0.005571030640668524, Second Half: 0.012517385257301807\n",
      "WilcoxonResult(statistic=1.0, pvalue=0.5)\n",
      "State: modify-x-y Users are Non-stationary False\n",
      "\n",
      "Processing test for state: modify-y-z\n",
      "Probabilities for ./data/zheng/processed_interactions/pro13_ace_p4_logs.csv - First Half: 0.0125, Second Half: 0.0125\n",
      "Probabilities for ./data/zheng/processed_interactions/pro15_ade_p4_logs.csv - First Half: 0.0, Second Half: 0.0064516129032258064\n",
      "Probabilities for ./data/zheng/processed_interactions/pro17_ace_p4_logs.csv - First Half: 0.006963788300835654, Second Half: 0.0\n",
      "WilcoxonResult(statistic=1.0, pvalue=0.6547208460185769)\n",
      "State: modify-y-z Users are Non-stationary False\n",
      "\n",
      "Processing test for state: modify-x-z\n",
      "Probabilities for ./data/zheng/processed_interactions/pro13_ace_p4_logs.csv - First Half: 0.00625, Second Half: 0.0\n",
      "Probabilities for ./data/zheng/processed_interactions/pro15_ade_p4_logs.csv - First Half: 0.0, Second Half: 0.0064516129032258064\n",
      "Probabilities for ./data/zheng/processed_interactions/pro17_ace_p4_logs.csv - First Half: 0.009749303621169917, Second Half: 0.005563282336578581\n",
      "WilcoxonResult(statistic=3.0, pvalue=1.0)\n",
      "State: modify-x-z Users are Non-stationary False\n",
      "\n",
      "Processing test for state: modify-x-y-z\n",
      "Probabilities for ./data/zheng/processed_interactions/pro13_ace_p4_logs.csv - First Half: 0.03125, Second Half: 0.00625\n",
      "Probabilities for ./data/zheng/processed_interactions/pro15_ade_p4_logs.csv - First Half: 0.0, Second Half: 0.01935483870967742\n",
      "Probabilities for ./data/zheng/processed_interactions/pro17_ace_p4_logs.csv - First Half: 0.01532033426183844, Second Half: 0.004172461752433936\n",
      "WilcoxonResult(statistic=2.0, pvalue=0.75)\n",
      "State: modify-x-y-z Users are Non-stationary False\n"
     ]
    },
    {
     "name": "stderr",
     "output_type": "stream",
     "text": [
      "/var/folders/w6/jn7_623d6d96165_8x9l_vqh0000gn/T/ipykernel_74372/1547906830.py:32: FutureWarning: The behavior of DataFrame concatenation with empty or all-NA entries is deprecated. In a future version, this will no longer exclude empty or all-NA columns when determining the result dtypes. To retain the old behavior, exclude the relevant entries before the concat operation.\n",
      "  test_dfs = pd.concat([test_dfs, user_df], ignore_index=True)\n",
      "/var/folders/w6/jn7_623d6d96165_8x9l_vqh0000gn/T/ipykernel_74372/1547906830.py:32: FutureWarning: The behavior of DataFrame concatenation with empty or all-NA entries is deprecated. In a future version, this will no longer exclude empty or all-NA columns when determining the result dtypes. To retain the old behavior, exclude the relevant entries before the concat operation.\n",
      "  test_dfs = pd.concat([test_dfs, user_df], ignore_index=True)\n",
      "/var/folders/w6/jn7_623d6d96165_8x9l_vqh0000gn/T/ipykernel_74372/1547906830.py:32: FutureWarning: The behavior of DataFrame concatenation with empty or all-NA entries is deprecated. In a future version, this will no longer exclude empty or all-NA columns when determining the result dtypes. To retain the old behavior, exclude the relevant entries before the concat operation.\n",
      "  test_dfs = pd.concat([test_dfs, user_df], ignore_index=True)\n",
      "/var/folders/w6/jn7_623d6d96165_8x9l_vqh0000gn/T/ipykernel_74372/1547906830.py:32: FutureWarning: The behavior of DataFrame concatenation with empty or all-NA entries is deprecated. In a future version, this will no longer exclude empty or all-NA columns when determining the result dtypes. To retain the old behavior, exclude the relevant entries before the concat operation.\n",
      "  test_dfs = pd.concat([test_dfs, user_df], ignore_index=True)\n",
      "/Users/aryal/anaconda3/envs/ForeCache-Master/lib/python3.9/site-packages/scipy/stats/_morestats.py:4088: UserWarning: Exact p-value calculation does not work if there are zeros. Switching to normal approximation.\n",
      "  warnings.warn(\"Exact p-value calculation does not work if there are \"\n",
      "/Users/aryal/anaconda3/envs/ForeCache-Master/lib/python3.9/site-packages/scipy/stats/_morestats.py:4102: UserWarning: Sample size too small for normal approximation.\n",
      "  warnings.warn(\"Sample size too small for normal approximation.\")\n",
      "/var/folders/w6/jn7_623d6d96165_8x9l_vqh0000gn/T/ipykernel_74372/1547906830.py:32: FutureWarning: The behavior of DataFrame concatenation with empty or all-NA entries is deprecated. In a future version, this will no longer exclude empty or all-NA columns when determining the result dtypes. To retain the old behavior, exclude the relevant entries before the concat operation.\n",
      "  test_dfs = pd.concat([test_dfs, user_df], ignore_index=True)\n",
      "/var/folders/w6/jn7_623d6d96165_8x9l_vqh0000gn/T/ipykernel_74372/1547906830.py:32: FutureWarning: The behavior of DataFrame concatenation with empty or all-NA entries is deprecated. In a future version, this will no longer exclude empty or all-NA columns when determining the result dtypes. To retain the old behavior, exclude the relevant entries before the concat operation.\n",
      "  test_dfs = pd.concat([test_dfs, user_df], ignore_index=True)\n",
      "/Users/aryal/anaconda3/envs/ForeCache-Master/lib/python3.9/site-packages/scipy/stats/_morestats.py:4088: UserWarning: Exact p-value calculation does not work if there are zeros. Switching to normal approximation.\n",
      "  warnings.warn(\"Exact p-value calculation does not work if there are \"\n",
      "/Users/aryal/anaconda3/envs/ForeCache-Master/lib/python3.9/site-packages/scipy/stats/_morestats.py:4102: UserWarning: Sample size too small for normal approximation.\n",
      "  warnings.warn(\"Sample size too small for normal approximation.\")\n",
      "/var/folders/w6/jn7_623d6d96165_8x9l_vqh0000gn/T/ipykernel_74372/1547906830.py:32: FutureWarning: The behavior of DataFrame concatenation with empty or all-NA entries is deprecated. In a future version, this will no longer exclude empty or all-NA columns when determining the result dtypes. To retain the old behavior, exclude the relevant entries before the concat operation.\n",
      "  test_dfs = pd.concat([test_dfs, user_df], ignore_index=True)\n",
      "/var/folders/w6/jn7_623d6d96165_8x9l_vqh0000gn/T/ipykernel_74372/1547906830.py:32: FutureWarning: The behavior of DataFrame concatenation with empty or all-NA entries is deprecated. In a future version, this will no longer exclude empty or all-NA columns when determining the result dtypes. To retain the old behavior, exclude the relevant entries before the concat operation.\n",
      "  test_dfs = pd.concat([test_dfs, user_df], ignore_index=True)\n"
     ]
    }
   ],
   "source": [
    "\n",
    "all_pvalue=[]\n",
    "for state in['same','modify-x','modify-y','modify-z','modify-x-y','modify-y-z','modify-x-z','modify-x-y-z']:\n",
    "    print(f\"\\nProcessing test for state: {state}\")\n",
    "     # Create an empty DataFrame to store test data\n",
    "    test_dfs = pd.DataFrame(columns=['User', 'First_Half', 'Second_Half'])\n",
    "    # Iterate through file names\n",
    "    for i, u in enumerate(fileNames2D):\n",
    "        # Read CSV file\n",
    "        df = pd.read_csv(u)\n",
    "\n",
    "        # Extract user information from file path\n",
    "\n",
    "\n",
    "        #print(f\"\\nProcessing data for user: {u}\")\n",
    "\n",
    "        # Split the DataFrame into two halves\n",
    "        mid = round(len(df) / 2)\n",
    "        slice1 = df[:mid].reset_index(drop=True)\n",
    "        slice2 = df[mid:].reset_index(drop=True)\n",
    "        #print('length of slice',len(slice1), len(slice2))\n",
    "\n",
    "        # Calculate Navigation probabilities for each half\n",
    "        probab_1 = get_probabilities(slice1,state)\n",
    "        probab_2 = get_probabilities(slice2,state)\n",
    "\n",
    "        print(f\"Probabilities for {u} - First Half: {probab_1}, Second Half: {probab_2}\")\n",
    "\n",
    "        # Create a DataFrame with user, first_half, and second_half probabilities\n",
    "        user_df = pd.DataFrame({'User': [u], 'First_Half': [probab_1], 'Second_Half': [probab_2]})\n",
    "\n",
    "        # Concatenate the result to the test_dfs DataFrame for all users\n",
    "        test_dfs = pd.concat([test_dfs, user_df], ignore_index=True)\n",
    "\n",
    "    # Perform Wilcoxon signed-rank test on the probabilities of the two halves\n",
    "    stats_test = StationarityTests()\n",
    "    result = stats_test.Wilcoxon_Test(test_dfs['First_Half'], test_dfs['Second_Half'])\n",
    "    print(result)\n",
    "    del test_dfs\n",
    "\n",
    "    print(f\"State: {state} Users are Non-stationary {result.pvalue<0.05}\")\n",
    "    all_pvalue.append(result.pvalue)\n"
   ],
   "metadata": {
    "collapsed": false,
    "ExecuteTime": {
     "end_time": "2023-12-03T04:09:14.071975Z",
     "start_time": "2023-12-03T04:09:14.018541Z"
    }
   }
  },
  {
   "cell_type": "code",
   "execution_count": 6,
   "outputs": [
    {
     "data": {
      "text/plain": "array([0.50192072, 0.55888545, 0.50072108, 0.50072108, 0.50072108,\n       0.50072108, 0.41618218, 0.93591497])"
     },
     "execution_count": 6,
     "metadata": {},
     "output_type": "execute_result"
    }
   ],
   "source": [
    "from scipy import stats\n",
    "stats.false_discovery_control(all_pvalue,method='bh')"
   ],
   "metadata": {
    "collapsed": false,
    "ExecuteTime": {
     "end_time": "2023-12-03T04:04:20.522729Z",
     "start_time": "2023-12-03T04:04:20.520277Z"
    }
   }
  },
  {
   "cell_type": "code",
   "execution_count": 112,
   "outputs": [
    {
     "data": {
      "text/plain": "(array([False,  True, False]),\n array([1.        , 0.00813675, 0.07185173]),\n 0.016952427508441503,\n 0.016666666666666666)"
     },
     "execution_count": 112,
     "metadata": {},
     "output_type": "execute_result"
    }
   ],
   "source": [
    "from statsmodels.stats.multitest import multipletests\n",
    "multipletests(all_pvalue,alpha=0.05,method='bonferroni')"
   ],
   "metadata": {
    "collapsed": false,
    "ExecuteTime": {
     "end_time": "2023-11-29T22:22:39.799637Z",
     "start_time": "2023-11-29T22:22:39.785933Z"
    }
   }
  },
  {
   "cell_type": "code",
   "execution_count": 8,
   "outputs": [
    {
     "ename": "NameError",
     "evalue": "name 'test_dfs' is not defined",
     "output_type": "error",
     "traceback": [
      "\u001B[0;31m---------------------------------------------------------------------------\u001B[0m",
      "\u001B[0;31mNameError\u001B[0m                                 Traceback (most recent call last)",
      "Cell \u001B[0;32mIn[8], line 1\u001B[0m\n\u001B[0;32m----> 1\u001B[0m \u001B[43mtest_dfs\u001B[49m\n",
      "\u001B[0;31mNameError\u001B[0m: name 'test_dfs' is not defined"
     ]
    }
   ],
   "source": [
    "test_dfs"
   ],
   "metadata": {
    "collapsed": false,
    "ExecuteTime": {
     "end_time": "2023-12-03T04:07:13.892215Z",
     "start_time": "2023-12-03T04:07:13.562989Z"
    }
   }
  },
  {
   "cell_type": "code",
   "execution_count": null,
   "outputs": [],
   "source": [],
   "metadata": {
    "collapsed": false
   }
  }
 ],
 "metadata": {
  "kernelspec": {
   "display_name": "Python 3",
   "language": "python",
   "name": "python3"
  },
  "language_info": {
   "codemirror_mode": {
    "name": "ipython",
    "version": 2
   },
   "file_extension": ".py",
   "mimetype": "text/x-python",
   "name": "python",
   "nbconvert_exporter": "python",
   "pygments_lexer": "ipython2",
   "version": "2.7.6"
  }
 },
 "nbformat": 4,
 "nbformat_minor": 0
}
