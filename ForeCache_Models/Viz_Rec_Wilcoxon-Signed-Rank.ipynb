{
 "cells": [
  {
   "cell_type": "code",
   "execution_count": 26,
   "metadata": {
    "collapsed": true,
    "ExecuteTime": {
     "end_time": "2024-02-02T22:57:31.657194Z",
     "start_time": "2024-02-02T22:57:31.652531Z"
    }
   },
   "outputs": [],
   "source": [
    "import numpy as np\n",
    "import glob\n",
    "import pandas as pd\n",
    "pd.options.mode.chained_assignment = None  # default='warn'\n",
    "from scipy.stats import wilcoxon\n",
    "import ast"
   ]
  },
  {
   "cell_type": "code",
   "execution_count": 27,
   "outputs": [],
   "source": [
    "fileNames2D = np.sort(glob.glob(\"./data/zheng/processed_interactions_p4_bookmarked/*\"))"
   ],
   "metadata": {
    "collapsed": false,
    "pycharm": {
     "name": "#%%\n"
    },
    "ExecuteTime": {
     "end_time": "2024-02-02T22:57:31.974045Z",
     "start_time": "2024-02-02T22:57:31.968195Z"
    }
   }
  },
  {
   "cell_type": "code",
   "execution_count": 28,
   "outputs": [],
   "source": [
    "def get_probabilities_action(dataframe, current_phase):\n",
    "    actions = ['same', 'modify-1', 'modify-2', 'modify-3']\n",
    "\n",
    "    # Initialize a dictionary with small default probabilities to avoid division by zero\n",
    "    probabilities = dict.fromkeys(actions, 0.000001)\n",
    "\n",
    "    # Count occurrences of each action\n",
    "    action_counts = dataframe['Action'].value_counts()\n",
    "\n",
    "    # Update probabilities based on counts\n",
    "    for action in actions:\n",
    "        if action in action_counts:\n",
    "            probabilities[action] = action_counts[action] / len(dataframe)\n",
    "\n",
    "    return probabilities[current_phase]"
   ],
   "metadata": {
    "collapsed": false,
    "ExecuteTime": {
     "end_time": "2024-02-02T22:57:32.481425Z",
     "start_time": "2024-02-02T22:57:32.477828Z"
    }
   }
  },
  {
   "cell_type": "code",
   "execution_count": 29,
   "outputs": [],
   "source": [
    "def get_probabilities(dataframe,current_phase):\n",
    "    map = ['Title', 'US_Gross', 'Worldwide_Gross', 'US_DVD_Sales', 'Production_Budget', 'Release_Date',\n",
    "                           'MPAA_Rating', 'Running_Time_min', 'Distributor', 'Source', 'Major_Genre', 'Creative_Type',\n",
    "                           'Director', 'Rotten_Tomatoes_Rating', 'IMDB_Rating', 'IMDB_Votes', 'None']\n",
    "    dict_map = dict.fromkeys(map, 0.00001)\n",
    "    for index, row in dataframe.iterrows():\n",
    "        for field in ast.literal_eval(row['Attribute']):\n",
    "            dict_map[field] += 1\n",
    "    return dict_map[current_phase]"
   ],
   "metadata": {
    "collapsed": false,
    "ExecuteTime": {
     "end_time": "2024-02-02T22:57:33.154318Z",
     "start_time": "2024-02-02T22:57:33.148926Z"
    }
   }
  },
  {
   "cell_type": "code",
   "execution_count": 30,
   "outputs": [],
   "source": [
    "class StationarityTests:\n",
    "    def __init__(self, significance=.05):\n",
    "        self.SignificanceLevel = significance\n",
    "        self.pValue = None\n",
    "        self.isStationary = None\n",
    "        self.trend= None\n",
    "\n",
    "    def Wilcoxon_Test(self,series_X, series_Y):\n",
    "\n",
    "        return wilcoxon(series_X, series_Y)\n"
   ],
   "metadata": {
    "collapsed": false,
    "pycharm": {
     "name": "#%%\n"
    },
    "ExecuteTime": {
     "end_time": "2024-02-02T22:57:34.319505Z",
     "start_time": "2024-02-02T22:57:34.312226Z"
    }
   }
  },
  {
   "cell_type": "code",
   "execution_count": 31,
   "outputs": [
    {
     "name": "stdout",
     "output_type": "stream",
     "text": [
      "\n",
      "Processing test for state: same\n",
      "State: same , Probabilities: 0.78125 0.782608695652174 , Users are Non-stationary False with p-value 0.31723979237390443\n",
      "\n",
      "Processing test for state: modify-1\n",
      "State: modify-1 , Probabilities: 0.10625 0.12422360248447205 , Users are Non-stationary False with p-value 0.0690511620712648\n",
      "\n",
      "Processing test for state: modify-2\n"
     ]
    },
    {
     "name": "stderr",
     "output_type": "stream",
     "text": [
      "/var/folders/w6/jn7_623d6d96165_8x9l_vqh0000gn/T/ipykernel_9756/2511176427.py:35: FutureWarning: The behavior of DataFrame concatenation with empty or all-NA entries is deprecated. In a future version, this will no longer exclude empty or all-NA columns when determining the result dtypes. To retain the old behavior, exclude the relevant entries before the concat operation.\n",
      "  test_dfs = pd.concat([test_dfs, user_df], ignore_index=True)\n",
      "/Users/aryal/anaconda3/envs/ForeCache-Master/lib/python3.9/site-packages/scipy/stats/_morestats.py:4088: UserWarning: Exact p-value calculation does not work if there are zeros. Switching to normal approximation.\n",
      "  warnings.warn(\"Exact p-value calculation does not work if there are \"\n",
      "/var/folders/w6/jn7_623d6d96165_8x9l_vqh0000gn/T/ipykernel_9756/2511176427.py:35: FutureWarning: The behavior of DataFrame concatenation with empty or all-NA entries is deprecated. In a future version, this will no longer exclude empty or all-NA columns when determining the result dtypes. To retain the old behavior, exclude the relevant entries before the concat operation.\n",
      "  test_dfs = pd.concat([test_dfs, user_df], ignore_index=True)\n",
      "/Users/aryal/anaconda3/envs/ForeCache-Master/lib/python3.9/site-packages/scipy/stats/_morestats.py:4088: UserWarning: Exact p-value calculation does not work if there are zeros. Switching to normal approximation.\n",
      "  warnings.warn(\"Exact p-value calculation does not work if there are \"\n",
      "/var/folders/w6/jn7_623d6d96165_8x9l_vqh0000gn/T/ipykernel_9756/2511176427.py:35: FutureWarning: The behavior of DataFrame concatenation with empty or all-NA entries is deprecated. In a future version, this will no longer exclude empty or all-NA columns when determining the result dtypes. To retain the old behavior, exclude the relevant entries before the concat operation.\n",
      "  test_dfs = pd.concat([test_dfs, user_df], ignore_index=True)\n"
     ]
    },
    {
     "name": "stdout",
     "output_type": "stream",
     "text": [
      "State: modify-2 , Probabilities: 0.10625 0.062111801242236024 , Users are Non-stationary False with p-value 0.4886806017769275\n",
      "\n",
      "Processing test for state: modify-3\n",
      "State: modify-3 , Probabilities: 0.00625 0.031055900621118012 , Users are Non-stationary False with p-value 0.537722120370485\n"
     ]
    },
    {
     "name": "stderr",
     "output_type": "stream",
     "text": [
      "/Users/aryal/anaconda3/envs/ForeCache-Master/lib/python3.9/site-packages/scipy/stats/_morestats.py:4088: UserWarning: Exact p-value calculation does not work if there are zeros. Switching to normal approximation.\n",
      "  warnings.warn(\"Exact p-value calculation does not work if there are \"\n",
      "/var/folders/w6/jn7_623d6d96165_8x9l_vqh0000gn/T/ipykernel_9756/2511176427.py:35: FutureWarning: The behavior of DataFrame concatenation with empty or all-NA entries is deprecated. In a future version, this will no longer exclude empty or all-NA columns when determining the result dtypes. To retain the old behavior, exclude the relevant entries before the concat operation.\n",
      "  test_dfs = pd.concat([test_dfs, user_df], ignore_index=True)\n",
      "/Users/aryal/anaconda3/envs/ForeCache-Master/lib/python3.9/site-packages/scipy/stats/_morestats.py:4088: UserWarning: Exact p-value calculation does not work if there are zeros. Switching to normal approximation.\n",
      "  warnings.warn(\"Exact p-value calculation does not work if there are \"\n"
     ]
    }
   ],
   "source": [
    "\n",
    "all_pvalue=[]\n",
    "# for state in ['Title', 'US_Gross', 'Worldwide_Gross', 'US_DVD_Sales', 'Production_Budget', 'Release_Date',\n",
    "#                            'MPAA_Rating', 'Running_Time_min', 'Distributor', 'Source', 'Major_Genre', 'Creative_Type',\n",
    "#                            'Director', 'Rotten_Tomatoes_Rating', 'IMDB_Rating', 'IMDB_Votes', 'None']:\n",
    "for state in ['same','modify-1','modify-2','modify-3']:\n",
    "    print(f\"\\nProcessing test for state: {state}\")\n",
    "     # Create an empty DataFrame to store test data\n",
    "    test_dfs = pd.DataFrame(columns=['User', 'First_Half', 'Second_Half'])\n",
    "    # Iterate through file names\n",
    "    for i, u in enumerate(fileNames2D):\n",
    "        # Read CSV file\n",
    "        df = pd.read_csv(u)\n",
    "\n",
    "        # Extract user information from file path\n",
    "\n",
    "\n",
    "        #print(f\"\\nProcessing data for user: {u}\")\n",
    "\n",
    "        # Split the DataFrame into two halves\n",
    "        mid = round(len(df) / 2)\n",
    "        slice1 = df[:mid].reset_index(drop=True)\n",
    "        slice2 = df[mid:].reset_index(drop=True)\n",
    "        #print('length of slice',len(slice1), len(slice2))\n",
    "\n",
    "        # Calculate Navigation probabilities for each half\n",
    "        probab_1 = get_probabilities_action(slice1,state)\n",
    "        probab_2 = get_probabilities_action(slice2,state)\n",
    "\n",
    "        #print(f\"Probabilities for {u} - First Half: {probab_1}, Second Half: {probab_2}\")\n",
    "\n",
    "        # Create a DataFrame with user, first_half, and second_half probabilities\n",
    "        user_df = pd.DataFrame({'User': [u], 'First_Half': [probab_1], 'Second_Half': [probab_2]})\n",
    "\n",
    "        # Concatenate the result to the test_dfs DataFrame for all users\n",
    "        test_dfs = pd.concat([test_dfs, user_df], ignore_index=True)\n",
    "\n",
    "    # Perform Wilcoxon signed-rank test on the probabilities of the two halves\n",
    "    stats_test = StationarityTests()\n",
    "    result = stats_test.Wilcoxon_Test(test_dfs['First_Half'], test_dfs['Second_Half'])\n",
    "    #print(result)\n",
    "    del test_dfs\n",
    "\n",
    "    print(f\"State: {state} , Probabilities: {probab_1} {probab_2} , Users are Non-stationary {result.pvalue<0.05} with p-value {result.pvalue}\")\n",
    "    all_pvalue.append(result.pvalue)\n"
   ],
   "metadata": {
    "collapsed": false,
    "ExecuteTime": {
     "end_time": "2024-02-02T22:57:37.197751Z",
     "start_time": "2024-02-02T22:57:36.843574Z"
    }
   }
  },
  {
   "cell_type": "code",
   "execution_count": 21,
   "outputs": [
    {
     "data": {
      "text/plain": "array([0.65472085, 0.65472085, 0.65472085, 0.65472085])"
     },
     "execution_count": 21,
     "metadata": {},
     "output_type": "execute_result"
    }
   ],
   "source": [
    "from scipy import stats\n",
    "stats.false_discovery_control(all_pvalue,method='bh')"
   ],
   "metadata": {
    "collapsed": false,
    "ExecuteTime": {
     "end_time": "2024-02-02T22:56:07.003890Z",
     "start_time": "2024-02-02T22:56:07.000533Z"
    }
   }
  },
  {
   "cell_type": "code",
   "execution_count": 32,
   "outputs": [
    {
     "data": {
      "text/plain": "(array([False, False, False, False]),\n array([1.        , 0.27620465, 1.        , 1.        ]),\n 0.012741455098566168,\n 0.0125)"
     },
     "execution_count": 32,
     "metadata": {},
     "output_type": "execute_result"
    }
   ],
   "source": [
    "from statsmodels.stats.multitest import multipletests\n",
    "multipletests(all_pvalue,alpha=0.05,method='bonferroni')"
   ],
   "metadata": {
    "collapsed": false,
    "ExecuteTime": {
     "end_time": "2024-02-02T23:01:18.402050Z",
     "start_time": "2024-02-02T23:01:18.385450Z"
    }
   }
  },
  {
   "cell_type": "code",
   "execution_count": 33,
   "outputs": [
    {
     "ename": "NameError",
     "evalue": "name 'test_dfs' is not defined",
     "output_type": "error",
     "traceback": [
      "\u001B[0;31m---------------------------------------------------------------------------\u001B[0m",
      "\u001B[0;31mNameError\u001B[0m                                 Traceback (most recent call last)",
      "Cell \u001B[0;32mIn[33], line 1\u001B[0m\n\u001B[0;32m----> 1\u001B[0m \u001B[43mtest_dfs\u001B[49m\n",
      "\u001B[0;31mNameError\u001B[0m: name 'test_dfs' is not defined"
     ]
    }
   ],
   "source": [
    "test_dfs"
   ],
   "metadata": {
    "collapsed": false,
    "ExecuteTime": {
     "end_time": "2024-02-02T23:01:22.338963Z",
     "start_time": "2024-02-02T23:01:22.316348Z"
    }
   }
  },
  {
   "cell_type": "code",
   "execution_count": null,
   "outputs": [],
   "source": [],
   "metadata": {
    "collapsed": false
   }
  }
 ],
 "metadata": {
  "kernelspec": {
   "display_name": "Python 3",
   "language": "python",
   "name": "python3"
  },
  "language_info": {
   "codemirror_mode": {
    "name": "ipython",
    "version": 2
   },
   "file_extension": ".py",
   "mimetype": "text/x-python",
   "name": "python",
   "nbconvert_exporter": "python",
   "pygments_lexer": "ipython2",
   "version": "2.7.6"
  }
 },
 "nbformat": 4,
 "nbformat_minor": 0
}
