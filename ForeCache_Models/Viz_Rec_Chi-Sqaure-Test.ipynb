{
 "cells": [
  {
   "cell_type": "code",
   "execution_count": 18,
   "metadata": {
    "collapsed": true,
    "ExecuteTime": {
     "end_time": "2024-02-16T23:01:05.373602Z",
     "start_time": "2024-02-16T23:01:05.366145Z"
    }
   },
   "outputs": [],
   "source": [
    "import numpy as np\n",
    "import glob\n",
    "import pandas as pd\n",
    "pd.options.mode.chained_assignment = None  # default='warn'\n",
    "import scipy.stats as stats\n",
    "from scipy.stats import wilcoxon\n",
    "import ast"
   ]
  },
  {
   "cell_type": "code",
   "execution_count": 19,
   "outputs": [],
   "source": [
    "#fileNames2D = np.sort(glob.glob(\"./data/zheng/processed_interactions_p4/*\"))\n",
    "fileNames2D = np.sort(glob.glob(\"./data/zheng/processed_interactions_p4/*\"))"
   ],
   "metadata": {
    "collapsed": false,
    "pycharm": {
     "name": "#%%\n"
    },
    "ExecuteTime": {
     "end_time": "2024-02-16T23:01:05.623641Z",
     "start_time": "2024-02-16T23:01:05.602474Z"
    }
   }
  },
  {
   "cell_type": "code",
   "execution_count": 20,
   "outputs": [
    {
     "data": {
      "text/plain": "array(['./data/zheng/processed_interactions_p4/pro13_ace_p4_logs.csv',\n       './data/zheng/processed_interactions_p4/pro15_ade_p4_logs.csv',\n       './data/zheng/processed_interactions_p4/pro17_ace_p4_logs.csv',\n       './data/zheng/processed_interactions_p4/pro18_adf_p4_logs.csv',\n       './data/zheng/processed_interactions_p4/pro20_ade_p4_logs.csv',\n       './data/zheng/processed_interactions_p4/pro21_ade_p4_logs.csv',\n       './data/zheng/processed_interactions_p4/pro22_ade_p4_logs.csv',\n       './data/zheng/processed_interactions_p4/pro23_acf_p4_logs.csv',\n       './data/zheng/processed_interactions_p4/pro24_adf_p4_logs.csv',\n       './data/zheng/processed_interactions_p4/pro25_acf_p4_logs.csv',\n       './data/zheng/processed_interactions_p4/pro29_ace_p4_logs.csv',\n       './data/zheng/processed_interactions_p4/pro31_adf_p4_logs.csv',\n       './data/zheng/processed_interactions_p4/pro3_ace_p4_logs.csv',\n       './data/zheng/processed_interactions_p4/pro5_adf_p4_logs.csv',\n       './data/zheng/processed_interactions_p4/pro8_acf_p4_logs.csv',\n       './data/zheng/processed_interactions_p4/pro9_acf_p4_logs.csv',\n       './data/zheng/processed_interactions_p4/stu10_acf_p4_logs.csv',\n       './data/zheng/processed_interactions_p4/stu11_adf_p4_logs.csv',\n       './data/zheng/processed_interactions_p4/stu13_acf_p4_logs.csv',\n       './data/zheng/processed_interactions_p4/stu15_ade_p4_logs.csv',\n       './data/zheng/processed_interactions_p4/stu17_ace_p4_logs.csv',\n       './data/zheng/processed_interactions_p4/stu21_ace_p4_logs.csv',\n       './data/zheng/processed_interactions_p4/stu24_ace_p4_logs.csv',\n       './data/zheng/processed_interactions_p4/stu25_ace_p4_logs.csv',\n       './data/zheng/processed_interactions_p4/stu26_ace_p4_logs.csv',\n       './data/zheng/processed_interactions_p4/stu29_ade_p4_logs.csv',\n       './data/zheng/processed_interactions_p4/stu30_adf_p4_logs.csv',\n       './data/zheng/processed_interactions_p4/stu31_ade_p4_logs.csv',\n       './data/zheng/processed_interactions_p4/stu36_adf_p4_logs.csv',\n       './data/zheng/processed_interactions_p4/stu37_adf_p4_logs.csv',\n       './data/zheng/processed_interactions_p4/stu38_acf_p4_logs.csv',\n       './data/zheng/processed_interactions_p4/stu39_adf_p4_logs.csv',\n       './data/zheng/processed_interactions_p4/stu3_acf_p4_logs.csv',\n       './data/zheng/processed_interactions_p4/stu4_ade_p4_logs.csv',\n       './data/zheng/processed_interactions_p4/stu6_acf_p4_logs.csv',\n       './data/zheng/processed_interactions_p4/stu7_ade_p4_logs.csv'],\n      dtype='<U60')"
     },
     "execution_count": 20,
     "metadata": {},
     "output_type": "execute_result"
    }
   ],
   "source": [
    "fileNames2D"
   ],
   "metadata": {
    "collapsed": false,
    "ExecuteTime": {
     "end_time": "2024-02-16T23:01:05.857144Z",
     "start_time": "2024-02-16T23:01:05.850528Z"
    }
   }
  },
  {
   "cell_type": "code",
   "execution_count": 21,
   "outputs": [],
   "source": [
    "def get_action_counts(dataframe, current_phase):\n",
    "    actions = ['same', 'modify-1', 'modify-2', 'modify-3']\n",
    "\n",
    "    # Initialize counts array with zeros for all actions\n",
    "    action_counts = {action: 0 for action in actions}\n",
    "\n",
    "    # Count occurrences of each action\n",
    "    for action in actions:\n",
    "        count = dataframe[dataframe['Action'] == action].shape[0]\n",
    "        if count is not None:  # Update count if action exists\n",
    "            action_counts[action] = count\n",
    "\n",
    "    # Convert dictionary to list, ensuring length is exactly 4\n",
    "    action_counts_list = [action_counts[action] for action in actions]\n",
    "\n",
    "    return action_counts_list\n"
   ],
   "metadata": {
    "collapsed": false,
    "ExecuteTime": {
     "end_time": "2024-02-16T23:01:06.142771Z",
     "start_time": "2024-02-16T23:01:06.137948Z"
    }
   }
  },
  {
   "cell_type": "code",
   "execution_count": 22,
   "outputs": [],
   "source": [
    "class StationarityTests:\n",
    "    def __init__(self, significance=.05):\n",
    "        self.SignificanceLevel = significance\n",
    "        self.pValue = None\n",
    "        self.isStationary = None\n",
    "        self.trend= None\n",
    "\n",
    "    def Chi_Sqaure_Test(self,series_X, series_Y):\n",
    "\n",
    "        return stats.chisquare(f_obs=series_X, f_exp=series_Y)\n"
   ],
   "metadata": {
    "collapsed": false,
    "pycharm": {
     "name": "#%%\n"
    },
    "ExecuteTime": {
     "end_time": "2024-02-16T23:01:06.562081Z",
     "start_time": "2024-02-16T23:01:06.557125Z"
    }
   }
  },
  {
   "cell_type": "code",
   "execution_count": 23,
   "outputs": [],
   "source": [
    "def get_user_name(url):\n",
    "    parts = url.split('/')\n",
    "    fname = parts[-1]\n",
    "    uname = fname.rstrip('_log.csv')\n",
    "    return uname"
   ],
   "metadata": {
    "collapsed": false,
    "ExecuteTime": {
     "end_time": "2024-02-16T23:01:06.978110Z",
     "start_time": "2024-02-16T23:01:06.972577Z"
    }
   }
  },
  {
   "cell_type": "code",
   "execution_count": 24,
   "outputs": [
    {
     "name": "stdout",
     "output_type": "stream",
     "text": [
      "\n",
      "Processing test for action: pro13_ace_p4\n",
      "Unnormalized Quarter 1: [17, 22, 3, 2]\n",
      "Unnormalized Quarter 2: [29, 11, 2, 2]\n",
      "\n",
      "Processing test for action: pro15_ade_p4\n",
      "Unnormalized Quarter 1: [14, 23, 7, 0]\n",
      "Unnormalized Quarter 2: [11, 20, 13, 0]\n",
      "\n",
      "Processing test for action: pro17_ace_p4\n",
      "Unnormalized Quarter 1: [54, 25, 11, 21]\n",
      "Unnormalized Quarter 2: [66, 19, 13, 13]\n",
      "\n",
      "Processing test for action: pro18_adf_p4\n",
      "Unnormalized Quarter 1: [16, 17, 0, 0]\n",
      "Unnormalized Quarter 2: [6, 27, 0, 0]\n",
      "\n",
      "Processing test for action: pro20_ade_p4\n",
      "Unnormalized Quarter 1: [53, 25, 19, 1]\n",
      "Unnormalized Quarter 2: [50, 25, 18, 5]\n",
      "\n",
      "Processing test for action: pro21_ade_p4\n",
      "Unnormalized Quarter 1: [56, 31, 23, 10]\n",
      "Unnormalized Quarter 2: [67, 19, 20, 14]\n",
      "\n",
      "Processing test for action: pro22_ade_p4\n",
      "Unnormalized Quarter 1: [36, 15, 6, 1]\n",
      "Unnormalized Quarter 2: [39, 3, 9, 7]\n",
      "\n",
      "Processing test for action: pro23_acf_p4\n",
      "Unnormalized Quarter 1: [20, 15, 2, 7]\n",
      "Unnormalized Quarter 2: [34, 1, 4, 5]\n",
      "\n",
      "Processing test for action: pro24_adf_p4\n",
      "Unnormalized Quarter 1: [29, 7, 3, 4]\n",
      "Unnormalized Quarter 2: [17, 11, 7, 8]\n",
      "\n",
      "Processing test for action: pro25_acf_p4\n",
      "Unnormalized Quarter 1: [28, 15, 6, 9]\n",
      "Unnormalized Quarter 2: [35, 10, 4, 9]\n",
      "\n",
      "Processing test for action: pro29_ace_p4\n",
      "Unnormalized Quarter 1: [43, 21, 4, 6]\n",
      "Unnormalized Quarter 2: [48, 21, 3, 2]\n",
      "\n",
      "Processing test for action: pro31_adf_p4\n",
      "Unnormalized Quarter 1: [30, 12, 7, 9]\n",
      "Unnormalized Quarter 2: [20, 17, 15, 6]\n",
      "\n",
      "Processing test for action: pro3_ace_p4\n",
      "Unnormalized Quarter 1: [28, 19, 6, 0]\n",
      "Unnormalized Quarter 2: [33, 11, 6, 3]\n",
      "\n",
      "Processing test for action: pro5_adf_p4\n",
      "Unnormalized Quarter 1: [25, 7, 8, 5]\n",
      "Unnormalized Quarter 2: [21, 6, 5, 13]\n",
      "\n",
      "Processing test for action: pro8_acf_p4\n",
      "Unnormalized Quarter 1: [21, 4, 10, 2]\n",
      "Unnormalized Quarter 2: [23, 5, 6, 3]\n",
      "\n",
      "Processing test for action: pro9_acf_p4\n",
      "Unnormalized Quarter 1: [23, 23, 2, 4]\n",
      "Unnormalized Quarter 2: [24, 16, 6, 6]\n",
      "\n",
      "Processing test for action: stu10_acf_p4\n",
      "Unnormalized Quarter 1: [39, 8, 8, 4]\n",
      "Unnormalized Quarter 2: [47, 7, 2, 3]\n",
      "\n",
      "Processing test for action: stu11_adf_p4\n",
      "Unnormalized Quarter 1: [32, 17, 21, 6]\n",
      "Unnormalized Quarter 2: [49, 8, 8, 11]\n",
      "\n",
      "Processing test for action: stu13_acf_p4\n",
      "Unnormalized Quarter 1: [25, 1, 10, 5]\n",
      "Unnormalized Quarter 2: [23, 12, 3, 3]\n",
      "\n",
      "Processing test for action: stu15_ade_p4\n",
      "Unnormalized Quarter 1: [28, 33, 12, 13]\n",
      "Unnormalized Quarter 2: [22, 47, 11, 6]\n",
      "\n",
      "Processing test for action: stu17_ace_p4\n",
      "Unnormalized Quarter 1: [15, 2, 1, 6]\n",
      "Unnormalized Quarter 2: [2, 14, 4, 4]\n",
      "\n",
      "Processing test for action: stu21_ace_p4\n",
      "Unnormalized Quarter 1: [32, 12, 0, 0]\n",
      "Unnormalized Quarter 2: [27, 11, 6, 0]\n",
      "\n",
      "Processing test for action: stu24_ace_p4\n",
      "Unnormalized Quarter 1: [24, 22, 10, 2]\n",
      "Unnormalized Quarter 2: [24, 21, 8, 5]\n",
      "\n",
      "Processing test for action: stu25_ace_p4\n",
      "Unnormalized Quarter 1: [15, 10, 11, 4]\n",
      "Unnormalized Quarter 2: [18, 8, 4, 10]\n",
      "\n",
      "Processing test for action: stu26_ace_p4\n",
      "Unnormalized Quarter 1: [71, 42, 16, 6]\n",
      "Unnormalized Quarter 2: [89, 25, 15, 6]\n",
      "\n",
      "Processing test for action: stu29_ade_p4\n",
      "Unnormalized Quarter 1: [29, 15, 9, 11]\n",
      "Unnormalized Quarter 2: [30, 15, 12, 7]\n",
      "\n",
      "Processing test for action: stu30_adf_p4\n",
      "Unnormalized Quarter 1: [30, 10, 21, 3]\n",
      "Unnormalized Quarter 2: [25, 23, 8, 8]\n",
      "\n",
      "Processing test for action: stu31_ade_p4\n",
      "Unnormalized Quarter 1: [64, 19, 8, 0]\n",
      "Unnormalized Quarter 2: [40, 37, 14, 0]\n",
      "\n",
      "Processing test for action: stu36_adf_p4\n",
      "Unnormalized Quarter 1: [24, 17, 7, 2]\n",
      "Unnormalized Quarter 2: [25, 15, 9, 1]\n",
      "\n",
      "Processing test for action: stu37_adf_p4\n",
      "Unnormalized Quarter 1: [8, 24, 5, 14]\n",
      "Unnormalized Quarter 2: [16, 17, 9, 9]\n",
      "\n",
      "Processing test for action: stu38_acf_p4\n",
      "Unnormalized Quarter 1: [15, 18, 3, 3]\n",
      "Unnormalized Quarter 2: [23, 4, 9, 3]\n",
      "\n",
      "Processing test for action: stu39_adf_p4\n",
      "Unnormalized Quarter 1: [45, 13, 18, 9]\n",
      "Unnormalized Quarter 2: [53, 12, 12, 8]\n",
      "\n",
      "Processing test for action: stu3_acf_p4\n",
      "Unnormalized Quarter 1: [61, 18, 17, 7]\n",
      "Unnormalized Quarter 2: [71, 5, 7, 20]\n",
      "\n",
      "Processing test for action: stu4_ade_p4\n",
      "Unnormalized Quarter 1: [13, 5, 4, 0]\n",
      "Unnormalized Quarter 2: [8, 5, 6, 3]\n",
      "\n",
      "Processing test for action: stu6_acf_p4\n",
      "Unnormalized Quarter 1: [38, 17, 9, 9]\n",
      "Unnormalized Quarter 2: [42, 9, 14, 8]\n",
      "\n",
      "Processing test for action: stu7_ade_p4\n",
      "Unnormalized Quarter 1: [24, 15, 20, 4]\n",
      "Unnormalized Quarter 2: [26, 20, 11, 6]\n"
     ]
    }
   ],
   "source": [
    "import pandas as pd\n",
    "import numpy as np\n",
    "import warnings\n",
    "\n",
    "# Initialize an empty list to store print information\n",
    "print_info = []\n",
    "\n",
    "# Define a function to split the DataFrame into four equal parts with equal lengths\n",
    "def split_dataframe(df,splits=4):\n",
    "    num_rows = len(df)\n",
    "    quarter = num_rows // splits\n",
    "    remainder = num_rows % splits  # Calculate the remainder based on four quarters\n",
    "    if remainder != 0:\n",
    "        df = df[:-remainder]  # Drop the extra rows to make the length divisible by 4\n",
    "    slices = []\n",
    "    start = 0\n",
    "    for i in range(splits):\n",
    "        end = start + quarter\n",
    "        slices.append(df[start:end].reset_index(drop=True))\n",
    "        start = end\n",
    "    return slices\n",
    "\n",
    "\n",
    "\n",
    "# Suppress FutureWarning related to DataFrame concatenation\n",
    "with warnings.catch_warnings():\n",
    "    warnings.simplefilter(\"ignore\")\n",
    "    all_pvalue = []\n",
    "    test_dfs = pd.DataFrame(columns=['User', 'First_Quarter', 'Second_Quarter', 'Third_Quarter', 'Fourth_Quarter', 'p-value'])\n",
    "    for i, u in enumerate(fileNames2D):\n",
    "        state = get_user_name(u)\n",
    "        print(f\"\\nProcessing test for action: {state}\")\n",
    "        df = pd.read_csv(u)\n",
    "        slices = split_dataframe(df, 2)\n",
    "\n",
    "        # Get counts for each slice\n",
    "        probabs = []\n",
    "        for j, slice_df in enumerate(slices):\n",
    "            probab = get_action_counts(slice_df, state)\n",
    "            print(f\"Unnormalized Quarter {j + 1}: {probab}\")\n",
    "            probabs.append(probab)\n",
    "\n",
    "        # Perform statistical tests\n",
    "        stats_test = StationarityTests()\n",
    "        results = []\n",
    "        for j in range(len(probabs) - 1):\n",
    "            result = stats_test.Chi_Sqaure_Test(probabs[j], probabs[j + 1])\n",
    "            results.append(result)\n",
    "            all_pvalue.append(result.pvalue)\n",
    "\n",
    "       # Create DataFrame for the test results\n",
    "        user_df = pd.DataFrame({'User': [u]})\n",
    "        user_df = user_df.assign(**{f'Quarter_{i+1}': str(probab) for i, probab in enumerate(probabs)})\n",
    "        user_df['p-value'] = results[-1].pvalue\n",
    "        test_dfs = pd.concat([test_dfs, user_df], ignore_index=True)\n",
    "\n",
    "        test_dfs = pd.concat([test_dfs, user_df], ignore_index=True)\n",
    "\n",
    "        # Append the print information to the list\n",
    "        print_info.append((state, probabs, [result.pvalue < 0.05 for result in results]))\n",
    "        all_pvalue.append(result.pvalue)\n",
    "\n",
    "# Create a DataFrame from the list of print information\n",
    "df_print_info = pd.DataFrame(print_info, columns=['Action', 'Counts', 'Stationary'])\n"
   ],
   "metadata": {
    "collapsed": false,
    "ExecuteTime": {
     "end_time": "2024-02-16T23:01:07.530911Z",
     "start_time": "2024-02-16T23:01:07.417271Z"
    }
   }
  },
  {
   "cell_type": "code",
   "execution_count": 25,
   "outputs": [
    {
     "data": {
      "text/plain": "          Action                                Counts Stationary\n0   pro13_ace_p4      [[17, 22, 3, 2], [29, 11, 2, 2]]     [True]\n1   pro15_ade_p4     [[14, 23, 7, 0], [11, 20, 13, 0]]    [False]\n2   pro17_ace_p4  [[54, 25, 11, 21], [66, 19, 13, 13]]     [True]\n3   pro18_adf_p4       [[16, 17, 0, 0], [6, 27, 0, 0]]    [False]\n4   pro20_ade_p4    [[53, 25, 19, 1], [50, 25, 18, 5]]    [False]\n5   pro21_ade_p4  [[56, 31, 23, 10], [67, 19, 20, 14]]     [True]\n6   pro22_ade_p4       [[36, 15, 6, 1], [39, 3, 9, 7]]     [True]\n7   pro23_acf_p4       [[20, 15, 2, 7], [34, 1, 4, 5]]     [True]\n8   pro24_adf_p4       [[29, 7, 3, 4], [17, 11, 7, 8]]     [True]\n9   pro25_acf_p4      [[28, 15, 6, 9], [35, 10, 4, 9]]    [False]\n10  pro29_ace_p4      [[43, 21, 4, 6], [48, 21, 3, 2]]     [True]\n11  pro31_adf_p4     [[30, 12, 7, 9], [20, 17, 15, 6]]     [True]\n12   pro3_ace_p4      [[28, 19, 6, 0], [33, 11, 6, 3]]     [True]\n13   pro5_adf_p4       [[25, 7, 8, 5], [21, 6, 5, 13]]    [False]\n14   pro8_acf_p4       [[21, 4, 10, 2], [23, 5, 6, 3]]    [False]\n15   pro9_acf_p4      [[23, 23, 2, 4], [24, 16, 6, 6]]    [False]\n16  stu10_acf_p4        [[39, 8, 8, 4], [47, 7, 2, 3]]     [True]\n17  stu11_adf_p4     [[32, 17, 21, 6], [49, 8, 8, 11]]     [True]\n18  stu13_acf_p4      [[25, 1, 10, 5], [23, 12, 3, 3]]     [True]\n19  stu15_ade_p4   [[28, 33, 12, 13], [22, 47, 11, 6]]     [True]\n20  stu17_ace_p4        [[15, 2, 1, 6], [2, 14, 4, 4]]     [True]\n21  stu21_ace_p4      [[32, 12, 0, 0], [27, 11, 6, 0]]    [False]\n22  stu24_ace_p4     [[24, 22, 10, 2], [24, 21, 8, 5]]    [False]\n23  stu25_ace_p4     [[15, 10, 11, 4], [18, 8, 4, 10]]     [True]\n24  stu26_ace_p4    [[71, 42, 16, 6], [89, 25, 15, 6]]     [True]\n25  stu29_ade_p4    [[29, 15, 9, 11], [30, 15, 12, 7]]    [False]\n26  stu30_adf_p4     [[30, 10, 21, 3], [25, 23, 8, 8]]     [True]\n27  stu31_ade_p4     [[64, 19, 8, 0], [40, 37, 14, 0]]    [False]\n28  stu36_adf_p4      [[24, 17, 7, 2], [25, 15, 9, 1]]    [False]\n29  stu37_adf_p4      [[8, 24, 5, 14], [16, 17, 9, 9]]     [True]\n30  stu38_acf_p4       [[15, 18, 3, 3], [23, 4, 9, 3]]     [True]\n31  stu39_adf_p4    [[45, 13, 18, 9], [53, 12, 12, 8]]    [False]\n32   stu3_acf_p4     [[61, 18, 17, 7], [71, 5, 7, 20]]     [True]\n33   stu4_ade_p4         [[13, 5, 4, 0], [8, 5, 6, 3]]    [False]\n34   stu6_acf_p4      [[38, 17, 9, 9], [42, 9, 14, 8]]     [True]\n35   stu7_ade_p4    [[24, 15, 20, 4], [26, 20, 11, 6]]     [True]",
      "text/html": "<div>\n<style scoped>\n    .dataframe tbody tr th:only-of-type {\n        vertical-align: middle;\n    }\n\n    .dataframe tbody tr th {\n        vertical-align: top;\n    }\n\n    .dataframe thead th {\n        text-align: right;\n    }\n</style>\n<table border=\"1\" class=\"dataframe\">\n  <thead>\n    <tr style=\"text-align: right;\">\n      <th></th>\n      <th>Action</th>\n      <th>Counts</th>\n      <th>Stationary</th>\n    </tr>\n  </thead>\n  <tbody>\n    <tr>\n      <th>0</th>\n      <td>pro13_ace_p4</td>\n      <td>[[17, 22, 3, 2], [29, 11, 2, 2]]</td>\n      <td>[True]</td>\n    </tr>\n    <tr>\n      <th>1</th>\n      <td>pro15_ade_p4</td>\n      <td>[[14, 23, 7, 0], [11, 20, 13, 0]]</td>\n      <td>[False]</td>\n    </tr>\n    <tr>\n      <th>2</th>\n      <td>pro17_ace_p4</td>\n      <td>[[54, 25, 11, 21], [66, 19, 13, 13]]</td>\n      <td>[True]</td>\n    </tr>\n    <tr>\n      <th>3</th>\n      <td>pro18_adf_p4</td>\n      <td>[[16, 17, 0, 0], [6, 27, 0, 0]]</td>\n      <td>[False]</td>\n    </tr>\n    <tr>\n      <th>4</th>\n      <td>pro20_ade_p4</td>\n      <td>[[53, 25, 19, 1], [50, 25, 18, 5]]</td>\n      <td>[False]</td>\n    </tr>\n    <tr>\n      <th>5</th>\n      <td>pro21_ade_p4</td>\n      <td>[[56, 31, 23, 10], [67, 19, 20, 14]]</td>\n      <td>[True]</td>\n    </tr>\n    <tr>\n      <th>6</th>\n      <td>pro22_ade_p4</td>\n      <td>[[36, 15, 6, 1], [39, 3, 9, 7]]</td>\n      <td>[True]</td>\n    </tr>\n    <tr>\n      <th>7</th>\n      <td>pro23_acf_p4</td>\n      <td>[[20, 15, 2, 7], [34, 1, 4, 5]]</td>\n      <td>[True]</td>\n    </tr>\n    <tr>\n      <th>8</th>\n      <td>pro24_adf_p4</td>\n      <td>[[29, 7, 3, 4], [17, 11, 7, 8]]</td>\n      <td>[True]</td>\n    </tr>\n    <tr>\n      <th>9</th>\n      <td>pro25_acf_p4</td>\n      <td>[[28, 15, 6, 9], [35, 10, 4, 9]]</td>\n      <td>[False]</td>\n    </tr>\n    <tr>\n      <th>10</th>\n      <td>pro29_ace_p4</td>\n      <td>[[43, 21, 4, 6], [48, 21, 3, 2]]</td>\n      <td>[True]</td>\n    </tr>\n    <tr>\n      <th>11</th>\n      <td>pro31_adf_p4</td>\n      <td>[[30, 12, 7, 9], [20, 17, 15, 6]]</td>\n      <td>[True]</td>\n    </tr>\n    <tr>\n      <th>12</th>\n      <td>pro3_ace_p4</td>\n      <td>[[28, 19, 6, 0], [33, 11, 6, 3]]</td>\n      <td>[True]</td>\n    </tr>\n    <tr>\n      <th>13</th>\n      <td>pro5_adf_p4</td>\n      <td>[[25, 7, 8, 5], [21, 6, 5, 13]]</td>\n      <td>[False]</td>\n    </tr>\n    <tr>\n      <th>14</th>\n      <td>pro8_acf_p4</td>\n      <td>[[21, 4, 10, 2], [23, 5, 6, 3]]</td>\n      <td>[False]</td>\n    </tr>\n    <tr>\n      <th>15</th>\n      <td>pro9_acf_p4</td>\n      <td>[[23, 23, 2, 4], [24, 16, 6, 6]]</td>\n      <td>[False]</td>\n    </tr>\n    <tr>\n      <th>16</th>\n      <td>stu10_acf_p4</td>\n      <td>[[39, 8, 8, 4], [47, 7, 2, 3]]</td>\n      <td>[True]</td>\n    </tr>\n    <tr>\n      <th>17</th>\n      <td>stu11_adf_p4</td>\n      <td>[[32, 17, 21, 6], [49, 8, 8, 11]]</td>\n      <td>[True]</td>\n    </tr>\n    <tr>\n      <th>18</th>\n      <td>stu13_acf_p4</td>\n      <td>[[25, 1, 10, 5], [23, 12, 3, 3]]</td>\n      <td>[True]</td>\n    </tr>\n    <tr>\n      <th>19</th>\n      <td>stu15_ade_p4</td>\n      <td>[[28, 33, 12, 13], [22, 47, 11, 6]]</td>\n      <td>[True]</td>\n    </tr>\n    <tr>\n      <th>20</th>\n      <td>stu17_ace_p4</td>\n      <td>[[15, 2, 1, 6], [2, 14, 4, 4]]</td>\n      <td>[True]</td>\n    </tr>\n    <tr>\n      <th>21</th>\n      <td>stu21_ace_p4</td>\n      <td>[[32, 12, 0, 0], [27, 11, 6, 0]]</td>\n      <td>[False]</td>\n    </tr>\n    <tr>\n      <th>22</th>\n      <td>stu24_ace_p4</td>\n      <td>[[24, 22, 10, 2], [24, 21, 8, 5]]</td>\n      <td>[False]</td>\n    </tr>\n    <tr>\n      <th>23</th>\n      <td>stu25_ace_p4</td>\n      <td>[[15, 10, 11, 4], [18, 8, 4, 10]]</td>\n      <td>[True]</td>\n    </tr>\n    <tr>\n      <th>24</th>\n      <td>stu26_ace_p4</td>\n      <td>[[71, 42, 16, 6], [89, 25, 15, 6]]</td>\n      <td>[True]</td>\n    </tr>\n    <tr>\n      <th>25</th>\n      <td>stu29_ade_p4</td>\n      <td>[[29, 15, 9, 11], [30, 15, 12, 7]]</td>\n      <td>[False]</td>\n    </tr>\n    <tr>\n      <th>26</th>\n      <td>stu30_adf_p4</td>\n      <td>[[30, 10, 21, 3], [25, 23, 8, 8]]</td>\n      <td>[True]</td>\n    </tr>\n    <tr>\n      <th>27</th>\n      <td>stu31_ade_p4</td>\n      <td>[[64, 19, 8, 0], [40, 37, 14, 0]]</td>\n      <td>[False]</td>\n    </tr>\n    <tr>\n      <th>28</th>\n      <td>stu36_adf_p4</td>\n      <td>[[24, 17, 7, 2], [25, 15, 9, 1]]</td>\n      <td>[False]</td>\n    </tr>\n    <tr>\n      <th>29</th>\n      <td>stu37_adf_p4</td>\n      <td>[[8, 24, 5, 14], [16, 17, 9, 9]]</td>\n      <td>[True]</td>\n    </tr>\n    <tr>\n      <th>30</th>\n      <td>stu38_acf_p4</td>\n      <td>[[15, 18, 3, 3], [23, 4, 9, 3]]</td>\n      <td>[True]</td>\n    </tr>\n    <tr>\n      <th>31</th>\n      <td>stu39_adf_p4</td>\n      <td>[[45, 13, 18, 9], [53, 12, 12, 8]]</td>\n      <td>[False]</td>\n    </tr>\n    <tr>\n      <th>32</th>\n      <td>stu3_acf_p4</td>\n      <td>[[61, 18, 17, 7], [71, 5, 7, 20]]</td>\n      <td>[True]</td>\n    </tr>\n    <tr>\n      <th>33</th>\n      <td>stu4_ade_p4</td>\n      <td>[[13, 5, 4, 0], [8, 5, 6, 3]]</td>\n      <td>[False]</td>\n    </tr>\n    <tr>\n      <th>34</th>\n      <td>stu6_acf_p4</td>\n      <td>[[38, 17, 9, 9], [42, 9, 14, 8]]</td>\n      <td>[True]</td>\n    </tr>\n    <tr>\n      <th>35</th>\n      <td>stu7_ade_p4</td>\n      <td>[[24, 15, 20, 4], [26, 20, 11, 6]]</td>\n      <td>[True]</td>\n    </tr>\n  </tbody>\n</table>\n</div>"
     },
     "execution_count": 25,
     "metadata": {},
     "output_type": "execute_result"
    }
   ],
   "source": [
    "df_print_info"
   ],
   "metadata": {
    "collapsed": false,
    "ExecuteTime": {
     "end_time": "2024-02-16T23:01:08.143580Z",
     "start_time": "2024-02-16T23:01:08.133564Z"
    }
   }
  },
  {
   "cell_type": "code",
   "execution_count": 26,
   "outputs": [
    {
     "name": "stdout",
     "output_type": "stream",
     "text": [
      "0.6111111111111112\n"
     ]
    }
   ],
   "source": [
    "# Calculate the total number of True values inside the \"Stationary\" arrays\n",
    "total_stationary_values = df_print_info['Stationary'].apply(lambda x: sum(x)).sum()\n",
    "\n",
    "# Calculate the total number of values in the \"Stationary\" arrays\n",
    "total_values = df_print_info['Stationary'].apply(len).sum()\n",
    "\n",
    "# Calculate the ratio\n",
    "ratio_stationary = total_stationary_values / total_values\n",
    "\n",
    "# Print the result\n",
    "print(ratio_stationary)\n"
   ],
   "metadata": {
    "collapsed": false,
    "ExecuteTime": {
     "end_time": "2024-02-16T23:01:08.898790Z",
     "start_time": "2024-02-16T23:01:08.894473Z"
    }
   }
  },
  {
   "cell_type": "code",
   "execution_count": 27,
   "outputs": [],
   "source": [
    "from statsmodels.stats.multitest import multipletests\n",
    "a=multipletests(all_pvalue,alpha=0.05,method='bonferroni')"
   ],
   "metadata": {
    "collapsed": false,
    "ExecuteTime": {
     "end_time": "2024-02-16T23:01:09.486447Z",
     "start_time": "2024-02-16T23:01:09.459332Z"
    }
   }
  },
  {
   "cell_type": "code",
   "execution_count": 28,
   "outputs": [
    {
     "data": {
      "text/plain": "array([False, False, False, False, False, False, False, False, False,\n       False, False, False,  True,  True,  True,  True, False, False,\n       False, False, False, False, False, False, False, False, False,\n       False, False, False, False, False,  True,  True,  True,  True,\n        True,  True, False, False,  True,  True, False, False, False,\n       False, False, False, False, False, False, False,  True,  True,\n       False, False, False, False, False, False,  True,  True, False,\n       False,  True,  True, False, False, False, False, False, False])"
     },
     "execution_count": 28,
     "metadata": {},
     "output_type": "execute_result"
    }
   ],
   "source": [
    "a[0]"
   ],
   "metadata": {
    "collapsed": false,
    "ExecuteTime": {
     "end_time": "2024-02-16T23:01:10.039967Z",
     "start_time": "2024-02-16T23:01:10.033520Z"
    }
   }
  },
  {
   "cell_type": "code",
   "execution_count": 29,
   "outputs": [
    {
     "data": {
      "text/plain": "0.25"
     },
     "execution_count": 29,
     "metadata": {},
     "output_type": "execute_result"
    }
   ],
   "source": [
    "#count the True result in a[0]\n",
    "np.sum(a[0])/len(a[0])"
   ],
   "metadata": {
    "collapsed": false,
    "ExecuteTime": {
     "end_time": "2024-02-16T23:01:11.268817Z",
     "start_time": "2024-02-16T23:01:11.240832Z"
    }
   }
  },
  {
   "cell_type": "code",
   "execution_count": null,
   "outputs": [],
   "source": [],
   "metadata": {
    "collapsed": false
   }
  }
 ],
 "metadata": {
  "kernelspec": {
   "display_name": "Python 3",
   "language": "python",
   "name": "python3"
  },
  "language_info": {
   "codemirror_mode": {
    "name": "ipython",
    "version": 2
   },
   "file_extension": ".py",
   "mimetype": "text/x-python",
   "name": "python",
   "nbconvert_exporter": "python",
   "pygments_lexer": "ipython2",
   "version": "2.7.6"
  }
 },
 "nbformat": 4,
 "nbformat_minor": 0
}
