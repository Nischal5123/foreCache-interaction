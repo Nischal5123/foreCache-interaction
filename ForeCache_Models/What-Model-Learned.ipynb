{
 "cells": [
  {
   "cell_type": "code",
   "execution_count": 12,
   "metadata": {
    "collapsed": true,
    "ExecuteTime": {
     "end_time": "2024-10-01T21:20:36.458936Z",
     "start_time": "2024-10-01T21:20:36.455073Z"
    }
   },
   "outputs": [],
   "source": [
    "import numpy as np\n",
    "import matplotlib.pyplot as plt\n",
    "import pandas as pd\n",
    "import ast\n",
    "import re\n",
    "\n",
    "ANALYSIS_FOLDER = 'Experiments_Folder/VizRec/Analysis/'"
   ]
  },
  {
   "cell_type": "code",
   "execution_count": null,
   "outputs": [],
   "source": [
    "def rename_algorithms(df):\n",
    "           #trim everything before first - for the algorithm name\n",
    "        df['Algorithm'] = df['Algorithm'].apply(lambda x: x.split('-')[0])\n",
    "        #rename algorithm name if AC then change to Actor-Critic if Online change to Online SVM if FullOffline change to  Offline SVM\n",
    "        df['Algorithm'] = df['Algorithm'].apply(lambda x: 'Actor-Critic' if x == 'AC' else x)\n",
    "        df['Algorithm'] = df['Algorithm'].apply(lambda x: 'Online SVM' if x == 'Online' else x)\n",
    "        df['Algorithm'] = df['Algorithm'].apply(lambda x: 'Offline SVM' if x == 'FullOfflineSVM' else x)\n",
    "        return df\n"
   ],
   "metadata": {
    "collapsed": false
   }
  },
  {
   "cell_type": "code",
   "execution_count": 15,
   "outputs": [
    {
     "name": "stdout",
     "output_type": "stream",
     "text": [
      "Experiments_Folder/VizRec/movies/p1/QLearn-Single-Model.csv\n",
      "Experiments_Folder/VizRec/movies/p1/AC-Single-Model.csv\n",
      "Experiments_Folder/VizRec/movies/p1/Reinforce-Single-Model.csv\n",
      "Experiments_Folder/VizRec/movies/p1/SARSA-Single-Model.csv\n",
      "Experiments_Folder/VizRec/movies/p2/QLearn-Single-Model.csv\n",
      "Experiments_Folder/VizRec/movies/p2/AC-Single-Model.csv\n",
      "Experiments_Folder/VizRec/movies/p2/Reinforce-Single-Model.csv\n",
      "Experiments_Folder/VizRec/movies/p2/SARSA-Single-Model.csv\n",
      "Experiments_Folder/VizRec/movies/p3/QLearn-Single-Model.csv\n",
      "Experiments_Folder/VizRec/movies/p3/AC-Single-Model.csv\n",
      "Experiments_Folder/VizRec/movies/p3/Reinforce-Single-Model.csv\n",
      "Experiments_Folder/VizRec/movies/p3/SARSA-Single-Model.csv\n",
      "Experiments_Folder/VizRec/movies/p4/QLearn-Single-Model.csv\n",
      "Experiments_Folder/VizRec/movies/p4/AC-Single-Model.csv\n",
      "Experiments_Folder/VizRec/movies/p4/Reinforce-Single-Model.csv\n",
      "Experiments_Folder/VizRec/movies/p4/SARSA-Single-Model.csv\n",
      "Experiments_Folder/VizRec/birdstrikes/p1/QLearn-Single-Model.csv\n",
      "Experiments_Folder/VizRec/birdstrikes/p1/AC-Single-Model.csv\n",
      "Experiments_Folder/VizRec/birdstrikes/p1/Reinforce-Single-Model.csv\n",
      "Experiments_Folder/VizRec/birdstrikes/p1/SARSA-Single-Model.csv\n",
      "Experiments_Folder/VizRec/birdstrikes/p2/QLearn-Single-Model.csv\n",
      "Experiments_Folder/VizRec/birdstrikes/p2/AC-Single-Model.csv\n",
      "Experiments_Folder/VizRec/birdstrikes/p2/Reinforce-Single-Model.csv\n",
      "Experiments_Folder/VizRec/birdstrikes/p2/SARSA-Single-Model.csv\n",
      "Experiments_Folder/VizRec/birdstrikes/p3/QLearn-Single-Model.csv\n",
      "Experiments_Folder/VizRec/birdstrikes/p3/AC-Single-Model.csv\n",
      "Experiments_Folder/VizRec/birdstrikes/p3/Reinforce-Single-Model.csv\n",
      "Experiments_Folder/VizRec/birdstrikes/p3/SARSA-Single-Model.csv\n",
      "Experiments_Folder/VizRec/birdstrikes/p4/QLearn-Single-Model.csv\n",
      "Experiments_Folder/VizRec/birdstrikes/p4/AC-Single-Model.csv\n",
      "Experiments_Folder/VizRec/birdstrikes/p4/Reinforce-Single-Model.csv\n",
      "Experiments_Folder/VizRec/birdstrikes/p4/SARSA-Single-Model.csv\n"
     ]
    }
   ],
   "source": [
    "datasets = ['movies', 'birdstrikes']\n",
    "tasks = ['p1', 'p2', 'p3', 'p4']\n",
    "algorithms = ['QLearn-Single-Model', 'AC-Single-Model', 'Reinforce-Single-Model','SARSA-Single-Model']\n",
    "\n",
    "combined_results = pd.DataFrame()\n",
    "for dataset in datasets:\n",
    "    for task in tasks:\n",
    "        for algorithm in algorithms:\n",
    "            #combine into the same dataframe\n",
    "            print(f'Experiments_Folder/VizRec/{dataset}/{task}/{algorithm}.csv')\n",
    "            file_name = f\"Experiments_Folder/VizRec/{dataset}/{task}/{algorithm}.csv\"\n",
    "\n",
    "            results = pd.read_csv(file_name)\n",
    "            results['Dataset'] = dataset\n",
    "            results['Task'] = task\n",
    "            results['Algorithm'] = algorithm\n",
    "            combined_results = pd.concat([combined_results, results])"
   ],
   "metadata": {
    "collapsed": false,
    "ExecuteTime": {
     "end_time": "2024-10-01T21:20:59.199341Z",
     "start_time": "2024-10-01T21:20:59.146628Z"
    }
   }
  },
  {
   "cell_type": "code",
   "execution_count": 3,
   "outputs": [],
   "source": [],
   "metadata": {
    "collapsed": false,
    "ExecuteTime": {
     "end_time": "2024-10-01T21:12:46.548093Z",
     "start_time": "2024-10-01T21:12:46.546062Z"
    }
   }
  },
  {
   "cell_type": "code",
   "execution_count": 18,
   "outputs": [
    {
     "name": "stdout",
     "output_type": "stream",
     "text": [
      "QLearn-Single-Model\n",
      "Datashape: (288, 8)\n"
     ]
    },
    {
     "ename": "AxisError",
     "evalue": "axis 0 is out of bounds for array of dimension 0",
     "output_type": "error",
     "traceback": [
      "\u001B[0;31m---------------------------------------------------------------------------\u001B[0m",
      "\u001B[0;31mAxisError\u001B[0m                                 Traceback (most recent call last)",
      "Cell \u001B[0;32mIn[18], line 7\u001B[0m\n\u001B[1;32m      5\u001B[0m \u001B[38;5;28mprint\u001B[39m(\u001B[38;5;124mf\u001B[39m\u001B[38;5;124m'\u001B[39m\u001B[38;5;124mDatashape: \u001B[39m\u001B[38;5;132;01m{\u001B[39;00malgoResults\u001B[38;5;241m.\u001B[39mshape\u001B[38;5;132;01m}\u001B[39;00m\u001B[38;5;124m'\u001B[39m)\n\u001B[1;32m      6\u001B[0m \u001B[38;5;66;03m#get avaerage of the granular predictions\u001B[39;00m\n\u001B[0;32m----> 7\u001B[0m algoResults[\u001B[38;5;124m'\u001B[39m\u001B[38;5;124mGranularPredictions\u001B[39m\u001B[38;5;124m'\u001B[39m] \u001B[38;5;241m=\u001B[39m \u001B[43malgoResults\u001B[49m\u001B[43m[\u001B[49m\u001B[38;5;124;43m'\u001B[39;49m\u001B[38;5;124;43mGranularPredictions\u001B[39;49m\u001B[38;5;124;43m'\u001B[39;49m\u001B[43m]\u001B[49m\u001B[38;5;241;43m.\u001B[39;49m\u001B[43mapply\u001B[49m\u001B[43m(\u001B[49m\u001B[38;5;28;43;01mlambda\u001B[39;49;00m\u001B[43m \u001B[49m\u001B[43mx\u001B[49m\u001B[43m:\u001B[49m\u001B[43m \u001B[49m\u001B[43mnp\u001B[49m\u001B[38;5;241;43m.\u001B[39;49m\u001B[43mmean\u001B[49m\u001B[43m(\u001B[49m\u001B[43mx\u001B[49m\u001B[43m,\u001B[49m\u001B[43m \u001B[49m\u001B[43maxis\u001B[49m\u001B[38;5;241;43m=\u001B[39;49m\u001B[38;5;241;43m0\u001B[39;49m\u001B[43m)\u001B[49m\u001B[43m)\u001B[49m\n\u001B[1;32m      8\u001B[0m \u001B[38;5;66;03m#get the average of the granular predictions\u001B[39;00m\n\u001B[1;32m      9\u001B[0m algoResults[\u001B[38;5;124m'\u001B[39m\u001B[38;5;124mGranularPredictions\u001B[39m\u001B[38;5;124m'\u001B[39m] \u001B[38;5;241m=\u001B[39m algoResults[\u001B[38;5;124m'\u001B[39m\u001B[38;5;124mGranularPredictions\u001B[39m\u001B[38;5;124m'\u001B[39m]\u001B[38;5;241m.\u001B[39mapply(\u001B[38;5;28;01mlambda\u001B[39;00m x: np\u001B[38;5;241m.\u001B[39mmean(x, axis\u001B[38;5;241m=\u001B[39m\u001B[38;5;241m0\u001B[39m))\n",
      "File \u001B[0;32m~/anaconda3/envs/ForeCache-Master/lib/python3.9/site-packages/pandas/core/series.py:4771\u001B[0m, in \u001B[0;36mSeries.apply\u001B[0;34m(self, func, convert_dtype, args, **kwargs)\u001B[0m\n\u001B[1;32m   4661\u001B[0m \u001B[38;5;28;01mdef\u001B[39;00m \u001B[38;5;21mapply\u001B[39m(\n\u001B[1;32m   4662\u001B[0m     \u001B[38;5;28mself\u001B[39m,\n\u001B[1;32m   4663\u001B[0m     func: AggFuncType,\n\u001B[0;32m   (...)\u001B[0m\n\u001B[1;32m   4666\u001B[0m     \u001B[38;5;241m*\u001B[39m\u001B[38;5;241m*\u001B[39mkwargs,\n\u001B[1;32m   4667\u001B[0m ) \u001B[38;5;241m-\u001B[39m\u001B[38;5;241m>\u001B[39m DataFrame \u001B[38;5;241m|\u001B[39m Series:\n\u001B[1;32m   4668\u001B[0m \u001B[38;5;250m    \u001B[39m\u001B[38;5;124;03m\"\"\"\u001B[39;00m\n\u001B[1;32m   4669\u001B[0m \u001B[38;5;124;03m    Invoke function on values of Series.\u001B[39;00m\n\u001B[1;32m   4670\u001B[0m \n\u001B[0;32m   (...)\u001B[0m\n\u001B[1;32m   4769\u001B[0m \u001B[38;5;124;03m    dtype: float64\u001B[39;00m\n\u001B[1;32m   4770\u001B[0m \u001B[38;5;124;03m    \"\"\"\u001B[39;00m\n\u001B[0;32m-> 4771\u001B[0m     \u001B[38;5;28;01mreturn\u001B[39;00m \u001B[43mSeriesApply\u001B[49m\u001B[43m(\u001B[49m\u001B[38;5;28;43mself\u001B[39;49m\u001B[43m,\u001B[49m\u001B[43m \u001B[49m\u001B[43mfunc\u001B[49m\u001B[43m,\u001B[49m\u001B[43m \u001B[49m\u001B[43mconvert_dtype\u001B[49m\u001B[43m,\u001B[49m\u001B[43m \u001B[49m\u001B[43margs\u001B[49m\u001B[43m,\u001B[49m\u001B[43m \u001B[49m\u001B[43mkwargs\u001B[49m\u001B[43m)\u001B[49m\u001B[38;5;241;43m.\u001B[39;49m\u001B[43mapply\u001B[49m\u001B[43m(\u001B[49m\u001B[43m)\u001B[49m\n",
      "File \u001B[0;32m~/anaconda3/envs/ForeCache-Master/lib/python3.9/site-packages/pandas/core/apply.py:1123\u001B[0m, in \u001B[0;36mSeriesApply.apply\u001B[0;34m(self)\u001B[0m\n\u001B[1;32m   1120\u001B[0m     \u001B[38;5;28;01mreturn\u001B[39;00m \u001B[38;5;28mself\u001B[39m\u001B[38;5;241m.\u001B[39mapply_str()\n\u001B[1;32m   1122\u001B[0m \u001B[38;5;66;03m# self.f is Callable\u001B[39;00m\n\u001B[0;32m-> 1123\u001B[0m \u001B[38;5;28;01mreturn\u001B[39;00m \u001B[38;5;28;43mself\u001B[39;49m\u001B[38;5;241;43m.\u001B[39;49m\u001B[43mapply_standard\u001B[49m\u001B[43m(\u001B[49m\u001B[43m)\u001B[49m\n",
      "File \u001B[0;32m~/anaconda3/envs/ForeCache-Master/lib/python3.9/site-packages/pandas/core/apply.py:1174\u001B[0m, in \u001B[0;36mSeriesApply.apply_standard\u001B[0;34m(self)\u001B[0m\n\u001B[1;32m   1172\u001B[0m     \u001B[38;5;28;01melse\u001B[39;00m:\n\u001B[1;32m   1173\u001B[0m         values \u001B[38;5;241m=\u001B[39m obj\u001B[38;5;241m.\u001B[39mastype(\u001B[38;5;28mobject\u001B[39m)\u001B[38;5;241m.\u001B[39m_values\n\u001B[0;32m-> 1174\u001B[0m         mapped \u001B[38;5;241m=\u001B[39m \u001B[43mlib\u001B[49m\u001B[38;5;241;43m.\u001B[39;49m\u001B[43mmap_infer\u001B[49m\u001B[43m(\u001B[49m\n\u001B[1;32m   1175\u001B[0m \u001B[43m            \u001B[49m\u001B[43mvalues\u001B[49m\u001B[43m,\u001B[49m\n\u001B[1;32m   1176\u001B[0m \u001B[43m            \u001B[49m\u001B[43mf\u001B[49m\u001B[43m,\u001B[49m\n\u001B[1;32m   1177\u001B[0m \u001B[43m            \u001B[49m\u001B[43mconvert\u001B[49m\u001B[38;5;241;43m=\u001B[39;49m\u001B[38;5;28;43mself\u001B[39;49m\u001B[38;5;241;43m.\u001B[39;49m\u001B[43mconvert_dtype\u001B[49m\u001B[43m,\u001B[49m\n\u001B[1;32m   1178\u001B[0m \u001B[43m        \u001B[49m\u001B[43m)\u001B[49m\n\u001B[1;32m   1180\u001B[0m \u001B[38;5;28;01mif\u001B[39;00m \u001B[38;5;28mlen\u001B[39m(mapped) \u001B[38;5;129;01mand\u001B[39;00m \u001B[38;5;28misinstance\u001B[39m(mapped[\u001B[38;5;241m0\u001B[39m], ABCSeries):\n\u001B[1;32m   1181\u001B[0m     \u001B[38;5;66;03m# GH#43986 Need to do list(mapped) in order to get treated as nested\u001B[39;00m\n\u001B[1;32m   1182\u001B[0m     \u001B[38;5;66;03m#  See also GH#25959 regarding EA support\u001B[39;00m\n\u001B[1;32m   1183\u001B[0m     \u001B[38;5;28;01mreturn\u001B[39;00m obj\u001B[38;5;241m.\u001B[39m_constructor_expanddim(\u001B[38;5;28mlist\u001B[39m(mapped), index\u001B[38;5;241m=\u001B[39mobj\u001B[38;5;241m.\u001B[39mindex)\n",
      "File \u001B[0;32m~/anaconda3/envs/ForeCache-Master/lib/python3.9/site-packages/pandas/_libs/lib.pyx:2924\u001B[0m, in \u001B[0;36mpandas._libs.lib.map_infer\u001B[0;34m()\u001B[0m\n",
      "Cell \u001B[0;32mIn[18], line 7\u001B[0m, in \u001B[0;36m<lambda>\u001B[0;34m(x)\u001B[0m\n\u001B[1;32m      5\u001B[0m \u001B[38;5;28mprint\u001B[39m(\u001B[38;5;124mf\u001B[39m\u001B[38;5;124m'\u001B[39m\u001B[38;5;124mDatashape: \u001B[39m\u001B[38;5;132;01m{\u001B[39;00malgoResults\u001B[38;5;241m.\u001B[39mshape\u001B[38;5;132;01m}\u001B[39;00m\u001B[38;5;124m'\u001B[39m)\n\u001B[1;32m      6\u001B[0m \u001B[38;5;66;03m#get avaerage of the granular predictions\u001B[39;00m\n\u001B[0;32m----> 7\u001B[0m algoResults[\u001B[38;5;124m'\u001B[39m\u001B[38;5;124mGranularPredictions\u001B[39m\u001B[38;5;124m'\u001B[39m] \u001B[38;5;241m=\u001B[39m algoResults[\u001B[38;5;124m'\u001B[39m\u001B[38;5;124mGranularPredictions\u001B[39m\u001B[38;5;124m'\u001B[39m]\u001B[38;5;241m.\u001B[39mapply(\u001B[38;5;28;01mlambda\u001B[39;00m x: \u001B[43mnp\u001B[49m\u001B[38;5;241;43m.\u001B[39;49m\u001B[43mmean\u001B[49m\u001B[43m(\u001B[49m\u001B[43mx\u001B[49m\u001B[43m,\u001B[49m\u001B[43m \u001B[49m\u001B[43maxis\u001B[49m\u001B[38;5;241;43m=\u001B[39;49m\u001B[38;5;241;43m0\u001B[39;49m\u001B[43m)\u001B[49m)\n\u001B[1;32m      8\u001B[0m \u001B[38;5;66;03m#get the average of the granular predictions\u001B[39;00m\n\u001B[1;32m      9\u001B[0m algoResults[\u001B[38;5;124m'\u001B[39m\u001B[38;5;124mGranularPredictions\u001B[39m\u001B[38;5;124m'\u001B[39m] \u001B[38;5;241m=\u001B[39m algoResults[\u001B[38;5;124m'\u001B[39m\u001B[38;5;124mGranularPredictions\u001B[39m\u001B[38;5;124m'\u001B[39m]\u001B[38;5;241m.\u001B[39mapply(\u001B[38;5;28;01mlambda\u001B[39;00m x: np\u001B[38;5;241m.\u001B[39mmean(x, axis\u001B[38;5;241m=\u001B[39m\u001B[38;5;241m0\u001B[39m))\n",
      "File \u001B[0;32m~/anaconda3/envs/ForeCache-Master/lib/python3.9/site-packages/numpy/core/fromnumeric.py:3504\u001B[0m, in \u001B[0;36mmean\u001B[0;34m(a, axis, dtype, out, keepdims, where)\u001B[0m\n\u001B[1;32m   3501\u001B[0m     \u001B[38;5;28;01melse\u001B[39;00m:\n\u001B[1;32m   3502\u001B[0m         \u001B[38;5;28;01mreturn\u001B[39;00m mean(axis\u001B[38;5;241m=\u001B[39maxis, dtype\u001B[38;5;241m=\u001B[39mdtype, out\u001B[38;5;241m=\u001B[39mout, \u001B[38;5;241m*\u001B[39m\u001B[38;5;241m*\u001B[39mkwargs)\n\u001B[0;32m-> 3504\u001B[0m \u001B[38;5;28;01mreturn\u001B[39;00m \u001B[43m_methods\u001B[49m\u001B[38;5;241;43m.\u001B[39;49m\u001B[43m_mean\u001B[49m\u001B[43m(\u001B[49m\u001B[43ma\u001B[49m\u001B[43m,\u001B[49m\u001B[43m \u001B[49m\u001B[43maxis\u001B[49m\u001B[38;5;241;43m=\u001B[39;49m\u001B[43maxis\u001B[49m\u001B[43m,\u001B[49m\u001B[43m \u001B[49m\u001B[43mdtype\u001B[49m\u001B[38;5;241;43m=\u001B[39;49m\u001B[43mdtype\u001B[49m\u001B[43m,\u001B[49m\n\u001B[1;32m   3505\u001B[0m \u001B[43m                      \u001B[49m\u001B[43mout\u001B[49m\u001B[38;5;241;43m=\u001B[39;49m\u001B[43mout\u001B[49m\u001B[43m,\u001B[49m\u001B[43m \u001B[49m\u001B[38;5;241;43m*\u001B[39;49m\u001B[38;5;241;43m*\u001B[39;49m\u001B[43mkwargs\u001B[49m\u001B[43m)\u001B[49m\n",
      "File \u001B[0;32m~/anaconda3/envs/ForeCache-Master/lib/python3.9/site-packages/numpy/core/_methods.py:106\u001B[0m, in \u001B[0;36m_mean\u001B[0;34m(a, axis, dtype, out, keepdims, where)\u001B[0m\n\u001B[1;32m    102\u001B[0m arr \u001B[38;5;241m=\u001B[39m asanyarray(a)\n\u001B[1;32m    104\u001B[0m is_float16_result \u001B[38;5;241m=\u001B[39m \u001B[38;5;28;01mFalse\u001B[39;00m\n\u001B[0;32m--> 106\u001B[0m rcount \u001B[38;5;241m=\u001B[39m \u001B[43m_count_reduce_items\u001B[49m\u001B[43m(\u001B[49m\u001B[43marr\u001B[49m\u001B[43m,\u001B[49m\u001B[43m \u001B[49m\u001B[43maxis\u001B[49m\u001B[43m,\u001B[49m\u001B[43m \u001B[49m\u001B[43mkeepdims\u001B[49m\u001B[38;5;241;43m=\u001B[39;49m\u001B[43mkeepdims\u001B[49m\u001B[43m,\u001B[49m\u001B[43m \u001B[49m\u001B[43mwhere\u001B[49m\u001B[38;5;241;43m=\u001B[39;49m\u001B[43mwhere\u001B[49m\u001B[43m)\u001B[49m\n\u001B[1;32m    107\u001B[0m \u001B[38;5;28;01mif\u001B[39;00m rcount \u001B[38;5;241m==\u001B[39m \u001B[38;5;241m0\u001B[39m \u001B[38;5;28;01mif\u001B[39;00m where \u001B[38;5;129;01mis\u001B[39;00m \u001B[38;5;28;01mTrue\u001B[39;00m \u001B[38;5;28;01melse\u001B[39;00m umr_any(rcount \u001B[38;5;241m==\u001B[39m \u001B[38;5;241m0\u001B[39m, axis\u001B[38;5;241m=\u001B[39m\u001B[38;5;28;01mNone\u001B[39;00m):\n\u001B[1;32m    108\u001B[0m     warnings\u001B[38;5;241m.\u001B[39mwarn(\u001B[38;5;124m\"\u001B[39m\u001B[38;5;124mMean of empty slice.\u001B[39m\u001B[38;5;124m\"\u001B[39m, \u001B[38;5;167;01mRuntimeWarning\u001B[39;00m, stacklevel\u001B[38;5;241m=\u001B[39m\u001B[38;5;241m2\u001B[39m)\n",
      "File \u001B[0;32m~/anaconda3/envs/ForeCache-Master/lib/python3.9/site-packages/numpy/core/_methods.py:77\u001B[0m, in \u001B[0;36m_count_reduce_items\u001B[0;34m(arr, axis, keepdims, where)\u001B[0m\n\u001B[1;32m     75\u001B[0m     items \u001B[38;5;241m=\u001B[39m \u001B[38;5;241m1\u001B[39m\n\u001B[1;32m     76\u001B[0m     \u001B[38;5;28;01mfor\u001B[39;00m ax \u001B[38;5;129;01min\u001B[39;00m axis:\n\u001B[0;32m---> 77\u001B[0m         items \u001B[38;5;241m*\u001B[39m\u001B[38;5;241m=\u001B[39m arr\u001B[38;5;241m.\u001B[39mshape[\u001B[43mmu\u001B[49m\u001B[38;5;241;43m.\u001B[39;49m\u001B[43mnormalize_axis_index\u001B[49m\u001B[43m(\u001B[49m\u001B[43max\u001B[49m\u001B[43m,\u001B[49m\u001B[43m \u001B[49m\u001B[43marr\u001B[49m\u001B[38;5;241;43m.\u001B[39;49m\u001B[43mndim\u001B[49m\u001B[43m)\u001B[49m]\n\u001B[1;32m     78\u001B[0m     items \u001B[38;5;241m=\u001B[39m nt\u001B[38;5;241m.\u001B[39mintp(items)\n\u001B[1;32m     79\u001B[0m \u001B[38;5;28;01melse\u001B[39;00m:\n\u001B[1;32m     80\u001B[0m     \u001B[38;5;66;03m# TODO: Optimize case when `where` is broadcast along a non-reduction\u001B[39;00m\n\u001B[1;32m     81\u001B[0m     \u001B[38;5;66;03m# axis and full sum is more excessive than needed.\u001B[39;00m\n\u001B[1;32m     82\u001B[0m \n\u001B[1;32m     83\u001B[0m     \u001B[38;5;66;03m# guarded to protect circular imports\u001B[39;00m\n",
      "\u001B[0;31mAxisError\u001B[0m: axis 0 is out of bounds for array of dimension 0"
     ]
    }
   ],
   "source": [
    "#for each algorithm get the granular predictions\n",
    "for algorithm in algorithms:\n",
    "    print(algorithm)\n",
    "    algoResults= combined_results[combined_results['Algorithm'] == algorithm]\n",
    "    print(f'Datashape: {algoResults.shape}')\n",
    "    #get avaerage of the granular predictions\n",
    "    algoResults['GranularPredictions'] = algoResults['GranularPredictions'].apply(lambda x: np.mean(x, axis=0))\n",
    "    #get the average of the granular predictions\n",
    "    algoResults['GranularPredictions'] = algoResults['GranularPredictions'].apply(lambda x: np.mean(x, axis=0))\n",
    "\n",
    "# combined_results['GranularPredictions'] = combined_results['GranularPredictions'].apply(lambda x: ast.literal_eval(x))"
   ],
   "metadata": {
    "collapsed": false,
    "ExecuteTime": {
     "end_time": "2024-10-01T21:21:54.740868Z",
     "start_time": "2024-10-01T21:21:54.623056Z"
    }
   }
  },
  {
   "cell_type": "code",
   "execution_count": null,
   "outputs": [],
   "source": [
    "#get the Predicted vs Actual for each dataset and task\n"
   ],
   "metadata": {
    "collapsed": false
   }
  }
 ],
 "metadata": {
  "kernelspec": {
   "display_name": "Python 3",
   "language": "python",
   "name": "python3"
  },
  "language_info": {
   "codemirror_mode": {
    "name": "ipython",
    "version": 2
   },
   "file_extension": ".py",
   "mimetype": "text/x-python",
   "name": "python",
   "nbconvert_exporter": "python",
   "pygments_lexer": "ipython2",
   "version": "2.7.6"
  }
 },
 "nbformat": 4,
 "nbformat_minor": 0
}
