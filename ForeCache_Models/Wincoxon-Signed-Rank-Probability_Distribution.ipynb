{
 "cells": [
  {
   "cell_type": "code",
   "execution_count": 85,
   "metadata": {
    "collapsed": true
   },
   "outputs": [],
   "source": [
    "import glob\n",
    "import pandas as pd\n",
    "import numpy as np\n",
    "import environment2\n",
    "import pandas as pd\n",
    "pd.options.mode.chained_assignment = None  # default='warn'\n",
    "from collections import defaultdict\n",
    "from scipy.stats import mannwhitneyu\n",
    "from scipy.stats import shapiro\n",
    "from scipy.stats import ttest_ind\n",
    "from scipy.stats import wilcoxon\n",
    "import statistics\n"
   ]
  },
  {
   "cell_type": "code",
   "execution_count": 86,
   "outputs": [],
   "source": [
    "env = environment2.environment2()\n",
    "user_list_2D = env.user_list_2D"
   ],
   "metadata": {
    "collapsed": false,
    "pycharm": {
     "name": "#%%\n"
    }
   }
  },
  {
   "cell_type": "code",
   "execution_count": 87,
   "outputs": [
    {
     "data": {
      "text/plain": "'data/NDSI-2D\\\\taskname_ndsi-2d-task_userid_3abeecbe-327a-441e-be2a-0dd3763c1d45.csv'"
     },
     "execution_count": 87,
     "metadata": {},
     "output_type": "execute_result"
    }
   ],
   "source": [
    "user_list_2D[0]"
   ],
   "metadata": {
    "collapsed": false,
    "pycharm": {
     "name": "#%%\n"
    }
   }
  },
  {
   "cell_type": "code",
   "execution_count": 88,
   "outputs": [],
   "source": [
    "fileNames2D=['data/NDSI-2D\\\\taskname_ndsi-2d-task_userid_3abeecbe-327a-441e-be2a-0dd3763c1d45.csv',\n",
    " 'data/NDSI-2D\\\\taskname_ndsi-2d-task_userid_44968286-f204-4ad6-a9b5-d95b38e97866.csv',\n",
    " 'data/NDSI-2D\\\\taskname_ndsi-2d-task_userid_6d49fab8-273b-4a91-948b-ecd14556b049.csv',\n",
    " 'data/NDSI-2D\\\\taskname_ndsi-2d-task_userid_72a8d170-77ae-400e-b2a5-de9e1d33a714.csv',\n",
    " 'data/NDSI-2D\\\\taskname_ndsi-2d-task_userid_733a1ac5-0b01-485e-9b29-ac33932aa240.csv']"
   ],
   "metadata": {
    "collapsed": false,
    "pycharm": {
     "name": "#%%\n"
    }
   }
  },
  {
   "cell_type": "code",
   "execution_count": 89,
   "outputs": [],
   "source": [
    "fileNames2D=user_list_2D"
   ],
   "metadata": {
    "collapsed": false,
    "pycharm": {
     "name": "#%%\n"
    }
   }
  },
  {
   "cell_type": "code",
   "execution_count": 90,
   "outputs": [
    {
     "data": {
      "text/plain": "array(['data/NDSI-2D\\\\taskname_ndsi-2d-task_userid_3abeecbe-327a-441e-be2a-0dd3763c1d45.csv',\n       'data/NDSI-2D\\\\taskname_ndsi-2d-task_userid_44968286-f204-4ad6-a9b5-d95b38e97866.csv',\n       'data/NDSI-2D\\\\taskname_ndsi-2d-task_userid_6d49fab8-273b-4a91-948b-ecd14556b049.csv',\n       'data/NDSI-2D\\\\taskname_ndsi-2d-task_userid_72a8d170-77ae-400e-b2a5-de9e1d33a714.csv',\n       'data/NDSI-2D\\\\taskname_ndsi-2d-task_userid_733a1ac5-0b01-485e-9b29-ac33932aa240.csv',\n       'data/NDSI-2D\\\\taskname_ndsi-2d-task_userid_7d014c75-453b-4188-9e4e-fb086984896a.csv',\n       'data/NDSI-2D\\\\taskname_ndsi-2d-task_userid_82316e37-1117-4663-84b4-ddb6455c83b2.csv',\n       'data/NDSI-2D\\\\taskname_ndsi-2d-task_userid_8b544d24-3274-4bb0-9719-fd2bccc87b02.csv',\n       'data/NDSI-2D\\\\taskname_ndsi-2d-task_userid_8bf5b71b-dfd4-403f-8791-06427b26ccaf.csv',\n       'data/NDSI-2D\\\\taskname_ndsi-2d-task_userid_93be0a02-3f7a-46c9-b526-aa956ed00856.csv',\n       'data/NDSI-2D\\\\taskname_ndsi-2d-task_userid_954edb7c-4eae-47ab-9338-5c5c7eccac2d.csv',\n       'data/NDSI-2D\\\\taskname_ndsi-2d-task_userid_a6aab5f5-fdb6-41df-9fc6-221d70f8c6e8.csv',\n       'data/NDSI-2D\\\\taskname_ndsi-2d-task_userid_ac5b65d7-f260-4534-9fae-d998b726ed32.csv',\n       'data/NDSI-2D\\\\taskname_ndsi-2d-task_userid_bc9f9425-e867-4876-a5d9-791229916767.csv',\n       'data/NDSI-2D\\\\taskname_ndsi-2d-task_userid_bda49380-37ad-41c5-a109-7fa198a7691a.csv',\n       'data/NDSI-2D\\\\taskname_ndsi-2d-task_userid_cd3ef507-e3e9-4edb-9222-90a69a9bf272.csv',\n       'data/NDSI-2D\\\\taskname_ndsi-2d-task_userid_d6555293-35c7-4c27-b522-38d67d2d1b1a.csv',\n       'data/NDSI-2D\\\\taskname_ndsi-2d-task_userid_da52acdd-3cea-483c-86e5-2c2740d371aa.csv',\n       'data/NDSI-2D\\\\taskname_ndsi-2d-task_userid_e4221e48-0930-40db-af3c-f4de1ed87582.csv',\n       'data/NDSI-2D\\\\taskname_ndsi-2d-task_userid_ff56863b-0710-4a58-ad22-4bf2889c9bc0.csv'],\n      dtype='<U82')"
     },
     "execution_count": 90,
     "metadata": {},
     "output_type": "execute_result"
    }
   ],
   "source": [
    "fileNames2D"
   ],
   "metadata": {
    "collapsed": false,
    "pycharm": {
     "name": "#%%\n"
    }
   }
  },
  {
   "cell_type": "code",
   "execution_count": 91,
   "outputs": [],
   "source": [
    "def get_ROISubset(data):\n",
    "    roi_subset=[]\n",
    "    subset=1\n",
    "    for i in range(len(data)):\n",
    "        if data['State'][i]=='Sensemaking':\n",
    "            if (i < (len(data) - 1)) and data['State'][i+1]!= 'Sensemaking':\n",
    "                roi_subset.append(subset)\n",
    "                subset=subset+1\n",
    "            else:\n",
    "                roi_subset.append(subset)\n",
    "        else:\n",
    "            roi_subset.append(subset)\n",
    "    return roi_subset\n",
    "\n"
   ],
   "metadata": {
    "collapsed": false,
    "pycharm": {
     "name": "#%%\n"
    }
   }
  },
  {
   "cell_type": "code",
   "execution_count": 92,
   "outputs": [],
   "source": [
    "from collections import defaultdict\n",
    "def get_probabilities(dataframe):\n",
    "    dataframe['high-level-action']=np.zeros(len(dataframe))\n",
    "    probabilities=[]\n",
    "    map=dict()\n",
    "    # print(dataframe.head(5))\n",
    "    states=['Sensemaking','Foraging','Navigation']\n",
    "    actions=['change','same']\n",
    "    for state in states:\n",
    "      for action in actions:\n",
    "        map[state+action]=0\n",
    "\n",
    "\n",
    "    current_state=dataframe['State'][0]\n",
    "    for i in range(1,len(dataframe)):\n",
    "      if dataframe[\"State\"][i]=='Answering':\n",
    "        dataframe[\"State\"][i]='Sensemaking'\n",
    "      if dataframe[\"State\"][i]== current_state:\n",
    "        dataframe[\"high-level-action\"][i-1]=\"same\"\n",
    "      else:\n",
    "        dataframe[\"high-level-action\"][i-1]=\"change\"\n",
    "      current_state=dataframe[\"State\"][i]\n",
    "    dataframe[\"high-level-action\"][len(dataframe)-1]=\"same\"\n",
    "\n",
    "    for i in range(len(dataframe)):\n",
    "      if dataframe['State'][i]==\"Navigation\":\n",
    "        map[str(dataframe['State'][i]+dataframe['high-level-action'][i])] += 1\n",
    "        probs = (map[str(dataframe['State'][i]+dataframe['high-level-action'][i])])/(map['Navigationchange']  + map['Navigationsame'])\n",
    "\n",
    "      elif dataframe['State'][i]==\"Foraging\":\n",
    "        map[str(dataframe['State'][i]+dataframe['high-level-action'][i])] += 1\n",
    "        probs = (map[str(dataframe['State'][i]+dataframe['high-level-action'][i])])/(map['Foragingchange'] + map['Foragingsame'])\n",
    "\n",
    "      else:\n",
    "        map[str(dataframe['State'][i]+dataframe['high-level-action'][i])] += 1\n",
    "        probs = (map[str(dataframe['State'][i]+dataframe['high-level-action'][i])])/(map['Sensemakingchange'] + map['Sensemakingsame'])\n",
    "      probabilities.append(probs)\n",
    "    dataframe['probabilities']=probabilities\n",
    "    return dataframe, map"
   ],
   "metadata": {
    "collapsed": false,
    "pycharm": {
     "name": "#%%\n"
    }
   }
  },
  {
   "cell_type": "code",
   "execution_count": 93,
   "outputs": [
    {
     "name": "stdout",
     "output_type": "stream",
     "text": [
      "Requirement already satisfied: pymannkendall in c:\\users\\nischal aryal\\appdata\\local\\programs\\python\\python39\\lib\\site-packages (1.4.2)\n",
      "Requirement already satisfied: scipy in c:\\users\\nischal aryal\\appdata\\local\\programs\\python\\python39\\lib\\site-packages (from pymannkendall) (1.8.0)\n",
      "Requirement already satisfied: numpy in c:\\users\\nischal aryal\\appdata\\local\\programs\\python\\python39\\lib\\site-packages (from pymannkendall) (1.22.3)\n"
     ]
    },
    {
     "name": "stderr",
     "output_type": "stream",
     "text": [
      "WARNING: You are using pip version 21.2.3; however, version 22.3.1 is available.\n",
      "You should consider upgrading via the 'C:\\Users\\Nischal Aryal\\AppData\\Local\\Programs\\Python\\Python39\\python.exe -m pip install --upgrade pip' command.\n"
     ]
    }
   ],
   "source": [
    "!pip install pymannkendall\n",
    "from statsmodels.tsa.stattools import adfuller\n",
    "import pymannkendall as mk"
   ],
   "metadata": {
    "collapsed": false,
    "pycharm": {
     "name": "#%%\n"
    }
   }
  },
  {
   "cell_type": "code",
   "execution_count": 94,
   "outputs": [],
   "source": [
    "class StationarityTests:\n",
    "    def __init__(self, significance=.05):\n",
    "        self.SignificanceLevel = significance\n",
    "        self.pValue = None\n",
    "        self.isStationary = None\n",
    "        self.trend= None\n",
    "    def Mann_Whitney_U_Test(self,timeseries_X,timeseries_Y):\n",
    "        #check normality\n",
    "        # result1 =shapiro(timeseries_X)\n",
    "        # result2 =shapiro(timeseries_Y)\n",
    "        # px=result1.pvalue\n",
    "        # py=result2.pvalue\n",
    "\n",
    "        # if px < self.SignificanceLevel and py < self.SignificanceLevel:\n",
    "        #     print(\"X Y not normal\",px,py)\n",
    "        # else:\n",
    "        #     print(\"Normal\",px,py)\n",
    "        #return ttest_ind(timeseries_X, timeseries_Y)\n",
    "\n",
    "        return mannwhitneyu(timeseries_X, timeseries_Y,alternative='two-sided')\n",
    "\n",
    "    def Wilcoxon_Test(self,timeseries_X, timeseries_Y):\n",
    "\n",
    "        return wilcoxon(timeseries_X, timeseries_Y)\n",
    "\n",
    "    def ADF_Stationarity_Test(self, timeseries, printResults = True):\n",
    "      #Dickey-Fuller test:\n",
    "      adfTest = adfuller(timeseries, autolag='AIC')\n",
    "\n",
    "      self.pValue = adfTest[1]\n",
    "\n",
    "      if (self.pValue<self.SignificanceLevel):\n",
    "          self.isStationary = True\n",
    "      else:\n",
    "          self.isStationary = False\n",
    "\n",
    "      if printResults:\n",
    "          dfResults = pd.Series(adfTest[0:4], index=['ADF Test Statistic','P-Value','# Lags Used','# Observations Used'])\n",
    "          #Add Critical Values\n",
    "          for key,value in adfTest[4].items():\n",
    "              dfResults['Critical Value (%s)'%key] = value\n",
    "          print('Augmented Dickey-Fuller Test Results:')\n",
    "          print(dfResults)\n",
    "\n",
    "    def Mann_Kendall_Stationarity_Test(self, timeseries, printResults = True):\n",
    "      #Mann Kendall Trend Test:\n",
    "      mktTest = mk.original_test(timeseries,self.SignificanceLevel)\n",
    "\n",
    "      self.pValue = mktTest[2]\n",
    "      self.trend= mktTest[0]\n",
    "      self.isStationary = mktTest[1]\n",
    "\n",
    "      if printResults:\n",
    "          dfResults = pd.Series(mktTest[0:3], index=['Trend Type','Stationarity','P-Value'])\n",
    "          #Add Critical Values\n",
    "          for key,value in mktTest[3].items():\n",
    "              dfResults['Critical Value (%s)'%key] = value\n",
    "          print('Mann Kendall Trend Test:')\n",
    "          print(dfResults)"
   ],
   "metadata": {
    "collapsed": false,
    "pycharm": {
     "name": "#%%\n"
    }
   }
  },
  {
   "cell_type": "code",
   "execution_count": 95,
   "outputs": [
    {
     "name": "stdout",
     "output_type": "stream",
     "text": [
      "########################### data/NDSI-2D\\taskname_ndsi-2d-task_userid_3abeecbe-327a-441e-be2a-0dd3763c1d45.csv\n",
      "Initial Length:  0 12\n",
      " \n",
      "State is:  Sensemaking   MWUT Result is:   Not Enough Data\n",
      "Initial Length:  9 0\n",
      " \n",
      "State is:  Foraging   MWUT Result is:   Not Enough Data\n",
      "Initial Length:  9 7\n",
      " \n",
      "State is:  Navigation   MWUT Result Non-Stationarity:   True 0.002805673857567288\n",
      "########################### data/NDSI-2D\\taskname_ndsi-2d-task_userid_44968286-f204-4ad6-a9b5-d95b38e97866.csv\n",
      "Initial Length:  9 6\n",
      " \n",
      "State is:  Sensemaking   MWUT Result Non-Stationarity:   True 0.0017063302819882446\n",
      "Initial Length:  10 14\n",
      " \n",
      "State is:  Foraging   MWUT Result Non-Stationarity:   False 0.5572404506138093\n",
      "Initial Length:  25 23\n",
      " \n",
      "State is:  Navigation   MWUT Result Non-Stationarity:   False 0.1016676325384526\n",
      "########################### data/NDSI-2D\\taskname_ndsi-2d-task_userid_6d49fab8-273b-4a91-948b-ecd14556b049.csv\n",
      "Initial Length:  4 3\n",
      " \n",
      "State is:  Sensemaking   MWUT Result Non-Stationarity:   False 0.20761741115484578\n",
      "Initial Length:  11 11\n",
      " \n",
      "State is:  Foraging   MWUT Result Non-Stationarity:   False 0.19548053000670984\n",
      "Initial Length:  23 24\n",
      " \n",
      "State is:  Navigation   MWUT Result Non-Stationarity:   True 0.00011635525883068007\n",
      "########################### data/NDSI-2D\\taskname_ndsi-2d-task_userid_72a8d170-77ae-400e-b2a5-de9e1d33a714.csv\n",
      "Initial Length:  8 4\n",
      " \n",
      "State is:  Sensemaking   MWUT Result Non-Stationarity:   True 0.02770872045387099\n",
      "Initial Length:  10 16\n",
      " \n",
      "State is:  Foraging   MWUT Result Non-Stationarity:   False 0.3257087414834152\n",
      "Initial Length:  22 21\n",
      " \n",
      "State is:  Navigation   MWUT Result Non-Stationarity:   False 0.22068370676092086\n",
      "########################### data/NDSI-2D\\taskname_ndsi-2d-task_userid_733a1ac5-0b01-485e-9b29-ac33932aa240.csv\n",
      "Initial Length:  12 8\n",
      " \n",
      "State is:  Sensemaking   MWUT Result Non-Stationarity:   True 0.0459241351763216\n",
      "Initial Length:  1 7\n",
      " \n",
      "State is:  Foraging   MWUT Result is:   Not Enough Data\n",
      "Initial Length:  9 6\n",
      " \n",
      "State is:  Navigation   MWUT Result Non-Stationarity:   False 0.9527152806264199\n",
      "########################### data/NDSI-2D\\taskname_ndsi-2d-task_userid_7d014c75-453b-4188-9e4e-fb086984896a.csv\n",
      "Initial Length:  27 45\n",
      " \n",
      "State is:  Sensemaking   MWUT Result Non-Stationarity:   False 0.4596748061145377\n",
      "Initial Length:  39 12\n",
      " \n",
      "State is:  Foraging   MWUT Result Non-Stationarity:   True 2.191067343971626e-05\n",
      "Initial Length:  32 40\n",
      " \n",
      "State is:  Navigation   MWUT Result Non-Stationarity:   False 0.6335951441493173\n",
      "########################### data/NDSI-2D\\taskname_ndsi-2d-task_userid_82316e37-1117-4663-84b4-ddb6455c83b2.csv\n",
      "Initial Length:  1 12\n",
      " \n",
      "State is:  Sensemaking   MWUT Result is:   Not Enough Data\n",
      "Initial Length:  9 1\n",
      " \n",
      "State is:  Foraging   MWUT Result is:   Not Enough Data\n",
      "Initial Length:  14 12\n",
      " \n",
      "State is:  Navigation   MWUT Result Non-Stationarity:   True 1.2999785950944767e-05\n",
      "########################### data/NDSI-2D\\taskname_ndsi-2d-task_userid_8b544d24-3274-4bb0-9719-fd2bccc87b02.csv\n",
      "Initial Length:  5 4\n",
      " \n",
      "State is:  Sensemaking   MWUT Result Non-Stationarity:   True 0.014621862563070118\n",
      "Initial Length:  6 8\n",
      " \n",
      "State is:  Foraging   MWUT Result Non-Stationarity:   False 0.36959828606254597\n",
      "Initial Length:  26 25\n",
      " \n",
      "State is:  Navigation   MWUT Result Non-Stationarity:   True 0.0006687927148188939\n",
      "########################### data/NDSI-2D\\taskname_ndsi-2d-task_userid_8bf5b71b-dfd4-403f-8791-06427b26ccaf.csv\n",
      "Initial Length:  11 5\n",
      " \n",
      "State is:  Sensemaking   MWUT Result Non-Stationarity:   True 0.03831915970983743\n",
      "Initial Length:  10 13\n",
      " \n",
      "State is:  Foraging   MWUT Result Non-Stationarity:   False 0.15202143775702542\n",
      "Initial Length:  19 23\n",
      " \n",
      "State is:  Navigation   MWUT Result Non-Stationarity:   True 0.005776502135204783\n",
      "########################### data/NDSI-2D\\taskname_ndsi-2d-task_userid_93be0a02-3f7a-46c9-b526-aa956ed00856.csv\n",
      "Initial Length:  11 42\n",
      " \n",
      "State is:  Sensemaking   MWUT Result Non-Stationarity:   False 0.8692556054100578\n",
      "Initial Length:  34 7\n",
      " \n",
      "State is:  Foraging   MWUT Result Non-Stationarity:   True 0.015217793640292906\n",
      "Initial Length:  20 16\n",
      " \n",
      "State is:  Navigation   MWUT Result Non-Stationarity:   True 5.228826660483985e-06\n",
      "########################### data/NDSI-2D\\taskname_ndsi-2d-task_userid_954edb7c-4eae-47ab-9338-5c5c7eccac2d.csv\n",
      "Initial Length:  3 7\n",
      " \n",
      "State is:  Sensemaking   MWUT Result Non-Stationarity:   True 0.02103526003050671\n",
      "Initial Length:  5 4\n",
      " \n",
      "State is:  Foraging   MWUT Result Non-Stationarity:   False 0.6985353583033387\n",
      "Initial Length:  22 18\n",
      " \n",
      "State is:  Navigation   MWUT Result Non-Stationarity:   True 0.009296715844458783\n",
      "########################### data/NDSI-2D\\taskname_ndsi-2d-task_userid_a6aab5f5-fdb6-41df-9fc6-221d70f8c6e8.csv\n",
      "Initial Length:  4 10\n",
      " \n",
      "State is:  Sensemaking   MWUT Result Non-Stationarity:   False 0.28457004740497716\n",
      "Initial Length:  8 3\n",
      " \n",
      "State is:  Foraging   MWUT Result Non-Stationarity:   False 0.6057076762970572\n",
      "Initial Length:  18 17\n",
      " \n",
      "State is:  Navigation   MWUT Result Non-Stationarity:   True 0.027080163449972026\n",
      "########################### data/NDSI-2D\\taskname_ndsi-2d-task_userid_ac5b65d7-f260-4534-9fae-d998b726ed32.csv\n",
      "Initial Length:  8 14\n",
      " \n",
      "State is:  Sensemaking   MWUT Result Non-Stationarity:   False 0.16992989526206803\n",
      "Initial Length:  15 13\n",
      " \n",
      "State is:  Foraging   MWUT Result Non-Stationarity:   True 0.0208401050220613\n",
      "Initial Length:  33 29\n",
      " \n",
      "State is:  Navigation   MWUT Result Non-Stationarity:   True 4.095448367735249e-08\n",
      "########################### data/NDSI-2D\\taskname_ndsi-2d-task_userid_bc9f9425-e867-4876-a5d9-791229916767.csv\n",
      "Initial Length:  2 2\n",
      " \n",
      "State is:  Sensemaking   MWUT Result is:   Not Enough Data\n",
      "Initial Length:  11 12\n",
      " \n",
      "State is:  Foraging   MWUT Result Non-Stationarity:   True 0.012359857353564797\n",
      "Initial Length:  9 9\n",
      " \n",
      "State is:  Navigation   MWUT Result Non-Stationarity:   False 1.0\n",
      "########################### data/NDSI-2D\\taskname_ndsi-2d-task_userid_bda49380-37ad-41c5-a109-7fa198a7691a.csv\n",
      "Initial Length:  24 27\n",
      " \n",
      "State is:  Sensemaking   MWUT Result Non-Stationarity:   False 0.7912347855328328\n",
      "Initial Length:  8 17\n",
      " \n",
      "State is:  Foraging   MWUT Result Non-Stationarity:   True 0.00015010942097718144\n",
      "Initial Length:  32 21\n",
      " \n",
      "State is:  Navigation   MWUT Result Non-Stationarity:   True 0.0043205252654905145\n",
      "########################### data/NDSI-2D\\taskname_ndsi-2d-task_userid_cd3ef507-e3e9-4edb-9222-90a69a9bf272.csv\n",
      "Initial Length:  2 14\n",
      " \n",
      "State is:  Sensemaking   MWUT Result is:   Not Enough Data\n",
      "Initial Length:  16 6\n",
      " \n",
      "State is:  Foraging   MWUT Result Non-Stationarity:   False 1.0\n",
      "Initial Length:  15 13\n",
      " \n",
      "State is:  Navigation   MWUT Result Non-Stationarity:   True 5.3096362735112585e-05\n",
      "########################### data/NDSI-2D\\taskname_ndsi-2d-task_userid_d6555293-35c7-4c27-b522-38d67d2d1b1a.csv\n",
      "Initial Length:  7 14\n",
      " \n",
      "State is:  Sensemaking   MWUT Result Non-Stationarity:   False 0.1548581686916772\n",
      "Initial Length:  2 9\n",
      " \n",
      "State is:  Foraging   MWUT Result is:   Not Enough Data\n",
      "Initial Length:  32 18\n",
      " \n",
      "State is:  Navigation   MWUT Result Non-Stationarity:   True 1.5441610372375408e-07\n",
      "########################### data/NDSI-2D\\taskname_ndsi-2d-task_userid_da52acdd-3cea-483c-86e5-2c2740d371aa.csv\n",
      "Initial Length:  8 6\n",
      " \n",
      "State is:  Sensemaking   MWUT Result Non-Stationarity:   True 0.0022835035647503694\n",
      "Initial Length:  10 11\n",
      " \n",
      "State is:  Foraging   MWUT Result Non-Stationarity:   False 0.7989549205945298\n",
      "Initial Length:  44 46\n",
      " \n",
      "State is:  Navigation   MWUT Result Non-Stationarity:   False 0.23130560763820174\n",
      "########################### data/NDSI-2D\\taskname_ndsi-2d-task_userid_e4221e48-0930-40db-af3c-f4de1ed87582.csv\n",
      "Initial Length:  2 10\n",
      " \n",
      "State is:  Sensemaking   MWUT Result is:   Not Enough Data\n",
      "Initial Length:  7 6\n",
      " \n",
      "State is:  Foraging   MWUT Result Non-Stationarity:   False 0.2941500181847302\n",
      "Initial Length:  15 7\n",
      " \n",
      "State is:  Navigation   MWUT Result Non-Stationarity:   True 0.03740227329584481\n",
      "########################### data/NDSI-2D\\taskname_ndsi-2d-task_userid_ff56863b-0710-4a58-ad22-4bf2889c9bc0.csv\n",
      "Initial Length:  24 38\n",
      " \n",
      "State is:  Sensemaking   MWUT Result Non-Stationarity:   True 6.388097816408855e-05\n",
      "Initial Length:  15 23\n",
      " \n",
      "State is:  Foraging   MWUT Result Non-Stationarity:   True 6.6325655844180035e-06\n",
      "Initial Length:  49 27\n",
      " \n",
      "State is:  Navigation   MWUT Result Non-Stationarity:   True 7.113793675683663e-13\n"
     ]
    }
   ],
   "source": [
    "user=[]\n",
    "subtask=[]\n",
    "all_states=[]\n",
    "result=[]\n",
    "\n",
    "output_dataframe=pd.DataFrame(columns=['User','Subtask','State','Result'])\n",
    "for u in fileNames2D:\n",
    "  print(\"###########################\",u)\n",
    "  index=[]\n",
    "\n",
    "  all_dfs=[]\n",
    "  maps=[]\n",
    "  df = pd.read_csv(u)\n",
    "  u=u.lstrip('data/NDSI-2D\\\\taskname_ndsi-2d-task_')\n",
    "  #u=u.lstrip('data/NDSI-3D\\\\taskname_ndsi-3d-task_')\n",
    "  u=u.rstrip('.csv')\n",
    "\n",
    "\n",
    "\n",
    "  states=[\"Sensemaking\",'Foraging','Navigation']\n",
    "  mid= round(len(df)/2)\n",
    "\n",
    "  # print(df.ROI_Cycle.unique())\n",
    "  slice1=df[:mid].reset_index(drop=True)\n",
    "  slice2=df[mid:].reset_index(drop=True)\n",
    "  df1,_=get_probabilities(slice1)\n",
    "  df2,_=get_probabilities(slice2)\n",
    "  #print(\"Subset sizes:, \",len(df1),len(df2))\n",
    "    #print(\"Roi Cycle: #######################\", k, \" TimeSpent: ############## \", dfs['IdleTime'].sum())\n",
    "  dfs=[df1,df2]\n",
    "  serieses=np.empty(shape=(2,3),dtype=object)\n",
    "  for i in range(len(dfs)):\n",
    "      for j in range(len(states)):\n",
    "\n",
    "\n",
    "\n",
    "          same_probs=[]\n",
    "          state_df=dfs[i].loc[(dfs[i]['State'] == states[j])]\n",
    "          state_df.reset_index(inplace=True)\n",
    "          for indx in range(len(state_df)):\n",
    "              if state_df['high-level-action'][indx]=='same':\n",
    "                  same_probs.append(state_df['probabilities'][indx])\n",
    "              else:\n",
    "                  same_probs.append(1-state_df['probabilities'][indx])\n",
    "\n",
    "          serieses[i][j]=same_probs\n",
    "\n",
    "  for k in range(serieses.shape[1]):\n",
    "      all_states.append(states[k])\n",
    "      user.append(u)\n",
    "      subtask.append([1,2])\n",
    "      x=list(serieses[0][k])\n",
    "      y=list(serieses[1][k])\n",
    "      print(\"Initial Length: \",len(x),len(y))\n",
    "\n",
    "      if x is None:\n",
    "        x = [0.5] * len(y)\n",
    "      elif y is None:\n",
    "        y = [0.5]* len(x)\n",
    "      else:\n",
    "          print(\" \")\n",
    "      # if len(x) > len(y):\n",
    "      #   y = y + statistics.median(y) * (len(x) - len(y))\n",
    "      # else:\n",
    "      #   x = x + statistics.median(y) * (len(y) - len(x))\n",
    "\n",
    "\n",
    "      if  (len(x)>2 and len(y)>2):\n",
    "                sTest_state = StationarityTests()\n",
    "                trend=sTest_state.Mann_Whitney_U_Test(x, y)\n",
    "                print(\"State is: \", states[k], \"  MWUT Result Non-Stationarity:  \", trend.pvalue < 0.05, trend.pvalue)\n",
    "                result.append(trend.pvalue < 0.05)\n",
    "      else :\n",
    "                 print(\"State is: \", states[k], \"  MWUT Result is:  \",\"Not Enough Data\")\n",
    "                 result.append('NED')\n",
    "\n",
    "output_dataframe['User']=user\n",
    "output_dataframe['Result']=result\n",
    "output_dataframe['State']=all_states\n",
    "output_dataframe['Subtask']=subtask\n"
   ],
   "metadata": {
    "collapsed": false,
    "pycharm": {
     "name": "#%%\n"
    }
   }
  },
  {
   "cell_type": "code",
   "execution_count": 96,
   "outputs": [
    {
     "data": {
      "text/plain": "                                          User Subtask        State Result\n0  userid_3abeecbe-327a-441e-be2a-0dd3763c1d45  [1, 2]  Sensemaking    NED\n1  userid_3abeecbe-327a-441e-be2a-0dd3763c1d45  [1, 2]     Foraging    NED\n2  userid_3abeecbe-327a-441e-be2a-0dd3763c1d45  [1, 2]   Navigation   True\n3  userid_44968286-f204-4ad6-a9b5-d95b38e97866  [1, 2]  Sensemaking   True\n4  userid_44968286-f204-4ad6-a9b5-d95b38e97866  [1, 2]     Foraging  False",
      "text/html": "<div>\n<style scoped>\n    .dataframe tbody tr th:only-of-type {\n        vertical-align: middle;\n    }\n\n    .dataframe tbody tr th {\n        vertical-align: top;\n    }\n\n    .dataframe thead th {\n        text-align: right;\n    }\n</style>\n<table border=\"1\" class=\"dataframe\">\n  <thead>\n    <tr style=\"text-align: right;\">\n      <th></th>\n      <th>User</th>\n      <th>Subtask</th>\n      <th>State</th>\n      <th>Result</th>\n    </tr>\n  </thead>\n  <tbody>\n    <tr>\n      <th>0</th>\n      <td>userid_3abeecbe-327a-441e-be2a-0dd3763c1d45</td>\n      <td>[1, 2]</td>\n      <td>Sensemaking</td>\n      <td>NED</td>\n    </tr>\n    <tr>\n      <th>1</th>\n      <td>userid_3abeecbe-327a-441e-be2a-0dd3763c1d45</td>\n      <td>[1, 2]</td>\n      <td>Foraging</td>\n      <td>NED</td>\n    </tr>\n    <tr>\n      <th>2</th>\n      <td>userid_3abeecbe-327a-441e-be2a-0dd3763c1d45</td>\n      <td>[1, 2]</td>\n      <td>Navigation</td>\n      <td>True</td>\n    </tr>\n    <tr>\n      <th>3</th>\n      <td>userid_44968286-f204-4ad6-a9b5-d95b38e97866</td>\n      <td>[1, 2]</td>\n      <td>Sensemaking</td>\n      <td>True</td>\n    </tr>\n    <tr>\n      <th>4</th>\n      <td>userid_44968286-f204-4ad6-a9b5-d95b38e97866</td>\n      <td>[1, 2]</td>\n      <td>Foraging</td>\n      <td>False</td>\n    </tr>\n  </tbody>\n</table>\n</div>"
     },
     "execution_count": 96,
     "metadata": {},
     "output_type": "execute_result"
    }
   ],
   "source": [
    "output_dataframe.head(5)"
   ],
   "metadata": {
    "collapsed": false,
    "pycharm": {
     "name": "#%%\n"
    }
   }
  },
  {
   "cell_type": "code",
   "execution_count": 97,
   "outputs": [],
   "source": [
    "output_dataframe.to_csv(\"data/NDSI-2D\\\\manwhitneyresults.csv\", index=False)\n",
    "#output_dataframe.to_csv(\"data/NDSI-3D\\\\probability_distribution_roi_cycle_3d.csv\", index=False)"
   ],
   "metadata": {
    "collapsed": false,
    "pycharm": {
     "name": "#%%\n"
    }
   }
  },
  {
   "cell_type": "code",
   "execution_count": null,
   "outputs": [],
   "source": [],
   "metadata": {
    "collapsed": false,
    "pycharm": {
     "name": "#%%\n"
    }
   }
  }
 ],
 "metadata": {
  "kernelspec": {
   "display_name": "Python 3",
   "language": "python",
   "name": "python3"
  },
  "language_info": {
   "codemirror_mode": {
    "name": "ipython",
    "version": 2
   },
   "file_extension": ".py",
   "mimetype": "text/x-python",
   "name": "python",
   "nbconvert_exporter": "python",
   "pygments_lexer": "ipython2",
   "version": "2.7.6"
  }
 },
 "nbformat": 4,
 "nbformat_minor": 0
}