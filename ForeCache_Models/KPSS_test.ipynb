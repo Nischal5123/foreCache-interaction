{
 "cells": [
  {
   "cell_type": "code",
   "execution_count": 139,
   "metadata": {
    "collapsed": true,
    "ExecuteTime": {
     "end_time": "2023-11-20T22:31:29.213755Z",
     "start_time": "2023-11-20T22:31:29.209866Z"
    }
   },
   "outputs": [],
   "source": [
    "import numpy as np\n",
    "import environment2\n",
    "import pandas as pd\n",
    "pd.options.mode.chained_assignment = None  # default='warn'\n",
    "from collections import defaultdict\n",
    "import seaborn as sns\n",
    "import matplotlib.pyplot as plt\n",
    "from statsmodels.tsa.stattools import kpss"
   ]
  },
  {
   "cell_type": "code",
   "execution_count": 140,
   "outputs": [],
   "source": [
    "env = environment2.environment2()\n",
    "user_list_2D = env.user_list_2D"
   ],
   "metadata": {
    "collapsed": false,
    "pycharm": {
     "name": "#%%\n"
    },
    "ExecuteTime": {
     "end_time": "2023-11-20T22:31:29.560933Z",
     "start_time": "2023-11-20T22:31:29.557489Z"
    }
   }
  },
  {
   "cell_type": "code",
   "execution_count": 141,
   "outputs": [
    {
     "data": {
      "text/plain": "'data/NDSI-2D/U_1.csv'"
     },
     "execution_count": 141,
     "metadata": {},
     "output_type": "execute_result"
    }
   ],
   "source": [
    "user_list_2D[0]"
   ],
   "metadata": {
    "collapsed": false,
    "pycharm": {
     "name": "#%%\n"
    },
    "ExecuteTime": {
     "end_time": "2023-11-20T22:31:29.928326Z",
     "start_time": "2023-11-20T22:31:29.925200Z"
    }
   }
  },
  {
   "cell_type": "code",
   "execution_count": 142,
   "outputs": [],
   "source": [
    "fileNames2D=user_list_2D"
   ],
   "metadata": {
    "collapsed": false,
    "pycharm": {
     "name": "#%%\n"
    },
    "ExecuteTime": {
     "end_time": "2023-11-20T22:31:30.336518Z",
     "start_time": "2023-11-20T22:31:30.332859Z"
    }
   }
  },
  {
   "cell_type": "code",
   "execution_count": 143,
   "outputs": [
    {
     "data": {
      "text/plain": "array(['data/NDSI-2D/U_1.csv', 'data/NDSI-2D/U_10.csv',\n       'data/NDSI-2D/U_11.csv', 'data/NDSI-2D/U_12.csv',\n       'data/NDSI-2D/U_13.csv', 'data/NDSI-2D/U_14.csv',\n       'data/NDSI-2D/U_15.csv', 'data/NDSI-2D/U_16.csv',\n       'data/NDSI-2D/U_17.csv', 'data/NDSI-2D/U_18.csv',\n       'data/NDSI-2D/U_19.csv', 'data/NDSI-2D/U_2.csv',\n       'data/NDSI-2D/U_20.csv', 'data/NDSI-2D/U_3.csv',\n       'data/NDSI-2D/U_4.csv', 'data/NDSI-2D/U_5.csv',\n       'data/NDSI-2D/U_6.csv', 'data/NDSI-2D/U_7.csv',\n       'data/NDSI-2D/U_8.csv', 'data/NDSI-2D/U_9.csv'], dtype='<U21')"
     },
     "execution_count": 143,
     "metadata": {},
     "output_type": "execute_result"
    }
   ],
   "source": [
    "fileNames2D"
   ],
   "metadata": {
    "collapsed": false,
    "pycharm": {
     "name": "#%%\n"
    },
    "ExecuteTime": {
     "end_time": "2023-11-20T22:31:30.768874Z",
     "start_time": "2023-11-20T22:31:30.765658Z"
    }
   }
  },
  {
   "cell_type": "code",
   "execution_count": 145,
   "outputs": [],
   "source": [
    "def get_probabilities(dataframe,phase):\n",
    "    dataframe['high-level-action']=np.zeros(len(dataframe),str)\n",
    "    probabilities=[]\n",
    "    map=dict()\n",
    "    # print(dataframe.head(5))\n",
    "    states=['Sensemaking','Foraging','Navigation']\n",
    "    actions=['change','same']\n",
    "    for state in states:\n",
    "      for action in actions:\n",
    "        map[state+action]=0\n",
    "\n",
    "\n",
    "    current_state=dataframe['State'][0]\n",
    "\n",
    "    for i in range(1,len(dataframe)):\n",
    "      if dataframe[\"State\"][i]== current_state:\n",
    "        dataframe[\"high-level-action\"][i-1]=\"same\"\n",
    "      else:\n",
    "        dataframe[\"high-level-action\"][i-1]=\"change\"\n",
    "      current_state=dataframe[\"State\"][i]\n",
    "    dataframe[\"high-level-action\"][len(dataframe)-1]=\"same\"\n",
    "\n",
    "\n",
    "    for i in range(len(dataframe)):\n",
    "      if phase == 'Navigation' and dataframe['State'][i]==\"Navigation\":\n",
    "        map[str(dataframe['State'][i]+dataframe['high-level-action'][i])] += 1\n",
    "        probs = (map['Navigationsame'])/(map['Navigationchange']  + map['Navigationsame'])\n",
    "\n",
    "      elif phase == 'Foraging' and dataframe['State'][i]==\"Foraging\":\n",
    "        map[str(dataframe['State'][i]+dataframe['high-level-action'][i])] += 1\n",
    "        probs = (map['Foragingsame'])/(map['Foragingchange'] + map['Foragingsame'])\n",
    "\n",
    "      elif  phase == 'Sensemaking' and dataframe['State'][i]==\"Sensemaking\":\n",
    "        map[str(dataframe['State'][i]+dataframe['high-level-action'][i])] += 1\n",
    "        probs = (map['Sensemakingsame'])/(map['Sensemakingchange'] + map['Sensemakingsame'])\n",
    "      probabilities.append(probs)\n",
    "    dataframe['probabilities']=probabilities\n",
    "    return dataframe, map"
   ],
   "metadata": {
    "collapsed": false,
    "ExecuteTime": {
     "end_time": "2023-11-20T22:32:08.387448Z",
     "start_time": "2023-11-20T22:32:08.383241Z"
    }
   }
  },
  {
   "cell_type": "code",
   "execution_count": 146,
   "outputs": [],
   "source": [
    "class StationarityTests:\n",
    "    def __init__(self, significance=.05):\n",
    "        self.SignificanceLevel = significance\n",
    "        self.pValue = None\n",
    "        self.isStationary = None\n",
    "        self.trend= None\n",
    "    def kpss_test(self, timeseries):\n",
    "        kpsstest = kpss(timeseries, regression=\"c\", nlags=\"auto\")\n",
    "        kpss_output = pd.Series(\n",
    "            kpsstest[0:3], index=[\"Test Statistic\", \"p-value\", \"Lags Used\"]\n",
    "        )\n",
    "        for key, value in kpsstest[3].items():\n",
    "            kpss_output[\"Critical Value (%s)\" % key] = value\n",
    "        return kpss_output\n"
   ],
   "metadata": {
    "collapsed": false,
    "pycharm": {
     "name": "#%%\n"
    },
    "ExecuteTime": {
     "end_time": "2023-11-20T22:32:09.730486Z",
     "start_time": "2023-11-20T22:32:09.724225Z"
    }
   }
  },
  {
   "cell_type": "code",
   "execution_count": 147,
   "outputs": [
    {
     "ename": "TypeError",
     "evalue": "get_probabilities() missing 1 required positional argument: 'phase'",
     "output_type": "error",
     "traceback": [
      "\u001B[0;31m---------------------------------------------------------------------------\u001B[0m",
      "\u001B[0;31mTypeError\u001B[0m                                 Traceback (most recent call last)",
      "Cell \u001B[0;32mIn[147], line 5\u001B[0m\n\u001B[1;32m      3\u001B[0m u \u001B[38;5;241m=\u001B[39m u\u001B[38;5;241m.\u001B[39mlstrip(\u001B[38;5;124m'\u001B[39m\u001B[38;5;124mdata/NDSI-2D\u001B[39m\u001B[38;5;130;01m\\\\\u001B[39;00m\u001B[38;5;124m'\u001B[39m)\n\u001B[1;32m      4\u001B[0m u \u001B[38;5;241m=\u001B[39m u\u001B[38;5;241m.\u001B[39mrstrip(\u001B[38;5;124m'\u001B[39m\u001B[38;5;124m.csv\u001B[39m\u001B[38;5;124m'\u001B[39m)\n\u001B[0;32m----> 5\u001B[0m df_probab, _ \u001B[38;5;241m=\u001B[39m \u001B[43mget_probabilities\u001B[49m\u001B[43m(\u001B[49m\u001B[43mdf\u001B[49m\u001B[43m)\u001B[49m\n\u001B[1;32m      6\u001B[0m \u001B[38;5;28;01mif\u001B[39;00m u\u001B[38;5;241m==\u001B[39m\u001B[38;5;124m'\u001B[39m\u001B[38;5;124mU_11\u001B[39m\u001B[38;5;124m'\u001B[39m:\n\u001B[1;32m      7\u001B[0m     test\u001B[38;5;241m=\u001B[39mdf_probab\n",
      "\u001B[0;31mTypeError\u001B[0m: get_probabilities() missing 1 required positional argument: 'phase'"
     ]
    }
   ],
   "source": [
    "for i, u in enumerate(fileNames2D):\n",
    "    df = pd.read_csv(u)\n",
    "    u = u.lstrip('data/NDSI-2D\\\\')\n",
    "    u = u.rstrip('.csv')\n",
    "    df_probab, _ = get_probabilities(df)\n",
    "    if u=='U_11':\n",
    "        test=df_probab"
   ],
   "metadata": {
    "collapsed": false,
    "ExecuteTime": {
     "end_time": "2023-11-20T22:32:10.857991Z",
     "start_time": "2023-11-20T22:32:10.830764Z"
    }
   }
  },
  {
   "cell_type": "code",
   "execution_count": 135,
   "outputs": [
    {
     "name": "stderr",
     "output_type": "stream",
     "text": [
      "/Users/aryal/anaconda3/envs/ForeCache-Master/lib/python3.9/site-packages/statsmodels/tsa/stattools.py:2114: RuntimeWarning: invalid value encountered in scalar divide\n",
      "  s_hat = s1 / s0\n"
     ]
    },
    {
     "ename": "ValueError",
     "evalue": "cannot convert float NaN to integer",
     "output_type": "error",
     "traceback": [
      "\u001B[0;31m---------------------------------------------------------------------------\u001B[0m",
      "\u001B[0;31mValueError\u001B[0m                                Traceback (most recent call last)",
      "Cell \u001B[0;32mIn[135], line 3\u001B[0m\n\u001B[1;32m      1\u001B[0m test_subset\u001B[38;5;241m=\u001B[39mtest[test[\u001B[38;5;124m'\u001B[39m\u001B[38;5;124mState\u001B[39m\u001B[38;5;124m'\u001B[39m] \u001B[38;5;241m==\u001B[39m \u001B[38;5;124m'\u001B[39m\u001B[38;5;124mSensemaking\u001B[39m\u001B[38;5;124m'\u001B[39m]\n\u001B[1;32m      2\u001B[0m test_subset\n\u001B[0;32m----> 3\u001B[0m kpss_stat, kpss_p_value, _, _ \u001B[38;5;241m=\u001B[39m \u001B[43mkpss\u001B[49m\u001B[43m(\u001B[49m\u001B[43mtest_subset\u001B[49m\u001B[43m[\u001B[49m\u001B[38;5;124;43m'\u001B[39;49m\u001B[38;5;124;43mprobabilities\u001B[39;49m\u001B[38;5;124;43m'\u001B[39;49m\u001B[43m]\u001B[49m\u001B[43m)\u001B[49m\n",
      "File \u001B[0;32m~/anaconda3/envs/ForeCache-Master/lib/python3.9/site-packages/statsmodels/tsa/stattools.py:2033\u001B[0m, in \u001B[0;36mkpss\u001B[0;34m(x, regression, nlags, store)\u001B[0m\n\u001B[1;32m   2026\u001B[0m         warnings\u001B[38;5;241m.\u001B[39mwarn(\n\u001B[1;32m   2027\u001B[0m             \u001B[38;5;124m\"\u001B[39m\u001B[38;5;124mNone is not a valid value for nlags. It must be an integer, \u001B[39m\u001B[38;5;124m\"\u001B[39m\n\u001B[1;32m   2028\u001B[0m             \u001B[38;5;124m\"\u001B[39m\u001B[38;5;124m'\u001B[39m\u001B[38;5;124mauto\u001B[39m\u001B[38;5;124m'\u001B[39m\u001B[38;5;124m or \u001B[39m\u001B[38;5;124m'\u001B[39m\u001B[38;5;124mlegacy\u001B[39m\u001B[38;5;124m'\u001B[39m\u001B[38;5;124m. None will raise starting in 0.14\u001B[39m\u001B[38;5;124m\"\u001B[39m,\n\u001B[1;32m   2029\u001B[0m             \u001B[38;5;167;01mFutureWarning\u001B[39;00m,\n\u001B[1;32m   2030\u001B[0m             stacklevel\u001B[38;5;241m=\u001B[39m\u001B[38;5;241m2\u001B[39m,\n\u001B[1;32m   2031\u001B[0m         )\n\u001B[1;32m   2032\u001B[0m     \u001B[38;5;66;03m# autolag method of Hobijn et al. (1998)\u001B[39;00m\n\u001B[0;32m-> 2033\u001B[0m     nlags \u001B[38;5;241m=\u001B[39m \u001B[43m_kpss_autolag\u001B[49m\u001B[43m(\u001B[49m\u001B[43mresids\u001B[49m\u001B[43m,\u001B[49m\u001B[43m \u001B[49m\u001B[43mnobs\u001B[49m\u001B[43m)\u001B[49m\n\u001B[1;32m   2034\u001B[0m     nlags \u001B[38;5;241m=\u001B[39m \u001B[38;5;28mmin\u001B[39m(nlags, nobs \u001B[38;5;241m-\u001B[39m \u001B[38;5;241m1\u001B[39m)\n\u001B[1;32m   2035\u001B[0m \u001B[38;5;28;01melif\u001B[39;00m \u001B[38;5;28misinstance\u001B[39m(nlags, \u001B[38;5;28mstr\u001B[39m):\n",
      "File \u001B[0;32m~/anaconda3/envs/ForeCache-Master/lib/python3.9/site-packages/statsmodels/tsa/stattools.py:2117\u001B[0m, in \u001B[0;36m_kpss_autolag\u001B[0;34m(resids, nobs)\u001B[0m\n\u001B[1;32m   2115\u001B[0m pwr \u001B[38;5;241m=\u001B[39m \u001B[38;5;241m1.0\u001B[39m \u001B[38;5;241m/\u001B[39m \u001B[38;5;241m3.0\u001B[39m\n\u001B[1;32m   2116\u001B[0m gamma_hat \u001B[38;5;241m=\u001B[39m \u001B[38;5;241m1.1447\u001B[39m \u001B[38;5;241m*\u001B[39m np\u001B[38;5;241m.\u001B[39mpower(s_hat \u001B[38;5;241m*\u001B[39m s_hat, pwr)\n\u001B[0;32m-> 2117\u001B[0m autolags \u001B[38;5;241m=\u001B[39m \u001B[38;5;28;43mint\u001B[39;49m\u001B[43m(\u001B[49m\u001B[43mgamma_hat\u001B[49m\u001B[43m \u001B[49m\u001B[38;5;241;43m*\u001B[39;49m\u001B[43m \u001B[49m\u001B[43mnp\u001B[49m\u001B[38;5;241;43m.\u001B[39;49m\u001B[43mpower\u001B[49m\u001B[43m(\u001B[49m\u001B[43mnobs\u001B[49m\u001B[43m,\u001B[49m\u001B[43m \u001B[49m\u001B[43mpwr\u001B[49m\u001B[43m)\u001B[49m\u001B[43m)\u001B[49m\n\u001B[1;32m   2118\u001B[0m \u001B[38;5;28;01mreturn\u001B[39;00m autolags\n",
      "\u001B[0;31mValueError\u001B[0m: cannot convert float NaN to integer"
     ]
    }
   ],
   "source": [
    "test_subset=test[test['State'] == 'Sensemaking']\n",
    "test_subset\n",
    "kpss_stat, kpss_p_value, _, _ = kpss(test_subset['probabilities'])\n",
    "# USER 11 AHS ALL 1 in Sensemaking always does SAME SAME SAME"
   ],
   "metadata": {
    "collapsed": false,
    "ExecuteTime": {
     "end_time": "2023-11-20T02:26:57.650692Z",
     "start_time": "2023-11-20T02:26:57.623285Z"
    }
   }
  },
  {
   "cell_type": "code",
   "execution_count": 150,
   "outputs": [
    {
     "ename": "UnboundLocalError",
     "evalue": "local variable 'probs' referenced before assignment",
     "output_type": "error",
     "traceback": [
      "\u001B[0;31m---------------------------------------------------------------------------\u001B[0m",
      "\u001B[0;31mUnboundLocalError\u001B[0m                         Traceback (most recent call last)",
      "Cell \u001B[0;32mIn[150], line 11\u001B[0m\n\u001B[1;32m      9\u001B[0m state_dfs \u001B[38;5;241m=\u001B[39m []\n\u001B[1;32m     10\u001B[0m \u001B[38;5;28;01mfor\u001B[39;00m state \u001B[38;5;129;01min\u001B[39;00m df_probab[\u001B[38;5;124m'\u001B[39m\u001B[38;5;124mState\u001B[39m\u001B[38;5;124m'\u001B[39m]\u001B[38;5;241m.\u001B[39munique():\n\u001B[0;32m---> 11\u001B[0m     df_subset, _ \u001B[38;5;241m=\u001B[39m \u001B[43mget_probabilities\u001B[49m\u001B[43m(\u001B[49m\u001B[43mdf\u001B[49m\u001B[43m,\u001B[49m\u001B[43m \u001B[49m\u001B[38;5;28;43mstr\u001B[39;49m\u001B[43m(\u001B[49m\u001B[43mstate\u001B[49m\u001B[43m)\u001B[49m\u001B[43m)\u001B[49m\n\u001B[1;32m     12\u001B[0m     \u001B[38;5;28;01massert\u001B[39;00m(\u001B[38;5;28mlen\u001B[39m(df_subset[\u001B[38;5;124m'\u001B[39m\u001B[38;5;124mprobabilities\u001B[39m\u001B[38;5;124m'\u001B[39m])\u001B[38;5;241m==\u001B[39m\u001B[38;5;28mlen\u001B[39m(df))\n\u001B[1;32m     14\u001B[0m     \u001B[38;5;28;01mtry\u001B[39;00m:\n",
      "Cell \u001B[0;32mIn[145], line 36\u001B[0m, in \u001B[0;36mget_probabilities\u001B[0;34m(dataframe, phase)\u001B[0m\n\u001B[1;32m     34\u001B[0m     \u001B[38;5;28mmap\u001B[39m[\u001B[38;5;28mstr\u001B[39m(dataframe[\u001B[38;5;124m'\u001B[39m\u001B[38;5;124mState\u001B[39m\u001B[38;5;124m'\u001B[39m][i]\u001B[38;5;241m+\u001B[39mdataframe[\u001B[38;5;124m'\u001B[39m\u001B[38;5;124mhigh-level-action\u001B[39m\u001B[38;5;124m'\u001B[39m][i])] \u001B[38;5;241m+\u001B[39m\u001B[38;5;241m=\u001B[39m \u001B[38;5;241m1\u001B[39m\n\u001B[1;32m     35\u001B[0m     probs \u001B[38;5;241m=\u001B[39m (\u001B[38;5;28mmap\u001B[39m[\u001B[38;5;124m'\u001B[39m\u001B[38;5;124mSensemakingsame\u001B[39m\u001B[38;5;124m'\u001B[39m])\u001B[38;5;241m/\u001B[39m(\u001B[38;5;28mmap\u001B[39m[\u001B[38;5;124m'\u001B[39m\u001B[38;5;124mSensemakingchange\u001B[39m\u001B[38;5;124m'\u001B[39m] \u001B[38;5;241m+\u001B[39m \u001B[38;5;28mmap\u001B[39m[\u001B[38;5;124m'\u001B[39m\u001B[38;5;124mSensemakingsame\u001B[39m\u001B[38;5;124m'\u001B[39m])\n\u001B[0;32m---> 36\u001B[0m   probabilities\u001B[38;5;241m.\u001B[39mappend(\u001B[43mprobs\u001B[49m)\n\u001B[1;32m     37\u001B[0m dataframe[\u001B[38;5;124m'\u001B[39m\u001B[38;5;124mprobabilities\u001B[39m\u001B[38;5;124m'\u001B[39m]\u001B[38;5;241m=\u001B[39mprobabilities\n\u001B[1;32m     38\u001B[0m \u001B[38;5;28;01mreturn\u001B[39;00m dataframe, \u001B[38;5;28mmap\u001B[39m\n",
      "\u001B[0;31mUnboundLocalError\u001B[0m: local variable 'probs' referenced before assignment"
     ]
    }
   ],
   "source": [
    "\n",
    "# Create an empty list to store DataFrames\n",
    "dfs = []\n",
    "for i, u in enumerate(fileNames2D):\n",
    "    df = pd.read_csv(u)\n",
    "    u = u.lstrip('data/NDSI-2D\\\\')\n",
    "    u = u.rstrip('.csv')\n",
    "\n",
    "    # Create a list of DataFrames for each state\n",
    "    state_dfs = []\n",
    "    for state in df_probab['State'].unique():\n",
    "        df_subset, _ = get_probabilities(df, str(state))\n",
    "        assert(len(df_subset['probabilities'])==len(df))\n",
    "\n",
    "        try:\n",
    "            if not df_subset['probabilities'].empty and not df_subset['probabilities'].isnull().any():\n",
    "                kpss_stat, kpss_p_value, _, _ = kpss(df_subset['probabilities'])\n",
    "\n",
    "                # Create a DataFrame for the current state\n",
    "                state_df = pd.DataFrame({'User': [u], 'State': [state], 'KPSS_Result': [kpss_p_value < 0.05]})\n",
    "                state_dfs.append(state_df)\n",
    "            else:\n",
    "                print(f\"User {u}, State {state}: Empty or contains null values in 'probabilities'\")\n",
    "        except Exception as e:\n",
    "            print(f\"Error processing User {u}, State {state}: {e}\")\n",
    "            # Create a DataFrame for the current state\n",
    "            state_df = pd.DataFrame({'User': [u], 'State': [state], 'KPSS_Result': False})\n",
    "            state_dfs.append(state_df)\n",
    "\n",
    "    # Concatenate DataFrames for each state into a single DataFrame for the user\n",
    "    user_df = pd.concat(state_dfs, ignore_index=True)\n",
    "    dfs.append(user_df)\n",
    "\n",
    "# Concatenate DataFrames for each user into the final DataFrame\n",
    "results_df = pd.concat(dfs, ignore_index=True)\n",
    "\n",
    "# Save results to CSV\n",
    "results_df.to_csv('data/NDSI-2D/kpssresults.csv')\n",
    "\n"
   ],
   "metadata": {
    "collapsed": false,
    "ExecuteTime": {
     "end_time": "2023-11-20T22:33:49.724097Z",
     "start_time": "2023-11-20T22:33:49.689809Z"
    }
   }
  },
  {
   "cell_type": "code",
   "execution_count": 137,
   "outputs": [
    {
     "data": {
      "text/plain": "<Figure size 1200x800 with 1 Axes>",
      "image/png": "[encoded data removed]"
     },
     "metadata": {},
     "output_type": "display_data"
    }
   ],
   "source": [
    "a\n",
    "# Plotting\n",
    "plt.figure(figsize=(12, 8))\n",
    "sns.countplot(x='State', hue='KPSS_Result', data=results_df)\n",
    "plt.title('Number of Users per State with Color-coded Results')\n",
    "plt.xlabel('State')\n",
    "plt.ylabel('Number of Users')\n",
    "plt.legend(title='KPSS Result', loc='upper right', labels=['False', 'True'])\n",
    "plt.show()"
   ],
   "metadata": {
    "collapsed": false,
    "ExecuteTime": {
     "end_time": "2023-11-20T02:27:02.946886Z",
     "start_time": "2023-11-20T02:27:02.835690Z"
    }
   }
  },
  {
   "cell_type": "code",
   "execution_count": null,
   "outputs": [],
   "source": [],
   "metadata": {
    "collapsed": false
   }
  }
 ],
 "metadata": {
  "kernelspec": {
   "display_name": "Python 3",
   "language": "python",
   "name": "python3"
  },
  "language_info": {
   "codemirror_mode": {
    "name": "ipython",
    "version": 2
   },
   "file_extension": ".py",
   "mimetype": "text/x-python",
   "name": "python",
   "nbconvert_exporter": "python",
   "pygments_lexer": "ipython2",
   "version": "2.7.6"
  }
 },
 "nbformat": 4,
 "nbformat_minor": 0
}
