{
 "cells": [
  {
   "cell_type": "code",
   "execution_count": 5,
   "metadata": {
    "collapsed": true,
    "ExecuteTime": {
     "end_time": "2024-03-08T19:26:28.381510Z",
     "start_time": "2024-03-08T19:26:26.376894Z"
    }
   },
   "outputs": [
    {
     "name": "stdout",
     "output_type": "stream",
     "text": [
      "Hidden States:  [0 1 0 1 0 1 0 1 0 0 1 0 1 0 0]\n",
      "Probability of Observations:  -7.561334004186316\n"
     ]
    }
   ],
   "source": [
    "import numpy as np\n",
    "import glob\n",
    "import pandas as pd\n",
    "pd.options.mode.chained_assignment = None  # default='warn'\n",
    "import scipy.stats as stats\n",
    "from scipy.stats import wilcoxon\n",
    "import numpy as np\n",
    "from hmmlearn import hmm\n",
    "\n",
    "# Define the observations\n",
    "observations = np.array([[1, 0, 1, 0, 1], [0, 1, 0, 1, 0], [0, 0, 0, 1, 1]]).reshape(-1, 1)\n",
    "\n",
    "# Define the lengths of the sequences\n",
    "lengths = [5, 5, 5]\n",
    "\n",
    "# Define the CategoricalHMM model\n",
    "model = hmm.CategoricalHMM(n_components=2)\n",
    "\n",
    "# Fit the model to the observations\n",
    "model = model.fit(observations, lengths)\n",
    "\n",
    "# Predict the hidden states\n",
    "hidden_states = model.predict(observations)\n",
    "\n",
    "# Get the probability of the observations\n",
    "prob = model.score(observations, lengths)\n",
    "\n",
    "# Print the hidden states and the probability\n",
    "print(\"Hidden States: \", hidden_states)\n",
    "print(\"Probability of Observations: \", prob)"
   ]
  },
  {
   "cell_type": "code",
   "execution_count": 5,
   "outputs": [],
   "source": [],
   "metadata": {
    "collapsed": false,
    "ExecuteTime": {
     "end_time": "2024-03-08T19:26:28.383686Z",
     "start_time": "2024-03-08T19:26:28.381133Z"
    }
   }
  },
  {
   "cell_type": "code",
   "execution_count": 6,
   "outputs": [],
   "source": [
    "data= pd.read_pickle('/Users/aryal/Desktop/ForeCache/foreCache-interaction/ForeCache_Models/output/movies/movies_results_test_hmm.pkl')"
   ],
   "metadata": {
    "collapsed": false,
    "ExecuteTime": {
     "end_time": "2024-03-08T19:26:28.386984Z",
     "start_time": "2024-03-08T19:26:28.383089Z"
    }
   }
  },
  {
   "cell_type": "code",
   "execution_count": 7,
   "outputs": [
    {
     "data": {
      "text/plain": "      participant_id          user  threshold     ncp-1  rank\n0       stu29_ade_p4  stu29_ade_p4        0.1  0.316092     1\n1       stu29_ade_p4  stu29_ade_p4        0.1  0.316092   150\n2       stu29_ade_p4  stu29_ade_p4        0.1  0.316092    12\n3       stu29_ade_p4  stu29_ade_p4        0.1  0.316092    89\n4       stu29_ade_p4  stu29_ade_p4        0.1  0.316092   188\n...              ...           ...        ...       ...   ...\n25932   pro17_ace_p4  pro17_ace_p4        0.9  0.423077     9\n25933   pro17_ace_p4  pro17_ace_p4        0.9  0.423077     5\n25934   pro17_ace_p4  pro17_ace_p4        0.9  0.423077    10\n25935   pro17_ace_p4  pro17_ace_p4        0.9  0.423077    12\n25936   pro17_ace_p4  pro17_ace_p4        0.9  0.423077     1\n\n[25937 rows x 5 columns]",
      "text/html": "<div>\n<style scoped>\n    .dataframe tbody tr th:only-of-type {\n        vertical-align: middle;\n    }\n\n    .dataframe tbody tr th {\n        vertical-align: top;\n    }\n\n    .dataframe thead th {\n        text-align: right;\n    }\n</style>\n<table border=\"1\" class=\"dataframe\">\n  <thead>\n    <tr style=\"text-align: right;\">\n      <th></th>\n      <th>participant_id</th>\n      <th>user</th>\n      <th>threshold</th>\n      <th>ncp-1</th>\n      <th>rank</th>\n    </tr>\n  </thead>\n  <tbody>\n    <tr>\n      <th>0</th>\n      <td>stu29_ade_p4</td>\n      <td>stu29_ade_p4</td>\n      <td>0.1</td>\n      <td>0.316092</td>\n      <td>1</td>\n    </tr>\n    <tr>\n      <th>1</th>\n      <td>stu29_ade_p4</td>\n      <td>stu29_ade_p4</td>\n      <td>0.1</td>\n      <td>0.316092</td>\n      <td>150</td>\n    </tr>\n    <tr>\n      <th>2</th>\n      <td>stu29_ade_p4</td>\n      <td>stu29_ade_p4</td>\n      <td>0.1</td>\n      <td>0.316092</td>\n      <td>12</td>\n    </tr>\n    <tr>\n      <th>3</th>\n      <td>stu29_ade_p4</td>\n      <td>stu29_ade_p4</td>\n      <td>0.1</td>\n      <td>0.316092</td>\n      <td>89</td>\n    </tr>\n    <tr>\n      <th>4</th>\n      <td>stu29_ade_p4</td>\n      <td>stu29_ade_p4</td>\n      <td>0.1</td>\n      <td>0.316092</td>\n      <td>188</td>\n    </tr>\n    <tr>\n      <th>...</th>\n      <td>...</td>\n      <td>...</td>\n      <td>...</td>\n      <td>...</td>\n      <td>...</td>\n    </tr>\n    <tr>\n      <th>25932</th>\n      <td>pro17_ace_p4</td>\n      <td>pro17_ace_p4</td>\n      <td>0.9</td>\n      <td>0.423077</td>\n      <td>9</td>\n    </tr>\n    <tr>\n      <th>25933</th>\n      <td>pro17_ace_p4</td>\n      <td>pro17_ace_p4</td>\n      <td>0.9</td>\n      <td>0.423077</td>\n      <td>5</td>\n    </tr>\n    <tr>\n      <th>25934</th>\n      <td>pro17_ace_p4</td>\n      <td>pro17_ace_p4</td>\n      <td>0.9</td>\n      <td>0.423077</td>\n      <td>10</td>\n    </tr>\n    <tr>\n      <th>25935</th>\n      <td>pro17_ace_p4</td>\n      <td>pro17_ace_p4</td>\n      <td>0.9</td>\n      <td>0.423077</td>\n      <td>12</td>\n    </tr>\n    <tr>\n      <th>25936</th>\n      <td>pro17_ace_p4</td>\n      <td>pro17_ace_p4</td>\n      <td>0.9</td>\n      <td>0.423077</td>\n      <td>1</td>\n    </tr>\n  </tbody>\n</table>\n<p>25937 rows × 5 columns</p>\n</div>"
     },
     "execution_count": 7,
     "metadata": {},
     "output_type": "execute_result"
    }
   ],
   "source": [
    "data"
   ],
   "metadata": {
    "collapsed": false,
    "ExecuteTime": {
     "end_time": "2024-03-08T19:26:28.396597Z",
     "start_time": "2024-03-08T19:26:28.390196Z"
    }
   }
  },
  {
   "cell_type": "code",
   "execution_count": 8,
   "outputs": [
    {
     "data": {
      "text/plain": "      participant_id          user  threshold     ncp-1\n0       stu29_ade_p4  stu29_ade_p4        0.1  0.316092\n174     stu29_ade_p4  stu29_ade_p4        0.2  0.279221\n328     stu29_ade_p4  stu29_ade_p4        0.3  0.340741\n463     stu29_ade_p4  stu29_ade_p4        0.4  0.356522\n578     stu29_ade_p4  stu29_ade_p4        0.5  0.395833\n...              ...           ...        ...       ...\n25534   pro17_ace_p4  pro17_ace_p4        0.5  0.488889\n25669   pro17_ace_p4  pro17_ace_p4        0.6  0.500000\n25777   pro17_ace_p4  pro17_ace_p4        0.7  0.382716\n25858   pro17_ace_p4  pro17_ace_p4        0.8  0.301887\n25911   pro17_ace_p4  pro17_ace_p4        0.9  0.423077\n\n[324 rows x 4 columns]",
      "text/html": "<div>\n<style scoped>\n    .dataframe tbody tr th:only-of-type {\n        vertical-align: middle;\n    }\n\n    .dataframe tbody tr th {\n        vertical-align: top;\n    }\n\n    .dataframe thead th {\n        text-align: right;\n    }\n</style>\n<table border=\"1\" class=\"dataframe\">\n  <thead>\n    <tr style=\"text-align: right;\">\n      <th></th>\n      <th>participant_id</th>\n      <th>user</th>\n      <th>threshold</th>\n      <th>ncp-1</th>\n    </tr>\n  </thead>\n  <tbody>\n    <tr>\n      <th>0</th>\n      <td>stu29_ade_p4</td>\n      <td>stu29_ade_p4</td>\n      <td>0.1</td>\n      <td>0.316092</td>\n    </tr>\n    <tr>\n      <th>174</th>\n      <td>stu29_ade_p4</td>\n      <td>stu29_ade_p4</td>\n      <td>0.2</td>\n      <td>0.279221</td>\n    </tr>\n    <tr>\n      <th>328</th>\n      <td>stu29_ade_p4</td>\n      <td>stu29_ade_p4</td>\n      <td>0.3</td>\n      <td>0.340741</td>\n    </tr>\n    <tr>\n      <th>463</th>\n      <td>stu29_ade_p4</td>\n      <td>stu29_ade_p4</td>\n      <td>0.4</td>\n      <td>0.356522</td>\n    </tr>\n    <tr>\n      <th>578</th>\n      <td>stu29_ade_p4</td>\n      <td>stu29_ade_p4</td>\n      <td>0.5</td>\n      <td>0.395833</td>\n    </tr>\n    <tr>\n      <th>...</th>\n      <td>...</td>\n      <td>...</td>\n      <td>...</td>\n      <td>...</td>\n    </tr>\n    <tr>\n      <th>25534</th>\n      <td>pro17_ace_p4</td>\n      <td>pro17_ace_p4</td>\n      <td>0.5</td>\n      <td>0.488889</td>\n    </tr>\n    <tr>\n      <th>25669</th>\n      <td>pro17_ace_p4</td>\n      <td>pro17_ace_p4</td>\n      <td>0.6</td>\n      <td>0.500000</td>\n    </tr>\n    <tr>\n      <th>25777</th>\n      <td>pro17_ace_p4</td>\n      <td>pro17_ace_p4</td>\n      <td>0.7</td>\n      <td>0.382716</td>\n    </tr>\n    <tr>\n      <th>25858</th>\n      <td>pro17_ace_p4</td>\n      <td>pro17_ace_p4</td>\n      <td>0.8</td>\n      <td>0.301887</td>\n    </tr>\n    <tr>\n      <th>25911</th>\n      <td>pro17_ace_p4</td>\n      <td>pro17_ace_p4</td>\n      <td>0.9</td>\n      <td>0.423077</td>\n    </tr>\n  </tbody>\n</table>\n<p>324 rows × 4 columns</p>\n</div>"
     },
     "execution_count": 8,
     "metadata": {},
     "output_type": "execute_result"
    }
   ],
   "source": [
    "data.drop(columns=['rank'], inplace=True)\n",
    "\n",
    "# Remove duplicate rows\n",
    "data.drop_duplicates(inplace=True)\n",
    "data"
   ],
   "metadata": {
    "collapsed": false,
    "ExecuteTime": {
     "end_time": "2024-03-08T19:26:28.710820Z",
     "start_time": "2024-03-08T19:26:28.699718Z"
    }
   }
  },
  {
   "cell_type": "code",
   "execution_count": 9,
   "outputs": [
    {
     "data": {
      "text/plain": "      participant_id          user  threshold     ncp-1\n0       stu29_ade_p4  stu29_ade_p4        0.1  0.316092\n174     stu29_ade_p4  stu29_ade_p4        0.2  0.279221\n328     stu29_ade_p4  stu29_ade_p4        0.3  0.340741\n463     stu29_ade_p4  stu29_ade_p4        0.4  0.356522\n578     stu29_ade_p4  stu29_ade_p4        0.5  0.395833\n...              ...           ...        ...       ...\n25534   pro17_ace_p4  pro17_ace_p4        0.5  0.488889\n25669   pro17_ace_p4  pro17_ace_p4        0.6  0.500000\n25777   pro17_ace_p4  pro17_ace_p4        0.7  0.382716\n25858   pro17_ace_p4  pro17_ace_p4        0.8  0.301887\n25911   pro17_ace_p4  pro17_ace_p4        0.9  0.423077\n\n[324 rows x 4 columns]",
      "text/html": "<div>\n<style scoped>\n    .dataframe tbody tr th:only-of-type {\n        vertical-align: middle;\n    }\n\n    .dataframe tbody tr th {\n        vertical-align: top;\n    }\n\n    .dataframe thead th {\n        text-align: right;\n    }\n</style>\n<table border=\"1\" class=\"dataframe\">\n  <thead>\n    <tr style=\"text-align: right;\">\n      <th></th>\n      <th>participant_id</th>\n      <th>user</th>\n      <th>threshold</th>\n      <th>ncp-1</th>\n    </tr>\n  </thead>\n  <tbody>\n    <tr>\n      <th>0</th>\n      <td>stu29_ade_p4</td>\n      <td>stu29_ade_p4</td>\n      <td>0.1</td>\n      <td>0.316092</td>\n    </tr>\n    <tr>\n      <th>174</th>\n      <td>stu29_ade_p4</td>\n      <td>stu29_ade_p4</td>\n      <td>0.2</td>\n      <td>0.279221</td>\n    </tr>\n    <tr>\n      <th>328</th>\n      <td>stu29_ade_p4</td>\n      <td>stu29_ade_p4</td>\n      <td>0.3</td>\n      <td>0.340741</td>\n    </tr>\n    <tr>\n      <th>463</th>\n      <td>stu29_ade_p4</td>\n      <td>stu29_ade_p4</td>\n      <td>0.4</td>\n      <td>0.356522</td>\n    </tr>\n    <tr>\n      <th>578</th>\n      <td>stu29_ade_p4</td>\n      <td>stu29_ade_p4</td>\n      <td>0.5</td>\n      <td>0.395833</td>\n    </tr>\n    <tr>\n      <th>...</th>\n      <td>...</td>\n      <td>...</td>\n      <td>...</td>\n      <td>...</td>\n    </tr>\n    <tr>\n      <th>25534</th>\n      <td>pro17_ace_p4</td>\n      <td>pro17_ace_p4</td>\n      <td>0.5</td>\n      <td>0.488889</td>\n    </tr>\n    <tr>\n      <th>25669</th>\n      <td>pro17_ace_p4</td>\n      <td>pro17_ace_p4</td>\n      <td>0.6</td>\n      <td>0.500000</td>\n    </tr>\n    <tr>\n      <th>25777</th>\n      <td>pro17_ace_p4</td>\n      <td>pro17_ace_p4</td>\n      <td>0.7</td>\n      <td>0.382716</td>\n    </tr>\n    <tr>\n      <th>25858</th>\n      <td>pro17_ace_p4</td>\n      <td>pro17_ace_p4</td>\n      <td>0.8</td>\n      <td>0.301887</td>\n    </tr>\n    <tr>\n      <th>25911</th>\n      <td>pro17_ace_p4</td>\n      <td>pro17_ace_p4</td>\n      <td>0.9</td>\n      <td>0.423077</td>\n    </tr>\n  </tbody>\n</table>\n<p>324 rows × 4 columns</p>\n</div>"
     },
     "execution_count": 9,
     "metadata": {},
     "output_type": "execute_result"
    }
   ],
   "source": [
    "data"
   ],
   "metadata": {
    "collapsed": false,
    "ExecuteTime": {
     "end_time": "2024-03-08T19:26:29.434530Z",
     "start_time": "2024-03-08T19:26:29.408328Z"
    }
   }
  },
  {
   "cell_type": "code",
   "execution_count": 10,
   "outputs": [],
   "source": [
    "# Create result DataFrame with columns for relevant statistics\n",
    "result_dataframe = pd.DataFrame(columns=['User', 'Accuracy', 'Threshold', 'LearningRate', 'Discount', 'Algorithm', 'StateAccuracy'])\n",
    "\n",
    "# Fill in the values according to the specification\n",
    "result_dataframe['User'] = data['user']\n",
    "result_dataframe['Accuracy'] = data['ncp-1']\n",
    "result_dataframe['Threshold'] = data['threshold']\n",
    "result_dataframe['LearningRate'] = 0\n",
    "result_dataframe['Discount'] = 0\n",
    "result_dataframe['Algorithm'] = 'HMM'\n",
    "result_dataframe['StateAccuracy'] = 0"
   ],
   "metadata": {
    "collapsed": false,
    "ExecuteTime": {
     "end_time": "2024-03-08T19:26:30.030065Z",
     "start_time": "2024-03-08T19:26:30.024419Z"
    }
   }
  },
  {
   "cell_type": "code",
   "execution_count": 11,
   "outputs": [
    {
     "data": {
      "text/plain": "<Figure size 640x480 with 1 Axes>",
      "image/png": "[encoded data removed]"
     },
     "metadata": {},
     "output_type": "display_data"
    }
   ],
   "source": [
    "import matplotlib.pyplot as plt\n",
    "# Group by Threshold and calculate average Accuracy\n",
    "average_accuracy = result_dataframe.groupby('Threshold')['Accuracy'].mean()\n",
    "\n",
    "# Plot the average accuracy\n",
    "plt.plot(average_accuracy.index, average_accuracy.values, marker='o', linestyle='-')\n",
    "\n",
    "# Set the labels and title\n",
    "plt.xlabel('Threshold')\n",
    "plt.ylabel('Average Accuracy')\n",
    "plt.title('Average Accuracy vs. Threshold')\n",
    "\n",
    "# Show the plot\n",
    "plt.grid(True)\n",
    "plt.show()"
   ],
   "metadata": {
    "collapsed": false,
    "ExecuteTime": {
     "end_time": "2024-03-08T19:26:30.948965Z",
     "start_time": "2024-03-08T19:26:30.712643Z"
    }
   }
  },
  {
   "cell_type": "code",
   "execution_count": null,
   "outputs": [],
   "source": [
    "result_dataframe.to_csv()"
   ],
   "metadata": {
    "collapsed": false
   }
  },
  {
   "cell_type": "code",
   "execution_count": 79,
   "outputs": [],
   "source": [
    "fileNames2D = np.sort(glob.glob(\"./data/zheng/processed_interactions_p2/*\"))\n",
    "fileNames2D = np.sort(glob.glob(\"./data/zheng/processed_interactions_p4/*\"))"
   ],
   "metadata": {
    "collapsed": false,
    "pycharm": {
     "name": "#%%\n"
    },
    "ExecuteTime": {
     "end_time": "2024-02-13T02:39:47.328431Z",
     "start_time": "2024-02-13T02:39:47.318323Z"
    }
   }
  },
  {
   "cell_type": "code",
   "execution_count": 80,
   "outputs": [
    {
     "data": {
      "text/plain": "array(['./data/zheng/processed_interactions_p4/pro13_ace_p4_logs.csv',\n       './data/zheng/processed_interactions_p4/pro15_ade_p4_logs.csv',\n       './data/zheng/processed_interactions_p4/pro17_ace_p4_logs.csv',\n       './data/zheng/processed_interactions_p4/pro18_adf_p4_logs.csv',\n       './data/zheng/processed_interactions_p4/pro20_ade_p4_logs.csv',\n       './data/zheng/processed_interactions_p4/pro21_ade_p4_logs.csv',\n       './data/zheng/processed_interactions_p4/pro22_ade_p4_logs.csv',\n       './data/zheng/processed_interactions_p4/pro23_acf_p4_logs.csv',\n       './data/zheng/processed_interactions_p4/pro24_adf_p4_logs.csv',\n       './data/zheng/processed_interactions_p4/pro25_acf_p4_logs.csv',\n       './data/zheng/processed_interactions_p4/pro29_ace_p4_logs.csv',\n       './data/zheng/processed_interactions_p4/pro31_adf_p4_logs.csv',\n       './data/zheng/processed_interactions_p4/pro3_ace_p4_logs.csv',\n       './data/zheng/processed_interactions_p4/pro5_adf_p4_logs.csv',\n       './data/zheng/processed_interactions_p4/pro8_acf_p4_logs.csv',\n       './data/zheng/processed_interactions_p4/pro9_acf_p4_logs.csv',\n       './data/zheng/processed_interactions_p4/stu10_acf_p4_logs.csv',\n       './data/zheng/processed_interactions_p4/stu11_adf_p4_logs.csv',\n       './data/zheng/processed_interactions_p4/stu13_acf_p4_logs.csv',\n       './data/zheng/processed_interactions_p4/stu15_ade_p4_logs.csv',\n       './data/zheng/processed_interactions_p4/stu17_ace_p4_logs.csv',\n       './data/zheng/processed_interactions_p4/stu21_ace_p4_logs.csv',\n       './data/zheng/processed_interactions_p4/stu24_ace_p4_logs.csv',\n       './data/zheng/processed_interactions_p4/stu25_ace_p4_logs.csv',\n       './data/zheng/processed_interactions_p4/stu26_ace_p4_logs.csv',\n       './data/zheng/processed_interactions_p4/stu29_ade_p4_logs.csv',\n       './data/zheng/processed_interactions_p4/stu30_adf_p4_logs.csv',\n       './data/zheng/processed_interactions_p4/stu31_ade_p4_logs.csv',\n       './data/zheng/processed_interactions_p4/stu36_adf_p4_logs.csv',\n       './data/zheng/processed_interactions_p4/stu37_adf_p4_logs.csv',\n       './data/zheng/processed_interactions_p4/stu38_acf_p4_logs.csv',\n       './data/zheng/processed_interactions_p4/stu39_adf_p4_logs.csv',\n       './data/zheng/processed_interactions_p4/stu3_acf_p4_logs.csv',\n       './data/zheng/processed_interactions_p4/stu4_ade_p4_logs.csv',\n       './data/zheng/processed_interactions_p4/stu6_acf_p4_logs.csv',\n       './data/zheng/processed_interactions_p4/stu7_ade_p4_logs.csv'],\n      dtype='<U60')"
     },
     "execution_count": 80,
     "metadata": {},
     "output_type": "execute_result"
    }
   ],
   "source": [
    "fileNames2D"
   ],
   "metadata": {
    "collapsed": false,
    "ExecuteTime": {
     "end_time": "2024-02-13T02:39:47.806527Z",
     "start_time": "2024-02-13T02:39:47.803681Z"
    }
   }
  },
  {
   "cell_type": "code",
   "execution_count": 81,
   "outputs": [],
   "source": [
    "def get_action_counts(dataframe, current_phase):\n",
    "    actions = ['same', 'modify-1', 'modify-2', 'modify-3']\n",
    "\n",
    "    # Initialize counts array with zeros for all actions\n",
    "    action_counts = {action: 0 for action in actions}\n",
    "\n",
    "    # Count occurrences of each action\n",
    "    for action in actions:\n",
    "        count = dataframe[dataframe['Action'] == action].shape[0]\n",
    "        if count is not None:  # Update count if action exists\n",
    "            action_counts[action] = count\n",
    "\n",
    "    # Convert dictionary to list, ensuring length is exactly 4\n",
    "    action_counts_list = [action_counts[action] for action in actions]\n",
    "\n",
    "    return action_counts_list\n"
   ],
   "metadata": {
    "collapsed": false,
    "ExecuteTime": {
     "end_time": "2024-02-13T02:39:48.517439Z",
     "start_time": "2024-02-13T02:39:48.510156Z"
    }
   }
  },
  {
   "cell_type": "code",
   "execution_count": 82,
   "outputs": [],
   "source": [
    "class StationarityTests:\n",
    "    def __init__(self, significance=.05):\n",
    "        self.SignificanceLevel = significance\n",
    "        self.pValue = None\n",
    "        self.isStationary = None\n",
    "        self.trend= None\n",
    "\n",
    "    def Chi_Sqaure_Test(self,series_X, series_Y, series_Z, series_W):\n",
    "\n",
    "        return stats.mstats.friedmanchisquare(series_X, series_Y, series_Z, series_W)\n"
   ],
   "metadata": {
    "collapsed": false,
    "pycharm": {
     "name": "#%%\n"
    },
    "ExecuteTime": {
     "end_time": "2024-02-13T02:39:49.054281Z",
     "start_time": "2024-02-13T02:39:49.043282Z"
    }
   }
  },
  {
   "cell_type": "code",
   "execution_count": 83,
   "outputs": [],
   "source": [
    "def get_user_name(url):\n",
    "    parts = url.split('/')\n",
    "    fname = parts[-1]\n",
    "    uname = fname.rstrip('_log.csv')\n",
    "    return uname"
   ],
   "metadata": {
    "collapsed": false,
    "ExecuteTime": {
     "end_time": "2024-02-13T02:39:49.334060Z",
     "start_time": "2024-02-13T02:39:49.323240Z"
    }
   }
  },
  {
   "cell_type": "code",
   "execution_count": 84,
   "outputs": [
    {
     "name": "stdout",
     "output_type": "stream",
     "text": [
      "\n",
      "Processing test for action: pro13_ace_p4\n",
      "\n",
      "Processing test for action: pro15_ade_p4\n",
      "\n",
      "Processing test for action: pro17_ace_p4\n",
      "\n",
      "Processing test for action: pro18_adf_p4\n",
      "\n",
      "Processing test for action: pro20_ade_p4\n",
      "\n",
      "Processing test for action: pro21_ade_p4\n",
      "\n",
      "Processing test for action: pro22_ade_p4\n",
      "\n",
      "Processing test for action: pro23_acf_p4\n",
      "\n",
      "Processing test for action: pro24_adf_p4\n",
      "\n",
      "Processing test for action: pro25_acf_p4\n",
      "\n",
      "Processing test for action: pro29_ace_p4\n",
      "\n",
      "Processing test for action: pro31_adf_p4\n",
      "\n",
      "Processing test for action: pro3_ace_p4\n",
      "\n",
      "Processing test for action: pro5_adf_p4\n",
      "\n",
      "Processing test for action: pro8_acf_p4\n",
      "\n",
      "Processing test for action: pro9_acf_p4\n",
      "\n",
      "Processing test for action: stu10_acf_p4\n",
      "\n",
      "Processing test for action: stu11_adf_p4\n",
      "\n",
      "Processing test for action: stu13_acf_p4\n",
      "\n",
      "Processing test for action: stu15_ade_p4\n",
      "\n",
      "Processing test for action: stu17_ace_p4\n",
      "\n",
      "Processing test for action: stu21_ace_p4\n",
      "\n",
      "Processing test for action: stu24_ace_p4\n",
      "\n",
      "Processing test for action: stu25_ace_p4\n",
      "\n",
      "Processing test for action: stu26_ace_p4\n",
      "\n",
      "Processing test for action: stu29_ade_p4\n",
      "\n",
      "Processing test for action: stu30_adf_p4\n",
      "\n",
      "Processing test for action: stu31_ade_p4\n",
      "\n",
      "Processing test for action: stu36_adf_p4\n",
      "\n",
      "Processing test for action: stu37_adf_p4\n",
      "\n",
      "Processing test for action: stu38_acf_p4\n",
      "\n",
      "Processing test for action: stu39_adf_p4\n",
      "\n",
      "Processing test for action: stu3_acf_p4\n",
      "\n",
      "Processing test for action: stu4_ade_p4\n",
      "\n",
      "Processing test for action: stu6_acf_p4\n",
      "\n",
      "Processing test for action: stu7_ade_p4\n",
      "len of probabs_first 36 len of probabs_second 36 len of probabs_third 36 len of probabs_fourth 36\n",
      "probabs_first [9, 5, 22, 2, 10, 9, 7, 5, 9, 9, 10, 9, 7, 8, 9, 8, 9, 10, 8, 7, 9, 8, 7, 4, 12, 12, 7, 19, 5, 3, 3, 13, 15, 4, 5, 6] probabs_second [4, 2, 15, 5, 16, 13, 15, 6, 8, 11, 14, 10, 6, 11, 5, 5, 14, 13, 10, 8, 4, 11, 8, 5, 25, 6, 12, 19, 7, 1, 5, 14, 16, 5, 13, 7] probabs_third [10, 2, 29, 0, 13, 11, 11, 7, 2, 13, 18, 9, 9, 13, 13, 9, 12, 17, 8, 5, 1, 9, 8, 6, 27, 8, 11, 12, 8, 6, 8, 13, 20, 3, 9, 6] probabs_fourth [8, 0, 15, 2, 11, 15, 14, 13, 11, 13, 14, 9, 10, 5, 8, 4, 9, 17, 8, 7, 1, 3, 8, 8, 20, 7, 4, 10, 7, 4, 3, 20, 21, 2, 13, 9]\n"
     ]
    }
   ],
   "source": [
    "import pandas as pd\n",
    "import numpy as np\n",
    "import warnings\n",
    "\n",
    "# Initialize an empty list to store print information\n",
    "print_info = []\n",
    "\n",
    "# Define a function to split the DataFrame into four equal parts with equal lengths\n",
    "def split_dataframe(df,splits=4):\n",
    "    num_rows = len(df)\n",
    "    quarter = num_rows // splits\n",
    "    remainder = num_rows % splits  # Calculate the remainder based on four quarters\n",
    "    if remainder != 0:\n",
    "        df = df[:-remainder]  # Drop the extra rows to make the length divisible by 4\n",
    "    slices = []\n",
    "    start = 0\n",
    "    for i in range(splits):\n",
    "        end = start + quarter\n",
    "        slices.append(df[start:end].reset_index(drop=True))\n",
    "        start = end\n",
    "    return slices\n",
    "\n",
    "\n",
    "\n",
    "# Suppress FutureWarning related to DataFrame concatenation\n",
    "with warnings.catch_warnings():\n",
    "    warnings.simplefilter(\"ignore\")\n",
    "    all_pvalue = []\n",
    "    test_dfs = pd.DataFrame(columns=['User', 'First_Quarter', 'Second_Quarter', 'Third_Quarter', 'Fourth_Quarter', 'p-value'])\n",
    "    probabs_first = []\n",
    "    probabs_second = []\n",
    "    probabs_third = []\n",
    "    probabs_fourth = []\n",
    "    for i, u in enumerate(fileNames2D):\n",
    "        state = get_user_name(u)\n",
    "        print(f\"\\nProcessing test for action: {state}\")\n",
    "        df = pd.read_csv(u)\n",
    "        slices = split_dataframe(df, 4)\n",
    "\n",
    "        # Get counts for each slice\n",
    "        probabs_first.append( get_action_counts(slices[0], state)[0])\n",
    "        probabs_second.append(get_action_counts(slices[1], state)[0])\n",
    "        probabs_third.append( get_action_counts(slices[2], state)[0])\n",
    "        probabs_fourth.append(get_action_counts(slices[3], state)[0])\n",
    "\n",
    "    print(\"len of probabs_first\", len(probabs_first), \"len of probabs_second\", len(probabs_second), \"len of probabs_third\", len(probabs_third), \"len of probabs_fourth\", len(probabs_fourth))\n",
    "    print(\"probabs_first\", probabs_first, \"probabs_second\", probabs_second, \"probabs_third\", probabs_third, \"probabs_fourth\", probabs_fourth)\n",
    "    stats_test = StationarityTests()\n",
    "    result = stats_test.Chi_Sqaure_Test(probabs_first, probabs_second, probabs_third, probabs_fourth)\n",
    "    all_pvalue.append(result.pvalue)\n"
   ],
   "metadata": {
    "collapsed": false,
    "ExecuteTime": {
     "end_time": "2024-02-13T02:39:49.594433Z",
     "start_time": "2024-02-13T02:39:49.497767Z"
    }
   }
  },
  {
   "cell_type": "code",
   "execution_count": 85,
   "outputs": [
    {
     "data": {
      "text/plain": "FriedmanchisquareResult(statistic=9.846846846846846, pvalue=0.0199138763282918)"
     },
     "execution_count": 85,
     "metadata": {},
     "output_type": "execute_result"
    }
   ],
   "source": [
    "result"
   ],
   "metadata": {
    "collapsed": false,
    "ExecuteTime": {
     "end_time": "2024-02-13T02:39:49.698963Z",
     "start_time": "2024-02-13T02:39:49.694931Z"
    }
   }
  },
  {
   "cell_type": "code",
   "execution_count": 86,
   "outputs": [
    {
     "ename": "NameError",
     "evalue": "name 'df_print_info' is not defined",
     "output_type": "error",
     "traceback": [
      "\u001B[0;31m---------------------------------------------------------------------------\u001B[0m",
      "\u001B[0;31mNameError\u001B[0m                                 Traceback (most recent call last)",
      "Cell \u001B[0;32mIn[86], line 2\u001B[0m\n\u001B[1;32m      1\u001B[0m \u001B[38;5;66;03m# Calculate the total number of True values inside the \"Stationary\" arrays\u001B[39;00m\n\u001B[0;32m----> 2\u001B[0m total_stationary_values \u001B[38;5;241m=\u001B[39m \u001B[43mdf_print_info\u001B[49m[\u001B[38;5;124m'\u001B[39m\u001B[38;5;124mStationary\u001B[39m\u001B[38;5;124m'\u001B[39m]\u001B[38;5;241m.\u001B[39mapply(\u001B[38;5;28;01mlambda\u001B[39;00m x: \u001B[38;5;28msum\u001B[39m(x))\u001B[38;5;241m.\u001B[39msum()\n\u001B[1;32m      4\u001B[0m \u001B[38;5;66;03m# Calculate the total number of values in the \"Stationary\" arrays\u001B[39;00m\n\u001B[1;32m      5\u001B[0m total_values \u001B[38;5;241m=\u001B[39m df_print_info[\u001B[38;5;124m'\u001B[39m\u001B[38;5;124mStationary\u001B[39m\u001B[38;5;124m'\u001B[39m]\u001B[38;5;241m.\u001B[39mapply(\u001B[38;5;28mlen\u001B[39m)\u001B[38;5;241m.\u001B[39msum()\n",
      "\u001B[0;31mNameError\u001B[0m: name 'df_print_info' is not defined"
     ]
    }
   ],
   "source": [
    "# Calculate the total number of True values inside the \"Stationary\" arrays\n",
    "total_stationary_values = df_print_info['Stationary'].apply(lambda x: sum(x)).sum()\n",
    "\n",
    "# Calculate the total number of values in the \"Stationary\" arrays\n",
    "total_values = df_print_info['Stationary'].apply(len).sum()\n",
    "\n",
    "# Calculate the ratio\n",
    "ratio_stationary = total_stationary_values / total_values\n",
    "\n",
    "# Print the result\n",
    "print(ratio_stationary)\n"
   ],
   "metadata": {
    "collapsed": false,
    "ExecuteTime": {
     "end_time": "2024-02-13T02:39:49.897633Z",
     "start_time": "2024-02-13T02:39:49.891948Z"
    }
   }
  },
  {
   "cell_type": "code",
   "execution_count": 8,
   "outputs": [
    {
     "ename": "ZeroDivisionError",
     "evalue": "float division by zero",
     "output_type": "error",
     "traceback": [
      "\u001B[0;31m---------------------------------------------------------------------------\u001B[0m",
      "\u001B[0;31mZeroDivisionError\u001B[0m                         Traceback (most recent call last)",
      "Cell \u001B[0;32mIn[8], line 2\u001B[0m\n\u001B[1;32m      1\u001B[0m \u001B[38;5;28;01mfrom\u001B[39;00m \u001B[38;5;21;01mstatsmodels\u001B[39;00m\u001B[38;5;21;01m.\u001B[39;00m\u001B[38;5;21;01mstats\u001B[39;00m\u001B[38;5;21;01m.\u001B[39;00m\u001B[38;5;21;01mmultitest\u001B[39;00m \u001B[38;5;28;01mimport\u001B[39;00m multipletests\n\u001B[0;32m----> 2\u001B[0m a\u001B[38;5;241m=\u001B[39m\u001B[43mmultipletests\u001B[49m\u001B[43m(\u001B[49m\u001B[43mall_pvalue\u001B[49m\u001B[43m,\u001B[49m\u001B[43malpha\u001B[49m\u001B[38;5;241;43m=\u001B[39;49m\u001B[38;5;241;43m0.05\u001B[39;49m\u001B[43m,\u001B[49m\u001B[43mmethod\u001B[49m\u001B[38;5;241;43m=\u001B[39;49m\u001B[38;5;124;43m'\u001B[39;49m\u001B[38;5;124;43mbonferroni\u001B[39;49m\u001B[38;5;124;43m'\u001B[39;49m\u001B[43m)\u001B[49m\n",
      "File \u001B[0;32m~/anaconda3/envs/ForeCache-Master/lib/python3.9/site-packages/statsmodels/stats/multitest.py:156\u001B[0m, in \u001B[0;36mmultipletests\u001B[0;34m(pvals, alpha, method, maxiter, is_sorted, returnsorted)\u001B[0m\n\u001B[1;32m    153\u001B[0m     pvals \u001B[38;5;241m=\u001B[39m np\u001B[38;5;241m.\u001B[39mtake(pvals, sortind)\n\u001B[1;32m    155\u001B[0m ntests \u001B[38;5;241m=\u001B[39m \u001B[38;5;28mlen\u001B[39m(pvals)\n\u001B[0;32m--> 156\u001B[0m alphacSidak \u001B[38;5;241m=\u001B[39m \u001B[38;5;241m1\u001B[39m \u001B[38;5;241m-\u001B[39m np\u001B[38;5;241m.\u001B[39mpower((\u001B[38;5;241m1.\u001B[39m \u001B[38;5;241m-\u001B[39m alphaf), \u001B[38;5;241;43m1.\u001B[39;49m\u001B[38;5;241;43m/\u001B[39;49m\u001B[43mntests\u001B[49m)\n\u001B[1;32m    157\u001B[0m alphacBonf \u001B[38;5;241m=\u001B[39m alphaf \u001B[38;5;241m/\u001B[39m \u001B[38;5;28mfloat\u001B[39m(ntests)\n\u001B[1;32m    158\u001B[0m \u001B[38;5;28;01mif\u001B[39;00m method\u001B[38;5;241m.\u001B[39mlower() \u001B[38;5;129;01min\u001B[39;00m [\u001B[38;5;124m'\u001B[39m\u001B[38;5;124mb\u001B[39m\u001B[38;5;124m'\u001B[39m, \u001B[38;5;124m'\u001B[39m\u001B[38;5;124mbonf\u001B[39m\u001B[38;5;124m'\u001B[39m, \u001B[38;5;124m'\u001B[39m\u001B[38;5;124mbonferroni\u001B[39m\u001B[38;5;124m'\u001B[39m]:\n",
      "\u001B[0;31mZeroDivisionError\u001B[0m: float division by zero"
     ]
    }
   ],
   "source": [
    "from statsmodels.stats.multitest import multipletests\n",
    "a=multipletests(all_pvalue,alpha=0.05,method='bonferroni')"
   ],
   "metadata": {
    "collapsed": false,
    "ExecuteTime": {
     "end_time": "2024-02-13T02:27:40.125226Z",
     "start_time": "2024-02-13T02:27:39.833386Z"
    }
   }
  },
  {
   "cell_type": "code",
   "execution_count": 87,
   "outputs": [
    {
     "data": {
      "text/plain": "array([False, False, False, False, False, False, False, False, False,\n       False, False, False,  True,  True,  True,  True, False, False,\n       False, False, False, False, False, False, False, False, False,\n       False, False, False, False, False,  True,  True,  True,  True,\n        True,  True, False, False,  True,  True, False, False, False,\n       False, False, False, False, False, False, False,  True,  True,\n       False, False, False, False, False, False,  True,  True, False,\n       False,  True,  True, False, False, False, False, False, False])"
     },
     "execution_count": 87,
     "metadata": {},
     "output_type": "execute_result"
    }
   ],
   "source": [
    "a[0]"
   ],
   "metadata": {
    "collapsed": false,
    "ExecuteTime": {
     "end_time": "2024-02-13T02:01:21.792803Z",
     "start_time": "2024-02-13T02:01:21.788104Z"
    }
   }
  },
  {
   "cell_type": "code",
   "execution_count": 88,
   "outputs": [
    {
     "data": {
      "text/plain": "0.25"
     },
     "execution_count": 88,
     "metadata": {},
     "output_type": "execute_result"
    }
   ],
   "source": [
    "#count the True result in a[0]\n",
    "np.sum(a[0])/len(a[0])"
   ],
   "metadata": {
    "collapsed": false,
    "ExecuteTime": {
     "end_time": "2024-02-13T02:01:22.910179Z",
     "start_time": "2024-02-13T02:01:22.902865Z"
    }
   }
  }
 ],
 "metadata": {
  "kernelspec": {
   "display_name": "Python 3",
   "language": "python",
   "name": "python3"
  },
  "language_info": {
   "codemirror_mode": {
    "name": "ipython",
    "version": 2
   },
   "file_extension": ".py",
   "mimetype": "text/x-python",
   "name": "python",
   "nbconvert_exporter": "python",
   "pygments_lexer": "ipython2",
   "version": "2.7.6"
  }
 },
 "nbformat": 4,
 "nbformat_minor": 0
}
