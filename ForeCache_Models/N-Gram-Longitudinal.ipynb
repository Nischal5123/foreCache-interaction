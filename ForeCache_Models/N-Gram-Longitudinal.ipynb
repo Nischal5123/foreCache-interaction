{
 "cells": [
  {
   "cell_type": "code",
   "execution_count": 554,
   "metadata": {
    "collapsed": true
   },
   "outputs": [],
   "source": [
    "import re\n",
    "from nltk.util import ngrams\n",
    "import glob\n",
    "import environment2\n",
    "import pandas as pd\n",
    "import numpy as np\n",
    "from sklearn import tree\n",
    "from sklearn.tree import DecisionTreeClassifier\n",
    "from sklearn.model_selection import train_test_split\n",
    "import matplotlib.pyplot as plt\n",
    "from sklearn.metrics import accuracy_score\n",
    "from sklearn.metrics import confusion_matrix"
   ]
  },
  {
   "cell_type": "code",
   "execution_count": 555,
   "outputs": [],
   "source": [
    "env = environment2.environment2()\n",
    "user_list_2D = env.user_list_2D\n"
   ],
   "metadata": {
    "collapsed": false,
    "pycharm": {
     "name": "#%%\n"
    }
   }
  },
  {
   "cell_type": "code",
   "execution_count": 556,
   "outputs": [],
   "source": [
    " user_list_experienced=np.array(['data/NDSI-2D\\\\taskname_ndsi-2d-task_userid_82316e37-1117-4663-84b4-ddb6455c83b2.csv',\n",
    "'data/NDSI-2D\\\\taskname_ndsi-2d-task_userid_ff56863b-0710-4a58-ad22-4bf2889c9bc0.csv',\n",
    "'data/NDSI-2D\\\\taskname_ndsi-2d-task_userid_bda49380-37ad-41c5-a109-7fa198a7691a.csv',\n",
    "'data/NDSI-2D\\\\taskname_ndsi-2d-task_userid_3abeecbe-327a-441e-be2a-0dd3763c1d45.csv',\n",
    "'data/NDSI-2D\\\\taskname_ndsi-2d-task_userid_6d49fab8-273b-4a91-948b-ecd14556b049.csv',\n",
    "'data/NDSI-2D\\\\taskname_ndsi-2d-task_userid_954edb7c-4eae-47ab-9338-5c5c7eccac2d.csv',\n",
    "'data/NDSI-2D\\\\taskname_ndsi-2d-task_userid_a6aab5f5-fdb6-41df-9fc6-221d70f8c6e8.csv',\n",
    "'data/NDSI-2D\\\\taskname_ndsi-2d-task_userid_8b544d24-3274-4bb0-9719-fd2bccc87b02.csv'])"
   ],
   "metadata": {
    "collapsed": false,
    "pycharm": {
     "name": "#%%\n"
    }
   }
  },
  {
   "cell_type": "code",
   "execution_count": 557,
   "outputs": [],
   "source": [
    "user_list_first_time=np.setdiff1d(user_list_2D, user_list_experienced)"
   ],
   "metadata": {
    "collapsed": false,
    "pycharm": {
     "name": "#%%\n"
    }
   }
  },
  {
   "cell_type": "code",
   "execution_count": 558,
   "outputs": [],
   "source": [
    "user_list_first_time=np.array([\n",
    "\n",
    "  'data/NDSI-2D\\\\taskname_ndsi-2d-task_userid_7d014c75-453b-4188-9e4e-fb086984896a.csv',\n",
    "  'data/NDSI-2D\\\\taskname_ndsi-2d-task_userid_72a8d170-77ae-400e-b2a5-de9e1d33a714.csv',\n",
    "  'data/NDSI-2D\\\\taskname_ndsi-2d-task_userid_82316e37-1117-4663-84b4-ddb6455c83b2.csv',\n",
    "  'data/NDSI-2D\\\\taskname_ndsi-2d-task_userid_44968286-f204-4ad6-a9b5-d95b38e97866.csv',\n",
    "   'data/NDSI-2D\\\\taskname_ndsi-2d-task_userid_82316e37-1117-4663-84b4-ddb6455c83b2.csv'\n",
    "\n",
    "\n",
    "\n",
    "])"
   ],
   "metadata": {
    "collapsed": false,
    "pycharm": {
     "name": "#%%\n"
    }
   }
  },
  {
   "cell_type": "code",
   "execution_count": 559,
   "outputs": [
    {
     "name": "stdout",
     "output_type": "stream",
     "text": [
      "########################### data/NDSI-2D\\taskname_ndsi-2d-task_userid_7d014c75-453b-4188-9e4e-fb086984896a.csv\n",
      "########################### data/NDSI-2D\\taskname_ndsi-2d-task_userid_72a8d170-77ae-400e-b2a5-de9e1d33a714.csv\n",
      "########################### data/NDSI-2D\\taskname_ndsi-2d-task_userid_82316e37-1117-4663-84b4-ddb6455c83b2.csv\n",
      "########################### data/NDSI-2D\\taskname_ndsi-2d-task_userid_44968286-f204-4ad6-a9b5-d95b38e97866.csv\n",
      "########################### data/NDSI-2D\\taskname_ndsi-2d-task_userid_82316e37-1117-4663-84b4-ddb6455c83b2.csv\n"
     ]
    }
   ],
   "source": [
    "#result_dataframe= pd.DataFrame(columns=['User','ROI_Cycle','SouthEast','South','OhioValley','NorthernRockiesPlains','SouthWest','NorthWest','UpperMidwest','Northeast','West','Other','None'])\n",
    "all_dfs=[]\n",
    "for u in user_list_first_time:\n",
    "  print(\"###########################\",u)\n",
    "  df = pd.read_csv(u)\n",
    "  df=df[df.State !='Answering']\n",
    "  u=u.lstrip('data/NDSI-2D\\\\taskname_ndsi-2d-task_')\n",
    "  #u=u.lstrip('data/NDSI-3D\\\\taskname_ndsi-3d-task_')\n",
    "  u=u.rstrip('.csv')\n",
    "  one_string = ','.join(((df[df['annotated_subtask'].isin(['Subtask_2'])])['State']).tolist())\n",
    "  tokens = [re.sub(r'[^a-zA-Z0-9\\s]', ' ', token) for token in one_string.split(\",\") if token != \"\"]\n",
    "  output = list(ngrams(tokens, 2)) + list(ngrams(tokens, 3))\n",
    "  df = pd.Series(output).value_counts()\n",
    "  df_last=pd.DataFrame([df])\n",
    "  df_last[\"User\"]=u\n",
    "  df_last['Task']=0\n",
    "  all_dfs.append(df_last)\n"
   ],
   "metadata": {
    "collapsed": false,
    "pycharm": {
     "name": "#%%\n"
    }
   }
  },
  {
   "cell_type": "code",
   "execution_count": 560,
   "outputs": [
    {
     "name": "stdout",
     "output_type": "stream",
     "text": [
      "########################### data/NDSI-2D\\taskname_ndsi-2d-task_userid_7d014c75-453b-4188-9e4e-fb086984896a.csv\n",
      "########################### data/NDSI-2D\\taskname_ndsi-2d-task_userid_72a8d170-77ae-400e-b2a5-de9e1d33a714.csv\n",
      "########################### data/NDSI-2D\\taskname_ndsi-2d-task_userid_82316e37-1117-4663-84b4-ddb6455c83b2.csv\n",
      "########################### data/NDSI-2D\\taskname_ndsi-2d-task_userid_44968286-f204-4ad6-a9b5-d95b38e97866.csv\n",
      "########################### data/NDSI-2D\\taskname_ndsi-2d-task_userid_82316e37-1117-4663-84b4-ddb6455c83b2.csv\n"
     ]
    }
   ],
   "source": [
    "all_user_list_first_time_dfs=[]\n",
    "for u in user_list_first_time:\n",
    "  print(\"###########################\",u)\n",
    "  df = pd.read_csv(u)\n",
    "  df=df[df.State !='Answering']\n",
    "  u=u.lstrip('data/NDSI-2D\\\\taskname_ndsi-2d-task_')\n",
    "  #u=u.lstrip('data/NDSI-3D\\\\taskname_ndsi-3d-task_')\n",
    "  u=u.rstrip('.csv')\n",
    "  one_string = ','.join(((df[df['annotated_subtask'].isin(['Subtask_3'])])['State']).tolist())\n",
    "  tokens = [re.sub(r'[^a-zA-Z0-9\\s]', ' ', token) for token in one_string.split(\",\") if token != \"\"]\n",
    "  output = list(ngrams(tokens, 2)) + list(ngrams(tokens, 3))\n",
    "  df = pd.Series(output).value_counts()\n",
    "  df_last=pd.DataFrame([df])\n",
    "  df_last[\"User\"]=u\n",
    "  df_last['Task']=1\n",
    "  all_user_list_first_time_dfs.append(df_last)"
   ],
   "metadata": {
    "collapsed": false,
    "pycharm": {
     "name": "#%%\n"
    }
   }
  },
  {
   "cell_type": "code",
   "execution_count": 561,
   "outputs": [
    {
     "name": "stdout",
     "output_type": "stream",
     "text": [
      "########################### data/NDSI-2D\\taskname_ndsi-2d-task_userid_7d014c75-453b-4188-9e4e-fb086984896a.csv\n",
      "########################### data/NDSI-2D\\taskname_ndsi-2d-task_userid_72a8d170-77ae-400e-b2a5-de9e1d33a714.csv\n",
      "########################### data/NDSI-2D\\taskname_ndsi-2d-task_userid_82316e37-1117-4663-84b4-ddb6455c83b2.csv\n",
      "########################### data/NDSI-2D\\taskname_ndsi-2d-task_userid_44968286-f204-4ad6-a9b5-d95b38e97866.csv\n",
      "########################### data/NDSI-2D\\taskname_ndsi-2d-task_userid_82316e37-1117-4663-84b4-ddb6455c83b2.csv\n"
     ]
    },
    {
     "name": "stderr",
     "output_type": "stream",
     "text": [
      "C:\\Users\\Nischal Aryal\\AppData\\Local\\Temp\\ipykernel_16520\\4211123710.py:12: FutureWarning: The default dtype for empty Series will be 'object' instead of 'float64' in a future version. Specify a dtype explicitly to silence this warning.\n",
      "  df = pd.Series(output).value_counts()\n",
      "C:\\Users\\Nischal Aryal\\AppData\\Local\\Temp\\ipykernel_16520\\4211123710.py:12: FutureWarning: The default dtype for empty Series will be 'object' instead of 'float64' in a future version. Specify a dtype explicitly to silence this warning.\n",
      "  df = pd.Series(output).value_counts()\n"
     ]
    }
   ],
   "source": [
    "c_all_dfs=[]\n",
    "for u in user_list_first_time:\n",
    "  print(\"###########################\",u)\n",
    "  df = pd.read_csv(u)\n",
    "  df=df[df.State !='Answering']\n",
    "  u=u.lstrip('data/NDSI-2D\\\\taskname_ndsi-2d-task_')\n",
    "  #u=u.lstrip('data/NDSI-3D\\\\taskname_ndsi-3d-task_')\n",
    "  u=u.rstrip('.csv')\n",
    "  one_string = ','.join(((df[df['annotated_subtask'].isin(['Subtask_4'])])['State']).tolist())\n",
    "  tokens = [re.sub(r'[^a-zA-Z0-9\\s]', ' ', token) for token in one_string.split(\",\") if token != \"\"]\n",
    "  output = list(ngrams(tokens, 2)) + list(ngrams(tokens, 3))\n",
    "  df = pd.Series(output).value_counts()\n",
    "  df_last=pd.DataFrame([df])\n",
    "  df_last[\"User\"]=u\n",
    "  df_last['Task']=2\n",
    "  c_all_dfs.append(df_last)"
   ],
   "metadata": {
    "collapsed": false,
    "pycharm": {
     "name": "#%%\n"
    }
   }
  },
  {
   "cell_type": "code",
   "execution_count": 561,
   "outputs": [],
   "source": [],
   "metadata": {
    "collapsed": false,
    "pycharm": {
     "name": "#%%\n"
    }
   }
  },
  {
   "cell_type": "code",
   "execution_count": 562,
   "outputs": [],
   "source": [
    "final_df=pd.concat([pd.concat(all_dfs),pd.concat(all_user_list_first_time_dfs)])\n",
    "final_df=final_df.fillna(0)\n",
    "#,pd.concat(c_all_dfs)"
   ],
   "metadata": {
    "collapsed": false,
    "pycharm": {
     "name": "#%%\n"
    }
   }
  },
  {
   "cell_type": "code",
   "execution_count": 563,
   "outputs": [
    {
     "data": {
      "text/plain": "Empty DataFrame\nColumns: [(Foraging, Foraging), (Navigation, Navigation), (Foraging, Foraging, Foraging), (Navigation, Navigation, Navigation), (Navigation, Foraging), (Foraging, Navigation), (Navigation, Navigation, Foraging), (Navigation, Foraging, Foraging), (Foraging, Foraging, Navigation), (Navigation, Sensemaking), (Sensemaking, Navigation), (Foraging, Navigation, Navigation), (Navigation, Navigation, Sensemaking), (Navigation, Sensemaking, Navigation), (Sensemaking, Navigation, Navigation), User, Task, (Sensemaking, Sensemaking), (Navigation, Sensemaking, Sensemaking), (Sensemaking, Sensemaking, Navigation), (Sensemaking, Sensemaking, Sensemaking), (Navigation, Foraging, Navigation)]\nIndex: []\n\n[0 rows x 22 columns]",
      "text/html": "<div>\n<style scoped>\n    .dataframe tbody tr th:only-of-type {\n        vertical-align: middle;\n    }\n\n    .dataframe tbody tr th {\n        vertical-align: top;\n    }\n\n    .dataframe thead th {\n        text-align: right;\n    }\n</style>\n<table border=\"1\" class=\"dataframe\">\n  <thead>\n    <tr style=\"text-align: right;\">\n      <th></th>\n      <th>(Foraging, Foraging)</th>\n      <th>(Navigation, Navigation)</th>\n      <th>(Foraging, Foraging, Foraging)</th>\n      <th>(Navigation, Navigation, Navigation)</th>\n      <th>(Navigation, Foraging)</th>\n      <th>(Foraging, Navigation)</th>\n      <th>(Navigation, Navigation, Foraging)</th>\n      <th>(Navigation, Foraging, Foraging)</th>\n      <th>(Foraging, Foraging, Navigation)</th>\n      <th>(Navigation, Sensemaking)</th>\n      <th>...</th>\n      <th>(Navigation, Navigation, Sensemaking)</th>\n      <th>(Navigation, Sensemaking, Navigation)</th>\n      <th>(Sensemaking, Navigation, Navigation)</th>\n      <th>User</th>\n      <th>Task</th>\n      <th>(Sensemaking, Sensemaking)</th>\n      <th>(Navigation, Sensemaking, Sensemaking)</th>\n      <th>(Sensemaking, Sensemaking, Navigation)</th>\n      <th>(Sensemaking, Sensemaking, Sensemaking)</th>\n      <th>(Navigation, Foraging, Navigation)</th>\n    </tr>\n  </thead>\n  <tbody>\n  </tbody>\n</table>\n<p>0 rows × 22 columns</p>\n</div>"
     },
     "execution_count": 563,
     "metadata": {},
     "output_type": "execute_result"
    }
   ],
   "source": [
    "final_df.drop(final_df.index)"
   ],
   "metadata": {
    "collapsed": false,
    "pycharm": {
     "name": "#%%\n"
    }
   }
  },
  {
   "cell_type": "code",
   "execution_count": 564,
   "outputs": [
    {
     "data": {
      "text/plain": "   (Foraging, Foraging)  (Navigation, Navigation)  \\\n0                   7.0                         6   \n0                   0.0                         5   \n0                   0.0                         6   \n0                   2.0                         8   \n0                   0.0                         6   \n0                   5.0                         7   \n0                   2.0                        14   \n0                   6.0                        10   \n0                   1.0                         8   \n0                   6.0                        10   \n\n   (Foraging, Foraging, Foraging)  (Navigation, Navigation, Navigation)  \\\n0                             5.0                                     3   \n0                             0.0                                     3   \n0                             0.0                                     4   \n0                             1.0                                     6   \n0                             0.0                                     4   \n0                             3.0                                     1   \n0                             1.0                                    10   \n0                             5.0                                     6   \n0                             0.0                                     6   \n0                             5.0                                     6   \n\n   (Navigation, Foraging)  (Foraging, Navigation)  \\\n0                     2.0                     2.0   \n0                     0.0                     0.0   \n0                     1.0                     0.0   \n0                     1.0                     1.0   \n0                     1.0                     0.0   \n0                     3.0                     3.0   \n0                     1.0                     2.0   \n0                     1.0                     2.0   \n0                     0.0                     1.0   \n0                     1.0                     2.0   \n\n   (Navigation, Navigation, Foraging)  (Navigation, Foraging, Foraging)  \\\n0                                 2.0                               2.0   \n0                                 0.0                               0.0   \n0                                 1.0                               0.0   \n0                                 0.0                               1.0   \n0                                 1.0                               0.0   \n0                                 2.0                               2.0   \n0                                 1.0                               1.0   \n0                                 1.0                               0.0   \n0                                 0.0                               0.0   \n0                                 1.0                               0.0   \n\n   (Foraging, Foraging, Navigation)  (Navigation, Sensemaking)  ...  \\\n0                               2.0                          1  ...   \n0                               0.0                          1  ...   \n0                               0.0                          1  ...   \n0                               1.0                          1  ...   \n0                               0.0                          1  ...   \n0                               2.0                          3  ...   \n0                               1.0                          2  ...   \n0                               1.0                          3  ...   \n0                               1.0                          1  ...   \n0                               1.0                          3  ...   \n\n   (Navigation, Navigation, Sensemaking)  \\\n0                                      1   \n0                                      1   \n0                                      1   \n0                                      1   \n0                                      1   \n0                                      3   \n0                                      2   \n0                                      3   \n0                                      1   \n0                                      3   \n\n   (Navigation, Sensemaking, Navigation)  \\\n0                                    1.0   \n0                                    0.0   \n0                                    1.0   \n0                                    1.0   \n0                                    1.0   \n0                                    0.0   \n0                                    0.0   \n0                                    0.0   \n0                                    1.0   \n0                                    0.0   \n\n   (Sensemaking, Navigation, Navigation)  \\\n0                                      1   \n0                                      1   \n0                                      1   \n0                                      1   \n0                                      1   \n0                                      3   \n0                                      2   \n0                                      2   \n0                                      1   \n0                                      2   \n\n                                          User  Task  \\\n0  userid_7d014c75-453b-4188-9e4e-fb086984896a     0   \n0  userid_72a8d170-77ae-400e-b2a5-de9e1d33a714     0   \n0  userid_82316e37-1117-4663-84b4-ddb6455c83b2     0   \n0  userid_44968286-f204-4ad6-a9b5-d95b38e97866     0   \n0  userid_82316e37-1117-4663-84b4-ddb6455c83b2     0   \n0  userid_7d014c75-453b-4188-9e4e-fb086984896a     1   \n0  userid_72a8d170-77ae-400e-b2a5-de9e1d33a714     1   \n0  userid_82316e37-1117-4663-84b4-ddb6455c83b2     1   \n0  userid_44968286-f204-4ad6-a9b5-d95b38e97866     1   \n0  userid_82316e37-1117-4663-84b4-ddb6455c83b2     1   \n\n  (Sensemaking, Sensemaking)  (Navigation, Sensemaking, Sensemaking)  \\\n0                        0.0                                     0.0   \n0                        1.0                                     1.0   \n0                        0.0                                     0.0   \n0                        0.0                                     0.0   \n0                        0.0                                     0.0   \n0                       23.0                                     3.0   \n0                        3.0                                     2.0   \n0                        9.0                                     2.0   \n0                        0.0                                     0.0   \n0                        9.0                                     2.0   \n\n   (Sensemaking, Sensemaking, Navigation)  \\\n0                                     0.0   \n0                                     1.0   \n0                                     0.0   \n0                                     0.0   \n0                                     0.0   \n0                                     3.0   \n0                                     2.0   \n0                                     2.0   \n0                                     0.0   \n0                                     2.0   \n\n   (Sensemaking, Sensemaking, Sensemaking)  (Navigation, Foraging, Navigation)  \n0                                      0.0                                 0.0  \n0                                      0.0                                 0.0  \n0                                      0.0                                 0.0  \n0                                      0.0                                 0.0  \n0                                      0.0                                 0.0  \n0                                     20.0                                 1.0  \n0                                      1.0                                 0.0  \n0                                      7.0                                 1.0  \n0                                      0.0                                 0.0  \n0                                      7.0                                 1.0  \n\n[10 rows x 22 columns]",
      "text/html": "<div>\n<style scoped>\n    .dataframe tbody tr th:only-of-type {\n        vertical-align: middle;\n    }\n\n    .dataframe tbody tr th {\n        vertical-align: top;\n    }\n\n    .dataframe thead th {\n        text-align: right;\n    }\n</style>\n<table border=\"1\" class=\"dataframe\">\n  <thead>\n    <tr style=\"text-align: right;\">\n      <th></th>\n      <th>(Foraging, Foraging)</th>\n      <th>(Navigation, Navigation)</th>\n      <th>(Foraging, Foraging, Foraging)</th>\n      <th>(Navigation, Navigation, Navigation)</th>\n      <th>(Navigation, Foraging)</th>\n      <th>(Foraging, Navigation)</th>\n      <th>(Navigation, Navigation, Foraging)</th>\n      <th>(Navigation, Foraging, Foraging)</th>\n      <th>(Foraging, Foraging, Navigation)</th>\n      <th>(Navigation, Sensemaking)</th>\n      <th>...</th>\n      <th>(Navigation, Navigation, Sensemaking)</th>\n      <th>(Navigation, Sensemaking, Navigation)</th>\n      <th>(Sensemaking, Navigation, Navigation)</th>\n      <th>User</th>\n      <th>Task</th>\n      <th>(Sensemaking, Sensemaking)</th>\n      <th>(Navigation, Sensemaking, Sensemaking)</th>\n      <th>(Sensemaking, Sensemaking, Navigation)</th>\n      <th>(Sensemaking, Sensemaking, Sensemaking)</th>\n      <th>(Navigation, Foraging, Navigation)</th>\n    </tr>\n  </thead>\n  <tbody>\n    <tr>\n      <th>0</th>\n      <td>7.0</td>\n      <td>6</td>\n      <td>5.0</td>\n      <td>3</td>\n      <td>2.0</td>\n      <td>2.0</td>\n      <td>2.0</td>\n      <td>2.0</td>\n      <td>2.0</td>\n      <td>1</td>\n      <td>...</td>\n      <td>1</td>\n      <td>1.0</td>\n      <td>1</td>\n      <td>userid_7d014c75-453b-4188-9e4e-fb086984896a</td>\n      <td>0</td>\n      <td>0.0</td>\n      <td>0.0</td>\n      <td>0.0</td>\n      <td>0.0</td>\n      <td>0.0</td>\n    </tr>\n    <tr>\n      <th>0</th>\n      <td>0.0</td>\n      <td>5</td>\n      <td>0.0</td>\n      <td>3</td>\n      <td>0.0</td>\n      <td>0.0</td>\n      <td>0.0</td>\n      <td>0.0</td>\n      <td>0.0</td>\n      <td>1</td>\n      <td>...</td>\n      <td>1</td>\n      <td>0.0</td>\n      <td>1</td>\n      <td>userid_72a8d170-77ae-400e-b2a5-de9e1d33a714</td>\n      <td>0</td>\n      <td>1.0</td>\n      <td>1.0</td>\n      <td>1.0</td>\n      <td>0.0</td>\n      <td>0.0</td>\n    </tr>\n    <tr>\n      <th>0</th>\n      <td>0.0</td>\n      <td>6</td>\n      <td>0.0</td>\n      <td>4</td>\n      <td>1.0</td>\n      <td>0.0</td>\n      <td>1.0</td>\n      <td>0.0</td>\n      <td>0.0</td>\n      <td>1</td>\n      <td>...</td>\n      <td>1</td>\n      <td>1.0</td>\n      <td>1</td>\n      <td>userid_82316e37-1117-4663-84b4-ddb6455c83b2</td>\n      <td>0</td>\n      <td>0.0</td>\n      <td>0.0</td>\n      <td>0.0</td>\n      <td>0.0</td>\n      <td>0.0</td>\n    </tr>\n    <tr>\n      <th>0</th>\n      <td>2.0</td>\n      <td>8</td>\n      <td>1.0</td>\n      <td>6</td>\n      <td>1.0</td>\n      <td>1.0</td>\n      <td>0.0</td>\n      <td>1.0</td>\n      <td>1.0</td>\n      <td>1</td>\n      <td>...</td>\n      <td>1</td>\n      <td>1.0</td>\n      <td>1</td>\n      <td>userid_44968286-f204-4ad6-a9b5-d95b38e97866</td>\n      <td>0</td>\n      <td>0.0</td>\n      <td>0.0</td>\n      <td>0.0</td>\n      <td>0.0</td>\n      <td>0.0</td>\n    </tr>\n    <tr>\n      <th>0</th>\n      <td>0.0</td>\n      <td>6</td>\n      <td>0.0</td>\n      <td>4</td>\n      <td>1.0</td>\n      <td>0.0</td>\n      <td>1.0</td>\n      <td>0.0</td>\n      <td>0.0</td>\n      <td>1</td>\n      <td>...</td>\n      <td>1</td>\n      <td>1.0</td>\n      <td>1</td>\n      <td>userid_82316e37-1117-4663-84b4-ddb6455c83b2</td>\n      <td>0</td>\n      <td>0.0</td>\n      <td>0.0</td>\n      <td>0.0</td>\n      <td>0.0</td>\n      <td>0.0</td>\n    </tr>\n    <tr>\n      <th>0</th>\n      <td>5.0</td>\n      <td>7</td>\n      <td>3.0</td>\n      <td>1</td>\n      <td>3.0</td>\n      <td>3.0</td>\n      <td>2.0</td>\n      <td>2.0</td>\n      <td>2.0</td>\n      <td>3</td>\n      <td>...</td>\n      <td>3</td>\n      <td>0.0</td>\n      <td>3</td>\n      <td>userid_7d014c75-453b-4188-9e4e-fb086984896a</td>\n      <td>1</td>\n      <td>23.0</td>\n      <td>3.0</td>\n      <td>3.0</td>\n      <td>20.0</td>\n      <td>1.0</td>\n    </tr>\n    <tr>\n      <th>0</th>\n      <td>2.0</td>\n      <td>14</td>\n      <td>1.0</td>\n      <td>10</td>\n      <td>1.0</td>\n      <td>2.0</td>\n      <td>1.0</td>\n      <td>1.0</td>\n      <td>1.0</td>\n      <td>2</td>\n      <td>...</td>\n      <td>2</td>\n      <td>0.0</td>\n      <td>2</td>\n      <td>userid_72a8d170-77ae-400e-b2a5-de9e1d33a714</td>\n      <td>1</td>\n      <td>3.0</td>\n      <td>2.0</td>\n      <td>2.0</td>\n      <td>1.0</td>\n      <td>0.0</td>\n    </tr>\n    <tr>\n      <th>0</th>\n      <td>6.0</td>\n      <td>10</td>\n      <td>5.0</td>\n      <td>6</td>\n      <td>1.0</td>\n      <td>2.0</td>\n      <td>1.0</td>\n      <td>0.0</td>\n      <td>1.0</td>\n      <td>3</td>\n      <td>...</td>\n      <td>3</td>\n      <td>0.0</td>\n      <td>2</td>\n      <td>userid_82316e37-1117-4663-84b4-ddb6455c83b2</td>\n      <td>1</td>\n      <td>9.0</td>\n      <td>2.0</td>\n      <td>2.0</td>\n      <td>7.0</td>\n      <td>1.0</td>\n    </tr>\n    <tr>\n      <th>0</th>\n      <td>1.0</td>\n      <td>8</td>\n      <td>0.0</td>\n      <td>6</td>\n      <td>0.0</td>\n      <td>1.0</td>\n      <td>0.0</td>\n      <td>0.0</td>\n      <td>1.0</td>\n      <td>1</td>\n      <td>...</td>\n      <td>1</td>\n      <td>1.0</td>\n      <td>1</td>\n      <td>userid_44968286-f204-4ad6-a9b5-d95b38e97866</td>\n      <td>1</td>\n      <td>0.0</td>\n      <td>0.0</td>\n      <td>0.0</td>\n      <td>0.0</td>\n      <td>0.0</td>\n    </tr>\n    <tr>\n      <th>0</th>\n      <td>6.0</td>\n      <td>10</td>\n      <td>5.0</td>\n      <td>6</td>\n      <td>1.0</td>\n      <td>2.0</td>\n      <td>1.0</td>\n      <td>0.0</td>\n      <td>1.0</td>\n      <td>3</td>\n      <td>...</td>\n      <td>3</td>\n      <td>0.0</td>\n      <td>2</td>\n      <td>userid_82316e37-1117-4663-84b4-ddb6455c83b2</td>\n      <td>1</td>\n      <td>9.0</td>\n      <td>2.0</td>\n      <td>2.0</td>\n      <td>7.0</td>\n      <td>1.0</td>\n    </tr>\n  </tbody>\n</table>\n<p>10 rows × 22 columns</p>\n</div>"
     },
     "execution_count": 564,
     "metadata": {},
     "output_type": "execute_result"
    }
   ],
   "source": [
    "final_df.head(20)\n"
   ],
   "metadata": {
    "collapsed": false,
    "pycharm": {
     "name": "#%%\n"
    }
   }
  },
  {
   "cell_type": "code",
   "execution_count": 565,
   "outputs": [],
   "source": [
    "column_names = list(final_df.columns.values)\n",
    "column_names = [e for e in column_names if e not in ('Task', 'User')]"
   ],
   "metadata": {
    "collapsed": false,
    "pycharm": {
     "name": "#%%\n"
    }
   }
  },
  {
   "cell_type": "code",
   "execution_count": 566,
   "outputs": [],
   "source": [
    "final_df_copy=final_df.drop(['User'], axis=1)"
   ],
   "metadata": {
    "collapsed": false,
    "pycharm": {
     "name": "#%%\n"
    }
   }
  },
  {
   "cell_type": "code",
   "execution_count": 567,
   "outputs": [
    {
     "name": "stderr",
     "output_type": "stream",
     "text": [
      "C:\\Users\\Nischal Aryal\\AppData\\Local\\Programs\\Python\\Python39\\lib\\site-packages\\pandas\\core\\common.py:241: VisibleDeprecationWarning: Creating an ndarray from ragged nested sequences (which is a list-or-tuple of lists-or-tuples-or ndarrays with different lengths or shapes) is deprecated. If you meant to do this, you must specify 'dtype=object' when creating the ndarray.\n",
      "  result = np.asarray(values, dtype=dtype)\n"
     ]
    }
   ],
   "source": [
    "X_train, X_test, y_train, y_test = train_test_split(final_df_copy[column_names], final_df_copy['Task'], test_size = 0.10, random_state = 42)"
   ],
   "metadata": {
    "collapsed": false,
    "pycharm": {
     "name": "#%%\n"
    }
   }
  },
  {
   "cell_type": "code",
   "execution_count": 568,
   "outputs": [
    {
     "name": "stderr",
     "output_type": "stream",
     "text": [
      "C:\\Users\\Nischal Aryal\\AppData\\Local\\Programs\\Python\\Python39\\lib\\site-packages\\sklearn\\utils\\validation.py:1688: FutureWarning: Feature names only support names that are all strings. Got feature names with dtypes: ['tuple']. An error will be raised in 1.2.\n",
      "  warnings.warn(\n"
     ]
    }
   ],
   "source": [
    "dtree = DecisionTreeClassifier()\n",
    "dtree = dtree.fit(X_train,y_train)"
   ],
   "metadata": {
    "collapsed": false,
    "pycharm": {
     "name": "#%%\n"
    }
   }
  },
  {
   "cell_type": "code",
   "execution_count": 569,
   "outputs": [
    {
     "name": "stderr",
     "output_type": "stream",
     "text": [
      "C:\\Users\\Nischal Aryal\\AppData\\Local\\Programs\\Python\\Python39\\lib\\site-packages\\sklearn\\utils\\validation.py:1688: FutureWarning: Feature names only support names that are all strings. Got feature names with dtypes: ['tuple']. An error will be raised in 1.2.\n",
      "  warnings.warn(\n"
     ]
    }
   ],
   "source": [
    "y_pred_en = dtree.predict(X_test)"
   ],
   "metadata": {
    "collapsed": false,
    "pycharm": {
     "name": "#%%\n"
    }
   }
  },
  {
   "cell_type": "code",
   "execution_count": 570,
   "outputs": [
    {
     "name": "stdout",
     "output_type": "stream",
     "text": [
      "Model accuracy score with criterion Gini: 0.0000\n"
     ]
    }
   ],
   "source": [
    "print('Model accuracy score with criterion Gini: {0:0.4f}'. format(accuracy_score(y_test, y_pred_en)))"
   ],
   "metadata": {
    "collapsed": false,
    "pycharm": {
     "name": "#%%\n"
    }
   }
  },
  {
   "cell_type": "code",
   "execution_count": 571,
   "outputs": [
    {
     "name": "stdout",
     "output_type": "stream",
     "text": [
      "Confusion matrix: tn, fp,fn,tp\n",
      "\n",
      " [0 0 1 0]\n"
     ]
    }
   ],
   "source": [
    "cm = confusion_matrix(y_test, y_pred_en)\n",
    "print('Confusion matrix: tn, fp,fn,tp\\n\\n', cm.ravel())"
   ],
   "metadata": {
    "collapsed": false,
    "pycharm": {
     "name": "#%%\n"
    }
   }
  },
  {
   "cell_type": "code",
   "execution_count": 572,
   "outputs": [
    {
     "data": {
      "text/plain": "<Figure size 1368x1368 with 1 Axes>",
      "image/png": "[encoded data removed]"
     },
     "metadata": {
      "needs_background": "light"
     },
     "output_type": "display_data"
    }
   ],
   "source": [
    "import time\n",
    "plt.figure(figsize=(19,19))  # set plot size (denoted in inches)\n",
    "tree.plot_tree(dtree, feature_names=column_names, class_names=True,filled=True, fontsize=11)\n",
    "filename= \"tree\" + str(time.time()) + str(\".jpg\")\n",
    "plt.savefig(filename,format='jpg',bbox_inches = \"tight\")\n",
    "plt.show()"
   ],
   "metadata": {
    "collapsed": false,
    "pycharm": {
     "name": "#%%\n"
    }
   }
  },
  {
   "cell_type": "code",
   "execution_count": null,
   "outputs": [],
   "source": [],
   "metadata": {
    "collapsed": false,
    "pycharm": {
     "name": "#%%\n"
    }
   }
  }
 ],
 "metadata": {
  "kernelspec": {
   "display_name": "Python 3",
   "language": "python",
   "name": "python3"
  },
  "language_info": {
   "codemirror_mode": {
    "name": "ipython",
    "version": 2
   },
   "file_extension": ".py",
   "mimetype": "text/x-python",
   "name": "python",
   "nbconvert_exporter": "python",
   "pygments_lexer": "ipython2",
   "version": "2.7.6"
  }
 },
 "nbformat": 4,
 "nbformat_minor": 0
}