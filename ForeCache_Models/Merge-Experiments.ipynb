{
 "cells": [
  {
   "cell_type": "code",
   "execution_count": 12,
   "metadata": {
    "collapsed": true
   },
   "outputs": [],
   "source": [
    "import numpy as np\n",
    "import pandas as pd\n",
    "from matplotlib import pyplot as plt\n",
    "import seaborn as sns\n",
    "import misc\n",
    "\n"
   ]
  },
  {
   "cell_type": "code",
   "execution_count": 13,
   "outputs": [],
   "source": [
    "algos=['Greedy','WSLS','ActorCritic','QLearn','SARSA']\n",
    "accuracies=[59.17,48.83,67.49,61.35,58.97]\n"
   ],
   "metadata": {
    "collapsed": false
   }
  },
  {
   "cell_type": "code",
   "execution_count": 14,
   "outputs": [],
   "source": [
    "df = pd.DataFrame({\n",
    "        'Algorithm': ['Naive','WSLS','ActorCritic','QLearn','SARSA'],\n",
    "        'Accuracy': accuracies\n",
    "})"
   ],
   "metadata": {
    "collapsed": false
   }
  },
  {
   "cell_type": "code",
   "execution_count": 15,
   "outputs": [],
   "source": [
    "\n",
    "\n",
    "# Reorder this data frame\n",
    "df = df.sort_values(['Accuracy'], ascending=False).reset_index(drop=True)"
   ],
   "metadata": {
    "collapsed": false
   }
  },
  {
   "cell_type": "code",
   "execution_count": 16,
   "outputs": [
    {
     "data": {
      "text/plain": "<Figure size 504x360 with 1 Axes>",
      "image/png": "[encoded data removed]"
     },
     "metadata": {},
     "output_type": "display_data"
    }
   ],
   "source": [
    "# Set the figure size\n",
    "f, ax = plt.subplots(figsize = (7,5),facecolor=\"white\")\n",
    "sns.color_palette('tab10')\n",
    "ax=sns.barplot(\n",
    "    x=\"Algorithm\",\n",
    "    y=\"Accuracy\",\n",
    "    data=df,\n",
    "    orient=\"v\",\n",
    "    label=\"Accuracy\",\n",
    "    ci=None\n",
    "\n",
    "    #color='#69b3a2'\n",
    ");\n",
    "ax.bar_label(ax.containers[0])\n",
    "title='all-algos-global.png'\n",
    "location = 'figures/Naive/' + title\n",
    "plt.savefig(location, bbox_inches='tight')"
   ],
   "metadata": {
    "collapsed": false
   }
  },
  {
   "cell_type": "markdown",
   "source": [],
   "metadata": {
    "collapsed": false
   }
  },
  {
   "cell_type": "code",
   "execution_count": 17,
   "outputs": [],
   "source": [
    "df_ac = pd.read_csv(\"Experiments_Folder\\Results\\\\ActorCritic.csv\")\n",
    "df_wsls =pd.read_csv(\"Experiments_Folder\\Results\\\\WSLS.csv\")\n",
    "df_greedy=pd.read_csv(\"Experiments_Folder\\Results\\\\Greedy.csv\")\n",
    "df_sarsa=pd.read_csv(\"Experiments_Folder\\Results\\\\SARSA.csv\")\n",
    "df_qlearn=pd.read_csv(\"Experiments_Folder\\Results\\\\QLearn.csv\")\n",
    "df_reinforce=pd.read_csv(\"Experiments_Folder\\Results\\\\Reinforce.csv\")\n",
    "df_naive=pd.read_csv(\"Experiments_Folder\\Results\\\\Naive.csv\")"
   ],
   "metadata": {
    "collapsed": false
   }
  },
  {
   "cell_type": "code",
   "execution_count": 18,
   "outputs": [],
   "source": [
    "# Add a new column to each dataframe with the name of the dataframe\n",
    "df_ac['Algo'] = 'ActorCritic'\n",
    "df_wsls['Algo'] = 'WSLS'\n",
    "df_greedy['Algo'] = 'Greedy'\n",
    "df_sarsa['Algo'] = 'SARSA'\n",
    "df_qlearn['Algo'] = 'QLearn'\n",
    "df_reinforce['Algo'] = 'Reinforce'\n",
    "df_naive['Algo'] = 'Naive'\n",
    "\n",
    "# Add a new column to each dataframe to keep track of the original index\n",
    "df_ac['original_dataframe_index'] = range(len(df_ac))\n",
    "df_wsls['original_dataframe_index'] = range(len(df_wsls))\n",
    "df_greedy['original_dataframe_index'] = range(len(df_greedy))\n",
    "df_sarsa['original_dataframe_index'] = range(len(df_sarsa))\n",
    "df_qlearn['original_dataframe_index'] = range(len(df_qlearn))\n",
    "df_reinforce['original_dataframe_index'] = range(len(df_qlearn))\n",
    "df_naive['original_dataframe_index'] = range(len(df_naive))\n",
    "\n",
    "# Combine the dataframes into one\n",
    "df_combined = pd.concat([df_ac, df_wsls, df_greedy, df_sarsa, df_qlearn,df_reinforce,df_naive])\n",
    "\n",
    "# Reset the index of the combined dataframe\n",
    "df_combined = df_combined.reset_index(drop=True)"
   ],
   "metadata": {
    "collapsed": false
   }
  },
  {
   "cell_type": "code",
   "execution_count": 19,
   "outputs": [
    {
     "data": {
      "text/plain": "     Algorithm User  Threshold  LearningRate  Discount  Temperature  Accuracy  \\\n1380     Naive  U_8       0.05           0.0       0.0          NaN  0.181034   \n1381     Naive  U_8       0.10           0.0       0.0          NaN  0.583333   \n1382     Naive  U_8       0.20           0.0       0.0          NaN  0.250000   \n1383     Naive  U_8       0.30           0.0       0.0          NaN  0.178571   \n1384     Naive  U_8       0.40           0.0       0.0          NaN  0.354167   \n1385     Naive  U_8       0.50           0.0       0.0          NaN  0.153846   \n1386     Naive  U_8       0.60           0.0       0.0          NaN  0.290323   \n1387     Naive  U_8       0.70           0.0       0.0          NaN  0.826087   \n1388     Naive  U_8       0.80           0.0       0.0          NaN  0.066667   \n1389     Naive  U_8       0.90           0.0       0.0          NaN  0.000000   \n1390     Naive  U_9       0.05           0.0       0.0          NaN  0.424528   \n1391     Naive  U_9       0.10           0.0       0.0          NaN  0.373737   \n1392     Naive  U_9       0.20           0.0       0.0          NaN  0.556818   \n1393     Naive  U_9       0.30           0.0       0.0          NaN  0.220779   \n1394     Naive  U_9       0.40           0.0       0.0          NaN  0.545455   \n1395     Naive  U_9       0.50           0.0       0.0          NaN  0.722222   \n1396     Naive  U_9       0.60           0.0       0.0          NaN  0.186047   \n1397     Naive  U_9       0.70           0.0       0.0          NaN  0.750000   \n1398     Naive  U_9       0.80           0.0       0.0          NaN  0.619048   \n1399     Naive  U_9       0.90           0.0       0.0          NaN  0.100000   \n\n                                          StateAccuracy   Algo  \\\n1380                 [0.1875, 0.17142857142857143, 0.2]  Naive   \n1381                    [0.3, 0.8095238095238095, 0.25]  Naive   \n1382      [0.7, 0.1388888888888889, 0.2222222222222222]  Naive   \n1383     [0.3, 0.10714285714285714, 0.2222222222222222]  Naive   \n1384                    [0.3, 0.12, 0.8461538461538461]  Naive   \n1385  [0.2222222222222222, 0.11764705882352941, 0.15...  Naive   \n1386  [0.875, 0.09090909090909091, 0.08333333333333333]  Naive   \n1387                  [0.875, 0.75, 0.8571428571428571]  Naive   \n1388                                   [0.25, 0.0, 0.0]  Naive   \n1389                                      [0, 0.0, 0.0]  Naive   \n1390  [0.6951219512195121, 0.1724137931034483, 0.774...  Naive   \n1391  [0.7307692307692307, 0.12727272727272726, 0.61...  Naive   \n1392  [0.30434782608695654, 0.7446808510638298, 0.38...  Naive   \n1393  [0.3333333333333333, 0.13333333333333333, 0.35...  Naive   \n1394  [0.3333333333333333, 0.7297297297297297, 0.285...  Naive   \n1395  [0.6923076923076923, 0.7142857142857143, 0.769...  Naive   \n1396  [0.2727272727272727, 0.14285714285714285, 0.18...  Naive   \n1397     [0.75, 0.6923076923076923, 0.8181818181818182]  Naive   \n1398                                 [0.8, 0.25, 0.875]  Naive   \n1399                                     [0, 0.25, 0.0]  Naive   \n\n      original_dataframe_index  Epsilon  Reward  \n1380                       180      NaN     NaN  \n1381                       181      NaN     NaN  \n1382                       182      NaN     NaN  \n1383                       183      NaN     NaN  \n1384                       184      NaN     NaN  \n1385                       185      NaN     NaN  \n1386                       186      NaN     NaN  \n1387                       187      NaN     NaN  \n1388                       188      NaN     NaN  \n1389                       189      NaN     NaN  \n1390                       190      NaN     NaN  \n1391                       191      NaN     NaN  \n1392                       192      NaN     NaN  \n1393                       193      NaN     NaN  \n1394                       194      NaN     NaN  \n1395                       195      NaN     NaN  \n1396                       196      NaN     NaN  \n1397                       197      NaN     NaN  \n1398                       198      NaN     NaN  \n1399                       199      NaN     NaN  ",
      "text/html": "<div>\n<style scoped>\n    .dataframe tbody tr th:only-of-type {\n        vertical-align: middle;\n    }\n\n    .dataframe tbody tr th {\n        vertical-align: top;\n    }\n\n    .dataframe thead th {\n        text-align: right;\n    }\n</style>\n<table border=\"1\" class=\"dataframe\">\n  <thead>\n    <tr style=\"text-align: right;\">\n      <th></th>\n      <th>Algorithm</th>\n      <th>User</th>\n      <th>Threshold</th>\n      <th>LearningRate</th>\n      <th>Discount</th>\n      <th>Temperature</th>\n      <th>Accuracy</th>\n      <th>StateAccuracy</th>\n      <th>Algo</th>\n      <th>original_dataframe_index</th>\n      <th>Epsilon</th>\n      <th>Reward</th>\n    </tr>\n  </thead>\n  <tbody>\n    <tr>\n      <th>1380</th>\n      <td>Naive</td>\n      <td>U_8</td>\n      <td>0.05</td>\n      <td>0.0</td>\n      <td>0.0</td>\n      <td>NaN</td>\n      <td>0.181034</td>\n      <td>[0.1875, 0.17142857142857143, 0.2]</td>\n      <td>Naive</td>\n      <td>180</td>\n      <td>NaN</td>\n      <td>NaN</td>\n    </tr>\n    <tr>\n      <th>1381</th>\n      <td>Naive</td>\n      <td>U_8</td>\n      <td>0.10</td>\n      <td>0.0</td>\n      <td>0.0</td>\n      <td>NaN</td>\n      <td>0.583333</td>\n      <td>[0.3, 0.8095238095238095, 0.25]</td>\n      <td>Naive</td>\n      <td>181</td>\n      <td>NaN</td>\n      <td>NaN</td>\n    </tr>\n    <tr>\n      <th>1382</th>\n      <td>Naive</td>\n      <td>U_8</td>\n      <td>0.20</td>\n      <td>0.0</td>\n      <td>0.0</td>\n      <td>NaN</td>\n      <td>0.250000</td>\n      <td>[0.7, 0.1388888888888889, 0.2222222222222222]</td>\n      <td>Naive</td>\n      <td>182</td>\n      <td>NaN</td>\n      <td>NaN</td>\n    </tr>\n    <tr>\n      <th>1383</th>\n      <td>Naive</td>\n      <td>U_8</td>\n      <td>0.30</td>\n      <td>0.0</td>\n      <td>0.0</td>\n      <td>NaN</td>\n      <td>0.178571</td>\n      <td>[0.3, 0.10714285714285714, 0.2222222222222222]</td>\n      <td>Naive</td>\n      <td>183</td>\n      <td>NaN</td>\n      <td>NaN</td>\n    </tr>\n    <tr>\n      <th>1384</th>\n      <td>Naive</td>\n      <td>U_8</td>\n      <td>0.40</td>\n      <td>0.0</td>\n      <td>0.0</td>\n      <td>NaN</td>\n      <td>0.354167</td>\n      <td>[0.3, 0.12, 0.8461538461538461]</td>\n      <td>Naive</td>\n      <td>184</td>\n      <td>NaN</td>\n      <td>NaN</td>\n    </tr>\n    <tr>\n      <th>1385</th>\n      <td>Naive</td>\n      <td>U_8</td>\n      <td>0.50</td>\n      <td>0.0</td>\n      <td>0.0</td>\n      <td>NaN</td>\n      <td>0.153846</td>\n      <td>[0.2222222222222222, 0.11764705882352941, 0.15...</td>\n      <td>Naive</td>\n      <td>185</td>\n      <td>NaN</td>\n      <td>NaN</td>\n    </tr>\n    <tr>\n      <th>1386</th>\n      <td>Naive</td>\n      <td>U_8</td>\n      <td>0.60</td>\n      <td>0.0</td>\n      <td>0.0</td>\n      <td>NaN</td>\n      <td>0.290323</td>\n      <td>[0.875, 0.09090909090909091, 0.08333333333333333]</td>\n      <td>Naive</td>\n      <td>186</td>\n      <td>NaN</td>\n      <td>NaN</td>\n    </tr>\n    <tr>\n      <th>1387</th>\n      <td>Naive</td>\n      <td>U_8</td>\n      <td>0.70</td>\n      <td>0.0</td>\n      <td>0.0</td>\n      <td>NaN</td>\n      <td>0.826087</td>\n      <td>[0.875, 0.75, 0.8571428571428571]</td>\n      <td>Naive</td>\n      <td>187</td>\n      <td>NaN</td>\n      <td>NaN</td>\n    </tr>\n    <tr>\n      <th>1388</th>\n      <td>Naive</td>\n      <td>U_8</td>\n      <td>0.80</td>\n      <td>0.0</td>\n      <td>0.0</td>\n      <td>NaN</td>\n      <td>0.066667</td>\n      <td>[0.25, 0.0, 0.0]</td>\n      <td>Naive</td>\n      <td>188</td>\n      <td>NaN</td>\n      <td>NaN</td>\n    </tr>\n    <tr>\n      <th>1389</th>\n      <td>Naive</td>\n      <td>U_8</td>\n      <td>0.90</td>\n      <td>0.0</td>\n      <td>0.0</td>\n      <td>NaN</td>\n      <td>0.000000</td>\n      <td>[0, 0.0, 0.0]</td>\n      <td>Naive</td>\n      <td>189</td>\n      <td>NaN</td>\n      <td>NaN</td>\n    </tr>\n    <tr>\n      <th>1390</th>\n      <td>Naive</td>\n      <td>U_9</td>\n      <td>0.05</td>\n      <td>0.0</td>\n      <td>0.0</td>\n      <td>NaN</td>\n      <td>0.424528</td>\n      <td>[0.6951219512195121, 0.1724137931034483, 0.774...</td>\n      <td>Naive</td>\n      <td>190</td>\n      <td>NaN</td>\n      <td>NaN</td>\n    </tr>\n    <tr>\n      <th>1391</th>\n      <td>Naive</td>\n      <td>U_9</td>\n      <td>0.10</td>\n      <td>0.0</td>\n      <td>0.0</td>\n      <td>NaN</td>\n      <td>0.373737</td>\n      <td>[0.7307692307692307, 0.12727272727272726, 0.61...</td>\n      <td>Naive</td>\n      <td>191</td>\n      <td>NaN</td>\n      <td>NaN</td>\n    </tr>\n    <tr>\n      <th>1392</th>\n      <td>Naive</td>\n      <td>U_9</td>\n      <td>0.20</td>\n      <td>0.0</td>\n      <td>0.0</td>\n      <td>NaN</td>\n      <td>0.556818</td>\n      <td>[0.30434782608695654, 0.7446808510638298, 0.38...</td>\n      <td>Naive</td>\n      <td>192</td>\n      <td>NaN</td>\n      <td>NaN</td>\n    </tr>\n    <tr>\n      <th>1393</th>\n      <td>Naive</td>\n      <td>U_9</td>\n      <td>0.30</td>\n      <td>0.0</td>\n      <td>0.0</td>\n      <td>NaN</td>\n      <td>0.220779</td>\n      <td>[0.3333333333333333, 0.13333333333333333, 0.35...</td>\n      <td>Naive</td>\n      <td>193</td>\n      <td>NaN</td>\n      <td>NaN</td>\n    </tr>\n    <tr>\n      <th>1394</th>\n      <td>Naive</td>\n      <td>U_9</td>\n      <td>0.40</td>\n      <td>0.0</td>\n      <td>0.0</td>\n      <td>NaN</td>\n      <td>0.545455</td>\n      <td>[0.3333333333333333, 0.7297297297297297, 0.285...</td>\n      <td>Naive</td>\n      <td>194</td>\n      <td>NaN</td>\n      <td>NaN</td>\n    </tr>\n    <tr>\n      <th>1395</th>\n      <td>Naive</td>\n      <td>U_9</td>\n      <td>0.50</td>\n      <td>0.0</td>\n      <td>0.0</td>\n      <td>NaN</td>\n      <td>0.722222</td>\n      <td>[0.6923076923076923, 0.7142857142857143, 0.769...</td>\n      <td>Naive</td>\n      <td>195</td>\n      <td>NaN</td>\n      <td>NaN</td>\n    </tr>\n    <tr>\n      <th>1396</th>\n      <td>Naive</td>\n      <td>U_9</td>\n      <td>0.60</td>\n      <td>0.0</td>\n      <td>0.0</td>\n      <td>NaN</td>\n      <td>0.186047</td>\n      <td>[0.2727272727272727, 0.14285714285714285, 0.18...</td>\n      <td>Naive</td>\n      <td>196</td>\n      <td>NaN</td>\n      <td>NaN</td>\n    </tr>\n    <tr>\n      <th>1397</th>\n      <td>Naive</td>\n      <td>U_9</td>\n      <td>0.70</td>\n      <td>0.0</td>\n      <td>0.0</td>\n      <td>NaN</td>\n      <td>0.750000</td>\n      <td>[0.75, 0.6923076923076923, 0.8181818181818182]</td>\n      <td>Naive</td>\n      <td>197</td>\n      <td>NaN</td>\n      <td>NaN</td>\n    </tr>\n    <tr>\n      <th>1398</th>\n      <td>Naive</td>\n      <td>U_9</td>\n      <td>0.80</td>\n      <td>0.0</td>\n      <td>0.0</td>\n      <td>NaN</td>\n      <td>0.619048</td>\n      <td>[0.8, 0.25, 0.875]</td>\n      <td>Naive</td>\n      <td>198</td>\n      <td>NaN</td>\n      <td>NaN</td>\n    </tr>\n    <tr>\n      <th>1399</th>\n      <td>Naive</td>\n      <td>U_9</td>\n      <td>0.90</td>\n      <td>0.0</td>\n      <td>0.0</td>\n      <td>NaN</td>\n      <td>0.100000</td>\n      <td>[0, 0.25, 0.0]</td>\n      <td>Naive</td>\n      <td>199</td>\n      <td>NaN</td>\n      <td>NaN</td>\n    </tr>\n  </tbody>\n</table>\n</div>"
     },
     "execution_count": 19,
     "metadata": {},
     "output_type": "execute_result"
    }
   ],
   "source": [
    "df_combined.tail(20)\n"
   ],
   "metadata": {
    "collapsed": false
   }
  },
  {
   "cell_type": "code",
   "execution_count": 20,
   "outputs": [],
   "source": [
    "df_combined.to_csv(\"Experiments_Folder\\\\\" + 'experiments-master' + \".csv\", index=False)"
   ],
   "metadata": {
    "collapsed": false
   }
  },
  {
   "cell_type": "code",
   "execution_count": 27,
   "outputs": [],
   "source": [
    "df_reinforce_two=pd.read_csv(\"Experiments_Folder\\\\QLearnall_3_actions.csv\")"
   ],
   "metadata": {
    "collapsed": false
   }
  },
  {
   "cell_type": "code",
   "execution_count": 28,
   "outputs": [
    {
     "data": {
      "text/plain": "  Algorithm User  Epsilon  Threshold  LearningRate  Discount  Accuracy  \\\n0    QLearn  U_1     0.01       0.05        0.0001      0.05  0.376623   \n1    QLearn  U_1     0.10       0.10        0.0001      0.50  0.671233   \n2    QLearn  U_1     0.50       0.20        0.1000      0.80  0.584615   \n3    QLearn  U_1     0.10       0.30        0.1000      0.50  0.684211   \n4    QLearn  U_1     0.10       0.40        0.0100      0.80  0.693878   \n\n                                       StateAccuracy    Reward  \n0     [0.7272727272727273, 0.16279069767441862, 0.5]  1.006452  \n1                    [0.75, 0.6829268292682927, 0.5]  1.006803  \n2      [0.6842105263157895, 0.5833333333333334, 0.4]  1.007634  \n3  [0.6842105263157895, 0.7096774193548387, 0.571...  1.008696  \n4    [0.75, 0.7307692307692307, 0.42857142857142855]  1.010101  ",
      "text/html": "<div>\n<style scoped>\n    .dataframe tbody tr th:only-of-type {\n        vertical-align: middle;\n    }\n\n    .dataframe tbody tr th {\n        vertical-align: top;\n    }\n\n    .dataframe thead th {\n        text-align: right;\n    }\n</style>\n<table border=\"1\" class=\"dataframe\">\n  <thead>\n    <tr style=\"text-align: right;\">\n      <th></th>\n      <th>Algorithm</th>\n      <th>User</th>\n      <th>Epsilon</th>\n      <th>Threshold</th>\n      <th>LearningRate</th>\n      <th>Discount</th>\n      <th>Accuracy</th>\n      <th>StateAccuracy</th>\n      <th>Reward</th>\n    </tr>\n  </thead>\n  <tbody>\n    <tr>\n      <th>0</th>\n      <td>QLearn</td>\n      <td>U_1</td>\n      <td>0.01</td>\n      <td>0.05</td>\n      <td>0.0001</td>\n      <td>0.05</td>\n      <td>0.376623</td>\n      <td>[0.7272727272727273, 0.16279069767441862, 0.5]</td>\n      <td>1.006452</td>\n    </tr>\n    <tr>\n      <th>1</th>\n      <td>QLearn</td>\n      <td>U_1</td>\n      <td>0.10</td>\n      <td>0.10</td>\n      <td>0.0001</td>\n      <td>0.50</td>\n      <td>0.671233</td>\n      <td>[0.75, 0.6829268292682927, 0.5]</td>\n      <td>1.006803</td>\n    </tr>\n    <tr>\n      <th>2</th>\n      <td>QLearn</td>\n      <td>U_1</td>\n      <td>0.50</td>\n      <td>0.20</td>\n      <td>0.1000</td>\n      <td>0.80</td>\n      <td>0.584615</td>\n      <td>[0.6842105263157895, 0.5833333333333334, 0.4]</td>\n      <td>1.007634</td>\n    </tr>\n    <tr>\n      <th>3</th>\n      <td>QLearn</td>\n      <td>U_1</td>\n      <td>0.10</td>\n      <td>0.30</td>\n      <td>0.1000</td>\n      <td>0.50</td>\n      <td>0.684211</td>\n      <td>[0.6842105263157895, 0.7096774193548387, 0.571...</td>\n      <td>1.008696</td>\n    </tr>\n    <tr>\n      <th>4</th>\n      <td>QLearn</td>\n      <td>U_1</td>\n      <td>0.10</td>\n      <td>0.40</td>\n      <td>0.0100</td>\n      <td>0.80</td>\n      <td>0.693878</td>\n      <td>[0.75, 0.7307692307692307, 0.42857142857142855]</td>\n      <td>1.010101</td>\n    </tr>\n  </tbody>\n</table>\n</div>"
     },
     "execution_count": 28,
     "metadata": {},
     "output_type": "execute_result"
    }
   ],
   "source": [
    "df_reinforce_two.head(5)"
   ],
   "metadata": {
    "collapsed": false
   }
  },
  {
   "cell_type": "code",
   "execution_count": 29,
   "outputs": [
    {
     "data": {
      "text/plain": "0.594873507046825"
     },
     "execution_count": 29,
     "metadata": {},
     "output_type": "execute_result"
    }
   ],
   "source": [
    "np.mean(df_reinforce_two['Accuracy'])"
   ],
   "metadata": {
    "collapsed": false
   }
  },
  {
   "cell_type": "code",
   "execution_count": null,
   "outputs": [],
   "source": [
    "0.5944210380396774"
   ],
   "metadata": {
    "collapsed": false
   }
  },
  {
   "cell_type": "code",
   "execution_count": 21,
   "outputs": [
    {
     "data": {
      "text/plain": "0.6666666666666666"
     },
     "execution_count": 21,
     "metadata": {},
     "output_type": "execute_result"
    }
   ],
   "source": [
    "np.mean([1,0,1])"
   ],
   "metadata": {
    "collapsed": false
   }
  },
  {
   "cell_type": "code",
   "execution_count": null,
   "outputs": [],
   "source": [],
   "metadata": {
    "collapsed": false
   }
  }
 ],
 "metadata": {
  "kernelspec": {
   "display_name": "Python 3",
   "language": "python",
   "name": "python3"
  },
  "language_info": {
   "codemirror_mode": {
    "name": "ipython",
    "version": 2
   },
   "file_extension": ".py",
   "mimetype": "text/x-python",
   "name": "python",
   "nbconvert_exporter": "python",
   "pygments_lexer": "ipython2",
   "version": "2.7.6"
  }
 },
 "nbformat": 4,
 "nbformat_minor": 0
}
