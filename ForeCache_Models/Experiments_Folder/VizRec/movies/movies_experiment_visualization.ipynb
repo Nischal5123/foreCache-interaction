{
 "cells": [
  {
   "cell_type": "code",
   "execution_count": 142,
   "metadata": {
    "collapsed": true,
    "ExecuteTime": {
     "end_time": "2024-03-12T08:17:24.703316Z",
     "start_time": "2024-03-12T08:17:24.693274Z"
    }
   },
   "outputs": [],
   "source": [
    "\n",
    "import pandas as pd\n",
    "import numpy as np\n",
    "import matplotlib.pyplot as plt\n",
    "import seaborn as sns\n"
   ]
  },
  {
   "cell_type": "code",
   "execution_count": 143,
   "outputs": [
    {
     "name": "stdout",
     "output_type": "stream",
     "text": [
      "Processing for task p1\n",
      "Processing for task p2\n",
      "Processing for task p3\n",
      "Processing for task p4\n"
     ]
    }
   ],
   "source": [
    "import pandas as pd\n",
    "\n",
    "# Define the tasks\n",
    "tasks = ['p1', 'p2', 'p3', 'p4']\n",
    "df_all_master= pd.DataFrame()\n",
    "# Loop over each task\n",
    "for task in tasks:\n",
    "    results_path = f'./{task}/'\n",
    "    algorithms = sorted(['Random', 'Greedy', 'SARSA', 'QLearn', 'Reinforce', 'ActorCritic', 'Naive', 'WSLS','HMM','Momentum'])\n",
    "    print('Processing for task', task)\n",
    "\n",
    "    # Initialize an empty DataFrame to store results for the task\n",
    "    df_all = pd.DataFrame()\n",
    "    # Loop over each algorithm\n",
    "    for algo in algorithms:\n",
    "        try:\n",
    "            # Read the CSV file for the algorithm\n",
    "            df = pd.read_csv(results_path + algo + '.csv')\n",
    "            #openended or not column\n",
    "            if task in ['p1','p2']:\n",
    "                df['Openended'] = 'Focused'\n",
    "            else:\n",
    "                df['Openended'] = 'Openended'\n",
    "            # Add a 'task' column to the DataFrame\n",
    "            df['Task'] = task\n",
    "\n",
    "            # Add an 'Algorithm' column to the DataFrame\n",
    "            df['Algorithm'] = algo\n",
    "        except FileNotFoundError:\n",
    "            print('No file for', algo)\n",
    "            continue\n",
    "\n",
    "        # Concatenate the current DataFrame with the DataFrame for all algorithms\n",
    "        df_all = pd.concat([df_all, df])\n",
    "        dataset= 'Movies'\n",
    "        filename = f'all_experiments_{dataset}_{task}.csv'\n",
    "        df_all.to_csv(filename, index=False)\n",
    "        df_all_master = pd.concat([df_all_master, df_all])\n",
    "\n",
    "df_all_master.to_csv('all_experiments_Movies.csv', index=False)\n",
    "\n",
    "\n",
    "# # plot openended subste\n",
    "# plotter(df_all[df_all['Openended']=='Focused'],'Openended','birdstrikes')\n",
    "# # plot focused subset\n",
    "# plotter(df_all[df_all['Openended']=='Focused'],'Focused','birdstrikes')"
   ],
   "metadata": {
    "collapsed": false,
    "ExecuteTime": {
     "end_time": "2024-03-12T08:17:27.292104Z",
     "start_time": "2024-03-12T08:17:25.380393Z"
    }
   }
  },
  {
   "cell_type": "code",
   "execution_count": 144,
   "outputs": [
    {
     "data": {
      "text/plain": "    Algorithm          User  Threshold  LearningRate  Discount  Temperature  \\\n0         HMM  pro13_ace_p1       0.05           0.0       0.0          NaN   \n1         HMM  pro13_ace_p1       0.10           0.0       0.0          NaN   \n2         HMM  pro13_ace_p1       0.20           0.0       0.0          NaN   \n3         HMM  pro13_ace_p1       0.30           0.0       0.0          NaN   \n4         HMM  pro13_ace_p1       0.40           0.0       0.0          NaN   \n..        ...           ...        ...           ...       ...          ...   \n355       HMM   stu7_ade_p4       0.50           0.0       0.0          NaN   \n356       HMM   stu7_ade_p4       0.60           0.0       0.0          NaN   \n357       HMM   stu7_ade_p4       0.70           0.0       0.0          NaN   \n358       HMM   stu7_ade_p4       0.80           0.0       0.0          NaN   \n359       HMM   stu7_ade_p4       0.90           0.0       0.0          NaN   \n\n     Accuracy StateAccuracy  Reward  Epsilon  Openended Task  \n0    0.560000           NaN     NaN      NaN    Focused   p1  \n1    0.458333           NaN     NaN      NaN    Focused   p1  \n2    0.523810           NaN     NaN      NaN    Focused   p1  \n3    0.055556           NaN     NaN      NaN    Focused   p1  \n4    1.000000           NaN     NaN      NaN    Focused   p1  \n..        ...           ...     ...      ...        ...  ...  \n355  0.263158           NaN     NaN      NaN  Openended   p4  \n356  0.426230           NaN     NaN      NaN  Openended   p4  \n357  0.369565           NaN     NaN      NaN  Openended   p4  \n358  0.419355           NaN     NaN      NaN  Openended   p4  \n359  0.125000           NaN     NaN      NaN  Openended   p4  \n\n[11520 rows x 12 columns]",
      "text/html": "<div>\n<style scoped>\n    .dataframe tbody tr th:only-of-type {\n        vertical-align: middle;\n    }\n\n    .dataframe tbody tr th {\n        vertical-align: top;\n    }\n\n    .dataframe thead th {\n        text-align: right;\n    }\n</style>\n<table border=\"1\" class=\"dataframe\">\n  <thead>\n    <tr style=\"text-align: right;\">\n      <th></th>\n      <th>Algorithm</th>\n      <th>User</th>\n      <th>Threshold</th>\n      <th>LearningRate</th>\n      <th>Discount</th>\n      <th>Temperature</th>\n      <th>Accuracy</th>\n      <th>StateAccuracy</th>\n      <th>Reward</th>\n      <th>Epsilon</th>\n      <th>Openended</th>\n      <th>Task</th>\n    </tr>\n  </thead>\n  <tbody>\n    <tr>\n      <th>0</th>\n      <td>HMM</td>\n      <td>pro13_ace_p1</td>\n      <td>0.05</td>\n      <td>0.0</td>\n      <td>0.0</td>\n      <td>NaN</td>\n      <td>0.560000</td>\n      <td>NaN</td>\n      <td>NaN</td>\n      <td>NaN</td>\n      <td>Focused</td>\n      <td>p1</td>\n    </tr>\n    <tr>\n      <th>1</th>\n      <td>HMM</td>\n      <td>pro13_ace_p1</td>\n      <td>0.10</td>\n      <td>0.0</td>\n      <td>0.0</td>\n      <td>NaN</td>\n      <td>0.458333</td>\n      <td>NaN</td>\n      <td>NaN</td>\n      <td>NaN</td>\n      <td>Focused</td>\n      <td>p1</td>\n    </tr>\n    <tr>\n      <th>2</th>\n      <td>HMM</td>\n      <td>pro13_ace_p1</td>\n      <td>0.20</td>\n      <td>0.0</td>\n      <td>0.0</td>\n      <td>NaN</td>\n      <td>0.523810</td>\n      <td>NaN</td>\n      <td>NaN</td>\n      <td>NaN</td>\n      <td>Focused</td>\n      <td>p1</td>\n    </tr>\n    <tr>\n      <th>3</th>\n      <td>HMM</td>\n      <td>pro13_ace_p1</td>\n      <td>0.30</td>\n      <td>0.0</td>\n      <td>0.0</td>\n      <td>NaN</td>\n      <td>0.055556</td>\n      <td>NaN</td>\n      <td>NaN</td>\n      <td>NaN</td>\n      <td>Focused</td>\n      <td>p1</td>\n    </tr>\n    <tr>\n      <th>4</th>\n      <td>HMM</td>\n      <td>pro13_ace_p1</td>\n      <td>0.40</td>\n      <td>0.0</td>\n      <td>0.0</td>\n      <td>NaN</td>\n      <td>1.000000</td>\n      <td>NaN</td>\n      <td>NaN</td>\n      <td>NaN</td>\n      <td>Focused</td>\n      <td>p1</td>\n    </tr>\n    <tr>\n      <th>...</th>\n      <td>...</td>\n      <td>...</td>\n      <td>...</td>\n      <td>...</td>\n      <td>...</td>\n      <td>...</td>\n      <td>...</td>\n      <td>...</td>\n      <td>...</td>\n      <td>...</td>\n      <td>...</td>\n      <td>...</td>\n    </tr>\n    <tr>\n      <th>355</th>\n      <td>HMM</td>\n      <td>stu7_ade_p4</td>\n      <td>0.50</td>\n      <td>0.0</td>\n      <td>0.0</td>\n      <td>NaN</td>\n      <td>0.263158</td>\n      <td>NaN</td>\n      <td>NaN</td>\n      <td>NaN</td>\n      <td>Openended</td>\n      <td>p4</td>\n    </tr>\n    <tr>\n      <th>356</th>\n      <td>HMM</td>\n      <td>stu7_ade_p4</td>\n      <td>0.60</td>\n      <td>0.0</td>\n      <td>0.0</td>\n      <td>NaN</td>\n      <td>0.426230</td>\n      <td>NaN</td>\n      <td>NaN</td>\n      <td>NaN</td>\n      <td>Openended</td>\n      <td>p4</td>\n    </tr>\n    <tr>\n      <th>357</th>\n      <td>HMM</td>\n      <td>stu7_ade_p4</td>\n      <td>0.70</td>\n      <td>0.0</td>\n      <td>0.0</td>\n      <td>NaN</td>\n      <td>0.369565</td>\n      <td>NaN</td>\n      <td>NaN</td>\n      <td>NaN</td>\n      <td>Openended</td>\n      <td>p4</td>\n    </tr>\n    <tr>\n      <th>358</th>\n      <td>HMM</td>\n      <td>stu7_ade_p4</td>\n      <td>0.80</td>\n      <td>0.0</td>\n      <td>0.0</td>\n      <td>NaN</td>\n      <td>0.419355</td>\n      <td>NaN</td>\n      <td>NaN</td>\n      <td>NaN</td>\n      <td>Openended</td>\n      <td>p4</td>\n    </tr>\n    <tr>\n      <th>359</th>\n      <td>HMM</td>\n      <td>stu7_ade_p4</td>\n      <td>0.90</td>\n      <td>0.0</td>\n      <td>0.0</td>\n      <td>NaN</td>\n      <td>0.125000</td>\n      <td>NaN</td>\n      <td>NaN</td>\n      <td>NaN</td>\n      <td>Openended</td>\n      <td>p4</td>\n    </tr>\n  </tbody>\n</table>\n<p>11520 rows × 12 columns</p>\n</div>"
     },
     "execution_count": 144,
     "metadata": {},
     "output_type": "execute_result"
    }
   ],
   "source": [
    "df_all_master[df_all_master['Algorithm']=='HMM']"
   ],
   "metadata": {
    "collapsed": false,
    "ExecuteTime": {
     "end_time": "2024-03-12T08:17:27.352626Z",
     "start_time": "2024-03-12T08:17:27.343044Z"
    }
   }
  },
  {
   "cell_type": "code",
   "execution_count": 132,
   "outputs": [],
   "source": [
    "#join 2 results dataframe for 2 dataset\n",
    "df_all_master_birdstrikes = pd.read_csv(\"../birdstrikes/all_experiments_BirdStrikes.csv\")\n",
    "df_all_master_movies = pd.read_csv(\"all_experiments_Movies.csv\")"
   ],
   "metadata": {
    "collapsed": false,
    "ExecuteTime": {
     "end_time": "2024-03-11T22:10:25.987924Z",
     "start_time": "2024-03-11T22:10:25.845344Z"
    }
   }
  },
  {
   "cell_type": "code",
   "execution_count": 133,
   "outputs": [],
   "source": [
    "#join these 2 datasets add a new column called dataset and put the name Movies or BirdStrikes\n",
    "df_all_master_birdstrikes['Dataset'] = 'BirdStrikes'\n",
    "df_all_master_movies['Dataset'] = 'Movies'\n",
    "#for column User keep only first four letters\n",
    "\n",
    "df_all_master_overall = pd.concat([df_all_master_birdstrikes,df_all_master_movies])\n",
    "df_all_master_overall['User'] = df_all_master_overall['User'].str[:5]\n",
    "df_all_master_overall.to_csv('all_experiments_overall.csv', index=False)"
   ],
   "metadata": {
    "collapsed": false,
    "ExecuteTime": {
     "end_time": "2024-03-11T22:10:26.913666Z",
     "start_time": "2024-03-11T22:10:26.414901Z"
    }
   }
  },
  {
   "cell_type": "code",
   "execution_count": 134,
   "outputs": [],
   "source": [
    "len(df_all_master_overall['User'].unique())\n",
    "#remove naive algorithm nad hmm\n",
    "df_all_master_overall = df_all_master_overall[~df_all_master_overall['Algorithm'].isin(['Naive','HMM'])]\n",
    "#for each algorithm give the number of users for whom the algo is wth the MaX AVERAGE ACCURACY\n",
    "df_users=df_all_master_overall.groupby(['User','Algorithm'])['Accuracy'].mean().reset_index().sort_values('Accuracy',ascending=False).groupby('User').head(1)\n"
   ],
   "metadata": {
    "collapsed": false,
    "ExecuteTime": {
     "end_time": "2024-03-11T22:10:27.005252Z",
     "start_time": "2024-03-11T22:10:26.974122Z"
    }
   }
  },
  {
   "cell_type": "code",
   "execution_count": 135,
   "outputs": [
    {
     "data": {
      "text/plain": "         Algorithm   User  Threshold  LearningRate  Discount  Temperature  \\\n0      ActorCritic  pro10       0.05        0.0001      0.50          1.0   \n1      ActorCritic  pro10       0.10        0.0001      0.20          1.0   \n2      ActorCritic  pro10       0.20        0.0010      0.05          1.0   \n3      ActorCritic  pro10       0.30        0.0010      0.10          1.0   \n4      ActorCritic  pro10       0.40        0.1000      0.05          1.0   \n...            ...    ...        ...           ...       ...          ...   \n95035         WSLS  stu7_       0.50        0.0000      0.00          NaN   \n95036         WSLS  stu7_       0.60        0.0000      0.00          NaN   \n95037         WSLS  stu7_       0.70        0.0000      0.00          NaN   \n95038         WSLS  stu7_       0.80        0.0000      0.00          NaN   \n95039         WSLS  stu7_       0.90        0.0000      0.00          NaN   \n\n       Accuracy       StateAccuracy  Reward  Epsilon  Openended Task  \\\n0      0.315789  [None, None, None]     0.0      0.0    Focused   p1   \n1      0.722222  [None, None, None]     0.0      0.0    Focused   p1   \n2      0.750000  [None, None, None]     0.0      0.0    Focused   p1   \n3      0.142857  [None, None, None]     0.0      0.0    Focused   p1   \n4      0.916667  [None, None, None]     0.0      0.0    Focused   p1   \n...         ...                 ...     ...      ...        ...  ...   \n95035  0.240000  [None, None, None]     NaN      NaN  Openended   p4   \n95036  0.316667  [None, None, None]     NaN      NaN  Openended   p4   \n95037  0.222222  [None, None, None]     NaN      NaN  Openended   p4   \n95038  0.200000  [None, None, None]     NaN      NaN  Openended   p4   \n95039  0.266667  [None, None, None]     NaN      NaN  Openended   p4   \n\n           Dataset  \n0      BirdStrikes  \n1      BirdStrikes  \n2      BirdStrikes  \n3      BirdStrikes  \n4      BirdStrikes  \n...            ...  \n95035       Movies  \n95036       Movies  \n95037       Movies  \n95038       Movies  \n95039       Movies  \n\n[149760 rows x 13 columns]",
      "text/html": "<div>\n<style scoped>\n    .dataframe tbody tr th:only-of-type {\n        vertical-align: middle;\n    }\n\n    .dataframe tbody tr th {\n        vertical-align: top;\n    }\n\n    .dataframe thead th {\n        text-align: right;\n    }\n</style>\n<table border=\"1\" class=\"dataframe\">\n  <thead>\n    <tr style=\"text-align: right;\">\n      <th></th>\n      <th>Algorithm</th>\n      <th>User</th>\n      <th>Threshold</th>\n      <th>LearningRate</th>\n      <th>Discount</th>\n      <th>Temperature</th>\n      <th>Accuracy</th>\n      <th>StateAccuracy</th>\n      <th>Reward</th>\n      <th>Epsilon</th>\n      <th>Openended</th>\n      <th>Task</th>\n      <th>Dataset</th>\n    </tr>\n  </thead>\n  <tbody>\n    <tr>\n      <th>0</th>\n      <td>ActorCritic</td>\n      <td>pro10</td>\n      <td>0.05</td>\n      <td>0.0001</td>\n      <td>0.50</td>\n      <td>1.0</td>\n      <td>0.315789</td>\n      <td>[None, None, None]</td>\n      <td>0.0</td>\n      <td>0.0</td>\n      <td>Focused</td>\n      <td>p1</td>\n      <td>BirdStrikes</td>\n    </tr>\n    <tr>\n      <th>1</th>\n      <td>ActorCritic</td>\n      <td>pro10</td>\n      <td>0.10</td>\n      <td>0.0001</td>\n      <td>0.20</td>\n      <td>1.0</td>\n      <td>0.722222</td>\n      <td>[None, None, None]</td>\n      <td>0.0</td>\n      <td>0.0</td>\n      <td>Focused</td>\n      <td>p1</td>\n      <td>BirdStrikes</td>\n    </tr>\n    <tr>\n      <th>2</th>\n      <td>ActorCritic</td>\n      <td>pro10</td>\n      <td>0.20</td>\n      <td>0.0010</td>\n      <td>0.05</td>\n      <td>1.0</td>\n      <td>0.750000</td>\n      <td>[None, None, None]</td>\n      <td>0.0</td>\n      <td>0.0</td>\n      <td>Focused</td>\n      <td>p1</td>\n      <td>BirdStrikes</td>\n    </tr>\n    <tr>\n      <th>3</th>\n      <td>ActorCritic</td>\n      <td>pro10</td>\n      <td>0.30</td>\n      <td>0.0010</td>\n      <td>0.10</td>\n      <td>1.0</td>\n      <td>0.142857</td>\n      <td>[None, None, None]</td>\n      <td>0.0</td>\n      <td>0.0</td>\n      <td>Focused</td>\n      <td>p1</td>\n      <td>BirdStrikes</td>\n    </tr>\n    <tr>\n      <th>4</th>\n      <td>ActorCritic</td>\n      <td>pro10</td>\n      <td>0.40</td>\n      <td>0.1000</td>\n      <td>0.05</td>\n      <td>1.0</td>\n      <td>0.916667</td>\n      <td>[None, None, None]</td>\n      <td>0.0</td>\n      <td>0.0</td>\n      <td>Focused</td>\n      <td>p1</td>\n      <td>BirdStrikes</td>\n    </tr>\n    <tr>\n      <th>...</th>\n      <td>...</td>\n      <td>...</td>\n      <td>...</td>\n      <td>...</td>\n      <td>...</td>\n      <td>...</td>\n      <td>...</td>\n      <td>...</td>\n      <td>...</td>\n      <td>...</td>\n      <td>...</td>\n      <td>...</td>\n      <td>...</td>\n    </tr>\n    <tr>\n      <th>95035</th>\n      <td>WSLS</td>\n      <td>stu7_</td>\n      <td>0.50</td>\n      <td>0.0000</td>\n      <td>0.00</td>\n      <td>NaN</td>\n      <td>0.240000</td>\n      <td>[None, None, None]</td>\n      <td>NaN</td>\n      <td>NaN</td>\n      <td>Openended</td>\n      <td>p4</td>\n      <td>Movies</td>\n    </tr>\n    <tr>\n      <th>95036</th>\n      <td>WSLS</td>\n      <td>stu7_</td>\n      <td>0.60</td>\n      <td>0.0000</td>\n      <td>0.00</td>\n      <td>NaN</td>\n      <td>0.316667</td>\n      <td>[None, None, None]</td>\n      <td>NaN</td>\n      <td>NaN</td>\n      <td>Openended</td>\n      <td>p4</td>\n      <td>Movies</td>\n    </tr>\n    <tr>\n      <th>95037</th>\n      <td>WSLS</td>\n      <td>stu7_</td>\n      <td>0.70</td>\n      <td>0.0000</td>\n      <td>0.00</td>\n      <td>NaN</td>\n      <td>0.222222</td>\n      <td>[None, None, None]</td>\n      <td>NaN</td>\n      <td>NaN</td>\n      <td>Openended</td>\n      <td>p4</td>\n      <td>Movies</td>\n    </tr>\n    <tr>\n      <th>95038</th>\n      <td>WSLS</td>\n      <td>stu7_</td>\n      <td>0.80</td>\n      <td>0.0000</td>\n      <td>0.00</td>\n      <td>NaN</td>\n      <td>0.200000</td>\n      <td>[None, None, None]</td>\n      <td>NaN</td>\n      <td>NaN</td>\n      <td>Openended</td>\n      <td>p4</td>\n      <td>Movies</td>\n    </tr>\n    <tr>\n      <th>95039</th>\n      <td>WSLS</td>\n      <td>stu7_</td>\n      <td>0.90</td>\n      <td>0.0000</td>\n      <td>0.00</td>\n      <td>NaN</td>\n      <td>0.266667</td>\n      <td>[None, None, None]</td>\n      <td>NaN</td>\n      <td>NaN</td>\n      <td>Openended</td>\n      <td>p4</td>\n      <td>Movies</td>\n    </tr>\n  </tbody>\n</table>\n<p>149760 rows × 13 columns</p>\n</div>"
     },
     "execution_count": 135,
     "metadata": {},
     "output_type": "execute_result"
    }
   ],
   "source": [
    "df_users['Algorithm'].value_counts()"
   ],
   "metadata": {
    "collapsed": false,
    "ExecuteTime": {
     "end_time": "2024-03-11T22:10:27.514853Z",
     "start_time": "2024-03-11T22:10:27.506155Z"
    }
   }
  },
  {
   "cell_type": "code",
   "execution_count": 141,
   "outputs": [
    {
     "name": "stdout",
     "output_type": "stream",
     "text": [
      "Accuracy\n",
      "QLearn         32\n",
      "SARSA          22\n",
      "ActorCritic     9\n",
      "Reinforce       8\n",
      "Bayesian        1\n",
      "Name: count, dtype: int64\n"
     ]
    }
   ],
   "source": [
    "import pandas as pd\n",
    "import seaborn as sns\n",
    "import matplotlib.pyplot as plt\n",
    "\n",
    "# Define the plotter function\n",
    "def plotter(ax, df_all, task, dataset):\n",
    "    # Define a color palette with the same colors for each algorithm\n",
    "    palette = sns.color_palette('husl', n_colors=len(algorithms))\n",
    "\n",
    "    # Group by 'Threshold' and 'Algorithm' and calculate the mean accuracy\n",
    "    df_avg = df_all.groupby(['Threshold', 'Algorithm'])['Accuracy'].mean().reset_index()\n",
    "\n",
    "    # Create the line plot with specified palette and markers\n",
    "    sns.lineplot(x=\"Threshold\", y=\"Accuracy\", hue=\"Algorithm\", data=df_avg, ax=ax,\n",
    "                 palette=palette, markers=True, style=\"Algorithm\")\n",
    "\n",
    "    # Plot the overall average line\n",
    "    df_avg_overall = df_avg.groupby(['Threshold'])['Accuracy'].mean().reset_index()\n",
    "    ax.plot(df_avg_overall['Threshold'], df_avg_overall['Accuracy'], label='Overall Average', color='black')\n",
    "\n",
    "    # Set title\n",
    "    ax.set_title('Average Accuracy per Threshold for ' + task + ' task on ' + dataset + ' dataset')\n",
    "\n",
    "    # Remove legend\n",
    "    ax.legend().remove()\n",
    "\n",
    "# Define the tasks, results path, and algorithms\n",
    "tasks = ['p1', 'p2', 'p3', 'p4']\n",
    "algorithms = sorted(['Random', 'Greedy', 'SARSA', 'QLearn', 'Reinforce', 'ActorCritic', 'Naive', 'WSLS'])\n",
    "\n",
    "# Create a 2x2 grid of plots\n",
    "fig, axes = plt.subplots(2, 2, figsize=(12, 8))\n",
    "\n",
    "# Flatten the axes array for easier indexing\n",
    "axes = axes.flatten()\n",
    "\n",
    "# Initialize an empty list to collect legend handles and labels\n",
    "legend_handles = []\n",
    "legend_labels = []\n",
    "\n",
    "# Loop over each task\n",
    "for i, task in enumerate(tasks):\n",
    "    # Initialize an empty DataFrame to store results\n",
    "    df_all = pd.DataFrame()\n",
    "\n",
    "    # Loop over each algorithm\n",
    "    for algo in algorithms:\n",
    "        try:\n",
    "            # Read the CSV file for the algorithm\n",
    "            df = pd.read_csv(f'./{task}/{algo}.csv')\n",
    "            df['Algorithm'] = algo\n",
    "        except FileNotFoundError:\n",
    "            print('No file for', algo)\n",
    "            continue\n",
    "\n",
    "        # Concatenate the current DataFrame with the DataFrame for all algorithms\n",
    "        if algo == 'Random':\n",
    "            df_all = df\n",
    "        else:\n",
    "            df_all = pd.concat([df_all, df])\n",
    "\n",
    "    # Pass the current axes and data to the plotter function\n",
    "    plotter(axes[i], df_all, task, 'BirdStrikes')\n",
    "\n",
    "    # # Get legend handles and labels for the last chart\n",
    "    # if task == tasks[-1]:\n",
    "    #     handles, labels = axes[i].get_legend_handles_labels()\n",
    "    #     legend_handles.extend(handles)\n",
    "    #     legend_labels.extend(labels)\n",
    "\n",
    "# Adjust layout\n",
    "plt.tight_layout()\n",
    "\n",
    "# # Add legend horizontally at the bottom for all algorithms\n",
    "# fig.legend(legend_handles, legend_labels, bbox_to_anchor=(0.5, -0.1), loc='upper center', ncol=len(algorithms))\n",
    "\n",
    "# Show the plot\n",
    "plt.show()\n"
   ],
   "metadata": {
    "collapsed": false,
    "ExecuteTime": {
     "end_time": "2024-03-12T07:10:34.038676Z",
     "start_time": "2024-03-12T07:10:34.015097Z"
    }
   }
  },
  {
   "cell_type": "code",
   "execution_count": 63,
   "outputs": [],
   "source": [],
   "metadata": {
    "collapsed": false,
    "ExecuteTime": {
     "end_time": "2024-03-11T05:58:58.129077Z",
     "start_time": "2024-03-11T05:58:58.113980Z"
    }
   }
  }
 ],
 "metadata": {
  "kernelspec": {
   "display_name": "Python 3",
   "language": "python",
   "name": "python3"
  },
  "language_info": {
   "codemirror_mode": {
    "name": "ipython",
    "version": 2
   },
   "file_extension": ".py",
   "mimetype": "text/x-python",
   "name": "python",
   "nbconvert_exporter": "python",
   "pygments_lexer": "ipython2",
   "version": "2.7.6"
  }
 },
 "nbformat": 4,
 "nbformat_minor": 0
}
