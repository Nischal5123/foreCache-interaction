{
 "cells": [
  {
   "cell_type": "code",
   "execution_count": 18,
   "metadata": {
    "collapsed": true,
    "ExecuteTime": {
     "end_time": "2024-09-20T20:24:52.526217Z",
     "start_time": "2024-09-20T20:24:52.491244Z"
    }
   },
   "outputs": [],
   "source": [
    "from nltk.corpus import treebank\n",
    "import numpy as np\n",
    "import pandas as pd\n",
    "import glob\n",
    "import matplotlib.pyplot as plt\n",
    "import nltk\n",
    "import json\n",
    "import os\n",
    "from collections import defaultdict"
   ]
  },
  {
   "cell_type": "code",
   "execution_count": 19,
   "outputs": [],
   "source": [
    "def get_user_name(url):\n",
    "    parts = url.split('/')\n",
    "    fname = parts[-1]\n",
    "    uname = fname.rstrip('_log.csv')\n",
    "    return uname\n"
   ],
   "metadata": {
    "collapsed": false,
    "ExecuteTime": {
     "end_time": "2024-09-20T20:24:52.980600Z",
     "start_time": "2024-09-20T20:24:52.975701Z"
    }
   }
  },
  {
   "cell_type": "code",
   "execution_count": 20,
   "outputs": [],
   "source": [
    "#combine all 'State' and 'Action' fields to a single dataframe making each as a string\n",
    "#make array like this and add to that [('Pierre', 'NNP'),\n",
    "from nltk.tag import hmm\n",
    "\n",
    "# tagged_sentence = []\n",
    "# hyperparam_file='sampled-hyperparameters-config.json'\n",
    "# with open(hyperparam_file) as f:\n",
    "#         hyperparams = json.load(f)\n",
    "# threshold = hyperparams['threshold'][1:len(hyperparams['threshold'])-1]\n",
    "\n",
    "# threshold = [0.1,0.2,0.3,0.4,0.5,0.6,0.7,0.8,0.9]\n",
    "\n",
    "\n",
    "\n",
    "interaction_file_path_movies= { 'p4': np.sort(glob.glob(\"data/zheng/processed_interactions_p4/*\")),\n",
    "                                 'p3': np.sort(glob.glob(\"data/zheng/processed_interactions_p3/*\")),\n",
    "                                 'p2': np.sort(glob.glob(\"data/zheng/processed_interactions_p2/*\")),\n",
    "                                    'p1': np.sort(glob.glob(\"data/zheng/processed_interactions_p1/*\"))\n",
    "                }\n",
    "\n",
    "interaction_file_path_birdstrikes= { 'p4': np.sort(glob.glob(\"data/zheng/birdstrikes_processed_interactions_p4/*\")),\n",
    "                                    'p3': np.sort(glob.glob(\"data/zheng/birdstrikes_processed_interactions_p3/*\")),\n",
    "                                    'p2': np.sort(glob.glob(\"data/zheng/birdstrikes_processed_interactions_p2/*\")),\n",
    "                                        'p1': np.sort(glob.glob(\"data/zheng/birdstrikes_processed_interactions_p1/*\"))\n",
    "                }\n",
    "\n",
    "save_path_movies ={ 'p4': 'Experiments_Folder/VizRec/movies/p4',\n",
    "                    'p3': 'Experiments_Folder/VizRec/movies/p3',\n",
    "                    'p2': 'Experiments_Folder/VizRec/movies/p2',\n",
    "                    'p1': 'Experiments_Folder/VizRec/movies/p1'\n",
    "                }\n",
    "\n",
    "save_path_birdstikes ={ 'p4': 'Experiments_Folder/VizRec/birdstrikes/p4',\n",
    "                    'p3': 'Experiments_Folder/VizRec/birdstrikes/p3',\n",
    "                    'p2': 'Experiments_Folder/VizRec/birdstrikes/p2',\n",
    "                    'p1': 'Experiments_Folder/VizRec/birdstrikes/p1'\n",
    "                }\n"
   ],
   "metadata": {
    "collapsed": false,
    "ExecuteTime": {
     "end_time": "2024-09-20T20:24:53.703368Z",
     "start_time": "2024-09-20T20:24:53.687969Z"
    }
   }
  },
  {
   "cell_type": "code",
   "execution_count": 21,
   "outputs": [],
   "source": [
    "\n",
    "def leave_one_out_hmm(dataset, interaction_file_path_movies, save_path_movies):\n",
    "    for task in [ 'p1', 'p2', 'p3', 'p4']:\n",
    "        print('##################################### Processing task:', task)\n",
    "        result_dataframe = pd.DataFrame()  # Create result DataFrame to store results for each task\n",
    "\n",
    "        # Get the list of users in the current task\n",
    "        user_list = interaction_file_path_movies[task]\n",
    "\n",
    "        # Iterate over each user for leave-one-out cross-validation\n",
    "        all_accuracy=[]\n",
    "\n",
    "        for test_user in user_list:\n",
    "            granular_prediction = defaultdict()\n",
    "\n",
    "\n",
    "            # Load the test user data\n",
    "            test_csv = pd.read_csv(test_user)\n",
    "            test_tagged_sentence = [(str(test_csv['State'][i]), str(test_csv['Action'][i])) for i in range(len(test_csv['State']))]\n",
    "\n",
    "            predicted_tags = []\n",
    "            true_tags = []\n",
    "            states = []\n",
    "\n",
    "            # Leave-One-Out: Train on all users except the current one\n",
    "            train_data = []\n",
    "            for train_user in user_list:\n",
    "                if train_user != test_user:\n",
    "                    train_csv = pd.read_csv(train_user)\n",
    "                    train_tagged_sentence = [(str(train_csv['State'][i]), str(train_csv['Action'][i])) for i in range(len(train_csv['State']))]\n",
    "                    train_data.append(train_tagged_sentence)\n",
    "\n",
    "            # Train the HMM model on the concatenated training data\n",
    "            if train_data:\n",
    "                train_data_flat = [item for sublist in train_data for item in sublist]  # Flatten the list of lists\n",
    "                trainer = nltk.HiddenMarkovModelTagger.train([train_data_flat])\n",
    "\n",
    "                # Test on the left-out test user\n",
    "                insight = defaultdict(list)\n",
    "                for state, true_tag in test_tagged_sentence:\n",
    "                    try:\n",
    "                        # Predict the tag for the current state\n",
    "                        prediction = trainer.tag([state])\n",
    "                        predicted_tag = prediction[0][1]\n",
    "                    except ValueError:\n",
    "                        print('Value Error during prediction for state:', state)\n",
    "                        continue\n",
    "\n",
    "                    predicted_tags.append(predicted_tag)\n",
    "                    true_tags.append(true_tag)\n",
    "                    insight[true_tag].append(1 if true_tag == predicted_tag else 0)\n",
    "                    states.append(state)\n",
    "\n",
    "                # Calculate accuracy\n",
    "                if len(true_tags) > 0:\n",
    "                    accuracy = np.mean(np.array(true_tags) == np.array(predicted_tags))\n",
    "                else:\n",
    "                    accuracy = 0  # No data to evaluate\n",
    "                    print('No data to evaluate for user:', test_user)\n",
    "\n",
    "                all_accuracy.append(accuracy)\n",
    "\n",
    "                for keys, values in insight.items():\n",
    "                    granular_prediction[keys] = (len(values), np.mean(values))\n",
    "\n",
    "\n",
    "\n",
    "                # Store results for the current user\n",
    "                name = get_user_name(test_user)\n",
    "                data = {'User': name, 'Accuracy': accuracy, 'LearningRate': 0, 'Discount': 0, 'Algorithm': 'HMM', 'GranularPredictions': insight,'Predictions': str(predicted_tags) , 'GroundTruth':str(true_tags)}\n",
    "                result_dataframe = pd.concat([result_dataframe, pd.DataFrame(data, index=[0])], ignore_index=True)\n",
    "                del trainer  # Delete the trainer to free up memory\n",
    "\n",
    "        # Save the results for the current task\n",
    "        result_file_path = os.path.join(save_path_movies[task], 'HMM-Single-Model.csv')\n",
    "        result_dataframe.to_csv(result_file_path, index=False)\n",
    "        print( f'Dataset: {dataset}, Task: {task}, Average Accuracy: {np.mean(all_accuracy)}')\n",
    "    return result_dataframe\n"
   ],
   "metadata": {
    "collapsed": false,
    "ExecuteTime": {
     "end_time": "2024-09-20T20:24:54.543566Z",
     "start_time": "2024-09-20T20:24:54.531002Z"
    }
   }
  },
  {
   "cell_type": "code",
   "execution_count": 22,
   "outputs": [
    {
     "name": "stdout",
     "output_type": "stream",
     "text": [
      "##################################### Processing task: p1\n",
      "Dataset: movies, Task: p1, Average Accuracy: 0.663839181927359\n",
      "##################################### Processing task: p2\n",
      "Dataset: movies, Task: p2, Average Accuracy: 0.24605938717910858\n",
      "##################################### Processing task: p3\n",
      "Dataset: movies, Task: p3, Average Accuracy: 0.25974325716754143\n",
      "##################################### Processing task: p4\n",
      "Dataset: movies, Task: p4, Average Accuracy: 0.27510607651032437\n"
     ]
    }
   ],
   "source": [
    "result_dataframe=leave_one_out_hmm('movies',interaction_file_path_movies, save_path_movies)"
   ],
   "metadata": {
    "collapsed": false,
    "ExecuteTime": {
     "end_time": "2024-09-20T20:25:16.365503Z",
     "start_time": "2024-09-20T20:24:55.373375Z"
    }
   }
  },
  {
   "cell_type": "code",
   "execution_count": 23,
   "outputs": [
    {
     "name": "stdout",
     "output_type": "stream",
     "text": [
      "##################################### Processing task: p1\n",
      "Dataset: birdstrikes, Task: p1, Average Accuracy: 0.5379929817482758\n",
      "##################################### Processing task: p2\n",
      "Dataset: birdstrikes, Task: p2, Average Accuracy: 0.6268031094449591\n",
      "##################################### Processing task: p3\n",
      "Dataset: birdstrikes, Task: p3, Average Accuracy: 0.580765081995755\n",
      "##################################### Processing task: p4\n",
      "Dataset: birdstrikes, Task: p4, Average Accuracy: 0.26524993439508937\n"
     ]
    }
   ],
   "source": [
    "result_dataframe=leave_one_out_hmm('birdstrikes' ,interaction_file_path_birdstrikes, save_path_birdstikes)"
   ],
   "metadata": {
    "collapsed": false,
    "ExecuteTime": {
     "end_time": "2024-09-20T20:25:16.368889Z",
     "start_time": "2024-09-20T20:25:04.820759Z"
    }
   }
  },
  {
   "cell_type": "code",
   "execution_count": 15,
   "outputs": [
    {
     "name": "stdout",
     "output_type": "stream",
     "text": [
      "Dataset: movies, Task: p1, Average Accuracy: 0.663839181927359\n",
      "Dataset: movies, Task: p2, Average Accuracy: 0.24605938717910858\n",
      "Dataset: movies, Task: p3, Average Accuracy: 0.2597432571675414\n",
      "Dataset: movies, Task: p4, Average Accuracy: 0.2751060765103243\n",
      "Average Accuracy for all tasks is 0.36118697569608327\n"
     ]
    }
   ],
   "source": [
    "#for movies\n",
    "movies_task_result_dataframe = pd.DataFrame()\n",
    "for task in ['p1', 'p2', 'p3', 'p4']:\n",
    "    #read the results\n",
    "    result_file_path = os.path.join(save_path_movies[task], 'HMM-Single-Model.csv')\n",
    "    task_results = pd.read_csv(result_file_path)\n",
    "    print(f'Dataset: movies, Task: {task}, Average Accuracy: {task_results[\"Accuracy\"].mean()}' )\n",
    "    #store the results\n",
    "    movies_task_result_dataframe = pd.concat([movies_task_result_dataframe, task_results], ignore_index=True)\n",
    "\n",
    "#dataset average accuracy\n",
    "print(\"Average Accuracy for all tasks is\", movies_task_result_dataframe['Accuracy'].mean())\n"
   ],
   "metadata": {
    "collapsed": false,
    "ExecuteTime": {
     "end_time": "2024-09-20T19:49:27.783379Z",
     "start_time": "2024-09-20T19:49:27.757701Z"
    }
   }
  },
  {
   "cell_type": "code",
   "execution_count": 16,
   "outputs": [
    {
     "name": "stdout",
     "output_type": "stream",
     "text": [
      "Dataset: birdstrikes, Task: p1, Average Accuracy: 0.5379929817482758\n",
      "Dataset: birdstrikes, Task: p2, Average Accuracy: 0.6268031094449591\n",
      "Dataset: birdstrikes, Task: p3, Average Accuracy: 0.580765081995755\n",
      "Dataset: birdstrikes, Task: p4, Average Accuracy: 0.26524993439508937\n",
      "Average Accuracy for all tasks is 0.5027027768960198\n"
     ]
    }
   ],
   "source": [
    "#for birdstrikes\n",
    "birdstrikes_task_result_dataframe = pd.DataFrame()\n",
    "for task in ['p1', 'p2', 'p3', 'p4']:\n",
    "    #read the results\n",
    "    result_file_path = os.path.join(save_path_birdstikes[task], 'HMM-Single-Model.csv')\n",
    "    task_results = pd.read_csv(result_file_path)\n",
    "    print(f'Dataset: birdstrikes, Task: {task}, Average Accuracy: {task_results[\"Accuracy\"].mean()}' )\n",
    "    #store the results\n",
    "    birdstrikes_task_result_dataframe = pd.concat([birdstrikes_task_result_dataframe, task_results], ignore_index=True)\n",
    "#dataset average accuracy\n",
    "print(\"Average Accuracy for all tasks is\", birdstrikes_task_result_dataframe['Accuracy'].mean())"
   ],
   "metadata": {
    "collapsed": false,
    "ExecuteTime": {
     "end_time": "2024-09-20T19:49:41.819022Z",
     "start_time": "2024-09-20T19:49:41.793400Z"
    }
   }
  },
  {
   "cell_type": "code",
   "execution_count": 17,
   "outputs": [
    {
     "name": "stdout",
     "output_type": "stream",
     "text": [
      "Average Accuracy for both datasets is 0.43194487629605155\n"
     ]
    }
   ],
   "source": [
    "#avergae for both datasets\n",
    "print(\"Average Accuracy for both datasets is\", (movies_task_result_dataframe['Accuracy'].mean()+birdstrikes_task_result_dataframe['Accuracy'].mean())/2)"
   ],
   "metadata": {
    "collapsed": false,
    "ExecuteTime": {
     "end_time": "2024-09-20T19:49:44.676868Z",
     "start_time": "2024-09-20T19:49:44.651398Z"
    }
   }
  },
  {
   "cell_type": "code",
   "execution_count": 51,
   "outputs": [
    {
     "name": "stdout",
     "output_type": "stream",
     "text": [
      "           Model      Dataset Task  Accuracy\n",
      "0            SVM       movies   p1  0.628011\n",
      "1            SVM       movies   p2  0.582138\n",
      "2            SVM       movies   p3  0.558535\n",
      "3            SVM       movies   p4  0.553682\n",
      "4            SVM  birdstrikes   p1  0.553986\n",
      "5            SVM  birdstrikes   p2  0.610221\n",
      "6            SVM  birdstrikes   p3  0.584194\n",
      "7            SVM  birdstrikes   p4  0.587089\n",
      "8   Actor Critic       movies   p1  0.687943\n",
      "9   Actor Critic       movies   p2  0.638578\n",
      "10  Actor Critic       movies   p3  0.417401\n",
      "11  Actor Critic       movies   p4  0.544069\n",
      "12  Actor Critic  birdstrikes   p1  0.575572\n",
      "13  Actor Critic  birdstrikes   p2  0.664145\n",
      "14  Actor Critic  birdstrikes   p3  0.592994\n",
      "15  Actor Critic  birdstrikes   p4  0.624599\n",
      "16    Q-Learning       movies   p1  0.693984\n",
      "17    Q-Learning       movies   p2  0.645537\n",
      "18    Q-Learning       movies   p3  0.550476\n",
      "19    Q-Learning       movies   p4  0.563302\n",
      "20    Q-Learning  birdstrikes   p1  0.598860\n",
      "21    Q-Learning  birdstrikes   p2  0.668544\n",
      "22    Q-Learning  birdstrikes   p3  0.599456\n",
      "23    Q-Learning  birdstrikes   p4  0.603754\n",
      "24         SARSA       movies   p1  0.685638\n",
      "25         SARSA       movies   p2  0.635018\n",
      "26         SARSA       movies   p3  0.555723\n",
      "27         SARSA       movies   p4  0.553478\n",
      "28         SARSA  birdstrikes   p1  0.578810\n",
      "29         SARSA  birdstrikes   p2  0.652576\n",
      "30         SARSA  birdstrikes   p3  0.591410\n",
      "31         SARSA  birdstrikes   p4  0.594330\n",
      "32        Greedy       movies   p1  0.665013\n",
      "33        Greedy       movies   p2  0.614391\n",
      "34        Greedy       movies   p3  0.508392\n",
      "35        Greedy       movies   p4  0.473386\n",
      "36        Greedy  birdstrikes   p1  0.577718\n",
      "37        Greedy  birdstrikes   p2  0.642599\n",
      "38        Greedy  birdstrikes   p3  0.584008\n",
      "39        Greedy  birdstrikes   p4  0.546503\n",
      "40      Momentum       movies   p1  0.592934\n",
      "41      Momentum       movies   p2  0.544521\n",
      "42      Momentum       movies   p3  0.538920\n",
      "43      Momentum       movies   p4  0.548475\n",
      "44      Momentum  birdstrikes   p1  0.503400\n",
      "45      Momentum  birdstrikes   p2  0.570617\n",
      "46      Momentum  birdstrikes   p3  0.559792\n",
      "47      Momentum  birdstrikes   p4  0.580292\n",
      "48           HMM       movies   p1  0.663839\n",
      "49           HMM       movies   p2  0.246059\n",
      "50           HMM       movies   p3  0.259743\n",
      "51           HMM       movies   p4  0.275106\n",
      "52           HMM  birdstrikes   p1  0.537993\n",
      "53           HMM  birdstrikes   p2  0.626803\n",
      "54           HMM  birdstrikes   p3  0.580765\n",
      "55           HMM  birdstrikes   p4  0.265250\n"
     ]
    }
   ],
   "source": [
    "import pandas as pd\n",
    "\n",
    "# Adjusted data\n",
    "data = {\n",
    "    'Model': [\n",
    "        'SVM', 'SVM', 'SVM', 'SVM', 'SVM', 'SVM', 'SVM', 'SVM',\n",
    "        'Actor Critic', 'Actor Critic', 'Actor Critic', 'Actor Critic', 'Actor Critic', 'Actor Critic', 'Actor Critic', 'Actor Critic',\n",
    "        'Q-Learning', 'Q-Learning', 'Q-Learning', 'Q-Learning', 'Q-Learning', 'Q-Learning', 'Q-Learning', 'Q-Learning',\n",
    "        'SARSA', 'SARSA', 'SARSA', 'SARSA', 'SARSA', 'SARSA', 'SARSA', 'SARSA',\n",
    "        'Greedy', 'Greedy', 'Greedy', 'Greedy', 'Greedy', 'Greedy', 'Greedy', 'Greedy',\n",
    "        'Momentum', 'Momentum', 'Momentum', 'Momentum', 'Momentum', 'Momentum', 'Momentum', 'Momentum',\n",
    "        'HMM', 'HMM', 'HMM', 'HMM', 'HMM', 'HMM', 'HMM', 'HMM'\n",
    "    ],\n",
    "    'Dataset': [\n",
    "        'movies', 'movies', 'movies', 'movies', 'birdstrikes', 'birdstrikes', 'birdstrikes', 'birdstrikes',\n",
    "        'movies', 'movies', 'movies', 'movies', 'birdstrikes', 'birdstrikes', 'birdstrikes', 'birdstrikes',\n",
    "        'movies', 'movies', 'movies', 'movies', 'birdstrikes', 'birdstrikes', 'birdstrikes', 'birdstrikes',\n",
    "        'movies', 'movies', 'movies', 'movies', 'birdstrikes', 'birdstrikes', 'birdstrikes', 'birdstrikes',\n",
    "        'movies', 'movies', 'movies', 'movies', 'birdstrikes', 'birdstrikes', 'birdstrikes', 'birdstrikes',\n",
    "        'movies', 'movies', 'movies', 'movies', 'birdstrikes', 'birdstrikes', 'birdstrikes', 'birdstrikes',\n",
    "        'movies', 'movies', 'movies', 'movies', 'birdstrikes', 'birdstrikes', 'birdstrikes', 'birdstrikes'\n",
    "    ],\n",
    "    'Task': [\n",
    "        'p1', 'p2', 'p3', 'p4', 'p1', 'p2', 'p3', 'p4',\n",
    "        'p1', 'p2', 'p3', 'p4', 'p1', 'p2', 'p3', 'p4',\n",
    "        'p1', 'p2', 'p3', 'p4', 'p1', 'p2', 'p3', 'p4',\n",
    "        'p1', 'p2', 'p3', 'p4', 'p1', 'p2', 'p3', 'p4',\n",
    "        'p1', 'p2', 'p3', 'p4', 'p1', 'p2', 'p3', 'p4',\n",
    "        'p1', 'p2', 'p3', 'p4', 'p1', 'p2', 'p3', 'p4',\n",
    "        'p1', 'p2', 'p3', 'p4', 'p1', 'p2', 'p3', 'p4'\n",
    "    ],\n",
    "    'Accuracy': [\n",
    "        0.6280109147596199, 0.5821384048619673, 0.5585347533967872, 0.5536816177865722,\n",
    "        0.5539855286385157, 0.6102205202704692, 0.5841938195641005, 0.5870893671095517,\n",
    "        0.6879429756906157, 0.6385775088204831, 0.41740144641896015, 0.5440692264108838,\n",
    "        0.5755724307890617, 0.6641451095417489, 0.5929944721184505, 0.6245992974142809,\n",
    "        0.6939839501377428, 0.6455372949697513, 0.5504762092742103, 0.5633022414654927,\n",
    "        0.5988599267217805, 0.6685443887701115, 0.5994557793238265, 0.6037536967200849,\n",
    "        0.6856379315598238, 0.6350179982252152, 0.5557229548861216, 0.5534783670857009,\n",
    "        0.5788096125482849, 0.6525756907397882, 0.5914099359001163, 0.5943296406829492,\n",
    "        0.6650131173927929, 0.6143912775222425, 0.5083922257730772, 0.47338575995083726,\n",
    "        0.5777183768440483, 0.6425990599725031, 0.5840080144090293, 0.546503258885337,\n",
    "        0.5929342063228555, 0.5445210973734738, 0.538920189039184, 0.5484745952625161,\n",
    "        0.5034000245562243, 0.5706171189222818, 0.5597919704877198, 0.5802923607438569,\n",
    "        0.663839181927359, 0.24605938717910858, 0.2597432571675414, 0.2751060765103243,\n",
    "        0.5379929817482758, 0.6268031094449591, 0.580765081995755, 0.26524993439508937\n",
    "    ]\n",
    "}\n",
    "\n",
    "# Create DataFrame\n",
    "df = pd.DataFrame(data)\n",
    "print(df)\n"
   ],
   "metadata": {
    "collapsed": false,
    "ExecuteTime": {
     "end_time": "2024-09-10T17:02:16.289665Z",
     "start_time": "2024-09-10T17:02:16.271131Z"
    }
   }
  },
  {
   "cell_type": "code",
   "execution_count": 52,
   "outputs": [
    {
     "data": {
      "text/plain": "<Figure size 1200x800 with 1 Axes>",
      "image/png": "[encoded data removed]"
     },
     "metadata": {},
     "output_type": "display_data"
    }
   ],
   "source": [
    "#plot\n",
    "import seaborn as sns\n",
    "import matplotlib.pyplot as plt\n",
    "\n",
    "# Set the figure size\n",
    "plt.figure(figsize=(12, 8))\n",
    "#accuracy plot\n",
    "sns.barplot(x='Model', y='Accuracy', hue='Dataset', data=df)\n",
    "#add value to the plot\n",
    "for p in plt.gca().patches:\n",
    "    plt.gca().annotate(f\"{p.get_height():.2f}\", (p.get_x() + p.get_width() / 2., p.get_height()),\n",
    "                       ha='center', va='center', fontsize=11, color='black', xytext=(0, 5),\n",
    "                       textcoords='offset points')"
   ],
   "metadata": {
    "collapsed": false,
    "ExecuteTime": {
     "end_time": "2024-09-10T17:02:17.369523Z",
     "start_time": "2024-09-10T17:02:17.147936Z"
    }
   }
  },
  {
   "cell_type": "code",
   "execution_count": 53,
   "outputs": [
    {
     "data": {
      "text/plain": "<Figure size 1200x800 with 1 Axes>",
      "image/png": "[encoded data removed]"
     },
     "metadata": {},
     "output_type": "display_data"
    }
   ],
   "source": [
    "#make same plot but combining p1 and p2 as focused and p3 and p4 as nopenended tasks\n",
    "df['Task'] = df['Task'].replace({'p1': 'Focused', 'p2': 'Focused', 'p3': 'Open-ended', 'p4': 'Open-ended'})\n",
    "# Set the figure size\n",
    "plt.figure(figsize=(12, 8))\n",
    "#accuracy plot\n",
    "sns.barplot(x='Model', y='Accuracy', hue='Task', data=df)\n",
    "#add value to the plot\n",
    "for p in plt.gca().patches:\n",
    "    plt.gca().annotate(f\"{p.get_height():.2f}\", (p.get_x() + p.get_width() / 2., p.get_height()),\n",
    "                       ha='center', va='center', fontsize=11, color='black', xytext=(0, 5),\n",
    "                       textcoords='offset points')"
   ],
   "metadata": {
    "collapsed": false,
    "ExecuteTime": {
     "end_time": "2024-09-10T17:02:27.301018Z",
     "start_time": "2024-09-10T17:02:27.076406Z"
    }
   }
  },
  {
   "cell_type": "code",
   "execution_count": null,
   "outputs": [],
   "source": [],
   "metadata": {
    "collapsed": false
   }
  }
 ],
 "metadata": {
  "kernelspec": {
   "display_name": "Python 3",
   "language": "python",
   "name": "python3"
  },
  "language_info": {
   "codemirror_mode": {
    "name": "ipython",
    "version": 2
   },
   "file_extension": ".py",
   "mimetype": "text/x-python",
   "name": "python",
   "nbconvert_exporter": "python",
   "pygments_lexer": "ipython2",
   "version": "2.7.6"
  }
 },
 "nbformat": 4,
 "nbformat_minor": 0
}
