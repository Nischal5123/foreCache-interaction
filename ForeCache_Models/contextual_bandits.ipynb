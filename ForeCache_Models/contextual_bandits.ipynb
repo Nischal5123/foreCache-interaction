{
 "cells": [
  {
   "cell_type": "code",
   "execution_count": 71,
   "metadata": {
    "collapsed": true
   },
   "outputs": [],
   "source": [
    "import vowpalwabbit\n",
    "import random\n",
    "import matplotlib.pyplot as plt\n",
    "import pandas as pd\n",
    "import itertools\n",
    "import environment2"
   ]
  },
  {
   "cell_type": "code",
   "execution_count": 72,
   "outputs": [
    {
     "name": "stdout",
     "output_type": "stream",
     "text": [
      "37 29\n",
      "\n"
     ]
    }
   ],
   "source": [
    "env = environment2.environment2()\n",
    "user_list_2D = env.user_list_2D\n",
    "env.process_data(user_list_2D[0], 0.80)\n",
    "\n",
    "size=len(env.mem_reward)"
   ],
   "metadata": {
    "collapsed": false,
    "pycharm": {
     "name": "#%%\n"
    }
   }
  },
  {
   "cell_type": "code",
   "execution_count": 73,
   "outputs": [
    {
     "data": {
      "text/plain": "'data/NDSI-2D\\\\taskname_ndsi-2d-task_userid_3abeecbe-327a-441e-be2a-0dd3763c1d45.csv'"
     },
     "execution_count": 73,
     "metadata": {},
     "output_type": "execute_result"
    }
   ],
   "source": [
    "user_list_2D[0]"
   ],
   "metadata": {
    "collapsed": false,
    "pycharm": {
     "name": "#%%\n"
    }
   }
  },
  {
   "cell_type": "code",
   "execution_count": 74,
   "outputs": [],
   "source": [
    "import os\n",
    "from os.path import join\n",
    "import re\n",
    "\n",
    "import pandas as pd\n",
    "import matplotlib.pyplot as plt\n",
    "import numpy as np\n",
    "import seaborn as sns\n",
    "\n",
    "from vowpalwabbit.dftovw import DFtoVW\n",
    "from vowpalwabbit import Workspace"
   ],
   "metadata": {
    "collapsed": false,
    "pycharm": {
     "name": "#%%\n"
    }
   }
  },
  {
   "cell_type": "code",
   "execution_count": 75,
   "outputs": [],
   "source": [
    "df = pd.read_csv( 'data/NDSI-2D\\\\taskname_ndsi-2d-task_userid_44968286-f204-4ad6-a9b5-d95b38e97866.csv')\n",
    "df=df[df.State !='Answering']"
   ],
   "metadata": {
    "collapsed": false,
    "pycharm": {
     "name": "#%%\n"
    }
   }
  },
  {
   "cell_type": "code",
   "execution_count": 76,
   "outputs": [],
   "source": [
    "df.head(5)\n",
    "for i in range(len(df)):\n",
    "    if df.loc[i, \"State\"] == 'Navigation':\n",
    "        df.loc[i, \"State\"]=0\n",
    "    elif df.loc[i, \"State\"] == 'Foraging':\n",
    "        df.loc[i, \"State\"]=1\n",
    "    else:\n",
    "        df.loc[i, \"State\"]=2\n",
    "\n"
   ],
   "metadata": {
    "collapsed": false,
    "pycharm": {
     "name": "#%%\n"
    }
   }
  },
  {
   "cell_type": "code",
   "execution_count": 77,
   "outputs": [
    {
     "data": {
      "text/plain": "   UserIndex Action State                TimeStamp  \\\n0          0  start     1  2016-06-10 17:51:46.368   \n1          1   zoom     1  2016-06-10 17:52:15.238   \n2          2    pan     1  2016-06-10 17:52:16.021   \n3          3    pan     1  2016-06-10 17:52:18.029   \n4          4   zoom     0  2016-06-10 17:52:18.735   \n\n   HighLevelStateActionProbab  StateActionProbab  IdleTime  Reward  \\\n0                    0.666667           0.400000     0.000       0   \n1                    0.500000           0.333333    28.870       0   \n2                    0.600000           0.285714     0.783       0   \n3                    0.666667           0.375000     2.008       0   \n4                    0.666667           0.400000     0.706       0   \n\n   Subtask_Screenshot_Time  Subtask_Idle_Time  ...  Subtask_Zoom  Subtask_ROI  \\\n0                        1                  1  ...             1            1   \n1                        1                  1  ...             1            1   \n2                        1                  2  ...             1            1   \n3                        1                  2  ...             1            1   \n4                        1                  2  ...             1            1   \n\n    Latitude   Longitude                                        All_address  \\\n0  34.103050  -98.612800  ['None', 'Other', 'None', 'Other', 'None', 'Ot...   \n1  32.654175  -94.199313  ['None', 'South', 'Other', 'None', 'None', 'No...   \n2  41.766800  -79.535500  ['South', 'Other', 'South', 'Other', 'South', ...   \n3  41.766800  -79.535500  ['South', 'Other', 'South', 'Other', 'South', ...   \n4  47.379675 -110.028137  ['None', 'Other', 'West', 'NorthernRockiesPlai...   \n\n                                     All_raw_address Most_frequent_state  \\\n0  [[15.2153, -132.053], [52.9908, -65.1726], [15...                None   \n1  [[18.1367, -107.299], [30.3858, -97.2569], [15...                None   \n2  [[30.5342, -93.9559], [52.9994, -65.1151], [30...               Texas   \n3  [[30.5342, -93.9559], [52.9994, -65.1151], [30...               Texas   \n4  [[41.7792, -132.156], [52.9917, -116.51], [41....              Nevada   \n\n  Most_frequent_region       Angle high-level-action  \n0                 None    0.000000            change  \n1                 None    0.000000              same  \n2                South  352.326038              same  \n3                South  353.106469              same  \n4                 West    0.000000            change  \n\n[5 rows x 22 columns]",
      "text/html": "<div>\n<style scoped>\n    .dataframe tbody tr th:only-of-type {\n        vertical-align: middle;\n    }\n\n    .dataframe tbody tr th {\n        vertical-align: top;\n    }\n\n    .dataframe thead th {\n        text-align: right;\n    }\n</style>\n<table border=\"1\" class=\"dataframe\">\n  <thead>\n    <tr style=\"text-align: right;\">\n      <th></th>\n      <th>UserIndex</th>\n      <th>Action</th>\n      <th>State</th>\n      <th>TimeStamp</th>\n      <th>HighLevelStateActionProbab</th>\n      <th>StateActionProbab</th>\n      <th>IdleTime</th>\n      <th>Reward</th>\n      <th>Subtask_Screenshot_Time</th>\n      <th>Subtask_Idle_Time</th>\n      <th>...</th>\n      <th>Subtask_Zoom</th>\n      <th>Subtask_ROI</th>\n      <th>Latitude</th>\n      <th>Longitude</th>\n      <th>All_address</th>\n      <th>All_raw_address</th>\n      <th>Most_frequent_state</th>\n      <th>Most_frequent_region</th>\n      <th>Angle</th>\n      <th>high-level-action</th>\n    </tr>\n  </thead>\n  <tbody>\n    <tr>\n      <th>0</th>\n      <td>0</td>\n      <td>start</td>\n      <td>1</td>\n      <td>2016-06-10 17:51:46.368</td>\n      <td>0.666667</td>\n      <td>0.400000</td>\n      <td>0.000</td>\n      <td>0</td>\n      <td>1</td>\n      <td>1</td>\n      <td>...</td>\n      <td>1</td>\n      <td>1</td>\n      <td>34.103050</td>\n      <td>-98.612800</td>\n      <td>['None', 'Other', 'None', 'Other', 'None', 'Ot...</td>\n      <td>[[15.2153, -132.053], [52.9908, -65.1726], [15...</td>\n      <td>None</td>\n      <td>None</td>\n      <td>0.000000</td>\n      <td>change</td>\n    </tr>\n    <tr>\n      <th>1</th>\n      <td>1</td>\n      <td>zoom</td>\n      <td>1</td>\n      <td>2016-06-10 17:52:15.238</td>\n      <td>0.500000</td>\n      <td>0.333333</td>\n      <td>28.870</td>\n      <td>0</td>\n      <td>1</td>\n      <td>1</td>\n      <td>...</td>\n      <td>1</td>\n      <td>1</td>\n      <td>32.654175</td>\n      <td>-94.199313</td>\n      <td>['None', 'South', 'Other', 'None', 'None', 'No...</td>\n      <td>[[18.1367, -107.299], [30.3858, -97.2569], [15...</td>\n      <td>None</td>\n      <td>None</td>\n      <td>0.000000</td>\n      <td>same</td>\n    </tr>\n    <tr>\n      <th>2</th>\n      <td>2</td>\n      <td>pan</td>\n      <td>1</td>\n      <td>2016-06-10 17:52:16.021</td>\n      <td>0.600000</td>\n      <td>0.285714</td>\n      <td>0.783</td>\n      <td>0</td>\n      <td>1</td>\n      <td>2</td>\n      <td>...</td>\n      <td>1</td>\n      <td>1</td>\n      <td>41.766800</td>\n      <td>-79.535500</td>\n      <td>['South', 'Other', 'South', 'Other', 'South', ...</td>\n      <td>[[30.5342, -93.9559], [52.9994, -65.1151], [30...</td>\n      <td>Texas</td>\n      <td>South</td>\n      <td>352.326038</td>\n      <td>same</td>\n    </tr>\n    <tr>\n      <th>3</th>\n      <td>3</td>\n      <td>pan</td>\n      <td>1</td>\n      <td>2016-06-10 17:52:18.029</td>\n      <td>0.666667</td>\n      <td>0.375000</td>\n      <td>2.008</td>\n      <td>0</td>\n      <td>1</td>\n      <td>2</td>\n      <td>...</td>\n      <td>1</td>\n      <td>1</td>\n      <td>41.766800</td>\n      <td>-79.535500</td>\n      <td>['South', 'Other', 'South', 'Other', 'South', ...</td>\n      <td>[[30.5342, -93.9559], [52.9994, -65.1151], [30...</td>\n      <td>Texas</td>\n      <td>South</td>\n      <td>353.106469</td>\n      <td>same</td>\n    </tr>\n    <tr>\n      <th>4</th>\n      <td>4</td>\n      <td>zoom</td>\n      <td>0</td>\n      <td>2016-06-10 17:52:18.735</td>\n      <td>0.666667</td>\n      <td>0.400000</td>\n      <td>0.706</td>\n      <td>0</td>\n      <td>1</td>\n      <td>2</td>\n      <td>...</td>\n      <td>1</td>\n      <td>1</td>\n      <td>47.379675</td>\n      <td>-110.028137</td>\n      <td>['None', 'Other', 'West', 'NorthernRockiesPlai...</td>\n      <td>[[41.7792, -132.156], [52.9917, -116.51], [41....</td>\n      <td>Nevada</td>\n      <td>West</td>\n      <td>0.000000</td>\n      <td>change</td>\n    </tr>\n  </tbody>\n</table>\n<p>5 rows × 22 columns</p>\n</div>"
     },
     "execution_count": 77,
     "metadata": {},
     "output_type": "execute_result"
    }
   ],
   "source": [
    "df.head(5)"
   ],
   "metadata": {
    "collapsed": false,
    "pycharm": {
     "name": "#%%\n"
    }
   }
  },
  {
   "cell_type": "code",
   "execution_count": 78,
   "outputs": [
    {
     "name": "stderr",
     "output_type": "stream",
     "text": [
      "C:\\Users\\Nischal Aryal\\AppData\\Local\\Temp\\ipykernel_33584\\2238002601.py:3: SettingWithCopyWarning: \n",
      "A value is trying to be set on a copy of a slice from a DataFrame.\n",
      "Try using .loc[row_indexer,col_indexer] = value instead\n",
      "\n",
      "See the caveats in the documentation: https://pandas.pydata.org/pandas-docs/stable/user_guide/indexing.html#returning-a-view-versus-a-copy\n",
      "  train_df[\"index\"] = range(1, len(train_df) + 1)\n",
      "C:\\Users\\Nischal Aryal\\AppData\\Local\\Temp\\ipykernel_33584\\2238002601.py:5: SettingWithCopyWarning: \n",
      "A value is trying to be set on a copy of a slice from a DataFrame.\n",
      "Try using .loc[row_indexer,col_indexer] = value instead\n",
      "\n",
      "See the caveats in the documentation: https://pandas.pydata.org/pandas-docs/stable/user_guide/indexing.html#returning-a-view-versus-a-copy\n",
      "  test_df[\"index\"] = range(1, len(test_df) + 1)\n"
     ]
    }
   ],
   "source": [
    "train_df=df[:round(0.80*len(df))]\n",
    "test_df=df[round(0.80*len(df)):]\n",
    "train_df[\"index\"] = range(1, len(train_df) + 1)\n",
    "train_df = train_df.set_index(\"index\")\n",
    "test_df[\"index\"] = range(1, len(test_df) + 1)\n",
    "test_df = test_df.set_index(\"index\")"
   ],
   "metadata": {
    "collapsed": false,
    "pycharm": {
     "name": "#%%\n"
    }
   }
  },
  {
   "cell_type": "code",
   "execution_count": 79,
   "outputs": [
    {
     "data": {
      "text/plain": "       UserIndex Action State                TimeStamp  \\\nindex                                                    \n1             70    pan     1  2016-06-10 17:54:13.279   \n2             71    pan     1  2016-06-10 17:54:14.130   \n3             72    pan     1  2016-06-10 17:54:16.233   \n4             73    pan     1  2016-06-10 17:54:16.747   \n5             74    pan     1  2016-06-10 17:54:18.946   \n\n       HighLevelStateActionProbab  StateActionProbab  IdleTime  Reward  \\\nindex                                                                    \n1                        0.650000           0.772727     0.573       0   \n2                        0.666667           0.782609     0.851       0   \n3                        0.681818           0.791667     2.103       0   \n4                        0.695652           0.800000     0.514       0   \n5                        0.708333           0.807692     2.199       0   \n\n       Subtask_Screenshot_Time  Subtask_Idle_Time  ...  Subtask_Zoom  \\\nindex                                              ...                 \n1                            2                  2  ...             2   \n2                            2                  2  ...             2   \n3                            2                  2  ...             2   \n4                            2                  2  ...             2   \n5                            2                  2  ...             2   \n\n       Subtask_ROI   Latitude   Longitude  \\\nindex                                       \n1                6  50.748288 -108.633025   \n2                6  38.312137  -96.623625   \n3                6  51.082850 -128.831500   \n4                6  49.341163 -105.256025   \n5                6  49.153650  -93.617475   \n\n                                             All_address  \\\nindex                                                      \n1      ['None', 'Other', 'NorthernRockiesPlains', 'No...   \n2      ['None', 'None', 'NorthWest', 'None', 'NorthWe...   \n3      ['None', 'NorthWest', 'None', 'NorthWest', 'No...   \n4      ['SouthWest', 'NorthernRockiesPlains', 'Northe...   \n5      ['NorthernRockiesPlains', 'NorthernRockiesPlai...   \n\n                                         All_raw_address Most_frequent_state  \\\nindex                                                                          \n1      [[48.5013, -125.495], [52.9961, -112.008], [48...             Montana   \n2      [[49.1719, -132.156], [52.9938, -125.507], [49...                None   \n3      [[49.1719, -132.156], [52.9938, -125.507], [49...                None   \n4      [[41.7504, -111.985], [48.49, -98.502], [48.5,...             Montana   \n5      [[41.7644, -98.4982], [48.4885, -88.6355], [48...             Ontario   \n\n        Most_frequent_region       Angle high-level-action  \nindex                                                       \n1      NorthernRockiesPlains    3.011003              same  \n2                       None  349.374868              same  \n3                       None    5.736687              same  \n4      NorthernRockiesPlains  298.885459              same  \n5      NorthernRockiesPlains  294.129458              same  \n\n[5 rows x 22 columns]",
      "text/html": "<div>\n<style scoped>\n    .dataframe tbody tr th:only-of-type {\n        vertical-align: middle;\n    }\n\n    .dataframe tbody tr th {\n        vertical-align: top;\n    }\n\n    .dataframe thead th {\n        text-align: right;\n    }\n</style>\n<table border=\"1\" class=\"dataframe\">\n  <thead>\n    <tr style=\"text-align: right;\">\n      <th></th>\n      <th>UserIndex</th>\n      <th>Action</th>\n      <th>State</th>\n      <th>TimeStamp</th>\n      <th>HighLevelStateActionProbab</th>\n      <th>StateActionProbab</th>\n      <th>IdleTime</th>\n      <th>Reward</th>\n      <th>Subtask_Screenshot_Time</th>\n      <th>Subtask_Idle_Time</th>\n      <th>...</th>\n      <th>Subtask_Zoom</th>\n      <th>Subtask_ROI</th>\n      <th>Latitude</th>\n      <th>Longitude</th>\n      <th>All_address</th>\n      <th>All_raw_address</th>\n      <th>Most_frequent_state</th>\n      <th>Most_frequent_region</th>\n      <th>Angle</th>\n      <th>high-level-action</th>\n    </tr>\n    <tr>\n      <th>index</th>\n      <th></th>\n      <th></th>\n      <th></th>\n      <th></th>\n      <th></th>\n      <th></th>\n      <th></th>\n      <th></th>\n      <th></th>\n      <th></th>\n      <th></th>\n      <th></th>\n      <th></th>\n      <th></th>\n      <th></th>\n      <th></th>\n      <th></th>\n      <th></th>\n      <th></th>\n      <th></th>\n      <th></th>\n    </tr>\n  </thead>\n  <tbody>\n    <tr>\n      <th>1</th>\n      <td>70</td>\n      <td>pan</td>\n      <td>1</td>\n      <td>2016-06-10 17:54:13.279</td>\n      <td>0.650000</td>\n      <td>0.772727</td>\n      <td>0.573</td>\n      <td>0</td>\n      <td>2</td>\n      <td>2</td>\n      <td>...</td>\n      <td>2</td>\n      <td>6</td>\n      <td>50.748288</td>\n      <td>-108.633025</td>\n      <td>['None', 'Other', 'NorthernRockiesPlains', 'No...</td>\n      <td>[[48.5013, -125.495], [52.9961, -112.008], [48...</td>\n      <td>Montana</td>\n      <td>NorthernRockiesPlains</td>\n      <td>3.011003</td>\n      <td>same</td>\n    </tr>\n    <tr>\n      <th>2</th>\n      <td>71</td>\n      <td>pan</td>\n      <td>1</td>\n      <td>2016-06-10 17:54:14.130</td>\n      <td>0.666667</td>\n      <td>0.782609</td>\n      <td>0.851</td>\n      <td>0</td>\n      <td>2</td>\n      <td>2</td>\n      <td>...</td>\n      <td>2</td>\n      <td>6</td>\n      <td>38.312137</td>\n      <td>-96.623625</td>\n      <td>['None', 'None', 'NorthWest', 'None', 'NorthWe...</td>\n      <td>[[49.1719, -132.156], [52.9938, -125.507], [49...</td>\n      <td>None</td>\n      <td>None</td>\n      <td>349.374868</td>\n      <td>same</td>\n    </tr>\n    <tr>\n      <th>3</th>\n      <td>72</td>\n      <td>pan</td>\n      <td>1</td>\n      <td>2016-06-10 17:54:16.233</td>\n      <td>0.681818</td>\n      <td>0.791667</td>\n      <td>2.103</td>\n      <td>0</td>\n      <td>2</td>\n      <td>2</td>\n      <td>...</td>\n      <td>2</td>\n      <td>6</td>\n      <td>51.082850</td>\n      <td>-128.831500</td>\n      <td>['None', 'NorthWest', 'None', 'NorthWest', 'No...</td>\n      <td>[[49.1719, -132.156], [52.9938, -125.507], [49...</td>\n      <td>None</td>\n      <td>None</td>\n      <td>5.736687</td>\n      <td>same</td>\n    </tr>\n    <tr>\n      <th>4</th>\n      <td>73</td>\n      <td>pan</td>\n      <td>1</td>\n      <td>2016-06-10 17:54:16.747</td>\n      <td>0.695652</td>\n      <td>0.800000</td>\n      <td>0.514</td>\n      <td>0</td>\n      <td>2</td>\n      <td>2</td>\n      <td>...</td>\n      <td>2</td>\n      <td>6</td>\n      <td>49.341163</td>\n      <td>-105.256025</td>\n      <td>['SouthWest', 'NorthernRockiesPlains', 'Northe...</td>\n      <td>[[41.7504, -111.985], [48.49, -98.502], [48.5,...</td>\n      <td>Montana</td>\n      <td>NorthernRockiesPlains</td>\n      <td>298.885459</td>\n      <td>same</td>\n    </tr>\n    <tr>\n      <th>5</th>\n      <td>74</td>\n      <td>pan</td>\n      <td>1</td>\n      <td>2016-06-10 17:54:18.946</td>\n      <td>0.708333</td>\n      <td>0.807692</td>\n      <td>2.199</td>\n      <td>0</td>\n      <td>2</td>\n      <td>2</td>\n      <td>...</td>\n      <td>2</td>\n      <td>6</td>\n      <td>49.153650</td>\n      <td>-93.617475</td>\n      <td>['NorthernRockiesPlains', 'NorthernRockiesPlai...</td>\n      <td>[[41.7644, -98.4982], [48.4885, -88.6355], [48...</td>\n      <td>Ontario</td>\n      <td>NorthernRockiesPlains</td>\n      <td>294.129458</td>\n      <td>same</td>\n    </tr>\n  </tbody>\n</table>\n<p>5 rows × 22 columns</p>\n</div>"
     },
     "execution_count": 79,
     "metadata": {},
     "output_type": "execute_result"
    }
   ],
   "source": [
    "test_df.head(5)"
   ],
   "metadata": {
    "collapsed": false,
    "pycharm": {
     "name": "#%%\n"
    }
   }
  },
  {
   "cell_type": "code",
   "execution_count": 94,
   "outputs": [],
   "source": [
    "vw = vowpalwabbit.Workspace(\"--cb_explore 3 --bag 5 \")\n",
    "\n",
    "# use the learn method to train the vw model, train model row by row using a loop\n",
    "for i in train_df.index:\n",
    "    ## provide data to cb in requested format\n",
    "    action = train_df.loc[i, \"State\"]\n",
    "    cost = -1 * train_df.loc[i, \"NDSI\"]\n",
    "    probability = train_df.loc[i, \"HighLevelStateActionProbab\"]\n",
    "    feature1 = train_df.loc[i, \"Most_frequent_region\"]\n",
    "\n",
    "    ## do the actual learning\n",
    "    vw.learn(\n",
    "        str(action)\n",
    "        + \":\"\n",
    "        + str(cost)\n",
    "        + \":\"\n",
    "        + str(probability)\n",
    "        + \" | \"\n",
    "        + str(feature1)\n",
    "    )\n"
   ],
   "metadata": {
    "collapsed": false,
    "pycharm": {
     "name": "#%%\n"
    }
   }
  },
  {
   "cell_type": "code",
   "execution_count": 95,
   "outputs": [
    {
     "name": "stdout",
     "output_type": "stream",
     "text": [
      "1 [0.20000000298023224, 0.800000011920929, 0.0]\n",
      "2 [1.0, 0.0, 0.0]\n",
      "3 [1.0, 0.0, 0.0]\n",
      "4 [0.20000000298023224, 0.800000011920929, 0.0]\n",
      "5 [0.20000000298023224, 0.800000011920929, 0.0]\n",
      "6 [0.20000000298023224, 0.800000011920929, 0.0]\n",
      "7 [0.20000000298023224, 0.800000011920929, 0.0]\n",
      "8 [0.20000000298023224, 0.800000011920929, 0.0]\n",
      "9 [0.20000000298023224, 0.800000011920929, 0.0]\n",
      "10 [0.20000000298023224, 0.800000011920929, 0.0]\n",
      "11 [1.0, 0.0, 0.0]\n",
      "12 [0.20000000298023224, 0.800000011920929, 0.0]\n",
      "13 [0.20000000298023224, 0.800000011920929, 0.0]\n",
      "14 [0.20000000298023224, 0.800000011920929, 0.0]\n",
      "15 [0.20000000298023224, 0.800000011920929, 0.0]\n",
      "16 [0.4000000059604645, 0.6000000238418579, 0.0]\n",
      "17 [0.4000000059604645, 0.6000000238418579, 0.0]\n"
     ]
    }
   ],
   "source": [
    "for j in test_df.index:\n",
    "    feature1 = test_df.loc[j, \"Most_frequent_region\"]\n",
    "    choice = vw.predict(\n",
    "        \"| \" + str(feature1)\n",
    "    )\n",
    "    print(j, choice)"
   ],
   "metadata": {
    "collapsed": false,
    "pycharm": {
     "name": "#%%\n"
    }
   }
  },
  {
   "cell_type": "code",
   "execution_count": 4,
   "outputs": [],
   "source": [
    "def get_cost(index):\n",
    "    return env.mem_reward[index]"
   ],
   "metadata": {
    "collapsed": false,
    "pycharm": {
     "name": "#%%\n"
    }
   }
  },
  {
   "cell_type": "code",
   "execution_count": 5,
   "outputs": [],
   "source": [
    "# This function modifies (context, action, cost, probability) to VW friendly format\n",
    "def to_vw_example_format(context, actions, cb_label=None):\n",
    "    if cb_label is not None:\n",
    "        chosen_action, cost, prob = cb_label\n",
    "    example_string = \"\"\n",
    "    example_string += \"shared |State state={} time={}\\n\".format(\n",
    "        context[\"state\"], context[\"time\"]\n",
    "    )\n",
    "    for action in actions:\n",
    "        if cb_label is not None and action == chosen_action:\n",
    "            example_string += \"0:{}:{} \".format(cost, prob)\n",
    "        example_string += \"|Action switch/stay={} \\n\".format(action)\n",
    "    # Strip the last newline\n",
    "    return example_string[:-1]"
   ],
   "metadata": {
    "collapsed": false,
    "pycharm": {
     "name": "#%%\n"
    }
   }
  },
  {
   "cell_type": "code",
   "execution_count": 6,
   "outputs": [
    {
     "name": "stdout",
     "output_type": "stream",
     "text": [
      "shared |State state=Sensemaking time=1\n",
      "|Action switch/stay=same \n",
      "|Action switch/stay=change \n"
     ]
    }
   ],
   "source": [
    "context = {\"state\": \"Sensemaking\", \"time\": 1}\n",
    "actions = [\"same\", \"change\"]\n",
    "\n",
    "print(to_vw_example_format(context, actions))"
   ],
   "metadata": {
    "collapsed": false,
    "pycharm": {
     "name": "#%%\n"
    }
   }
  },
  {
   "cell_type": "code",
   "execution_count": 7,
   "outputs": [],
   "source": [
    "def sample_custom_pmf(pmf):\n",
    "    total = sum(pmf)\n",
    "    scale = 1 / total\n",
    "    pmf = [x * scale for x in pmf]\n",
    "    draw = random.random()\n",
    "    sum_prob = 0.0\n",
    "    for index, prob in enumerate(pmf):\n",
    "        sum_prob += prob\n",
    "        if sum_prob > draw:\n",
    "            return index, prob"
   ],
   "metadata": {
    "collapsed": false,
    "pycharm": {
     "name": "#%%\n"
    }
   }
  },
  {
   "cell_type": "code",
   "execution_count": 8,
   "outputs": [],
   "source": [
    "def get_action(vw, context, actions):\n",
    "    vw_text_example = to_vw_example_format(context, actions)\n",
    "    pmf = vw.predict(vw_text_example)\n",
    "    chosen_action_index, prob = sample_custom_pmf(pmf)\n",
    "    return actions[chosen_action_index], prob"
   ],
   "metadata": {
    "collapsed": false,
    "pycharm": {
     "name": "#%%\n"
    }
   }
  },
  {
   "cell_type": "code",
   "execution_count": 9,
   "outputs": [
    {
     "data": {
      "text/plain": "actions                  change      same\nstates      time                         \nForaging    afternoon  0.626178  0.626178\n            morning    0.626178  0.626178\nNavigation  afternoon  0.626178  0.626178\n            morning    0.626178  0.626178\nSensemaking afternoon  0.626178  0.626178\n            morning    0.626178  0.626178",
      "text/html": "<div>\n<style scoped>\n    .dataframe tbody tr th:only-of-type {\n        vertical-align: middle;\n    }\n\n    .dataframe tbody tr th {\n        vertical-align: top;\n    }\n\n    .dataframe thead th {\n        text-align: right;\n    }\n</style>\n<table border=\"1\" class=\"dataframe\">\n  <thead>\n    <tr style=\"text-align: right;\">\n      <th></th>\n      <th>actions</th>\n      <th>change</th>\n      <th>same</th>\n    </tr>\n    <tr>\n      <th>states</th>\n      <th>time</th>\n      <th></th>\n      <th></th>\n    </tr>\n  </thead>\n  <tbody>\n    <tr>\n      <th rowspan=\"2\" valign=\"top\">Foraging</th>\n      <th>afternoon</th>\n      <td>0.626178</td>\n      <td>0.626178</td>\n    </tr>\n    <tr>\n      <th>morning</th>\n      <td>0.626178</td>\n      <td>0.626178</td>\n    </tr>\n    <tr>\n      <th rowspan=\"2\" valign=\"top\">Navigation</th>\n      <th>afternoon</th>\n      <td>0.626178</td>\n      <td>0.626178</td>\n    </tr>\n    <tr>\n      <th>morning</th>\n      <td>0.626178</td>\n      <td>0.626178</td>\n    </tr>\n    <tr>\n      <th rowspan=\"2\" valign=\"top\">Sensemaking</th>\n      <th>afternoon</th>\n      <td>0.626178</td>\n      <td>0.626178</td>\n    </tr>\n    <tr>\n      <th>morning</th>\n      <td>0.626178</td>\n      <td>0.626178</td>\n    </tr>\n  </tbody>\n</table>\n</div>"
     },
     "execution_count": 9,
     "metadata": {},
     "output_type": "execute_result"
    }
   ],
   "source": [
    "states = [\"Foraging\",\"Navigation\", \"Sensemaking\"]\n",
    "time = [\"morning\", \"afternoon\"]\n",
    "actions = [\"same\",\"change\"]\n",
    "\n",
    "\n",
    "def choose_user(states):\n",
    "    return random.choice(states)\n",
    "\n",
    "\n",
    "def choose_time_of_day(time):\n",
    "    return random.choice(time)\n",
    "\n",
    "\n",
    "# display preference matrix\n",
    "def get_preference_matrix(cost_fun):\n",
    "    def expand_grid(data_dict):\n",
    "        rows = itertools.product(*data_dict.values())\n",
    "        return pd.DataFrame.from_records(rows, columns=data_dict.keys())\n",
    "\n",
    "    df = expand_grid({\"states\": states, \"time\": time, \"actions\": actions})\n",
    "    df[\"cost\"] = df.apply(\n",
    "        lambda r: cost_fun(1), axis=1\n",
    "    )\n",
    "\n",
    "    return df.pivot_table(\n",
    "        index=[\"states\", \"time\"], columns=\"actions\", values=\"cost\"\n",
    "    )\n",
    "\n",
    "\n",
    "get_preference_matrix(get_cost)"
   ],
   "metadata": {
    "collapsed": false,
    "pycharm": {
     "name": "#%%\n"
    }
   }
  },
  {
   "cell_type": "code",
   "execution_count": 71,
   "outputs": [],
   "source": [
    "def run_simulation(\n",
    "    vw, num_iterations, states, times, actions, cost_function, do_learn=True\n",
    "):\n",
    "    cost_sum = 0.0\n",
    "    ctr = []\n",
    "    cnt=0\n",
    "\n",
    "    for i in range(1, num_iterations + 1):\n",
    "\n",
    "            # 1. In each simulation choose a user\n",
    "            state = choose_user(states)\n",
    "            # 2. Choose time of day for a given user\n",
    "            time = choose_time_of_day(times)\n",
    "\n",
    "            # 3. Pass context to vw to get an action\n",
    "            context = {\"state\": state, \"time\": time}\n",
    "            action, prob = get_action(vw, context, actions)\n",
    "\n",
    "            # 4. Get cost of the action we chose\n",
    "            cost = cost_function(cnt)\n",
    "            cost_sum += cost\n",
    "            cnt+=1\n",
    "\n",
    "            if do_learn:\n",
    "                # 5. Inform VW of what happened so we can learn from it\n",
    "                vw_format = vw.parse(\n",
    "                    to_vw_example_format(context, actions, (action, cost, prob)),\n",
    "                    vowpalwabbit.LabelType.CONTEXTUAL_BANDIT,\n",
    "                )\n",
    "                # 6. Learn\n",
    "                vw.learn(vw_format)\n",
    "\n",
    "            # We negate this so that on the plot instead of minimizing cost, we are maximizing reward\n",
    "            ctr.append(-1 * cost_sum / i)\n",
    "\n",
    "    return ctr"
   ],
   "metadata": {
    "collapsed": false,
    "pycharm": {
     "name": "#%%\n"
    }
   }
  },
  {
   "cell_type": "code",
   "execution_count": 72,
   "outputs": [],
   "source": [
    "def plot_ctr(num_iterations, ctr):\n",
    "    plt.plot(range(1, num_iterations + 1), ctr)\n",
    "    plt.xlabel(\"num_iterations\", fontsize=14)\n",
    "    plt.ylabel(\"ctr\", fontsize=14)\n",
    "    plt.ylim([0, 1])"
   ],
   "metadata": {
    "collapsed": false,
    "pycharm": {
     "name": "#%%\n"
    }
   }
  },
  {
   "cell_type": "code",
   "execution_count": 73,
   "outputs": [
    {
     "ename": "IndexError",
     "evalue": "list index out of range",
     "output_type": "error",
     "traceback": [
      "\u001B[1;31m---------------------------------------------------------------------------\u001B[0m",
      "\u001B[1;31mIndexError\u001B[0m                                Traceback (most recent call last)",
      "Input \u001B[1;32mIn [73]\u001B[0m, in \u001B[0;36m<cell line: 5>\u001B[1;34m()\u001B[0m\n\u001B[0;32m      2\u001B[0m vw \u001B[38;5;241m=\u001B[39m vowpalwabbit\u001B[38;5;241m.\u001B[39mWorkspace(\u001B[38;5;124m\"\u001B[39m\u001B[38;5;124m--cb_explore_adf -q UA --quiet --epsilon 0.2\u001B[39m\u001B[38;5;124m\"\u001B[39m)\n\u001B[0;32m      4\u001B[0m num_iterations \u001B[38;5;241m=\u001B[39m \u001B[38;5;241m5000\u001B[39m\n\u001B[1;32m----> 5\u001B[0m ctr \u001B[38;5;241m=\u001B[39m \u001B[43mrun_simulation\u001B[49m\u001B[43m(\u001B[49m\u001B[43mvw\u001B[49m\u001B[43m,\u001B[49m\u001B[43m \u001B[49m\u001B[43mnum_iterations\u001B[49m\u001B[43m,\u001B[49m\u001B[43m \u001B[49m\u001B[43mstates\u001B[49m\u001B[43m,\u001B[49m\u001B[43m \u001B[49m\u001B[43mtime\u001B[49m\u001B[43m,\u001B[49m\u001B[43m \u001B[49m\u001B[43mactions\u001B[49m\u001B[43m,\u001B[49m\u001B[43m \u001B[49m\u001B[43mget_cost\u001B[49m\u001B[43m)\u001B[49m\n\u001B[0;32m      7\u001B[0m plot_ctr(num_iterations, ctr)\n",
      "Input \u001B[1;32mIn [71]\u001B[0m, in \u001B[0;36mrun_simulation\u001B[1;34m(vw, num_iterations, states, times, actions, cost_function, do_learn)\u001B[0m\n\u001B[0;32m     17\u001B[0m action, prob \u001B[38;5;241m=\u001B[39m get_action(vw, context, actions)\n\u001B[0;32m     19\u001B[0m \u001B[38;5;66;03m# 4. Get cost of the action we chose\u001B[39;00m\n\u001B[1;32m---> 20\u001B[0m cost \u001B[38;5;241m=\u001B[39m \u001B[43mcost_function\u001B[49m\u001B[43m(\u001B[49m\u001B[43mcnt\u001B[49m\u001B[43m)\u001B[49m\n\u001B[0;32m     21\u001B[0m cost_sum \u001B[38;5;241m+\u001B[39m\u001B[38;5;241m=\u001B[39m cost\n\u001B[0;32m     22\u001B[0m cnt\u001B[38;5;241m+\u001B[39m\u001B[38;5;241m=\u001B[39m\u001B[38;5;241m1\u001B[39m\n",
      "Input \u001B[1;32mIn [62]\u001B[0m, in \u001B[0;36mget_cost\u001B[1;34m(index)\u001B[0m\n\u001B[0;32m      1\u001B[0m \u001B[38;5;28;01mdef\u001B[39;00m \u001B[38;5;21mget_cost\u001B[39m(index):\n\u001B[1;32m----> 2\u001B[0m     \u001B[38;5;28;01mreturn\u001B[39;00m \u001B[43menv\u001B[49m\u001B[38;5;241;43m.\u001B[39;49m\u001B[43mmem_reward\u001B[49m\u001B[43m[\u001B[49m\u001B[43mindex\u001B[49m\u001B[43m]\u001B[49m\n",
      "\u001B[1;31mIndexError\u001B[0m: list index out of range"
     ]
    }
   ],
   "source": [
    "# Instantiate learner in VW\n",
    "vw = vowpalwabbit.Workspace(\"--cb_explore_adf -q UA --quiet --epsilon 0.2\")\n",
    "\n",
    "num_iterations = 5000\n",
    "ctr = run_simulation(vw, num_iterations, states, time, actions, get_cost)\n",
    "\n",
    "plot_ctr(num_iterations, ctr)"
   ],
   "metadata": {
    "collapsed": false,
    "pycharm": {
     "name": "#%%\n"
    }
   }
  },
  {
   "cell_type": "code",
   "execution_count": null,
   "outputs": [],
   "source": [],
   "metadata": {
    "collapsed": false,
    "pycharm": {
     "name": "#%%\n"
    }
   }
  }
 ],
 "metadata": {
  "kernelspec": {
   "display_name": "Python 3",
   "language": "python",
   "name": "python3"
  },
  "language_info": {
   "codemirror_mode": {
    "name": "ipython",
    "version": 2
   },
   "file_extension": ".py",
   "mimetype": "text/x-python",
   "name": "python",
   "nbconvert_exporter": "python",
   "pygments_lexer": "ipython2",
   "version": "2.7.6"
  }
 },
 "nbformat": 4,
 "nbformat_minor": 0
}