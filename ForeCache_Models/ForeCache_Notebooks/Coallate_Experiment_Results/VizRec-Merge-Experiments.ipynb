{
 "cells": [
  {
   "cell_type": "code",
   "execution_count": 29,
   "metadata": {
    "collapsed": true,
    "ExecuteTime": {
     "end_time": "2023-12-04T18:29:15.941638Z",
     "start_time": "2023-12-04T18:29:15.935098Z"
    }
   },
   "outputs": [],
   "source": [
    "import numpy as np\n",
    "import pandas as pd\n",
    "from matplotlib import pyplot as plt\n",
    "\n"
   ]
  },
  {
   "cell_type": "code",
   "execution_count": 30,
   "metadata": {
    "collapsed": false,
    "ExecuteTime": {
     "end_time": "2023-12-04T18:29:16.271418Z",
     "start_time": "2023-12-04T18:29:16.257257Z"
    }
   },
   "outputs": [],
   "source": [
    "df_ac = pd.read_csv(\"/Users/aryal/Desktop/ForeCache/foreCache-interaction/ForeCache_Models/Experiments_Folder/VizRec/Actor_Critic.csv\")\n",
    "df_wsls =pd.read_csv(\"/Users/aryal/Desktop/ForeCache/foreCache-interaction/ForeCache_Models/Experiments_Folder/Results/WSLS.csv\")\n",
    "df_greedy=pd.read_csv(\"/Users/aryal/Desktop/ForeCache/foreCache-interaction/ForeCache_Models/Experiments_Folder/VizRec/Greedy.csv\")\n",
    "df_sarsa=pd.read_csv(\"/Users/aryal/Desktop/ForeCache/foreCache-interaction/ForeCache_Models/Experiments_Folder/Results/SARSA.csv\")\n",
    "df_qlearn=pd.read_csv(\"/Users/aryal/Desktop/ForeCache/foreCache-interaction/ForeCache_Models/Experiments_Folder/Results/QLearn.csv\")\n",
    "df_reinforce=pd.read_csv(\"/Users/aryal/Desktop/ForeCache/foreCache-interaction/ForeCache_Models/Experiments_Folder/Results/Reinforce.csv\")\n",
    "df_naive=pd.read_csv(\"/Users/aryal/Desktop/ForeCache/foreCache-interaction/ForeCache_Models/Experiments_Folder/VizRec/Naive.csv\")\n",
    "df_momentum=pd.read_csv('/Users/aryal/Desktop/ForeCache/foreCache-interaction/ForeCache_Models/Experiments_Folder/Results/Momentum.csv')\n",
    "df_random=pd.read_csv('/Users/aryal/Desktop/ForeCache/foreCache-interaction/ForeCache_Models/Experiments_Folder/VizRec/Random.csv')\n",
    "#df_tamerq=pd.read_csv('/Users/aryal/Desktop/ForeCache/foreCache-interaction/ForeCache_Models/Experiments_Folder/Results/Tamer_Q_Learning.csv')"
   ]
  },
  {
   "cell_type": "code",
   "execution_count": 31,
   "metadata": {
    "collapsed": false,
    "ExecuteTime": {
     "end_time": "2023-12-04T18:29:16.558541Z",
     "start_time": "2023-12-04T18:29:16.546701Z"
    }
   },
   "outputs": [],
   "source": [
    "# Add a new column to each dataframe with the name of the dataframe\n",
    "df_ac['Algo'] = 'ActorCritic'\n",
    "df_wsls['Algo'] = 'WSLS'\n",
    "df_greedy['Algo'] = 'Greedy'\n",
    "df_sarsa['Algo'] = 'SARSA'\n",
    "df_qlearn['Algo'] = 'QLearn'\n",
    "df_reinforce['Algo'] = 'Reinforce'\n",
    "df_naive['Algo'] = 'Naive'\n",
    "df_momentum['Algo'] = 'Momentum'\n",
    "df_random['Algo'] = 'Random'\n",
    "#df_tamerq['Algo'] = 'Tamer-Q'\n",
    "\n",
    "# Add a new column to each dataframe to keep track of the original index\n",
    "df_ac['original_dataframe_index'] = range(len(df_ac))\n",
    "df_wsls['original_dataframe_index'] = range(len(df_wsls))\n",
    "df_greedy['original_dataframe_index'] = range(len(df_greedy))\n",
    "df_sarsa['original_dataframe_index'] = range(len(df_sarsa))\n",
    "df_qlearn['original_dataframe_index'] = range(len(df_qlearn))\n",
    "df_reinforce['original_dataframe_index'] = range(len(df_qlearn))\n",
    "df_naive['original_dataframe_index'] = range(len(df_naive))\n",
    "df_momentum['original_dataframe_index'] = range(len(df_momentum))\n",
    "df_random['original_dataframe_index'] = range(len(df_random))\n",
    "#df_tamerq['original_dataframe_index'] = range(len(df_tamerq))\n",
    "\n",
    "# Combine the dataframes into one\n",
    "df_combined = pd.concat([df_ac, df_wsls, df_greedy, df_sarsa, df_qlearn,df_reinforce,df_naive,df_momentum,df_random])\n",
    "\n",
    "# Reset the index of the combined dataframe\n",
    "df_combined = df_combined.reset_index(drop=True)"
   ]
  },
  {
   "cell_type": "code",
   "execution_count": 32,
   "metadata": {
    "collapsed": false,
    "ExecuteTime": {
     "end_time": "2023-12-04T18:29:17.003081Z",
     "start_time": "2023-12-04T18:29:16.997649Z"
    }
   },
   "outputs": [
    {
     "data": {
      "text/plain": "     Algorithm              User  Threshold  LearningRate  Discount  \\\n1180    Random  pro18_adf_p4_log       0.05           NaN       NaN   \n1181    Random  pro18_adf_p4_log       0.10           NaN       NaN   \n1182    Random  pro18_adf_p4_log       0.20           NaN       NaN   \n1183    Random  pro18_adf_p4_log       0.30           NaN       NaN   \n1184    Random  pro18_adf_p4_log       0.40           NaN       NaN   \n1185    Random  pro18_adf_p4_log       0.50           NaN       NaN   \n1186    Random  pro18_adf_p4_log       0.60           NaN       NaN   \n1187    Random  pro18_adf_p4_log       0.70           NaN       NaN   \n1188    Random  pro18_adf_p4_log       0.80           NaN       NaN   \n1189    Random  pro18_adf_p4_log       0.90           NaN       NaN   \n1190    Random  pro20_ade_p4_log       0.05           NaN       NaN   \n1191    Random  pro20_ade_p4_log       0.10           NaN       NaN   \n1192    Random  pro20_ade_p4_log       0.20           NaN       NaN   \n1193    Random  pro20_ade_p4_log       0.30           NaN       NaN   \n1194    Random  pro20_ade_p4_log       0.40           NaN       NaN   \n1195    Random  pro20_ade_p4_log       0.50           NaN       NaN   \n1196    Random  pro20_ade_p4_log       0.60           NaN       NaN   \n1197    Random  pro20_ade_p4_log       0.70           NaN       NaN   \n1198    Random  pro20_ade_p4_log       0.80           NaN       NaN   \n1199    Random  pro20_ade_p4_log       0.90           NaN       NaN   \n\n      Temperature  Accuracy StateAccuracy  Reward    Algo  \\\n1180          NaN  0.108955             0     NaN  Random   \n1181          NaN  0.099213             0     NaN  Random   \n1182          NaN  0.104610             0     NaN  Random   \n1183          NaN  0.117647             0     NaN  Random   \n1184          NaN  0.125296             0     NaN  Random   \n1185          NaN  0.133523             0     NaN  Random   \n1186          NaN  0.135231             0     NaN  Random   \n1187          NaN  0.109005             0     NaN  Random   \n1188          NaN  0.142857             0     NaN  Random   \n1189          NaN  0.130435             0     NaN  Random   \n1190          NaN  0.125845             0     NaN  Random   \n1191          NaN  0.112299             0     NaN  Random   \n1192          NaN  0.107322             0     NaN  Random   \n1193          NaN  0.134174             0     NaN  Random   \n1194          NaN  0.117805             0     NaN  Random   \n1195          NaN  0.114148             0     NaN  Random   \n1196          NaN  0.130522             0     NaN  Random   \n1197          NaN  0.160858             0     NaN  Random   \n1198          NaN  0.133065             0     NaN  Random   \n1199          NaN  0.138211             0     NaN  Random   \n\n      original_dataframe_index  Epsilon  \n1180                        30      NaN  \n1181                        31      NaN  \n1182                        32      NaN  \n1183                        33      NaN  \n1184                        34      NaN  \n1185                        35      NaN  \n1186                        36      NaN  \n1187                        37      NaN  \n1188                        38      NaN  \n1189                        39      NaN  \n1190                        40      NaN  \n1191                        41      NaN  \n1192                        42      NaN  \n1193                        43      NaN  \n1194                        44      NaN  \n1195                        45      NaN  \n1196                        46      NaN  \n1197                        47      NaN  \n1198                        48      NaN  \n1199                        49      NaN  ",
      "text/html": "<div>\n<style scoped>\n    .dataframe tbody tr th:only-of-type {\n        vertical-align: middle;\n    }\n\n    .dataframe tbody tr th {\n        vertical-align: top;\n    }\n\n    .dataframe thead th {\n        text-align: right;\n    }\n</style>\n<table border=\"1\" class=\"dataframe\">\n  <thead>\n    <tr style=\"text-align: right;\">\n      <th></th>\n      <th>Algorithm</th>\n      <th>User</th>\n      <th>Threshold</th>\n      <th>LearningRate</th>\n      <th>Discount</th>\n      <th>Temperature</th>\n      <th>Accuracy</th>\n      <th>StateAccuracy</th>\n      <th>Reward</th>\n      <th>Algo</th>\n      <th>original_dataframe_index</th>\n      <th>Epsilon</th>\n    </tr>\n  </thead>\n  <tbody>\n    <tr>\n      <th>1180</th>\n      <td>Random</td>\n      <td>pro18_adf_p4_log</td>\n      <td>0.05</td>\n      <td>NaN</td>\n      <td>NaN</td>\n      <td>NaN</td>\n      <td>0.108955</td>\n      <td>0</td>\n      <td>NaN</td>\n      <td>Random</td>\n      <td>30</td>\n      <td>NaN</td>\n    </tr>\n    <tr>\n      <th>1181</th>\n      <td>Random</td>\n      <td>pro18_adf_p4_log</td>\n      <td>0.10</td>\n      <td>NaN</td>\n      <td>NaN</td>\n      <td>NaN</td>\n      <td>0.099213</td>\n      <td>0</td>\n      <td>NaN</td>\n      <td>Random</td>\n      <td>31</td>\n      <td>NaN</td>\n    </tr>\n    <tr>\n      <th>1182</th>\n      <td>Random</td>\n      <td>pro18_adf_p4_log</td>\n      <td>0.20</td>\n      <td>NaN</td>\n      <td>NaN</td>\n      <td>NaN</td>\n      <td>0.104610</td>\n      <td>0</td>\n      <td>NaN</td>\n      <td>Random</td>\n      <td>32</td>\n      <td>NaN</td>\n    </tr>\n    <tr>\n      <th>1183</th>\n      <td>Random</td>\n      <td>pro18_adf_p4_log</td>\n      <td>0.30</td>\n      <td>NaN</td>\n      <td>NaN</td>\n      <td>NaN</td>\n      <td>0.117647</td>\n      <td>0</td>\n      <td>NaN</td>\n      <td>Random</td>\n      <td>33</td>\n      <td>NaN</td>\n    </tr>\n    <tr>\n      <th>1184</th>\n      <td>Random</td>\n      <td>pro18_adf_p4_log</td>\n      <td>0.40</td>\n      <td>NaN</td>\n      <td>NaN</td>\n      <td>NaN</td>\n      <td>0.125296</td>\n      <td>0</td>\n      <td>NaN</td>\n      <td>Random</td>\n      <td>34</td>\n      <td>NaN</td>\n    </tr>\n    <tr>\n      <th>1185</th>\n      <td>Random</td>\n      <td>pro18_adf_p4_log</td>\n      <td>0.50</td>\n      <td>NaN</td>\n      <td>NaN</td>\n      <td>NaN</td>\n      <td>0.133523</td>\n      <td>0</td>\n      <td>NaN</td>\n      <td>Random</td>\n      <td>35</td>\n      <td>NaN</td>\n    </tr>\n    <tr>\n      <th>1186</th>\n      <td>Random</td>\n      <td>pro18_adf_p4_log</td>\n      <td>0.60</td>\n      <td>NaN</td>\n      <td>NaN</td>\n      <td>NaN</td>\n      <td>0.135231</td>\n      <td>0</td>\n      <td>NaN</td>\n      <td>Random</td>\n      <td>36</td>\n      <td>NaN</td>\n    </tr>\n    <tr>\n      <th>1187</th>\n      <td>Random</td>\n      <td>pro18_adf_p4_log</td>\n      <td>0.70</td>\n      <td>NaN</td>\n      <td>NaN</td>\n      <td>NaN</td>\n      <td>0.109005</td>\n      <td>0</td>\n      <td>NaN</td>\n      <td>Random</td>\n      <td>37</td>\n      <td>NaN</td>\n    </tr>\n    <tr>\n      <th>1188</th>\n      <td>Random</td>\n      <td>pro18_adf_p4_log</td>\n      <td>0.80</td>\n      <td>NaN</td>\n      <td>NaN</td>\n      <td>NaN</td>\n      <td>0.142857</td>\n      <td>0</td>\n      <td>NaN</td>\n      <td>Random</td>\n      <td>38</td>\n      <td>NaN</td>\n    </tr>\n    <tr>\n      <th>1189</th>\n      <td>Random</td>\n      <td>pro18_adf_p4_log</td>\n      <td>0.90</td>\n      <td>NaN</td>\n      <td>NaN</td>\n      <td>NaN</td>\n      <td>0.130435</td>\n      <td>0</td>\n      <td>NaN</td>\n      <td>Random</td>\n      <td>39</td>\n      <td>NaN</td>\n    </tr>\n    <tr>\n      <th>1190</th>\n      <td>Random</td>\n      <td>pro20_ade_p4_log</td>\n      <td>0.05</td>\n      <td>NaN</td>\n      <td>NaN</td>\n      <td>NaN</td>\n      <td>0.125845</td>\n      <td>0</td>\n      <td>NaN</td>\n      <td>Random</td>\n      <td>40</td>\n      <td>NaN</td>\n    </tr>\n    <tr>\n      <th>1191</th>\n      <td>Random</td>\n      <td>pro20_ade_p4_log</td>\n      <td>0.10</td>\n      <td>NaN</td>\n      <td>NaN</td>\n      <td>NaN</td>\n      <td>0.112299</td>\n      <td>0</td>\n      <td>NaN</td>\n      <td>Random</td>\n      <td>41</td>\n      <td>NaN</td>\n    </tr>\n    <tr>\n      <th>1192</th>\n      <td>Random</td>\n      <td>pro20_ade_p4_log</td>\n      <td>0.20</td>\n      <td>NaN</td>\n      <td>NaN</td>\n      <td>NaN</td>\n      <td>0.107322</td>\n      <td>0</td>\n      <td>NaN</td>\n      <td>Random</td>\n      <td>42</td>\n      <td>NaN</td>\n    </tr>\n    <tr>\n      <th>1193</th>\n      <td>Random</td>\n      <td>pro20_ade_p4_log</td>\n      <td>0.30</td>\n      <td>NaN</td>\n      <td>NaN</td>\n      <td>NaN</td>\n      <td>0.134174</td>\n      <td>0</td>\n      <td>NaN</td>\n      <td>Random</td>\n      <td>43</td>\n      <td>NaN</td>\n    </tr>\n    <tr>\n      <th>1194</th>\n      <td>Random</td>\n      <td>pro20_ade_p4_log</td>\n      <td>0.40</td>\n      <td>NaN</td>\n      <td>NaN</td>\n      <td>NaN</td>\n      <td>0.117805</td>\n      <td>0</td>\n      <td>NaN</td>\n      <td>Random</td>\n      <td>44</td>\n      <td>NaN</td>\n    </tr>\n    <tr>\n      <th>1195</th>\n      <td>Random</td>\n      <td>pro20_ade_p4_log</td>\n      <td>0.50</td>\n      <td>NaN</td>\n      <td>NaN</td>\n      <td>NaN</td>\n      <td>0.114148</td>\n      <td>0</td>\n      <td>NaN</td>\n      <td>Random</td>\n      <td>45</td>\n      <td>NaN</td>\n    </tr>\n    <tr>\n      <th>1196</th>\n      <td>Random</td>\n      <td>pro20_ade_p4_log</td>\n      <td>0.60</td>\n      <td>NaN</td>\n      <td>NaN</td>\n      <td>NaN</td>\n      <td>0.130522</td>\n      <td>0</td>\n      <td>NaN</td>\n      <td>Random</td>\n      <td>46</td>\n      <td>NaN</td>\n    </tr>\n    <tr>\n      <th>1197</th>\n      <td>Random</td>\n      <td>pro20_ade_p4_log</td>\n      <td>0.70</td>\n      <td>NaN</td>\n      <td>NaN</td>\n      <td>NaN</td>\n      <td>0.160858</td>\n      <td>0</td>\n      <td>NaN</td>\n      <td>Random</td>\n      <td>47</td>\n      <td>NaN</td>\n    </tr>\n    <tr>\n      <th>1198</th>\n      <td>Random</td>\n      <td>pro20_ade_p4_log</td>\n      <td>0.80</td>\n      <td>NaN</td>\n      <td>NaN</td>\n      <td>NaN</td>\n      <td>0.133065</td>\n      <td>0</td>\n      <td>NaN</td>\n      <td>Random</td>\n      <td>48</td>\n      <td>NaN</td>\n    </tr>\n    <tr>\n      <th>1199</th>\n      <td>Random</td>\n      <td>pro20_ade_p4_log</td>\n      <td>0.90</td>\n      <td>NaN</td>\n      <td>NaN</td>\n      <td>NaN</td>\n      <td>0.138211</td>\n      <td>0</td>\n      <td>NaN</td>\n      <td>Random</td>\n      <td>49</td>\n      <td>NaN</td>\n    </tr>\n  </tbody>\n</table>\n</div>"
     },
     "execution_count": 32,
     "metadata": {},
     "output_type": "execute_result"
    }
   ],
   "source": [
    "df_combined.tail(20)\n"
   ]
  },
  {
   "cell_type": "code",
   "execution_count": 33,
   "metadata": {
    "ExecuteTime": {
     "end_time": "2023-12-04T18:29:17.657528Z",
     "start_time": "2023-12-04T18:29:17.651966Z"
    }
   },
   "outputs": [],
   "source": [
    "def update_array_column(arr):\n",
    "    return np.where(arr == 0, 1, arr)"
   ]
  },
  {
   "cell_type": "code",
   "execution_count": 34,
   "metadata": {
    "ExecuteTime": {
     "end_time": "2023-12-04T18:29:18.254922Z",
     "start_time": "2023-12-04T18:29:18.220205Z"
    }
   },
   "outputs": [
    {
     "ename": "TypeError",
     "evalue": "'int' object is not iterable",
     "output_type": "error",
     "traceback": [
      "\u001B[0;31m---------------------------------------------------------------------------\u001B[0m",
      "\u001B[0;31mTypeError\u001B[0m                                 Traceback (most recent call last)",
      "Cell \u001B[0;32mIn[34], line 1\u001B[0m\n\u001B[0;32m----> 1\u001B[0m df_combined[\u001B[38;5;124m'\u001B[39m\u001B[38;5;124mStateAccuracy\u001B[39m\u001B[38;5;124m'\u001B[39m] \u001B[38;5;241m=\u001B[39m \u001B[43mdf_combined\u001B[49m\u001B[43m[\u001B[49m\u001B[38;5;124;43m'\u001B[39;49m\u001B[38;5;124;43mStateAccuracy\u001B[39;49m\u001B[38;5;124;43m'\u001B[39;49m\u001B[43m]\u001B[49m\u001B[38;5;241;43m.\u001B[39;49m\u001B[43mapply\u001B[49m\u001B[43m(\u001B[49m\u001B[38;5;28;43;01mlambda\u001B[39;49;00m\u001B[43m \u001B[49m\u001B[43marr\u001B[49m\u001B[43m:\u001B[49m\u001B[43m \u001B[49m\u001B[43m[\u001B[49m\u001B[38;5;241;43m1\u001B[39;49m\u001B[43m \u001B[49m\u001B[38;5;28;43;01mif\u001B[39;49;00m\u001B[43m \u001B[49m\u001B[43mx\u001B[49m\u001B[43m \u001B[49m\u001B[38;5;241;43m==\u001B[39;49m\u001B[43m \u001B[49m\u001B[38;5;241;43m0\u001B[39;49m\u001B[43m \u001B[49m\u001B[38;5;28;43;01melse\u001B[39;49;00m\u001B[43m \u001B[49m\u001B[43mx\u001B[49m\u001B[43m \u001B[49m\u001B[38;5;28;43;01mfor\u001B[39;49;00m\u001B[43m \u001B[49m\u001B[43mx\u001B[49m\u001B[43m \u001B[49m\u001B[38;5;129;43;01min\u001B[39;49;00m\u001B[43m \u001B[49m\u001B[43marr\u001B[49m\u001B[43m]\u001B[49m\u001B[43m)\u001B[49m\n",
      "File \u001B[0;32m~/anaconda3/envs/ForeCache-Master/lib/python3.9/site-packages/pandas/core/series.py:4758\u001B[0m, in \u001B[0;36mSeries.apply\u001B[0;34m(self, func, convert_dtype, args, by_row, **kwargs)\u001B[0m\n\u001B[1;32m   4625\u001B[0m \u001B[38;5;28;01mdef\u001B[39;00m \u001B[38;5;21mapply\u001B[39m(\n\u001B[1;32m   4626\u001B[0m     \u001B[38;5;28mself\u001B[39m,\n\u001B[1;32m   4627\u001B[0m     func: AggFuncType,\n\u001B[0;32m   (...)\u001B[0m\n\u001B[1;32m   4632\u001B[0m     \u001B[38;5;241m*\u001B[39m\u001B[38;5;241m*\u001B[39mkwargs,\n\u001B[1;32m   4633\u001B[0m ) \u001B[38;5;241m-\u001B[39m\u001B[38;5;241m>\u001B[39m DataFrame \u001B[38;5;241m|\u001B[39m Series:\n\u001B[1;32m   4634\u001B[0m \u001B[38;5;250m    \u001B[39m\u001B[38;5;124;03m\"\"\"\u001B[39;00m\n\u001B[1;32m   4635\u001B[0m \u001B[38;5;124;03m    Invoke function on values of Series.\u001B[39;00m\n\u001B[1;32m   4636\u001B[0m \n\u001B[0;32m   (...)\u001B[0m\n\u001B[1;32m   4756\u001B[0m \u001B[38;5;124;03m    dtype: float64\u001B[39;00m\n\u001B[1;32m   4757\u001B[0m \u001B[38;5;124;03m    \"\"\"\u001B[39;00m\n\u001B[0;32m-> 4758\u001B[0m     \u001B[38;5;28;01mreturn\u001B[39;00m \u001B[43mSeriesApply\u001B[49m\u001B[43m(\u001B[49m\n\u001B[1;32m   4759\u001B[0m \u001B[43m        \u001B[49m\u001B[38;5;28;43mself\u001B[39;49m\u001B[43m,\u001B[49m\n\u001B[1;32m   4760\u001B[0m \u001B[43m        \u001B[49m\u001B[43mfunc\u001B[49m\u001B[43m,\u001B[49m\n\u001B[1;32m   4761\u001B[0m \u001B[43m        \u001B[49m\u001B[43mconvert_dtype\u001B[49m\u001B[38;5;241;43m=\u001B[39;49m\u001B[43mconvert_dtype\u001B[49m\u001B[43m,\u001B[49m\n\u001B[1;32m   4762\u001B[0m \u001B[43m        \u001B[49m\u001B[43mby_row\u001B[49m\u001B[38;5;241;43m=\u001B[39;49m\u001B[43mby_row\u001B[49m\u001B[43m,\u001B[49m\n\u001B[1;32m   4763\u001B[0m \u001B[43m        \u001B[49m\u001B[43margs\u001B[49m\u001B[38;5;241;43m=\u001B[39;49m\u001B[43margs\u001B[49m\u001B[43m,\u001B[49m\n\u001B[1;32m   4764\u001B[0m \u001B[43m        \u001B[49m\u001B[43mkwargs\u001B[49m\u001B[38;5;241;43m=\u001B[39;49m\u001B[43mkwargs\u001B[49m\u001B[43m,\u001B[49m\n\u001B[1;32m   4765\u001B[0m \u001B[43m    \u001B[49m\u001B[43m)\u001B[49m\u001B[38;5;241;43m.\u001B[39;49m\u001B[43mapply\u001B[49m\u001B[43m(\u001B[49m\u001B[43m)\u001B[49m\n",
      "File \u001B[0;32m~/anaconda3/envs/ForeCache-Master/lib/python3.9/site-packages/pandas/core/apply.py:1201\u001B[0m, in \u001B[0;36mSeriesApply.apply\u001B[0;34m(self)\u001B[0m\n\u001B[1;32m   1198\u001B[0m     \u001B[38;5;28;01mreturn\u001B[39;00m \u001B[38;5;28mself\u001B[39m\u001B[38;5;241m.\u001B[39mapply_compat()\n\u001B[1;32m   1200\u001B[0m \u001B[38;5;66;03m# self.func is Callable\u001B[39;00m\n\u001B[0;32m-> 1201\u001B[0m \u001B[38;5;28;01mreturn\u001B[39;00m \u001B[38;5;28;43mself\u001B[39;49m\u001B[38;5;241;43m.\u001B[39;49m\u001B[43mapply_standard\u001B[49m\u001B[43m(\u001B[49m\u001B[43m)\u001B[49m\n",
      "File \u001B[0;32m~/anaconda3/envs/ForeCache-Master/lib/python3.9/site-packages/pandas/core/apply.py:1281\u001B[0m, in \u001B[0;36mSeriesApply.apply_standard\u001B[0;34m(self)\u001B[0m\n\u001B[1;32m   1275\u001B[0m \u001B[38;5;66;03m# row-wise access\u001B[39;00m\n\u001B[1;32m   1276\u001B[0m \u001B[38;5;66;03m# apply doesn't have a `na_action` keyword and for backward compat reasons\u001B[39;00m\n\u001B[1;32m   1277\u001B[0m \u001B[38;5;66;03m# we need to give `na_action=\"ignore\"` for categorical data.\u001B[39;00m\n\u001B[1;32m   1278\u001B[0m \u001B[38;5;66;03m# TODO: remove the `na_action=\"ignore\"` when that default has been changed in\u001B[39;00m\n\u001B[1;32m   1279\u001B[0m \u001B[38;5;66;03m#  Categorical (GH51645).\u001B[39;00m\n\u001B[1;32m   1280\u001B[0m action \u001B[38;5;241m=\u001B[39m \u001B[38;5;124m\"\u001B[39m\u001B[38;5;124mignore\u001B[39m\u001B[38;5;124m\"\u001B[39m \u001B[38;5;28;01mif\u001B[39;00m \u001B[38;5;28misinstance\u001B[39m(obj\u001B[38;5;241m.\u001B[39mdtype, CategoricalDtype) \u001B[38;5;28;01melse\u001B[39;00m \u001B[38;5;28;01mNone\u001B[39;00m\n\u001B[0;32m-> 1281\u001B[0m mapped \u001B[38;5;241m=\u001B[39m \u001B[43mobj\u001B[49m\u001B[38;5;241;43m.\u001B[39;49m\u001B[43m_map_values\u001B[49m\u001B[43m(\u001B[49m\n\u001B[1;32m   1282\u001B[0m \u001B[43m    \u001B[49m\u001B[43mmapper\u001B[49m\u001B[38;5;241;43m=\u001B[39;49m\u001B[43mcurried\u001B[49m\u001B[43m,\u001B[49m\u001B[43m \u001B[49m\u001B[43mna_action\u001B[49m\u001B[38;5;241;43m=\u001B[39;49m\u001B[43maction\u001B[49m\u001B[43m,\u001B[49m\u001B[43m \u001B[49m\u001B[43mconvert\u001B[49m\u001B[38;5;241;43m=\u001B[39;49m\u001B[38;5;28;43mself\u001B[39;49m\u001B[38;5;241;43m.\u001B[39;49m\u001B[43mconvert_dtype\u001B[49m\n\u001B[1;32m   1283\u001B[0m \u001B[43m\u001B[49m\u001B[43m)\u001B[49m\n\u001B[1;32m   1285\u001B[0m \u001B[38;5;28;01mif\u001B[39;00m \u001B[38;5;28mlen\u001B[39m(mapped) \u001B[38;5;129;01mand\u001B[39;00m \u001B[38;5;28misinstance\u001B[39m(mapped[\u001B[38;5;241m0\u001B[39m], ABCSeries):\n\u001B[1;32m   1286\u001B[0m     warnings\u001B[38;5;241m.\u001B[39mwarn(\n\u001B[1;32m   1287\u001B[0m         \u001B[38;5;124m\"\u001B[39m\u001B[38;5;124mReturning a DataFrame from Series.apply when the supplied function \u001B[39m\u001B[38;5;124m\"\u001B[39m\n\u001B[1;32m   1288\u001B[0m         \u001B[38;5;124m\"\u001B[39m\u001B[38;5;124mreturns a Series is deprecated and will be removed in a future \u001B[39m\u001B[38;5;124m\"\u001B[39m\n\u001B[0;32m   (...)\u001B[0m\n\u001B[1;32m   1291\u001B[0m         stacklevel\u001B[38;5;241m=\u001B[39mfind_stack_level(),\n\u001B[1;32m   1292\u001B[0m     )  \u001B[38;5;66;03m# GH52116\u001B[39;00m\n",
      "File \u001B[0;32m~/anaconda3/envs/ForeCache-Master/lib/python3.9/site-packages/pandas/core/base.py:921\u001B[0m, in \u001B[0;36mIndexOpsMixin._map_values\u001B[0;34m(self, mapper, na_action, convert)\u001B[0m\n\u001B[1;32m    918\u001B[0m \u001B[38;5;28;01mif\u001B[39;00m \u001B[38;5;28misinstance\u001B[39m(arr, ExtensionArray):\n\u001B[1;32m    919\u001B[0m     \u001B[38;5;28;01mreturn\u001B[39;00m arr\u001B[38;5;241m.\u001B[39mmap(mapper, na_action\u001B[38;5;241m=\u001B[39mna_action)\n\u001B[0;32m--> 921\u001B[0m \u001B[38;5;28;01mreturn\u001B[39;00m \u001B[43malgorithms\u001B[49m\u001B[38;5;241;43m.\u001B[39;49m\u001B[43mmap_array\u001B[49m\u001B[43m(\u001B[49m\u001B[43marr\u001B[49m\u001B[43m,\u001B[49m\u001B[43m \u001B[49m\u001B[43mmapper\u001B[49m\u001B[43m,\u001B[49m\u001B[43m \u001B[49m\u001B[43mna_action\u001B[49m\u001B[38;5;241;43m=\u001B[39;49m\u001B[43mna_action\u001B[49m\u001B[43m,\u001B[49m\u001B[43m \u001B[49m\u001B[43mconvert\u001B[49m\u001B[38;5;241;43m=\u001B[39;49m\u001B[43mconvert\u001B[49m\u001B[43m)\u001B[49m\n",
      "File \u001B[0;32m~/anaconda3/envs/ForeCache-Master/lib/python3.9/site-packages/pandas/core/algorithms.py:1812\u001B[0m, in \u001B[0;36mmap_array\u001B[0;34m(arr, mapper, na_action, convert)\u001B[0m\n\u001B[1;32m   1810\u001B[0m values \u001B[38;5;241m=\u001B[39m arr\u001B[38;5;241m.\u001B[39mastype(\u001B[38;5;28mobject\u001B[39m, copy\u001B[38;5;241m=\u001B[39m\u001B[38;5;28;01mFalse\u001B[39;00m)\n\u001B[1;32m   1811\u001B[0m \u001B[38;5;28;01mif\u001B[39;00m na_action \u001B[38;5;129;01mis\u001B[39;00m \u001B[38;5;28;01mNone\u001B[39;00m:\n\u001B[0;32m-> 1812\u001B[0m     \u001B[38;5;28;01mreturn\u001B[39;00m \u001B[43mlib\u001B[49m\u001B[38;5;241;43m.\u001B[39;49m\u001B[43mmap_infer\u001B[49m\u001B[43m(\u001B[49m\u001B[43mvalues\u001B[49m\u001B[43m,\u001B[49m\u001B[43m \u001B[49m\u001B[43mmapper\u001B[49m\u001B[43m,\u001B[49m\u001B[43m \u001B[49m\u001B[43mconvert\u001B[49m\u001B[38;5;241;43m=\u001B[39;49m\u001B[43mconvert\u001B[49m\u001B[43m)\u001B[49m\n\u001B[1;32m   1813\u001B[0m \u001B[38;5;28;01melse\u001B[39;00m:\n\u001B[1;32m   1814\u001B[0m     \u001B[38;5;28;01mreturn\u001B[39;00m lib\u001B[38;5;241m.\u001B[39mmap_infer_mask(\n\u001B[1;32m   1815\u001B[0m         values, mapper, mask\u001B[38;5;241m=\u001B[39misna(values)\u001B[38;5;241m.\u001B[39mview(np\u001B[38;5;241m.\u001B[39muint8), convert\u001B[38;5;241m=\u001B[39mconvert\n\u001B[1;32m   1816\u001B[0m     )\n",
      "File \u001B[0;32mlib.pyx:2917\u001B[0m, in \u001B[0;36mpandas._libs.lib.map_infer\u001B[0;34m()\u001B[0m\n",
      "Cell \u001B[0;32mIn[34], line 1\u001B[0m, in \u001B[0;36m<lambda>\u001B[0;34m(arr)\u001B[0m\n\u001B[0;32m----> 1\u001B[0m df_combined[\u001B[38;5;124m'\u001B[39m\u001B[38;5;124mStateAccuracy\u001B[39m\u001B[38;5;124m'\u001B[39m] \u001B[38;5;241m=\u001B[39m df_combined[\u001B[38;5;124m'\u001B[39m\u001B[38;5;124mStateAccuracy\u001B[39m\u001B[38;5;124m'\u001B[39m]\u001B[38;5;241m.\u001B[39mapply(\u001B[38;5;28;01mlambda\u001B[39;00m arr: [\u001B[38;5;241m1\u001B[39m \u001B[38;5;28;01mif\u001B[39;00m x \u001B[38;5;241m==\u001B[39m \u001B[38;5;241m0\u001B[39m \u001B[38;5;28;01melse\u001B[39;00m x \u001B[38;5;28;01mfor\u001B[39;00m x \u001B[38;5;129;01min\u001B[39;00m arr])\n",
      "\u001B[0;31mTypeError\u001B[0m: 'int' object is not iterable"
     ]
    }
   ],
   "source": [
    "\n",
    "df_combined['StateAccuracy'] = df_combined['StateAccuracy'].apply(lambda arr: [1 if x == 0 else x for x in arr])\n"
   ]
  },
  {
   "cell_type": "code",
   "execution_count": 35,
   "metadata": {
    "ExecuteTime": {
     "end_time": "2023-12-04T18:29:18.981843Z",
     "start_time": "2023-12-04T18:29:18.979865Z"
    }
   },
   "outputs": [
    {
     "data": {
      "text/plain": "     Algorithm              User  Threshold  LearningRate  Discount  \\\n1180    Random  pro18_adf_p4_log       0.05           NaN       NaN   \n1181    Random  pro18_adf_p4_log       0.10           NaN       NaN   \n1182    Random  pro18_adf_p4_log       0.20           NaN       NaN   \n1183    Random  pro18_adf_p4_log       0.30           NaN       NaN   \n1184    Random  pro18_adf_p4_log       0.40           NaN       NaN   \n1185    Random  pro18_adf_p4_log       0.50           NaN       NaN   \n1186    Random  pro18_adf_p4_log       0.60           NaN       NaN   \n1187    Random  pro18_adf_p4_log       0.70           NaN       NaN   \n1188    Random  pro18_adf_p4_log       0.80           NaN       NaN   \n1189    Random  pro18_adf_p4_log       0.90           NaN       NaN   \n1190    Random  pro20_ade_p4_log       0.05           NaN       NaN   \n1191    Random  pro20_ade_p4_log       0.10           NaN       NaN   \n1192    Random  pro20_ade_p4_log       0.20           NaN       NaN   \n1193    Random  pro20_ade_p4_log       0.30           NaN       NaN   \n1194    Random  pro20_ade_p4_log       0.40           NaN       NaN   \n1195    Random  pro20_ade_p4_log       0.50           NaN       NaN   \n1196    Random  pro20_ade_p4_log       0.60           NaN       NaN   \n1197    Random  pro20_ade_p4_log       0.70           NaN       NaN   \n1198    Random  pro20_ade_p4_log       0.80           NaN       NaN   \n1199    Random  pro20_ade_p4_log       0.90           NaN       NaN   \n\n      Temperature  Accuracy StateAccuracy  Reward    Algo  \\\n1180          NaN  0.108955             0     NaN  Random   \n1181          NaN  0.099213             0     NaN  Random   \n1182          NaN  0.104610             0     NaN  Random   \n1183          NaN  0.117647             0     NaN  Random   \n1184          NaN  0.125296             0     NaN  Random   \n1185          NaN  0.133523             0     NaN  Random   \n1186          NaN  0.135231             0     NaN  Random   \n1187          NaN  0.109005             0     NaN  Random   \n1188          NaN  0.142857             0     NaN  Random   \n1189          NaN  0.130435             0     NaN  Random   \n1190          NaN  0.125845             0     NaN  Random   \n1191          NaN  0.112299             0     NaN  Random   \n1192          NaN  0.107322             0     NaN  Random   \n1193          NaN  0.134174             0     NaN  Random   \n1194          NaN  0.117805             0     NaN  Random   \n1195          NaN  0.114148             0     NaN  Random   \n1196          NaN  0.130522             0     NaN  Random   \n1197          NaN  0.160858             0     NaN  Random   \n1198          NaN  0.133065             0     NaN  Random   \n1199          NaN  0.138211             0     NaN  Random   \n\n      original_dataframe_index  Epsilon  \n1180                        30      NaN  \n1181                        31      NaN  \n1182                        32      NaN  \n1183                        33      NaN  \n1184                        34      NaN  \n1185                        35      NaN  \n1186                        36      NaN  \n1187                        37      NaN  \n1188                        38      NaN  \n1189                        39      NaN  \n1190                        40      NaN  \n1191                        41      NaN  \n1192                        42      NaN  \n1193                        43      NaN  \n1194                        44      NaN  \n1195                        45      NaN  \n1196                        46      NaN  \n1197                        47      NaN  \n1198                        48      NaN  \n1199                        49      NaN  ",
      "text/html": "<div>\n<style scoped>\n    .dataframe tbody tr th:only-of-type {\n        vertical-align: middle;\n    }\n\n    .dataframe tbody tr th {\n        vertical-align: top;\n    }\n\n    .dataframe thead th {\n        text-align: right;\n    }\n</style>\n<table border=\"1\" class=\"dataframe\">\n  <thead>\n    <tr style=\"text-align: right;\">\n      <th></th>\n      <th>Algorithm</th>\n      <th>User</th>\n      <th>Threshold</th>\n      <th>LearningRate</th>\n      <th>Discount</th>\n      <th>Temperature</th>\n      <th>Accuracy</th>\n      <th>StateAccuracy</th>\n      <th>Reward</th>\n      <th>Algo</th>\n      <th>original_dataframe_index</th>\n      <th>Epsilon</th>\n    </tr>\n  </thead>\n  <tbody>\n    <tr>\n      <th>1180</th>\n      <td>Random</td>\n      <td>pro18_adf_p4_log</td>\n      <td>0.05</td>\n      <td>NaN</td>\n      <td>NaN</td>\n      <td>NaN</td>\n      <td>0.108955</td>\n      <td>0</td>\n      <td>NaN</td>\n      <td>Random</td>\n      <td>30</td>\n      <td>NaN</td>\n    </tr>\n    <tr>\n      <th>1181</th>\n      <td>Random</td>\n      <td>pro18_adf_p4_log</td>\n      <td>0.10</td>\n      <td>NaN</td>\n      <td>NaN</td>\n      <td>NaN</td>\n      <td>0.099213</td>\n      <td>0</td>\n      <td>NaN</td>\n      <td>Random</td>\n      <td>31</td>\n      <td>NaN</td>\n    </tr>\n    <tr>\n      <th>1182</th>\n      <td>Random</td>\n      <td>pro18_adf_p4_log</td>\n      <td>0.20</td>\n      <td>NaN</td>\n      <td>NaN</td>\n      <td>NaN</td>\n      <td>0.104610</td>\n      <td>0</td>\n      <td>NaN</td>\n      <td>Random</td>\n      <td>32</td>\n      <td>NaN</td>\n    </tr>\n    <tr>\n      <th>1183</th>\n      <td>Random</td>\n      <td>pro18_adf_p4_log</td>\n      <td>0.30</td>\n      <td>NaN</td>\n      <td>NaN</td>\n      <td>NaN</td>\n      <td>0.117647</td>\n      <td>0</td>\n      <td>NaN</td>\n      <td>Random</td>\n      <td>33</td>\n      <td>NaN</td>\n    </tr>\n    <tr>\n      <th>1184</th>\n      <td>Random</td>\n      <td>pro18_adf_p4_log</td>\n      <td>0.40</td>\n      <td>NaN</td>\n      <td>NaN</td>\n      <td>NaN</td>\n      <td>0.125296</td>\n      <td>0</td>\n      <td>NaN</td>\n      <td>Random</td>\n      <td>34</td>\n      <td>NaN</td>\n    </tr>\n    <tr>\n      <th>1185</th>\n      <td>Random</td>\n      <td>pro18_adf_p4_log</td>\n      <td>0.50</td>\n      <td>NaN</td>\n      <td>NaN</td>\n      <td>NaN</td>\n      <td>0.133523</td>\n      <td>0</td>\n      <td>NaN</td>\n      <td>Random</td>\n      <td>35</td>\n      <td>NaN</td>\n    </tr>\n    <tr>\n      <th>1186</th>\n      <td>Random</td>\n      <td>pro18_adf_p4_log</td>\n      <td>0.60</td>\n      <td>NaN</td>\n      <td>NaN</td>\n      <td>NaN</td>\n      <td>0.135231</td>\n      <td>0</td>\n      <td>NaN</td>\n      <td>Random</td>\n      <td>36</td>\n      <td>NaN</td>\n    </tr>\n    <tr>\n      <th>1187</th>\n      <td>Random</td>\n      <td>pro18_adf_p4_log</td>\n      <td>0.70</td>\n      <td>NaN</td>\n      <td>NaN</td>\n      <td>NaN</td>\n      <td>0.109005</td>\n      <td>0</td>\n      <td>NaN</td>\n      <td>Random</td>\n      <td>37</td>\n      <td>NaN</td>\n    </tr>\n    <tr>\n      <th>1188</th>\n      <td>Random</td>\n      <td>pro18_adf_p4_log</td>\n      <td>0.80</td>\n      <td>NaN</td>\n      <td>NaN</td>\n      <td>NaN</td>\n      <td>0.142857</td>\n      <td>0</td>\n      <td>NaN</td>\n      <td>Random</td>\n      <td>38</td>\n      <td>NaN</td>\n    </tr>\n    <tr>\n      <th>1189</th>\n      <td>Random</td>\n      <td>pro18_adf_p4_log</td>\n      <td>0.90</td>\n      <td>NaN</td>\n      <td>NaN</td>\n      <td>NaN</td>\n      <td>0.130435</td>\n      <td>0</td>\n      <td>NaN</td>\n      <td>Random</td>\n      <td>39</td>\n      <td>NaN</td>\n    </tr>\n    <tr>\n      <th>1190</th>\n      <td>Random</td>\n      <td>pro20_ade_p4_log</td>\n      <td>0.05</td>\n      <td>NaN</td>\n      <td>NaN</td>\n      <td>NaN</td>\n      <td>0.125845</td>\n      <td>0</td>\n      <td>NaN</td>\n      <td>Random</td>\n      <td>40</td>\n      <td>NaN</td>\n    </tr>\n    <tr>\n      <th>1191</th>\n      <td>Random</td>\n      <td>pro20_ade_p4_log</td>\n      <td>0.10</td>\n      <td>NaN</td>\n      <td>NaN</td>\n      <td>NaN</td>\n      <td>0.112299</td>\n      <td>0</td>\n      <td>NaN</td>\n      <td>Random</td>\n      <td>41</td>\n      <td>NaN</td>\n    </tr>\n    <tr>\n      <th>1192</th>\n      <td>Random</td>\n      <td>pro20_ade_p4_log</td>\n      <td>0.20</td>\n      <td>NaN</td>\n      <td>NaN</td>\n      <td>NaN</td>\n      <td>0.107322</td>\n      <td>0</td>\n      <td>NaN</td>\n      <td>Random</td>\n      <td>42</td>\n      <td>NaN</td>\n    </tr>\n    <tr>\n      <th>1193</th>\n      <td>Random</td>\n      <td>pro20_ade_p4_log</td>\n      <td>0.30</td>\n      <td>NaN</td>\n      <td>NaN</td>\n      <td>NaN</td>\n      <td>0.134174</td>\n      <td>0</td>\n      <td>NaN</td>\n      <td>Random</td>\n      <td>43</td>\n      <td>NaN</td>\n    </tr>\n    <tr>\n      <th>1194</th>\n      <td>Random</td>\n      <td>pro20_ade_p4_log</td>\n      <td>0.40</td>\n      <td>NaN</td>\n      <td>NaN</td>\n      <td>NaN</td>\n      <td>0.117805</td>\n      <td>0</td>\n      <td>NaN</td>\n      <td>Random</td>\n      <td>44</td>\n      <td>NaN</td>\n    </tr>\n    <tr>\n      <th>1195</th>\n      <td>Random</td>\n      <td>pro20_ade_p4_log</td>\n      <td>0.50</td>\n      <td>NaN</td>\n      <td>NaN</td>\n      <td>NaN</td>\n      <td>0.114148</td>\n      <td>0</td>\n      <td>NaN</td>\n      <td>Random</td>\n      <td>45</td>\n      <td>NaN</td>\n    </tr>\n    <tr>\n      <th>1196</th>\n      <td>Random</td>\n      <td>pro20_ade_p4_log</td>\n      <td>0.60</td>\n      <td>NaN</td>\n      <td>NaN</td>\n      <td>NaN</td>\n      <td>0.130522</td>\n      <td>0</td>\n      <td>NaN</td>\n      <td>Random</td>\n      <td>46</td>\n      <td>NaN</td>\n    </tr>\n    <tr>\n      <th>1197</th>\n      <td>Random</td>\n      <td>pro20_ade_p4_log</td>\n      <td>0.70</td>\n      <td>NaN</td>\n      <td>NaN</td>\n      <td>NaN</td>\n      <td>0.160858</td>\n      <td>0</td>\n      <td>NaN</td>\n      <td>Random</td>\n      <td>47</td>\n      <td>NaN</td>\n    </tr>\n    <tr>\n      <th>1198</th>\n      <td>Random</td>\n      <td>pro20_ade_p4_log</td>\n      <td>0.80</td>\n      <td>NaN</td>\n      <td>NaN</td>\n      <td>NaN</td>\n      <td>0.133065</td>\n      <td>0</td>\n      <td>NaN</td>\n      <td>Random</td>\n      <td>48</td>\n      <td>NaN</td>\n    </tr>\n    <tr>\n      <th>1199</th>\n      <td>Random</td>\n      <td>pro20_ade_p4_log</td>\n      <td>0.90</td>\n      <td>NaN</td>\n      <td>NaN</td>\n      <td>NaN</td>\n      <td>0.138211</td>\n      <td>0</td>\n      <td>NaN</td>\n      <td>Random</td>\n      <td>49</td>\n      <td>NaN</td>\n    </tr>\n  </tbody>\n</table>\n</div>"
     },
     "execution_count": 35,
     "metadata": {},
     "output_type": "execute_result"
    }
   ],
   "source": [
    "df_combined.tail(20)"
   ]
  },
  {
   "cell_type": "code",
   "execution_count": 36,
   "metadata": {
    "collapsed": false,
    "ExecuteTime": {
     "end_time": "2023-12-04T18:29:19.685458Z",
     "start_time": "2023-12-04T18:29:19.677298Z"
    }
   },
   "outputs": [],
   "source": [
    "df_combined.to_csv(\"/Users/aryal/Desktop/ForeCache/foreCache-interaction/ForeCache_Models/Experiments_Folder/viz-rec-experiments-master.csv\", index=False)"
   ]
  },
  {
   "cell_type": "code",
   "execution_count": 18,
   "metadata": {
    "ExecuteTime": {
     "end_time": "2023-09-05T17:36:19.088890Z",
     "start_time": "2023-09-05T17:36:19.027561Z"
    }
   },
   "outputs": [
    {
     "ename": "NameError",
     "evalue": "name 'dgfdf' is not defined",
     "output_type": "error",
     "traceback": [
      "\u001B[0;31m---------------------------------------------------------------------------\u001B[0m",
      "\u001B[0;31mNameError\u001B[0m                                 Traceback (most recent call last)",
      "Cell \u001B[0;32mIn[18], line 1\u001B[0m\n\u001B[0;32m----> 1\u001B[0m \u001B[43mdgfdf\u001B[49m\n",
      "\u001B[0;31mNameError\u001B[0m: name 'dgfdf' is not defined"
     ]
    }
   ],
   "source": []
  },
  {
   "cell_type": "code",
   "execution_count": null,
   "outputs": [],
   "source": [],
   "metadata": {
    "collapsed": false
   }
  }
 ],
 "metadata": {
  "kernelspec": {
   "display_name": "Python 3",
   "language": "python",
   "name": "python3"
  },
  "language_info": {
   "codemirror_mode": {
    "name": "ipython",
    "version": 3
   },
   "file_extension": ".py",
   "mimetype": "text/x-python",
   "name": "python",
   "nbconvert_exporter": "python",
   "pygments_lexer": "ipython3",
   "version": "3.9.6"
  }
 },
 "nbformat": 4,
 "nbformat_minor": 0
}
