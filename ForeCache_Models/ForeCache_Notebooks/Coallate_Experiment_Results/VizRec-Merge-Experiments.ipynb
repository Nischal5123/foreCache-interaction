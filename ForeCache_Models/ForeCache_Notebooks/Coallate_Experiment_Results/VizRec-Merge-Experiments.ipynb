{
 "cells": [
  {
   "cell_type": "code",
   "execution_count": 173,
   "metadata": {
    "collapsed": true,
    "ExecuteTime": {
     "end_time": "2023-12-06T00:59:50.203915Z",
     "start_time": "2023-12-06T00:59:50.199321Z"
    }
   },
   "outputs": [],
   "source": [
    "import numpy as np\n",
    "import pandas as pd\n",
    "from matplotlib import pyplot as plt\n",
    "\n"
   ]
  },
  {
   "cell_type": "code",
   "execution_count": 174,
   "metadata": {
    "collapsed": false,
    "ExecuteTime": {
     "end_time": "2023-12-06T00:59:50.446314Z",
     "start_time": "2023-12-06T00:59:50.435036Z"
    }
   },
   "outputs": [],
   "source": [
    "df_ac = pd.read_csv(\"/Users/aryal/Desktop/ForeCache/foreCache-interaction/ForeCache_Models/Experiments_Folder/VizRec/Actor_Critic.csv\")\n",
    "df_greedy=pd.read_csv(\"/Users/aryal/Desktop/ForeCache/foreCache-interaction/ForeCache_Models/Experiments_Folder/VizRec/Greedy.csv\")\n",
    "df_sarsa=pd.read_csv(\"/Users/aryal/Desktop/ForeCache/foreCache-interaction/ForeCache_Models/Experiments_Folder/VizRec/SARSA.csv\")\n",
    "df_qlearn=pd.read_csv(\"/Users/aryal/Desktop/ForeCache/foreCache-interaction/ForeCache_Models/Experiments_Folder/VizRec/QLearn.csv\")\n",
    "df_reinforce=pd.read_csv(\"/Users/aryal/Desktop/ForeCache/foreCache-interaction/ForeCache_Models/Experiments_Folder/VizRec/Reinforce.csv\")\n",
    "df_naive=pd.read_csv(\"/Users/aryal/Desktop/ForeCache/foreCache-interaction/ForeCache_Models/Experiments_Folder/VizRec/Naive.csv\")\n",
    "df_random=pd.read_csv('/Users/aryal/Desktop/ForeCache/foreCache-interaction/ForeCache_Models/Experiments_Folder/VizRec/Random.csv')"
   ]
  },
  {
   "cell_type": "code",
   "execution_count": 175,
   "outputs": [
    {
     "data": {
      "text/plain": "    Algorithm          User  Threshold  LearningRate  Discount  Temperature  \\\n0      QLearn  pro13_ace_p4       0.05        0.0100      0.50            0   \n1      QLearn  pro13_ace_p4       0.10        0.0010      0.80            0   \n2      QLearn  pro13_ace_p4       0.20        0.0010      0.80            0   \n3      QLearn  pro13_ace_p4       0.30        0.0001      0.05            0   \n4      QLearn  pro13_ace_p4       0.40        0.0001      0.10            0   \n..        ...           ...        ...           ...       ...          ...   \n355    QLearn   stu3_acf_p4       0.50        0.0010      0.05            0   \n356    QLearn   stu3_acf_p4       0.60        0.0001      0.05            0   \n357    QLearn   stu3_acf_p4       0.70        0.0010      0.05            0   \n358    QLearn   stu3_acf_p4       0.80        0.0001      0.10            0   \n359    QLearn   stu3_acf_p4       0.90        0.1000      0.05            0   \n\n     Accuracy  StateAccuracy    Reward  Epsilon  \n0    0.403509              0  1.008696     0.50  \n1    0.425926              0  1.009174     0.50  \n2    0.716667              0  1.010309     0.10  \n3    0.671429              0  1.011765     0.10  \n4    0.827778              0  1.013699     0.01  \n..        ...            ...       ...      ...  \n355  0.707071              0  1.005025     0.05  \n356  0.744304              0  1.006289     0.01  \n357  0.696667              0  1.008264     0.10  \n358  0.730000              0  1.012346     0.05  \n359  0.650000              0  1.024390     0.01  \n\n[360 rows x 10 columns]",
      "text/html": "<div>\n<style scoped>\n    .dataframe tbody tr th:only-of-type {\n        vertical-align: middle;\n    }\n\n    .dataframe tbody tr th {\n        vertical-align: top;\n    }\n\n    .dataframe thead th {\n        text-align: right;\n    }\n</style>\n<table border=\"1\" class=\"dataframe\">\n  <thead>\n    <tr style=\"text-align: right;\">\n      <th></th>\n      <th>Algorithm</th>\n      <th>User</th>\n      <th>Threshold</th>\n      <th>LearningRate</th>\n      <th>Discount</th>\n      <th>Temperature</th>\n      <th>Accuracy</th>\n      <th>StateAccuracy</th>\n      <th>Reward</th>\n      <th>Epsilon</th>\n    </tr>\n  </thead>\n  <tbody>\n    <tr>\n      <th>0</th>\n      <td>QLearn</td>\n      <td>pro13_ace_p4</td>\n      <td>0.05</td>\n      <td>0.0100</td>\n      <td>0.50</td>\n      <td>0</td>\n      <td>0.403509</td>\n      <td>0</td>\n      <td>1.008696</td>\n      <td>0.50</td>\n    </tr>\n    <tr>\n      <th>1</th>\n      <td>QLearn</td>\n      <td>pro13_ace_p4</td>\n      <td>0.10</td>\n      <td>0.0010</td>\n      <td>0.80</td>\n      <td>0</td>\n      <td>0.425926</td>\n      <td>0</td>\n      <td>1.009174</td>\n      <td>0.50</td>\n    </tr>\n    <tr>\n      <th>2</th>\n      <td>QLearn</td>\n      <td>pro13_ace_p4</td>\n      <td>0.20</td>\n      <td>0.0010</td>\n      <td>0.80</td>\n      <td>0</td>\n      <td>0.716667</td>\n      <td>0</td>\n      <td>1.010309</td>\n      <td>0.10</td>\n    </tr>\n    <tr>\n      <th>3</th>\n      <td>QLearn</td>\n      <td>pro13_ace_p4</td>\n      <td>0.30</td>\n      <td>0.0001</td>\n      <td>0.05</td>\n      <td>0</td>\n      <td>0.671429</td>\n      <td>0</td>\n      <td>1.011765</td>\n      <td>0.10</td>\n    </tr>\n    <tr>\n      <th>4</th>\n      <td>QLearn</td>\n      <td>pro13_ace_p4</td>\n      <td>0.40</td>\n      <td>0.0001</td>\n      <td>0.10</td>\n      <td>0</td>\n      <td>0.827778</td>\n      <td>0</td>\n      <td>1.013699</td>\n      <td>0.01</td>\n    </tr>\n    <tr>\n      <th>...</th>\n      <td>...</td>\n      <td>...</td>\n      <td>...</td>\n      <td>...</td>\n      <td>...</td>\n      <td>...</td>\n      <td>...</td>\n      <td>...</td>\n      <td>...</td>\n      <td>...</td>\n    </tr>\n    <tr>\n      <th>355</th>\n      <td>QLearn</td>\n      <td>stu3_acf_p4</td>\n      <td>0.50</td>\n      <td>0.0010</td>\n      <td>0.05</td>\n      <td>0</td>\n      <td>0.707071</td>\n      <td>0</td>\n      <td>1.005025</td>\n      <td>0.05</td>\n    </tr>\n    <tr>\n      <th>356</th>\n      <td>QLearn</td>\n      <td>stu3_acf_p4</td>\n      <td>0.60</td>\n      <td>0.0001</td>\n      <td>0.05</td>\n      <td>0</td>\n      <td>0.744304</td>\n      <td>0</td>\n      <td>1.006289</td>\n      <td>0.01</td>\n    </tr>\n    <tr>\n      <th>357</th>\n      <td>QLearn</td>\n      <td>stu3_acf_p4</td>\n      <td>0.70</td>\n      <td>0.0010</td>\n      <td>0.05</td>\n      <td>0</td>\n      <td>0.696667</td>\n      <td>0</td>\n      <td>1.008264</td>\n      <td>0.10</td>\n    </tr>\n    <tr>\n      <th>358</th>\n      <td>QLearn</td>\n      <td>stu3_acf_p4</td>\n      <td>0.80</td>\n      <td>0.0001</td>\n      <td>0.10</td>\n      <td>0</td>\n      <td>0.730000</td>\n      <td>0</td>\n      <td>1.012346</td>\n      <td>0.05</td>\n    </tr>\n    <tr>\n      <th>359</th>\n      <td>QLearn</td>\n      <td>stu3_acf_p4</td>\n      <td>0.90</td>\n      <td>0.1000</td>\n      <td>0.05</td>\n      <td>0</td>\n      <td>0.650000</td>\n      <td>0</td>\n      <td>1.024390</td>\n      <td>0.01</td>\n    </tr>\n  </tbody>\n</table>\n<p>360 rows × 10 columns</p>\n</div>"
     },
     "execution_count": 175,
     "metadata": {},
     "output_type": "execute_result"
    }
   ],
   "source": [
    "df_qlearn"
   ],
   "metadata": {
    "collapsed": false,
    "ExecuteTime": {
     "end_time": "2023-12-06T00:59:50.666986Z",
     "start_time": "2023-12-06T00:59:50.662901Z"
    }
   }
  },
  {
   "cell_type": "code",
   "execution_count": 176,
   "metadata": {
    "collapsed": false,
    "ExecuteTime": {
     "end_time": "2023-12-06T00:59:51.295038Z",
     "start_time": "2023-12-06T00:59:51.292642Z"
    }
   },
   "outputs": [],
   "source": [
    "# Add a new column to each dataframe with the name of the dataframe\n",
    "df_ac['Algo'] = 'ActorCritic'\n",
    "df_greedy['Algo'] = 'Greedy'\n",
    "df_sarsa['Algo'] = 'SARSA'\n",
    "df_qlearn['Algo'] = 'QLearn'\n",
    "df_reinforce['Algo'] = 'Reinforce'\n",
    "df_naive['Algo'] = 'Naive'\n",
    "df_random['Algo'] = 'Random'\n",
    "\n",
    "\n",
    "# Add a new column to each dataframe to keep track of the original index\n",
    "df_ac['original_dataframe_index'] = range(len(df_ac))\n",
    "df_greedy['original_dataframe_index'] = range(len(df_greedy))\n",
    "df_sarsa['original_dataframe_index'] = range(len(df_sarsa))\n",
    "df_qlearn['original_dataframe_index'] = range(len(df_qlearn))\n",
    "df_reinforce['original_dataframe_index'] = range(len(df_qlearn))\n",
    "df_naive['original_dataframe_index'] = range(len(df_naive))\n",
    "df_random['original_dataframe_index'] = range(len(df_random))\n",
    "#df_tamerq['original_dataframe_index'] = range(len(df_tamerq))\n",
    "\n",
    "# Combine the dataframes into one\n",
    "df_combined = pd.concat([df_ac, df_greedy, df_sarsa, df_qlearn,df_reinforce,df_naive,df_random])\n",
    "\n",
    "# Reset the index of the combined dataframe\n",
    "df_combined = df_combined.reset_index(drop=True)"
   ]
  },
  {
   "cell_type": "code",
   "execution_count": 177,
   "metadata": {
    "collapsed": false,
    "ExecuteTime": {
     "end_time": "2023-12-06T00:59:51.863895Z",
     "start_time": "2023-12-06T00:59:51.858168Z"
    }
   },
   "outputs": [
    {
     "data": {
      "text/plain": "     Algorithm         User  Threshold  LearningRate  Discount  Temperature  \\\n2500    Random  stu6_acf_p4       0.05           NaN       NaN          NaN   \n2501    Random  stu6_acf_p4       0.10           NaN       NaN          NaN   \n2502    Random  stu6_acf_p4       0.20           NaN       NaN          NaN   \n2503    Random  stu6_acf_p4       0.30           NaN       NaN          NaN   \n2504    Random  stu6_acf_p4       0.40           NaN       NaN          NaN   \n2505    Random  stu6_acf_p4       0.50           NaN       NaN          NaN   \n2506    Random  stu6_acf_p4       0.60           NaN       NaN          NaN   \n2507    Random  stu6_acf_p4       0.70           NaN       NaN          NaN   \n2508    Random  stu6_acf_p4       0.80           NaN       NaN          NaN   \n2509    Random  stu6_acf_p4       0.90           NaN       NaN          NaN   \n2510    Random  stu7_ade_p4       0.05           NaN       NaN          NaN   \n2511    Random  stu7_ade_p4       0.10           NaN       NaN          NaN   \n2512    Random  stu7_ade_p4       0.20           NaN       NaN          NaN   \n2513    Random  stu7_ade_p4       0.30           NaN       NaN          NaN   \n2514    Random  stu7_ade_p4       0.40           NaN       NaN          NaN   \n2515    Random  stu7_ade_p4       0.50           NaN       NaN          NaN   \n2516    Random  stu7_ade_p4       0.60           NaN       NaN          NaN   \n2517    Random  stu7_ade_p4       0.70           NaN       NaN          NaN   \n2518    Random  stu7_ade_p4       0.80           NaN       NaN          NaN   \n2519    Random  stu7_ade_p4       0.90           NaN       NaN          NaN   \n\n      Accuracy StateAccuracy  Reward  Epsilon    Algo  \\\n2500  0.111111             0     NaN      NaN  Random   \n2501  0.133333             0     NaN      NaN  Random   \n2502  0.104082             0     NaN      NaN  Random   \n2503  0.132558             0     NaN      NaN  Random   \n2504  0.126027             0     NaN      NaN  Random   \n2505  0.108197             0     NaN      NaN  Random   \n2506  0.116667             0     NaN      NaN  Random   \n2507  0.127778             0     NaN      NaN  Random   \n2508  0.113043             0     NaN      NaN  Random   \n2509  0.090909             0     NaN      NaN  Random   \n2510  0.132000             0     NaN      NaN  Random   \n2511  0.105263             0     NaN      NaN  Random   \n2512  0.114286             0     NaN      NaN  Random   \n2513  0.126027             0     NaN      NaN  Random   \n2514  0.111111             0     NaN      NaN  Random   \n2515  0.138462             0     NaN      NaN  Random   \n2516  0.146341             0     NaN      NaN  Random   \n2517  0.083871             0     NaN      NaN  Random   \n2518  0.120000             0     NaN      NaN  Random   \n2519  0.133333             0     NaN      NaN  Random   \n\n      original_dataframe_index  \n2500                       340  \n2501                       341  \n2502                       342  \n2503                       343  \n2504                       344  \n2505                       345  \n2506                       346  \n2507                       347  \n2508                       348  \n2509                       349  \n2510                       350  \n2511                       351  \n2512                       352  \n2513                       353  \n2514                       354  \n2515                       355  \n2516                       356  \n2517                       357  \n2518                       358  \n2519                       359  ",
      "text/html": "<div>\n<style scoped>\n    .dataframe tbody tr th:only-of-type {\n        vertical-align: middle;\n    }\n\n    .dataframe tbody tr th {\n        vertical-align: top;\n    }\n\n    .dataframe thead th {\n        text-align: right;\n    }\n</style>\n<table border=\"1\" class=\"dataframe\">\n  <thead>\n    <tr style=\"text-align: right;\">\n      <th></th>\n      <th>Algorithm</th>\n      <th>User</th>\n      <th>Threshold</th>\n      <th>LearningRate</th>\n      <th>Discount</th>\n      <th>Temperature</th>\n      <th>Accuracy</th>\n      <th>StateAccuracy</th>\n      <th>Reward</th>\n      <th>Epsilon</th>\n      <th>Algo</th>\n      <th>original_dataframe_index</th>\n    </tr>\n  </thead>\n  <tbody>\n    <tr>\n      <th>2500</th>\n      <td>Random</td>\n      <td>stu6_acf_p4</td>\n      <td>0.05</td>\n      <td>NaN</td>\n      <td>NaN</td>\n      <td>NaN</td>\n      <td>0.111111</td>\n      <td>0</td>\n      <td>NaN</td>\n      <td>NaN</td>\n      <td>Random</td>\n      <td>340</td>\n    </tr>\n    <tr>\n      <th>2501</th>\n      <td>Random</td>\n      <td>stu6_acf_p4</td>\n      <td>0.10</td>\n      <td>NaN</td>\n      <td>NaN</td>\n      <td>NaN</td>\n      <td>0.133333</td>\n      <td>0</td>\n      <td>NaN</td>\n      <td>NaN</td>\n      <td>Random</td>\n      <td>341</td>\n    </tr>\n    <tr>\n      <th>2502</th>\n      <td>Random</td>\n      <td>stu6_acf_p4</td>\n      <td>0.20</td>\n      <td>NaN</td>\n      <td>NaN</td>\n      <td>NaN</td>\n      <td>0.104082</td>\n      <td>0</td>\n      <td>NaN</td>\n      <td>NaN</td>\n      <td>Random</td>\n      <td>342</td>\n    </tr>\n    <tr>\n      <th>2503</th>\n      <td>Random</td>\n      <td>stu6_acf_p4</td>\n      <td>0.30</td>\n      <td>NaN</td>\n      <td>NaN</td>\n      <td>NaN</td>\n      <td>0.132558</td>\n      <td>0</td>\n      <td>NaN</td>\n      <td>NaN</td>\n      <td>Random</td>\n      <td>343</td>\n    </tr>\n    <tr>\n      <th>2504</th>\n      <td>Random</td>\n      <td>stu6_acf_p4</td>\n      <td>0.40</td>\n      <td>NaN</td>\n      <td>NaN</td>\n      <td>NaN</td>\n      <td>0.126027</td>\n      <td>0</td>\n      <td>NaN</td>\n      <td>NaN</td>\n      <td>Random</td>\n      <td>344</td>\n    </tr>\n    <tr>\n      <th>2505</th>\n      <td>Random</td>\n      <td>stu6_acf_p4</td>\n      <td>0.50</td>\n      <td>NaN</td>\n      <td>NaN</td>\n      <td>NaN</td>\n      <td>0.108197</td>\n      <td>0</td>\n      <td>NaN</td>\n      <td>NaN</td>\n      <td>Random</td>\n      <td>345</td>\n    </tr>\n    <tr>\n      <th>2506</th>\n      <td>Random</td>\n      <td>stu6_acf_p4</td>\n      <td>0.60</td>\n      <td>NaN</td>\n      <td>NaN</td>\n      <td>NaN</td>\n      <td>0.116667</td>\n      <td>0</td>\n      <td>NaN</td>\n      <td>NaN</td>\n      <td>Random</td>\n      <td>346</td>\n    </tr>\n    <tr>\n      <th>2507</th>\n      <td>Random</td>\n      <td>stu6_acf_p4</td>\n      <td>0.70</td>\n      <td>NaN</td>\n      <td>NaN</td>\n      <td>NaN</td>\n      <td>0.127778</td>\n      <td>0</td>\n      <td>NaN</td>\n      <td>NaN</td>\n      <td>Random</td>\n      <td>347</td>\n    </tr>\n    <tr>\n      <th>2508</th>\n      <td>Random</td>\n      <td>stu6_acf_p4</td>\n      <td>0.80</td>\n      <td>NaN</td>\n      <td>NaN</td>\n      <td>NaN</td>\n      <td>0.113043</td>\n      <td>0</td>\n      <td>NaN</td>\n      <td>NaN</td>\n      <td>Random</td>\n      <td>348</td>\n    </tr>\n    <tr>\n      <th>2509</th>\n      <td>Random</td>\n      <td>stu6_acf_p4</td>\n      <td>0.90</td>\n      <td>NaN</td>\n      <td>NaN</td>\n      <td>NaN</td>\n      <td>0.090909</td>\n      <td>0</td>\n      <td>NaN</td>\n      <td>NaN</td>\n      <td>Random</td>\n      <td>349</td>\n    </tr>\n    <tr>\n      <th>2510</th>\n      <td>Random</td>\n      <td>stu7_ade_p4</td>\n      <td>0.05</td>\n      <td>NaN</td>\n      <td>NaN</td>\n      <td>NaN</td>\n      <td>0.132000</td>\n      <td>0</td>\n      <td>NaN</td>\n      <td>NaN</td>\n      <td>Random</td>\n      <td>350</td>\n    </tr>\n    <tr>\n      <th>2511</th>\n      <td>Random</td>\n      <td>stu7_ade_p4</td>\n      <td>0.10</td>\n      <td>NaN</td>\n      <td>NaN</td>\n      <td>NaN</td>\n      <td>0.105263</td>\n      <td>0</td>\n      <td>NaN</td>\n      <td>NaN</td>\n      <td>Random</td>\n      <td>351</td>\n    </tr>\n    <tr>\n      <th>2512</th>\n      <td>Random</td>\n      <td>stu7_ade_p4</td>\n      <td>0.20</td>\n      <td>NaN</td>\n      <td>NaN</td>\n      <td>NaN</td>\n      <td>0.114286</td>\n      <td>0</td>\n      <td>NaN</td>\n      <td>NaN</td>\n      <td>Random</td>\n      <td>352</td>\n    </tr>\n    <tr>\n      <th>2513</th>\n      <td>Random</td>\n      <td>stu7_ade_p4</td>\n      <td>0.30</td>\n      <td>NaN</td>\n      <td>NaN</td>\n      <td>NaN</td>\n      <td>0.126027</td>\n      <td>0</td>\n      <td>NaN</td>\n      <td>NaN</td>\n      <td>Random</td>\n      <td>353</td>\n    </tr>\n    <tr>\n      <th>2514</th>\n      <td>Random</td>\n      <td>stu7_ade_p4</td>\n      <td>0.40</td>\n      <td>NaN</td>\n      <td>NaN</td>\n      <td>NaN</td>\n      <td>0.111111</td>\n      <td>0</td>\n      <td>NaN</td>\n      <td>NaN</td>\n      <td>Random</td>\n      <td>354</td>\n    </tr>\n    <tr>\n      <th>2515</th>\n      <td>Random</td>\n      <td>stu7_ade_p4</td>\n      <td>0.50</td>\n      <td>NaN</td>\n      <td>NaN</td>\n      <td>NaN</td>\n      <td>0.138462</td>\n      <td>0</td>\n      <td>NaN</td>\n      <td>NaN</td>\n      <td>Random</td>\n      <td>355</td>\n    </tr>\n    <tr>\n      <th>2516</th>\n      <td>Random</td>\n      <td>stu7_ade_p4</td>\n      <td>0.60</td>\n      <td>NaN</td>\n      <td>NaN</td>\n      <td>NaN</td>\n      <td>0.146341</td>\n      <td>0</td>\n      <td>NaN</td>\n      <td>NaN</td>\n      <td>Random</td>\n      <td>356</td>\n    </tr>\n    <tr>\n      <th>2517</th>\n      <td>Random</td>\n      <td>stu7_ade_p4</td>\n      <td>0.70</td>\n      <td>NaN</td>\n      <td>NaN</td>\n      <td>NaN</td>\n      <td>0.083871</td>\n      <td>0</td>\n      <td>NaN</td>\n      <td>NaN</td>\n      <td>Random</td>\n      <td>357</td>\n    </tr>\n    <tr>\n      <th>2518</th>\n      <td>Random</td>\n      <td>stu7_ade_p4</td>\n      <td>0.80</td>\n      <td>NaN</td>\n      <td>NaN</td>\n      <td>NaN</td>\n      <td>0.120000</td>\n      <td>0</td>\n      <td>NaN</td>\n      <td>NaN</td>\n      <td>Random</td>\n      <td>358</td>\n    </tr>\n    <tr>\n      <th>2519</th>\n      <td>Random</td>\n      <td>stu7_ade_p4</td>\n      <td>0.90</td>\n      <td>NaN</td>\n      <td>NaN</td>\n      <td>NaN</td>\n      <td>0.133333</td>\n      <td>0</td>\n      <td>NaN</td>\n      <td>NaN</td>\n      <td>Random</td>\n      <td>359</td>\n    </tr>\n  </tbody>\n</table>\n</div>"
     },
     "execution_count": 177,
     "metadata": {},
     "output_type": "execute_result"
    }
   ],
   "source": [
    "df_combined.tail(20)\n"
   ]
  },
  {
   "cell_type": "code",
   "execution_count": 178,
   "metadata": {
    "ExecuteTime": {
     "end_time": "2023-12-06T00:59:52.580843Z",
     "start_time": "2023-12-06T00:59:52.552484Z"
    }
   },
   "outputs": [],
   "source": [
    "def update_array_column(arr):\n",
    "    return np.where(arr == 0, 1, arr)"
   ]
  },
  {
   "cell_type": "code",
   "execution_count": 179,
   "metadata": {
    "ExecuteTime": {
     "end_time": "2023-12-06T00:59:53.102898Z",
     "start_time": "2023-12-06T00:59:53.065876Z"
    }
   },
   "outputs": [
    {
     "ename": "TypeError",
     "evalue": "'int' object is not iterable",
     "output_type": "error",
     "traceback": [
      "\u001B[0;31m---------------------------------------------------------------------------\u001B[0m",
      "\u001B[0;31mTypeError\u001B[0m                                 Traceback (most recent call last)",
      "Cell \u001B[0;32mIn[179], line 1\u001B[0m\n\u001B[0;32m----> 1\u001B[0m df_combined[\u001B[38;5;124m'\u001B[39m\u001B[38;5;124mStateAccuracy\u001B[39m\u001B[38;5;124m'\u001B[39m] \u001B[38;5;241m=\u001B[39m \u001B[43mdf_combined\u001B[49m\u001B[43m[\u001B[49m\u001B[38;5;124;43m'\u001B[39;49m\u001B[38;5;124;43mStateAccuracy\u001B[39;49m\u001B[38;5;124;43m'\u001B[39;49m\u001B[43m]\u001B[49m\u001B[38;5;241;43m.\u001B[39;49m\u001B[43mapply\u001B[49m\u001B[43m(\u001B[49m\u001B[38;5;28;43;01mlambda\u001B[39;49;00m\u001B[43m \u001B[49m\u001B[43marr\u001B[49m\u001B[43m:\u001B[49m\u001B[43m \u001B[49m\u001B[43m[\u001B[49m\u001B[38;5;241;43m1\u001B[39;49m\u001B[43m \u001B[49m\u001B[38;5;28;43;01mif\u001B[39;49;00m\u001B[43m \u001B[49m\u001B[43mx\u001B[49m\u001B[43m \u001B[49m\u001B[38;5;241;43m==\u001B[39;49m\u001B[43m \u001B[49m\u001B[38;5;241;43m0\u001B[39;49m\u001B[43m \u001B[49m\u001B[38;5;28;43;01melse\u001B[39;49;00m\u001B[43m \u001B[49m\u001B[43mx\u001B[49m\u001B[43m \u001B[49m\u001B[38;5;28;43;01mfor\u001B[39;49;00m\u001B[43m \u001B[49m\u001B[43mx\u001B[49m\u001B[43m \u001B[49m\u001B[38;5;129;43;01min\u001B[39;49;00m\u001B[43m \u001B[49m\u001B[43marr\u001B[49m\u001B[43m]\u001B[49m\u001B[43m)\u001B[49m\n",
      "File \u001B[0;32m~/anaconda3/envs/ForeCache-Master/lib/python3.9/site-packages/pandas/core/series.py:4758\u001B[0m, in \u001B[0;36mSeries.apply\u001B[0;34m(self, func, convert_dtype, args, by_row, **kwargs)\u001B[0m\n\u001B[1;32m   4625\u001B[0m \u001B[38;5;28;01mdef\u001B[39;00m \u001B[38;5;21mapply\u001B[39m(\n\u001B[1;32m   4626\u001B[0m     \u001B[38;5;28mself\u001B[39m,\n\u001B[1;32m   4627\u001B[0m     func: AggFuncType,\n\u001B[0;32m   (...)\u001B[0m\n\u001B[1;32m   4632\u001B[0m     \u001B[38;5;241m*\u001B[39m\u001B[38;5;241m*\u001B[39mkwargs,\n\u001B[1;32m   4633\u001B[0m ) \u001B[38;5;241m-\u001B[39m\u001B[38;5;241m>\u001B[39m DataFrame \u001B[38;5;241m|\u001B[39m Series:\n\u001B[1;32m   4634\u001B[0m \u001B[38;5;250m    \u001B[39m\u001B[38;5;124;03m\"\"\"\u001B[39;00m\n\u001B[1;32m   4635\u001B[0m \u001B[38;5;124;03m    Invoke function on values of Series.\u001B[39;00m\n\u001B[1;32m   4636\u001B[0m \n\u001B[0;32m   (...)\u001B[0m\n\u001B[1;32m   4756\u001B[0m \u001B[38;5;124;03m    dtype: float64\u001B[39;00m\n\u001B[1;32m   4757\u001B[0m \u001B[38;5;124;03m    \"\"\"\u001B[39;00m\n\u001B[0;32m-> 4758\u001B[0m     \u001B[38;5;28;01mreturn\u001B[39;00m \u001B[43mSeriesApply\u001B[49m\u001B[43m(\u001B[49m\n\u001B[1;32m   4759\u001B[0m \u001B[43m        \u001B[49m\u001B[38;5;28;43mself\u001B[39;49m\u001B[43m,\u001B[49m\n\u001B[1;32m   4760\u001B[0m \u001B[43m        \u001B[49m\u001B[43mfunc\u001B[49m\u001B[43m,\u001B[49m\n\u001B[1;32m   4761\u001B[0m \u001B[43m        \u001B[49m\u001B[43mconvert_dtype\u001B[49m\u001B[38;5;241;43m=\u001B[39;49m\u001B[43mconvert_dtype\u001B[49m\u001B[43m,\u001B[49m\n\u001B[1;32m   4762\u001B[0m \u001B[43m        \u001B[49m\u001B[43mby_row\u001B[49m\u001B[38;5;241;43m=\u001B[39;49m\u001B[43mby_row\u001B[49m\u001B[43m,\u001B[49m\n\u001B[1;32m   4763\u001B[0m \u001B[43m        \u001B[49m\u001B[43margs\u001B[49m\u001B[38;5;241;43m=\u001B[39;49m\u001B[43margs\u001B[49m\u001B[43m,\u001B[49m\n\u001B[1;32m   4764\u001B[0m \u001B[43m        \u001B[49m\u001B[43mkwargs\u001B[49m\u001B[38;5;241;43m=\u001B[39;49m\u001B[43mkwargs\u001B[49m\u001B[43m,\u001B[49m\n\u001B[1;32m   4765\u001B[0m \u001B[43m    \u001B[49m\u001B[43m)\u001B[49m\u001B[38;5;241;43m.\u001B[39;49m\u001B[43mapply\u001B[49m\u001B[43m(\u001B[49m\u001B[43m)\u001B[49m\n",
      "File \u001B[0;32m~/anaconda3/envs/ForeCache-Master/lib/python3.9/site-packages/pandas/core/apply.py:1201\u001B[0m, in \u001B[0;36mSeriesApply.apply\u001B[0;34m(self)\u001B[0m\n\u001B[1;32m   1198\u001B[0m     \u001B[38;5;28;01mreturn\u001B[39;00m \u001B[38;5;28mself\u001B[39m\u001B[38;5;241m.\u001B[39mapply_compat()\n\u001B[1;32m   1200\u001B[0m \u001B[38;5;66;03m# self.func is Callable\u001B[39;00m\n\u001B[0;32m-> 1201\u001B[0m \u001B[38;5;28;01mreturn\u001B[39;00m \u001B[38;5;28;43mself\u001B[39;49m\u001B[38;5;241;43m.\u001B[39;49m\u001B[43mapply_standard\u001B[49m\u001B[43m(\u001B[49m\u001B[43m)\u001B[49m\n",
      "File \u001B[0;32m~/anaconda3/envs/ForeCache-Master/lib/python3.9/site-packages/pandas/core/apply.py:1281\u001B[0m, in \u001B[0;36mSeriesApply.apply_standard\u001B[0;34m(self)\u001B[0m\n\u001B[1;32m   1275\u001B[0m \u001B[38;5;66;03m# row-wise access\u001B[39;00m\n\u001B[1;32m   1276\u001B[0m \u001B[38;5;66;03m# apply doesn't have a `na_action` keyword and for backward compat reasons\u001B[39;00m\n\u001B[1;32m   1277\u001B[0m \u001B[38;5;66;03m# we need to give `na_action=\"ignore\"` for categorical data.\u001B[39;00m\n\u001B[1;32m   1278\u001B[0m \u001B[38;5;66;03m# TODO: remove the `na_action=\"ignore\"` when that default has been changed in\u001B[39;00m\n\u001B[1;32m   1279\u001B[0m \u001B[38;5;66;03m#  Categorical (GH51645).\u001B[39;00m\n\u001B[1;32m   1280\u001B[0m action \u001B[38;5;241m=\u001B[39m \u001B[38;5;124m\"\u001B[39m\u001B[38;5;124mignore\u001B[39m\u001B[38;5;124m\"\u001B[39m \u001B[38;5;28;01mif\u001B[39;00m \u001B[38;5;28misinstance\u001B[39m(obj\u001B[38;5;241m.\u001B[39mdtype, CategoricalDtype) \u001B[38;5;28;01melse\u001B[39;00m \u001B[38;5;28;01mNone\u001B[39;00m\n\u001B[0;32m-> 1281\u001B[0m mapped \u001B[38;5;241m=\u001B[39m \u001B[43mobj\u001B[49m\u001B[38;5;241;43m.\u001B[39;49m\u001B[43m_map_values\u001B[49m\u001B[43m(\u001B[49m\n\u001B[1;32m   1282\u001B[0m \u001B[43m    \u001B[49m\u001B[43mmapper\u001B[49m\u001B[38;5;241;43m=\u001B[39;49m\u001B[43mcurried\u001B[49m\u001B[43m,\u001B[49m\u001B[43m \u001B[49m\u001B[43mna_action\u001B[49m\u001B[38;5;241;43m=\u001B[39;49m\u001B[43maction\u001B[49m\u001B[43m,\u001B[49m\u001B[43m \u001B[49m\u001B[43mconvert\u001B[49m\u001B[38;5;241;43m=\u001B[39;49m\u001B[38;5;28;43mself\u001B[39;49m\u001B[38;5;241;43m.\u001B[39;49m\u001B[43mconvert_dtype\u001B[49m\n\u001B[1;32m   1283\u001B[0m \u001B[43m\u001B[49m\u001B[43m)\u001B[49m\n\u001B[1;32m   1285\u001B[0m \u001B[38;5;28;01mif\u001B[39;00m \u001B[38;5;28mlen\u001B[39m(mapped) \u001B[38;5;129;01mand\u001B[39;00m \u001B[38;5;28misinstance\u001B[39m(mapped[\u001B[38;5;241m0\u001B[39m], ABCSeries):\n\u001B[1;32m   1286\u001B[0m     warnings\u001B[38;5;241m.\u001B[39mwarn(\n\u001B[1;32m   1287\u001B[0m         \u001B[38;5;124m\"\u001B[39m\u001B[38;5;124mReturning a DataFrame from Series.apply when the supplied function \u001B[39m\u001B[38;5;124m\"\u001B[39m\n\u001B[1;32m   1288\u001B[0m         \u001B[38;5;124m\"\u001B[39m\u001B[38;5;124mreturns a Series is deprecated and will be removed in a future \u001B[39m\u001B[38;5;124m\"\u001B[39m\n\u001B[0;32m   (...)\u001B[0m\n\u001B[1;32m   1291\u001B[0m         stacklevel\u001B[38;5;241m=\u001B[39mfind_stack_level(),\n\u001B[1;32m   1292\u001B[0m     )  \u001B[38;5;66;03m# GH52116\u001B[39;00m\n",
      "File \u001B[0;32m~/anaconda3/envs/ForeCache-Master/lib/python3.9/site-packages/pandas/core/base.py:921\u001B[0m, in \u001B[0;36mIndexOpsMixin._map_values\u001B[0;34m(self, mapper, na_action, convert)\u001B[0m\n\u001B[1;32m    918\u001B[0m \u001B[38;5;28;01mif\u001B[39;00m \u001B[38;5;28misinstance\u001B[39m(arr, ExtensionArray):\n\u001B[1;32m    919\u001B[0m     \u001B[38;5;28;01mreturn\u001B[39;00m arr\u001B[38;5;241m.\u001B[39mmap(mapper, na_action\u001B[38;5;241m=\u001B[39mna_action)\n\u001B[0;32m--> 921\u001B[0m \u001B[38;5;28;01mreturn\u001B[39;00m \u001B[43malgorithms\u001B[49m\u001B[38;5;241;43m.\u001B[39;49m\u001B[43mmap_array\u001B[49m\u001B[43m(\u001B[49m\u001B[43marr\u001B[49m\u001B[43m,\u001B[49m\u001B[43m \u001B[49m\u001B[43mmapper\u001B[49m\u001B[43m,\u001B[49m\u001B[43m \u001B[49m\u001B[43mna_action\u001B[49m\u001B[38;5;241;43m=\u001B[39;49m\u001B[43mna_action\u001B[49m\u001B[43m,\u001B[49m\u001B[43m \u001B[49m\u001B[43mconvert\u001B[49m\u001B[38;5;241;43m=\u001B[39;49m\u001B[43mconvert\u001B[49m\u001B[43m)\u001B[49m\n",
      "File \u001B[0;32m~/anaconda3/envs/ForeCache-Master/lib/python3.9/site-packages/pandas/core/algorithms.py:1812\u001B[0m, in \u001B[0;36mmap_array\u001B[0;34m(arr, mapper, na_action, convert)\u001B[0m\n\u001B[1;32m   1810\u001B[0m values \u001B[38;5;241m=\u001B[39m arr\u001B[38;5;241m.\u001B[39mastype(\u001B[38;5;28mobject\u001B[39m, copy\u001B[38;5;241m=\u001B[39m\u001B[38;5;28;01mFalse\u001B[39;00m)\n\u001B[1;32m   1811\u001B[0m \u001B[38;5;28;01mif\u001B[39;00m na_action \u001B[38;5;129;01mis\u001B[39;00m \u001B[38;5;28;01mNone\u001B[39;00m:\n\u001B[0;32m-> 1812\u001B[0m     \u001B[38;5;28;01mreturn\u001B[39;00m \u001B[43mlib\u001B[49m\u001B[38;5;241;43m.\u001B[39;49m\u001B[43mmap_infer\u001B[49m\u001B[43m(\u001B[49m\u001B[43mvalues\u001B[49m\u001B[43m,\u001B[49m\u001B[43m \u001B[49m\u001B[43mmapper\u001B[49m\u001B[43m,\u001B[49m\u001B[43m \u001B[49m\u001B[43mconvert\u001B[49m\u001B[38;5;241;43m=\u001B[39;49m\u001B[43mconvert\u001B[49m\u001B[43m)\u001B[49m\n\u001B[1;32m   1813\u001B[0m \u001B[38;5;28;01melse\u001B[39;00m:\n\u001B[1;32m   1814\u001B[0m     \u001B[38;5;28;01mreturn\u001B[39;00m lib\u001B[38;5;241m.\u001B[39mmap_infer_mask(\n\u001B[1;32m   1815\u001B[0m         values, mapper, mask\u001B[38;5;241m=\u001B[39misna(values)\u001B[38;5;241m.\u001B[39mview(np\u001B[38;5;241m.\u001B[39muint8), convert\u001B[38;5;241m=\u001B[39mconvert\n\u001B[1;32m   1816\u001B[0m     )\n",
      "File \u001B[0;32mlib.pyx:2917\u001B[0m, in \u001B[0;36mpandas._libs.lib.map_infer\u001B[0;34m()\u001B[0m\n",
      "Cell \u001B[0;32mIn[179], line 1\u001B[0m, in \u001B[0;36m<lambda>\u001B[0;34m(arr)\u001B[0m\n\u001B[0;32m----> 1\u001B[0m df_combined[\u001B[38;5;124m'\u001B[39m\u001B[38;5;124mStateAccuracy\u001B[39m\u001B[38;5;124m'\u001B[39m] \u001B[38;5;241m=\u001B[39m df_combined[\u001B[38;5;124m'\u001B[39m\u001B[38;5;124mStateAccuracy\u001B[39m\u001B[38;5;124m'\u001B[39m]\u001B[38;5;241m.\u001B[39mapply(\u001B[38;5;28;01mlambda\u001B[39;00m arr: [\u001B[38;5;241m1\u001B[39m \u001B[38;5;28;01mif\u001B[39;00m x \u001B[38;5;241m==\u001B[39m \u001B[38;5;241m0\u001B[39m \u001B[38;5;28;01melse\u001B[39;00m x \u001B[38;5;28;01mfor\u001B[39;00m x \u001B[38;5;129;01min\u001B[39;00m arr])\n",
      "\u001B[0;31mTypeError\u001B[0m: 'int' object is not iterable"
     ]
    }
   ],
   "source": [
    "\n",
    "df_combined['StateAccuracy'] = df_combined['StateAccuracy'].apply(lambda arr: [1 if x == 0 else x for x in arr])\n"
   ]
  },
  {
   "cell_type": "code",
   "execution_count": 180,
   "metadata": {
    "ExecuteTime": {
     "end_time": "2023-12-06T00:59:53.926124Z",
     "start_time": "2023-12-06T00:59:53.923205Z"
    }
   },
   "outputs": [
    {
     "data": {
      "text/plain": "     Algorithm         User  Threshold  LearningRate  Discount  Temperature  \\\n2500    Random  stu6_acf_p4       0.05           NaN       NaN          NaN   \n2501    Random  stu6_acf_p4       0.10           NaN       NaN          NaN   \n2502    Random  stu6_acf_p4       0.20           NaN       NaN          NaN   \n2503    Random  stu6_acf_p4       0.30           NaN       NaN          NaN   \n2504    Random  stu6_acf_p4       0.40           NaN       NaN          NaN   \n2505    Random  stu6_acf_p4       0.50           NaN       NaN          NaN   \n2506    Random  stu6_acf_p4       0.60           NaN       NaN          NaN   \n2507    Random  stu6_acf_p4       0.70           NaN       NaN          NaN   \n2508    Random  stu6_acf_p4       0.80           NaN       NaN          NaN   \n2509    Random  stu6_acf_p4       0.90           NaN       NaN          NaN   \n2510    Random  stu7_ade_p4       0.05           NaN       NaN          NaN   \n2511    Random  stu7_ade_p4       0.10           NaN       NaN          NaN   \n2512    Random  stu7_ade_p4       0.20           NaN       NaN          NaN   \n2513    Random  stu7_ade_p4       0.30           NaN       NaN          NaN   \n2514    Random  stu7_ade_p4       0.40           NaN       NaN          NaN   \n2515    Random  stu7_ade_p4       0.50           NaN       NaN          NaN   \n2516    Random  stu7_ade_p4       0.60           NaN       NaN          NaN   \n2517    Random  stu7_ade_p4       0.70           NaN       NaN          NaN   \n2518    Random  stu7_ade_p4       0.80           NaN       NaN          NaN   \n2519    Random  stu7_ade_p4       0.90           NaN       NaN          NaN   \n\n      Accuracy StateAccuracy  Reward  Epsilon    Algo  \\\n2500  0.111111             0     NaN      NaN  Random   \n2501  0.133333             0     NaN      NaN  Random   \n2502  0.104082             0     NaN      NaN  Random   \n2503  0.132558             0     NaN      NaN  Random   \n2504  0.126027             0     NaN      NaN  Random   \n2505  0.108197             0     NaN      NaN  Random   \n2506  0.116667             0     NaN      NaN  Random   \n2507  0.127778             0     NaN      NaN  Random   \n2508  0.113043             0     NaN      NaN  Random   \n2509  0.090909             0     NaN      NaN  Random   \n2510  0.132000             0     NaN      NaN  Random   \n2511  0.105263             0     NaN      NaN  Random   \n2512  0.114286             0     NaN      NaN  Random   \n2513  0.126027             0     NaN      NaN  Random   \n2514  0.111111             0     NaN      NaN  Random   \n2515  0.138462             0     NaN      NaN  Random   \n2516  0.146341             0     NaN      NaN  Random   \n2517  0.083871             0     NaN      NaN  Random   \n2518  0.120000             0     NaN      NaN  Random   \n2519  0.133333             0     NaN      NaN  Random   \n\n      original_dataframe_index  \n2500                       340  \n2501                       341  \n2502                       342  \n2503                       343  \n2504                       344  \n2505                       345  \n2506                       346  \n2507                       347  \n2508                       348  \n2509                       349  \n2510                       350  \n2511                       351  \n2512                       352  \n2513                       353  \n2514                       354  \n2515                       355  \n2516                       356  \n2517                       357  \n2518                       358  \n2519                       359  ",
      "text/html": "<div>\n<style scoped>\n    .dataframe tbody tr th:only-of-type {\n        vertical-align: middle;\n    }\n\n    .dataframe tbody tr th {\n        vertical-align: top;\n    }\n\n    .dataframe thead th {\n        text-align: right;\n    }\n</style>\n<table border=\"1\" class=\"dataframe\">\n  <thead>\n    <tr style=\"text-align: right;\">\n      <th></th>\n      <th>Algorithm</th>\n      <th>User</th>\n      <th>Threshold</th>\n      <th>LearningRate</th>\n      <th>Discount</th>\n      <th>Temperature</th>\n      <th>Accuracy</th>\n      <th>StateAccuracy</th>\n      <th>Reward</th>\n      <th>Epsilon</th>\n      <th>Algo</th>\n      <th>original_dataframe_index</th>\n    </tr>\n  </thead>\n  <tbody>\n    <tr>\n      <th>2500</th>\n      <td>Random</td>\n      <td>stu6_acf_p4</td>\n      <td>0.05</td>\n      <td>NaN</td>\n      <td>NaN</td>\n      <td>NaN</td>\n      <td>0.111111</td>\n      <td>0</td>\n      <td>NaN</td>\n      <td>NaN</td>\n      <td>Random</td>\n      <td>340</td>\n    </tr>\n    <tr>\n      <th>2501</th>\n      <td>Random</td>\n      <td>stu6_acf_p4</td>\n      <td>0.10</td>\n      <td>NaN</td>\n      <td>NaN</td>\n      <td>NaN</td>\n      <td>0.133333</td>\n      <td>0</td>\n      <td>NaN</td>\n      <td>NaN</td>\n      <td>Random</td>\n      <td>341</td>\n    </tr>\n    <tr>\n      <th>2502</th>\n      <td>Random</td>\n      <td>stu6_acf_p4</td>\n      <td>0.20</td>\n      <td>NaN</td>\n      <td>NaN</td>\n      <td>NaN</td>\n      <td>0.104082</td>\n      <td>0</td>\n      <td>NaN</td>\n      <td>NaN</td>\n      <td>Random</td>\n      <td>342</td>\n    </tr>\n    <tr>\n      <th>2503</th>\n      <td>Random</td>\n      <td>stu6_acf_p4</td>\n      <td>0.30</td>\n      <td>NaN</td>\n      <td>NaN</td>\n      <td>NaN</td>\n      <td>0.132558</td>\n      <td>0</td>\n      <td>NaN</td>\n      <td>NaN</td>\n      <td>Random</td>\n      <td>343</td>\n    </tr>\n    <tr>\n      <th>2504</th>\n      <td>Random</td>\n      <td>stu6_acf_p4</td>\n      <td>0.40</td>\n      <td>NaN</td>\n      <td>NaN</td>\n      <td>NaN</td>\n      <td>0.126027</td>\n      <td>0</td>\n      <td>NaN</td>\n      <td>NaN</td>\n      <td>Random</td>\n      <td>344</td>\n    </tr>\n    <tr>\n      <th>2505</th>\n      <td>Random</td>\n      <td>stu6_acf_p4</td>\n      <td>0.50</td>\n      <td>NaN</td>\n      <td>NaN</td>\n      <td>NaN</td>\n      <td>0.108197</td>\n      <td>0</td>\n      <td>NaN</td>\n      <td>NaN</td>\n      <td>Random</td>\n      <td>345</td>\n    </tr>\n    <tr>\n      <th>2506</th>\n      <td>Random</td>\n      <td>stu6_acf_p4</td>\n      <td>0.60</td>\n      <td>NaN</td>\n      <td>NaN</td>\n      <td>NaN</td>\n      <td>0.116667</td>\n      <td>0</td>\n      <td>NaN</td>\n      <td>NaN</td>\n      <td>Random</td>\n      <td>346</td>\n    </tr>\n    <tr>\n      <th>2507</th>\n      <td>Random</td>\n      <td>stu6_acf_p4</td>\n      <td>0.70</td>\n      <td>NaN</td>\n      <td>NaN</td>\n      <td>NaN</td>\n      <td>0.127778</td>\n      <td>0</td>\n      <td>NaN</td>\n      <td>NaN</td>\n      <td>Random</td>\n      <td>347</td>\n    </tr>\n    <tr>\n      <th>2508</th>\n      <td>Random</td>\n      <td>stu6_acf_p4</td>\n      <td>0.80</td>\n      <td>NaN</td>\n      <td>NaN</td>\n      <td>NaN</td>\n      <td>0.113043</td>\n      <td>0</td>\n      <td>NaN</td>\n      <td>NaN</td>\n      <td>Random</td>\n      <td>348</td>\n    </tr>\n    <tr>\n      <th>2509</th>\n      <td>Random</td>\n      <td>stu6_acf_p4</td>\n      <td>0.90</td>\n      <td>NaN</td>\n      <td>NaN</td>\n      <td>NaN</td>\n      <td>0.090909</td>\n      <td>0</td>\n      <td>NaN</td>\n      <td>NaN</td>\n      <td>Random</td>\n      <td>349</td>\n    </tr>\n    <tr>\n      <th>2510</th>\n      <td>Random</td>\n      <td>stu7_ade_p4</td>\n      <td>0.05</td>\n      <td>NaN</td>\n      <td>NaN</td>\n      <td>NaN</td>\n      <td>0.132000</td>\n      <td>0</td>\n      <td>NaN</td>\n      <td>NaN</td>\n      <td>Random</td>\n      <td>350</td>\n    </tr>\n    <tr>\n      <th>2511</th>\n      <td>Random</td>\n      <td>stu7_ade_p4</td>\n      <td>0.10</td>\n      <td>NaN</td>\n      <td>NaN</td>\n      <td>NaN</td>\n      <td>0.105263</td>\n      <td>0</td>\n      <td>NaN</td>\n      <td>NaN</td>\n      <td>Random</td>\n      <td>351</td>\n    </tr>\n    <tr>\n      <th>2512</th>\n      <td>Random</td>\n      <td>stu7_ade_p4</td>\n      <td>0.20</td>\n      <td>NaN</td>\n      <td>NaN</td>\n      <td>NaN</td>\n      <td>0.114286</td>\n      <td>0</td>\n      <td>NaN</td>\n      <td>NaN</td>\n      <td>Random</td>\n      <td>352</td>\n    </tr>\n    <tr>\n      <th>2513</th>\n      <td>Random</td>\n      <td>stu7_ade_p4</td>\n      <td>0.30</td>\n      <td>NaN</td>\n      <td>NaN</td>\n      <td>NaN</td>\n      <td>0.126027</td>\n      <td>0</td>\n      <td>NaN</td>\n      <td>NaN</td>\n      <td>Random</td>\n      <td>353</td>\n    </tr>\n    <tr>\n      <th>2514</th>\n      <td>Random</td>\n      <td>stu7_ade_p4</td>\n      <td>0.40</td>\n      <td>NaN</td>\n      <td>NaN</td>\n      <td>NaN</td>\n      <td>0.111111</td>\n      <td>0</td>\n      <td>NaN</td>\n      <td>NaN</td>\n      <td>Random</td>\n      <td>354</td>\n    </tr>\n    <tr>\n      <th>2515</th>\n      <td>Random</td>\n      <td>stu7_ade_p4</td>\n      <td>0.50</td>\n      <td>NaN</td>\n      <td>NaN</td>\n      <td>NaN</td>\n      <td>0.138462</td>\n      <td>0</td>\n      <td>NaN</td>\n      <td>NaN</td>\n      <td>Random</td>\n      <td>355</td>\n    </tr>\n    <tr>\n      <th>2516</th>\n      <td>Random</td>\n      <td>stu7_ade_p4</td>\n      <td>0.60</td>\n      <td>NaN</td>\n      <td>NaN</td>\n      <td>NaN</td>\n      <td>0.146341</td>\n      <td>0</td>\n      <td>NaN</td>\n      <td>NaN</td>\n      <td>Random</td>\n      <td>356</td>\n    </tr>\n    <tr>\n      <th>2517</th>\n      <td>Random</td>\n      <td>stu7_ade_p4</td>\n      <td>0.70</td>\n      <td>NaN</td>\n      <td>NaN</td>\n      <td>NaN</td>\n      <td>0.083871</td>\n      <td>0</td>\n      <td>NaN</td>\n      <td>NaN</td>\n      <td>Random</td>\n      <td>357</td>\n    </tr>\n    <tr>\n      <th>2518</th>\n      <td>Random</td>\n      <td>stu7_ade_p4</td>\n      <td>0.80</td>\n      <td>NaN</td>\n      <td>NaN</td>\n      <td>NaN</td>\n      <td>0.120000</td>\n      <td>0</td>\n      <td>NaN</td>\n      <td>NaN</td>\n      <td>Random</td>\n      <td>358</td>\n    </tr>\n    <tr>\n      <th>2519</th>\n      <td>Random</td>\n      <td>stu7_ade_p4</td>\n      <td>0.90</td>\n      <td>NaN</td>\n      <td>NaN</td>\n      <td>NaN</td>\n      <td>0.133333</td>\n      <td>0</td>\n      <td>NaN</td>\n      <td>NaN</td>\n      <td>Random</td>\n      <td>359</td>\n    </tr>\n  </tbody>\n</table>\n</div>"
     },
     "execution_count": 180,
     "metadata": {},
     "output_type": "execute_result"
    }
   ],
   "source": [
    "df_combined.tail(20)"
   ]
  },
  {
   "cell_type": "code",
   "execution_count": 181,
   "metadata": {
    "collapsed": false,
    "ExecuteTime": {
     "end_time": "2023-12-06T00:59:54.695008Z",
     "start_time": "2023-12-06T00:59:54.685799Z"
    }
   },
   "outputs": [],
   "source": [
    "df_combined.to_csv(\"/Users/aryal/Desktop/ForeCache/foreCache-interaction/ForeCache_Models/Experiments_Folder/viz-rec-experiments-master.csv\", index=False)"
   ]
  },
  {
   "cell_type": "code",
   "execution_count": 81,
   "metadata": {
    "ExecuteTime": {
     "end_time": "2023-12-05T22:16:53.466911Z",
     "start_time": "2023-12-05T22:16:53.459661Z"
    }
   },
   "outputs": [],
   "source": []
  },
  {
   "cell_type": "code",
   "execution_count": null,
   "outputs": [],
   "source": [],
   "metadata": {
    "collapsed": false
   }
  }
 ],
 "metadata": {
  "kernelspec": {
   "display_name": "Python 3",
   "language": "python",
   "name": "python3"
  },
  "language_info": {
   "codemirror_mode": {
    "name": "ipython",
    "version": 3
   },
   "file_extension": ".py",
   "mimetype": "text/x-python",
   "name": "python",
   "nbconvert_exporter": "python",
   "pygments_lexer": "ipython3",
   "version": "3.9.6"
  }
 },
 "nbformat": 4,
 "nbformat_minor": 0
}
