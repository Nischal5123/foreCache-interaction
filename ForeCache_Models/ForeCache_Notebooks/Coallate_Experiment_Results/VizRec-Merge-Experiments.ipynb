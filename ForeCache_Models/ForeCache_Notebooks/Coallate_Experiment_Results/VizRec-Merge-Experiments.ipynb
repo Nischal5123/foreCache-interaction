{
 "cells": [
  {
   "cell_type": "code",
   "execution_count": 2,
   "metadata": {
    "collapsed": true,
    "ExecuteTime": {
     "end_time": "2023-12-03T23:20:49.247933Z",
     "start_time": "2023-12-03T23:20:49.245456Z"
    }
   },
   "outputs": [],
   "source": [
    "import numpy as np\n",
    "import pandas as pd\n",
    "from matplotlib import pyplot as plt\n",
    "\n"
   ]
  },
  {
   "cell_type": "code",
   "execution_count": 3,
   "metadata": {
    "collapsed": false,
    "ExecuteTime": {
     "end_time": "2023-12-03T23:20:49.666449Z",
     "start_time": "2023-12-03T23:20:49.650784Z"
    }
   },
   "outputs": [],
   "source": [
    "df_ac = pd.read_csv(\"/Users/aryal/Desktop/ForeCache/foreCache-interaction/ForeCache_Models/Experiments_Folder/Results/ActorCritic.csv\")\n",
    "df_wsls =pd.read_csv(\"/Users/aryal/Desktop/ForeCache/foreCache-interaction/ForeCache_Models/Experiments_Folder/Results/WSLS.csv\")\n",
    "df_greedy=pd.read_csv(\"/Users/aryal/Desktop/ForeCache/foreCache-interaction/ForeCache_Models/Experiments_Folder/VizRec/Greedy.csv\")\n",
    "df_sarsa=pd.read_csv(\"/Users/aryal/Desktop/ForeCache/foreCache-interaction/ForeCache_Models/Experiments_Folder/Results/SARSA.csv\")\n",
    "df_qlearn=pd.read_csv(\"/Users/aryal/Desktop/ForeCache/foreCache-interaction/ForeCache_Models/Experiments_Folder/Results/QLearn.csv\")\n",
    "df_reinforce=pd.read_csv(\"/Users/aryal/Desktop/ForeCache/foreCache-interaction/ForeCache_Models/Experiments_Folder/Results/Reinforce.csv\")\n",
    "df_naive=pd.read_csv(\"/Users/aryal/Desktop/ForeCache/foreCache-interaction/ForeCache_Models/Experiments_Folder/Results/Naive.csv\")\n",
    "df_momentum=pd.read_csv('/Users/aryal/Desktop/ForeCache/foreCache-interaction/ForeCache_Models/Experiments_Folder/Results/Momentum.csv')\n",
    "df_random=pd.read_csv('/Users/aryal/Desktop/ForeCache/foreCache-interaction/ForeCache_Models/Experiments_Folder/VizRec/Random.csv')\n",
    "#df_tamerq=pd.read_csv('/Users/aryal/Desktop/ForeCache/foreCache-interaction/ForeCache_Models/Experiments_Folder/Results/Tamer_Q_Learning.csv')"
   ]
  },
  {
   "cell_type": "code",
   "execution_count": 4,
   "metadata": {
    "collapsed": false,
    "ExecuteTime": {
     "end_time": "2023-12-03T23:20:58.732677Z",
     "start_time": "2023-12-03T23:20:58.726151Z"
    }
   },
   "outputs": [],
   "source": [
    "# Add a new column to each dataframe with the name of the dataframe\n",
    "df_ac['Algo'] = 'ActorCritic'\n",
    "df_wsls['Algo'] = 'WSLS'\n",
    "df_greedy['Algo'] = 'Greedy'\n",
    "df_sarsa['Algo'] = 'SARSA'\n",
    "df_qlearn['Algo'] = 'QLearn'\n",
    "df_reinforce['Algo'] = 'Reinforce'\n",
    "df_naive['Algo'] = 'Naive'\n",
    "df_momentum['Algo'] = 'Momentum'\n",
    "df_random['Algo'] = 'Random'\n",
    "#df_tamerq['Algo'] = 'Tamer-Q'\n",
    "\n",
    "# Add a new column to each dataframe to keep track of the original index\n",
    "df_ac['original_dataframe_index'] = range(len(df_ac))\n",
    "df_wsls['original_dataframe_index'] = range(len(df_wsls))\n",
    "df_greedy['original_dataframe_index'] = range(len(df_greedy))\n",
    "df_sarsa['original_dataframe_index'] = range(len(df_sarsa))\n",
    "df_qlearn['original_dataframe_index'] = range(len(df_qlearn))\n",
    "df_reinforce['original_dataframe_index'] = range(len(df_qlearn))\n",
    "df_naive['original_dataframe_index'] = range(len(df_naive))\n",
    "df_momentum['original_dataframe_index'] = range(len(df_momentum))\n",
    "df_random['original_dataframe_index'] = range(len(df_random))\n",
    "#df_tamerq['original_dataframe_index'] = range(len(df_tamerq))\n",
    "\n",
    "# Combine the dataframes into one\n",
    "df_combined = pd.concat([df_ac, df_wsls, df_greedy, df_sarsa, df_qlearn,df_reinforce,df_naive,df_momentum,df_random])\n",
    "\n",
    "# Reset the index of the combined dataframe\n",
    "df_combined = df_combined.reset_index(drop=True)"
   ]
  },
  {
   "cell_type": "code",
   "execution_count": 5,
   "metadata": {
    "collapsed": false,
    "ExecuteTime": {
     "end_time": "2023-12-03T23:21:00.798932Z",
     "start_time": "2023-12-03T23:21:00.784105Z"
    }
   },
   "outputs": [
    {
     "data": {
      "text/plain": "     Algorithm              User  Threshold  LearningRate  Discount  \\\n1440    Random  pro13_ace_p4_log       0.05           NaN       NaN   \n1441    Random  pro13_ace_p4_log       0.10           NaN       NaN   \n1442    Random  pro13_ace_p4_log       0.20           NaN       NaN   \n1443    Random  pro13_ace_p4_log       0.30           NaN       NaN   \n1444    Random  pro13_ace_p4_log       0.40           NaN       NaN   \n1445    Random  pro13_ace_p4_log       0.50           NaN       NaN   \n1446    Random  pro13_ace_p4_log       0.60           NaN       NaN   \n1447    Random  pro13_ace_p4_log       0.70           NaN       NaN   \n1448    Random  pro13_ace_p4_log       0.80           NaN       NaN   \n1449    Random  pro13_ace_p4_log       0.90           NaN       NaN   \n1450    Random  pro15_ade_p4_log       0.05           NaN       NaN   \n1451    Random  pro15_ade_p4_log       0.10           NaN       NaN   \n1452    Random  pro15_ade_p4_log       0.20           NaN       NaN   \n1453    Random  pro15_ade_p4_log       0.30           NaN       NaN   \n1454    Random  pro15_ade_p4_log       0.40           NaN       NaN   \n1455    Random  pro15_ade_p4_log       0.50           NaN       NaN   \n1456    Random  pro15_ade_p4_log       0.60           NaN       NaN   \n1457    Random  pro15_ade_p4_log       0.70           NaN       NaN   \n1458    Random  pro15_ade_p4_log       0.80           NaN       NaN   \n1459    Random  pro15_ade_p4_log       0.90           NaN       NaN   \n\n      Temperature  Accuracy StateAccuracy    Algo  original_dataframe_index  \\\n1440          NaN  0.125828             0  Random                        10   \n1441          NaN  0.094406             0  Random                        11   \n1442          NaN  0.114173             0  Random                        12   \n1443          NaN  0.094595             0  Random                        13   \n1444          NaN  0.115789             0  Random                        14   \n1445          NaN  0.120253             0  Random                        15   \n1446          NaN  0.134921             0  Random                        16   \n1447          NaN  0.095745             0  Random                        17   \n1448          NaN  0.048387             0  Random                        18   \n1449          NaN  0.200000             0  Random                        19   \n1450          NaN  0.122449             0  Random                        20   \n1451          NaN  0.151079             0  Random                        21   \n1452          NaN  0.133603             0  Random                        22   \n1453          NaN  0.120370             0  Random                        23   \n1454          NaN  0.118919             0  Random                        24   \n1455          NaN  0.116883             0  Random                        25   \n1456          NaN  0.138211             0  Random                        26   \n1457          NaN  0.054348             0  Random                        27   \n1458          NaN  0.081967             0  Random                        28   \n1459          NaN  0.233333             0  Random                        29   \n\n      Reward  Epsilon  \n1440     NaN      NaN  \n1441     NaN      NaN  \n1442     NaN      NaN  \n1443     NaN      NaN  \n1444     NaN      NaN  \n1445     NaN      NaN  \n1446     NaN      NaN  \n1447     NaN      NaN  \n1448     NaN      NaN  \n1449     NaN      NaN  \n1450     NaN      NaN  \n1451     NaN      NaN  \n1452     NaN      NaN  \n1453     NaN      NaN  \n1454     NaN      NaN  \n1455     NaN      NaN  \n1456     NaN      NaN  \n1457     NaN      NaN  \n1458     NaN      NaN  \n1459     NaN      NaN  ",
      "text/html": "<div>\n<style scoped>\n    .dataframe tbody tr th:only-of-type {\n        vertical-align: middle;\n    }\n\n    .dataframe tbody tr th {\n        vertical-align: top;\n    }\n\n    .dataframe thead th {\n        text-align: right;\n    }\n</style>\n<table border=\"1\" class=\"dataframe\">\n  <thead>\n    <tr style=\"text-align: right;\">\n      <th></th>\n      <th>Algorithm</th>\n      <th>User</th>\n      <th>Threshold</th>\n      <th>LearningRate</th>\n      <th>Discount</th>\n      <th>Temperature</th>\n      <th>Accuracy</th>\n      <th>StateAccuracy</th>\n      <th>Algo</th>\n      <th>original_dataframe_index</th>\n      <th>Reward</th>\n      <th>Epsilon</th>\n    </tr>\n  </thead>\n  <tbody>\n    <tr>\n      <th>1440</th>\n      <td>Random</td>\n      <td>pro13_ace_p4_log</td>\n      <td>0.05</td>\n      <td>NaN</td>\n      <td>NaN</td>\n      <td>NaN</td>\n      <td>0.125828</td>\n      <td>0</td>\n      <td>Random</td>\n      <td>10</td>\n      <td>NaN</td>\n      <td>NaN</td>\n    </tr>\n    <tr>\n      <th>1441</th>\n      <td>Random</td>\n      <td>pro13_ace_p4_log</td>\n      <td>0.10</td>\n      <td>NaN</td>\n      <td>NaN</td>\n      <td>NaN</td>\n      <td>0.094406</td>\n      <td>0</td>\n      <td>Random</td>\n      <td>11</td>\n      <td>NaN</td>\n      <td>NaN</td>\n    </tr>\n    <tr>\n      <th>1442</th>\n      <td>Random</td>\n      <td>pro13_ace_p4_log</td>\n      <td>0.20</td>\n      <td>NaN</td>\n      <td>NaN</td>\n      <td>NaN</td>\n      <td>0.114173</td>\n      <td>0</td>\n      <td>Random</td>\n      <td>12</td>\n      <td>NaN</td>\n      <td>NaN</td>\n    </tr>\n    <tr>\n      <th>1443</th>\n      <td>Random</td>\n      <td>pro13_ace_p4_log</td>\n      <td>0.30</td>\n      <td>NaN</td>\n      <td>NaN</td>\n      <td>NaN</td>\n      <td>0.094595</td>\n      <td>0</td>\n      <td>Random</td>\n      <td>13</td>\n      <td>NaN</td>\n      <td>NaN</td>\n    </tr>\n    <tr>\n      <th>1444</th>\n      <td>Random</td>\n      <td>pro13_ace_p4_log</td>\n      <td>0.40</td>\n      <td>NaN</td>\n      <td>NaN</td>\n      <td>NaN</td>\n      <td>0.115789</td>\n      <td>0</td>\n      <td>Random</td>\n      <td>14</td>\n      <td>NaN</td>\n      <td>NaN</td>\n    </tr>\n    <tr>\n      <th>1445</th>\n      <td>Random</td>\n      <td>pro13_ace_p4_log</td>\n      <td>0.50</td>\n      <td>NaN</td>\n      <td>NaN</td>\n      <td>NaN</td>\n      <td>0.120253</td>\n      <td>0</td>\n      <td>Random</td>\n      <td>15</td>\n      <td>NaN</td>\n      <td>NaN</td>\n    </tr>\n    <tr>\n      <th>1446</th>\n      <td>Random</td>\n      <td>pro13_ace_p4_log</td>\n      <td>0.60</td>\n      <td>NaN</td>\n      <td>NaN</td>\n      <td>NaN</td>\n      <td>0.134921</td>\n      <td>0</td>\n      <td>Random</td>\n      <td>16</td>\n      <td>NaN</td>\n      <td>NaN</td>\n    </tr>\n    <tr>\n      <th>1447</th>\n      <td>Random</td>\n      <td>pro13_ace_p4_log</td>\n      <td>0.70</td>\n      <td>NaN</td>\n      <td>NaN</td>\n      <td>NaN</td>\n      <td>0.095745</td>\n      <td>0</td>\n      <td>Random</td>\n      <td>17</td>\n      <td>NaN</td>\n      <td>NaN</td>\n    </tr>\n    <tr>\n      <th>1448</th>\n      <td>Random</td>\n      <td>pro13_ace_p4_log</td>\n      <td>0.80</td>\n      <td>NaN</td>\n      <td>NaN</td>\n      <td>NaN</td>\n      <td>0.048387</td>\n      <td>0</td>\n      <td>Random</td>\n      <td>18</td>\n      <td>NaN</td>\n      <td>NaN</td>\n    </tr>\n    <tr>\n      <th>1449</th>\n      <td>Random</td>\n      <td>pro13_ace_p4_log</td>\n      <td>0.90</td>\n      <td>NaN</td>\n      <td>NaN</td>\n      <td>NaN</td>\n      <td>0.200000</td>\n      <td>0</td>\n      <td>Random</td>\n      <td>19</td>\n      <td>NaN</td>\n      <td>NaN</td>\n    </tr>\n    <tr>\n      <th>1450</th>\n      <td>Random</td>\n      <td>pro15_ade_p4_log</td>\n      <td>0.05</td>\n      <td>NaN</td>\n      <td>NaN</td>\n      <td>NaN</td>\n      <td>0.122449</td>\n      <td>0</td>\n      <td>Random</td>\n      <td>20</td>\n      <td>NaN</td>\n      <td>NaN</td>\n    </tr>\n    <tr>\n      <th>1451</th>\n      <td>Random</td>\n      <td>pro15_ade_p4_log</td>\n      <td>0.10</td>\n      <td>NaN</td>\n      <td>NaN</td>\n      <td>NaN</td>\n      <td>0.151079</td>\n      <td>0</td>\n      <td>Random</td>\n      <td>21</td>\n      <td>NaN</td>\n      <td>NaN</td>\n    </tr>\n    <tr>\n      <th>1452</th>\n      <td>Random</td>\n      <td>pro15_ade_p4_log</td>\n      <td>0.20</td>\n      <td>NaN</td>\n      <td>NaN</td>\n      <td>NaN</td>\n      <td>0.133603</td>\n      <td>0</td>\n      <td>Random</td>\n      <td>22</td>\n      <td>NaN</td>\n      <td>NaN</td>\n    </tr>\n    <tr>\n      <th>1453</th>\n      <td>Random</td>\n      <td>pro15_ade_p4_log</td>\n      <td>0.30</td>\n      <td>NaN</td>\n      <td>NaN</td>\n      <td>NaN</td>\n      <td>0.120370</td>\n      <td>0</td>\n      <td>Random</td>\n      <td>23</td>\n      <td>NaN</td>\n      <td>NaN</td>\n    </tr>\n    <tr>\n      <th>1454</th>\n      <td>Random</td>\n      <td>pro15_ade_p4_log</td>\n      <td>0.40</td>\n      <td>NaN</td>\n      <td>NaN</td>\n      <td>NaN</td>\n      <td>0.118919</td>\n      <td>0</td>\n      <td>Random</td>\n      <td>24</td>\n      <td>NaN</td>\n      <td>NaN</td>\n    </tr>\n    <tr>\n      <th>1455</th>\n      <td>Random</td>\n      <td>pro15_ade_p4_log</td>\n      <td>0.50</td>\n      <td>NaN</td>\n      <td>NaN</td>\n      <td>NaN</td>\n      <td>0.116883</td>\n      <td>0</td>\n      <td>Random</td>\n      <td>25</td>\n      <td>NaN</td>\n      <td>NaN</td>\n    </tr>\n    <tr>\n      <th>1456</th>\n      <td>Random</td>\n      <td>pro15_ade_p4_log</td>\n      <td>0.60</td>\n      <td>NaN</td>\n      <td>NaN</td>\n      <td>NaN</td>\n      <td>0.138211</td>\n      <td>0</td>\n      <td>Random</td>\n      <td>26</td>\n      <td>NaN</td>\n      <td>NaN</td>\n    </tr>\n    <tr>\n      <th>1457</th>\n      <td>Random</td>\n      <td>pro15_ade_p4_log</td>\n      <td>0.70</td>\n      <td>NaN</td>\n      <td>NaN</td>\n      <td>NaN</td>\n      <td>0.054348</td>\n      <td>0</td>\n      <td>Random</td>\n      <td>27</td>\n      <td>NaN</td>\n      <td>NaN</td>\n    </tr>\n    <tr>\n      <th>1458</th>\n      <td>Random</td>\n      <td>pro15_ade_p4_log</td>\n      <td>0.80</td>\n      <td>NaN</td>\n      <td>NaN</td>\n      <td>NaN</td>\n      <td>0.081967</td>\n      <td>0</td>\n      <td>Random</td>\n      <td>28</td>\n      <td>NaN</td>\n      <td>NaN</td>\n    </tr>\n    <tr>\n      <th>1459</th>\n      <td>Random</td>\n      <td>pro15_ade_p4_log</td>\n      <td>0.90</td>\n      <td>NaN</td>\n      <td>NaN</td>\n      <td>NaN</td>\n      <td>0.233333</td>\n      <td>0</td>\n      <td>Random</td>\n      <td>29</td>\n      <td>NaN</td>\n      <td>NaN</td>\n    </tr>\n  </tbody>\n</table>\n</div>"
     },
     "execution_count": 5,
     "metadata": {},
     "output_type": "execute_result"
    }
   ],
   "source": [
    "df_combined.tail(20)\n"
   ]
  },
  {
   "cell_type": "code",
   "execution_count": 6,
   "metadata": {
    "ExecuteTime": {
     "end_time": "2023-12-03T23:21:10.251443Z",
     "start_time": "2023-12-03T23:21:10.247850Z"
    }
   },
   "outputs": [],
   "source": [
    "def update_array_column(arr):\n",
    "    return np.where(arr == 0, 1, arr)"
   ]
  },
  {
   "cell_type": "code",
   "execution_count": 7,
   "metadata": {
    "ExecuteTime": {
     "end_time": "2023-12-03T23:21:11.707514Z",
     "start_time": "2023-12-03T23:21:10.855056Z"
    }
   },
   "outputs": [
    {
     "ename": "TypeError",
     "evalue": "'int' object is not iterable",
     "output_type": "error",
     "traceback": [
      "\u001B[0;31m---------------------------------------------------------------------------\u001B[0m",
      "\u001B[0;31mTypeError\u001B[0m                                 Traceback (most recent call last)",
      "Cell \u001B[0;32mIn[7], line 1\u001B[0m\n\u001B[0;32m----> 1\u001B[0m df_combined[\u001B[38;5;124m'\u001B[39m\u001B[38;5;124mStateAccuracy\u001B[39m\u001B[38;5;124m'\u001B[39m] \u001B[38;5;241m=\u001B[39m \u001B[43mdf_combined\u001B[49m\u001B[43m[\u001B[49m\u001B[38;5;124;43m'\u001B[39;49m\u001B[38;5;124;43mStateAccuracy\u001B[39;49m\u001B[38;5;124;43m'\u001B[39;49m\u001B[43m]\u001B[49m\u001B[38;5;241;43m.\u001B[39;49m\u001B[43mapply\u001B[49m\u001B[43m(\u001B[49m\u001B[38;5;28;43;01mlambda\u001B[39;49;00m\u001B[43m \u001B[49m\u001B[43marr\u001B[49m\u001B[43m:\u001B[49m\u001B[43m \u001B[49m\u001B[43m[\u001B[49m\u001B[38;5;241;43m1\u001B[39;49m\u001B[43m \u001B[49m\u001B[38;5;28;43;01mif\u001B[39;49;00m\u001B[43m \u001B[49m\u001B[43mx\u001B[49m\u001B[43m \u001B[49m\u001B[38;5;241;43m==\u001B[39;49m\u001B[43m \u001B[49m\u001B[38;5;241;43m0\u001B[39;49m\u001B[43m \u001B[49m\u001B[38;5;28;43;01melse\u001B[39;49;00m\u001B[43m \u001B[49m\u001B[43mx\u001B[49m\u001B[43m \u001B[49m\u001B[38;5;28;43;01mfor\u001B[39;49;00m\u001B[43m \u001B[49m\u001B[43mx\u001B[49m\u001B[43m \u001B[49m\u001B[38;5;129;43;01min\u001B[39;49;00m\u001B[43m \u001B[49m\u001B[43marr\u001B[49m\u001B[43m]\u001B[49m\u001B[43m)\u001B[49m\n",
      "File \u001B[0;32m~/anaconda3/envs/ForeCache-Master/lib/python3.9/site-packages/pandas/core/series.py:4758\u001B[0m, in \u001B[0;36mSeries.apply\u001B[0;34m(self, func, convert_dtype, args, by_row, **kwargs)\u001B[0m\n\u001B[1;32m   4625\u001B[0m \u001B[38;5;28;01mdef\u001B[39;00m \u001B[38;5;21mapply\u001B[39m(\n\u001B[1;32m   4626\u001B[0m     \u001B[38;5;28mself\u001B[39m,\n\u001B[1;32m   4627\u001B[0m     func: AggFuncType,\n\u001B[0;32m   (...)\u001B[0m\n\u001B[1;32m   4632\u001B[0m     \u001B[38;5;241m*\u001B[39m\u001B[38;5;241m*\u001B[39mkwargs,\n\u001B[1;32m   4633\u001B[0m ) \u001B[38;5;241m-\u001B[39m\u001B[38;5;241m>\u001B[39m DataFrame \u001B[38;5;241m|\u001B[39m Series:\n\u001B[1;32m   4634\u001B[0m \u001B[38;5;250m    \u001B[39m\u001B[38;5;124;03m\"\"\"\u001B[39;00m\n\u001B[1;32m   4635\u001B[0m \u001B[38;5;124;03m    Invoke function on values of Series.\u001B[39;00m\n\u001B[1;32m   4636\u001B[0m \n\u001B[0;32m   (...)\u001B[0m\n\u001B[1;32m   4756\u001B[0m \u001B[38;5;124;03m    dtype: float64\u001B[39;00m\n\u001B[1;32m   4757\u001B[0m \u001B[38;5;124;03m    \"\"\"\u001B[39;00m\n\u001B[0;32m-> 4758\u001B[0m     \u001B[38;5;28;01mreturn\u001B[39;00m \u001B[43mSeriesApply\u001B[49m\u001B[43m(\u001B[49m\n\u001B[1;32m   4759\u001B[0m \u001B[43m        \u001B[49m\u001B[38;5;28;43mself\u001B[39;49m\u001B[43m,\u001B[49m\n\u001B[1;32m   4760\u001B[0m \u001B[43m        \u001B[49m\u001B[43mfunc\u001B[49m\u001B[43m,\u001B[49m\n\u001B[1;32m   4761\u001B[0m \u001B[43m        \u001B[49m\u001B[43mconvert_dtype\u001B[49m\u001B[38;5;241;43m=\u001B[39;49m\u001B[43mconvert_dtype\u001B[49m\u001B[43m,\u001B[49m\n\u001B[1;32m   4762\u001B[0m \u001B[43m        \u001B[49m\u001B[43mby_row\u001B[49m\u001B[38;5;241;43m=\u001B[39;49m\u001B[43mby_row\u001B[49m\u001B[43m,\u001B[49m\n\u001B[1;32m   4763\u001B[0m \u001B[43m        \u001B[49m\u001B[43margs\u001B[49m\u001B[38;5;241;43m=\u001B[39;49m\u001B[43margs\u001B[49m\u001B[43m,\u001B[49m\n\u001B[1;32m   4764\u001B[0m \u001B[43m        \u001B[49m\u001B[43mkwargs\u001B[49m\u001B[38;5;241;43m=\u001B[39;49m\u001B[43mkwargs\u001B[49m\u001B[43m,\u001B[49m\n\u001B[1;32m   4765\u001B[0m \u001B[43m    \u001B[49m\u001B[43m)\u001B[49m\u001B[38;5;241;43m.\u001B[39;49m\u001B[43mapply\u001B[49m\u001B[43m(\u001B[49m\u001B[43m)\u001B[49m\n",
      "File \u001B[0;32m~/anaconda3/envs/ForeCache-Master/lib/python3.9/site-packages/pandas/core/apply.py:1201\u001B[0m, in \u001B[0;36mSeriesApply.apply\u001B[0;34m(self)\u001B[0m\n\u001B[1;32m   1198\u001B[0m     \u001B[38;5;28;01mreturn\u001B[39;00m \u001B[38;5;28mself\u001B[39m\u001B[38;5;241m.\u001B[39mapply_compat()\n\u001B[1;32m   1200\u001B[0m \u001B[38;5;66;03m# self.func is Callable\u001B[39;00m\n\u001B[0;32m-> 1201\u001B[0m \u001B[38;5;28;01mreturn\u001B[39;00m \u001B[38;5;28;43mself\u001B[39;49m\u001B[38;5;241;43m.\u001B[39;49m\u001B[43mapply_standard\u001B[49m\u001B[43m(\u001B[49m\u001B[43m)\u001B[49m\n",
      "File \u001B[0;32m~/anaconda3/envs/ForeCache-Master/lib/python3.9/site-packages/pandas/core/apply.py:1281\u001B[0m, in \u001B[0;36mSeriesApply.apply_standard\u001B[0;34m(self)\u001B[0m\n\u001B[1;32m   1275\u001B[0m \u001B[38;5;66;03m# row-wise access\u001B[39;00m\n\u001B[1;32m   1276\u001B[0m \u001B[38;5;66;03m# apply doesn't have a `na_action` keyword and for backward compat reasons\u001B[39;00m\n\u001B[1;32m   1277\u001B[0m \u001B[38;5;66;03m# we need to give `na_action=\"ignore\"` for categorical data.\u001B[39;00m\n\u001B[1;32m   1278\u001B[0m \u001B[38;5;66;03m# TODO: remove the `na_action=\"ignore\"` when that default has been changed in\u001B[39;00m\n\u001B[1;32m   1279\u001B[0m \u001B[38;5;66;03m#  Categorical (GH51645).\u001B[39;00m\n\u001B[1;32m   1280\u001B[0m action \u001B[38;5;241m=\u001B[39m \u001B[38;5;124m\"\u001B[39m\u001B[38;5;124mignore\u001B[39m\u001B[38;5;124m\"\u001B[39m \u001B[38;5;28;01mif\u001B[39;00m \u001B[38;5;28misinstance\u001B[39m(obj\u001B[38;5;241m.\u001B[39mdtype, CategoricalDtype) \u001B[38;5;28;01melse\u001B[39;00m \u001B[38;5;28;01mNone\u001B[39;00m\n\u001B[0;32m-> 1281\u001B[0m mapped \u001B[38;5;241m=\u001B[39m \u001B[43mobj\u001B[49m\u001B[38;5;241;43m.\u001B[39;49m\u001B[43m_map_values\u001B[49m\u001B[43m(\u001B[49m\n\u001B[1;32m   1282\u001B[0m \u001B[43m    \u001B[49m\u001B[43mmapper\u001B[49m\u001B[38;5;241;43m=\u001B[39;49m\u001B[43mcurried\u001B[49m\u001B[43m,\u001B[49m\u001B[43m \u001B[49m\u001B[43mna_action\u001B[49m\u001B[38;5;241;43m=\u001B[39;49m\u001B[43maction\u001B[49m\u001B[43m,\u001B[49m\u001B[43m \u001B[49m\u001B[43mconvert\u001B[49m\u001B[38;5;241;43m=\u001B[39;49m\u001B[38;5;28;43mself\u001B[39;49m\u001B[38;5;241;43m.\u001B[39;49m\u001B[43mconvert_dtype\u001B[49m\n\u001B[1;32m   1283\u001B[0m \u001B[43m\u001B[49m\u001B[43m)\u001B[49m\n\u001B[1;32m   1285\u001B[0m \u001B[38;5;28;01mif\u001B[39;00m \u001B[38;5;28mlen\u001B[39m(mapped) \u001B[38;5;129;01mand\u001B[39;00m \u001B[38;5;28misinstance\u001B[39m(mapped[\u001B[38;5;241m0\u001B[39m], ABCSeries):\n\u001B[1;32m   1286\u001B[0m     warnings\u001B[38;5;241m.\u001B[39mwarn(\n\u001B[1;32m   1287\u001B[0m         \u001B[38;5;124m\"\u001B[39m\u001B[38;5;124mReturning a DataFrame from Series.apply when the supplied function \u001B[39m\u001B[38;5;124m\"\u001B[39m\n\u001B[1;32m   1288\u001B[0m         \u001B[38;5;124m\"\u001B[39m\u001B[38;5;124mreturns a Series is deprecated and will be removed in a future \u001B[39m\u001B[38;5;124m\"\u001B[39m\n\u001B[0;32m   (...)\u001B[0m\n\u001B[1;32m   1291\u001B[0m         stacklevel\u001B[38;5;241m=\u001B[39mfind_stack_level(),\n\u001B[1;32m   1292\u001B[0m     )  \u001B[38;5;66;03m# GH52116\u001B[39;00m\n",
      "File \u001B[0;32m~/anaconda3/envs/ForeCache-Master/lib/python3.9/site-packages/pandas/core/base.py:921\u001B[0m, in \u001B[0;36mIndexOpsMixin._map_values\u001B[0;34m(self, mapper, na_action, convert)\u001B[0m\n\u001B[1;32m    918\u001B[0m \u001B[38;5;28;01mif\u001B[39;00m \u001B[38;5;28misinstance\u001B[39m(arr, ExtensionArray):\n\u001B[1;32m    919\u001B[0m     \u001B[38;5;28;01mreturn\u001B[39;00m arr\u001B[38;5;241m.\u001B[39mmap(mapper, na_action\u001B[38;5;241m=\u001B[39mna_action)\n\u001B[0;32m--> 921\u001B[0m \u001B[38;5;28;01mreturn\u001B[39;00m \u001B[43malgorithms\u001B[49m\u001B[38;5;241;43m.\u001B[39;49m\u001B[43mmap_array\u001B[49m\u001B[43m(\u001B[49m\u001B[43marr\u001B[49m\u001B[43m,\u001B[49m\u001B[43m \u001B[49m\u001B[43mmapper\u001B[49m\u001B[43m,\u001B[49m\u001B[43m \u001B[49m\u001B[43mna_action\u001B[49m\u001B[38;5;241;43m=\u001B[39;49m\u001B[43mna_action\u001B[49m\u001B[43m,\u001B[49m\u001B[43m \u001B[49m\u001B[43mconvert\u001B[49m\u001B[38;5;241;43m=\u001B[39;49m\u001B[43mconvert\u001B[49m\u001B[43m)\u001B[49m\n",
      "File \u001B[0;32m~/anaconda3/envs/ForeCache-Master/lib/python3.9/site-packages/pandas/core/algorithms.py:1812\u001B[0m, in \u001B[0;36mmap_array\u001B[0;34m(arr, mapper, na_action, convert)\u001B[0m\n\u001B[1;32m   1810\u001B[0m values \u001B[38;5;241m=\u001B[39m arr\u001B[38;5;241m.\u001B[39mastype(\u001B[38;5;28mobject\u001B[39m, copy\u001B[38;5;241m=\u001B[39m\u001B[38;5;28;01mFalse\u001B[39;00m)\n\u001B[1;32m   1811\u001B[0m \u001B[38;5;28;01mif\u001B[39;00m na_action \u001B[38;5;129;01mis\u001B[39;00m \u001B[38;5;28;01mNone\u001B[39;00m:\n\u001B[0;32m-> 1812\u001B[0m     \u001B[38;5;28;01mreturn\u001B[39;00m \u001B[43mlib\u001B[49m\u001B[38;5;241;43m.\u001B[39;49m\u001B[43mmap_infer\u001B[49m\u001B[43m(\u001B[49m\u001B[43mvalues\u001B[49m\u001B[43m,\u001B[49m\u001B[43m \u001B[49m\u001B[43mmapper\u001B[49m\u001B[43m,\u001B[49m\u001B[43m \u001B[49m\u001B[43mconvert\u001B[49m\u001B[38;5;241;43m=\u001B[39;49m\u001B[43mconvert\u001B[49m\u001B[43m)\u001B[49m\n\u001B[1;32m   1813\u001B[0m \u001B[38;5;28;01melse\u001B[39;00m:\n\u001B[1;32m   1814\u001B[0m     \u001B[38;5;28;01mreturn\u001B[39;00m lib\u001B[38;5;241m.\u001B[39mmap_infer_mask(\n\u001B[1;32m   1815\u001B[0m         values, mapper, mask\u001B[38;5;241m=\u001B[39misna(values)\u001B[38;5;241m.\u001B[39mview(np\u001B[38;5;241m.\u001B[39muint8), convert\u001B[38;5;241m=\u001B[39mconvert\n\u001B[1;32m   1816\u001B[0m     )\n",
      "File \u001B[0;32mlib.pyx:2917\u001B[0m, in \u001B[0;36mpandas._libs.lib.map_infer\u001B[0;34m()\u001B[0m\n",
      "Cell \u001B[0;32mIn[7], line 1\u001B[0m, in \u001B[0;36m<lambda>\u001B[0;34m(arr)\u001B[0m\n\u001B[0;32m----> 1\u001B[0m df_combined[\u001B[38;5;124m'\u001B[39m\u001B[38;5;124mStateAccuracy\u001B[39m\u001B[38;5;124m'\u001B[39m] \u001B[38;5;241m=\u001B[39m df_combined[\u001B[38;5;124m'\u001B[39m\u001B[38;5;124mStateAccuracy\u001B[39m\u001B[38;5;124m'\u001B[39m]\u001B[38;5;241m.\u001B[39mapply(\u001B[38;5;28;01mlambda\u001B[39;00m arr: [\u001B[38;5;241m1\u001B[39m \u001B[38;5;28;01mif\u001B[39;00m x \u001B[38;5;241m==\u001B[39m \u001B[38;5;241m0\u001B[39m \u001B[38;5;28;01melse\u001B[39;00m x \u001B[38;5;28;01mfor\u001B[39;00m x \u001B[38;5;129;01min\u001B[39;00m arr])\n",
      "\u001B[0;31mTypeError\u001B[0m: 'int' object is not iterable"
     ]
    }
   ],
   "source": [
    "\n",
    "df_combined['StateAccuracy'] = df_combined['StateAccuracy'].apply(lambda arr: [1 if x == 0 else x for x in arr])\n"
   ]
  },
  {
   "cell_type": "code",
   "execution_count": 8,
   "metadata": {
    "ExecuteTime": {
     "end_time": "2023-12-03T23:21:18.535666Z",
     "start_time": "2023-12-03T23:21:18.532472Z"
    }
   },
   "outputs": [
    {
     "data": {
      "text/plain": "     Algorithm              User  Threshold  LearningRate  Discount  \\\n1440    Random  pro13_ace_p4_log       0.05           NaN       NaN   \n1441    Random  pro13_ace_p4_log       0.10           NaN       NaN   \n1442    Random  pro13_ace_p4_log       0.20           NaN       NaN   \n1443    Random  pro13_ace_p4_log       0.30           NaN       NaN   \n1444    Random  pro13_ace_p4_log       0.40           NaN       NaN   \n1445    Random  pro13_ace_p4_log       0.50           NaN       NaN   \n1446    Random  pro13_ace_p4_log       0.60           NaN       NaN   \n1447    Random  pro13_ace_p4_log       0.70           NaN       NaN   \n1448    Random  pro13_ace_p4_log       0.80           NaN       NaN   \n1449    Random  pro13_ace_p4_log       0.90           NaN       NaN   \n1450    Random  pro15_ade_p4_log       0.05           NaN       NaN   \n1451    Random  pro15_ade_p4_log       0.10           NaN       NaN   \n1452    Random  pro15_ade_p4_log       0.20           NaN       NaN   \n1453    Random  pro15_ade_p4_log       0.30           NaN       NaN   \n1454    Random  pro15_ade_p4_log       0.40           NaN       NaN   \n1455    Random  pro15_ade_p4_log       0.50           NaN       NaN   \n1456    Random  pro15_ade_p4_log       0.60           NaN       NaN   \n1457    Random  pro15_ade_p4_log       0.70           NaN       NaN   \n1458    Random  pro15_ade_p4_log       0.80           NaN       NaN   \n1459    Random  pro15_ade_p4_log       0.90           NaN       NaN   \n\n      Temperature  Accuracy StateAccuracy    Algo  original_dataframe_index  \\\n1440          NaN  0.125828             0  Random                        10   \n1441          NaN  0.094406             0  Random                        11   \n1442          NaN  0.114173             0  Random                        12   \n1443          NaN  0.094595             0  Random                        13   \n1444          NaN  0.115789             0  Random                        14   \n1445          NaN  0.120253             0  Random                        15   \n1446          NaN  0.134921             0  Random                        16   \n1447          NaN  0.095745             0  Random                        17   \n1448          NaN  0.048387             0  Random                        18   \n1449          NaN  0.200000             0  Random                        19   \n1450          NaN  0.122449             0  Random                        20   \n1451          NaN  0.151079             0  Random                        21   \n1452          NaN  0.133603             0  Random                        22   \n1453          NaN  0.120370             0  Random                        23   \n1454          NaN  0.118919             0  Random                        24   \n1455          NaN  0.116883             0  Random                        25   \n1456          NaN  0.138211             0  Random                        26   \n1457          NaN  0.054348             0  Random                        27   \n1458          NaN  0.081967             0  Random                        28   \n1459          NaN  0.233333             0  Random                        29   \n\n      Reward  Epsilon  \n1440     NaN      NaN  \n1441     NaN      NaN  \n1442     NaN      NaN  \n1443     NaN      NaN  \n1444     NaN      NaN  \n1445     NaN      NaN  \n1446     NaN      NaN  \n1447     NaN      NaN  \n1448     NaN      NaN  \n1449     NaN      NaN  \n1450     NaN      NaN  \n1451     NaN      NaN  \n1452     NaN      NaN  \n1453     NaN      NaN  \n1454     NaN      NaN  \n1455     NaN      NaN  \n1456     NaN      NaN  \n1457     NaN      NaN  \n1458     NaN      NaN  \n1459     NaN      NaN  ",
      "text/html": "<div>\n<style scoped>\n    .dataframe tbody tr th:only-of-type {\n        vertical-align: middle;\n    }\n\n    .dataframe tbody tr th {\n        vertical-align: top;\n    }\n\n    .dataframe thead th {\n        text-align: right;\n    }\n</style>\n<table border=\"1\" class=\"dataframe\">\n  <thead>\n    <tr style=\"text-align: right;\">\n      <th></th>\n      <th>Algorithm</th>\n      <th>User</th>\n      <th>Threshold</th>\n      <th>LearningRate</th>\n      <th>Discount</th>\n      <th>Temperature</th>\n      <th>Accuracy</th>\n      <th>StateAccuracy</th>\n      <th>Algo</th>\n      <th>original_dataframe_index</th>\n      <th>Reward</th>\n      <th>Epsilon</th>\n    </tr>\n  </thead>\n  <tbody>\n    <tr>\n      <th>1440</th>\n      <td>Random</td>\n      <td>pro13_ace_p4_log</td>\n      <td>0.05</td>\n      <td>NaN</td>\n      <td>NaN</td>\n      <td>NaN</td>\n      <td>0.125828</td>\n      <td>0</td>\n      <td>Random</td>\n      <td>10</td>\n      <td>NaN</td>\n      <td>NaN</td>\n    </tr>\n    <tr>\n      <th>1441</th>\n      <td>Random</td>\n      <td>pro13_ace_p4_log</td>\n      <td>0.10</td>\n      <td>NaN</td>\n      <td>NaN</td>\n      <td>NaN</td>\n      <td>0.094406</td>\n      <td>0</td>\n      <td>Random</td>\n      <td>11</td>\n      <td>NaN</td>\n      <td>NaN</td>\n    </tr>\n    <tr>\n      <th>1442</th>\n      <td>Random</td>\n      <td>pro13_ace_p4_log</td>\n      <td>0.20</td>\n      <td>NaN</td>\n      <td>NaN</td>\n      <td>NaN</td>\n      <td>0.114173</td>\n      <td>0</td>\n      <td>Random</td>\n      <td>12</td>\n      <td>NaN</td>\n      <td>NaN</td>\n    </tr>\n    <tr>\n      <th>1443</th>\n      <td>Random</td>\n      <td>pro13_ace_p4_log</td>\n      <td>0.30</td>\n      <td>NaN</td>\n      <td>NaN</td>\n      <td>NaN</td>\n      <td>0.094595</td>\n      <td>0</td>\n      <td>Random</td>\n      <td>13</td>\n      <td>NaN</td>\n      <td>NaN</td>\n    </tr>\n    <tr>\n      <th>1444</th>\n      <td>Random</td>\n      <td>pro13_ace_p4_log</td>\n      <td>0.40</td>\n      <td>NaN</td>\n      <td>NaN</td>\n      <td>NaN</td>\n      <td>0.115789</td>\n      <td>0</td>\n      <td>Random</td>\n      <td>14</td>\n      <td>NaN</td>\n      <td>NaN</td>\n    </tr>\n    <tr>\n      <th>1445</th>\n      <td>Random</td>\n      <td>pro13_ace_p4_log</td>\n      <td>0.50</td>\n      <td>NaN</td>\n      <td>NaN</td>\n      <td>NaN</td>\n      <td>0.120253</td>\n      <td>0</td>\n      <td>Random</td>\n      <td>15</td>\n      <td>NaN</td>\n      <td>NaN</td>\n    </tr>\n    <tr>\n      <th>1446</th>\n      <td>Random</td>\n      <td>pro13_ace_p4_log</td>\n      <td>0.60</td>\n      <td>NaN</td>\n      <td>NaN</td>\n      <td>NaN</td>\n      <td>0.134921</td>\n      <td>0</td>\n      <td>Random</td>\n      <td>16</td>\n      <td>NaN</td>\n      <td>NaN</td>\n    </tr>\n    <tr>\n      <th>1447</th>\n      <td>Random</td>\n      <td>pro13_ace_p4_log</td>\n      <td>0.70</td>\n      <td>NaN</td>\n      <td>NaN</td>\n      <td>NaN</td>\n      <td>0.095745</td>\n      <td>0</td>\n      <td>Random</td>\n      <td>17</td>\n      <td>NaN</td>\n      <td>NaN</td>\n    </tr>\n    <tr>\n      <th>1448</th>\n      <td>Random</td>\n      <td>pro13_ace_p4_log</td>\n      <td>0.80</td>\n      <td>NaN</td>\n      <td>NaN</td>\n      <td>NaN</td>\n      <td>0.048387</td>\n      <td>0</td>\n      <td>Random</td>\n      <td>18</td>\n      <td>NaN</td>\n      <td>NaN</td>\n    </tr>\n    <tr>\n      <th>1449</th>\n      <td>Random</td>\n      <td>pro13_ace_p4_log</td>\n      <td>0.90</td>\n      <td>NaN</td>\n      <td>NaN</td>\n      <td>NaN</td>\n      <td>0.200000</td>\n      <td>0</td>\n      <td>Random</td>\n      <td>19</td>\n      <td>NaN</td>\n      <td>NaN</td>\n    </tr>\n    <tr>\n      <th>1450</th>\n      <td>Random</td>\n      <td>pro15_ade_p4_log</td>\n      <td>0.05</td>\n      <td>NaN</td>\n      <td>NaN</td>\n      <td>NaN</td>\n      <td>0.122449</td>\n      <td>0</td>\n      <td>Random</td>\n      <td>20</td>\n      <td>NaN</td>\n      <td>NaN</td>\n    </tr>\n    <tr>\n      <th>1451</th>\n      <td>Random</td>\n      <td>pro15_ade_p4_log</td>\n      <td>0.10</td>\n      <td>NaN</td>\n      <td>NaN</td>\n      <td>NaN</td>\n      <td>0.151079</td>\n      <td>0</td>\n      <td>Random</td>\n      <td>21</td>\n      <td>NaN</td>\n      <td>NaN</td>\n    </tr>\n    <tr>\n      <th>1452</th>\n      <td>Random</td>\n      <td>pro15_ade_p4_log</td>\n      <td>0.20</td>\n      <td>NaN</td>\n      <td>NaN</td>\n      <td>NaN</td>\n      <td>0.133603</td>\n      <td>0</td>\n      <td>Random</td>\n      <td>22</td>\n      <td>NaN</td>\n      <td>NaN</td>\n    </tr>\n    <tr>\n      <th>1453</th>\n      <td>Random</td>\n      <td>pro15_ade_p4_log</td>\n      <td>0.30</td>\n      <td>NaN</td>\n      <td>NaN</td>\n      <td>NaN</td>\n      <td>0.120370</td>\n      <td>0</td>\n      <td>Random</td>\n      <td>23</td>\n      <td>NaN</td>\n      <td>NaN</td>\n    </tr>\n    <tr>\n      <th>1454</th>\n      <td>Random</td>\n      <td>pro15_ade_p4_log</td>\n      <td>0.40</td>\n      <td>NaN</td>\n      <td>NaN</td>\n      <td>NaN</td>\n      <td>0.118919</td>\n      <td>0</td>\n      <td>Random</td>\n      <td>24</td>\n      <td>NaN</td>\n      <td>NaN</td>\n    </tr>\n    <tr>\n      <th>1455</th>\n      <td>Random</td>\n      <td>pro15_ade_p4_log</td>\n      <td>0.50</td>\n      <td>NaN</td>\n      <td>NaN</td>\n      <td>NaN</td>\n      <td>0.116883</td>\n      <td>0</td>\n      <td>Random</td>\n      <td>25</td>\n      <td>NaN</td>\n      <td>NaN</td>\n    </tr>\n    <tr>\n      <th>1456</th>\n      <td>Random</td>\n      <td>pro15_ade_p4_log</td>\n      <td>0.60</td>\n      <td>NaN</td>\n      <td>NaN</td>\n      <td>NaN</td>\n      <td>0.138211</td>\n      <td>0</td>\n      <td>Random</td>\n      <td>26</td>\n      <td>NaN</td>\n      <td>NaN</td>\n    </tr>\n    <tr>\n      <th>1457</th>\n      <td>Random</td>\n      <td>pro15_ade_p4_log</td>\n      <td>0.70</td>\n      <td>NaN</td>\n      <td>NaN</td>\n      <td>NaN</td>\n      <td>0.054348</td>\n      <td>0</td>\n      <td>Random</td>\n      <td>27</td>\n      <td>NaN</td>\n      <td>NaN</td>\n    </tr>\n    <tr>\n      <th>1458</th>\n      <td>Random</td>\n      <td>pro15_ade_p4_log</td>\n      <td>0.80</td>\n      <td>NaN</td>\n      <td>NaN</td>\n      <td>NaN</td>\n      <td>0.081967</td>\n      <td>0</td>\n      <td>Random</td>\n      <td>28</td>\n      <td>NaN</td>\n      <td>NaN</td>\n    </tr>\n    <tr>\n      <th>1459</th>\n      <td>Random</td>\n      <td>pro15_ade_p4_log</td>\n      <td>0.90</td>\n      <td>NaN</td>\n      <td>NaN</td>\n      <td>NaN</td>\n      <td>0.233333</td>\n      <td>0</td>\n      <td>Random</td>\n      <td>29</td>\n      <td>NaN</td>\n      <td>NaN</td>\n    </tr>\n  </tbody>\n</table>\n</div>"
     },
     "execution_count": 8,
     "metadata": {},
     "output_type": "execute_result"
    }
   ],
   "source": [
    "df_combined.tail(20)"
   ]
  },
  {
   "cell_type": "code",
   "execution_count": 9,
   "metadata": {
    "collapsed": false,
    "ExecuteTime": {
     "end_time": "2023-12-03T23:21:28.507739Z",
     "start_time": "2023-12-03T23:21:28.497270Z"
    }
   },
   "outputs": [],
   "source": [
    "df_combined.to_csv(\"/Users/aryal/Desktop/ForeCache/foreCache-interaction/ForeCache_Models/Experiments_Folder/viz-rec-experiments-master.csv\", index=False)"
   ]
  },
  {
   "cell_type": "code",
   "execution_count": 18,
   "metadata": {
    "ExecuteTime": {
     "end_time": "2023-09-05T17:36:19.088890Z",
     "start_time": "2023-09-05T17:36:19.027561Z"
    }
   },
   "outputs": [
    {
     "ename": "NameError",
     "evalue": "name 'dgfdf' is not defined",
     "output_type": "error",
     "traceback": [
      "\u001B[0;31m---------------------------------------------------------------------------\u001B[0m",
      "\u001B[0;31mNameError\u001B[0m                                 Traceback (most recent call last)",
      "Cell \u001B[0;32mIn[18], line 1\u001B[0m\n\u001B[0;32m----> 1\u001B[0m \u001B[43mdgfdf\u001B[49m\n",
      "\u001B[0;31mNameError\u001B[0m: name 'dgfdf' is not defined"
     ]
    }
   ],
   "source": []
  },
  {
   "cell_type": "code",
   "execution_count": null,
   "outputs": [],
   "source": [],
   "metadata": {
    "collapsed": false
   }
  }
 ],
 "metadata": {
  "kernelspec": {
   "display_name": "Python 3",
   "language": "python",
   "name": "python3"
  },
  "language_info": {
   "codemirror_mode": {
    "name": "ipython",
    "version": 3
   },
   "file_extension": ".py",
   "mimetype": "text/x-python",
   "name": "python",
   "nbconvert_exporter": "python",
   "pygments_lexer": "ipython3",
   "version": "3.9.6"
  }
 },
 "nbformat": 4,
 "nbformat_minor": 0
}
