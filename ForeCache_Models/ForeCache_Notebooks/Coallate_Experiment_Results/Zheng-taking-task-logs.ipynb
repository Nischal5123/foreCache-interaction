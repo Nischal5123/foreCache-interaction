{
 "cells": [
  {
   "cell_type": "code",
   "execution_count": 17,
   "metadata": {
    "collapsed": true,
    "ExecuteTime": {
     "end_time": "2024-01-03T02:54:20.521062Z",
     "start_time": "2024-01-03T02:54:20.516880Z"
    }
   },
   "outputs": [],
   "source": [
    "import numpy as np\n",
    "import pandas as pd\n",
    "from matplotlib import pyplot as plt\n",
    "import os\n",
    "import json"
   ]
  },
  {
   "cell_type": "code",
   "execution_count": 18,
   "outputs": [
    {
     "name": "stdout",
     "output_type": "stream",
     "text": [
      "pro3_ace_p2_logs.json\n",
      "pro18_adf_p2_logs.json\n",
      "stu17_ace_p2_logs.json\n",
      "stu29_ade_p2_logs.json\n",
      "pro21_ade_p2_logs.json\n",
      "stu10_acf_p2_logs.json\n",
      "stu26_ace_p2_logs.json\n",
      "stu11_adf_p2_logs.json\n",
      "pro23_acf_p2_logs.json\n",
      "stu30_adf_p2_logs.json\n",
      "stu7_ade_p2_logs.json\n",
      "pro5_adf_p2_logs.json\n",
      "pro20_ade_p2_logs.json\n",
      "pro15_ade_p2_logs.json\n",
      "stu4_ade_p2_logs.json\n",
      "pro9_acf_p2_logs.json\n",
      "pro24_adf_p2_logs.json\n",
      "stu3_acf_p2_logs.json\n",
      "stu37_adf_p2_logs.json\n",
      "stu24_ace_p2_logs.json\n",
      "stu15_ade_p2_logs.json\n",
      "stu38_acf_p2_logs.json\n",
      "pro31_adf_p2_logs.json\n",
      "stu39_adf_p2_logs.json\n",
      "stu31_ade_p2_logs.json\n",
      "pro29_ace_p2_logs.json\n",
      "pro17_ace_p2_logs.json\n",
      "stu21_ace_p2_logs.json\n",
      "pro8_acf_p2_logs.json\n",
      "stu13_acf_p2_logs.json\n",
      "pro25_acf_p2_logs.json\n",
      "stu6_acf_p2_logs.json\n",
      "pro13_ace_p2_logs.json\n",
      "stu25_ace_p2_logs.json\n",
      "stu36_adf_p2_logs.json\n",
      "pro22_ade_p2_logs.json\n",
      "Conversion from JSON to CSV completed.\n"
     ]
    }
   ],
   "source": [
    "user_interactions_path = '/Users/aryal/Desktop/ForeCache/foreCache-interaction/ForeCache_Models/data/zheng/logs'\n",
    "csv_output_path = '/Users/aryal/Desktop/ForeCache/foreCache-interaction/ForeCache_Models/data/zheng/processed_interactions_p2/'\n",
    "master_data_path ='/Users/aryal/Desktop/ForeCache/foreCache-interaction/ForeCache_Models/data/zheng/'\n",
    "json_files = [file for file in os.listdir(user_interactions_path) if file.endswith('p2_logs.json') and file.split('_')[1].startswith('a')]\n",
    "for json_filename in json_files:\n",
    "    if json_filename.endswith('p2_logs.json'):\n",
    "        # Construct the CSV filename\n",
    "        csv_filename = json_filename.replace('_p2_logs.json', '_p2_logs.csv')\n",
    "\n",
    "        # Read JSON data into a DataFrame\n",
    "        with open(os.path.join(user_interactions_path, json_filename), 'r') as file:\n",
    "            data = json.load(file)\n",
    "\n",
    "        df = pd.DataFrame(data, columns=['Interaction', 'Value', 'Time'])\n",
    "\n",
    "        # Save the DataFrame to CSV\n",
    "        df.to_csv(os.path.join(csv_output_path, csv_filename), index=False)\n",
    "        print(json_filename)\n",
    "\n",
    "# Display a message indicating the process is complete\n",
    "print(\"Conversion from JSON to CSV completed.\")\n"
   ],
   "metadata": {
    "collapsed": false,
    "ExecuteTime": {
     "end_time": "2024-01-03T02:54:21.332459Z",
     "start_time": "2024-01-03T02:54:21.261125Z"
    }
   }
  },
  {
   "cell_type": "code",
   "execution_count": null,
   "outputs": [],
   "source": [],
   "metadata": {
    "collapsed": false
   }
  }
 ],
 "metadata": {
  "kernelspec": {
   "display_name": "Python 3",
   "language": "python",
   "name": "python3"
  },
  "language_info": {
   "codemirror_mode": {
    "name": "ipython",
    "version": 3
   },
   "file_extension": ".py",
   "mimetype": "text/x-python",
   "name": "python",
   "nbconvert_exporter": "python",
   "pygments_lexer": "ipython3",
   "version": "3.9.6"
  }
 },
 "nbformat": 4,
 "nbformat_minor": 0
}
