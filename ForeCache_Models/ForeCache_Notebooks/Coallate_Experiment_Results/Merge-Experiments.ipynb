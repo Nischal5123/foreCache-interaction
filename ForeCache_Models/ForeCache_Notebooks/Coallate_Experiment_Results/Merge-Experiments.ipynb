{
 "cells": [
  {
   "cell_type": "code",
   "execution_count": 14,
   "metadata": {
    "collapsed": true,
    "ExecuteTime": {
     "end_time": "2023-09-08T06:01:09.451467Z",
     "start_time": "2023-09-08T06:01:09.450646Z"
    }
   },
   "outputs": [],
   "source": [
    "import numpy as np\n",
    "import pandas as pd\n",
    "from matplotlib import pyplot as plt\n",
    "\n"
   ]
  },
  {
   "cell_type": "code",
   "execution_count": 15,
   "metadata": {
    "collapsed": false,
    "ExecuteTime": {
     "end_time": "2023-09-08T06:01:10.066504Z",
     "start_time": "2023-09-08T06:01:10.047052Z"
    }
   },
   "outputs": [],
   "source": [
    "df_ac = pd.read_csv(\"/Users/aryal/Desktop/ForeCache/foreCache-interaction/ForeCache_Models/Experiments_Folder/Results/ActorCritic.csv\")\n",
    "df_wsls =pd.read_csv(\"/Users/aryal/Desktop/ForeCache/foreCache-interaction/ForeCache_Models/Experiments_Folder/Results/WSLS.csv\")\n",
    "df_greedy=pd.read_csv(\"/Users/aryal/Desktop/ForeCache/foreCache-interaction/ForeCache_Models/Experiments_Folder/Results/Greedy.csv\")\n",
    "df_sarsa=pd.read_csv(\"/Users/aryal/Desktop/ForeCache/foreCache-interaction/ForeCache_Models/Experiments_Folder/Results/SARSA.csv\")\n",
    "df_qlearn=pd.read_csv(\"/Users/aryal/Desktop/ForeCache/foreCache-interaction/ForeCache_Models/Experiments_Folder/Results/QLearn.csv\")\n",
    "df_reinforce=pd.read_csv(\"/Users/aryal/Desktop/ForeCache/foreCache-interaction/ForeCache_Models/Experiments_Folder/Results/Reinforce.csv\")\n",
    "df_naive=pd.read_csv(\"/Users/aryal/Desktop/ForeCache/foreCache-interaction/ForeCache_Models/Experiments_Folder/Results/Naive.csv\")\n",
    "df_momentum=pd.read_csv('/Users/aryal/Desktop/ForeCache/foreCache-interaction/ForeCache_Models/Experiments_Folder/Results/Momentum.csv')\n",
    "df_random=pd.read_csv('/Users/aryal/Desktop/ForeCache/foreCache-interaction/ForeCache_Models/Experiments_Folder/Results/Random.csv')\n",
    "#df_tamerq=pd.read_csv('/Users/aryal/Desktop/ForeCache/foreCache-interaction/ForeCache_Models/Experiments_Folder/Results/Tamer_Q_Learning.csv')"
   ]
  },
  {
   "cell_type": "code",
   "execution_count": 16,
   "metadata": {
    "collapsed": false,
    "ExecuteTime": {
     "end_time": "2023-09-08T06:01:24.815884Z",
     "start_time": "2023-09-08T06:01:24.808068Z"
    }
   },
   "outputs": [],
   "source": [
    "# Add a new column to each dataframe with the name of the dataframe\n",
    "df_ac['Algo'] = 'ActorCritic'\n",
    "df_wsls['Algo'] = 'WSLS'\n",
    "df_greedy['Algo'] = 'Greedy'\n",
    "df_sarsa['Algo'] = 'SARSA'\n",
    "df_qlearn['Algo'] = 'QLearn'\n",
    "df_reinforce['Algo'] = 'Reinforce'\n",
    "df_naive['Algo'] = 'Naive'\n",
    "df_momentum['Algo'] = 'Momentum'\n",
    "df_random['Algo'] = 'Random'\n",
    "#df_tamerq['Algo'] = 'Tamer-Q'\n",
    "\n",
    "# Add a new column to each dataframe to keep track of the original index\n",
    "df_ac['original_dataframe_index'] = range(len(df_ac))\n",
    "df_wsls['original_dataframe_index'] = range(len(df_wsls))\n",
    "df_greedy['original_dataframe_index'] = range(len(df_greedy))\n",
    "df_sarsa['original_dataframe_index'] = range(len(df_sarsa))\n",
    "df_qlearn['original_dataframe_index'] = range(len(df_qlearn))\n",
    "df_reinforce['original_dataframe_index'] = range(len(df_qlearn))\n",
    "df_naive['original_dataframe_index'] = range(len(df_naive))\n",
    "df_momentum['original_dataframe_index'] = range(len(df_momentum))\n",
    "df_random['original_dataframe_index'] = range(len(df_random))\n",
    "#df_tamerq['original_dataframe_index'] = range(len(df_tamerq))\n",
    "\n",
    "# Combine the dataframes into one\n",
    "df_combined = pd.concat([df_ac, df_wsls, df_greedy, df_sarsa, df_qlearn,df_reinforce,df_naive,df_momentum,df_random])\n",
    "\n",
    "# Reset the index of the combined dataframe\n",
    "df_combined = df_combined.reset_index(drop=True)"
   ]
  },
  {
   "cell_type": "code",
   "execution_count": 18,
   "metadata": {
    "collapsed": false,
    "ExecuteTime": {
     "end_time": "2023-09-08T06:01:47.811832Z",
     "start_time": "2023-09-08T06:01:47.809230Z"
    }
   },
   "outputs": [
    {
     "data": {
      "text/plain": "     Algorithm              User  Threshold  LearningRate  Discount  \\\n1980    QLearn  data/NDSI-2D/U_8       0.05        0.0001      0.10   \n1981    QLearn  data/NDSI-2D/U_8       0.10        0.0001      0.10   \n1982    QLearn  data/NDSI-2D/U_8       0.20        1.0000      0.90   \n1983    QLearn  data/NDSI-2D/U_8       0.30        0.0001      0.10   \n1984    QLearn  data/NDSI-2D/U_8       0.40        0.1000      0.10   \n1985    QLearn  data/NDSI-2D/U_8       0.50        0.5000      0.10   \n1986    QLearn  data/NDSI-2D/U_8       0.60        0.0010      0.50   \n1987    QLearn  data/NDSI-2D/U_8       0.70        0.0100      0.99   \n1988    QLearn  data/NDSI-2D/U_8       0.80        0.0010      0.99   \n1989    QLearn  data/NDSI-2D/U_8       0.90        0.1000      0.10   \n1990    QLearn  data/NDSI-2D/U_9       0.05        0.0010      0.10   \n1991    QLearn  data/NDSI-2D/U_9       0.10        0.1000      0.50   \n1992    QLearn  data/NDSI-2D/U_9       0.20        1.0000      0.99   \n1993    QLearn  data/NDSI-2D/U_9       0.30        0.1000      0.99   \n1994    QLearn  data/NDSI-2D/U_9       0.40        0.0100      0.90   \n1995    QLearn  data/NDSI-2D/U_9       0.50        0.0100      0.90   \n1996    QLearn  data/NDSI-2D/U_9       0.60        0.0100      0.20   \n1997    QLearn  data/NDSI-2D/U_9       0.70        0.5000      0.90   \n1998    QLearn  data/NDSI-2D/U_9       0.80        0.5000      0.10   \n1999    QLearn  data/NDSI-2D/U_9       0.90        0.0001      0.90   \n\n      Temperature  Accuracy  \\\n1980          NaN  0.602564   \n1981          NaN  0.554054   \n1982          NaN  0.303030   \n1983          NaN  0.465517   \n1984          NaN  0.380000   \n1985          NaN  0.414634   \n1986          NaN  0.424242   \n1987          NaN  0.440000   \n1988          NaN  0.529412   \n1989          NaN  0.111111   \n1990          NaN  0.616822   \n1991          NaN  0.415842   \n1992          NaN  0.500000   \n1993          NaN  0.582278   \n1994          NaN  0.529412   \n1995          NaN  0.464286   \n1996          NaN  0.444444   \n1997          NaN  0.588235   \n1998          NaN  0.391304   \n1999          NaN  0.250000   \n\n                                          StateAccuracy     Algo  \\\n1980      [0.3, 0.8085106382978723, 0.2857142857142857]  Tamer-Q   \n1981     [0.3, 0.7674418604651163, 0.23809523809523808]  Tamer-Q   \n1982    [0.3, 0.35135135135135137, 0.21052631578947367]  Tamer-Q   \n1983     [0.3, 0.6896551724137931, 0.21052631578947367]  Tamer-Q   \n1984                    [0.2, 0.48, 0.3333333333333333]  Tamer-Q   \n1985  [0.2222222222222222, 0.7222222222222222, 0.142...  Tamer-Q   \n1986  [0.4444444444444444, 0.36363636363636365, 0.46...  Tamer-Q   \n1987                   [0.125, 0.5, 0.6666666666666666]  Tamer-Q   \n1988                     [0.4, 0.4, 0.7142857142857143]  Tamer-Q   \n1989                                   [None, 0.5, 0.0]  Tamer-Q   \n1990  [0.5769230769230769, 0.7288135593220338, 0.363...  Tamer-Q   \n1991    [0.5384615384615384, 0.38181818181818183, 0.35]  Tamer-Q   \n1992   [0.625, 0.40425531914893614, 0.5789473684210527]  Tamer-Q   \n1993  [0.5333333333333333, 0.6086956521739131, 0.555...  Tamer-Q   \n1994  [0.3333333333333333, 0.7105263157894737, 0.266...  Tamer-Q   \n1995     [0.5384615384615384, 0.41379310344827586, 0.5]  Tamer-Q   \n1996  [0.2727272727272727, 0.6818181818181818, 0.166...  Tamer-Q   \n1997                                   [0.5, 0.5, 0.75]  Tamer-Q   \n1998      [0.2, 0.7777777777777778, 0.1111111111111111]  Tamer-Q   \n1999                    [0.0, 0.0, 0.42857142857142855]  Tamer-Q   \n\n      original_dataframe_index  Epsilon    Reward  \n1980                       180     0.01  1.006369  \n1981                       181     0.01  1.006711  \n1982                       182     0.01  1.007519  \n1983                       183     0.01  1.008547  \n1984                       184     1.00  1.009901  \n1985                       185     0.01  1.012048  \n1986                       186     1.00  1.014925  \n1987                       187     0.70  1.019608  \n1988                       188     1.00  1.028571  \n1989                       189     0.05  1.052632  \n1990                       190     0.10  1.004651  \n1991                       191     1.00  1.004926  \n1992                       192     0.70  1.005525  \n1993                       193     0.70  1.006289  \n1994                       194     0.05  1.007299  \n1995                       195     1.00  1.008850  \n1996                       196     0.10  1.010989  \n1997                       197     0.10  1.014493  \n1998                       198     0.10  1.021277  \n1999                       199     1.00  1.040000  ",
      "text/html": "<div>\n<style scoped>\n    .dataframe tbody tr th:only-of-type {\n        vertical-align: middle;\n    }\n\n    .dataframe tbody tr th {\n        vertical-align: top;\n    }\n\n    .dataframe thead th {\n        text-align: right;\n    }\n</style>\n<table border=\"1\" class=\"dataframe\">\n  <thead>\n    <tr style=\"text-align: right;\">\n      <th></th>\n      <th>Algorithm</th>\n      <th>User</th>\n      <th>Threshold</th>\n      <th>LearningRate</th>\n      <th>Discount</th>\n      <th>Temperature</th>\n      <th>Accuracy</th>\n      <th>StateAccuracy</th>\n      <th>Algo</th>\n      <th>original_dataframe_index</th>\n      <th>Epsilon</th>\n      <th>Reward</th>\n    </tr>\n  </thead>\n  <tbody>\n    <tr>\n      <th>1980</th>\n      <td>QLearn</td>\n      <td>data/NDSI-2D/U_8</td>\n      <td>0.05</td>\n      <td>0.0001</td>\n      <td>0.10</td>\n      <td>NaN</td>\n      <td>0.602564</td>\n      <td>[0.3, 0.8085106382978723, 0.2857142857142857]</td>\n      <td>Tamer-Q</td>\n      <td>180</td>\n      <td>0.01</td>\n      <td>1.006369</td>\n    </tr>\n    <tr>\n      <th>1981</th>\n      <td>QLearn</td>\n      <td>data/NDSI-2D/U_8</td>\n      <td>0.10</td>\n      <td>0.0001</td>\n      <td>0.10</td>\n      <td>NaN</td>\n      <td>0.554054</td>\n      <td>[0.3, 0.7674418604651163, 0.23809523809523808]</td>\n      <td>Tamer-Q</td>\n      <td>181</td>\n      <td>0.01</td>\n      <td>1.006711</td>\n    </tr>\n    <tr>\n      <th>1982</th>\n      <td>QLearn</td>\n      <td>data/NDSI-2D/U_8</td>\n      <td>0.20</td>\n      <td>1.0000</td>\n      <td>0.90</td>\n      <td>NaN</td>\n      <td>0.303030</td>\n      <td>[0.3, 0.35135135135135137, 0.21052631578947367]</td>\n      <td>Tamer-Q</td>\n      <td>182</td>\n      <td>0.01</td>\n      <td>1.007519</td>\n    </tr>\n    <tr>\n      <th>1983</th>\n      <td>QLearn</td>\n      <td>data/NDSI-2D/U_8</td>\n      <td>0.30</td>\n      <td>0.0001</td>\n      <td>0.10</td>\n      <td>NaN</td>\n      <td>0.465517</td>\n      <td>[0.3, 0.6896551724137931, 0.21052631578947367]</td>\n      <td>Tamer-Q</td>\n      <td>183</td>\n      <td>0.01</td>\n      <td>1.008547</td>\n    </tr>\n    <tr>\n      <th>1984</th>\n      <td>QLearn</td>\n      <td>data/NDSI-2D/U_8</td>\n      <td>0.40</td>\n      <td>0.1000</td>\n      <td>0.10</td>\n      <td>NaN</td>\n      <td>0.380000</td>\n      <td>[0.2, 0.48, 0.3333333333333333]</td>\n      <td>Tamer-Q</td>\n      <td>184</td>\n      <td>1.00</td>\n      <td>1.009901</td>\n    </tr>\n    <tr>\n      <th>1985</th>\n      <td>QLearn</td>\n      <td>data/NDSI-2D/U_8</td>\n      <td>0.50</td>\n      <td>0.5000</td>\n      <td>0.10</td>\n      <td>NaN</td>\n      <td>0.414634</td>\n      <td>[0.2222222222222222, 0.7222222222222222, 0.142...</td>\n      <td>Tamer-Q</td>\n      <td>185</td>\n      <td>0.01</td>\n      <td>1.012048</td>\n    </tr>\n    <tr>\n      <th>1986</th>\n      <td>QLearn</td>\n      <td>data/NDSI-2D/U_8</td>\n      <td>0.60</td>\n      <td>0.0010</td>\n      <td>0.50</td>\n      <td>NaN</td>\n      <td>0.424242</td>\n      <td>[0.4444444444444444, 0.36363636363636365, 0.46...</td>\n      <td>Tamer-Q</td>\n      <td>186</td>\n      <td>1.00</td>\n      <td>1.014925</td>\n    </tr>\n    <tr>\n      <th>1987</th>\n      <td>QLearn</td>\n      <td>data/NDSI-2D/U_8</td>\n      <td>0.70</td>\n      <td>0.0100</td>\n      <td>0.99</td>\n      <td>NaN</td>\n      <td>0.440000</td>\n      <td>[0.125, 0.5, 0.6666666666666666]</td>\n      <td>Tamer-Q</td>\n      <td>187</td>\n      <td>0.70</td>\n      <td>1.019608</td>\n    </tr>\n    <tr>\n      <th>1988</th>\n      <td>QLearn</td>\n      <td>data/NDSI-2D/U_8</td>\n      <td>0.80</td>\n      <td>0.0010</td>\n      <td>0.99</td>\n      <td>NaN</td>\n      <td>0.529412</td>\n      <td>[0.4, 0.4, 0.7142857142857143]</td>\n      <td>Tamer-Q</td>\n      <td>188</td>\n      <td>1.00</td>\n      <td>1.028571</td>\n    </tr>\n    <tr>\n      <th>1989</th>\n      <td>QLearn</td>\n      <td>data/NDSI-2D/U_8</td>\n      <td>0.90</td>\n      <td>0.1000</td>\n      <td>0.10</td>\n      <td>NaN</td>\n      <td>0.111111</td>\n      <td>[None, 0.5, 0.0]</td>\n      <td>Tamer-Q</td>\n      <td>189</td>\n      <td>0.05</td>\n      <td>1.052632</td>\n    </tr>\n    <tr>\n      <th>1990</th>\n      <td>QLearn</td>\n      <td>data/NDSI-2D/U_9</td>\n      <td>0.05</td>\n      <td>0.0010</td>\n      <td>0.10</td>\n      <td>NaN</td>\n      <td>0.616822</td>\n      <td>[0.5769230769230769, 0.7288135593220338, 0.363...</td>\n      <td>Tamer-Q</td>\n      <td>190</td>\n      <td>0.10</td>\n      <td>1.004651</td>\n    </tr>\n    <tr>\n      <th>1991</th>\n      <td>QLearn</td>\n      <td>data/NDSI-2D/U_9</td>\n      <td>0.10</td>\n      <td>0.1000</td>\n      <td>0.50</td>\n      <td>NaN</td>\n      <td>0.415842</td>\n      <td>[0.5384615384615384, 0.38181818181818183, 0.35]</td>\n      <td>Tamer-Q</td>\n      <td>191</td>\n      <td>1.00</td>\n      <td>1.004926</td>\n    </tr>\n    <tr>\n      <th>1992</th>\n      <td>QLearn</td>\n      <td>data/NDSI-2D/U_9</td>\n      <td>0.20</td>\n      <td>1.0000</td>\n      <td>0.99</td>\n      <td>NaN</td>\n      <td>0.500000</td>\n      <td>[0.625, 0.40425531914893614, 0.5789473684210527]</td>\n      <td>Tamer-Q</td>\n      <td>192</td>\n      <td>0.70</td>\n      <td>1.005525</td>\n    </tr>\n    <tr>\n      <th>1993</th>\n      <td>QLearn</td>\n      <td>data/NDSI-2D/U_9</td>\n      <td>0.30</td>\n      <td>0.1000</td>\n      <td>0.99</td>\n      <td>NaN</td>\n      <td>0.582278</td>\n      <td>[0.5333333333333333, 0.6086956521739131, 0.555...</td>\n      <td>Tamer-Q</td>\n      <td>193</td>\n      <td>0.70</td>\n      <td>1.006289</td>\n    </tr>\n    <tr>\n      <th>1994</th>\n      <td>QLearn</td>\n      <td>data/NDSI-2D/U_9</td>\n      <td>0.40</td>\n      <td>0.0100</td>\n      <td>0.90</td>\n      <td>NaN</td>\n      <td>0.529412</td>\n      <td>[0.3333333333333333, 0.7105263157894737, 0.266...</td>\n      <td>Tamer-Q</td>\n      <td>194</td>\n      <td>0.05</td>\n      <td>1.007299</td>\n    </tr>\n    <tr>\n      <th>1995</th>\n      <td>QLearn</td>\n      <td>data/NDSI-2D/U_9</td>\n      <td>0.50</td>\n      <td>0.0100</td>\n      <td>0.90</td>\n      <td>NaN</td>\n      <td>0.464286</td>\n      <td>[0.5384615384615384, 0.41379310344827586, 0.5]</td>\n      <td>Tamer-Q</td>\n      <td>195</td>\n      <td>1.00</td>\n      <td>1.008850</td>\n    </tr>\n    <tr>\n      <th>1996</th>\n      <td>QLearn</td>\n      <td>data/NDSI-2D/U_9</td>\n      <td>0.60</td>\n      <td>0.0100</td>\n      <td>0.20</td>\n      <td>NaN</td>\n      <td>0.444444</td>\n      <td>[0.2727272727272727, 0.6818181818181818, 0.166...</td>\n      <td>Tamer-Q</td>\n      <td>196</td>\n      <td>0.10</td>\n      <td>1.010989</td>\n    </tr>\n    <tr>\n      <th>1997</th>\n      <td>QLearn</td>\n      <td>data/NDSI-2D/U_9</td>\n      <td>0.70</td>\n      <td>0.5000</td>\n      <td>0.90</td>\n      <td>NaN</td>\n      <td>0.588235</td>\n      <td>[0.5, 0.5, 0.75]</td>\n      <td>Tamer-Q</td>\n      <td>197</td>\n      <td>0.10</td>\n      <td>1.014493</td>\n    </tr>\n    <tr>\n      <th>1998</th>\n      <td>QLearn</td>\n      <td>data/NDSI-2D/U_9</td>\n      <td>0.80</td>\n      <td>0.5000</td>\n      <td>0.10</td>\n      <td>NaN</td>\n      <td>0.391304</td>\n      <td>[0.2, 0.7777777777777778, 0.1111111111111111]</td>\n      <td>Tamer-Q</td>\n      <td>198</td>\n      <td>0.10</td>\n      <td>1.021277</td>\n    </tr>\n    <tr>\n      <th>1999</th>\n      <td>QLearn</td>\n      <td>data/NDSI-2D/U_9</td>\n      <td>0.90</td>\n      <td>0.0001</td>\n      <td>0.90</td>\n      <td>NaN</td>\n      <td>0.250000</td>\n      <td>[0.0, 0.0, 0.42857142857142855]</td>\n      <td>Tamer-Q</td>\n      <td>199</td>\n      <td>1.00</td>\n      <td>1.040000</td>\n    </tr>\n  </tbody>\n</table>\n</div>"
     },
     "execution_count": 18,
     "metadata": {},
     "output_type": "execute_result"
    }
   ],
   "source": [
    "df_combined.tail(20)\n"
   ]
  },
  {
   "cell_type": "code",
   "execution_count": 19,
   "metadata": {
    "ExecuteTime": {
     "end_time": "2023-09-08T06:01:48.997348Z",
     "start_time": "2023-09-08T06:01:48.989313Z"
    }
   },
   "outputs": [],
   "source": [
    "def update_array_column(arr):\n",
    "    return np.where(arr == 0, 1, arr)"
   ]
  },
  {
   "cell_type": "code",
   "execution_count": 20,
   "metadata": {
    "ExecuteTime": {
     "end_time": "2023-09-08T06:01:49.818353Z",
     "start_time": "2023-09-08T06:01:49.816237Z"
    }
   },
   "outputs": [],
   "source": [
    "\n",
    "df_combined['StateAccuracy'] = df_combined['StateAccuracy'].apply(lambda arr: [1 if x == 0 else x for x in arr])\n"
   ]
  },
  {
   "cell_type": "code",
   "execution_count": 21,
   "metadata": {
    "ExecuteTime": {
     "end_time": "2023-09-08T06:01:50.603225Z",
     "start_time": "2023-09-08T06:01:50.597481Z"
    }
   },
   "outputs": [
    {
     "data": {
      "text/plain": "     Algorithm              User  Threshold  LearningRate  Discount  \\\n1980    QLearn  data/NDSI-2D/U_8       0.05        0.0001      0.10   \n1981    QLearn  data/NDSI-2D/U_8       0.10        0.0001      0.10   \n1982    QLearn  data/NDSI-2D/U_8       0.20        1.0000      0.90   \n1983    QLearn  data/NDSI-2D/U_8       0.30        0.0001      0.10   \n1984    QLearn  data/NDSI-2D/U_8       0.40        0.1000      0.10   \n1985    QLearn  data/NDSI-2D/U_8       0.50        0.5000      0.10   \n1986    QLearn  data/NDSI-2D/U_8       0.60        0.0010      0.50   \n1987    QLearn  data/NDSI-2D/U_8       0.70        0.0100      0.99   \n1988    QLearn  data/NDSI-2D/U_8       0.80        0.0010      0.99   \n1989    QLearn  data/NDSI-2D/U_8       0.90        0.1000      0.10   \n1990    QLearn  data/NDSI-2D/U_9       0.05        0.0010      0.10   \n1991    QLearn  data/NDSI-2D/U_9       0.10        0.1000      0.50   \n1992    QLearn  data/NDSI-2D/U_9       0.20        1.0000      0.99   \n1993    QLearn  data/NDSI-2D/U_9       0.30        0.1000      0.99   \n1994    QLearn  data/NDSI-2D/U_9       0.40        0.0100      0.90   \n1995    QLearn  data/NDSI-2D/U_9       0.50        0.0100      0.90   \n1996    QLearn  data/NDSI-2D/U_9       0.60        0.0100      0.20   \n1997    QLearn  data/NDSI-2D/U_9       0.70        0.5000      0.90   \n1998    QLearn  data/NDSI-2D/U_9       0.80        0.5000      0.10   \n1999    QLearn  data/NDSI-2D/U_9       0.90        0.0001      0.90   \n\n      Temperature  Accuracy  \\\n1980          NaN  0.602564   \n1981          NaN  0.554054   \n1982          NaN  0.303030   \n1983          NaN  0.465517   \n1984          NaN  0.380000   \n1985          NaN  0.414634   \n1986          NaN  0.424242   \n1987          NaN  0.440000   \n1988          NaN  0.529412   \n1989          NaN  0.111111   \n1990          NaN  0.616822   \n1991          NaN  0.415842   \n1992          NaN  0.500000   \n1993          NaN  0.582278   \n1994          NaN  0.529412   \n1995          NaN  0.464286   \n1996          NaN  0.444444   \n1997          NaN  0.588235   \n1998          NaN  0.391304   \n1999          NaN  0.250000   \n\n                                          StateAccuracy     Algo  \\\n1980  [[, 0, ., 3, ,,  , 0, ., 8, 0, 8, 5, 1, 0, 6, ...  Tamer-Q   \n1981  [[, 0, ., 3, ,,  , 0, ., 7, 6, 7, 4, 4, 1, 8, ...  Tamer-Q   \n1982  [[, 0, ., 3, ,,  , 0, ., 3, 5, 1, 3, 5, 1, 3, ...  Tamer-Q   \n1983  [[, 0, ., 3, ,,  , 0, ., 6, 8, 9, 6, 5, 5, 1, ...  Tamer-Q   \n1984  [[, 0, ., 2, ,,  , 0, ., 4, 8, ,,  , 0, ., 3, ...  Tamer-Q   \n1985  [[, 0, ., 2, 2, 2, 2, 2, 2, 2, 2, 2, 2, 2, 2, ...  Tamer-Q   \n1986  [[, 0, ., 4, 4, 4, 4, 4, 4, 4, 4, 4, 4, 4, 4, ...  Tamer-Q   \n1987  [[, 0, ., 1, 2, 5, ,,  , 0, ., 5, ,,  , 0, ., ...  Tamer-Q   \n1988  [[, 0, ., 4, ,,  , 0, ., 4, ,,  , 0, ., 7, 1, ...  Tamer-Q   \n1989   [[, N, o, n, e, ,,  , 0, ., 5, ,,  , 0, ., 0, ]]  Tamer-Q   \n1990  [[, 0, ., 5, 7, 6, 9, 2, 3, 0, 7, 6, 9, 2, 3, ...  Tamer-Q   \n1991  [[, 0, ., 5, 3, 8, 4, 6, 1, 5, 3, 8, 4, 6, 1, ...  Tamer-Q   \n1992  [[, 0, ., 6, 2, 5, ,,  , 0, ., 4, 0, 4, 2, 5, ...  Tamer-Q   \n1993  [[, 0, ., 5, 3, 3, 3, 3, 3, 3, 3, 3, 3, 3, 3, ...  Tamer-Q   \n1994  [[, 0, ., 3, 3, 3, 3, 3, 3, 3, 3, 3, 3, 3, 3, ...  Tamer-Q   \n1995  [[, 0, ., 5, 3, 8, 4, 6, 1, 5, 3, 8, 4, 6, 1, ...  Tamer-Q   \n1996  [[, 0, ., 2, 7, 2, 7, 2, 7, 2, 7, 2, 7, 2, 7, ...  Tamer-Q   \n1997   [[, 0, ., 5, ,,  , 0, ., 5, ,,  , 0, ., 7, 5, ]]  Tamer-Q   \n1998  [[, 0, ., 2, ,,  , 0, ., 7, 7, 7, 7, 7, 7, 7, ...  Tamer-Q   \n1999  [[, 0, ., 0, ,,  , 0, ., 0, ,,  , 0, ., 4, 2, ...  Tamer-Q   \n\n      original_dataframe_index  Epsilon    Reward  \n1980                       180     0.01  1.006369  \n1981                       181     0.01  1.006711  \n1982                       182     0.01  1.007519  \n1983                       183     0.01  1.008547  \n1984                       184     1.00  1.009901  \n1985                       185     0.01  1.012048  \n1986                       186     1.00  1.014925  \n1987                       187     0.70  1.019608  \n1988                       188     1.00  1.028571  \n1989                       189     0.05  1.052632  \n1990                       190     0.10  1.004651  \n1991                       191     1.00  1.004926  \n1992                       192     0.70  1.005525  \n1993                       193     0.70  1.006289  \n1994                       194     0.05  1.007299  \n1995                       195     1.00  1.008850  \n1996                       196     0.10  1.010989  \n1997                       197     0.10  1.014493  \n1998                       198     0.10  1.021277  \n1999                       199     1.00  1.040000  ",
      "text/html": "<div>\n<style scoped>\n    .dataframe tbody tr th:only-of-type {\n        vertical-align: middle;\n    }\n\n    .dataframe tbody tr th {\n        vertical-align: top;\n    }\n\n    .dataframe thead th {\n        text-align: right;\n    }\n</style>\n<table border=\"1\" class=\"dataframe\">\n  <thead>\n    <tr style=\"text-align: right;\">\n      <th></th>\n      <th>Algorithm</th>\n      <th>User</th>\n      <th>Threshold</th>\n      <th>LearningRate</th>\n      <th>Discount</th>\n      <th>Temperature</th>\n      <th>Accuracy</th>\n      <th>StateAccuracy</th>\n      <th>Algo</th>\n      <th>original_dataframe_index</th>\n      <th>Epsilon</th>\n      <th>Reward</th>\n    </tr>\n  </thead>\n  <tbody>\n    <tr>\n      <th>1980</th>\n      <td>QLearn</td>\n      <td>data/NDSI-2D/U_8</td>\n      <td>0.05</td>\n      <td>0.0001</td>\n      <td>0.10</td>\n      <td>NaN</td>\n      <td>0.602564</td>\n      <td>[[, 0, ., 3, ,,  , 0, ., 8, 0, 8, 5, 1, 0, 6, ...</td>\n      <td>Tamer-Q</td>\n      <td>180</td>\n      <td>0.01</td>\n      <td>1.006369</td>\n    </tr>\n    <tr>\n      <th>1981</th>\n      <td>QLearn</td>\n      <td>data/NDSI-2D/U_8</td>\n      <td>0.10</td>\n      <td>0.0001</td>\n      <td>0.10</td>\n      <td>NaN</td>\n      <td>0.554054</td>\n      <td>[[, 0, ., 3, ,,  , 0, ., 7, 6, 7, 4, 4, 1, 8, ...</td>\n      <td>Tamer-Q</td>\n      <td>181</td>\n      <td>0.01</td>\n      <td>1.006711</td>\n    </tr>\n    <tr>\n      <th>1982</th>\n      <td>QLearn</td>\n      <td>data/NDSI-2D/U_8</td>\n      <td>0.20</td>\n      <td>1.0000</td>\n      <td>0.90</td>\n      <td>NaN</td>\n      <td>0.303030</td>\n      <td>[[, 0, ., 3, ,,  , 0, ., 3, 5, 1, 3, 5, 1, 3, ...</td>\n      <td>Tamer-Q</td>\n      <td>182</td>\n      <td>0.01</td>\n      <td>1.007519</td>\n    </tr>\n    <tr>\n      <th>1983</th>\n      <td>QLearn</td>\n      <td>data/NDSI-2D/U_8</td>\n      <td>0.30</td>\n      <td>0.0001</td>\n      <td>0.10</td>\n      <td>NaN</td>\n      <td>0.465517</td>\n      <td>[[, 0, ., 3, ,,  , 0, ., 6, 8, 9, 6, 5, 5, 1, ...</td>\n      <td>Tamer-Q</td>\n      <td>183</td>\n      <td>0.01</td>\n      <td>1.008547</td>\n    </tr>\n    <tr>\n      <th>1984</th>\n      <td>QLearn</td>\n      <td>data/NDSI-2D/U_8</td>\n      <td>0.40</td>\n      <td>0.1000</td>\n      <td>0.10</td>\n      <td>NaN</td>\n      <td>0.380000</td>\n      <td>[[, 0, ., 2, ,,  , 0, ., 4, 8, ,,  , 0, ., 3, ...</td>\n      <td>Tamer-Q</td>\n      <td>184</td>\n      <td>1.00</td>\n      <td>1.009901</td>\n    </tr>\n    <tr>\n      <th>1985</th>\n      <td>QLearn</td>\n      <td>data/NDSI-2D/U_8</td>\n      <td>0.50</td>\n      <td>0.5000</td>\n      <td>0.10</td>\n      <td>NaN</td>\n      <td>0.414634</td>\n      <td>[[, 0, ., 2, 2, 2, 2, 2, 2, 2, 2, 2, 2, 2, 2, ...</td>\n      <td>Tamer-Q</td>\n      <td>185</td>\n      <td>0.01</td>\n      <td>1.012048</td>\n    </tr>\n    <tr>\n      <th>1986</th>\n      <td>QLearn</td>\n      <td>data/NDSI-2D/U_8</td>\n      <td>0.60</td>\n      <td>0.0010</td>\n      <td>0.50</td>\n      <td>NaN</td>\n      <td>0.424242</td>\n      <td>[[, 0, ., 4, 4, 4, 4, 4, 4, 4, 4, 4, 4, 4, 4, ...</td>\n      <td>Tamer-Q</td>\n      <td>186</td>\n      <td>1.00</td>\n      <td>1.014925</td>\n    </tr>\n    <tr>\n      <th>1987</th>\n      <td>QLearn</td>\n      <td>data/NDSI-2D/U_8</td>\n      <td>0.70</td>\n      <td>0.0100</td>\n      <td>0.99</td>\n      <td>NaN</td>\n      <td>0.440000</td>\n      <td>[[, 0, ., 1, 2, 5, ,,  , 0, ., 5, ,,  , 0, ., ...</td>\n      <td>Tamer-Q</td>\n      <td>187</td>\n      <td>0.70</td>\n      <td>1.019608</td>\n    </tr>\n    <tr>\n      <th>1988</th>\n      <td>QLearn</td>\n      <td>data/NDSI-2D/U_8</td>\n      <td>0.80</td>\n      <td>0.0010</td>\n      <td>0.99</td>\n      <td>NaN</td>\n      <td>0.529412</td>\n      <td>[[, 0, ., 4, ,,  , 0, ., 4, ,,  , 0, ., 7, 1, ...</td>\n      <td>Tamer-Q</td>\n      <td>188</td>\n      <td>1.00</td>\n      <td>1.028571</td>\n    </tr>\n    <tr>\n      <th>1989</th>\n      <td>QLearn</td>\n      <td>data/NDSI-2D/U_8</td>\n      <td>0.90</td>\n      <td>0.1000</td>\n      <td>0.10</td>\n      <td>NaN</td>\n      <td>0.111111</td>\n      <td>[[, N, o, n, e, ,,  , 0, ., 5, ,,  , 0, ., 0, ]]</td>\n      <td>Tamer-Q</td>\n      <td>189</td>\n      <td>0.05</td>\n      <td>1.052632</td>\n    </tr>\n    <tr>\n      <th>1990</th>\n      <td>QLearn</td>\n      <td>data/NDSI-2D/U_9</td>\n      <td>0.05</td>\n      <td>0.0010</td>\n      <td>0.10</td>\n      <td>NaN</td>\n      <td>0.616822</td>\n      <td>[[, 0, ., 5, 7, 6, 9, 2, 3, 0, 7, 6, 9, 2, 3, ...</td>\n      <td>Tamer-Q</td>\n      <td>190</td>\n      <td>0.10</td>\n      <td>1.004651</td>\n    </tr>\n    <tr>\n      <th>1991</th>\n      <td>QLearn</td>\n      <td>data/NDSI-2D/U_9</td>\n      <td>0.10</td>\n      <td>0.1000</td>\n      <td>0.50</td>\n      <td>NaN</td>\n      <td>0.415842</td>\n      <td>[[, 0, ., 5, 3, 8, 4, 6, 1, 5, 3, 8, 4, 6, 1, ...</td>\n      <td>Tamer-Q</td>\n      <td>191</td>\n      <td>1.00</td>\n      <td>1.004926</td>\n    </tr>\n    <tr>\n      <th>1992</th>\n      <td>QLearn</td>\n      <td>data/NDSI-2D/U_9</td>\n      <td>0.20</td>\n      <td>1.0000</td>\n      <td>0.99</td>\n      <td>NaN</td>\n      <td>0.500000</td>\n      <td>[[, 0, ., 6, 2, 5, ,,  , 0, ., 4, 0, 4, 2, 5, ...</td>\n      <td>Tamer-Q</td>\n      <td>192</td>\n      <td>0.70</td>\n      <td>1.005525</td>\n    </tr>\n    <tr>\n      <th>1993</th>\n      <td>QLearn</td>\n      <td>data/NDSI-2D/U_9</td>\n      <td>0.30</td>\n      <td>0.1000</td>\n      <td>0.99</td>\n      <td>NaN</td>\n      <td>0.582278</td>\n      <td>[[, 0, ., 5, 3, 3, 3, 3, 3, 3, 3, 3, 3, 3, 3, ...</td>\n      <td>Tamer-Q</td>\n      <td>193</td>\n      <td>0.70</td>\n      <td>1.006289</td>\n    </tr>\n    <tr>\n      <th>1994</th>\n      <td>QLearn</td>\n      <td>data/NDSI-2D/U_9</td>\n      <td>0.40</td>\n      <td>0.0100</td>\n      <td>0.90</td>\n      <td>NaN</td>\n      <td>0.529412</td>\n      <td>[[, 0, ., 3, 3, 3, 3, 3, 3, 3, 3, 3, 3, 3, 3, ...</td>\n      <td>Tamer-Q</td>\n      <td>194</td>\n      <td>0.05</td>\n      <td>1.007299</td>\n    </tr>\n    <tr>\n      <th>1995</th>\n      <td>QLearn</td>\n      <td>data/NDSI-2D/U_9</td>\n      <td>0.50</td>\n      <td>0.0100</td>\n      <td>0.90</td>\n      <td>NaN</td>\n      <td>0.464286</td>\n      <td>[[, 0, ., 5, 3, 8, 4, 6, 1, 5, 3, 8, 4, 6, 1, ...</td>\n      <td>Tamer-Q</td>\n      <td>195</td>\n      <td>1.00</td>\n      <td>1.008850</td>\n    </tr>\n    <tr>\n      <th>1996</th>\n      <td>QLearn</td>\n      <td>data/NDSI-2D/U_9</td>\n      <td>0.60</td>\n      <td>0.0100</td>\n      <td>0.20</td>\n      <td>NaN</td>\n      <td>0.444444</td>\n      <td>[[, 0, ., 2, 7, 2, 7, 2, 7, 2, 7, 2, 7, 2, 7, ...</td>\n      <td>Tamer-Q</td>\n      <td>196</td>\n      <td>0.10</td>\n      <td>1.010989</td>\n    </tr>\n    <tr>\n      <th>1997</th>\n      <td>QLearn</td>\n      <td>data/NDSI-2D/U_9</td>\n      <td>0.70</td>\n      <td>0.5000</td>\n      <td>0.90</td>\n      <td>NaN</td>\n      <td>0.588235</td>\n      <td>[[, 0, ., 5, ,,  , 0, ., 5, ,,  , 0, ., 7, 5, ]]</td>\n      <td>Tamer-Q</td>\n      <td>197</td>\n      <td>0.10</td>\n      <td>1.014493</td>\n    </tr>\n    <tr>\n      <th>1998</th>\n      <td>QLearn</td>\n      <td>data/NDSI-2D/U_9</td>\n      <td>0.80</td>\n      <td>0.5000</td>\n      <td>0.10</td>\n      <td>NaN</td>\n      <td>0.391304</td>\n      <td>[[, 0, ., 2, ,,  , 0, ., 7, 7, 7, 7, 7, 7, 7, ...</td>\n      <td>Tamer-Q</td>\n      <td>198</td>\n      <td>0.10</td>\n      <td>1.021277</td>\n    </tr>\n    <tr>\n      <th>1999</th>\n      <td>QLearn</td>\n      <td>data/NDSI-2D/U_9</td>\n      <td>0.90</td>\n      <td>0.0001</td>\n      <td>0.90</td>\n      <td>NaN</td>\n      <td>0.250000</td>\n      <td>[[, 0, ., 0, ,,  , 0, ., 0, ,,  , 0, ., 4, 2, ...</td>\n      <td>Tamer-Q</td>\n      <td>199</td>\n      <td>1.00</td>\n      <td>1.040000</td>\n    </tr>\n  </tbody>\n</table>\n</div>"
     },
     "execution_count": 21,
     "metadata": {},
     "output_type": "execute_result"
    }
   ],
   "source": [
    "df_combined.tail(20)"
   ]
  },
  {
   "cell_type": "code",
   "execution_count": 22,
   "metadata": {
    "collapsed": false,
    "ExecuteTime": {
     "end_time": "2023-09-08T06:01:52.018532Z",
     "start_time": "2023-09-08T06:01:51.995712Z"
    }
   },
   "outputs": [],
   "source": [
    "df_combined.to_csv(\"/Users/aryal/Desktop/ForeCache/foreCache-interaction/ForeCache_Models/Experiments_Folder/experiments-master.csv\", index=False)"
   ]
  },
  {
   "cell_type": "code",
   "execution_count": 18,
   "metadata": {
    "ExecuteTime": {
     "end_time": "2023-09-05T17:36:19.088890Z",
     "start_time": "2023-09-05T17:36:19.027561Z"
    }
   },
   "outputs": [
    {
     "ename": "NameError",
     "evalue": "name 'dgfdf' is not defined",
     "output_type": "error",
     "traceback": [
      "\u001B[0;31m---------------------------------------------------------------------------\u001B[0m",
      "\u001B[0;31mNameError\u001B[0m                                 Traceback (most recent call last)",
      "Cell \u001B[0;32mIn[18], line 1\u001B[0m\n\u001B[0;32m----> 1\u001B[0m \u001B[43mdgfdf\u001B[49m\n",
      "\u001B[0;31mNameError\u001B[0m: name 'dgfdf' is not defined"
     ]
    }
   ],
   "source": []
  },
  {
   "cell_type": "code",
   "execution_count": null,
   "outputs": [],
   "source": [],
   "metadata": {
    "collapsed": false
   }
  }
 ],
 "metadata": {
  "kernelspec": {
   "display_name": "Python 3",
   "language": "python",
   "name": "python3"
  },
  "language_info": {
   "codemirror_mode": {
    "name": "ipython",
    "version": 3
   },
   "file_extension": ".py",
   "mimetype": "text/x-python",
   "name": "python",
   "nbconvert_exporter": "python",
   "pygments_lexer": "ipython3",
   "version": "3.9.6"
  }
 },
 "nbformat": 4,
 "nbformat_minor": 0
}
