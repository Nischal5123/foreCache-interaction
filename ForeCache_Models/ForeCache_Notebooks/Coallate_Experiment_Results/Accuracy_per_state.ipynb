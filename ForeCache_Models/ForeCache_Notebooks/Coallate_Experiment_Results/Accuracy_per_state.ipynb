{
 "cells": [
  {
   "cell_type": "code",
   "execution_count": 224,
   "metadata": {
    "collapsed": true
   },
   "outputs": [],
   "source": [
    "import pandas as pd\n",
    "import numpy as np\n",
    "import seaborn as sns\n",
    "import matplotlib.pyplot as plt"
   ]
  },
  {
   "cell_type": "code",
   "execution_count": 225,
   "outputs": [],
   "source": [
    "def plot_user_stats(threshold,accuracies,state):\n",
    "    plt.plot(threshold, accuracies, label=state, marker='*')\n",
    "    plt.yticks(np.arange(0.0, 1.0, 0.1))\n",
    "    plt.xlabel('Threshold')\n",
    "    plt.ylabel('Accuracy')\n",
    "\n",
    "\n"
   ],
   "metadata": {
    "collapsed": false,
    "pycharm": {
     "name": "#%%\n"
    }
   }
  },
  {
   "cell_type": "code",
   "execution_count": 226,
   "outputs": [],
   "source": [
    "df = pd.read_csv(\"Experiments_Folder\\\\actor-critic_all_3_actions.csv\")"
   ],
   "metadata": {
    "collapsed": false,
    "pycharm": {
     "name": "#%%\n"
    }
   }
  },
  {
   "cell_type": "code",
   "execution_count": 227,
   "outputs": [
    {
     "data": {
      "text/plain": "                                    User  Threshold  LearningRate  Discount  \\\n0   44968286-f204-4ad6-a9b5-d95b38e97866       0.05        0.0100      0.90   \n1   44968286-f204-4ad6-a9b5-d95b38e97866       0.10        0.0100      0.05   \n2   44968286-f204-4ad6-a9b5-d95b38e97866       0.20        0.0010      0.99   \n3   44968286-f204-4ad6-a9b5-d95b38e97866       0.30        0.0010      0.50   \n4   44968286-f204-4ad6-a9b5-d95b38e97866       0.40        0.0010      0.20   \n5   44968286-f204-4ad6-a9b5-d95b38e97866       0.50        0.0010      0.90   \n6   44968286-f204-4ad6-a9b5-d95b38e97866       0.60        0.0010      0.05   \n7   44968286-f204-4ad6-a9b5-d95b38e97866       0.70        0.0010      0.05   \n8   44968286-f204-4ad6-a9b5-d95b38e97866       0.80        0.0010      0.80   \n9   44968286-f204-4ad6-a9b5-d95b38e97866       0.90        0.0010      0.90   \n10  6d49fab8-273b-4a91-948b-ecd14556b049       0.05        0.0001      0.80   \n11  6d49fab8-273b-4a91-948b-ecd14556b049       0.10        0.0001      0.05   \n12  6d49fab8-273b-4a91-948b-ecd14556b049       0.20        0.1000      0.50   \n13  6d49fab8-273b-4a91-948b-ecd14556b049       0.30        0.1000      0.80   \n14  6d49fab8-273b-4a91-948b-ecd14556b049       0.40        0.0100      0.80   \n15  6d49fab8-273b-4a91-948b-ecd14556b049       0.50        0.0100      0.20   \n16  6d49fab8-273b-4a91-948b-ecd14556b049       0.60        0.0010      0.10   \n17  6d49fab8-273b-4a91-948b-ecd14556b049       0.70        0.0010      0.10   \n18  6d49fab8-273b-4a91-948b-ecd14556b049       0.80        0.0100      0.80   \n19  6d49fab8-273b-4a91-948b-ecd14556b049       0.90        0.0010      0.99   \n\n    Accuracy                                      StateAccuracy  \n0   0.698795     [0.75, 0.7291666666666666, 0.5333333333333333]  \n1   0.708861                    [0.75, 0.7272727272727273, 0.6]  \n2   0.585714  [0.47368421052631576, 0.717948717948718, 0.333...  \n3   0.737705  [0.7894736842105263, 0.7714285714285715, 0.428...  \n4   0.716981  [0.8125, 0.7333333333333333, 0.42857142857142855]  \n5   0.727273      [0.8571428571428571, 0.7083333333333334, 0.5]  \n6   0.571429                   [0.5714285714285714, 0.625, 0.4]  \n7   0.629630      [0.6923076923076923, 0.5555555555555556, 0.6]  \n8   0.777778                  [0.875, 0.6666666666666666, 0.75]  \n9   0.777778                                  [1.0, 0.75, 0.75]  \n10  0.397260  [0.42105263157894735, 0.425531914893617, 0.142...  \n11  0.449275  [0.6875, 0.40425531914893614, 0.16666666666666...  \n12  0.754098                     [0.8, 0.8048780487804879, 0.2]  \n13  0.796296     [0.8461538461538461, 0.8378378378378378, 0.25]  \n14  0.782609      [0.8181818181818182, 0.8064516129032258, 0.5]  \n15  0.789474  [0.8181818181818182, 0.7916666666666666, 0.666...  \n16  0.741935  [0.6666666666666666, 0.8181818181818182, 0.333...  \n17  0.695652      [0.6, 0.7333333333333333, 0.6666666666666666]  \n18  0.687500                                    [0.6, 0.7, 1.0]  \n19  0.750000                                    [1.0, 0.6, 1.0]  ",
      "text/html": "<div>\n<style scoped>\n    .dataframe tbody tr th:only-of-type {\n        vertical-align: middle;\n    }\n\n    .dataframe tbody tr th {\n        vertical-align: top;\n    }\n\n    .dataframe thead th {\n        text-align: right;\n    }\n</style>\n<table border=\"1\" class=\"dataframe\">\n  <thead>\n    <tr style=\"text-align: right;\">\n      <th></th>\n      <th>User</th>\n      <th>Threshold</th>\n      <th>LearningRate</th>\n      <th>Discount</th>\n      <th>Accuracy</th>\n      <th>StateAccuracy</th>\n    </tr>\n  </thead>\n  <tbody>\n    <tr>\n      <th>0</th>\n      <td>44968286-f204-4ad6-a9b5-d95b38e97866</td>\n      <td>0.05</td>\n      <td>0.0100</td>\n      <td>0.90</td>\n      <td>0.698795</td>\n      <td>[0.75, 0.7291666666666666, 0.5333333333333333]</td>\n    </tr>\n    <tr>\n      <th>1</th>\n      <td>44968286-f204-4ad6-a9b5-d95b38e97866</td>\n      <td>0.10</td>\n      <td>0.0100</td>\n      <td>0.05</td>\n      <td>0.708861</td>\n      <td>[0.75, 0.7272727272727273, 0.6]</td>\n    </tr>\n    <tr>\n      <th>2</th>\n      <td>44968286-f204-4ad6-a9b5-d95b38e97866</td>\n      <td>0.20</td>\n      <td>0.0010</td>\n      <td>0.99</td>\n      <td>0.585714</td>\n      <td>[0.47368421052631576, 0.717948717948718, 0.333...</td>\n    </tr>\n    <tr>\n      <th>3</th>\n      <td>44968286-f204-4ad6-a9b5-d95b38e97866</td>\n      <td>0.30</td>\n      <td>0.0010</td>\n      <td>0.50</td>\n      <td>0.737705</td>\n      <td>[0.7894736842105263, 0.7714285714285715, 0.428...</td>\n    </tr>\n    <tr>\n      <th>4</th>\n      <td>44968286-f204-4ad6-a9b5-d95b38e97866</td>\n      <td>0.40</td>\n      <td>0.0010</td>\n      <td>0.20</td>\n      <td>0.716981</td>\n      <td>[0.8125, 0.7333333333333333, 0.42857142857142855]</td>\n    </tr>\n    <tr>\n      <th>5</th>\n      <td>44968286-f204-4ad6-a9b5-d95b38e97866</td>\n      <td>0.50</td>\n      <td>0.0010</td>\n      <td>0.90</td>\n      <td>0.727273</td>\n      <td>[0.8571428571428571, 0.7083333333333334, 0.5]</td>\n    </tr>\n    <tr>\n      <th>6</th>\n      <td>44968286-f204-4ad6-a9b5-d95b38e97866</td>\n      <td>0.60</td>\n      <td>0.0010</td>\n      <td>0.05</td>\n      <td>0.571429</td>\n      <td>[0.5714285714285714, 0.625, 0.4]</td>\n    </tr>\n    <tr>\n      <th>7</th>\n      <td>44968286-f204-4ad6-a9b5-d95b38e97866</td>\n      <td>0.70</td>\n      <td>0.0010</td>\n      <td>0.05</td>\n      <td>0.629630</td>\n      <td>[0.6923076923076923, 0.5555555555555556, 0.6]</td>\n    </tr>\n    <tr>\n      <th>8</th>\n      <td>44968286-f204-4ad6-a9b5-d95b38e97866</td>\n      <td>0.80</td>\n      <td>0.0010</td>\n      <td>0.80</td>\n      <td>0.777778</td>\n      <td>[0.875, 0.6666666666666666, 0.75]</td>\n    </tr>\n    <tr>\n      <th>9</th>\n      <td>44968286-f204-4ad6-a9b5-d95b38e97866</td>\n      <td>0.90</td>\n      <td>0.0010</td>\n      <td>0.90</td>\n      <td>0.777778</td>\n      <td>[1.0, 0.75, 0.75]</td>\n    </tr>\n    <tr>\n      <th>10</th>\n      <td>6d49fab8-273b-4a91-948b-ecd14556b049</td>\n      <td>0.05</td>\n      <td>0.0001</td>\n      <td>0.80</td>\n      <td>0.397260</td>\n      <td>[0.42105263157894735, 0.425531914893617, 0.142...</td>\n    </tr>\n    <tr>\n      <th>11</th>\n      <td>6d49fab8-273b-4a91-948b-ecd14556b049</td>\n      <td>0.10</td>\n      <td>0.0001</td>\n      <td>0.05</td>\n      <td>0.449275</td>\n      <td>[0.6875, 0.40425531914893614, 0.16666666666666...</td>\n    </tr>\n    <tr>\n      <th>12</th>\n      <td>6d49fab8-273b-4a91-948b-ecd14556b049</td>\n      <td>0.20</td>\n      <td>0.1000</td>\n      <td>0.50</td>\n      <td>0.754098</td>\n      <td>[0.8, 0.8048780487804879, 0.2]</td>\n    </tr>\n    <tr>\n      <th>13</th>\n      <td>6d49fab8-273b-4a91-948b-ecd14556b049</td>\n      <td>0.30</td>\n      <td>0.1000</td>\n      <td>0.80</td>\n      <td>0.796296</td>\n      <td>[0.8461538461538461, 0.8378378378378378, 0.25]</td>\n    </tr>\n    <tr>\n      <th>14</th>\n      <td>6d49fab8-273b-4a91-948b-ecd14556b049</td>\n      <td>0.40</td>\n      <td>0.0100</td>\n      <td>0.80</td>\n      <td>0.782609</td>\n      <td>[0.8181818181818182, 0.8064516129032258, 0.5]</td>\n    </tr>\n    <tr>\n      <th>15</th>\n      <td>6d49fab8-273b-4a91-948b-ecd14556b049</td>\n      <td>0.50</td>\n      <td>0.0100</td>\n      <td>0.20</td>\n      <td>0.789474</td>\n      <td>[0.8181818181818182, 0.7916666666666666, 0.666...</td>\n    </tr>\n    <tr>\n      <th>16</th>\n      <td>6d49fab8-273b-4a91-948b-ecd14556b049</td>\n      <td>0.60</td>\n      <td>0.0010</td>\n      <td>0.10</td>\n      <td>0.741935</td>\n      <td>[0.6666666666666666, 0.8181818181818182, 0.333...</td>\n    </tr>\n    <tr>\n      <th>17</th>\n      <td>6d49fab8-273b-4a91-948b-ecd14556b049</td>\n      <td>0.70</td>\n      <td>0.0010</td>\n      <td>0.10</td>\n      <td>0.695652</td>\n      <td>[0.6, 0.7333333333333333, 0.6666666666666666]</td>\n    </tr>\n    <tr>\n      <th>18</th>\n      <td>6d49fab8-273b-4a91-948b-ecd14556b049</td>\n      <td>0.80</td>\n      <td>0.0100</td>\n      <td>0.80</td>\n      <td>0.687500</td>\n      <td>[0.6, 0.7, 1.0]</td>\n    </tr>\n    <tr>\n      <th>19</th>\n      <td>6d49fab8-273b-4a91-948b-ecd14556b049</td>\n      <td>0.90</td>\n      <td>0.0010</td>\n      <td>0.99</td>\n      <td>0.750000</td>\n      <td>[1.0, 0.6, 1.0]</td>\n    </tr>\n  </tbody>\n</table>\n</div>"
     },
     "execution_count": 227,
     "metadata": {},
     "output_type": "execute_result"
    }
   ],
   "source": [
    "df.head(20)"
   ],
   "metadata": {
    "collapsed": false,
    "pycharm": {
     "name": "#%%\n"
    }
   }
  },
  {
   "cell_type": "code",
   "execution_count": 228,
   "outputs": [
    {
     "name": "stdout",
     "output_type": "stream",
     "text": [
      "########################### 44968286-f204-4ad6-a9b5-d95b38e97866\n",
      "########################### 6d49fab8-273b-4a91-948b-ecd14556b049\n",
      "########################### 72a8d170-77ae-400e-b2a5-de9e1d33a714\n",
      "########################### 733a1ac5-0b01-485e-9b29-ac33932aa240\n",
      "########################### 7d014c75-453b-4188-9e4e-fb086984896a\n",
      "########################### 82316e37-1117-4663-84b4-ddb6455c83b2\n",
      "########################### 8b544d24-3274-4bb0-9719-fd2bccc87b02\n",
      "########################### 8bf5b71b-dfd4-403f-8791-06427b26ccaf\n",
      "########################### 93be0a02-3f7a-46c9-b526-aa956ed00856\n",
      "########################### 954edb7c-4eae-47ab-9338-5c5c7eccac2d\n",
      "########################### a6aab5f5-fdb6-41df-9fc6-221d70f8c6e8\n",
      "########################### ac5b65d7-f260-4534-9fae-d998b726ed32\n",
      "########################### bc9f9425-e867-4876-a5d9-791229916767\n",
      "########################### bda49380-37ad-41c5-a109-7fa198a7691a\n",
      "########################### cd3ef507-e3e9-4edb-9222-90a69a9bf272\n",
      "########################### d6555293-35c7-4c27-b522-38d67d2d1b1a\n",
      "########################### da52acdd-3cea-483c-86e5-2c2740d371aa\n",
      "########################### e4221e48-0930-40db-af3c-f4de1ed87582\n",
      "########################### ff56863b-0710-4a58-ad22-4bf2889c9bc0\n"
     ]
    }
   ],
   "source": [
    "thresholds=[]\n",
    "foraging_accus=[]\n",
    "navigation_accus=[]\n",
    "sensemaking_accus=[]\n",
    "users=[]\n",
    "for u in df['User'].unique():\n",
    "  print(\"###########################\",u)\n",
    "  df_user=(df.loc[(df['User'] == u)].copy()).reset_index()\n",
    "  threshold=df_user[\"Threshold\"]\n",
    "  foraging_accu=[]\n",
    "  navigation_accu=[]\n",
    "  sensemaking_accu=[]\n",
    "  df_user['StateAccuracy']=[x.strip('[]').split(',') for x in df_user['StateAccuracy']]\n",
    "  for j in range(len(df_user)):\n",
    "      statacc=[eval(k) for k in df_user['StateAccuracy'][j]]\n",
    "      foraging_accu.append(statacc[0])\n",
    "      navigation_accu.append(statacc[1])\n",
    "      sensemaking_accu.append(statacc[2])\n",
    "  foraging_accus.append(foraging_accu)\n",
    "  navigation_accus.append(navigation_accu)\n",
    "  sensemaking_accus.append(sensemaking_accu)\n",
    "  thresholds.append(threshold)\n",
    "  users.append(u)\n",
    "\n",
    "\n"
   ],
   "metadata": {
    "collapsed": false,
    "pycharm": {
     "name": "#%%\n"
    }
   }
  },
  {
   "cell_type": "code",
   "execution_count": 229,
   "outputs": [
    {
     "name": "stdout",
     "output_type": "stream",
     "text": [
      "0.5434659356748195\n"
     ]
    },
    {
     "data": {
      "text/plain": "<Figure size 432x288 with 0 Axes>"
     },
     "metadata": {},
     "output_type": "display_data"
    }
   ],
   "source": [
    "for a in range(len(foraging_accus))  :\n",
    "    plot_user_stats(thresholds[a],foraging_accus[a],users[a])\n",
    "\n",
    "plt.title(\"ActorCritic on Foraging\")\n",
    "mean_y_accu = np.mean([element for sublist in foraging_accus for element in sublist])\n",
    "print(mean_y_accu)\n",
    "plt.axhline(mean_y_accu, color='black', linestyle='--', )\n",
    "location = 'figures/ActorCritic/' + str('Foraging')\n",
    "plt.legend(loc='center left', bbox_to_anchor=(1, 0))\n",
    "plt.savefig(location, bbox_inches='tight')\n",
    "plt.clf()"
   ],
   "metadata": {
    "collapsed": false,
    "pycharm": {
     "name": "#%%\n"
    }
   }
  },
  {
   "cell_type": "code",
   "execution_count": 230,
   "outputs": [
    {
     "name": "stdout",
     "output_type": "stream",
     "text": [
      "0.6411332059384739\n"
     ]
    },
    {
     "data": {
      "text/plain": "<Figure size 432x288 with 0 Axes>"
     },
     "metadata": {},
     "output_type": "display_data"
    }
   ],
   "source": [
    "for a in range(len(navigation_accus))  :\n",
    "    plot_user_stats(thresholds[a],navigation_accus[a],users[a])\n",
    "\n",
    "plt.title(\"ActorCritic on Navigation\")\n",
    "mean_y_accu = np.mean([element for sublist in navigation_accus for element in sublist])\n",
    "print(mean_y_accu)\n",
    "plt.axhline(mean_y_accu, color='black', linestyle='--', )\n",
    "location = 'figures/ActorCritic/' + str('Navigation')\n",
    "plt.legend(loc='center left', bbox_to_anchor=(1, 0))\n",
    "plt.savefig(location, bbox_inches='tight')\n",
    "plt.clf()"
   ],
   "metadata": {
    "collapsed": false,
    "pycharm": {
     "name": "#%%\n"
    }
   }
  },
  {
   "cell_type": "code",
   "execution_count": 231,
   "outputs": [
    {
     "data": {
      "text/plain": "<Figure size 432x288 with 0 Axes>"
     },
     "metadata": {},
     "output_type": "display_data"
    }
   ],
   "source": [
    "plt.close()\n",
    "plt.clf()"
   ],
   "metadata": {
    "collapsed": false,
    "pycharm": {
     "name": "#%%\n"
    }
   }
  },
  {
   "cell_type": "code",
   "execution_count": 232,
   "outputs": [
    {
     "name": "stdout",
     "output_type": "stream",
     "text": [
      "0.6180585693771856\n"
     ]
    },
    {
     "data": {
      "text/plain": "<Figure size 432x288 with 0 Axes>"
     },
     "metadata": {},
     "output_type": "display_data"
    }
   ],
   "source": [
    "for a in range(len(sensemaking_accus))  :\n",
    "    plot_user_stats(thresholds[a],sensemaking_accus[a],users[a])\n",
    "\n",
    "plt.title(\"ActorCritic on Sensemaking\")\n",
    "mean_y_accu = np.mean([element for sublist in sensemaking_accus for element in sublist])\n",
    "print(mean_y_accu)\n",
    "plt.axhline(mean_y_accu, color='black', linestyle='--', )\n",
    "location = 'figures/ActorCritic/' + str('Sensemaking')\n",
    "plt.legend(loc='center left', bbox_to_anchor=(1, 0))\n",
    "plt.savefig(location, dpi='figure',bbox_inches='tight')\n",
    "plt.clf()"
   ],
   "metadata": {
    "collapsed": false,
    "pycharm": {
     "name": "#%%\n"
    }
   }
  },
  {
   "cell_type": "code",
   "execution_count": null,
   "outputs": [],
   "source": [],
   "metadata": {
    "collapsed": false,
    "pycharm": {
     "name": "#%%\n"
    }
   }
  }
 ],
 "metadata": {
  "kernelspec": {
   "display_name": "Python 3",
   "language": "python",
   "name": "python3"
  },
  "language_info": {
   "codemirror_mode": {
    "name": "ipython",
    "version": 2
   },
   "file_extension": ".py",
   "mimetype": "text/x-python",
   "name": "python",
   "nbconvert_exporter": "python",
   "pygments_lexer": "ipython2",
   "version": "2.7.6"
  }
 },
 "nbformat": 4,
 "nbformat_minor": 0
}