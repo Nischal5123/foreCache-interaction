{
 "cells": [
  {
   "cell_type": "code",
   "execution_count": 76,
   "metadata": {},
   "outputs": [],
   "source": [
    "import numpy as np\n",
    "import pandas as pd\n",
    "from matplotlib import pyplot as plt\n",
    "import ast"
   ]
  },
  {
   "cell_type": "code",
   "execution_count": 77,
   "metadata": {},
   "outputs": [],
   "source": [
    "df= pd.read_csv(\"/Users/aryal/Desktop/ForeCache/foreCache-interaction/ForeCache_Models/Experiments_Folder/experiments-master-original.csv\")\n"
   ]
  },
  {
   "cell_type": "code",
   "execution_count": 78,
   "metadata": {},
   "outputs": [
    {
     "data": {
      "text/plain": [
       "0       [0.22727272727272727, 0.37209302325581395, 0.3...\n",
       "1                         [0.75, 0.7073170731707317, 0.5]\n",
       "2           [0.3684210526315789, 0.5833333333333334, 0.4]\n",
       "3       [0.7894736842105263, 0.7096774193548387, 0.428...\n",
       "4          [0.75, 0.6538461538461539, 0.7142857142857143]\n",
       "                              ...                        \n",
       "1395    [0.6923076923076923, 0.7142857142857143, 0.769...\n",
       "1396    [0.2727272727272727, 0.14285714285714285, 0.18...\n",
       "1397       [0.75, 0.6923076923076923, 0.8181818181818182]\n",
       "1398                                   [0.8, 0.25, 0.875]\n",
       "1399                                       [0, 0.25, 0.0]\n",
       "Name: StateAccuracy, Length: 1400, dtype: object"
      ]
     },
     "execution_count": 78,
     "metadata": {},
     "output_type": "execute_result"
    }
   ],
   "source": [
    "df['StateAccuracy']\n",
    "#1399: [0, 0.25, 0.0]"
   ]
  },
  {
   "cell_type": "code",
   "execution_count": 79,
   "metadata": {},
   "outputs": [],
   "source": [
    "def remove_zero_except_zero_float(row):\n",
    "    elements = ast.literal_eval(row)  # Convert string to list\n",
    "    filtered_elements = [e if e != 0 or isinstance(e, float) and e == 0.0 else None for e in elements]  # Replace 0 with None except 0.0\n",
    "    return str(filtered_elements)  # Convert back to string\n",
    "\n"
   ]
  },
  {
   "cell_type": "code",
   "execution_count": 80,
   "metadata": {},
   "outputs": [
    {
     "name": "stdout",
     "output_type": "stream",
     "text": [
      "0       [0.22727272727272727, 0.37209302325581395, 0.3...\n",
      "1                         [0.75, 0.7073170731707317, 0.5]\n",
      "2           [0.3684210526315789, 0.5833333333333334, 0.4]\n",
      "3       [0.7894736842105263, 0.7096774193548387, 0.428...\n",
      "4          [0.75, 0.6538461538461539, 0.7142857142857143]\n",
      "                              ...                        \n",
      "1395    [0.6923076923076923, 0.7142857142857143, 0.769...\n",
      "1396    [0.2727272727272727, 0.14285714285714285, 0.18...\n",
      "1397       [0.75, 0.6923076923076923, 0.8181818181818182]\n",
      "1398                                   [0.8, 0.25, 0.875]\n",
      "1399                                    [None, 0.25, 0.0]\n",
      "Name: StateAccuracy, Length: 1400, dtype: object\n"
     ]
    }
   ],
   "source": [
    "\n",
    "df['StateAccuracy'] = df['StateAccuracy'].apply(remove_zero_except_zero_float)\n",
    "print(df['StateAccuracy'])"
   ]
  },
  {
   "cell_type": "code",
   "execution_count": 81,
   "metadata": {},
   "outputs": [
    {
     "data": {
      "text/plain": [
       "0       [0.22727272727272727, 0.37209302325581395, 0.3...\n",
       "1                         [0.75, 0.7073170731707317, 0.5]\n",
       "2           [0.3684210526315789, 0.5833333333333334, 0.4]\n",
       "3       [0.7894736842105263, 0.7096774193548387, 0.428...\n",
       "4          [0.75, 0.6538461538461539, 0.7142857142857143]\n",
       "                              ...                        \n",
       "1395    [0.6923076923076923, 0.7142857142857143, 0.769...\n",
       "1396    [0.2727272727272727, 0.14285714285714285, 0.18...\n",
       "1397       [0.75, 0.6923076923076923, 0.8181818181818182]\n",
       "1398                                   [0.8, 0.25, 0.875]\n",
       "1399                                    [None, 0.25, 0.0]\n",
       "Name: StateAccuracy, Length: 1400, dtype: object"
      ]
     },
     "execution_count": 81,
     "metadata": {},
     "output_type": "execute_result"
    }
   ],
   "source": [
    "df['StateAccuracy']"
   ]
  },
  {
   "cell_type": "code",
   "execution_count": 82,
   "metadata": {},
   "outputs": [],
   "source": [
    "df.to_csv(\"/Users/aryal/Desktop/ForeCache/foreCache-interaction/ForeCache_Models/Experiments_Folder/experiments-master.csv\")\n"
   ]
  }
 ],
 "metadata": {
  "kernelspec": {
   "display_name": "venv",
   "language": "python",
   "name": "python3"
  },
  "language_info": {
   "codemirror_mode": {
    "name": "ipython",
    "version": 3
   },
   "file_extension": ".py",
   "mimetype": "text/x-python",
   "name": "python",
   "nbconvert_exporter": "python",
   "pygments_lexer": "ipython3",
   "version": "3.9.6"
  },
  "orig_nbformat": 4
 },
 "nbformat": 4,
 "nbformat_minor": 2
}
