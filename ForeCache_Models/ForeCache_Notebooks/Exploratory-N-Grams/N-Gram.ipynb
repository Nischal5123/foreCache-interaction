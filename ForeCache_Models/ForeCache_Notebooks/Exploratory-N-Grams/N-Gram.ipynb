{
 "cells": [
  {
   "cell_type": "code",
   "execution_count": 122,
   "metadata": {
    "collapsed": true
   },
   "outputs": [],
   "source": [
    "import re\n",
    "from nltk.util import ngrams\n",
    "import glob\n",
    "import environment2\n",
    "import pandas as pd\n",
    "import numpy as np\n",
    "from sklearn import tree\n",
    "from sklearn.tree import DecisionTreeClassifier\n",
    "from sklearn.model_selection import train_test_split\n",
    "import matplotlib.pyplot as plt\n",
    "from sklearn.metrics import accuracy_score\n",
    "from sklearn.metrics import confusion_matrix"
   ]
  },
  {
   "cell_type": "code",
   "execution_count": 123,
   "outputs": [],
   "source": [
    "env = environment2.environment2()\n",
    "user_list_2D = env.user_list_2D\n"
   ],
   "metadata": {
    "collapsed": false,
    "pycharm": {
     "name": "#%%\n"
    }
   }
  },
  {
   "cell_type": "code",
   "execution_count": 124,
   "outputs": [],
   "source": [
    " user_list_experienced=np.array(['data/NDSI-2D\\\\taskname_ndsi-2d-task_userid_82316e37-1117-4663-84b4-ddb6455c83b2.csv',\n",
    "'data/NDSI-2D\\\\taskname_ndsi-2d-task_userid_ff56863b-0710-4a58-ad22-4bf2889c9bc0.csv',\n",
    "'data/NDSI-2D\\\\taskname_ndsi-2d-task_userid_bda49380-37ad-41c5-a109-7fa198a7691a.csv',\n",
    "'data/NDSI-2D\\\\taskname_ndsi-2d-task_userid_3abeecbe-327a-441e-be2a-0dd3763c1d45.csv',\n",
    "'data/NDSI-2D\\\\taskname_ndsi-2d-task_userid_6d49fab8-273b-4a91-948b-ecd14556b049.csv',\n",
    "'data/NDSI-2D\\\\taskname_ndsi-2d-task_userid_954edb7c-4eae-47ab-9338-5c5c7eccac2d.csv',\n",
    "'data/NDSI-2D\\\\taskname_ndsi-2d-task_userid_a6aab5f5-fdb6-41df-9fc6-221d70f8c6e8.csv',\n",
    "'data/NDSI-2D\\\\taskname_ndsi-2d-task_userid_8b544d24-3274-4bb0-9719-fd2bccc87b02.csv'])"
   ],
   "metadata": {
    "collapsed": false,
    "pycharm": {
     "name": "#%%\n"
    }
   }
  },
  {
   "cell_type": "code",
   "execution_count": 125,
   "outputs": [],
   "source": [
    "user_list_first_time=np.setdiff1d(user_list_2D, user_list_experienced)"
   ],
   "metadata": {
    "collapsed": false,
    "pycharm": {
     "name": "#%%\n"
    }
   }
  },
  {
   "cell_type": "code",
   "execution_count": 126,
   "outputs": [
    {
     "name": "stdout",
     "output_type": "stream",
     "text": [
      "########################### data/NDSI-2D\\taskname_ndsi-2d-task_userid_82316e37-1117-4663-84b4-ddb6455c83b2.csv\n",
      "########################### data/NDSI-2D\\taskname_ndsi-2d-task_userid_ff56863b-0710-4a58-ad22-4bf2889c9bc0.csv\n",
      "########################### data/NDSI-2D\\taskname_ndsi-2d-task_userid_bda49380-37ad-41c5-a109-7fa198a7691a.csv\n",
      "########################### data/NDSI-2D\\taskname_ndsi-2d-task_userid_3abeecbe-327a-441e-be2a-0dd3763c1d45.csv\n"
     ]
    }
   ],
   "source": [
    "#result_dataframe= pd.DataFrame(columns=['User','ROI_Cycle','SouthEast','South','OhioValley','NorthernRockiesPlains','SouthWest','NorthWest','UpperMidwest','Northeast','West','Other','None'])\n",
    "all_dfs=[]\n",
    "for u in user_list_experienced[:4]:\n",
    "  print(\"###########################\",u)\n",
    "  df = pd.read_csv(u)\n",
    "  df=df[df.Action !='start']\n",
    "  u=u.lstrip('data/NDSI-2D\\\\taskname_ndsi-2d-task_')\n",
    "  #u=u.lstrip('data/NDSI-3D\\\\taskname_ndsi-3d-task_')\n",
    "  u=u.rstrip('.csv')\n",
    "  one_string = ','.join(df['Action'].tolist())\n",
    "  tokens = [re.sub(r'[^a-zA-Z0-9\\s]', ' ', token) for token in one_string.split(\",\") if token != \"\"]\n",
    "  output = list(ngrams(tokens, 4))\n",
    "  df = pd.Series(output).value_counts()\n",
    "  df_last=pd.DataFrame([df])\n",
    "  df_last[\"User\"]=u\n",
    "  df_last['Experience']=1\n",
    "  all_dfs.append(df_last)\n"
   ],
   "metadata": {
    "collapsed": false,
    "pycharm": {
     "name": "#%%\n"
    }
   }
  },
  {
   "cell_type": "code",
   "execution_count": 127,
   "outputs": [
    {
     "name": "stdout",
     "output_type": "stream",
     "text": [
      "########################### data/NDSI-2D\\taskname_ndsi-2d-task_userid_44968286-f204-4ad6-a9b5-d95b38e97866.csv\n",
      "########################### data/NDSI-2D\\taskname_ndsi-2d-task_userid_72a8d170-77ae-400e-b2a5-de9e1d33a714.csv\n",
      "########################### data/NDSI-2D\\taskname_ndsi-2d-task_userid_733a1ac5-0b01-485e-9b29-ac33932aa240.csv\n",
      "########################### data/NDSI-2D\\taskname_ndsi-2d-task_userid_7d014c75-453b-4188-9e4e-fb086984896a.csv\n"
     ]
    }
   ],
   "source": [
    "all_user_list_first_time_dfs=[]\n",
    "for u in user_list_first_time[:4]:\n",
    "  print(\"###########################\",u)\n",
    "  df = pd.read_csv(u)\n",
    "  df=df[df.Action !='start']\n",
    "  u=u.lstrip('data/NDSI-2D\\\\taskname_ndsi-2d-task_')\n",
    "  #u=u.lstrip('data/NDSI-3D\\\\taskname_ndsi-3d-task_')\n",
    "  u=u.rstrip('.csv')\n",
    "  one_string = ','.join(df['Action'].tolist())\n",
    "  tokens = [re.sub(r'[^a-zA-Z0-9\\s]', ' ', token) for token in one_string.split(\",\") if token != \"\"]\n",
    "  output = list(ngrams(tokens, 4))\n",
    "  df = pd.Series(output).value_counts()\n",
    "  df_last=pd.DataFrame([df])\n",
    "  df_last[\"User\"]=u\n",
    "  df_last['Experience']=0\n",
    "  all_user_list_first_time_dfs.append(df_last)"
   ],
   "metadata": {
    "collapsed": false,
    "pycharm": {
     "name": "#%%\n"
    }
   }
  },
  {
   "cell_type": "code",
   "execution_count": 128,
   "outputs": [],
   "source": [
    "final_df=pd.concat([pd.concat(all_dfs),pd.concat(all_user_list_first_time_dfs)])\n",
    "final_df=final_df.fillna(0)"
   ],
   "metadata": {
    "collapsed": false,
    "pycharm": {
     "name": "#%%\n"
    }
   }
  },
  {
   "cell_type": "code",
   "execution_count": 129,
   "outputs": [
    {
     "data": {
      "text/plain": "Empty DataFrame\nColumns: [(pan, pan, pan, pan), (zoom, pan, zoom, pan), (pan, zoom, pan, pan), (pan, pan, zoom, zoom), (zoom, zoom, pan, zoom), (pan, zoom, zoom, zoom), (zoom, zoom, zoom, pan), (zoom, pan, pan, pan), (pan, pan, pan, zoom), (zoom, pan, pan, zoom), (pan, zoom, zoom, pan), (pan, zoom, pan, zoom), (zoom, pan, zoom, zoom), (zoom, zoom, pan, pan), (pan, pan, zoom, pan), (zoom, zoom, zoom, zoom), User, Experience]\nIndex: []",
      "text/html": "<div>\n<style scoped>\n    .dataframe tbody tr th:only-of-type {\n        vertical-align: middle;\n    }\n\n    .dataframe tbody tr th {\n        vertical-align: top;\n    }\n\n    .dataframe thead th {\n        text-align: right;\n    }\n</style>\n<table border=\"1\" class=\"dataframe\">\n  <thead>\n    <tr style=\"text-align: right;\">\n      <th></th>\n      <th>(pan, pan, pan, pan)</th>\n      <th>(zoom, pan, zoom, pan)</th>\n      <th>(pan, zoom, pan, pan)</th>\n      <th>(pan, pan, zoom, zoom)</th>\n      <th>(zoom, zoom, pan, zoom)</th>\n      <th>(pan, zoom, zoom, zoom)</th>\n      <th>(zoom, zoom, zoom, pan)</th>\n      <th>(zoom, pan, pan, pan)</th>\n      <th>(pan, pan, pan, zoom)</th>\n      <th>(zoom, pan, pan, zoom)</th>\n      <th>(pan, zoom, zoom, pan)</th>\n      <th>(pan, zoom, pan, zoom)</th>\n      <th>(zoom, pan, zoom, zoom)</th>\n      <th>(zoom, zoom, pan, pan)</th>\n      <th>(pan, pan, zoom, pan)</th>\n      <th>(zoom, zoom, zoom, zoom)</th>\n      <th>User</th>\n      <th>Experience</th>\n    </tr>\n  </thead>\n  <tbody>\n  </tbody>\n</table>\n</div>"
     },
     "execution_count": 129,
     "metadata": {},
     "output_type": "execute_result"
    }
   ],
   "source": [
    "final_df.drop(final_df.index)"
   ],
   "metadata": {
    "collapsed": false,
    "pycharm": {
     "name": "#%%\n"
    }
   }
  },
  {
   "cell_type": "code",
   "execution_count": 130,
   "outputs": [
    {
     "data": {
      "text/plain": "   (pan, pan, pan, pan)  (zoom, pan, zoom, pan)  (pan, zoom, pan, pan)  \\\n0                     7                     4.0                    3.0   \n0                    40                    11.0                   10.0   \n0                    32                     5.0                    9.0   \n0                     9                     1.0                    0.0   \n0                    10                     2.0                    1.0   \n\n   (pan, pan, zoom, zoom)  (zoom, zoom, pan, zoom)  (pan, zoom, zoom, zoom)  \\\n0                       3                      3.0                        3   \n0                      10                      4.0                       10   \n0                       9                      3.0                        5   \n0                       1                      2.0                        3   \n0                       7                      7.0                        6   \n\n   (zoom, zoom, zoom, pan)  (zoom, pan, pan, pan)  (pan, pan, pan, zoom)  \\\n0                        3                      3                    3.0   \n0                       10                     10                    9.0   \n0                        5                     10                    9.0   \n0                        3                      1                    0.0   \n0                        6                      5                    5.0   \n\n   (zoom, pan, pan, zoom)  (pan, zoom, zoom, pan)  (pan, zoom, pan, zoom)  \\\n0                       2                     2.0                     2.0   \n0                      11                     5.0                    11.0   \n0                       7                     6.0                     3.0   \n0                       1                     0.0                     1.0   \n0                       3                     8.0                     2.0   \n\n   (zoom, pan, zoom, zoom)  (zoom, zoom, pan, pan)  (pan, pan, zoom, pan)  \\\n0                      2.0                       2                    2.0   \n0                      4.0                      11                   10.0   \n0                      1.0                       8                    7.0   \n0                      2.0                       2                    0.0   \n0                      7.0                       6                    1.0   \n\n   (zoom, zoom, zoom, zoom)                                         User  \\\n0                         1  userid_82316e37-1117-4663-84b4-ddb6455c83b2   \n0                         6  userid_ff56863b-0710-4a58-ad22-4bf2889c9bc0   \n0                         6  userid_bda49380-37ad-41c5-a109-7fa198a7691a   \n0                         7  userid_3abeecbe-327a-441e-be2a-0dd3763c1d45   \n0                         7  userid_44968286-f204-4ad6-a9b5-d95b38e97866   \n\n   Experience  \n0           1  \n0           1  \n0           1  \n0           1  \n0           0  ",
      "text/html": "<div>\n<style scoped>\n    .dataframe tbody tr th:only-of-type {\n        vertical-align: middle;\n    }\n\n    .dataframe tbody tr th {\n        vertical-align: top;\n    }\n\n    .dataframe thead th {\n        text-align: right;\n    }\n</style>\n<table border=\"1\" class=\"dataframe\">\n  <thead>\n    <tr style=\"text-align: right;\">\n      <th></th>\n      <th>(pan, pan, pan, pan)</th>\n      <th>(zoom, pan, zoom, pan)</th>\n      <th>(pan, zoom, pan, pan)</th>\n      <th>(pan, pan, zoom, zoom)</th>\n      <th>(zoom, zoom, pan, zoom)</th>\n      <th>(pan, zoom, zoom, zoom)</th>\n      <th>(zoom, zoom, zoom, pan)</th>\n      <th>(zoom, pan, pan, pan)</th>\n      <th>(pan, pan, pan, zoom)</th>\n      <th>(zoom, pan, pan, zoom)</th>\n      <th>(pan, zoom, zoom, pan)</th>\n      <th>(pan, zoom, pan, zoom)</th>\n      <th>(zoom, pan, zoom, zoom)</th>\n      <th>(zoom, zoom, pan, pan)</th>\n      <th>(pan, pan, zoom, pan)</th>\n      <th>(zoom, zoom, zoom, zoom)</th>\n      <th>User</th>\n      <th>Experience</th>\n    </tr>\n  </thead>\n  <tbody>\n    <tr>\n      <th>0</th>\n      <td>7</td>\n      <td>4.0</td>\n      <td>3.0</td>\n      <td>3</td>\n      <td>3.0</td>\n      <td>3</td>\n      <td>3</td>\n      <td>3</td>\n      <td>3.0</td>\n      <td>2</td>\n      <td>2.0</td>\n      <td>2.0</td>\n      <td>2.0</td>\n      <td>2</td>\n      <td>2.0</td>\n      <td>1</td>\n      <td>userid_82316e37-1117-4663-84b4-ddb6455c83b2</td>\n      <td>1</td>\n    </tr>\n    <tr>\n      <th>0</th>\n      <td>40</td>\n      <td>11.0</td>\n      <td>10.0</td>\n      <td>10</td>\n      <td>4.0</td>\n      <td>10</td>\n      <td>10</td>\n      <td>10</td>\n      <td>9.0</td>\n      <td>11</td>\n      <td>5.0</td>\n      <td>11.0</td>\n      <td>4.0</td>\n      <td>11</td>\n      <td>10.0</td>\n      <td>6</td>\n      <td>userid_ff56863b-0710-4a58-ad22-4bf2889c9bc0</td>\n      <td>1</td>\n    </tr>\n    <tr>\n      <th>0</th>\n      <td>32</td>\n      <td>5.0</td>\n      <td>9.0</td>\n      <td>9</td>\n      <td>3.0</td>\n      <td>5</td>\n      <td>5</td>\n      <td>10</td>\n      <td>9.0</td>\n      <td>7</td>\n      <td>6.0</td>\n      <td>3.0</td>\n      <td>1.0</td>\n      <td>8</td>\n      <td>7.0</td>\n      <td>6</td>\n      <td>userid_bda49380-37ad-41c5-a109-7fa198a7691a</td>\n      <td>1</td>\n    </tr>\n    <tr>\n      <th>0</th>\n      <td>9</td>\n      <td>1.0</td>\n      <td>0.0</td>\n      <td>1</td>\n      <td>2.0</td>\n      <td>3</td>\n      <td>3</td>\n      <td>1</td>\n      <td>0.0</td>\n      <td>1</td>\n      <td>0.0</td>\n      <td>1.0</td>\n      <td>2.0</td>\n      <td>2</td>\n      <td>0.0</td>\n      <td>7</td>\n      <td>userid_3abeecbe-327a-441e-be2a-0dd3763c1d45</td>\n      <td>1</td>\n    </tr>\n    <tr>\n      <th>0</th>\n      <td>10</td>\n      <td>2.0</td>\n      <td>1.0</td>\n      <td>7</td>\n      <td>7.0</td>\n      <td>6</td>\n      <td>6</td>\n      <td>5</td>\n      <td>5.0</td>\n      <td>3</td>\n      <td>8.0</td>\n      <td>2.0</td>\n      <td>7.0</td>\n      <td>6</td>\n      <td>1.0</td>\n      <td>7</td>\n      <td>userid_44968286-f204-4ad6-a9b5-d95b38e97866</td>\n      <td>0</td>\n    </tr>\n  </tbody>\n</table>\n</div>"
     },
     "execution_count": 130,
     "metadata": {},
     "output_type": "execute_result"
    }
   ],
   "source": [
    "final_df.head(5)\n"
   ],
   "metadata": {
    "collapsed": false,
    "pycharm": {
     "name": "#%%\n"
    }
   }
  },
  {
   "cell_type": "code",
   "execution_count": 131,
   "outputs": [],
   "source": [
    "column_names = list(final_df.columns.values)\n",
    "column_names = [e for e in column_names if e not in ('Experience', 'User')]"
   ],
   "metadata": {
    "collapsed": false,
    "pycharm": {
     "name": "#%%\n"
    }
   }
  },
  {
   "cell_type": "code",
   "execution_count": 132,
   "outputs": [],
   "source": [
    "final_df_copy=final_df.drop(['User'], axis=1)"
   ],
   "metadata": {
    "collapsed": false,
    "pycharm": {
     "name": "#%%\n"
    }
   }
  },
  {
   "cell_type": "code",
   "execution_count": 133,
   "outputs": [],
   "source": [
    "X_train, X_test, y_train, y_test = train_test_split(final_df_copy[column_names], final_df_copy['Experience'], test_size = 0.33, random_state = 42)"
   ],
   "metadata": {
    "collapsed": false,
    "pycharm": {
     "name": "#%%\n"
    }
   }
  },
  {
   "cell_type": "code",
   "execution_count": 134,
   "outputs": [
    {
     "name": "stderr",
     "output_type": "stream",
     "text": [
      "C:\\Users\\Nischal Aryal\\AppData\\Local\\Programs\\Python\\Python39\\lib\\site-packages\\sklearn\\utils\\validation.py:1688: FutureWarning: Feature names only support names that are all strings. Got feature names with dtypes: ['tuple']. An error will be raised in 1.2.\n",
      "  warnings.warn(\n"
     ]
    }
   ],
   "source": [
    "dtree = DecisionTreeClassifier()\n",
    "dtree = dtree.fit(X_train,y_train)"
   ],
   "metadata": {
    "collapsed": false,
    "pycharm": {
     "name": "#%%\n"
    }
   }
  },
  {
   "cell_type": "code",
   "execution_count": 135,
   "outputs": [
    {
     "name": "stderr",
     "output_type": "stream",
     "text": [
      "C:\\Users\\Nischal Aryal\\AppData\\Local\\Programs\\Python\\Python39\\lib\\site-packages\\sklearn\\utils\\validation.py:1688: FutureWarning: Feature names only support names that are all strings. Got feature names with dtypes: ['tuple']. An error will be raised in 1.2.\n",
      "  warnings.warn(\n"
     ]
    }
   ],
   "source": [
    "y_pred_en = dtree.predict(X_test)"
   ],
   "metadata": {
    "collapsed": false,
    "pycharm": {
     "name": "#%%\n"
    }
   }
  },
  {
   "cell_type": "code",
   "execution_count": 136,
   "outputs": [
    {
     "name": "stdout",
     "output_type": "stream",
     "text": [
      "Model accuracy score with criterion Gini: 0.6667\n"
     ]
    }
   ],
   "source": [
    "print('Model accuracy score with criterion Gini: {0:0.4f}'. format(accuracy_score(y_test, y_pred_en)))"
   ],
   "metadata": {
    "collapsed": false,
    "pycharm": {
     "name": "#%%\n"
    }
   }
  },
  {
   "cell_type": "code",
   "execution_count": 137,
   "outputs": [
    {
     "name": "stdout",
     "output_type": "stream",
     "text": [
      "Confusion matrix: tn, fp,fn,tp\n",
      "\n",
      " [1 0 1 1]\n"
     ]
    }
   ],
   "source": [
    "cm = confusion_matrix(y_test, y_pred_en)\n",
    "print('Confusion matrix: tn, fp,fn,tp\\n\\n', cm.ravel())"
   ],
   "metadata": {
    "collapsed": false,
    "pycharm": {
     "name": "#%%\n"
    }
   }
  },
  {
   "cell_type": "code",
   "execution_count": 138,
   "outputs": [
    {
     "data": {
      "text/plain": "<Figure size 1368x1368 with 1 Axes>",
      "image/png": "[encoded data removed]"
     },
     "metadata": {
      "needs_background": "light"
     },
     "output_type": "display_data"
    }
   ],
   "source": [
    "import time\n",
    "plt.figure(figsize=(19,19))  # set plot size (denoted in inches)\n",
    "tree.plot_tree(dtree, feature_names=column_names, class_names=True,filled=True, fontsize=11)\n",
    "filename= \"tree\" + str(time.time()) + str(\".jpg\")\n",
    "plt.savefig(filename,format='jpg',bbox_inches = \"tight\")\n",
    "plt.show()"
   ],
   "metadata": {
    "collapsed": false,
    "pycharm": {
     "name": "#%%\n"
    }
   }
  },
  {
   "cell_type": "code",
   "execution_count": null,
   "outputs": [],
   "source": [],
   "metadata": {
    "collapsed": false,
    "pycharm": {
     "name": "#%%\n"
    }
   }
  }
 ],
 "metadata": {
  "kernelspec": {
   "display_name": "Python 3",
   "language": "python",
   "name": "python3"
  },
  "language_info": {
   "codemirror_mode": {
    "name": "ipython",
    "version": 2
   },
   "file_extension": ".py",
   "mimetype": "text/x-python",
   "name": "python",
   "nbconvert_exporter": "python",
   "pygments_lexer": "ipython2",
   "version": "2.7.6"
  }
 },
 "nbformat": 4,
 "nbformat_minor": 0
}