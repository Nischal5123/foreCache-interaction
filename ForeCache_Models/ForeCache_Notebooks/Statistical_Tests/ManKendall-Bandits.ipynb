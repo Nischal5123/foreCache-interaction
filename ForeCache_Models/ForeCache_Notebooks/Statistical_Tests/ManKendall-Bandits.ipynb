{
 "cells": [
  {
   "cell_type": "code",
   "execution_count": 68,
   "metadata": {
    "collapsed": true
   },
   "outputs": [],
   "source": [
    "import pandas as pd\n",
    "from statsmodels.tsa.stattools import adfuller\n",
    "import pymannkendall as mk\n",
    "import warnings;   warnings.filterwarnings(\"ignore\")"
   ]
  },
  {
   "cell_type": "code",
   "execution_count": 69,
   "outputs": [],
   "source": [
    "class StationarityTests:\n",
    "    def __init__(self, significance=.05):\n",
    "        self.SignificanceLevel = significance\n",
    "        self.pValue = None\n",
    "        self.isStationary = None\n",
    "        self.trend= None\n",
    "\n",
    "    def ADF_Stationarity_Test(self, timeseries, printResults = True):\n",
    "      #Dickey-Fuller test:\n",
    "      adfTest = adfuller(timeseries, autolag='AIC')\n",
    "\n",
    "      self.pValue = adfTest[1]\n",
    "\n",
    "      if (self.pValue<self.SignificanceLevel):\n",
    "          self.isStationary = True\n",
    "      else:\n",
    "          self.isStationary = False\n",
    "\n",
    "      if printResults:\n",
    "          dfResults = pd.Series(adfTest[0:4], index=['ADF Test Statistic','P-Value','# Lags Used','# Observations Used'])\n",
    "          #Add Critical Values\n",
    "          for key,value in adfTest[4].items():\n",
    "              dfResults['Critical Value (%s)'%key] = value\n",
    "          print('Augmented Dickey-Fuller Test Results:')\n",
    "          print(dfResults)\n",
    "\n",
    "    def Mann_Kendall_Stationarity_Test(self, timeseries, printResults = True):\n",
    "      #Mann Kendall Trend Test:\n",
    "      mktTest = mk.original_test(timeseries)\n",
    "\n",
    "      self.pValue = mktTest[2]\n",
    "      self.trend= mktTest[0]\n",
    "      self.isStationary = mktTest[1]\n",
    "\n",
    "      if printResults:\n",
    "          dfResults = pd.Series(mktTest[0:3], index=['Trend Type','Stationarity','P-Value'])\n",
    "          #Add Critical Values\n",
    "          for key,value in mktTest[3].items():\n",
    "              dfResults['Critical Value (%s)'%key] = value\n",
    "          print('Mann Kendall Trend Test:')\n",
    "          print(dfResults)"
   ],
   "metadata": {
    "collapsed": false,
    "pycharm": {
     "name": "#%%\n"
    }
   }
  },
  {
   "cell_type": "code",
   "execution_count": 74,
   "outputs": [],
   "source": [
    "def convert_numeric(df,column):\n",
    "    for k in range(len(df)):\n",
    "        if df[column][k]== 'NA':\n",
    "            df[column][k]=0\n",
    "        elif df[column][k]=='Navigation':\n",
    "            df[column][k]=1\n",
    "        elif df[column][k]=='Foraging':\n",
    "            df[column][k]=2\n",
    "        else :\n",
    "           df[column][k]=3\n",
    "    return df"
   ],
   "metadata": {
    "collapsed": false,
    "pycharm": {
     "name": "#%%\n"
    }
   }
  },
  {
   "cell_type": "code",
   "execution_count": 75,
   "outputs": [
    {
     "data": {
      "text/plain": "                                          User  ROI_Cycle  \\\n0  userid_3abeecbe-327a-441e-be2a-0dd3763c1d45          1   \n1  userid_44968286-f204-4ad6-a9b5-d95b38e97866          1   \n2  userid_44968286-f204-4ad6-a9b5-d95b38e97866          2   \n3  userid_44968286-f204-4ad6-a9b5-d95b38e97866          3   \n4  userid_44968286-f204-4ad6-a9b5-d95b38e97866          4   \n\n  NorthernRockiesPlains SouthWest    NorthWest   Northeast       Other  \\\n0           Sensemaking       NaN          NaN         NaN  Navigation   \n1                   NaN       NaN  Sensemaking         NaN    Foraging   \n2                   NaN       NaN   Navigation         NaN         NaN   \n3            Navigation       NaN   Navigation         NaN    Foraging   \n4            Navigation       NaN          NaN  Navigation    Foraging   \n\n          None  \n0     Foraging  \n1     Foraging  \n2  Sensemaking  \n3     Foraging  \n4          NaN  ",
      "text/html": "<div>\n<style scoped>\n    .dataframe tbody tr th:only-of-type {\n        vertical-align: middle;\n    }\n\n    .dataframe tbody tr th {\n        vertical-align: top;\n    }\n\n    .dataframe thead th {\n        text-align: right;\n    }\n</style>\n<table border=\"1\" class=\"dataframe\">\n  <thead>\n    <tr style=\"text-align: right;\">\n      <th></th>\n      <th>User</th>\n      <th>ROI_Cycle</th>\n      <th>NorthernRockiesPlains</th>\n      <th>SouthWest</th>\n      <th>NorthWest</th>\n      <th>Northeast</th>\n      <th>Other</th>\n      <th>None</th>\n    </tr>\n  </thead>\n  <tbody>\n    <tr>\n      <th>0</th>\n      <td>userid_3abeecbe-327a-441e-be2a-0dd3763c1d45</td>\n      <td>1</td>\n      <td>Sensemaking</td>\n      <td>NaN</td>\n      <td>NaN</td>\n      <td>NaN</td>\n      <td>Navigation</td>\n      <td>Foraging</td>\n    </tr>\n    <tr>\n      <th>1</th>\n      <td>userid_44968286-f204-4ad6-a9b5-d95b38e97866</td>\n      <td>1</td>\n      <td>NaN</td>\n      <td>NaN</td>\n      <td>Sensemaking</td>\n      <td>NaN</td>\n      <td>Foraging</td>\n      <td>Foraging</td>\n    </tr>\n    <tr>\n      <th>2</th>\n      <td>userid_44968286-f204-4ad6-a9b5-d95b38e97866</td>\n      <td>2</td>\n      <td>NaN</td>\n      <td>NaN</td>\n      <td>Navigation</td>\n      <td>NaN</td>\n      <td>NaN</td>\n      <td>Sensemaking</td>\n    </tr>\n    <tr>\n      <th>3</th>\n      <td>userid_44968286-f204-4ad6-a9b5-d95b38e97866</td>\n      <td>3</td>\n      <td>Navigation</td>\n      <td>NaN</td>\n      <td>Navigation</td>\n      <td>NaN</td>\n      <td>Foraging</td>\n      <td>Foraging</td>\n    </tr>\n    <tr>\n      <th>4</th>\n      <td>userid_44968286-f204-4ad6-a9b5-d95b38e97866</td>\n      <td>4</td>\n      <td>Navigation</td>\n      <td>NaN</td>\n      <td>NaN</td>\n      <td>Navigation</td>\n      <td>Foraging</td>\n      <td>NaN</td>\n    </tr>\n  </tbody>\n</table>\n</div>"
     },
     "execution_count": 75,
     "metadata": {},
     "output_type": "execute_result"
    }
   ],
   "source": [
    "df=pd.read_csv('data/NDSI-2D\\\\region_new-actions_context.csv')\n",
    "df.head(5)\n"
   ],
   "metadata": {
    "collapsed": false,
    "pycharm": {
     "name": "#%%\n"
    }
   }
  },
  {
   "cell_type": "code",
   "execution_count": 76,
   "outputs": [
    {
     "data": {
      "text/plain": "array(['userid_3abeecbe-327a-441e-be2a-0dd3763c1d45',\n       'userid_44968286-f204-4ad6-a9b5-d95b38e97866',\n       'userid_6d49fab8-273b-4a91-948b-ecd14556b049',\n       'userid_72a8d170-77ae-400e-b2a5-de9e1d33a714',\n       'userid_733a1ac5-0b01-485e-9b29-ac33932aa240',\n       'userid_7d014c75-453b-4188-9e4e-fb086984896a',\n       'userid_82316e37-1117-4663-84b4-ddb6455c83b2',\n       'userid_8b544d24-3274-4bb0-9719-fd2bccc87b02',\n       'userid_8bf5b71b-dfd4-403f-8791-06427b26ccaf',\n       'userid_93be0a02-3f7a-46c9-b526-aa956ed00856',\n       'userid_954edb7c-4eae-47ab-9338-5c5c7eccac2d',\n       'userid_a6aab5f5-fdb6-41df-9fc6-221d70f8c6e8',\n       'userid_ac5b65d7-f260-4534-9fae-d998b726ed32',\n       'userid_bc9f9425-e867-4876-a5d9-791229916767',\n       'userid_bda49380-37ad-41c5-a109-7fa198a7691a',\n       'userid_cd3ef507-e3e9-4edb-9222-90a69a9bf272',\n       'userid_d6555293-35c7-4c27-b522-38d67d2d1b1a',\n       'userid_da52acdd-3cea-483c-86e5-2c2740d371aa',\n       'userid_e4221e48-0930-40db-af3c-f4de1ed87582',\n       'userid_ff56863b-0710-4a58-ad22-4bf2889c9bc0'], dtype=object)"
     },
     "execution_count": 76,
     "metadata": {},
     "output_type": "execute_result"
    }
   ],
   "source": [
    "users=df.User.unique()\n",
    "users"
   ],
   "metadata": {
    "collapsed": false,
    "pycharm": {
     "name": "#%%\n"
    }
   }
  },
  {
   "cell_type": "code",
   "execution_count": 78,
   "outputs": [
    {
     "name": "stdout",
     "output_type": "stream",
     "text": [
      "Context: NorthernRockiesPlains\n",
      "length of series, 11\n",
      "Mann_Kendall_Stationarity_Test Result: no trend\n",
      "Context: SouthWest\n",
      "length of series, 11\n",
      "Mann_Kendall_Stationarity_Test Result: no trend\n",
      "Context: NorthWest\n",
      "length of series, 11\n",
      "Mann_Kendall_Stationarity_Test Result: no trend\n",
      "Context: Northeast\n",
      "length of series, 11\n",
      "Mann_Kendall_Stationarity_Test Result: no trend\n",
      "Context: Other\n",
      "length of series, 11\n",
      "Mann_Kendall_Stationarity_Test Result: no trend\n",
      "Context: None\n",
      "length of series, 11\n",
      "Mann_Kendall_Stationarity_Test Result: no trend\n"
     ]
    }
   ],
   "source": [
    "for i in ('NorthernRockiesPlains','SouthWest','NorthWest','Northeast','Other','None'):\n",
    "    print(f\"Context: {i}\")\n",
    "    subset_df= convert_numeric(df,i)\n",
    "    series=(subset_df.loc[subset_df['User'] == 'userid_7d014c75-453b-4188-9e4e-fb086984896a'])[i]\n",
    "    print(f\"length of series, {len(series)}\")\n",
    "    if len(series)>2:\n",
    "        sTest_state = StationarityTests()\n",
    "        sTest_state.Mann_Kendall_Stationarity_Test(series, printResults = False)\n",
    "        print(f'Mann_Kendall_Stationarity_Test Result: {sTest_state.trend}')\n",
    "    else:\n",
    "        print(\"Not enough data\")\n"
   ],
   "metadata": {
    "collapsed": false,
    "pycharm": {
     "name": "#%%\n"
    }
   }
  },
  {
   "cell_type": "code",
   "execution_count": null,
   "outputs": [],
   "source": [],
   "metadata": {
    "collapsed": false,
    "pycharm": {
     "name": "#%%\n"
    }
   }
  }
 ],
 "metadata": {
  "kernelspec": {
   "display_name": "Python 3",
   "language": "python",
   "name": "python3"
  },
  "language_info": {
   "codemirror_mode": {
    "name": "ipython",
    "version": 2
   },
   "file_extension": ".py",
   "mimetype": "text/x-python",
   "name": "python",
   "nbconvert_exporter": "python",
   "pygments_lexer": "ipython2",
   "version": "2.7.6"
  }
 },
 "nbformat": 4,
 "nbformat_minor": 0
}