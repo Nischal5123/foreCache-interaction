{
 "cells": [
  {
   "cell_type": "code",
   "execution_count": 34,
   "metadata": {
    "collapsed": true
   },
   "outputs": [],
   "source": [
    "import glob\n",
    "import pandas as pd\n",
    "import numpy as np\n",
    "import environment2\n",
    "import pandas as pd\n",
    "pd.options.mode.chained_assignment = None  # default='warn'\n",
    "from collections import defaultdict\n",
    "\n",
    "from statsmodels.tsa.stattools import adfuller\n",
    "import pymannkendall as mk\n",
    "import warnings;   warnings.filterwarnings(\"ignore\")"
   ]
  },
  {
   "cell_type": "code",
   "execution_count": 35,
   "outputs": [],
   "source": [
    "env = environment2.environment2()\n",
    "user_list_2D = env.user_list_2D\n",
    "user_list_3D = env.user_list_3D"
   ],
   "metadata": {
    "collapsed": false,
    "pycharm": {
     "name": "#%%\n"
    }
   }
  },
  {
   "cell_type": "code",
   "execution_count": 36,
   "outputs": [
    {
     "data": {
      "text/plain": "'data/NDSI-2D\\\\taskname_ndsi-2d-task_userid_3abeecbe-327a-441e-be2a-0dd3763c1d45.csv'"
     },
     "execution_count": 36,
     "metadata": {},
     "output_type": "execute_result"
    }
   ],
   "source": [
    "user_list_2D[0]"
   ],
   "metadata": {
    "collapsed": false,
    "pycharm": {
     "name": "#%%\n"
    }
   }
  },
  {
   "cell_type": "code",
   "execution_count": 37,
   "outputs": [],
   "source": [
    "fileNames2D=['data/NDSI-2D\\\\taskname_ndsi-2d-task_userid_3abeecbe-327a-441e-be2a-0dd3763c1d45.csv',\n",
    " 'data/NDSI-2D\\\\taskname_ndsi-2d-task_userid_44968286-f204-4ad6-a9b5-d95b38e97866.csv',\n",
    " 'data/NDSI-2D\\\\taskname_ndsi-2d-task_userid_72a8d170-77ae-400e-b2a5-de9e1d33a714.csv',\n",
    " 'data/NDSI-2D\\\\taskname_ndsi-2d-task_userid_82316e37-1117-4663-84b4-ddb6455c83b2.csv',\n",
    " 'data/NDSI-2D\\\\taskname_ndsi-2d-task_userid_7d014c75-453b-4188-9e4e-fb086984896a.csv']"
   ],
   "metadata": {
    "collapsed": false,
    "pycharm": {
     "name": "#%%\n"
    }
   }
  },
  {
   "cell_type": "code",
   "execution_count": 38,
   "outputs": [],
   "source": [
    "fileNames2D=user_list_2D"
   ],
   "metadata": {
    "collapsed": false,
    "pycharm": {
     "name": "#%%\n"
    }
   }
  },
  {
   "cell_type": "code",
   "execution_count": 39,
   "outputs": [
    {
     "data": {
      "text/plain": "array(['data/NDSI-2D\\\\taskname_ndsi-2d-task_userid_3abeecbe-327a-441e-be2a-0dd3763c1d45.csv',\n       'data/NDSI-2D\\\\taskname_ndsi-2d-task_userid_44968286-f204-4ad6-a9b5-d95b38e97866.csv',\n       'data/NDSI-2D\\\\taskname_ndsi-2d-task_userid_6d49fab8-273b-4a91-948b-ecd14556b049.csv',\n       'data/NDSI-2D\\\\taskname_ndsi-2d-task_userid_72a8d170-77ae-400e-b2a5-de9e1d33a714.csv',\n       'data/NDSI-2D\\\\taskname_ndsi-2d-task_userid_733a1ac5-0b01-485e-9b29-ac33932aa240.csv',\n       'data/NDSI-2D\\\\taskname_ndsi-2d-task_userid_7d014c75-453b-4188-9e4e-fb086984896a.csv',\n       'data/NDSI-2D\\\\taskname_ndsi-2d-task_userid_82316e37-1117-4663-84b4-ddb6455c83b2.csv',\n       'data/NDSI-2D\\\\taskname_ndsi-2d-task_userid_8b544d24-3274-4bb0-9719-fd2bccc87b02.csv',\n       'data/NDSI-2D\\\\taskname_ndsi-2d-task_userid_8bf5b71b-dfd4-403f-8791-06427b26ccaf.csv',\n       'data/NDSI-2D\\\\taskname_ndsi-2d-task_userid_93be0a02-3f7a-46c9-b526-aa956ed00856.csv',\n       'data/NDSI-2D\\\\taskname_ndsi-2d-task_userid_954edb7c-4eae-47ab-9338-5c5c7eccac2d.csv',\n       'data/NDSI-2D\\\\taskname_ndsi-2d-task_userid_a6aab5f5-fdb6-41df-9fc6-221d70f8c6e8.csv',\n       'data/NDSI-2D\\\\taskname_ndsi-2d-task_userid_ac5b65d7-f260-4534-9fae-d998b726ed32.csv',\n       'data/NDSI-2D\\\\taskname_ndsi-2d-task_userid_bc9f9425-e867-4876-a5d9-791229916767.csv',\n       'data/NDSI-2D\\\\taskname_ndsi-2d-task_userid_bda49380-37ad-41c5-a109-7fa198a7691a.csv',\n       'data/NDSI-2D\\\\taskname_ndsi-2d-task_userid_cd3ef507-e3e9-4edb-9222-90a69a9bf272.csv',\n       'data/NDSI-2D\\\\taskname_ndsi-2d-task_userid_d6555293-35c7-4c27-b522-38d67d2d1b1a.csv',\n       'data/NDSI-2D\\\\taskname_ndsi-2d-task_userid_da52acdd-3cea-483c-86e5-2c2740d371aa.csv',\n       'data/NDSI-2D\\\\taskname_ndsi-2d-task_userid_e4221e48-0930-40db-af3c-f4de1ed87582.csv',\n       'data/NDSI-2D\\\\taskname_ndsi-2d-task_userid_ff56863b-0710-4a58-ad22-4bf2889c9bc0.csv'],\n      dtype='<U82')"
     },
     "execution_count": 39,
     "metadata": {},
     "output_type": "execute_result"
    }
   ],
   "source": [
    "fileNames2D"
   ],
   "metadata": {
    "collapsed": false,
    "pycharm": {
     "name": "#%%\n"
    }
   }
  },
  {
   "cell_type": "code",
   "execution_count": 40,
   "outputs": [],
   "source": [
    "def get_ROISubset(data):\n",
    "    roi_subset=[]\n",
    "    subset=1\n",
    "    for i in range(len(data)):\n",
    "        if data['State'][i]=='Sensemaking':\n",
    "            if (i < (len(data) - 1)) and data['State'][i+1]!= 'Sensemaking':\n",
    "                roi_subset.append(subset)\n",
    "                subset=subset+1\n",
    "            else:\n",
    "                roi_subset.append(subset)\n",
    "        else:\n",
    "            roi_subset.append(subset)\n",
    "    return roi_subset"
   ],
   "metadata": {
    "collapsed": false,
    "pycharm": {
     "name": "#%%\n"
    }
   }
  },
  {
   "cell_type": "code",
   "execution_count": 41,
   "outputs": [],
   "source": [
    "from collections import defaultdict\n",
    "def get_probabilities(dataframe):\n",
    "    dataframe['high-level-action']=np.zeros(len(dataframe))\n",
    "    probabilities=[]\n",
    "    map=dict()\n",
    "    # print(dataframe.head(5))\n",
    "    states=['Answering','Sensemaking','Foraging','Navigation']\n",
    "    actions=['change','same']\n",
    "    for state in states:\n",
    "      for action in actions:\n",
    "        map[state+action]=1\n",
    "\n",
    "\n",
    "    current_state=None\n",
    "    for i in range(len(dataframe)):\n",
    "      if dataframe[\"State\"][i]== current_state:\n",
    "        dataframe[\"high-level-action\"][i]=\"same\"\n",
    "      else:\n",
    "        dataframe[\"high-level-action\"][i]=\"change\"\n",
    "      current_state=dataframe[\"State\"][i]\n",
    "\n",
    "    for i in range(len(dataframe)):\n",
    "      if dataframe['State'][i]==\"Navigation\":\n",
    "        map[str(dataframe['State'][i]+dataframe['high-level-action'][i])] += 1\n",
    "        probs = (map[str(dataframe['State'][i]+dataframe['high-level-action'][i])])/(map['Navigationchange']  + map['Navigationsame'])\n",
    "\n",
    "      elif dataframe['State'][i]==\"Sensemaking\":\n",
    "        map[str(dataframe['State'][i]+dataframe['high-level-action'][i])] += 1\n",
    "        probs = (map[str(dataframe['State'][i]+dataframe['high-level-action'][i])])/(map['Sensemakingchange'] + map['Sensemakingsame'])\n",
    "\n",
    "      elif dataframe['State'][i]==\"Foraging\":\n",
    "        map[str(dataframe['State'][i]+dataframe['high-level-action'][i])] += 1\n",
    "        probs = (map[str(dataframe['State'][i]+dataframe['high-level-action'][i])])/(map['Foragingchange'] + map['Foragingsame'])\n",
    "      else:\n",
    "        map[str(dataframe['State'][i]+dataframe['high-level-action'][i])] += 1\n",
    "        probs = (map[str(dataframe['State'][i]+dataframe['high-level-action'][i])])/(map['Answeringsame'] + map['Answeringchange'])\n",
    "      probabilities.append(probs)\n",
    "    dataframe['probabilities']=probabilities\n",
    "    return dataframe, map"
   ],
   "metadata": {
    "collapsed": false,
    "pycharm": {
     "name": "#%%\n"
    }
   }
  },
  {
   "cell_type": "code",
   "execution_count": 42,
   "outputs": [],
   "source": [
    "from collections import defaultdict\n",
    "def get_probabilities_subtask(dataframe):\n",
    "    dataframe['high-level-action']=np.zeros(len(dataframe))\n",
    "    probabilities=[]\n",
    "    map=dict()\n",
    "    # print(dataframe.head(5))\n",
    "    states=['Sensemaking','Foraging','Navigation']\n",
    "    actions=['change','same']\n",
    "    for state in states:\n",
    "      for action in actions:\n",
    "        map[state+action]=1\n",
    "\n",
    "\n",
    "    current_state=None\n",
    "\n",
    "    for i in range(len(dataframe)):\n",
    "      if dataframe['State'][i]==\"Navigation\":\n",
    "        map[str(dataframe['State'][i]+dataframe['high-level-action'][i])] += 1\n",
    "        probs = (map[str(dataframe['State'][i]+dataframe['high-level-action'][i])])/(map['Navigationchange']  + map['Navigationsame'])\n",
    "\n",
    "      elif dataframe['State'][i]==\"Sensemaking\":\n",
    "        map[str(dataframe['State'][i]+dataframe['high-level-action'][i])] += 1\n",
    "        probs = (map[str(dataframe['State'][i]+dataframe['high-level-action'][i])])/(map['Sensemakingchange'] + map['Sensemakingsame'])\n",
    "\n",
    "      else :\n",
    "        map[str(dataframe['State'][i]+dataframe['high-level-action'][i])] += 1\n",
    "        probs = (map[str(dataframe['State'][i]+dataframe['high-level-action'][i])])/(map['Foragingchange'] + map['Foragingsame'])\n",
    "\n",
    "      probabilities.append(probs)\n",
    "    return probabilities"
   ],
   "metadata": {
    "collapsed": false,
    "pycharm": {
     "name": "#%%\n"
    }
   }
  },
  {
   "cell_type": "code",
   "execution_count": 43,
   "outputs": [],
   "source": [
    "from collections import defaultdict\n",
    "def get_probabilities_region(dataframe):\n",
    "    df=dataframe\n",
    "    probabilities=[]\n",
    "    map=defaultdict(lambda: defaultdict(int))\n",
    "\n",
    "    for i in range(len(df)):\n",
    "            if df.loc[i, \"Most_frequent_region\"] in ('NorthernRockiesPlains','Northeast','NorthWest','SouthWest','None'):\n",
    "                df.loc[i, \"Most_frequent_region\"]=df.loc[i, \"Most_frequent_region\"]\n",
    "            else:\n",
    "                df.loc[i, \"Most_frequent_region\"]= 'Other'\n",
    "            if df.loc[i, \"State\"] not in ('Sensemaking','Foraging','Navigation'):\n",
    "                df.loc[i, \"State\"] = 'Sensemaking'\n",
    "    # print(dataframe.head(5))\n",
    "    actions=['Sensemaking','Foraging','Navigation']\n",
    "    states=['NorthernRockiesPlains','Northeast','NorthWest','SouthWest','None','Other']\n",
    "    for state in states:\n",
    "      for action in actions:\n",
    "        map[state][action]=1\n",
    "\n",
    "    for i in range(len(df)):\n",
    "      sum = 0\n",
    "      map[df['Most_frequent_region'][i]][df['State'][i]] +=1\n",
    "      for act in map[df['Most_frequent_region'][i]]:\n",
    "                sum += map[df['Most_frequent_region'][i]][act]\n",
    "      probs=map[df['Most_frequent_region'][i]][df['State'][i]]   / sum\n",
    "      probabilities.append(probs)\n",
    "    df['probabilities']= probabilities\n",
    "    return df, map"
   ],
   "metadata": {
    "collapsed": false,
    "pycharm": {
     "name": "#%%\n"
    }
   }
  },
  {
   "cell_type": "code",
   "execution_count": 44,
   "outputs": [],
   "source": [
    "class StationarityTests:\n",
    "    def __init__(self, significance=.05):\n",
    "        self.SignificanceLevel = significance\n",
    "        self.pValue = None\n",
    "        self.isStationary = None\n",
    "        self.trend= None\n",
    "\n",
    "    def ADF_Stationarity_Test(self, timeseries, printResults = True):\n",
    "      #Dickey-Fuller test:\n",
    "      adfTest = adfuller(timeseries, autolag='AIC')\n",
    "\n",
    "      self.pValue = adfTest[1]\n",
    "\n",
    "      if (self.pValue<self.SignificanceLevel):\n",
    "          self.isStationary = True\n",
    "      else:\n",
    "          self.isStationary = False\n",
    "\n",
    "      if printResults:\n",
    "          dfResults = pd.Series(adfTest[0:4], index=['ADF Test Statistic','P-Value','# Lags Used','# Observations Used'])\n",
    "          #Add Critical Values\n",
    "          for key,value in adfTest[4].items():\n",
    "              dfResults['Critical Value (%s)'%key] = value\n",
    "          print('Augmented Dickey-Fuller Test Results:')\n",
    "          print(dfResults)\n",
    "\n",
    "    def Mann_Kendall_Stationarity_Test(self, timeseries, printResults = True):\n",
    "      #Mann Kendall Trend Test:\n",
    "      mktTest = mk.original_test(timeseries,self.SignificanceLevel)\n",
    "\n",
    "      self.pValue = mktTest[2]\n",
    "      self.trend= mktTest[0]\n",
    "      self.isStationary = mktTest[1]\n",
    "\n",
    "      if printResults:\n",
    "          dfResults = pd.Series(mktTest[0:3], index=['Trend Type','Stationarity','P-Value'])\n",
    "          #Add Critical Values\n",
    "          for key,value in mktTest[3].items():\n",
    "              dfResults['Critical Value (%s)'%key] = value\n",
    "          print('Mann Kendall Trend Test:')\n",
    "          print(dfResults)"
   ],
   "metadata": {
    "collapsed": false,
    "pycharm": {
     "name": "#%%\n"
    }
   }
  },
  {
   "cell_type": "code",
   "execution_count": 45,
   "outputs": [
    {
     "name": "stdout",
     "output_type": "stream",
     "text": [
      "########################### data/NDSI-2D\\taskname_ndsi-2d-task_userid_3abeecbe-327a-441e-be2a-0dd3763c1d45.csv\n",
      "ROI_Cycle: ####################### 1\n",
      "########################### data/NDSI-2D\\taskname_ndsi-2d-task_userid_44968286-f204-4ad6-a9b5-d95b38e97866.csv\n",
      "ROI_Cycle: ####################### 1\n",
      "ROI_Cycle: ####################### 2\n",
      "ROI_Cycle: ####################### 3\n",
      "ROI_Cycle: ####################### 4\n",
      "ROI_Cycle: ####################### 5\n",
      "ROI_Cycle: ####################### 6\n",
      "ROI_Cycle: ####################### 7\n",
      "########################### data/NDSI-2D\\taskname_ndsi-2d-task_userid_6d49fab8-273b-4a91-948b-ecd14556b049.csv\n",
      "ROI_Cycle: ####################### 1\n",
      "ROI_Cycle: ####################### 2\n",
      "ROI_Cycle: ####################### 3\n",
      "ROI_Cycle: ####################### 4\n",
      "ROI_Cycle: ####################### 5\n",
      "########################### data/NDSI-2D\\taskname_ndsi-2d-task_userid_72a8d170-77ae-400e-b2a5-de9e1d33a714.csv\n",
      "ROI_Cycle: ####################### 1\n",
      "ROI_Cycle: ####################### 2\n",
      "ROI_Cycle: ####################### 3\n",
      "ROI_Cycle: ####################### 4\n",
      "ROI_Cycle: ####################### 5\n",
      "ROI_Cycle: ####################### 6\n",
      "########################### data/NDSI-2D\\taskname_ndsi-2d-task_userid_733a1ac5-0b01-485e-9b29-ac33932aa240.csv\n",
      "ROI_Cycle: ####################### 1\n",
      "ROI_Cycle: ####################### 2\n",
      "ROI_Cycle: ####################### 3\n",
      "########################### data/NDSI-2D\\taskname_ndsi-2d-task_userid_7d014c75-453b-4188-9e4e-fb086984896a.csv\n",
      "ROI_Cycle: ####################### 1\n",
      "ROI_Cycle: ####################### 2\n",
      "ROI_Cycle: ####################### 3\n",
      "ROI_Cycle: ####################### 4\n",
      "ROI_Cycle: ####################### 5\n",
      "ROI_Cycle: ####################### 6\n",
      "ROI_Cycle: ####################### 7\n",
      "ROI_Cycle: ####################### 8\n",
      "ROI_Cycle: ####################### 9\n",
      "ROI_Cycle: ####################### 10\n",
      "ROI_Cycle: ####################### 11\n",
      "########################### data/NDSI-2D\\taskname_ndsi-2d-task_userid_82316e37-1117-4663-84b4-ddb6455c83b2.csv\n",
      "ROI_Cycle: ####################### 1\n",
      "ROI_Cycle: ####################### 2\n",
      "ROI_Cycle: ####################### 3\n",
      "ROI_Cycle: ####################### 4\n",
      "########################### data/NDSI-2D\\taskname_ndsi-2d-task_userid_8b544d24-3274-4bb0-9719-fd2bccc87b02.csv\n",
      "ROI_Cycle: ####################### 1\n",
      "ROI_Cycle: ####################### 2\n",
      "ROI_Cycle: ####################### 3\n",
      "ROI_Cycle: ####################### 4\n",
      "########################### data/NDSI-2D\\taskname_ndsi-2d-task_userid_8bf5b71b-dfd4-403f-8791-06427b26ccaf.csv\n",
      "ROI_Cycle: ####################### 1\n",
      "ROI_Cycle: ####################### 2\n",
      "ROI_Cycle: ####################### 3\n",
      "ROI_Cycle: ####################### 4\n",
      "ROI_Cycle: ####################### 5\n",
      "ROI_Cycle: ####################### 6\n",
      "ROI_Cycle: ####################### 7\n",
      "########################### data/NDSI-2D\\taskname_ndsi-2d-task_userid_93be0a02-3f7a-46c9-b526-aa956ed00856.csv\n",
      "ROI_Cycle: ####################### 1\n",
      "ROI_Cycle: ####################### 2\n",
      "ROI_Cycle: ####################### 3\n",
      "ROI_Cycle: ####################### 4\n",
      "ROI_Cycle: ####################### 5\n",
      "ROI_Cycle: ####################### 6\n",
      "########################### data/NDSI-2D\\taskname_ndsi-2d-task_userid_954edb7c-4eae-47ab-9338-5c5c7eccac2d.csv\n",
      "ROI_Cycle: ####################### 1\n",
      "ROI_Cycle: ####################### 2\n",
      "ROI_Cycle: ####################### 3\n",
      "ROI_Cycle: ####################### 4\n",
      "ROI_Cycle: ####################### 5\n",
      "########################### data/NDSI-2D\\taskname_ndsi-2d-task_userid_a6aab5f5-fdb6-41df-9fc6-221d70f8c6e8.csv\n",
      "ROI_Cycle: ####################### 1\n",
      "ROI_Cycle: ####################### 2\n",
      "ROI_Cycle: ####################### 3\n",
      "ROI_Cycle: ####################### 4\n",
      "ROI_Cycle: ####################### 5\n",
      "########################### data/NDSI-2D\\taskname_ndsi-2d-task_userid_ac5b65d7-f260-4534-9fae-d998b726ed32.csv\n",
      "ROI_Cycle: ####################### 1\n",
      "ROI_Cycle: ####################### 2\n",
      "ROI_Cycle: ####################### 3\n",
      "ROI_Cycle: ####################### 4\n",
      "ROI_Cycle: ####################### 5\n",
      "ROI_Cycle: ####################### 6\n",
      "ROI_Cycle: ####################### 7\n",
      "########################### data/NDSI-2D\\taskname_ndsi-2d-task_userid_bc9f9425-e867-4876-a5d9-791229916767.csv\n",
      "ROI_Cycle: ####################### 1\n",
      "ROI_Cycle: ####################### 2\n",
      "ROI_Cycle: ####################### 3\n",
      "########################### data/NDSI-2D\\taskname_ndsi-2d-task_userid_bda49380-37ad-41c5-a109-7fa198a7691a.csv\n",
      "ROI_Cycle: ####################### 1\n",
      "ROI_Cycle: ####################### 2\n",
      "ROI_Cycle: ####################### 3\n",
      "ROI_Cycle: ####################### 4\n",
      "ROI_Cycle: ####################### 5\n",
      "ROI_Cycle: ####################### 6\n",
      "ROI_Cycle: ####################### 7\n",
      "########################### data/NDSI-2D\\taskname_ndsi-2d-task_userid_cd3ef507-e3e9-4edb-9222-90a69a9bf272.csv\n",
      "ROI_Cycle: ####################### 1\n",
      "ROI_Cycle: ####################### 2\n",
      "ROI_Cycle: ####################### 3\n",
      "ROI_Cycle: ####################### 4\n",
      "########################### data/NDSI-2D\\taskname_ndsi-2d-task_userid_d6555293-35c7-4c27-b522-38d67d2d1b1a.csv\n",
      "ROI_Cycle: ####################### 1\n",
      "ROI_Cycle: ####################### 2\n",
      "ROI_Cycle: ####################### 3\n",
      "ROI_Cycle: ####################### 4\n",
      "ROI_Cycle: ####################### 5\n",
      "ROI_Cycle: ####################### 6\n",
      "########################### data/NDSI-2D\\taskname_ndsi-2d-task_userid_da52acdd-3cea-483c-86e5-2c2740d371aa.csv\n",
      "ROI_Cycle: ####################### 1\n",
      "ROI_Cycle: ####################### 2\n",
      "ROI_Cycle: ####################### 3\n",
      "ROI_Cycle: ####################### 4\n",
      "ROI_Cycle: ####################### 5\n",
      "ROI_Cycle: ####################### 6\n",
      "ROI_Cycle: ####################### 7\n",
      "ROI_Cycle: ####################### 8\n",
      "ROI_Cycle: ####################### 9\n",
      "########################### data/NDSI-2D\\taskname_ndsi-2d-task_userid_e4221e48-0930-40db-af3c-f4de1ed87582.csv\n",
      "ROI_Cycle: ####################### 1\n",
      "ROI_Cycle: ####################### 2\n",
      "ROI_Cycle: ####################### 3\n",
      "ROI_Cycle: ####################### 4\n",
      "########################### data/NDSI-2D\\taskname_ndsi-2d-task_userid_ff56863b-0710-4a58-ad22-4bf2889c9bc0.csv\n",
      "ROI_Cycle: ####################### 1\n",
      "ROI_Cycle: ####################### 2\n",
      "ROI_Cycle: ####################### 3\n",
      "ROI_Cycle: ####################### 4\n",
      "ROI_Cycle: ####################### 5\n",
      "ROI_Cycle: ####################### 6\n",
      "ROI_Cycle: ####################### 7\n",
      "ROI_Cycle: ####################### 8\n",
      "ROI_Cycle: ####################### 9\n",
      "ROI_Cycle: ####################### 10\n"
     ]
    }
   ],
   "source": [
    "user=[]\n",
    "ROI_subtask=[]\n",
    "NorthernRockiesPlainsSensemaking=[]\n",
    "NorthernRockiesPlainsForaging=[]\n",
    "NorthernRockiesPlainsNavigation=[]\n",
    "\n",
    "SouthWestSensemaking=[]\n",
    "SouthWestForaging=[]\n",
    "SouthWestNavigation=[]\n",
    "\n",
    "NorthWestSensemaking=[]\n",
    "NorthWestForaging=[]\n",
    "NorthWestNavigation=[]\n",
    "\n",
    "NortheastSensemaking=[]\n",
    "NortheastForaging=[]\n",
    "NortheastNavigation=[]\n",
    "\n",
    "OtherSensemaking=[]\n",
    "OtherForaging=[]\n",
    "OtherNavigation=[]\n",
    "\n",
    "NoneSensemaking=[]\n",
    "NoneForaging=[]\n",
    "NoneNavigation=[]\n",
    "\n",
    "output_dataframe=pd.DataFrame(columns=['User','ROI_Cycle'\n",
    "'NorthernRockiesPlainsSensemaking',\n",
    "'NorthernRockiesPlainsForaging',\n",
    "'NorthernRockiesPlainsNavigation',\n",
    "\n",
    "'SouthWestSensemaking',\n",
    "'SouthWestForaging',\n",
    "'SouthWestNavigation',\n",
    "\n",
    "'NortheastSensemaking',\n",
    "'NortheastForaging',\n",
    "'NortheastNavigation',\n",
    "\n",
    "\n",
    "'NorthWestSensemaking',\n",
    "'NorthWestForaging',\n",
    "'NorthWestNavigation',\n",
    "\n",
    "\n",
    "'OtherSensemaking',\n",
    "'OtherForaging',\n",
    "'OtherNavigation',\n",
    "\n",
    "\n",
    "'NoneSensemaking',\n",
    "'NoneForaging',\n",
    "'NoneNavigation'])\n",
    "\n",
    "\n",
    "result_dataframe= pd.DataFrame(columns=['User','ROI_Cycle','NorthernRockiesPlains','SouthWest','NorthWest','Northeast','Other','None'])\n",
    "\n",
    "for u in fileNames2D:\n",
    "  print(\"###########################\",u)\n",
    "  index=[]\n",
    "\n",
    "  all_dfs=[]\n",
    "  maps=[]\n",
    "  df = pd.read_csv(u)\n",
    "  u=u.lstrip('data/NDSI-2D\\\\taskname_ndsi-2d-task_')\n",
    "  #u=u.lstrip('data/NDSI-3D\\\\taskname_ndsi-3d-task_')\n",
    "  u=u.rstrip('.csv')\n",
    "\n",
    "  #df['ROI_Cycle']=get_ROISubset(df)\n",
    "  df['ROI_Cycle']=get_ROISubset(df)\n",
    "\n",
    "  # print(df.ROI_Cycle.unique())\n",
    "  for k in  df['ROI_Cycle'].unique():\n",
    "    dfs,mappings=get_probabilities_region((df.loc[df['ROI_Cycle'] == k]).reset_index(drop=True))\n",
    "    mapper=dict()\n",
    "    mapper['User']=u\n",
    "    mapper['ROI_Cycle']=k\n",
    "    print(\"ROI_Cycle: #######################\", k)\n",
    "    for j in ['NorthernRockiesPlains','SouthWest','NorthWest','Northeast','Other','None']:\n",
    "        #print(\"Region: \",j ,\"Action Preferred: \" ,max(mappings[j], key=mappings[j].get))\n",
    "        maximum=max(mappings[j], key=mappings[j].get)\n",
    "        if mappings[j][maximum] > 1 :\n",
    "            action_preferred=maximum\n",
    "        else:\n",
    "            action_preferred='NA'\n",
    "        mapper[j]=action_preferred\n",
    "    some_df=pd.DataFrame([mapper])\n",
    "    result_dataframe = result_dataframe.append(some_df, ignore_index=True)\n",
    "    all_dfs.append(dfs)\n",
    "    maps.append(mappings)\n",
    "    ROI_subtask.append(k)\n",
    "    user.append(u)"
   ],
   "metadata": {
    "collapsed": false,
    "pycharm": {
     "name": "#%%\n"
    }
   }
  },
  {
   "cell_type": "code",
   "execution_count": 48,
   "outputs": [],
   "source": [
    "\n",
    "result_dataframe.to_csv(\"data/NDSI-2D\\\\region_new-actions_context.csv\", index=False)\n",
    "#output_dataframe.to_csv(\"data/NDSI-3D\\\\probability_distribution_roi_cycle_3d.csv\", index=False)"
   ],
   "metadata": {
    "collapsed": false,
    "pycharm": {
     "name": "#%%\n"
    }
   }
  },
  {
   "cell_type": "code",
   "execution_count": 49,
   "outputs": [
    {
     "data": {
      "text/plain": "                                           User ROI_Cycle  \\\n0   userid_3abeecbe-327a-441e-be2a-0dd3763c1d45         1   \n1   userid_44968286-f204-4ad6-a9b5-d95b38e97866         1   \n2   userid_44968286-f204-4ad6-a9b5-d95b38e97866         2   \n3   userid_44968286-f204-4ad6-a9b5-d95b38e97866         3   \n4   userid_44968286-f204-4ad6-a9b5-d95b38e97866         4   \n5   userid_44968286-f204-4ad6-a9b5-d95b38e97866         5   \n6   userid_44968286-f204-4ad6-a9b5-d95b38e97866         6   \n7   userid_44968286-f204-4ad6-a9b5-d95b38e97866         7   \n8   userid_6d49fab8-273b-4a91-948b-ecd14556b049         1   \n9   userid_6d49fab8-273b-4a91-948b-ecd14556b049         2   \n10  userid_6d49fab8-273b-4a91-948b-ecd14556b049         3   \n11  userid_6d49fab8-273b-4a91-948b-ecd14556b049         4   \n12  userid_6d49fab8-273b-4a91-948b-ecd14556b049         5   \n13  userid_72a8d170-77ae-400e-b2a5-de9e1d33a714         1   \n14  userid_72a8d170-77ae-400e-b2a5-de9e1d33a714         2   \n15  userid_72a8d170-77ae-400e-b2a5-de9e1d33a714         3   \n16  userid_72a8d170-77ae-400e-b2a5-de9e1d33a714         4   \n17  userid_72a8d170-77ae-400e-b2a5-de9e1d33a714         5   \n18  userid_72a8d170-77ae-400e-b2a5-de9e1d33a714         6   \n19  userid_733a1ac5-0b01-485e-9b29-ac33932aa240         1   \n\n   NorthernRockiesPlains   SouthWest    NorthWest   Northeast        Other  \\\n0            Sensemaking          NA           NA          NA   Navigation   \n1                     NA          NA  Sensemaking          NA     Foraging   \n2                     NA          NA   Navigation          NA           NA   \n3             Navigation          NA   Navigation          NA     Foraging   \n4             Navigation          NA           NA  Navigation     Foraging   \n5             Navigation  Navigation           NA  Navigation   Navigation   \n6               Foraging          NA           NA          NA  Sensemaking   \n7             Navigation          NA           NA          NA   Navigation   \n8                     NA          NA  Sensemaking          NA     Foraging   \n9             Navigation          NA   Navigation  Navigation     Foraging   \n10            Navigation          NA           NA  Navigation     Foraging   \n11            Navigation  Navigation           NA  Navigation     Foraging   \n12                    NA  Navigation           NA          NA   Navigation   \n13           Sensemaking          NA           NA          NA     Foraging   \n14            Navigation          NA  Sensemaking          NA   Navigation   \n15                    NA          NA   Navigation          NA     Foraging   \n16            Navigation          NA   Navigation          NA     Foraging   \n17            Navigation          NA           NA          NA     Foraging   \n18            Navigation          NA           NA    Foraging     Foraging   \n19                    NA          NA           NA          NA  Sensemaking   \n\n           None  \n0      Foraging  \n1      Foraging  \n2   Sensemaking  \n3      Foraging  \n4            NA  \n5    Navigation  \n6      Foraging  \n7            NA  \n8      Foraging  \n9    Navigation  \n10     Foraging  \n11  Sensemaking  \n12     Foraging  \n13     Foraging  \n14   Navigation  \n15   Navigation  \n16   Navigation  \n17     Foraging  \n18     Foraging  \n19   Navigation  ",
      "text/html": "<div>\n<style scoped>\n    .dataframe tbody tr th:only-of-type {\n        vertical-align: middle;\n    }\n\n    .dataframe tbody tr th {\n        vertical-align: top;\n    }\n\n    .dataframe thead th {\n        text-align: right;\n    }\n</style>\n<table border=\"1\" class=\"dataframe\">\n  <thead>\n    <tr style=\"text-align: right;\">\n      <th></th>\n      <th>User</th>\n      <th>ROI_Cycle</th>\n      <th>NorthernRockiesPlains</th>\n      <th>SouthWest</th>\n      <th>NorthWest</th>\n      <th>Northeast</th>\n      <th>Other</th>\n      <th>None</th>\n    </tr>\n  </thead>\n  <tbody>\n    <tr>\n      <th>0</th>\n      <td>userid_3abeecbe-327a-441e-be2a-0dd3763c1d45</td>\n      <td>1</td>\n      <td>Sensemaking</td>\n      <td>NA</td>\n      <td>NA</td>\n      <td>NA</td>\n      <td>Navigation</td>\n      <td>Foraging</td>\n    </tr>\n    <tr>\n      <th>1</th>\n      <td>userid_44968286-f204-4ad6-a9b5-d95b38e97866</td>\n      <td>1</td>\n      <td>NA</td>\n      <td>NA</td>\n      <td>Sensemaking</td>\n      <td>NA</td>\n      <td>Foraging</td>\n      <td>Foraging</td>\n    </tr>\n    <tr>\n      <th>2</th>\n      <td>userid_44968286-f204-4ad6-a9b5-d95b38e97866</td>\n      <td>2</td>\n      <td>NA</td>\n      <td>NA</td>\n      <td>Navigation</td>\n      <td>NA</td>\n      <td>NA</td>\n      <td>Sensemaking</td>\n    </tr>\n    <tr>\n      <th>3</th>\n      <td>userid_44968286-f204-4ad6-a9b5-d95b38e97866</td>\n      <td>3</td>\n      <td>Navigation</td>\n      <td>NA</td>\n      <td>Navigation</td>\n      <td>NA</td>\n      <td>Foraging</td>\n      <td>Foraging</td>\n    </tr>\n    <tr>\n      <th>4</th>\n      <td>userid_44968286-f204-4ad6-a9b5-d95b38e97866</td>\n      <td>4</td>\n      <td>Navigation</td>\n      <td>NA</td>\n      <td>NA</td>\n      <td>Navigation</td>\n      <td>Foraging</td>\n      <td>NA</td>\n    </tr>\n    <tr>\n      <th>5</th>\n      <td>userid_44968286-f204-4ad6-a9b5-d95b38e97866</td>\n      <td>5</td>\n      <td>Navigation</td>\n      <td>Navigation</td>\n      <td>NA</td>\n      <td>Navigation</td>\n      <td>Navigation</td>\n      <td>Navigation</td>\n    </tr>\n    <tr>\n      <th>6</th>\n      <td>userid_44968286-f204-4ad6-a9b5-d95b38e97866</td>\n      <td>6</td>\n      <td>Foraging</td>\n      <td>NA</td>\n      <td>NA</td>\n      <td>NA</td>\n      <td>Sensemaking</td>\n      <td>Foraging</td>\n    </tr>\n    <tr>\n      <th>7</th>\n      <td>userid_44968286-f204-4ad6-a9b5-d95b38e97866</td>\n      <td>7</td>\n      <td>Navigation</td>\n      <td>NA</td>\n      <td>NA</td>\n      <td>NA</td>\n      <td>Navigation</td>\n      <td>NA</td>\n    </tr>\n    <tr>\n      <th>8</th>\n      <td>userid_6d49fab8-273b-4a91-948b-ecd14556b049</td>\n      <td>1</td>\n      <td>NA</td>\n      <td>NA</td>\n      <td>Sensemaking</td>\n      <td>NA</td>\n      <td>Foraging</td>\n      <td>Foraging</td>\n    </tr>\n    <tr>\n      <th>9</th>\n      <td>userid_6d49fab8-273b-4a91-948b-ecd14556b049</td>\n      <td>2</td>\n      <td>Navigation</td>\n      <td>NA</td>\n      <td>Navigation</td>\n      <td>Navigation</td>\n      <td>Foraging</td>\n      <td>Navigation</td>\n    </tr>\n    <tr>\n      <th>10</th>\n      <td>userid_6d49fab8-273b-4a91-948b-ecd14556b049</td>\n      <td>3</td>\n      <td>Navigation</td>\n      <td>NA</td>\n      <td>NA</td>\n      <td>Navigation</td>\n      <td>Foraging</td>\n      <td>Foraging</td>\n    </tr>\n    <tr>\n      <th>11</th>\n      <td>userid_6d49fab8-273b-4a91-948b-ecd14556b049</td>\n      <td>4</td>\n      <td>Navigation</td>\n      <td>Navigation</td>\n      <td>NA</td>\n      <td>Navigation</td>\n      <td>Foraging</td>\n      <td>Sensemaking</td>\n    </tr>\n    <tr>\n      <th>12</th>\n      <td>userid_6d49fab8-273b-4a91-948b-ecd14556b049</td>\n      <td>5</td>\n      <td>NA</td>\n      <td>Navigation</td>\n      <td>NA</td>\n      <td>NA</td>\n      <td>Navigation</td>\n      <td>Foraging</td>\n    </tr>\n    <tr>\n      <th>13</th>\n      <td>userid_72a8d170-77ae-400e-b2a5-de9e1d33a714</td>\n      <td>1</td>\n      <td>Sensemaking</td>\n      <td>NA</td>\n      <td>NA</td>\n      <td>NA</td>\n      <td>Foraging</td>\n      <td>Foraging</td>\n    </tr>\n    <tr>\n      <th>14</th>\n      <td>userid_72a8d170-77ae-400e-b2a5-de9e1d33a714</td>\n      <td>2</td>\n      <td>Navigation</td>\n      <td>NA</td>\n      <td>Sensemaking</td>\n      <td>NA</td>\n      <td>Navigation</td>\n      <td>Navigation</td>\n    </tr>\n    <tr>\n      <th>15</th>\n      <td>userid_72a8d170-77ae-400e-b2a5-de9e1d33a714</td>\n      <td>3</td>\n      <td>NA</td>\n      <td>NA</td>\n      <td>Navigation</td>\n      <td>NA</td>\n      <td>Foraging</td>\n      <td>Navigation</td>\n    </tr>\n    <tr>\n      <th>16</th>\n      <td>userid_72a8d170-77ae-400e-b2a5-de9e1d33a714</td>\n      <td>4</td>\n      <td>Navigation</td>\n      <td>NA</td>\n      <td>Navigation</td>\n      <td>NA</td>\n      <td>Foraging</td>\n      <td>Navigation</td>\n    </tr>\n    <tr>\n      <th>17</th>\n      <td>userid_72a8d170-77ae-400e-b2a5-de9e1d33a714</td>\n      <td>5</td>\n      <td>Navigation</td>\n      <td>NA</td>\n      <td>NA</td>\n      <td>NA</td>\n      <td>Foraging</td>\n      <td>Foraging</td>\n    </tr>\n    <tr>\n      <th>18</th>\n      <td>userid_72a8d170-77ae-400e-b2a5-de9e1d33a714</td>\n      <td>6</td>\n      <td>Navigation</td>\n      <td>NA</td>\n      <td>NA</td>\n      <td>Foraging</td>\n      <td>Foraging</td>\n      <td>Foraging</td>\n    </tr>\n    <tr>\n      <th>19</th>\n      <td>userid_733a1ac5-0b01-485e-9b29-ac33932aa240</td>\n      <td>1</td>\n      <td>NA</td>\n      <td>NA</td>\n      <td>NA</td>\n      <td>NA</td>\n      <td>Sensemaking</td>\n      <td>Navigation</td>\n    </tr>\n  </tbody>\n</table>\n</div>"
     },
     "execution_count": 49,
     "metadata": {},
     "output_type": "execute_result"
    }
   ],
   "source": [
    "result_dataframe.head(20)"
   ],
   "metadata": {
    "collapsed": false,
    "pycharm": {
     "name": "#%%\n"
    }
   }
  },
  {
   "cell_type": "code",
   "execution_count": null,
   "outputs": [],
   "source": [],
   "metadata": {
    "collapsed": false,
    "pycharm": {
     "name": "#%%\n"
    }
   }
  }
 ],
 "metadata": {
  "kernelspec": {
   "display_name": "Python 3",
   "language": "python",
   "name": "python3"
  },
  "language_info": {
   "codemirror_mode": {
    "name": "ipython",
    "version": 2
   },
   "file_extension": ".py",
   "mimetype": "text/x-python",
   "name": "python",
   "nbconvert_exporter": "python",
   "pygments_lexer": "ipython2",
   "version": "2.7.6"
  }
 },
 "nbformat": 4,
 "nbformat_minor": 0
}