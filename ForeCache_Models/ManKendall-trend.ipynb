{
 "cells": [
  {
   "cell_type": "code",
   "execution_count": 1,
   "metadata": {
    "collapsed": true
   },
   "outputs": [
    {
     "name": "stderr",
     "output_type": "stream",
     "text": [
      "WARNING: You are using pip version 21.2.3; however, version 22.1.2 is available.\n",
      "You should consider upgrading via the 'C:\\Users\\Nischal Aryal\\AppData\\Local\\Programs\\Python\\Python39\\python.exe -m pip install --upgrade pip' command.\n"
     ]
    },
    {
     "name": "stdout",
     "output_type": "stream",
     "text": [
      "Requirement already satisfied: pymannkendall in c:\\users\\nischal aryal\\appdata\\local\\programs\\python\\python39\\lib\\site-packages (1.4.2)\n",
      "Requirement already satisfied: numpy in c:\\users\\nischal aryal\\appdata\\local\\programs\\python\\python39\\lib\\site-packages (from pymannkendall) (1.22.3)\n",
      "Requirement already satisfied: scipy in c:\\users\\nischal aryal\\appdata\\local\\programs\\python\\python39\\lib\\site-packages (from pymannkendall) (1.8.0)\n"
     ]
    }
   ],
   "source": [
    "!pip install pymannkendall\n",
    "import pandas as pd\n",
    "import numpy as np\n",
    "import os\n",
    "from tqdm import tqdm\n",
    "from statsmodels.tsa.stattools import adfuller\n",
    "import pymannkendall as mk"
   ]
  },
  {
   "cell_type": "code",
   "execution_count": 2,
   "outputs": [],
   "source": [
    "class StationarityTests:\n",
    "    def __init__(self, significance=.05):\n",
    "        self.SignificanceLevel = significance\n",
    "        self.pValue = None\n",
    "        self.isStationary = None\n",
    "        self.trend= None\n",
    "\n",
    "    def ADF_Stationarity_Test(self, timeseries, printResults = True):\n",
    "      #Dickey-Fuller test:\n",
    "      adfTest = adfuller(timeseries, autolag='AIC')\n",
    "\n",
    "      self.pValue = adfTest[1]\n",
    "\n",
    "      if (self.pValue<self.SignificanceLevel):\n",
    "          self.isStationary = True\n",
    "      else:\n",
    "          self.isStationary = False\n",
    "\n",
    "      if printResults:\n",
    "          dfResults = pd.Series(adfTest[0:4], index=['ADF Test Statistic','P-Value','# Lags Used','# Observations Used'])\n",
    "          #Add Critical Values\n",
    "          for key,value in adfTest[4].items():\n",
    "              dfResults['Critical Value (%s)'%key] = value\n",
    "          print('Augmented Dickey-Fuller Test Results:')\n",
    "          print(dfResults)\n",
    "\n",
    "    def Mann_Kendall_Stationarity_Test(self, timeseries, printResults = True):\n",
    "      #Mann Kendall Trend Test:\n",
    "      mktTest = mk.original_test(timeseries)\n",
    "\n",
    "      self.pValue = mktTest[2]\n",
    "      self.trend= mktTest[0]\n",
    "      self.isStationary = mktTest[1]\n",
    "\n",
    "      if printResults:\n",
    "          dfResults = pd.Series(mktTest[0:3], index=['Trend Type','Stationarity','P-Value'])\n",
    "          #Add Critical Values\n",
    "          for key,value in mktTest[3].items():\n",
    "              dfResults['Critical Value (%s)'%key] = value\n",
    "          print('Mann Kendall Trend Test:')\n",
    "          print(dfResults)"
   ],
   "metadata": {
    "collapsed": false,
    "pycharm": {
     "name": "#%%\n"
    }
   }
  },
  {
   "cell_type": "code",
   "execution_count": 4,
   "outputs": [],
   "source": [
    "fileNames2D=['data/NDSI-2D\\\\taskname_ndsi-2d-task_userid_3abeecbe-327a-441e-be2a-0dd3763c1d45.csv',\n",
    " 'data/NDSI-2D\\\\taskname_ndsi-2d-task_userid_44968286-f204-4ad6-a9b5-d95b38e97866.csv',\n",
    " 'data/NDSI-2D\\\\taskname_ndsi-2d-task_userid_6d49fab8-273b-4a91-948b-ecd14556b049.csv',\n",
    " 'data/NDSI-2D\\\\taskname_ndsi-2d-task_userid_72a8d170-77ae-400e-b2a5-de9e1d33a714.csv',\n",
    " 'data/NDSI-2D\\\\taskname_ndsi-2d-task_userid_733a1ac5-0b01-485e-9b29-ac33932aa240.csv']\n",
    "user=[]\n",
    "for u in fileNames2D:\n",
    "    u=u.lstrip('data/NDSI-2D\\\\taskname_ndsi-2d-task_')\n",
    "    u=u.rstrip('.csv')\n",
    "    user.append(u)"
   ],
   "metadata": {
    "collapsed": false,
    "pycharm": {
     "name": "#%%\n"
    }
   }
  },
  {
   "cell_type": "code",
   "execution_count": 6,
   "outputs": [
    {
     "data": {
      "text/plain": "'data/NDSI-2D\\\\taskname_ndsi-2d-task_userid_3abeecbe-327a-441e-be2a-0dd3763c1d45.csv'"
     },
     "execution_count": 6,
     "metadata": {},
     "output_type": "execute_result"
    }
   ],
   "source": [
    "fileNames2D[0]"
   ],
   "metadata": {
    "collapsed": false,
    "pycharm": {
     "name": "#%%\n"
    }
   }
  },
  {
   "cell_type": "code",
   "execution_count": 27,
   "outputs": [
    {
     "name": "stdout",
     "output_type": "stream",
     "text": [
      "userid_3abeecbe-327a-441e-be2a-0dd3763c1d45\n",
      "Not enough data\n",
      "userid_44968286-f204-4ad6-a9b5-d95b38e97866\n",
      "no trend\n",
      "userid_6d49fab8-273b-4a91-948b-ecd14556b049\n",
      "no trend\n",
      "userid_72a8d170-77ae-400e-b2a5-de9e1d33a714\n",
      "no trend\n",
      "userid_733a1ac5-0b01-485e-9b29-ac33932aa240\n",
      "no trend\n"
     ]
    }
   ],
   "source": [
    "df=pd.read_csv('data/NDSI-2D\\\\probability_distribution_roi_cycle.csv')\n",
    "for i in range(len(user)):\n",
    "    print(user[i])\n",
    "    series=(df.loc[df['User'] == user[i]])['Sensemakingsame']\n",
    "    if len(series)>2:\n",
    "        sTest_state = StationarityTests()\n",
    "        sTest_state.Mann_Kendall_Stationarity_Test(series, printResults = False)\n",
    "        print(sTest_state.trend)\n",
    "    else:\n",
    "        print(\"Not enough data\")\n"
   ],
   "metadata": {
    "collapsed": false,
    "pycharm": {
     "name": "#%%\n"
    }
   }
  },
  {
   "cell_type": "code",
   "execution_count": null,
   "outputs": [],
   "source": [],
   "metadata": {
    "collapsed": false,
    "pycharm": {
     "name": "#%%\n"
    }
   }
  }
 ],
 "metadata": {
  "kernelspec": {
   "display_name": "Python 3",
   "language": "python",
   "name": "python3"
  },
  "language_info": {
   "codemirror_mode": {
    "name": "ipython",
    "version": 2
   },
   "file_extension": ".py",
   "mimetype": "text/x-python",
   "name": "python",
   "nbconvert_exporter": "python",
   "pygments_lexer": "ipython2",
   "version": "2.7.6"
  }
 },
 "nbformat": 4,
 "nbformat_minor": 0
}