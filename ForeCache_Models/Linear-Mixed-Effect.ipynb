{
 "cells": [
  {
   "cell_type": "code",
   "execution_count": 344,
   "metadata": {
    "collapsed": true,
    "ExecuteTime": {
     "end_time": "2024-03-10T23:18:09.046935Z",
     "start_time": "2024-03-10T23:18:09.040593Z"
    }
   },
   "outputs": [],
   "source": [
    "import numpy as np\n",
    "import glob\n",
    "import pandas as pd\n",
    "import scipy.stats\n",
    "\n",
    "pd.options.mode.chained_assignment = None  # default='warn'\n",
    "import scipy.stats as stats\n",
    "from scipy.stats import wilcoxon\n",
    "import ast"
   ]
  },
  {
   "cell_type": "code",
   "execution_count": 345,
   "outputs": [],
   "source": [
    "import re\n",
    "\n",
    "def extract_number_after_pro_or_stu(filename):\n",
    "    \"\"\"\n",
    "    Extracts the number following 'pro' or 'stu' from the given filename using regular expressions.\n",
    "\n",
    "    Parameters:\n",
    "    - filename (str): The filename from which to extract the number.\n",
    "\n",
    "    Returns:\n",
    "    - str or None: The number following 'pro' or 'stu' if found, otherwise None.\n",
    "    \"\"\"\n",
    "    match = re.search(r'(?:pro|stu)(\\d+)', filename)\n",
    "    if match:\n",
    "        return match.group(1)\n",
    "    else:\n",
    "        return None\n"
   ],
   "metadata": {
    "collapsed": false,
    "ExecuteTime": {
     "end_time": "2024-03-10T23:18:09.357697Z",
     "start_time": "2024-03-10T23:18:09.260628Z"
    }
   }
  },
  {
   "cell_type": "code",
   "execution_count": 346,
   "outputs": [],
   "source": [
    "from collections import defaultdict\n",
    "def get_probabilities_action(dataframe, current_phase):\n",
    "    actions = ['same', 'modify-1', 'modify-2', 'modify-3']\n",
    "\n",
    "    # Count occurrences of each action\n",
    "    action_counts = dataframe['Action'].value_counts()\n",
    "\n",
    "    # Initialize probabilities dictionary with all actions having probability 0\n",
    "    probabilities = defaultdict(lambda: 0)\n",
    "\n",
    "    # Update probabilities based on counts\n",
    "    total_actions = len(dataframe)\n",
    "    for action in actions:\n",
    "        if action in action_counts and action_counts[action] > 0:\n",
    "            # Calculate probability for the current action\n",
    "            probabilities[action] = action_counts[action] / total_actions\n",
    "        else:\n",
    "            # Set probability to 0 if the action does not exist\n",
    "            probabilities[action] = None\n",
    "\n",
    "    return probabilities[current_phase]\n",
    "\n"
   ],
   "metadata": {
    "collapsed": false,
    "ExecuteTime": {
     "end_time": "2024-03-10T23:18:09.615659Z",
     "start_time": "2024-03-10T23:18:09.475893Z"
    }
   }
  },
  {
   "cell_type": "code",
   "execution_count": 347,
   "outputs": [],
   "source": [
    "def get_action_counts(dataframe, current_phase):\n",
    "    actions = ['same', 'modify-1', 'modify-2', 'modify-3']\n",
    "\n",
    "    # Initialize counts array with zeros for all actions\n",
    "    action_counts = {action: 0 for action in actions}\n",
    "\n",
    "    # Count occurrences of each action\n",
    "    for action in actions:\n",
    "        count = dataframe[dataframe['Action'] == action].shape[0]\n",
    "        if count is not None:  # Update count if action exists\n",
    "            action_counts[action] = count\n",
    "\n",
    "    # Convert dictionary to list, ensuring length is exactly 4\n",
    "    action_counts_list = [action_counts[action] for action in actions]\n",
    "\n",
    "    return action_counts_list[actions.index(current_phase)]\n"
   ],
   "metadata": {
    "collapsed": false,
    "ExecuteTime": {
     "end_time": "2024-03-10T23:18:09.834415Z",
     "start_time": "2024-03-10T23:18:09.697886Z"
    }
   }
  },
  {
   "cell_type": "code",
   "execution_count": 348,
   "outputs": [],
   "source": [
    "def get_action_rate(dataframe, current_phase):\n",
    "    if len(dataframe) < 2:\n",
    "        return 0, 0\n",
    "    actions = ['same', 'modify-1', 'modify-2', 'modify-3']\n",
    "\n",
    "    # Initialize counts array with zeros for all actions\n",
    "    action_counts = {action: 0 for action in actions}\n",
    "\n",
    "    # Count occurrences of each action\n",
    "    for action in actions:\n",
    "        count = dataframe[dataframe['Action'] == action].shape[0]\n",
    "        if count is not None:  # Update count if action exists\n",
    "            action_counts[action] = count\n",
    "\n",
    "    # Convert dictionary to list, ensuring length is exactly 4\n",
    "    action_counts_list = [action_counts[action] for action in actions]\n",
    "\n",
    "    # Calculate total time in minutes\n",
    "    total_time_minutes = (dataframe['Time'].max() - dataframe['Time'].min()) / (1000*60.0)\n",
    "\n",
    "\n",
    "\n",
    "    # Calculate action rate per minute for the current phase\n",
    "    action_rate_per_minute = action_counts_list[actions.index(current_phase)] / total_time_minutes\n",
    "\n",
    "    return action_rate_per_minute, total_time_minutes\n"
   ],
   "metadata": {
    "collapsed": false,
    "ExecuteTime": {
     "end_time": "2024-03-10T23:18:10.129188Z",
     "start_time": "2024-03-10T23:18:10.058871Z"
    }
   }
  },
  {
   "cell_type": "code",
   "execution_count": 349,
   "outputs": [],
   "source": [
    "def get_attributes_counts(dataframe, current_phase):\n",
    "    actions = ['Title', 'US_Gross', 'Worldwide_Gross', 'US_DVD_Sales', 'Production_Budget', 'Release_Date',\n",
    "           'MPAA_Rating', 'Running_Time_min', 'Distributor', 'Source', 'Major_Genre', 'Creative_Type',\n",
    "           'Director', 'Rotten_Tomatoes_Rating', 'IMDB_Rating', 'IMDB_Votes', 'None']\n",
    "\n",
    "    # Initialize counts dictionary with zeros for all attributes\n",
    "    attribute_counts = {attr: 0 for attr in actions}\n",
    "\n",
    "    # Count occurrences of each attribute\n",
    "    for attr in actions:\n",
    "        count = 0  # Initialize count for the current attribute\n",
    "        for index, row in dataframe.iterrows():  # Iterate over rows in the DataFrame\n",
    "            # Check if the current attribute exists in the row and increment count if it does\n",
    "            if attr in ast.literal_eval(row['Attribute']):\n",
    "                count += 1\n",
    "        attribute_counts[attr] = count  # Update count for the current attribute\n",
    "\n",
    "    # Convert dictionary to list, ensuring length matches the number of attributes\n",
    "    attribute_counts_list = [attribute_counts[attr] for attr in actions]\n",
    "\n",
    "    return attribute_counts_list\n"
   ],
   "metadata": {
    "collapsed": false,
    "ExecuteTime": {
     "end_time": "2024-03-10T23:18:10.654491Z",
     "start_time": "2024-03-10T23:18:10.628197Z"
    }
   }
  },
  {
   "cell_type": "code",
   "execution_count": 350,
   "outputs": [],
   "source": [
    "def get_attributes_unique(dataframe):\n",
    "    \"\"\"\n",
    "    Count the number of unique attributes interacted with in a given phase of the dataframe.\n",
    "\n",
    "    Args:\n",
    "        dataframe (pd.DataFrame): DataFrame containing interaction data.\n",
    "\n",
    "    Returns:\n",
    "        int: Number of unique attributes interacted with.\n",
    "    \"\"\"\n",
    "    # Initialize a set to store unique attributes\n",
    "    unique_attributes = set()\n",
    "\n",
    "    # Iterate over rows in the DataFrame\n",
    "    for index, row in dataframe.iterrows():\n",
    "        # Extract attributes from the 'Attribute' column and update the set\n",
    "        attributes = ast.literal_eval(row['Attribute'])  # Safely evaluate the attribute list\n",
    "        unique_attributes.update(attributes)\n",
    "\n",
    "    # Return the count of unique attributes\n",
    "    return len(unique_attributes)"
   ],
   "metadata": {
    "collapsed": false,
    "ExecuteTime": {
     "end_time": "2024-03-10T23:18:11.130194Z",
     "start_time": "2024-03-10T23:18:11.108973Z"
    }
   }
  },
  {
   "cell_type": "code",
   "execution_count": 351,
   "outputs": [],
   "source": [
    "import ast\n",
    "\n",
    "def get_probabilities(dataframe, current_phase):\n",
    "    map = ['Title', 'US_Gross', 'Worldwide_Gross', 'US_DVD_Sales', 'Production_Budget', 'Release_Date',\n",
    "           'MPAA_Rating', 'Running_Time_min', 'Distributor', 'Source', 'Major_Genre', 'Creative_Type',\n",
    "           'Director', 'Rotten_Tomatoes_Rating', 'IMDB_Rating', 'IMDB_Votes', 'None']\n",
    "\n",
    "    # Initialize dictionary to store counts\n",
    "    dict_map = dict.fromkeys(map, 0)\n",
    "\n",
    "    # Count occurrences of each field\n",
    "    total_count = 0\n",
    "    for index, row in dataframe.iterrows():\n",
    "        for field in ast.literal_eval(row['Attribute']):\n",
    "            dict_map[field] += 1\n",
    "            total_count += 1\n",
    "\n",
    "    return dict_map[current_phase]\n",
    "\n"
   ],
   "metadata": {
    "collapsed": false,
    "ExecuteTime": {
     "end_time": "2024-03-10T23:18:11.807226Z",
     "start_time": "2024-03-10T23:18:11.752414Z"
    }
   }
  },
  {
   "cell_type": "code",
   "execution_count": 352,
   "outputs": [],
   "source": [
    "def normalize_arrays(arr1, arr2):\n",
    "     # Convert input arrays to numpy arrays\n",
    "    arr1 = np.array(arr1)\n",
    "    arr2 = np.array(arr2)\n",
    "    # Calculate the sum of each array\n",
    "    sum1 = np.sum(arr1)\n",
    "    sum2 = np.sum(arr2)\n",
    "\n",
    "    # Compute scaling factors\n",
    "    scale_factor1 = sum2 / sum1\n",
    "    scale_factor2 = sum1 / sum2\n",
    "\n",
    "    # Multiply each element by the corresponding scaling factor\n",
    "    normalized_arr1 = arr1 * scale_factor1\n",
    "    normalized_arr2 = arr2 * scale_factor2\n",
    "\n",
    "    return normalized_arr1, normalized_arr2"
   ],
   "metadata": {
    "collapsed": false,
    "ExecuteTime": {
     "end_time": "2024-03-10T23:18:12.262925Z",
     "start_time": "2024-03-10T23:18:12.241070Z"
    }
   }
  },
  {
   "cell_type": "code",
   "execution_count": 354,
   "outputs": [],
   "source": [
    "def split_dataframe(df, splits=4):\n",
    "    # Sort the DataFrame by the \"Time\" column\n",
    "    df = df.sort_values(by=\"Time\")\n",
    "\n",
    "    # Get the minimum and maximum UNIX timestamps\n",
    "    min_time = df['Time'].min()\n",
    "    max_time = df['Time'].max()\n",
    "\n",
    "    # Calculate the time interval size\n",
    "    interval_size = (max_time - min_time) / splits\n",
    "\n",
    "    slices = []\n",
    "    start_time = min_time\n",
    "    for i in range(splits):\n",
    "        # Determine the end time of the current interval\n",
    "        end_time = start_time + interval_size\n",
    "\n",
    "        # Filter the DataFrame based on the time range\n",
    "        slice_df = df[(df['Time'] >= start_time) & (df['Time'] < end_time)].reset_index(drop=True)\n",
    "\n",
    "        slices.append(slice_df)\n",
    "\n",
    "        # Update the start time for the next interval\n",
    "        start_time = end_time\n",
    "\n",
    "    return slices"
   ],
   "metadata": {
    "collapsed": false,
    "ExecuteTime": {
     "end_time": "2024-03-10T23:18:40.743295Z",
     "start_time": "2024-03-10T23:18:40.724871Z"
    }
   }
  },
  {
   "cell_type": "code",
   "execution_count": 355,
   "outputs": [],
   "source": [
    "def get_user_name(url):\n",
    "    parts = url.split('/')\n",
    "    fname = parts[-1]\n",
    "    uname = fname.split('_')[0]  # Extracting the part after the first underscore\n",
    "    return uname\n"
   ],
   "metadata": {
    "collapsed": false,
    "ExecuteTime": {
     "end_time": "2024-03-10T23:18:41.464977Z",
     "start_time": "2024-03-10T23:18:41.456606Z"
    }
   }
  },
  {
   "cell_type": "code",
   "execution_count": 356,
   "outputs": [],
   "source": [
    "def get_experiment_condition(url):\n",
    "    parts = url.split('/')\n",
    "    fname = parts[-1]\n",
    "    condition = fname.split('_')[1]  # Extracting the part after the first underscore\n",
    "    #extract the part before the first underscore\n",
    "    condition = condition.split('.')[0]\n",
    "    return condition"
   ],
   "metadata": {
    "collapsed": false,
    "ExecuteTime": {
     "end_time": "2024-03-10T23:18:42.046896Z",
     "start_time": "2024-03-10T23:18:42.027114Z"
    }
   }
  },
  {
   "cell_type": "code",
   "execution_count": 360,
   "outputs": [],
   "source": [
    "\n",
    "import warnings\n",
    "def create_linear_models_data(fileNames2D, task, dataset='movies'):\n",
    "    sketchy_user=[]\n",
    "    if 'p1' in task or 'p2' in task:\n",
    "        openendedness = 'focused'\n",
    "    else:\n",
    "        openendedness = 'open'\n",
    "\n",
    "    actions_all = ['same', 'modify-1', 'modify-2', 'modify-3']\n",
    "    # Suppress FutureWarning related to DataFrame concatenation\n",
    "    with warnings.catch_warnings():\n",
    "        warnings.simplefilter(\"ignore\")\n",
    "           # Initialize an empty list to store the dictionaries\n",
    "        data = []\n",
    "\n",
    "        for i, u in enumerate(fileNames2D):\n",
    "            state = get_user_name(u)\n",
    "\n",
    "            print(f\"\\nProcessing test for user: {state}\")\n",
    "            df = pd.read_csv(u)\n",
    "            # for index, row in df.iterrows():\n",
    "            #     file_data = {'u': state}\n",
    "            #     # get index of row['Value'] from action_all list\n",
    "            #     actions_all = ['same', 'modify-1', 'modify-2', 'modify-3']\n",
    "            #     file_data['probab'] = actions_all.index(row['Action'])\n",
    "            #     file_data['Trial'] = index\n",
    "            #     data.append(file_data)\n",
    "            slices = split_dataframe(df,2)\n",
    "            print (f\"Size of slices: {len(slices[0]), len(slices[1])}\")\n",
    "            # if len(slices[0]) < 1 or len(slices[1]) < 1:\n",
    "            #     print(f\"User {state} has less than 2 interactions for task {task}. \")\n",
    "            #     sketchy_user.append(state)\n",
    "            #\n",
    "            # # #make everyhting 0 for slice with no interaction\n",
    "            # # if len(slices[0]) < 1:\n",
    "            # #     slices[0] = pd.DataFrame(columns=['Action', 'Attribute', 'Time'])\n",
    "            # # if len(slices[1]) < 1:\n",
    "            # #     slices[1] = pd.DataFrame(columns=['Action', 'Attribute', 'Time'])\n",
    "            #\n",
    "            # else:\n",
    "\n",
    "            # List of all actions\n",
    "            actions_all = ['same', 'modify-1', 'modify-2', 'modify-3']\n",
    "            trial_index = 0\n",
    "            min=0\n",
    "            for j, slice_df in enumerate(slices):\n",
    "                # Create dictionary for each action and slice\n",
    "                file_data = {'u': state, 'Trial': j, 'Task': task, 'Dataset':dataset , 'Experiment': dataset+get_experiment_condition(u), 'Openendedness': openendedness}\n",
    "                for action in actions_all:\n",
    "                    # Collect all probabilities\n",
    "                    probab = get_probabilities_action(slice_df, action)\n",
    "                    # if probab == 0:\n",
    "                    #     print(f\"User {state} has 0 probability for action {action} in slice {j}. \")\n",
    "                    #     sketchy_user.append(state)\n",
    "                    #\n",
    "                    # else:\n",
    "                    #\n",
    "\n",
    "                    print(f\"User {state} has {probab} probability for action {action} in slice {j}. \")\n",
    "                    # Remove hyphen from action name\n",
    "                    action_key = action.replace('-', '')\n",
    "                    # Add probabilities to the dictionary\n",
    "\n",
    "\n",
    "                    file_data[f\"probab{action_key}\"] = probab\n",
    "                data.append(file_data)\n",
    "\n",
    "\n",
    "\n",
    "    # Create DataFrame\n",
    "    df = pd.DataFrame(data)\n",
    "    filepath = \"./data/zheng/mixed-model-data/\"\n",
    "    print(f\"################ Before Remove nulls  {len(df)}\")\n",
    "    filename=f'zheng_{dataset}_{task}.csv'\n",
    "    df.to_csv(filepath+filename, index=False)\n",
    "    print(f\"################  After Remove nulls  {len(df)}\")\n",
    "    return sketchy_user\n",
    "\n"
   ],
   "metadata": {
    "collapsed": false,
    "ExecuteTime": {
     "end_time": "2024-03-10T23:19:15.736658Z",
     "start_time": "2024-03-10T23:19:15.725560Z"
    }
   }
  },
  {
   "cell_type": "code",
   "execution_count": 361,
   "outputs": [],
   "source": [
    "# This is for Logistic Regression\n",
    "def generate_combined_data(fileNames2D,task):\n",
    "    data = []\n",
    "\n",
    "    for i, u in enumerate(fileNames2D):\n",
    "        state = get_user_name(u)\n",
    "\n",
    "        print(f\"\\nProcessing test for user: {state}\")\n",
    "        df = pd.read_csv(u)\n",
    "        slices = split_dataframe(df,4)\n",
    "        print (f\"Size of slices: {len(slices[0]), len(slices[1])}\")\n",
    "        for j, slice_df in enumerate(slices):\n",
    "          for index, row in slice_df.iterrows():\n",
    "            print(row['Action'])\n",
    "            # Create dictionary for each action and slice\n",
    "            file_data = {'u': state, 'Trial': j, 'Action': row['Action'], 'Attribute': row['Attribute'], 'Time': row['Time'], 'Task': task,'User_index':index}\n",
    "            data.append(file_data)\n",
    "\n",
    "\n",
    "    # Create DataFrame\n",
    "    df = pd.DataFrame(data)\n",
    "    filename=f'zheng_logistic_{task}.csv'\n",
    "    print(f\"################ Data has been saved to {len(df)}\")\n",
    "    df.to_csv(filename, index=False)\n",
    "    print(f\"################ Null has has been saved to {len(df)}\")\n",
    "    return None\n"
   ],
   "metadata": {
    "collapsed": false,
    "ExecuteTime": {
     "end_time": "2024-03-10T23:19:16.364651Z",
     "start_time": "2024-03-10T23:19:16.347857Z"
    }
   }
  },
  {
   "cell_type": "code",
   "execution_count": 373,
   "outputs": [],
   "source": [
    "fileNamesP1 = np.sort(glob.glob(\"./data/zheng/processed_interactions_p1/*\"))\n",
    "fileNamesP2 = np.sort(glob.glob(\"./data/zheng/processed_interactions_p2/*\"))\n",
    "fileNamesP3 = np.sort(glob.glob(\"./data/zheng/processed_interactions_p3/*\"))\n",
    "fileNamesP4 = np.sort(glob.glob(\"./data/zheng/processed_interactions_p4/*\"))\n",
    "\n",
    "\n",
    "create_linear_models_data(fileNamesP1, 'p1', dataset='movies')\n",
    "create_linear_models_data(fileNamesP2, 'p2', dataset='movies')\n",
    "create_linear_models_data(fileNamesP3, 'p3', dataset='movies')\n",
    "create_linear_models_data(fileNamesP4, 'p4', dataset='movies')"
   ],
   "metadata": {
    "collapsed": false,
    "ExecuteTime": {
     "end_time": "2024-03-11T00:17:54.603017Z",
     "start_time": "2024-03-11T00:17:54.574758Z"
    }
   }
  },
  {
   "cell_type": "code",
   "execution_count": 374,
   "outputs": [
    {
     "name": "stdout",
     "output_type": "stream",
     "text": [
      "\n",
      "Processing test for user: pro13\n",
      "\n",
      "Processing test for user: pro15\n",
      "\n",
      "Processing test for user: pro17\n",
      "\n",
      "Processing test for user: pro18\n",
      "\n",
      "Processing test for user: pro20\n",
      "\n",
      "Processing test for user: pro21\n",
      "\n",
      "Processing test for user: pro22\n",
      "\n",
      "Processing test for user: pro23\n",
      "\n",
      "Processing test for user: pro24\n",
      "\n",
      "Processing test for user: pro25\n",
      "\n",
      "Processing test for user: pro29\n",
      "\n",
      "Processing test for user: pro31\n",
      "\n",
      "Processing test for user: pro3\n",
      "\n",
      "Processing test for user: pro5\n",
      "\n",
      "Processing test for user: pro8\n",
      "\n",
      "Processing test for user: pro9\n",
      "\n",
      "Processing test for user: stu10\n",
      "\n",
      "Processing test for user: stu11\n",
      "\n",
      "Processing test for user: stu13\n",
      "\n",
      "Processing test for user: stu15\n",
      "\n",
      "Processing test for user: stu17\n",
      "\n",
      "Processing test for user: stu21\n",
      "\n",
      "Processing test for user: stu24\n",
      "\n",
      "Processing test for user: stu25\n",
      "\n",
      "Processing test for user: stu26\n",
      "\n",
      "Processing test for user: stu29\n",
      "\n",
      "Processing test for user: stu30\n",
      "\n",
      "Processing test for user: stu31\n",
      "\n",
      "Processing test for user: stu36\n",
      "\n",
      "Processing test for user: stu37\n",
      "\n",
      "Processing test for user: stu38\n",
      "\n",
      "Processing test for user: stu39\n",
      "\n",
      "Processing test for user: stu3\n",
      "\n",
      "Processing test for user: stu4\n",
      "\n",
      "Processing test for user: stu6\n",
      "\n",
      "Processing test for user: stu7\n",
      "\n",
      "Processing test for user: pro13\n",
      "\n",
      "Processing test for user: pro15\n",
      "\n",
      "Processing test for user: pro17\n",
      "\n",
      "Processing test for user: pro18\n",
      "\n",
      "Processing test for user: pro20\n",
      "\n",
      "Processing test for user: pro21\n",
      "\n",
      "Processing test for user: pro22\n",
      "\n",
      "Processing test for user: pro23\n",
      "\n",
      "Processing test for user: pro24\n",
      "\n",
      "Processing test for user: pro25\n",
      "\n",
      "Processing test for user: pro29\n",
      "\n",
      "Processing test for user: pro31\n",
      "\n",
      "Processing test for user: pro3\n",
      "\n",
      "Processing test for user: pro5\n",
      "\n",
      "Processing test for user: pro8\n",
      "\n",
      "Processing test for user: pro9\n",
      "\n",
      "Processing test for user: stu10\n",
      "\n",
      "Processing test for user: stu11\n",
      "\n",
      "Processing test for user: stu13\n",
      "\n",
      "Processing test for user: stu15\n",
      "\n",
      "Processing test for user: stu17\n",
      "\n",
      "Processing test for user: stu21\n",
      "\n",
      "Processing test for user: stu24\n",
      "\n",
      "Processing test for user: stu25\n",
      "\n",
      "Processing test for user: stu26\n",
      "\n",
      "Processing test for user: stu29\n",
      "\n",
      "Processing test for user: stu30\n",
      "\n",
      "Processing test for user: stu31\n",
      "\n",
      "Processing test for user: stu36\n",
      "\n",
      "Processing test for user: stu37\n",
      "\n",
      "Processing test for user: stu38\n",
      "\n",
      "Processing test for user: stu39\n",
      "\n",
      "Processing test for user: stu3\n",
      "\n",
      "Processing test for user: stu4\n",
      "\n",
      "Processing test for user: stu6\n",
      "\n",
      "Processing test for user: stu7\n",
      "\n",
      "Processing test for user: pro13\n",
      "\n",
      "Processing test for user: pro15\n",
      "\n",
      "Processing test for user: pro17\n",
      "\n",
      "Processing test for user: pro18\n",
      "\n",
      "Processing test for user: pro20\n",
      "\n",
      "Processing test for user: pro21\n",
      "\n",
      "Processing test for user: pro22\n",
      "\n",
      "Processing test for user: pro23\n",
      "\n",
      "Processing test for user: pro24\n",
      "\n",
      "Processing test for user: pro25\n",
      "\n",
      "Processing test for user: pro29\n",
      "\n",
      "Processing test for user: pro31\n",
      "\n",
      "Processing test for user: pro3\n",
      "\n",
      "Processing test for user: pro5\n",
      "\n",
      "Processing test for user: pro8\n",
      "\n",
      "Processing test for user: pro9\n",
      "\n",
      "Processing test for user: stu10\n",
      "\n",
      "Processing test for user: stu11\n",
      "\n",
      "Processing test for user: stu13\n",
      "\n",
      "Processing test for user: stu15\n",
      "\n",
      "Processing test for user: stu17\n",
      "\n",
      "Processing test for user: stu21\n",
      "\n",
      "Processing test for user: stu24\n",
      "\n",
      "Processing test for user: stu25\n",
      "\n",
      "Processing test for user: stu26\n",
      "\n",
      "Processing test for user: stu29\n",
      "\n",
      "Processing test for user: stu30\n",
      "\n",
      "Processing test for user: stu31\n",
      "\n",
      "Processing test for user: stu36\n",
      "\n",
      "Processing test for user: stu37\n",
      "\n",
      "Processing test for user: stu38\n",
      "\n",
      "Processing test for user: stu39\n",
      "\n",
      "Processing test for user: stu3\n",
      "\n",
      "Processing test for user: stu4\n",
      "\n",
      "Processing test for user: stu6\n",
      "\n",
      "Processing test for user: stu7\n",
      "\n",
      "Processing test for user: pro13\n",
      "\n",
      "Processing test for user: pro15\n",
      "\n",
      "Processing test for user: pro17\n",
      "\n",
      "Processing test for user: pro18\n",
      "\n",
      "Processing test for user: pro20\n",
      "\n",
      "Processing test for user: pro21\n",
      "\n",
      "Processing test for user: pro22\n",
      "\n",
      "Processing test for user: pro23\n",
      "\n",
      "Processing test for user: pro24\n",
      "\n",
      "Processing test for user: pro25\n",
      "\n",
      "Processing test for user: pro29\n",
      "\n",
      "Processing test for user: pro31\n",
      "\n",
      "Processing test for user: pro3\n",
      "\n",
      "Processing test for user: pro5\n",
      "\n",
      "Processing test for user: pro8\n",
      "\n",
      "Processing test for user: pro9\n",
      "\n",
      "Processing test for user: stu10\n",
      "\n",
      "Processing test for user: stu11\n",
      "\n",
      "Processing test for user: stu13\n",
      "\n",
      "Processing test for user: stu15\n",
      "\n",
      "Processing test for user: stu17\n",
      "\n",
      "Processing test for user: stu21\n",
      "\n",
      "Processing test for user: stu24\n",
      "\n",
      "Processing test for user: stu25\n",
      "\n",
      "Processing test for user: stu26\n",
      "\n",
      "Processing test for user: stu29\n",
      "\n",
      "Processing test for user: stu30\n",
      "\n",
      "Processing test for user: stu31\n",
      "\n",
      "Processing test for user: stu36\n",
      "\n",
      "Processing test for user: stu37\n",
      "\n",
      "Processing test for user: stu38\n",
      "\n",
      "Processing test for user: stu39\n",
      "\n",
      "Processing test for user: stu3\n",
      "\n",
      "Processing test for user: stu4\n",
      "\n",
      "Processing test for user: stu6\n",
      "\n",
      "Processing test for user: stu7\n",
      "################ Data has been saved to 144\n",
      "\n",
      "Processing test for user: pro10\n",
      "\n",
      "Processing test for user: pro11\n",
      "\n",
      "Processing test for user: pro12\n",
      "\n",
      "Processing test for user: pro14\n",
      "\n",
      "Processing test for user: pro16\n",
      "\n",
      "Processing test for user: pro19\n",
      "\n",
      "Processing test for user: pro1\n",
      "\n",
      "Processing test for user: pro26\n",
      "\n",
      "Processing test for user: pro27\n",
      "\n",
      "Processing test for user: pro28\n",
      "\n",
      "Processing test for user: pro2\n",
      "\n",
      "Processing test for user: pro30\n",
      "\n",
      "Processing test for user: pro32\n",
      "\n",
      "Processing test for user: pro4\n",
      "\n",
      "Processing test for user: pro6\n",
      "\n",
      "Processing test for user: pro7\n",
      "\n",
      "Processing test for user: stu12\n",
      "\n",
      "Processing test for user: stu14\n",
      "\n",
      "Processing test for user: stu16\n",
      "\n",
      "Processing test for user: stu18\n",
      "\n",
      "Processing test for user: stu19\n",
      "\n",
      "Processing test for user: stu1\n",
      "\n",
      "Processing test for user: stu20\n",
      "\n",
      "Processing test for user: stu22\n",
      "\n",
      "Processing test for user: stu23\n",
      "\n",
      "Processing test for user: stu27\n",
      "\n",
      "Processing test for user: stu28\n",
      "\n",
      "Processing test for user: stu2\n",
      "\n",
      "Processing test for user: stu32\n",
      "\n",
      "Processing test for user: stu33\n",
      "\n",
      "Processing test for user: stu34\n",
      "\n",
      "Processing test for user: stu35\n",
      "\n",
      "Processing test for user: stu40\n",
      "\n",
      "Processing test for user: stu5\n",
      "\n",
      "Processing test for user: stu8\n",
      "\n",
      "Processing test for user: stu9\n",
      "\n",
      "Processing test for user: pro10\n",
      "\n",
      "Processing test for user: pro11\n",
      "\n",
      "Processing test for user: pro12\n",
      "\n",
      "Processing test for user: pro14\n",
      "\n",
      "Processing test for user: pro16\n",
      "\n",
      "Processing test for user: pro19\n",
      "\n",
      "Processing test for user: pro1\n",
      "\n",
      "Processing test for user: pro26\n",
      "\n",
      "Processing test for user: pro27\n",
      "\n",
      "Processing test for user: pro28\n",
      "\n",
      "Processing test for user: pro2\n",
      "\n",
      "Processing test for user: pro30\n",
      "\n",
      "Processing test for user: pro32\n",
      "\n",
      "Processing test for user: pro4\n",
      "\n",
      "Processing test for user: pro6\n",
      "\n",
      "Processing test for user: pro7\n",
      "\n",
      "Processing test for user: stu12\n",
      "\n",
      "Processing test for user: stu14\n",
      "\n",
      "Processing test for user: stu16\n",
      "\n",
      "Processing test for user: stu18\n",
      "\n",
      "Processing test for user: stu19\n",
      "\n",
      "Processing test for user: stu1\n",
      "\n",
      "Processing test for user: stu20\n",
      "\n",
      "Processing test for user: stu22\n",
      "\n",
      "Processing test for user: stu23\n",
      "\n",
      "Processing test for user: stu27\n",
      "\n",
      "Processing test for user: stu28\n",
      "\n",
      "Processing test for user: stu2\n",
      "\n",
      "Processing test for user: stu32\n",
      "\n",
      "Processing test for user: stu33\n",
      "\n",
      "Processing test for user: stu34\n",
      "\n",
      "Processing test for user: stu35\n",
      "\n",
      "Processing test for user: stu40\n",
      "\n",
      "Processing test for user: stu5\n",
      "\n",
      "Processing test for user: stu8\n",
      "\n",
      "Processing test for user: stu9\n",
      "\n",
      "Processing test for user: pro10\n",
      "\n",
      "Processing test for user: pro11\n",
      "\n",
      "Processing test for user: pro12\n",
      "\n",
      "Processing test for user: pro14\n",
      "\n",
      "Processing test for user: pro16\n",
      "\n",
      "Processing test for user: pro19\n",
      "\n",
      "Processing test for user: pro1\n",
      "\n",
      "Processing test for user: pro26\n",
      "\n",
      "Processing test for user: pro27\n",
      "\n",
      "Processing test for user: pro28\n",
      "\n",
      "Processing test for user: pro2\n",
      "\n",
      "Processing test for user: pro30\n",
      "\n",
      "Processing test for user: pro32\n",
      "\n",
      "Processing test for user: pro4\n",
      "\n",
      "Processing test for user: pro6\n",
      "\n",
      "Processing test for user: pro7\n",
      "\n",
      "Processing test for user: stu12\n",
      "\n",
      "Processing test for user: stu14\n",
      "\n",
      "Processing test for user: stu16\n",
      "\n",
      "Processing test for user: stu18\n",
      "\n",
      "Processing test for user: stu19\n",
      "\n",
      "Processing test for user: stu1\n",
      "\n",
      "Processing test for user: stu20\n",
      "\n",
      "Processing test for user: stu22\n",
      "\n",
      "Processing test for user: stu23\n",
      "\n",
      "Processing test for user: stu27\n",
      "\n",
      "Processing test for user: stu28\n",
      "\n",
      "Processing test for user: stu2\n",
      "\n",
      "Processing test for user: stu32\n",
      "\n",
      "Processing test for user: stu33\n",
      "\n",
      "Processing test for user: stu34\n",
      "\n",
      "Processing test for user: stu35\n",
      "\n",
      "Processing test for user: stu40\n",
      "\n",
      "Processing test for user: stu5\n",
      "\n",
      "Processing test for user: stu8\n",
      "\n",
      "Processing test for user: stu9\n",
      "\n",
      "Processing test for user: pro10\n",
      "\n",
      "Processing test for user: pro11\n",
      "\n",
      "Processing test for user: pro12\n",
      "\n",
      "Processing test for user: pro14\n",
      "\n",
      "Processing test for user: pro16\n",
      "\n",
      "Processing test for user: pro19\n",
      "\n",
      "Processing test for user: pro1\n",
      "\n",
      "Processing test for user: pro26\n",
      "\n",
      "Processing test for user: pro27\n",
      "\n",
      "Processing test for user: pro28\n",
      "\n",
      "Processing test for user: pro2\n",
      "\n",
      "Processing test for user: pro30\n",
      "\n",
      "Processing test for user: pro32\n",
      "\n",
      "Processing test for user: pro4\n",
      "\n",
      "Processing test for user: pro6\n",
      "\n",
      "Processing test for user: pro7\n",
      "\n",
      "Processing test for user: stu12\n",
      "\n",
      "Processing test for user: stu14\n",
      "\n",
      "Processing test for user: stu16\n",
      "\n",
      "Processing test for user: stu18\n",
      "\n",
      "Processing test for user: stu19\n",
      "\n",
      "Processing test for user: stu1\n",
      "\n",
      "Processing test for user: stu20\n",
      "\n",
      "Processing test for user: stu22\n",
      "\n",
      "Processing test for user: stu23\n",
      "\n",
      "Processing test for user: stu27\n",
      "\n",
      "Processing test for user: stu28\n",
      "\n",
      "Processing test for user: stu2\n",
      "\n",
      "Processing test for user: stu32\n",
      "\n",
      "Processing test for user: stu33\n",
      "\n",
      "Processing test for user: stu34\n",
      "\n",
      "Processing test for user: stu35\n",
      "\n",
      "Processing test for user: stu40\n",
      "\n",
      "Processing test for user: stu5\n",
      "\n",
      "Processing test for user: stu8\n",
      "\n",
      "Processing test for user: stu9\n",
      "################ Data has been saved to 288\n"
     ]
    }
   ],
   "source": [
    "fileNamesP1Birdstrikes = np.sort(glob.glob(\"./data/zheng/birdstrikes_processed_interactions_p1/*\"))\n",
    "fileNamesP2Birdstrikes = np.sort(glob.glob(\"./data/zheng/birdstrikes_processed_interactions_p2/*\"))\n",
    "fileNamesP3Birdstrikes = np.sort(glob.glob(\"./data/zheng/birdstrikes_processed_interactions_p3/*\"))\n",
    "fileNamesP4Birdstrikes = np.sort(glob.glob(\"./data/zheng/birdstrikes_processed_interactions_p4/*\"))\n",
    "\n",
    "create_linear_models_data(fileNamesP1Birdstrikes, 'p1', dataset='birdstrikes')\n",
    "create_linear_models_data(fileNamesP2Birdstrikes, 'p2', dataset='birdstrikes')\n",
    "create_linear_models_data(fileNamesP3Birdstrikes, 'p3', dataset='birdstrikes')\n",
    "create_linear_models_data(fileNamesP4Birdstrikes, 'p4', dataset='birdstrikes')\n",
    "\n"
   ],
   "metadata": {
    "collapsed": false,
    "ExecuteTime": {
     "end_time": "2024-03-11T00:17:55.815445Z",
     "start_time": "2024-03-11T00:17:55.441330Z"
    }
   }
  },
  {
   "cell_type": "code",
   "execution_count": 364,
   "outputs": [],
   "source": [
    "#SANITY CHECK\n",
    "def sanity_check_final_dataframes(dataset):\n",
    "    df1= pd.read_csv(f'./data/zheng/mixed-model-data/zheng_{dataset}_p1.csv')\n",
    "    df2= pd.read_csv(f'./data/zheng/mixed-model-data/zheng_{dataset}_p2.csv')\n",
    "    df3= pd.read_csv(f'./data/zheng/mixed-model-data/zheng_{dataset}_p3.csv')\n",
    "    df4= pd.read_csv(f'./data/zheng/mixed-model-data/zheng_{dataset}_p4.csv')\n",
    "    # assert df1.shape == df2.shape == df3.shape == df4.shape\n",
    "    print(f\"Sanity check passed for {dataset} dataframes\")\n",
    "\n",
    "\n"
   ],
   "metadata": {
    "collapsed": false,
    "ExecuteTime": {
     "end_time": "2024-03-10T23:19:34.936376Z",
     "start_time": "2024-03-10T23:19:34.928137Z"
    }
   }
  },
  {
   "cell_type": "code",
   "execution_count": 365,
   "outputs": [
    {
     "name": "stdout",
     "output_type": "stream",
     "text": [
      "Sanity check passed for birdstrikes dataframes\n"
     ]
    }
   ],
   "source": [
    "sanity_check_final_dataframes('birdstrikes')"
   ],
   "metadata": {
    "collapsed": false,
    "ExecuteTime": {
     "end_time": "2024-03-10T23:19:35.992591Z",
     "start_time": "2024-03-10T23:19:35.979175Z"
    }
   }
  },
  {
   "cell_type": "code",
   "execution_count": 366,
   "outputs": [],
   "source": [
    "def master_joined_test_both_dataset():\n",
    "    df1= pd.read_csv(f'./data/zheng/mixed-model-data/zheng_movies_p1.csv')\n",
    "    df2= pd.read_csv(f'./data/zheng/mixed-model-data/zheng_movies_p2.csv')\n",
    "    df3= pd.read_csv(f'./data/zheng/mixed-model-data/zheng_movies_p3.csv')\n",
    "    df4= pd.read_csv(f'./data/zheng/mixed-model-data/zheng_movies_p4.csv')\n",
    "    df5= pd.read_csv(f'./data/zheng/mixed-model-data/zheng_birdstrikes_p1.csv')\n",
    "    df6= pd.read_csv(f'./data/zheng/mixed-model-data/zheng_birdstrikes_p2.csv')\n",
    "    df7= pd.read_csv(f'./data/zheng/mixed-model-data/zheng_birdstrikes_p3.csv')\n",
    "    df8= pd.read_csv(f'./data/zheng/mixed-model-data/zheng_birdstrikes_p4.csv')\n",
    "    movies = pd.concat([df1, df2, df3, df4], ignore_index=True)\n",
    "    birdstrikes = pd.concat([df5, df6, df7, df8], ignore_index=True)\n",
    "    both_datasets = pd.concat([movies, birdstrikes], ignore_index=True)\n",
    "    #sort the dataframe by u\n",
    "    both_datasets = both_datasets.sort_values(by=['u', 'Task', 'Experiment'])\n",
    "    both_datasets.to_csv('./data/zheng/mixed-model-data/zheng_both_datasets.csv', index=False)\n",
    "    print(f\"################ Data has been saved to zheng_both_datasets.csv\")\n",
    "    return both_datasets"
   ],
   "metadata": {
    "collapsed": false,
    "ExecuteTime": {
     "end_time": "2024-03-10T23:19:36.653134Z",
     "start_time": "2024-03-10T23:19:36.594970Z"
    }
   }
  },
  {
   "cell_type": "code",
   "execution_count": 367,
   "outputs": [],
   "source": [
    "def master_sanity_check(master_df):\n",
    "    assert dataset.isna().any().any() == False\n",
    "    print(f\"Null Sanity check 1 passed for master dataframe\")\n",
    "    # for each 'u' and each task there should be 2 rows\n",
    "    assert master_df.shape[0]==len(master_df['u'].unique())*len(master_df['Task'].unique())*len(master_df['Experiment'].unique())\n",
    "    print(f\"Sanity check 2 passed for master dataframe\")\n",
    "\n",
    "\n"
   ],
   "metadata": {
    "collapsed": false,
    "ExecuteTime": {
     "end_time": "2024-03-10T23:19:37.327783Z",
     "start_time": "2024-03-10T23:19:37.317805Z"
    }
   }
  },
  {
   "cell_type": "code",
   "execution_count": 368,
   "outputs": [
    {
     "name": "stdout",
     "output_type": "stream",
     "text": [
      "################ Data has been saved to zheng_both_datasets.csv\n",
      "Null Sanity check 1 passed for master dataframe\n"
     ]
    },
    {
     "ename": "AssertionError",
     "evalue": "",
     "output_type": "error",
     "traceback": [
      "\u001B[0;31m---------------------------------------------------------------------------\u001B[0m",
      "\u001B[0;31mAssertionError\u001B[0m                            Traceback (most recent call last)",
      "Cell \u001B[0;32mIn[368], line 2\u001B[0m\n\u001B[1;32m      1\u001B[0m dataset\u001B[38;5;241m=\u001B[39mmaster_joined_test_both_dataset()\n\u001B[0;32m----> 2\u001B[0m \u001B[43mmaster_sanity_check\u001B[49m\u001B[43m(\u001B[49m\u001B[43mdataset\u001B[49m\u001B[43m)\u001B[49m\n",
      "Cell \u001B[0;32mIn[367], line 5\u001B[0m, in \u001B[0;36mmaster_sanity_check\u001B[0;34m(master_df)\u001B[0m\n\u001B[1;32m      3\u001B[0m \u001B[38;5;28mprint\u001B[39m(\u001B[38;5;124mf\u001B[39m\u001B[38;5;124m\"\u001B[39m\u001B[38;5;124mNull Sanity check 1 passed for master dataframe\u001B[39m\u001B[38;5;124m\"\u001B[39m)\n\u001B[1;32m      4\u001B[0m \u001B[38;5;66;03m# for each 'u' and each task there should be 2 rows\u001B[39;00m\n\u001B[0;32m----> 5\u001B[0m \u001B[38;5;28;01massert\u001B[39;00m master_df\u001B[38;5;241m.\u001B[39mshape[\u001B[38;5;241m0\u001B[39m]\u001B[38;5;241m==\u001B[39m\u001B[38;5;28mlen\u001B[39m(master_df[\u001B[38;5;124m'\u001B[39m\u001B[38;5;124mu\u001B[39m\u001B[38;5;124m'\u001B[39m]\u001B[38;5;241m.\u001B[39munique())\u001B[38;5;241m*\u001B[39m\u001B[38;5;28mlen\u001B[39m(master_df[\u001B[38;5;124m'\u001B[39m\u001B[38;5;124mTask\u001B[39m\u001B[38;5;124m'\u001B[39m]\u001B[38;5;241m.\u001B[39munique())\u001B[38;5;241m*\u001B[39m\u001B[38;5;28mlen\u001B[39m(master_df[\u001B[38;5;124m'\u001B[39m\u001B[38;5;124mExperiment\u001B[39m\u001B[38;5;124m'\u001B[39m]\u001B[38;5;241m.\u001B[39munique())\n\u001B[1;32m      6\u001B[0m \u001B[38;5;28mprint\u001B[39m(\u001B[38;5;124mf\u001B[39m\u001B[38;5;124m\"\u001B[39m\u001B[38;5;124mSanity check 2 passed for master dataframe\u001B[39m\u001B[38;5;124m\"\u001B[39m)\n",
      "\u001B[0;31mAssertionError\u001B[0m: "
     ]
    }
   ],
   "source": [
    "dataset=master_joined_test_both_dataset()\n",
    "master_sanity_check(dataset)\n"
   ],
   "metadata": {
    "collapsed": false,
    "ExecuteTime": {
     "end_time": "2024-03-10T23:19:38.035965Z",
     "start_time": "2024-03-10T23:19:37.990192Z"
    }
   }
  },
  {
   "cell_type": "code",
   "execution_count": 369,
   "outputs": [
    {
     "data": {
      "text/plain": "        u  Trial Task      Dataset      Experiment Openendedness  probabsame  \\\n300  pro1      0   p1  birdstrikes  birdstrikesbcf       focused    0.307692   \n301  pro1      1   p1  birdstrikes  birdstrikesbcf       focused    0.400000   \n372  pro1      0   p2  birdstrikes  birdstrikesbcf       focused    0.444444   \n373  pro1      1   p2  birdstrikes  birdstrikesbcf       focused    0.647059   \n444  pro1      0   p3  birdstrikes  birdstrikesbcf          open    0.544444   \n..    ...    ...  ...          ...             ...           ...         ...   \n431  stu9      1   p2  birdstrikes  birdstrikesbcf       focused    1.000000   \n502  stu9      0   p3  birdstrikes  birdstrikesbcf          open    0.692308   \n503  stu9      1   p3  birdstrikes  birdstrikesbcf          open    0.722222   \n574  stu9      0   p4  birdstrikes  birdstrikesbcf          open    0.491525   \n575  stu9      1   p4  birdstrikes  birdstrikesbcf          open    0.800000   \n\n     probabmodify1  probabmodify2  probabmodify3  \n300       0.307692       0.384615       0.000000  \n301       0.000000       0.600000       0.000000  \n372       0.333333       0.222222       0.000000  \n373       0.235294       0.117647       0.000000  \n444       0.133333       0.266667       0.055556  \n..             ...            ...            ...  \n431       0.000000       0.000000       0.000000  \n502       0.201923       0.105769       0.000000  \n503       0.111111       0.152778       0.013889  \n574       0.152542       0.355932       0.000000  \n575       0.058824       0.129412       0.011765  \n\n[576 rows x 10 columns]",
      "text/html": "<div>\n<style scoped>\n    .dataframe tbody tr th:only-of-type {\n        vertical-align: middle;\n    }\n\n    .dataframe tbody tr th {\n        vertical-align: top;\n    }\n\n    .dataframe thead th {\n        text-align: right;\n    }\n</style>\n<table border=\"1\" class=\"dataframe\">\n  <thead>\n    <tr style=\"text-align: right;\">\n      <th></th>\n      <th>u</th>\n      <th>Trial</th>\n      <th>Task</th>\n      <th>Dataset</th>\n      <th>Experiment</th>\n      <th>Openendedness</th>\n      <th>probabsame</th>\n      <th>probabmodify1</th>\n      <th>probabmodify2</th>\n      <th>probabmodify3</th>\n    </tr>\n  </thead>\n  <tbody>\n    <tr>\n      <th>300</th>\n      <td>pro1</td>\n      <td>0</td>\n      <td>p1</td>\n      <td>birdstrikes</td>\n      <td>birdstrikesbcf</td>\n      <td>focused</td>\n      <td>0.307692</td>\n      <td>0.307692</td>\n      <td>0.384615</td>\n      <td>0.000000</td>\n    </tr>\n    <tr>\n      <th>301</th>\n      <td>pro1</td>\n      <td>1</td>\n      <td>p1</td>\n      <td>birdstrikes</td>\n      <td>birdstrikesbcf</td>\n      <td>focused</td>\n      <td>0.400000</td>\n      <td>0.000000</td>\n      <td>0.600000</td>\n      <td>0.000000</td>\n    </tr>\n    <tr>\n      <th>372</th>\n      <td>pro1</td>\n      <td>0</td>\n      <td>p2</td>\n      <td>birdstrikes</td>\n      <td>birdstrikesbcf</td>\n      <td>focused</td>\n      <td>0.444444</td>\n      <td>0.333333</td>\n      <td>0.222222</td>\n      <td>0.000000</td>\n    </tr>\n    <tr>\n      <th>373</th>\n      <td>pro1</td>\n      <td>1</td>\n      <td>p2</td>\n      <td>birdstrikes</td>\n      <td>birdstrikesbcf</td>\n      <td>focused</td>\n      <td>0.647059</td>\n      <td>0.235294</td>\n      <td>0.117647</td>\n      <td>0.000000</td>\n    </tr>\n    <tr>\n      <th>444</th>\n      <td>pro1</td>\n      <td>0</td>\n      <td>p3</td>\n      <td>birdstrikes</td>\n      <td>birdstrikesbcf</td>\n      <td>open</td>\n      <td>0.544444</td>\n      <td>0.133333</td>\n      <td>0.266667</td>\n      <td>0.055556</td>\n    </tr>\n    <tr>\n      <th>...</th>\n      <td>...</td>\n      <td>...</td>\n      <td>...</td>\n      <td>...</td>\n      <td>...</td>\n      <td>...</td>\n      <td>...</td>\n      <td>...</td>\n      <td>...</td>\n      <td>...</td>\n    </tr>\n    <tr>\n      <th>431</th>\n      <td>stu9</td>\n      <td>1</td>\n      <td>p2</td>\n      <td>birdstrikes</td>\n      <td>birdstrikesbcf</td>\n      <td>focused</td>\n      <td>1.000000</td>\n      <td>0.000000</td>\n      <td>0.000000</td>\n      <td>0.000000</td>\n    </tr>\n    <tr>\n      <th>502</th>\n      <td>stu9</td>\n      <td>0</td>\n      <td>p3</td>\n      <td>birdstrikes</td>\n      <td>birdstrikesbcf</td>\n      <td>open</td>\n      <td>0.692308</td>\n      <td>0.201923</td>\n      <td>0.105769</td>\n      <td>0.000000</td>\n    </tr>\n    <tr>\n      <th>503</th>\n      <td>stu9</td>\n      <td>1</td>\n      <td>p3</td>\n      <td>birdstrikes</td>\n      <td>birdstrikesbcf</td>\n      <td>open</td>\n      <td>0.722222</td>\n      <td>0.111111</td>\n      <td>0.152778</td>\n      <td>0.013889</td>\n    </tr>\n    <tr>\n      <th>574</th>\n      <td>stu9</td>\n      <td>0</td>\n      <td>p4</td>\n      <td>birdstrikes</td>\n      <td>birdstrikesbcf</td>\n      <td>open</td>\n      <td>0.491525</td>\n      <td>0.152542</td>\n      <td>0.355932</td>\n      <td>0.000000</td>\n    </tr>\n    <tr>\n      <th>575</th>\n      <td>stu9</td>\n      <td>1</td>\n      <td>p4</td>\n      <td>birdstrikes</td>\n      <td>birdstrikesbcf</td>\n      <td>open</td>\n      <td>0.800000</td>\n      <td>0.058824</td>\n      <td>0.129412</td>\n      <td>0.011765</td>\n    </tr>\n  </tbody>\n</table>\n<p>576 rows × 10 columns</p>\n</div>"
     },
     "execution_count": 369,
     "metadata": {},
     "output_type": "execute_result"
    }
   ],
   "source": [
    "dataset"
   ],
   "metadata": {
    "collapsed": false,
    "ExecuteTime": {
     "end_time": "2024-03-10T23:19:39.359942Z",
     "start_time": "2024-03-10T23:19:39.326250Z"
    }
   }
  },
  {
   "cell_type": "code",
   "execution_count": 370,
   "outputs": [
    {
     "data": {
      "text/plain": "        u  Trial Task      Dataset      Experiment Openendedness  probabsame  \\\n300  pro1      0   p1  birdstrikes  birdstrikesbcf       focused    0.307692   \n301  pro1      1   p1  birdstrikes  birdstrikesbcf       focused    0.400000   \n372  pro1      0   p2  birdstrikes  birdstrikesbcf       focused    0.444444   \n373  pro1      1   p2  birdstrikes  birdstrikesbcf       focused    0.647059   \n444  pro1      0   p3  birdstrikes  birdstrikesbcf          open    0.544444   \n..    ...    ...  ...          ...             ...           ...         ...   \n431  stu9      1   p2  birdstrikes  birdstrikesbcf       focused    1.000000   \n502  stu9      0   p3  birdstrikes  birdstrikesbcf          open    0.692308   \n503  stu9      1   p3  birdstrikes  birdstrikesbcf          open    0.722222   \n574  stu9      0   p4  birdstrikes  birdstrikesbcf          open    0.491525   \n575  stu9      1   p4  birdstrikes  birdstrikesbcf          open    0.800000   \n\n     probabmodify1  probabmodify2  probabmodify3  \n300       0.307692       0.384615       0.000000  \n301       0.000000       0.600000       0.000000  \n372       0.333333       0.222222       0.000000  \n373       0.235294       0.117647       0.000000  \n444       0.133333       0.266667       0.055556  \n..             ...            ...            ...  \n431       0.000000       0.000000       0.000000  \n502       0.201923       0.105769       0.000000  \n503       0.111111       0.152778       0.013889  \n574       0.152542       0.355932       0.000000  \n575       0.058824       0.129412       0.011765  \n\n[576 rows x 10 columns]",
      "text/html": "<div>\n<style scoped>\n    .dataframe tbody tr th:only-of-type {\n        vertical-align: middle;\n    }\n\n    .dataframe tbody tr th {\n        vertical-align: top;\n    }\n\n    .dataframe thead th {\n        text-align: right;\n    }\n</style>\n<table border=\"1\" class=\"dataframe\">\n  <thead>\n    <tr style=\"text-align: right;\">\n      <th></th>\n      <th>u</th>\n      <th>Trial</th>\n      <th>Task</th>\n      <th>Dataset</th>\n      <th>Experiment</th>\n      <th>Openendedness</th>\n      <th>probabsame</th>\n      <th>probabmodify1</th>\n      <th>probabmodify2</th>\n      <th>probabmodify3</th>\n    </tr>\n  </thead>\n  <tbody>\n    <tr>\n      <th>300</th>\n      <td>pro1</td>\n      <td>0</td>\n      <td>p1</td>\n      <td>birdstrikes</td>\n      <td>birdstrikesbcf</td>\n      <td>focused</td>\n      <td>0.307692</td>\n      <td>0.307692</td>\n      <td>0.384615</td>\n      <td>0.000000</td>\n    </tr>\n    <tr>\n      <th>301</th>\n      <td>pro1</td>\n      <td>1</td>\n      <td>p1</td>\n      <td>birdstrikes</td>\n      <td>birdstrikesbcf</td>\n      <td>focused</td>\n      <td>0.400000</td>\n      <td>0.000000</td>\n      <td>0.600000</td>\n      <td>0.000000</td>\n    </tr>\n    <tr>\n      <th>372</th>\n      <td>pro1</td>\n      <td>0</td>\n      <td>p2</td>\n      <td>birdstrikes</td>\n      <td>birdstrikesbcf</td>\n      <td>focused</td>\n      <td>0.444444</td>\n      <td>0.333333</td>\n      <td>0.222222</td>\n      <td>0.000000</td>\n    </tr>\n    <tr>\n      <th>373</th>\n      <td>pro1</td>\n      <td>1</td>\n      <td>p2</td>\n      <td>birdstrikes</td>\n      <td>birdstrikesbcf</td>\n      <td>focused</td>\n      <td>0.647059</td>\n      <td>0.235294</td>\n      <td>0.117647</td>\n      <td>0.000000</td>\n    </tr>\n    <tr>\n      <th>444</th>\n      <td>pro1</td>\n      <td>0</td>\n      <td>p3</td>\n      <td>birdstrikes</td>\n      <td>birdstrikesbcf</td>\n      <td>open</td>\n      <td>0.544444</td>\n      <td>0.133333</td>\n      <td>0.266667</td>\n      <td>0.055556</td>\n    </tr>\n    <tr>\n      <th>...</th>\n      <td>...</td>\n      <td>...</td>\n      <td>...</td>\n      <td>...</td>\n      <td>...</td>\n      <td>...</td>\n      <td>...</td>\n      <td>...</td>\n      <td>...</td>\n      <td>...</td>\n    </tr>\n    <tr>\n      <th>431</th>\n      <td>stu9</td>\n      <td>1</td>\n      <td>p2</td>\n      <td>birdstrikes</td>\n      <td>birdstrikesbcf</td>\n      <td>focused</td>\n      <td>1.000000</td>\n      <td>0.000000</td>\n      <td>0.000000</td>\n      <td>0.000000</td>\n    </tr>\n    <tr>\n      <th>502</th>\n      <td>stu9</td>\n      <td>0</td>\n      <td>p3</td>\n      <td>birdstrikes</td>\n      <td>birdstrikesbcf</td>\n      <td>open</td>\n      <td>0.692308</td>\n      <td>0.201923</td>\n      <td>0.105769</td>\n      <td>0.000000</td>\n    </tr>\n    <tr>\n      <th>503</th>\n      <td>stu9</td>\n      <td>1</td>\n      <td>p3</td>\n      <td>birdstrikes</td>\n      <td>birdstrikesbcf</td>\n      <td>open</td>\n      <td>0.722222</td>\n      <td>0.111111</td>\n      <td>0.152778</td>\n      <td>0.013889</td>\n    </tr>\n    <tr>\n      <th>574</th>\n      <td>stu9</td>\n      <td>0</td>\n      <td>p4</td>\n      <td>birdstrikes</td>\n      <td>birdstrikesbcf</td>\n      <td>open</td>\n      <td>0.491525</td>\n      <td>0.152542</td>\n      <td>0.355932</td>\n      <td>0.000000</td>\n    </tr>\n    <tr>\n      <th>575</th>\n      <td>stu9</td>\n      <td>1</td>\n      <td>p4</td>\n      <td>birdstrikes</td>\n      <td>birdstrikesbcf</td>\n      <td>open</td>\n      <td>0.800000</td>\n      <td>0.058824</td>\n      <td>0.129412</td>\n      <td>0.011765</td>\n    </tr>\n  </tbody>\n</table>\n<p>576 rows × 10 columns</p>\n</div>"
     },
     "execution_count": 370,
     "metadata": {},
     "output_type": "execute_result"
    }
   ],
   "source": [
    "\n",
    "dataset"
   ],
   "metadata": {
    "collapsed": false,
    "ExecuteTime": {
     "end_time": "2024-03-10T23:19:40.596188Z",
     "start_time": "2024-03-10T23:19:40.566565Z"
    }
   }
  },
  {
   "cell_type": "code",
   "execution_count": 371,
   "outputs": [
    {
     "data": {
      "text/plain": "         u  Trial   Task  Dataset  Experiment  Openendedness  probabsame  \\\n300  False  False  False    False       False          False       False   \n301  False  False  False    False       False          False       False   \n372  False  False  False    False       False          False       False   \n373  False  False  False    False       False          False       False   \n444  False  False  False    False       False          False       False   \n..     ...    ...    ...      ...         ...            ...         ...   \n431  False  False  False    False       False          False       False   \n502  False  False  False    False       False          False       False   \n503  False  False  False    False       False          False       False   \n574  False  False  False    False       False          False       False   \n575  False  False  False    False       False          False       False   \n\n     probabmodify1  probabmodify2  probabmodify3  \n300          False          False          False  \n301          False          False          False  \n372          False          False          False  \n373          False          False          False  \n444          False          False          False  \n..             ...            ...            ...  \n431          False          False          False  \n502          False          False          False  \n503          False          False          False  \n574          False          False          False  \n575          False          False          False  \n\n[576 rows x 10 columns]",
      "text/html": "<div>\n<style scoped>\n    .dataframe tbody tr th:only-of-type {\n        vertical-align: middle;\n    }\n\n    .dataframe tbody tr th {\n        vertical-align: top;\n    }\n\n    .dataframe thead th {\n        text-align: right;\n    }\n</style>\n<table border=\"1\" class=\"dataframe\">\n  <thead>\n    <tr style=\"text-align: right;\">\n      <th></th>\n      <th>u</th>\n      <th>Trial</th>\n      <th>Task</th>\n      <th>Dataset</th>\n      <th>Experiment</th>\n      <th>Openendedness</th>\n      <th>probabsame</th>\n      <th>probabmodify1</th>\n      <th>probabmodify2</th>\n      <th>probabmodify3</th>\n    </tr>\n  </thead>\n  <tbody>\n    <tr>\n      <th>300</th>\n      <td>False</td>\n      <td>False</td>\n      <td>False</td>\n      <td>False</td>\n      <td>False</td>\n      <td>False</td>\n      <td>False</td>\n      <td>False</td>\n      <td>False</td>\n      <td>False</td>\n    </tr>\n    <tr>\n      <th>301</th>\n      <td>False</td>\n      <td>False</td>\n      <td>False</td>\n      <td>False</td>\n      <td>False</td>\n      <td>False</td>\n      <td>False</td>\n      <td>False</td>\n      <td>False</td>\n      <td>False</td>\n    </tr>\n    <tr>\n      <th>372</th>\n      <td>False</td>\n      <td>False</td>\n      <td>False</td>\n      <td>False</td>\n      <td>False</td>\n      <td>False</td>\n      <td>False</td>\n      <td>False</td>\n      <td>False</td>\n      <td>False</td>\n    </tr>\n    <tr>\n      <th>373</th>\n      <td>False</td>\n      <td>False</td>\n      <td>False</td>\n      <td>False</td>\n      <td>False</td>\n      <td>False</td>\n      <td>False</td>\n      <td>False</td>\n      <td>False</td>\n      <td>False</td>\n    </tr>\n    <tr>\n      <th>444</th>\n      <td>False</td>\n      <td>False</td>\n      <td>False</td>\n      <td>False</td>\n      <td>False</td>\n      <td>False</td>\n      <td>False</td>\n      <td>False</td>\n      <td>False</td>\n      <td>False</td>\n    </tr>\n    <tr>\n      <th>...</th>\n      <td>...</td>\n      <td>...</td>\n      <td>...</td>\n      <td>...</td>\n      <td>...</td>\n      <td>...</td>\n      <td>...</td>\n      <td>...</td>\n      <td>...</td>\n      <td>...</td>\n    </tr>\n    <tr>\n      <th>431</th>\n      <td>False</td>\n      <td>False</td>\n      <td>False</td>\n      <td>False</td>\n      <td>False</td>\n      <td>False</td>\n      <td>False</td>\n      <td>False</td>\n      <td>False</td>\n      <td>False</td>\n    </tr>\n    <tr>\n      <th>502</th>\n      <td>False</td>\n      <td>False</td>\n      <td>False</td>\n      <td>False</td>\n      <td>False</td>\n      <td>False</td>\n      <td>False</td>\n      <td>False</td>\n      <td>False</td>\n      <td>False</td>\n    </tr>\n    <tr>\n      <th>503</th>\n      <td>False</td>\n      <td>False</td>\n      <td>False</td>\n      <td>False</td>\n      <td>False</td>\n      <td>False</td>\n      <td>False</td>\n      <td>False</td>\n      <td>False</td>\n      <td>False</td>\n    </tr>\n    <tr>\n      <th>574</th>\n      <td>False</td>\n      <td>False</td>\n      <td>False</td>\n      <td>False</td>\n      <td>False</td>\n      <td>False</td>\n      <td>False</td>\n      <td>False</td>\n      <td>False</td>\n      <td>False</td>\n    </tr>\n    <tr>\n      <th>575</th>\n      <td>False</td>\n      <td>False</td>\n      <td>False</td>\n      <td>False</td>\n      <td>False</td>\n      <td>False</td>\n      <td>False</td>\n      <td>False</td>\n      <td>False</td>\n      <td>False</td>\n    </tr>\n  </tbody>\n</table>\n<p>576 rows × 10 columns</p>\n</div>"
     },
     "execution_count": 371,
     "metadata": {},
     "output_type": "execute_result"
    }
   ],
   "source": [
    "dataset.isna()"
   ],
   "metadata": {
    "collapsed": false,
    "ExecuteTime": {
     "end_time": "2024-03-10T23:19:45.884775Z",
     "start_time": "2024-03-10T23:19:45.869601Z"
    }
   }
  },
  {
   "cell_type": "markdown",
   "source": [
    "# # DATA VISUALIZATION\n"
   ],
   "metadata": {
    "collapsed": false,
    "ExecuteTime": {
     "end_time": "2024-03-11T00:37:05.215517Z",
     "start_time": "2024-03-11T00:37:05.198759Z"
    }
   },
   "outputs": [],
   "execution_count": 389
  },
  {
   "cell_type": "code",
   "execution_count": null,
   "outputs": [],
   "source": [
    "# Iterate through each row and construct the new DataFrame\n",
    "# New DataFrame columns\n",
    "new_columns = ['u', 'Trial', 'action', 'probab']\n",
    "new_data = []\n",
    "for _, row in df.iterrows():\n",
    "    for i in ['same', 'modify1', 'modify2', 'modify3']:\n",
    "        action = f\"probab{i}\"\n",
    "        probab = row[action]\n",
    "        if probab != 0:\n",
    "            new_data.append([row['u'], row['Trial'], action, probab])\n",
    "\n",
    "new_df = pd.DataFrame(new_data, columns=new_columns)\n",
    "\n",
    "new_df"
   ],
   "metadata": {
    "collapsed": false
   }
  },
  {
   "cell_type": "code",
   "execution_count": 396,
   "outputs": [
    {
     "name": "stdout",
     "output_type": "stream",
     "text": [
      "   Task  Total_interactions  Min_interactions  Max_interactions  \\\n",
      "0     0                1520                 7               113   \n",
      "1     1                1867                14               142   \n",
      "2     2                5737                67               296   \n",
      "3     3                5835                59               358   \n",
      "\n",
      "   Median_interactions  Count_same  Count_modify-1  Count_modify-2  \\\n",
      "0                 34.0        1015             386             115   \n",
      "1                 38.5        1159             455             228   \n",
      "2                149.0        3095            1444            1083   \n",
      "3                145.5        3179            1723             873   \n",
      "\n",
      "   Count_modify-3  Percent_same  Percent_modify-1  Percent_modify-2  \\\n",
      "0               4     66.776316         25.394737          7.565789   \n",
      "1              25     62.078200         24.370648         12.212105   \n",
      "2             115     53.948056         25.169949         18.877462   \n",
      "3              60     54.481577         29.528706         14.961440   \n",
      "\n",
      "   Percent_modify-3  \n",
      "0          0.263158  \n",
      "1          1.339047  \n",
      "2          2.004532  \n",
      "3          1.028278  \n"
     ]
    },
    {
     "name": "stderr",
     "output_type": "stream",
     "text": [
      "/var/folders/w6/jn7_623d6d96165_8x9l_vqh0000gn/T/ipykernel_21249/2836838625.py:14: FutureWarning: Returning a DataFrame from Series.apply when the supplied function returns a Series is deprecated and will be removed in a future version.\n",
      "  action_counts = task_data[\"Action_counts\"].apply(pd.Series).fillna(0).sum()\n",
      "/var/folders/w6/jn7_623d6d96165_8x9l_vqh0000gn/T/ipykernel_21249/2836838625.py:14: FutureWarning: Returning a DataFrame from Series.apply when the supplied function returns a Series is deprecated and will be removed in a future version.\n",
      "  action_counts = task_data[\"Action_counts\"].apply(pd.Series).fillna(0).sum()\n",
      "/var/folders/w6/jn7_623d6d96165_8x9l_vqh0000gn/T/ipykernel_21249/2836838625.py:14: FutureWarning: Returning a DataFrame from Series.apply when the supplied function returns a Series is deprecated and will be removed in a future version.\n",
      "  action_counts = task_data[\"Action_counts\"].apply(pd.Series).fillna(0).sum()\n",
      "/var/folders/w6/jn7_623d6d96165_8x9l_vqh0000gn/T/ipykernel_21249/2836838625.py:14: FutureWarning: Returning a DataFrame from Series.apply when the supplied function returns a Series is deprecated and will be removed in a future version.\n",
      "  action_counts = task_data[\"Action_counts\"].apply(pd.Series).fillna(0).sum()\n"
     ]
    }
   ],
   "source": [
    "new_df.isna().any()"
   ],
   "metadata": {
    "collapsed": false,
    "ExecuteTime": {
     "end_time": "2024-03-11T00:42:29.884258Z",
     "start_time": "2024-03-11T00:42:29.689994Z"
    }
   }
  },
  {
   "cell_type": "code",
   "execution_count": 397,
   "outputs": [
    {
     "name": "stdout",
     "output_type": "stream",
     "text": [
      "Overall Probability across all tasks:\n",
      "Same: 56.47436325957618\n",
      "Modify-1: 26.7932348419012\n",
      "Modify-2: 15.368674376629453\n",
      "Modify-3: 1.3637275218931746\n"
     ]
    }
   ],
   "source": [
    "import seaborn as sns\n",
    "def plot_probabilities(data):\n",
    "    # Convert the 'Trial' column to categorical for correct ordering on the plot\n",
    "    data['Trial'] = pd.Categorical(data['Trial'], categories=['0', '1'], ordered=True)\n",
    "\n",
    "    # Melt the dataframe to have one column for actions and another for probabilities\n",
    "    melted_data = pd.melt(data, id_vars=['u', 'Trial'], var_name='Action', value_name='Probability')\n",
    "\n",
    "    # Plot\n",
    "    plt.figure(figsize=(10, 6))\n",
    "    sns.barplot(data=melted_data, x='Trial', y='Probability', hue='Action', ci=None)\n",
    "    plt.title('Probabilities of Actions Across Trials')\n",
    "    plt.xlabel('Trial')\n",
    "    plt.ylabel('Probability')\n",
    "    plt.xticks(rotation=45)\n",
    "    plt.legend(title='Action')\n",
    "    plt.tight_layout()\n",
    "    plt.show()\n"
   ],
   "metadata": {
    "collapsed": false,
    "ExecuteTime": {
     "end_time": "2024-03-11T00:43:22.936042Z",
     "start_time": "2024-03-11T00:43:22.768134Z"
    }
   }
  },
  {
   "cell_type": "code",
   "execution_count": 922,
   "outputs": [
    {
     "name": "stderr",
     "output_type": "stream",
     "text": [
      "/var/folders/w6/jn7_623d6d96165_8x9l_vqh0000gn/T/ipykernel_75641/4226773192.py:11: FutureWarning: \n",
      "\n",
      "The `ci` parameter is deprecated. Use `errorbar=None` for the same effect.\n",
      "\n",
      "  sns.barplot(data=melted_data, x='Trial', y='Probability', hue='Action', ci=None)\n"
     ]
    },
    {
     "data": {
      "text/plain": "<Figure size 1000x600 with 1 Axes>",
      "image/png": "[encoded data removed]"
     },
     "metadata": {},
     "output_type": "display_data"
    }
   ],
   "source": [
    "plot_probabilities(df)"
   ],
   "metadata": {
    "collapsed": false,
    "ExecuteTime": {
     "end_time": "2024-02-20T18:24:48.030263Z",
     "start_time": "2024-02-20T18:24:47.852738Z"
    }
   }
  },
  {
   "cell_type": "code",
   "execution_count": 45,
   "outputs": [
    {
     "ename": "LinAlgError",
     "evalue": "Singular matrix",
     "output_type": "error",
     "traceback": [
      "\u001B[0;31m---------------------------------------------------------------------------\u001B[0m",
      "\u001B[0;31mLinAlgError\u001B[0m                               Traceback (most recent call last)",
      "Cell \u001B[0;32mIn[45], line 6\u001B[0m\n\u001B[1;32m      4\u001B[0m \u001B[38;5;66;03m# Full model for 'same' action\u001B[39;00m\n\u001B[1;32m      5\u001B[0m fullmodel_same \u001B[38;5;241m=\u001B[39m smf\u001B[38;5;241m.\u001B[39mmixedlm(\u001B[38;5;124m\"\u001B[39m\u001B[38;5;124mprobabsame ~ 0 + Trial\u001B[39m\u001B[38;5;124m\"\u001B[39m, data\u001B[38;5;241m=\u001B[39mdf, groups\u001B[38;5;241m=\u001B[39mdf[\u001B[38;5;124m'\u001B[39m\u001B[38;5;124mu\u001B[39m\u001B[38;5;124m'\u001B[39m])\n\u001B[0;32m----> 6\u001B[0m fullmodel_same_result \u001B[38;5;241m=\u001B[39m \u001B[43mfullmodel_same\u001B[49m\u001B[38;5;241;43m.\u001B[39;49m\u001B[43mfit\u001B[49m\u001B[43m(\u001B[49m\u001B[43mmethod\u001B[49m\u001B[38;5;241;43m=\u001B[39;49m\u001B[43m[\u001B[49m\u001B[38;5;124;43m\"\u001B[39;49m\u001B[38;5;124;43mlbfgs\u001B[39;49m\u001B[38;5;124;43m\"\u001B[39;49m\u001B[43m]\u001B[49m\u001B[43m)\u001B[49m\n\u001B[1;32m      7\u001B[0m \u001B[38;5;28mprint\u001B[39m(\u001B[38;5;124m\"\u001B[39m\u001B[38;5;130;01m\\n\u001B[39;00m\u001B[38;5;124mFull Model Summary for same:\u001B[39m\u001B[38;5;130;01m\\n\u001B[39;00m\u001B[38;5;124m\"\u001B[39m)\n\u001B[1;32m      8\u001B[0m \u001B[38;5;28mprint\u001B[39m(fullmodel_same_result\u001B[38;5;241m.\u001B[39msummary())\n",
      "File \u001B[0;32m~/anaconda3/envs/ForeCache-Master/lib/python3.9/site-packages/statsmodels/regression/mixed_linear_model.py:2192\u001B[0m, in \u001B[0;36mMixedLM.fit\u001B[0;34m(self, start_params, reml, niter_sa, do_cg, fe_pen, cov_pen, free, full_output, method, **fit_kwargs)\u001B[0m\n\u001B[1;32m   2190\u001B[0m \u001B[38;5;66;03m# Try optimizing one or more times\u001B[39;00m\n\u001B[1;32m   2191\u001B[0m \u001B[38;5;28;01mfor\u001B[39;00m j \u001B[38;5;129;01min\u001B[39;00m \u001B[38;5;28mrange\u001B[39m(\u001B[38;5;28mlen\u001B[39m(method)):\n\u001B[0;32m-> 2192\u001B[0m     rslt \u001B[38;5;241m=\u001B[39m \u001B[38;5;28;43msuper\u001B[39;49m\u001B[43m(\u001B[49m\u001B[43mMixedLM\u001B[49m\u001B[43m,\u001B[49m\u001B[43m \u001B[49m\u001B[38;5;28;43mself\u001B[39;49m\u001B[43m)\u001B[49m\u001B[38;5;241;43m.\u001B[39;49m\u001B[43mfit\u001B[49m\u001B[43m(\u001B[49m\u001B[43mstart_params\u001B[49m\u001B[38;5;241;43m=\u001B[39;49m\u001B[43mpacked\u001B[49m\u001B[43m,\u001B[49m\n\u001B[1;32m   2193\u001B[0m \u001B[43m                                    \u001B[49m\u001B[43mskip_hessian\u001B[49m\u001B[38;5;241;43m=\u001B[39;49m\u001B[38;5;28;43;01mTrue\u001B[39;49;00m\u001B[43m,\u001B[49m\n\u001B[1;32m   2194\u001B[0m \u001B[43m                                    \u001B[49m\u001B[43mmethod\u001B[49m\u001B[38;5;241;43m=\u001B[39;49m\u001B[43mmethod\u001B[49m\u001B[43m[\u001B[49m\u001B[43mj\u001B[49m\u001B[43m]\u001B[49m\u001B[43m,\u001B[49m\n\u001B[1;32m   2195\u001B[0m \u001B[43m                                    \u001B[49m\u001B[38;5;241;43m*\u001B[39;49m\u001B[38;5;241;43m*\u001B[39;49m\u001B[43mfit_kwargs\u001B[49m\u001B[43m)\u001B[49m\n\u001B[1;32m   2196\u001B[0m     \u001B[38;5;28;01mif\u001B[39;00m rslt\u001B[38;5;241m.\u001B[39mmle_retvals[\u001B[38;5;124m'\u001B[39m\u001B[38;5;124mconverged\u001B[39m\u001B[38;5;124m'\u001B[39m]:\n\u001B[1;32m   2197\u001B[0m         \u001B[38;5;28;01mbreak\u001B[39;00m\n",
      "File \u001B[0;32m~/anaconda3/envs/ForeCache-Master/lib/python3.9/site-packages/statsmodels/base/model.py:566\u001B[0m, in \u001B[0;36mLikelihoodModel.fit\u001B[0;34m(self, start_params, method, maxiter, full_output, disp, fargs, callback, retall, skip_hessian, **kwargs)\u001B[0m\n\u001B[1;32m    563\u001B[0m     \u001B[38;5;28;01mdel\u001B[39;00m kwargs[\u001B[38;5;124m\"\u001B[39m\u001B[38;5;124muse_t\u001B[39m\u001B[38;5;124m\"\u001B[39m]\n\u001B[1;32m    565\u001B[0m optimizer \u001B[38;5;241m=\u001B[39m Optimizer()\n\u001B[0;32m--> 566\u001B[0m xopt, retvals, optim_settings \u001B[38;5;241m=\u001B[39m \u001B[43moptimizer\u001B[49m\u001B[38;5;241;43m.\u001B[39;49m\u001B[43m_fit\u001B[49m\u001B[43m(\u001B[49m\u001B[43mf\u001B[49m\u001B[43m,\u001B[49m\u001B[43m \u001B[49m\u001B[43mscore\u001B[49m\u001B[43m,\u001B[49m\u001B[43m \u001B[49m\u001B[43mstart_params\u001B[49m\u001B[43m,\u001B[49m\n\u001B[1;32m    567\u001B[0m \u001B[43m                                               \u001B[49m\u001B[43mfargs\u001B[49m\u001B[43m,\u001B[49m\u001B[43m \u001B[49m\u001B[43mkwargs\u001B[49m\u001B[43m,\u001B[49m\n\u001B[1;32m    568\u001B[0m \u001B[43m                                               \u001B[49m\u001B[43mhessian\u001B[49m\u001B[38;5;241;43m=\u001B[39;49m\u001B[43mhess\u001B[49m\u001B[43m,\u001B[49m\n\u001B[1;32m    569\u001B[0m \u001B[43m                                               \u001B[49m\u001B[43mmethod\u001B[49m\u001B[38;5;241;43m=\u001B[39;49m\u001B[43mmethod\u001B[49m\u001B[43m,\u001B[49m\n\u001B[1;32m    570\u001B[0m \u001B[43m                                               \u001B[49m\u001B[43mdisp\u001B[49m\u001B[38;5;241;43m=\u001B[39;49m\u001B[43mdisp\u001B[49m\u001B[43m,\u001B[49m\n\u001B[1;32m    571\u001B[0m \u001B[43m                                               \u001B[49m\u001B[43mmaxiter\u001B[49m\u001B[38;5;241;43m=\u001B[39;49m\u001B[43mmaxiter\u001B[49m\u001B[43m,\u001B[49m\n\u001B[1;32m    572\u001B[0m \u001B[43m                                               \u001B[49m\u001B[43mcallback\u001B[49m\u001B[38;5;241;43m=\u001B[39;49m\u001B[43mcallback\u001B[49m\u001B[43m,\u001B[49m\n\u001B[1;32m    573\u001B[0m \u001B[43m                                               \u001B[49m\u001B[43mretall\u001B[49m\u001B[38;5;241;43m=\u001B[39;49m\u001B[43mretall\u001B[49m\u001B[43m,\u001B[49m\n\u001B[1;32m    574\u001B[0m \u001B[43m                                               \u001B[49m\u001B[43mfull_output\u001B[49m\u001B[38;5;241;43m=\u001B[39;49m\u001B[43mfull_output\u001B[49m\u001B[43m)\u001B[49m\n\u001B[1;32m    575\u001B[0m \u001B[38;5;66;03m# Restore cov_type, cov_kwds and use_t\u001B[39;00m\n\u001B[1;32m    576\u001B[0m optim_settings\u001B[38;5;241m.\u001B[39mupdate(kwds)\n",
      "File \u001B[0;32m~/anaconda3/envs/ForeCache-Master/lib/python3.9/site-packages/statsmodels/base/optimizer.py:242\u001B[0m, in \u001B[0;36mOptimizer._fit\u001B[0;34m(self, objective, gradient, start_params, fargs, kwargs, hessian, method, maxiter, full_output, disp, callback, retall)\u001B[0m\n\u001B[1;32m    239\u001B[0m     fit_funcs\u001B[38;5;241m.\u001B[39mupdate(extra_fit_funcs)\n\u001B[1;32m    241\u001B[0m func \u001B[38;5;241m=\u001B[39m fit_funcs[method]\n\u001B[0;32m--> 242\u001B[0m xopt, retvals \u001B[38;5;241m=\u001B[39m \u001B[43mfunc\u001B[49m\u001B[43m(\u001B[49m\u001B[43mobjective\u001B[49m\u001B[43m,\u001B[49m\u001B[43m \u001B[49m\u001B[43mgradient\u001B[49m\u001B[43m,\u001B[49m\u001B[43m \u001B[49m\u001B[43mstart_params\u001B[49m\u001B[43m,\u001B[49m\u001B[43m \u001B[49m\u001B[43mfargs\u001B[49m\u001B[43m,\u001B[49m\u001B[43m \u001B[49m\u001B[43mkwargs\u001B[49m\u001B[43m,\u001B[49m\n\u001B[1;32m    243\u001B[0m \u001B[43m                     \u001B[49m\u001B[43mdisp\u001B[49m\u001B[38;5;241;43m=\u001B[39;49m\u001B[43mdisp\u001B[49m\u001B[43m,\u001B[49m\u001B[43m \u001B[49m\u001B[43mmaxiter\u001B[49m\u001B[38;5;241;43m=\u001B[39;49m\u001B[43mmaxiter\u001B[49m\u001B[43m,\u001B[49m\u001B[43m \u001B[49m\u001B[43mcallback\u001B[49m\u001B[38;5;241;43m=\u001B[39;49m\u001B[43mcallback\u001B[49m\u001B[43m,\u001B[49m\n\u001B[1;32m    244\u001B[0m \u001B[43m                     \u001B[49m\u001B[43mretall\u001B[49m\u001B[38;5;241;43m=\u001B[39;49m\u001B[43mretall\u001B[49m\u001B[43m,\u001B[49m\u001B[43m \u001B[49m\u001B[43mfull_output\u001B[49m\u001B[38;5;241;43m=\u001B[39;49m\u001B[43mfull_output\u001B[49m\u001B[43m,\u001B[49m\n\u001B[1;32m    245\u001B[0m \u001B[43m                     \u001B[49m\u001B[43mhess\u001B[49m\u001B[38;5;241;43m=\u001B[39;49m\u001B[43mhessian\u001B[49m\u001B[43m)\u001B[49m\n\u001B[1;32m    247\u001B[0m optim_settings \u001B[38;5;241m=\u001B[39m {\u001B[38;5;124m'\u001B[39m\u001B[38;5;124moptimizer\u001B[39m\u001B[38;5;124m'\u001B[39m: method, \u001B[38;5;124m'\u001B[39m\u001B[38;5;124mstart_params\u001B[39m\u001B[38;5;124m'\u001B[39m: start_params,\n\u001B[1;32m    248\u001B[0m                   \u001B[38;5;124m'\u001B[39m\u001B[38;5;124mmaxiter\u001B[39m\u001B[38;5;124m'\u001B[39m: maxiter, \u001B[38;5;124m'\u001B[39m\u001B[38;5;124mfull_output\u001B[39m\u001B[38;5;124m'\u001B[39m: full_output,\n\u001B[1;32m    249\u001B[0m                   \u001B[38;5;124m'\u001B[39m\u001B[38;5;124mdisp\u001B[39m\u001B[38;5;124m'\u001B[39m: disp, \u001B[38;5;124m'\u001B[39m\u001B[38;5;124mfargs\u001B[39m\u001B[38;5;124m'\u001B[39m: fargs, \u001B[38;5;124m'\u001B[39m\u001B[38;5;124mcallback\u001B[39m\u001B[38;5;124m'\u001B[39m: callback,\n\u001B[1;32m    250\u001B[0m                   \u001B[38;5;124m'\u001B[39m\u001B[38;5;124mretall\u001B[39m\u001B[38;5;124m'\u001B[39m: retall, \u001B[38;5;124m\"\u001B[39m\u001B[38;5;124mextra_fit_funcs\u001B[39m\u001B[38;5;124m\"\u001B[39m: extra_fit_funcs}\n\u001B[1;32m    251\u001B[0m optim_settings\u001B[38;5;241m.\u001B[39mupdate(kwargs)\n",
      "File \u001B[0;32m~/anaconda3/envs/ForeCache-Master/lib/python3.9/site-packages/statsmodels/base/optimizer.py:659\u001B[0m, in \u001B[0;36m_fit_lbfgs\u001B[0;34m(f, score, start_params, fargs, kwargs, disp, maxiter, callback, retall, full_output, hess)\u001B[0m\n\u001B[1;32m    656\u001B[0m \u001B[38;5;28;01melif\u001B[39;00m approx_grad:\n\u001B[1;32m    657\u001B[0m     func \u001B[38;5;241m=\u001B[39m f\n\u001B[0;32m--> 659\u001B[0m retvals \u001B[38;5;241m=\u001B[39m \u001B[43moptimize\u001B[49m\u001B[38;5;241;43m.\u001B[39;49m\u001B[43mfmin_l_bfgs_b\u001B[49m\u001B[43m(\u001B[49m\u001B[43mfunc\u001B[49m\u001B[43m,\u001B[49m\u001B[43m \u001B[49m\u001B[43mstart_params\u001B[49m\u001B[43m,\u001B[49m\u001B[43m \u001B[49m\u001B[43mmaxiter\u001B[49m\u001B[38;5;241;43m=\u001B[39;49m\u001B[43mmaxiter\u001B[49m\u001B[43m,\u001B[49m\n\u001B[1;32m    660\u001B[0m \u001B[43m                                 \u001B[49m\u001B[43mcallback\u001B[49m\u001B[38;5;241;43m=\u001B[39;49m\u001B[43mcallback\u001B[49m\u001B[43m,\u001B[49m\u001B[43m \u001B[49m\u001B[43margs\u001B[49m\u001B[38;5;241;43m=\u001B[39;49m\u001B[43mfargs\u001B[49m\u001B[43m,\u001B[49m\n\u001B[1;32m    661\u001B[0m \u001B[43m                                 \u001B[49m\u001B[43mbounds\u001B[49m\u001B[38;5;241;43m=\u001B[39;49m\u001B[43mbounds\u001B[49m\u001B[43m,\u001B[49m\u001B[43m \u001B[49m\u001B[43mdisp\u001B[49m\u001B[38;5;241;43m=\u001B[39;49m\u001B[43mdisp\u001B[49m\u001B[43m,\u001B[49m\n\u001B[1;32m    662\u001B[0m \u001B[43m                                 \u001B[49m\u001B[38;5;241;43m*\u001B[39;49m\u001B[38;5;241;43m*\u001B[39;49m\u001B[43mextra_kwargs\u001B[49m\u001B[43m)\u001B[49m\n\u001B[1;32m    664\u001B[0m \u001B[38;5;28;01mif\u001B[39;00m full_output:\n\u001B[1;32m    665\u001B[0m     xopt, fopt, d \u001B[38;5;241m=\u001B[39m retvals\n",
      "File \u001B[0;32m~/anaconda3/envs/ForeCache-Master/lib/python3.9/site-packages/scipy/optimize/_lbfgsb_py.py:199\u001B[0m, in \u001B[0;36mfmin_l_bfgs_b\u001B[0;34m(func, x0, fprime, args, approx_grad, bounds, m, factr, pgtol, epsilon, iprint, maxfun, maxiter, disp, callback, maxls)\u001B[0m\n\u001B[1;32m    187\u001B[0m callback \u001B[38;5;241m=\u001B[39m _wrap_callback(callback)\n\u001B[1;32m    188\u001B[0m opts \u001B[38;5;241m=\u001B[39m {\u001B[38;5;124m'\u001B[39m\u001B[38;5;124mdisp\u001B[39m\u001B[38;5;124m'\u001B[39m: disp,\n\u001B[1;32m    189\u001B[0m         \u001B[38;5;124m'\u001B[39m\u001B[38;5;124miprint\u001B[39m\u001B[38;5;124m'\u001B[39m: iprint,\n\u001B[1;32m    190\u001B[0m         \u001B[38;5;124m'\u001B[39m\u001B[38;5;124mmaxcor\u001B[39m\u001B[38;5;124m'\u001B[39m: m,\n\u001B[0;32m   (...)\u001B[0m\n\u001B[1;32m    196\u001B[0m         \u001B[38;5;124m'\u001B[39m\u001B[38;5;124mcallback\u001B[39m\u001B[38;5;124m'\u001B[39m: callback,\n\u001B[1;32m    197\u001B[0m         \u001B[38;5;124m'\u001B[39m\u001B[38;5;124mmaxls\u001B[39m\u001B[38;5;124m'\u001B[39m: maxls}\n\u001B[0;32m--> 199\u001B[0m res \u001B[38;5;241m=\u001B[39m \u001B[43m_minimize_lbfgsb\u001B[49m\u001B[43m(\u001B[49m\u001B[43mfun\u001B[49m\u001B[43m,\u001B[49m\u001B[43m \u001B[49m\u001B[43mx0\u001B[49m\u001B[43m,\u001B[49m\u001B[43m \u001B[49m\u001B[43margs\u001B[49m\u001B[38;5;241;43m=\u001B[39;49m\u001B[43margs\u001B[49m\u001B[43m,\u001B[49m\u001B[43m \u001B[49m\u001B[43mjac\u001B[49m\u001B[38;5;241;43m=\u001B[39;49m\u001B[43mjac\u001B[49m\u001B[43m,\u001B[49m\u001B[43m \u001B[49m\u001B[43mbounds\u001B[49m\u001B[38;5;241;43m=\u001B[39;49m\u001B[43mbounds\u001B[49m\u001B[43m,\u001B[49m\n\u001B[1;32m    200\u001B[0m \u001B[43m                       \u001B[49m\u001B[38;5;241;43m*\u001B[39;49m\u001B[38;5;241;43m*\u001B[39;49m\u001B[43mopts\u001B[49m\u001B[43m)\u001B[49m\n\u001B[1;32m    201\u001B[0m d \u001B[38;5;241m=\u001B[39m {\u001B[38;5;124m'\u001B[39m\u001B[38;5;124mgrad\u001B[39m\u001B[38;5;124m'\u001B[39m: res[\u001B[38;5;124m'\u001B[39m\u001B[38;5;124mjac\u001B[39m\u001B[38;5;124m'\u001B[39m],\n\u001B[1;32m    202\u001B[0m      \u001B[38;5;124m'\u001B[39m\u001B[38;5;124mtask\u001B[39m\u001B[38;5;124m'\u001B[39m: res[\u001B[38;5;124m'\u001B[39m\u001B[38;5;124mmessage\u001B[39m\u001B[38;5;124m'\u001B[39m],\n\u001B[1;32m    203\u001B[0m      \u001B[38;5;124m'\u001B[39m\u001B[38;5;124mfuncalls\u001B[39m\u001B[38;5;124m'\u001B[39m: res[\u001B[38;5;124m'\u001B[39m\u001B[38;5;124mnfev\u001B[39m\u001B[38;5;124m'\u001B[39m],\n\u001B[1;32m    204\u001B[0m      \u001B[38;5;124m'\u001B[39m\u001B[38;5;124mnit\u001B[39m\u001B[38;5;124m'\u001B[39m: res[\u001B[38;5;124m'\u001B[39m\u001B[38;5;124mnit\u001B[39m\u001B[38;5;124m'\u001B[39m],\n\u001B[1;32m    205\u001B[0m      \u001B[38;5;124m'\u001B[39m\u001B[38;5;124mwarnflag\u001B[39m\u001B[38;5;124m'\u001B[39m: res[\u001B[38;5;124m'\u001B[39m\u001B[38;5;124mstatus\u001B[39m\u001B[38;5;124m'\u001B[39m]}\n\u001B[1;32m    206\u001B[0m f \u001B[38;5;241m=\u001B[39m res[\u001B[38;5;124m'\u001B[39m\u001B[38;5;124mfun\u001B[39m\u001B[38;5;124m'\u001B[39m]\n",
      "File \u001B[0;32m~/anaconda3/envs/ForeCache-Master/lib/python3.9/site-packages/scipy/optimize/_lbfgsb_py.py:307\u001B[0m, in \u001B[0;36m_minimize_lbfgsb\u001B[0;34m(fun, x0, args, jac, bounds, disp, maxcor, ftol, gtol, eps, maxfun, maxiter, iprint, callback, maxls, finite_diff_rel_step, **unknown_options)\u001B[0m\n\u001B[1;32m    304\u001B[0m     \u001B[38;5;28;01melse\u001B[39;00m:\n\u001B[1;32m    305\u001B[0m         iprint \u001B[38;5;241m=\u001B[39m disp\n\u001B[0;32m--> 307\u001B[0m sf \u001B[38;5;241m=\u001B[39m \u001B[43m_prepare_scalar_function\u001B[49m\u001B[43m(\u001B[49m\u001B[43mfun\u001B[49m\u001B[43m,\u001B[49m\u001B[43m \u001B[49m\u001B[43mx0\u001B[49m\u001B[43m,\u001B[49m\u001B[43m \u001B[49m\u001B[43mjac\u001B[49m\u001B[38;5;241;43m=\u001B[39;49m\u001B[43mjac\u001B[49m\u001B[43m,\u001B[49m\u001B[43m \u001B[49m\u001B[43margs\u001B[49m\u001B[38;5;241;43m=\u001B[39;49m\u001B[43margs\u001B[49m\u001B[43m,\u001B[49m\u001B[43m \u001B[49m\u001B[43mepsilon\u001B[49m\u001B[38;5;241;43m=\u001B[39;49m\u001B[43meps\u001B[49m\u001B[43m,\u001B[49m\n\u001B[1;32m    308\u001B[0m \u001B[43m                              \u001B[49m\u001B[43mbounds\u001B[49m\u001B[38;5;241;43m=\u001B[39;49m\u001B[43mnew_bounds\u001B[49m\u001B[43m,\u001B[49m\n\u001B[1;32m    309\u001B[0m \u001B[43m                              \u001B[49m\u001B[43mfinite_diff_rel_step\u001B[49m\u001B[38;5;241;43m=\u001B[39;49m\u001B[43mfinite_diff_rel_step\u001B[49m\u001B[43m)\u001B[49m\n\u001B[1;32m    311\u001B[0m func_and_grad \u001B[38;5;241m=\u001B[39m sf\u001B[38;5;241m.\u001B[39mfun_and_grad\n\u001B[1;32m    313\u001B[0m fortran_int \u001B[38;5;241m=\u001B[39m _lbfgsb\u001B[38;5;241m.\u001B[39mtypes\u001B[38;5;241m.\u001B[39mintvar\u001B[38;5;241m.\u001B[39mdtype\n",
      "File \u001B[0;32m~/anaconda3/envs/ForeCache-Master/lib/python3.9/site-packages/scipy/optimize/_optimize.py:383\u001B[0m, in \u001B[0;36m_prepare_scalar_function\u001B[0;34m(fun, x0, jac, args, bounds, epsilon, finite_diff_rel_step, hess)\u001B[0m\n\u001B[1;32m    379\u001B[0m     bounds \u001B[38;5;241m=\u001B[39m (\u001B[38;5;241m-\u001B[39mnp\u001B[38;5;241m.\u001B[39minf, np\u001B[38;5;241m.\u001B[39minf)\n\u001B[1;32m    381\u001B[0m \u001B[38;5;66;03m# ScalarFunction caches. Reuse of fun(x) during grad\u001B[39;00m\n\u001B[1;32m    382\u001B[0m \u001B[38;5;66;03m# calculation reduces overall function evaluations.\u001B[39;00m\n\u001B[0;32m--> 383\u001B[0m sf \u001B[38;5;241m=\u001B[39m \u001B[43mScalarFunction\u001B[49m\u001B[43m(\u001B[49m\u001B[43mfun\u001B[49m\u001B[43m,\u001B[49m\u001B[43m \u001B[49m\u001B[43mx0\u001B[49m\u001B[43m,\u001B[49m\u001B[43m \u001B[49m\u001B[43margs\u001B[49m\u001B[43m,\u001B[49m\u001B[43m \u001B[49m\u001B[43mgrad\u001B[49m\u001B[43m,\u001B[49m\u001B[43m \u001B[49m\u001B[43mhess\u001B[49m\u001B[43m,\u001B[49m\n\u001B[1;32m    384\u001B[0m \u001B[43m                    \u001B[49m\u001B[43mfinite_diff_rel_step\u001B[49m\u001B[43m,\u001B[49m\u001B[43m \u001B[49m\u001B[43mbounds\u001B[49m\u001B[43m,\u001B[49m\u001B[43m \u001B[49m\u001B[43mepsilon\u001B[49m\u001B[38;5;241;43m=\u001B[39;49m\u001B[43mepsilon\u001B[49m\u001B[43m)\u001B[49m\n\u001B[1;32m    386\u001B[0m \u001B[38;5;28;01mreturn\u001B[39;00m sf\n",
      "File \u001B[0;32m~/anaconda3/envs/ForeCache-Master/lib/python3.9/site-packages/scipy/optimize/_differentiable_functions.py:158\u001B[0m, in \u001B[0;36mScalarFunction.__init__\u001B[0;34m(self, fun, x0, args, grad, hess, finite_diff_rel_step, finite_diff_bounds, epsilon)\u001B[0m\n\u001B[1;32m    155\u001B[0m     \u001B[38;5;28mself\u001B[39m\u001B[38;5;241m.\u001B[39mf \u001B[38;5;241m=\u001B[39m fun_wrapped(\u001B[38;5;28mself\u001B[39m\u001B[38;5;241m.\u001B[39mx)\n\u001B[1;32m    157\u001B[0m \u001B[38;5;28mself\u001B[39m\u001B[38;5;241m.\u001B[39m_update_fun_impl \u001B[38;5;241m=\u001B[39m update_fun\n\u001B[0;32m--> 158\u001B[0m \u001B[38;5;28;43mself\u001B[39;49m\u001B[38;5;241;43m.\u001B[39;49m\u001B[43m_update_fun\u001B[49m\u001B[43m(\u001B[49m\u001B[43m)\u001B[49m\n\u001B[1;32m    160\u001B[0m \u001B[38;5;66;03m# Gradient evaluation\u001B[39;00m\n\u001B[1;32m    161\u001B[0m \u001B[38;5;28;01mif\u001B[39;00m \u001B[38;5;28mcallable\u001B[39m(grad):\n",
      "File \u001B[0;32m~/anaconda3/envs/ForeCache-Master/lib/python3.9/site-packages/scipy/optimize/_differentiable_functions.py:251\u001B[0m, in \u001B[0;36mScalarFunction._update_fun\u001B[0;34m(self)\u001B[0m\n\u001B[1;32m    249\u001B[0m \u001B[38;5;28;01mdef\u001B[39;00m \u001B[38;5;21m_update_fun\u001B[39m(\u001B[38;5;28mself\u001B[39m):\n\u001B[1;32m    250\u001B[0m     \u001B[38;5;28;01mif\u001B[39;00m \u001B[38;5;129;01mnot\u001B[39;00m \u001B[38;5;28mself\u001B[39m\u001B[38;5;241m.\u001B[39mf_updated:\n\u001B[0;32m--> 251\u001B[0m         \u001B[38;5;28;43mself\u001B[39;49m\u001B[38;5;241;43m.\u001B[39;49m\u001B[43m_update_fun_impl\u001B[49m\u001B[43m(\u001B[49m\u001B[43m)\u001B[49m\n\u001B[1;32m    252\u001B[0m         \u001B[38;5;28mself\u001B[39m\u001B[38;5;241m.\u001B[39mf_updated \u001B[38;5;241m=\u001B[39m \u001B[38;5;28;01mTrue\u001B[39;00m\n",
      "File \u001B[0;32m~/anaconda3/envs/ForeCache-Master/lib/python3.9/site-packages/scipy/optimize/_differentiable_functions.py:155\u001B[0m, in \u001B[0;36mScalarFunction.__init__.<locals>.update_fun\u001B[0;34m()\u001B[0m\n\u001B[1;32m    154\u001B[0m \u001B[38;5;28;01mdef\u001B[39;00m \u001B[38;5;21mupdate_fun\u001B[39m():\n\u001B[0;32m--> 155\u001B[0m     \u001B[38;5;28mself\u001B[39m\u001B[38;5;241m.\u001B[39mf \u001B[38;5;241m=\u001B[39m \u001B[43mfun_wrapped\u001B[49m\u001B[43m(\u001B[49m\u001B[38;5;28;43mself\u001B[39;49m\u001B[38;5;241;43m.\u001B[39;49m\u001B[43mx\u001B[49m\u001B[43m)\u001B[49m\n",
      "File \u001B[0;32m~/anaconda3/envs/ForeCache-Master/lib/python3.9/site-packages/scipy/optimize/_differentiable_functions.py:137\u001B[0m, in \u001B[0;36mScalarFunction.__init__.<locals>.fun_wrapped\u001B[0;34m(x)\u001B[0m\n\u001B[1;32m    133\u001B[0m \u001B[38;5;28mself\u001B[39m\u001B[38;5;241m.\u001B[39mnfev \u001B[38;5;241m+\u001B[39m\u001B[38;5;241m=\u001B[39m \u001B[38;5;241m1\u001B[39m\n\u001B[1;32m    134\u001B[0m \u001B[38;5;66;03m# Send a copy because the user may overwrite it.\u001B[39;00m\n\u001B[1;32m    135\u001B[0m \u001B[38;5;66;03m# Overwriting results in undefined behaviour because\u001B[39;00m\n\u001B[1;32m    136\u001B[0m \u001B[38;5;66;03m# fun(self.x) will change self.x, with the two no longer linked.\u001B[39;00m\n\u001B[0;32m--> 137\u001B[0m fx \u001B[38;5;241m=\u001B[39m \u001B[43mfun\u001B[49m\u001B[43m(\u001B[49m\u001B[43mnp\u001B[49m\u001B[38;5;241;43m.\u001B[39;49m\u001B[43mcopy\u001B[49m\u001B[43m(\u001B[49m\u001B[43mx\u001B[49m\u001B[43m)\u001B[49m\u001B[43m,\u001B[49m\u001B[43m \u001B[49m\u001B[38;5;241;43m*\u001B[39;49m\u001B[43margs\u001B[49m\u001B[43m)\u001B[49m\n\u001B[1;32m    138\u001B[0m \u001B[38;5;66;03m# Make sure the function returns a true scalar\u001B[39;00m\n\u001B[1;32m    139\u001B[0m \u001B[38;5;28;01mif\u001B[39;00m \u001B[38;5;129;01mnot\u001B[39;00m np\u001B[38;5;241m.\u001B[39misscalar(fx):\n",
      "File \u001B[0;32m~/anaconda3/envs/ForeCache-Master/lib/python3.9/site-packages/statsmodels/base/model.py:534\u001B[0m, in \u001B[0;36mLikelihoodModel.fit.<locals>.f\u001B[0;34m(params, *args)\u001B[0m\n\u001B[1;32m    533\u001B[0m \u001B[38;5;28;01mdef\u001B[39;00m \u001B[38;5;21mf\u001B[39m(params, \u001B[38;5;241m*\u001B[39margs):\n\u001B[0;32m--> 534\u001B[0m     \u001B[38;5;28;01mreturn\u001B[39;00m \u001B[38;5;241m-\u001B[39m\u001B[38;5;28;43mself\u001B[39;49m\u001B[38;5;241;43m.\u001B[39;49m\u001B[43mloglike\u001B[49m\u001B[43m(\u001B[49m\u001B[43mparams\u001B[49m\u001B[43m,\u001B[49m\u001B[43m \u001B[49m\u001B[38;5;241;43m*\u001B[39;49m\u001B[43margs\u001B[49m\u001B[43m)\u001B[49m \u001B[38;5;241m/\u001B[39m nobs\n",
      "File \u001B[0;32m~/anaconda3/envs/ForeCache-Master/lib/python3.9/site-packages/statsmodels/regression/mixed_linear_model.py:1499\u001B[0m, in \u001B[0;36mMixedLM.loglike\u001B[0;34m(self, params, profile_fe)\u001B[0m\n\u001B[1;32m   1497\u001B[0m \u001B[38;5;66;03m# Move to the profile set\u001B[39;00m\n\u001B[1;32m   1498\u001B[0m \u001B[38;5;28;01mif\u001B[39;00m profile_fe:\n\u001B[0;32m-> 1499\u001B[0m     fe_params, sing \u001B[38;5;241m=\u001B[39m \u001B[38;5;28;43mself\u001B[39;49m\u001B[38;5;241;43m.\u001B[39;49m\u001B[43mget_fe_params\u001B[49m\u001B[43m(\u001B[49m\u001B[43mcov_re\u001B[49m\u001B[43m,\u001B[49m\u001B[43m \u001B[49m\u001B[43mvcomp\u001B[49m\u001B[43m)\u001B[49m\n\u001B[1;32m   1500\u001B[0m     \u001B[38;5;28;01mif\u001B[39;00m sing:\n\u001B[1;32m   1501\u001B[0m         \u001B[38;5;28mself\u001B[39m\u001B[38;5;241m.\u001B[39m_cov_sing \u001B[38;5;241m+\u001B[39m\u001B[38;5;241m=\u001B[39m \u001B[38;5;241m1\u001B[39m\n",
      "File \u001B[0;32m~/anaconda3/envs/ForeCache-Master/lib/python3.9/site-packages/statsmodels/regression/mixed_linear_model.py:1346\u001B[0m, in \u001B[0;36mMixedLM.get_fe_params\u001B[0;34m(self, cov_re, vcomp, tol)\u001B[0m\n\u001B[1;32m   1344\u001B[0m     fe_params \u001B[38;5;241m=\u001B[39m np\u001B[38;5;241m.\u001B[39mdot(np\u001B[38;5;241m.\u001B[39mlinalg\u001B[38;5;241m.\u001B[39mpinv(xtxy[:, \u001B[38;5;241m0\u001B[39m:\u001B[38;5;241m-\u001B[39m\u001B[38;5;241m1\u001B[39m]), xtxy[:, \u001B[38;5;241m-\u001B[39m\u001B[38;5;241m1\u001B[39m])\n\u001B[1;32m   1345\u001B[0m \u001B[38;5;28;01melse\u001B[39;00m:\n\u001B[0;32m-> 1346\u001B[0m     fe_params \u001B[38;5;241m=\u001B[39m \u001B[43mnp\u001B[49m\u001B[38;5;241;43m.\u001B[39;49m\u001B[43mlinalg\u001B[49m\u001B[38;5;241;43m.\u001B[39;49m\u001B[43msolve\u001B[49m\u001B[43m(\u001B[49m\u001B[43mxtxy\u001B[49m\u001B[43m[\u001B[49m\u001B[43m:\u001B[49m\u001B[43m,\u001B[49m\u001B[43m \u001B[49m\u001B[38;5;241;43m0\u001B[39;49m\u001B[43m:\u001B[49m\u001B[38;5;241;43m-\u001B[39;49m\u001B[38;5;241;43m1\u001B[39;49m\u001B[43m]\u001B[49m\u001B[43m,\u001B[49m\u001B[43m \u001B[49m\u001B[43mxtxy\u001B[49m\u001B[43m[\u001B[49m\u001B[43m:\u001B[49m\u001B[43m,\u001B[49m\u001B[43m \u001B[49m\u001B[38;5;241;43m-\u001B[39;49m\u001B[38;5;241;43m1\u001B[39;49m\u001B[43m]\u001B[49m\u001B[43m)\u001B[49m\n\u001B[1;32m   1348\u001B[0m \u001B[38;5;28;01mreturn\u001B[39;00m fe_params, sing\n",
      "File \u001B[0;32m~/anaconda3/envs/ForeCache-Master/lib/python3.9/site-packages/numpy/linalg/linalg.py:409\u001B[0m, in \u001B[0;36msolve\u001B[0;34m(a, b)\u001B[0m\n\u001B[1;32m    407\u001B[0m signature \u001B[38;5;241m=\u001B[39m \u001B[38;5;124m'\u001B[39m\u001B[38;5;124mDD->D\u001B[39m\u001B[38;5;124m'\u001B[39m \u001B[38;5;28;01mif\u001B[39;00m isComplexType(t) \u001B[38;5;28;01melse\u001B[39;00m \u001B[38;5;124m'\u001B[39m\u001B[38;5;124mdd->d\u001B[39m\u001B[38;5;124m'\u001B[39m\n\u001B[1;32m    408\u001B[0m extobj \u001B[38;5;241m=\u001B[39m get_linalg_error_extobj(_raise_linalgerror_singular)\n\u001B[0;32m--> 409\u001B[0m r \u001B[38;5;241m=\u001B[39m \u001B[43mgufunc\u001B[49m\u001B[43m(\u001B[49m\u001B[43ma\u001B[49m\u001B[43m,\u001B[49m\u001B[43m \u001B[49m\u001B[43mb\u001B[49m\u001B[43m,\u001B[49m\u001B[43m \u001B[49m\u001B[43msignature\u001B[49m\u001B[38;5;241;43m=\u001B[39;49m\u001B[43msignature\u001B[49m\u001B[43m,\u001B[49m\u001B[43m \u001B[49m\u001B[43mextobj\u001B[49m\u001B[38;5;241;43m=\u001B[39;49m\u001B[43mextobj\u001B[49m\u001B[43m)\u001B[49m\n\u001B[1;32m    411\u001B[0m \u001B[38;5;28;01mreturn\u001B[39;00m wrap(r\u001B[38;5;241m.\u001B[39mastype(result_t, copy\u001B[38;5;241m=\u001B[39m\u001B[38;5;28;01mFalse\u001B[39;00m))\n",
      "File \u001B[0;32m~/anaconda3/envs/ForeCache-Master/lib/python3.9/site-packages/numpy/linalg/linalg.py:112\u001B[0m, in \u001B[0;36m_raise_linalgerror_singular\u001B[0;34m(err, flag)\u001B[0m\n\u001B[1;32m    111\u001B[0m \u001B[38;5;28;01mdef\u001B[39;00m \u001B[38;5;21m_raise_linalgerror_singular\u001B[39m(err, flag):\n\u001B[0;32m--> 112\u001B[0m     \u001B[38;5;28;01mraise\u001B[39;00m LinAlgError(\u001B[38;5;124m\"\u001B[39m\u001B[38;5;124mSingular matrix\u001B[39m\u001B[38;5;124m\"\u001B[39m)\n",
      "\u001B[0;31mLinAlgError\u001B[0m: Singular matrix"
     ]
    }
   ],
   "source": [
    "import statsmodels.api as sm\n",
    "import statsmodels.formula.api as smf\n",
    "\n",
    "# Full model for 'same' action\n",
    "fullmodel_same = smf.mixedlm(\"probabsame ~ 0 + Trial\", data=df, groups=df['u'])\n",
    "fullmodel_same_result = fullmodel_same.fit(method=[\"lbfgs\"])\n",
    "print(\"\\nFull Model Summary for same:\\n\")\n",
    "print(fullmodel_same_result.summary())\n",
    "\n",
    "# Reduced model for 'same' action\n",
    "reducedmodel_same = smf.mixedlm(\"probabsame ~ 0\", data=df, groups=df['u'])\n",
    "reducedmodel_same_result = reducedmodel_same.fit()\n",
    "print(\"\\nReduced Model Summary for same:\\n\")\n",
    "print(reducedmodel_same_result.summary())\n",
    "\n",
    "# ANOVA for 'same' action\n",
    "anova_result = sm.stats.anova_lm(fullmodel_same_result, reducedmodel_same_result)\n",
    "print(\"\\nANOVA for same:\\n\")\n",
    "print(anova_result)\n"
   ],
   "metadata": {
    "collapsed": false
   }
  },
  {
   "cell_type": "code",
   "execution_count": 19,
   "outputs": [
    {
     "data": {
      "text/plain": "False"
     },
     "execution_count": 19,
     "metadata": {},
     "output_type": "execute_result"
    }
   ],
   "source": [
    "df['Trial'].isna().any()"
   ],
   "metadata": {
    "collapsed": false
   }
  },
  {
   "cell_type": "code",
   "execution_count": 21,
   "outputs": [
    {
     "ename": "LinAlgError",
     "evalue": "Singular matrix",
     "output_type": "error",
     "traceback": [
      "\u001B[0;31m---------------------------------------------------------------------------\u001B[0m",
      "\u001B[0;31mLinAlgError\u001B[0m                               Traceback (most recent call last)",
      "Cell \u001B[0;32mIn[21], line 11\u001B[0m\n\u001B[1;32m      8\u001B[0m \u001B[38;5;28;01mimport\u001B[39;00m \u001B[38;5;21;01mstatsmodels\u001B[39;00m\u001B[38;5;21;01m.\u001B[39;00m\u001B[38;5;21;01mformula\u001B[39;00m\u001B[38;5;21;01m.\u001B[39;00m\u001B[38;5;21;01mapi\u001B[39;00m \u001B[38;5;28;01mas\u001B[39;00m \u001B[38;5;21;01msmf\u001B[39;00m\n\u001B[1;32m     10\u001B[0m md \u001B[38;5;241m=\u001B[39m smf\u001B[38;5;241m.\u001B[39mmixedlm(\u001B[38;5;124m\"\u001B[39m\u001B[38;5;124mprobabsame ~ minutessame + Trial \u001B[39m\u001B[38;5;124m\"\u001B[39m, df, groups\u001B[38;5;241m=\u001B[39mdf[\u001B[38;5;124m'\u001B[39m\u001B[38;5;124mu\u001B[39m\u001B[38;5;124m'\u001B[39m])\n\u001B[0;32m---> 11\u001B[0m mdf \u001B[38;5;241m=\u001B[39m \u001B[43mmd\u001B[49m\u001B[38;5;241;43m.\u001B[39;49m\u001B[43mfit\u001B[49m\u001B[43m(\u001B[49m\u001B[43mmethod\u001B[49m\u001B[38;5;241;43m=\u001B[39;49m\u001B[43m[\u001B[49m\u001B[38;5;124;43m\"\u001B[39;49m\u001B[38;5;124;43mlbfgs\u001B[39;49m\u001B[38;5;124;43m\"\u001B[39;49m\u001B[43m]\u001B[49m\u001B[43m)\u001B[49m\n\u001B[1;32m     12\u001B[0m \u001B[38;5;28mprint\u001B[39m(mdf\u001B[38;5;241m.\u001B[39msummary())\n",
      "File \u001B[0;32m~/anaconda3/envs/ForeCache-Master/lib/python3.9/site-packages/statsmodels/regression/mixed_linear_model.py:2192\u001B[0m, in \u001B[0;36mMixedLM.fit\u001B[0;34m(self, start_params, reml, niter_sa, do_cg, fe_pen, cov_pen, free, full_output, method, **fit_kwargs)\u001B[0m\n\u001B[1;32m   2190\u001B[0m \u001B[38;5;66;03m# Try optimizing one or more times\u001B[39;00m\n\u001B[1;32m   2191\u001B[0m \u001B[38;5;28;01mfor\u001B[39;00m j \u001B[38;5;129;01min\u001B[39;00m \u001B[38;5;28mrange\u001B[39m(\u001B[38;5;28mlen\u001B[39m(method)):\n\u001B[0;32m-> 2192\u001B[0m     rslt \u001B[38;5;241m=\u001B[39m \u001B[38;5;28;43msuper\u001B[39;49m\u001B[43m(\u001B[49m\u001B[43mMixedLM\u001B[49m\u001B[43m,\u001B[49m\u001B[43m \u001B[49m\u001B[38;5;28;43mself\u001B[39;49m\u001B[43m)\u001B[49m\u001B[38;5;241;43m.\u001B[39;49m\u001B[43mfit\u001B[49m\u001B[43m(\u001B[49m\u001B[43mstart_params\u001B[49m\u001B[38;5;241;43m=\u001B[39;49m\u001B[43mpacked\u001B[49m\u001B[43m,\u001B[49m\n\u001B[1;32m   2193\u001B[0m \u001B[43m                                    \u001B[49m\u001B[43mskip_hessian\u001B[49m\u001B[38;5;241;43m=\u001B[39;49m\u001B[38;5;28;43;01mTrue\u001B[39;49;00m\u001B[43m,\u001B[49m\n\u001B[1;32m   2194\u001B[0m \u001B[43m                                    \u001B[49m\u001B[43mmethod\u001B[49m\u001B[38;5;241;43m=\u001B[39;49m\u001B[43mmethod\u001B[49m\u001B[43m[\u001B[49m\u001B[43mj\u001B[49m\u001B[43m]\u001B[49m\u001B[43m,\u001B[49m\n\u001B[1;32m   2195\u001B[0m \u001B[43m                                    \u001B[49m\u001B[38;5;241;43m*\u001B[39;49m\u001B[38;5;241;43m*\u001B[39;49m\u001B[43mfit_kwargs\u001B[49m\u001B[43m)\u001B[49m\n\u001B[1;32m   2196\u001B[0m     \u001B[38;5;28;01mif\u001B[39;00m rslt\u001B[38;5;241m.\u001B[39mmle_retvals[\u001B[38;5;124m'\u001B[39m\u001B[38;5;124mconverged\u001B[39m\u001B[38;5;124m'\u001B[39m]:\n\u001B[1;32m   2197\u001B[0m         \u001B[38;5;28;01mbreak\u001B[39;00m\n",
      "File \u001B[0;32m~/anaconda3/envs/ForeCache-Master/lib/python3.9/site-packages/statsmodels/base/model.py:566\u001B[0m, in \u001B[0;36mLikelihoodModel.fit\u001B[0;34m(self, start_params, method, maxiter, full_output, disp, fargs, callback, retall, skip_hessian, **kwargs)\u001B[0m\n\u001B[1;32m    563\u001B[0m     \u001B[38;5;28;01mdel\u001B[39;00m kwargs[\u001B[38;5;124m\"\u001B[39m\u001B[38;5;124muse_t\u001B[39m\u001B[38;5;124m\"\u001B[39m]\n\u001B[1;32m    565\u001B[0m optimizer \u001B[38;5;241m=\u001B[39m Optimizer()\n\u001B[0;32m--> 566\u001B[0m xopt, retvals, optim_settings \u001B[38;5;241m=\u001B[39m \u001B[43moptimizer\u001B[49m\u001B[38;5;241;43m.\u001B[39;49m\u001B[43m_fit\u001B[49m\u001B[43m(\u001B[49m\u001B[43mf\u001B[49m\u001B[43m,\u001B[49m\u001B[43m \u001B[49m\u001B[43mscore\u001B[49m\u001B[43m,\u001B[49m\u001B[43m \u001B[49m\u001B[43mstart_params\u001B[49m\u001B[43m,\u001B[49m\n\u001B[1;32m    567\u001B[0m \u001B[43m                                               \u001B[49m\u001B[43mfargs\u001B[49m\u001B[43m,\u001B[49m\u001B[43m \u001B[49m\u001B[43mkwargs\u001B[49m\u001B[43m,\u001B[49m\n\u001B[1;32m    568\u001B[0m \u001B[43m                                               \u001B[49m\u001B[43mhessian\u001B[49m\u001B[38;5;241;43m=\u001B[39;49m\u001B[43mhess\u001B[49m\u001B[43m,\u001B[49m\n\u001B[1;32m    569\u001B[0m \u001B[43m                                               \u001B[49m\u001B[43mmethod\u001B[49m\u001B[38;5;241;43m=\u001B[39;49m\u001B[43mmethod\u001B[49m\u001B[43m,\u001B[49m\n\u001B[1;32m    570\u001B[0m \u001B[43m                                               \u001B[49m\u001B[43mdisp\u001B[49m\u001B[38;5;241;43m=\u001B[39;49m\u001B[43mdisp\u001B[49m\u001B[43m,\u001B[49m\n\u001B[1;32m    571\u001B[0m \u001B[43m                                               \u001B[49m\u001B[43mmaxiter\u001B[49m\u001B[38;5;241;43m=\u001B[39;49m\u001B[43mmaxiter\u001B[49m\u001B[43m,\u001B[49m\n\u001B[1;32m    572\u001B[0m \u001B[43m                                               \u001B[49m\u001B[43mcallback\u001B[49m\u001B[38;5;241;43m=\u001B[39;49m\u001B[43mcallback\u001B[49m\u001B[43m,\u001B[49m\n\u001B[1;32m    573\u001B[0m \u001B[43m                                               \u001B[49m\u001B[43mretall\u001B[49m\u001B[38;5;241;43m=\u001B[39;49m\u001B[43mretall\u001B[49m\u001B[43m,\u001B[49m\n\u001B[1;32m    574\u001B[0m \u001B[43m                                               \u001B[49m\u001B[43mfull_output\u001B[49m\u001B[38;5;241;43m=\u001B[39;49m\u001B[43mfull_output\u001B[49m\u001B[43m)\u001B[49m\n\u001B[1;32m    575\u001B[0m \u001B[38;5;66;03m# Restore cov_type, cov_kwds and use_t\u001B[39;00m\n\u001B[1;32m    576\u001B[0m optim_settings\u001B[38;5;241m.\u001B[39mupdate(kwds)\n",
      "File \u001B[0;32m~/anaconda3/envs/ForeCache-Master/lib/python3.9/site-packages/statsmodels/base/optimizer.py:242\u001B[0m, in \u001B[0;36mOptimizer._fit\u001B[0;34m(self, objective, gradient, start_params, fargs, kwargs, hessian, method, maxiter, full_output, disp, callback, retall)\u001B[0m\n\u001B[1;32m    239\u001B[0m     fit_funcs\u001B[38;5;241m.\u001B[39mupdate(extra_fit_funcs)\n\u001B[1;32m    241\u001B[0m func \u001B[38;5;241m=\u001B[39m fit_funcs[method]\n\u001B[0;32m--> 242\u001B[0m xopt, retvals \u001B[38;5;241m=\u001B[39m \u001B[43mfunc\u001B[49m\u001B[43m(\u001B[49m\u001B[43mobjective\u001B[49m\u001B[43m,\u001B[49m\u001B[43m \u001B[49m\u001B[43mgradient\u001B[49m\u001B[43m,\u001B[49m\u001B[43m \u001B[49m\u001B[43mstart_params\u001B[49m\u001B[43m,\u001B[49m\u001B[43m \u001B[49m\u001B[43mfargs\u001B[49m\u001B[43m,\u001B[49m\u001B[43m \u001B[49m\u001B[43mkwargs\u001B[49m\u001B[43m,\u001B[49m\n\u001B[1;32m    243\u001B[0m \u001B[43m                     \u001B[49m\u001B[43mdisp\u001B[49m\u001B[38;5;241;43m=\u001B[39;49m\u001B[43mdisp\u001B[49m\u001B[43m,\u001B[49m\u001B[43m \u001B[49m\u001B[43mmaxiter\u001B[49m\u001B[38;5;241;43m=\u001B[39;49m\u001B[43mmaxiter\u001B[49m\u001B[43m,\u001B[49m\u001B[43m \u001B[49m\u001B[43mcallback\u001B[49m\u001B[38;5;241;43m=\u001B[39;49m\u001B[43mcallback\u001B[49m\u001B[43m,\u001B[49m\n\u001B[1;32m    244\u001B[0m \u001B[43m                     \u001B[49m\u001B[43mretall\u001B[49m\u001B[38;5;241;43m=\u001B[39;49m\u001B[43mretall\u001B[49m\u001B[43m,\u001B[49m\u001B[43m \u001B[49m\u001B[43mfull_output\u001B[49m\u001B[38;5;241;43m=\u001B[39;49m\u001B[43mfull_output\u001B[49m\u001B[43m,\u001B[49m\n\u001B[1;32m    245\u001B[0m \u001B[43m                     \u001B[49m\u001B[43mhess\u001B[49m\u001B[38;5;241;43m=\u001B[39;49m\u001B[43mhessian\u001B[49m\u001B[43m)\u001B[49m\n\u001B[1;32m    247\u001B[0m optim_settings \u001B[38;5;241m=\u001B[39m {\u001B[38;5;124m'\u001B[39m\u001B[38;5;124moptimizer\u001B[39m\u001B[38;5;124m'\u001B[39m: method, \u001B[38;5;124m'\u001B[39m\u001B[38;5;124mstart_params\u001B[39m\u001B[38;5;124m'\u001B[39m: start_params,\n\u001B[1;32m    248\u001B[0m                   \u001B[38;5;124m'\u001B[39m\u001B[38;5;124mmaxiter\u001B[39m\u001B[38;5;124m'\u001B[39m: maxiter, \u001B[38;5;124m'\u001B[39m\u001B[38;5;124mfull_output\u001B[39m\u001B[38;5;124m'\u001B[39m: full_output,\n\u001B[1;32m    249\u001B[0m                   \u001B[38;5;124m'\u001B[39m\u001B[38;5;124mdisp\u001B[39m\u001B[38;5;124m'\u001B[39m: disp, \u001B[38;5;124m'\u001B[39m\u001B[38;5;124mfargs\u001B[39m\u001B[38;5;124m'\u001B[39m: fargs, \u001B[38;5;124m'\u001B[39m\u001B[38;5;124mcallback\u001B[39m\u001B[38;5;124m'\u001B[39m: callback,\n\u001B[1;32m    250\u001B[0m                   \u001B[38;5;124m'\u001B[39m\u001B[38;5;124mretall\u001B[39m\u001B[38;5;124m'\u001B[39m: retall, \u001B[38;5;124m\"\u001B[39m\u001B[38;5;124mextra_fit_funcs\u001B[39m\u001B[38;5;124m\"\u001B[39m: extra_fit_funcs}\n\u001B[1;32m    251\u001B[0m optim_settings\u001B[38;5;241m.\u001B[39mupdate(kwargs)\n",
      "File \u001B[0;32m~/anaconda3/envs/ForeCache-Master/lib/python3.9/site-packages/statsmodels/base/optimizer.py:659\u001B[0m, in \u001B[0;36m_fit_lbfgs\u001B[0;34m(f, score, start_params, fargs, kwargs, disp, maxiter, callback, retall, full_output, hess)\u001B[0m\n\u001B[1;32m    656\u001B[0m \u001B[38;5;28;01melif\u001B[39;00m approx_grad:\n\u001B[1;32m    657\u001B[0m     func \u001B[38;5;241m=\u001B[39m f\n\u001B[0;32m--> 659\u001B[0m retvals \u001B[38;5;241m=\u001B[39m \u001B[43moptimize\u001B[49m\u001B[38;5;241;43m.\u001B[39;49m\u001B[43mfmin_l_bfgs_b\u001B[49m\u001B[43m(\u001B[49m\u001B[43mfunc\u001B[49m\u001B[43m,\u001B[49m\u001B[43m \u001B[49m\u001B[43mstart_params\u001B[49m\u001B[43m,\u001B[49m\u001B[43m \u001B[49m\u001B[43mmaxiter\u001B[49m\u001B[38;5;241;43m=\u001B[39;49m\u001B[43mmaxiter\u001B[49m\u001B[43m,\u001B[49m\n\u001B[1;32m    660\u001B[0m \u001B[43m                                 \u001B[49m\u001B[43mcallback\u001B[49m\u001B[38;5;241;43m=\u001B[39;49m\u001B[43mcallback\u001B[49m\u001B[43m,\u001B[49m\u001B[43m \u001B[49m\u001B[43margs\u001B[49m\u001B[38;5;241;43m=\u001B[39;49m\u001B[43mfargs\u001B[49m\u001B[43m,\u001B[49m\n\u001B[1;32m    661\u001B[0m \u001B[43m                                 \u001B[49m\u001B[43mbounds\u001B[49m\u001B[38;5;241;43m=\u001B[39;49m\u001B[43mbounds\u001B[49m\u001B[43m,\u001B[49m\u001B[43m \u001B[49m\u001B[43mdisp\u001B[49m\u001B[38;5;241;43m=\u001B[39;49m\u001B[43mdisp\u001B[49m\u001B[43m,\u001B[49m\n\u001B[1;32m    662\u001B[0m \u001B[43m                                 \u001B[49m\u001B[38;5;241;43m*\u001B[39;49m\u001B[38;5;241;43m*\u001B[39;49m\u001B[43mextra_kwargs\u001B[49m\u001B[43m)\u001B[49m\n\u001B[1;32m    664\u001B[0m \u001B[38;5;28;01mif\u001B[39;00m full_output:\n\u001B[1;32m    665\u001B[0m     xopt, fopt, d \u001B[38;5;241m=\u001B[39m retvals\n",
      "File \u001B[0;32m~/anaconda3/envs/ForeCache-Master/lib/python3.9/site-packages/scipy/optimize/_lbfgsb_py.py:199\u001B[0m, in \u001B[0;36mfmin_l_bfgs_b\u001B[0;34m(func, x0, fprime, args, approx_grad, bounds, m, factr, pgtol, epsilon, iprint, maxfun, maxiter, disp, callback, maxls)\u001B[0m\n\u001B[1;32m    187\u001B[0m callback \u001B[38;5;241m=\u001B[39m _wrap_callback(callback)\n\u001B[1;32m    188\u001B[0m opts \u001B[38;5;241m=\u001B[39m {\u001B[38;5;124m'\u001B[39m\u001B[38;5;124mdisp\u001B[39m\u001B[38;5;124m'\u001B[39m: disp,\n\u001B[1;32m    189\u001B[0m         \u001B[38;5;124m'\u001B[39m\u001B[38;5;124miprint\u001B[39m\u001B[38;5;124m'\u001B[39m: iprint,\n\u001B[1;32m    190\u001B[0m         \u001B[38;5;124m'\u001B[39m\u001B[38;5;124mmaxcor\u001B[39m\u001B[38;5;124m'\u001B[39m: m,\n\u001B[0;32m   (...)\u001B[0m\n\u001B[1;32m    196\u001B[0m         \u001B[38;5;124m'\u001B[39m\u001B[38;5;124mcallback\u001B[39m\u001B[38;5;124m'\u001B[39m: callback,\n\u001B[1;32m    197\u001B[0m         \u001B[38;5;124m'\u001B[39m\u001B[38;5;124mmaxls\u001B[39m\u001B[38;5;124m'\u001B[39m: maxls}\n\u001B[0;32m--> 199\u001B[0m res \u001B[38;5;241m=\u001B[39m \u001B[43m_minimize_lbfgsb\u001B[49m\u001B[43m(\u001B[49m\u001B[43mfun\u001B[49m\u001B[43m,\u001B[49m\u001B[43m \u001B[49m\u001B[43mx0\u001B[49m\u001B[43m,\u001B[49m\u001B[43m \u001B[49m\u001B[43margs\u001B[49m\u001B[38;5;241;43m=\u001B[39;49m\u001B[43margs\u001B[49m\u001B[43m,\u001B[49m\u001B[43m \u001B[49m\u001B[43mjac\u001B[49m\u001B[38;5;241;43m=\u001B[39;49m\u001B[43mjac\u001B[49m\u001B[43m,\u001B[49m\u001B[43m \u001B[49m\u001B[43mbounds\u001B[49m\u001B[38;5;241;43m=\u001B[39;49m\u001B[43mbounds\u001B[49m\u001B[43m,\u001B[49m\n\u001B[1;32m    200\u001B[0m \u001B[43m                       \u001B[49m\u001B[38;5;241;43m*\u001B[39;49m\u001B[38;5;241;43m*\u001B[39;49m\u001B[43mopts\u001B[49m\u001B[43m)\u001B[49m\n\u001B[1;32m    201\u001B[0m d \u001B[38;5;241m=\u001B[39m {\u001B[38;5;124m'\u001B[39m\u001B[38;5;124mgrad\u001B[39m\u001B[38;5;124m'\u001B[39m: res[\u001B[38;5;124m'\u001B[39m\u001B[38;5;124mjac\u001B[39m\u001B[38;5;124m'\u001B[39m],\n\u001B[1;32m    202\u001B[0m      \u001B[38;5;124m'\u001B[39m\u001B[38;5;124mtask\u001B[39m\u001B[38;5;124m'\u001B[39m: res[\u001B[38;5;124m'\u001B[39m\u001B[38;5;124mmessage\u001B[39m\u001B[38;5;124m'\u001B[39m],\n\u001B[1;32m    203\u001B[0m      \u001B[38;5;124m'\u001B[39m\u001B[38;5;124mfuncalls\u001B[39m\u001B[38;5;124m'\u001B[39m: res[\u001B[38;5;124m'\u001B[39m\u001B[38;5;124mnfev\u001B[39m\u001B[38;5;124m'\u001B[39m],\n\u001B[1;32m    204\u001B[0m      \u001B[38;5;124m'\u001B[39m\u001B[38;5;124mnit\u001B[39m\u001B[38;5;124m'\u001B[39m: res[\u001B[38;5;124m'\u001B[39m\u001B[38;5;124mnit\u001B[39m\u001B[38;5;124m'\u001B[39m],\n\u001B[1;32m    205\u001B[0m      \u001B[38;5;124m'\u001B[39m\u001B[38;5;124mwarnflag\u001B[39m\u001B[38;5;124m'\u001B[39m: res[\u001B[38;5;124m'\u001B[39m\u001B[38;5;124mstatus\u001B[39m\u001B[38;5;124m'\u001B[39m]}\n\u001B[1;32m    206\u001B[0m f \u001B[38;5;241m=\u001B[39m res[\u001B[38;5;124m'\u001B[39m\u001B[38;5;124mfun\u001B[39m\u001B[38;5;124m'\u001B[39m]\n",
      "File \u001B[0;32m~/anaconda3/envs/ForeCache-Master/lib/python3.9/site-packages/scipy/optimize/_lbfgsb_py.py:307\u001B[0m, in \u001B[0;36m_minimize_lbfgsb\u001B[0;34m(fun, x0, args, jac, bounds, disp, maxcor, ftol, gtol, eps, maxfun, maxiter, iprint, callback, maxls, finite_diff_rel_step, **unknown_options)\u001B[0m\n\u001B[1;32m    304\u001B[0m     \u001B[38;5;28;01melse\u001B[39;00m:\n\u001B[1;32m    305\u001B[0m         iprint \u001B[38;5;241m=\u001B[39m disp\n\u001B[0;32m--> 307\u001B[0m sf \u001B[38;5;241m=\u001B[39m \u001B[43m_prepare_scalar_function\u001B[49m\u001B[43m(\u001B[49m\u001B[43mfun\u001B[49m\u001B[43m,\u001B[49m\u001B[43m \u001B[49m\u001B[43mx0\u001B[49m\u001B[43m,\u001B[49m\u001B[43m \u001B[49m\u001B[43mjac\u001B[49m\u001B[38;5;241;43m=\u001B[39;49m\u001B[43mjac\u001B[49m\u001B[43m,\u001B[49m\u001B[43m \u001B[49m\u001B[43margs\u001B[49m\u001B[38;5;241;43m=\u001B[39;49m\u001B[43margs\u001B[49m\u001B[43m,\u001B[49m\u001B[43m \u001B[49m\u001B[43mepsilon\u001B[49m\u001B[38;5;241;43m=\u001B[39;49m\u001B[43meps\u001B[49m\u001B[43m,\u001B[49m\n\u001B[1;32m    308\u001B[0m \u001B[43m                              \u001B[49m\u001B[43mbounds\u001B[49m\u001B[38;5;241;43m=\u001B[39;49m\u001B[43mnew_bounds\u001B[49m\u001B[43m,\u001B[49m\n\u001B[1;32m    309\u001B[0m \u001B[43m                              \u001B[49m\u001B[43mfinite_diff_rel_step\u001B[49m\u001B[38;5;241;43m=\u001B[39;49m\u001B[43mfinite_diff_rel_step\u001B[49m\u001B[43m)\u001B[49m\n\u001B[1;32m    311\u001B[0m func_and_grad \u001B[38;5;241m=\u001B[39m sf\u001B[38;5;241m.\u001B[39mfun_and_grad\n\u001B[1;32m    313\u001B[0m fortran_int \u001B[38;5;241m=\u001B[39m _lbfgsb\u001B[38;5;241m.\u001B[39mtypes\u001B[38;5;241m.\u001B[39mintvar\u001B[38;5;241m.\u001B[39mdtype\n",
      "File \u001B[0;32m~/anaconda3/envs/ForeCache-Master/lib/python3.9/site-packages/scipy/optimize/_optimize.py:383\u001B[0m, in \u001B[0;36m_prepare_scalar_function\u001B[0;34m(fun, x0, jac, args, bounds, epsilon, finite_diff_rel_step, hess)\u001B[0m\n\u001B[1;32m    379\u001B[0m     bounds \u001B[38;5;241m=\u001B[39m (\u001B[38;5;241m-\u001B[39mnp\u001B[38;5;241m.\u001B[39minf, np\u001B[38;5;241m.\u001B[39minf)\n\u001B[1;32m    381\u001B[0m \u001B[38;5;66;03m# ScalarFunction caches. Reuse of fun(x) during grad\u001B[39;00m\n\u001B[1;32m    382\u001B[0m \u001B[38;5;66;03m# calculation reduces overall function evaluations.\u001B[39;00m\n\u001B[0;32m--> 383\u001B[0m sf \u001B[38;5;241m=\u001B[39m \u001B[43mScalarFunction\u001B[49m\u001B[43m(\u001B[49m\u001B[43mfun\u001B[49m\u001B[43m,\u001B[49m\u001B[43m \u001B[49m\u001B[43mx0\u001B[49m\u001B[43m,\u001B[49m\u001B[43m \u001B[49m\u001B[43margs\u001B[49m\u001B[43m,\u001B[49m\u001B[43m \u001B[49m\u001B[43mgrad\u001B[49m\u001B[43m,\u001B[49m\u001B[43m \u001B[49m\u001B[43mhess\u001B[49m\u001B[43m,\u001B[49m\n\u001B[1;32m    384\u001B[0m \u001B[43m                    \u001B[49m\u001B[43mfinite_diff_rel_step\u001B[49m\u001B[43m,\u001B[49m\u001B[43m \u001B[49m\u001B[43mbounds\u001B[49m\u001B[43m,\u001B[49m\u001B[43m \u001B[49m\u001B[43mepsilon\u001B[49m\u001B[38;5;241;43m=\u001B[39;49m\u001B[43mepsilon\u001B[49m\u001B[43m)\u001B[49m\n\u001B[1;32m    386\u001B[0m \u001B[38;5;28;01mreturn\u001B[39;00m sf\n",
      "File \u001B[0;32m~/anaconda3/envs/ForeCache-Master/lib/python3.9/site-packages/scipy/optimize/_differentiable_functions.py:158\u001B[0m, in \u001B[0;36mScalarFunction.__init__\u001B[0;34m(self, fun, x0, args, grad, hess, finite_diff_rel_step, finite_diff_bounds, epsilon)\u001B[0m\n\u001B[1;32m    155\u001B[0m     \u001B[38;5;28mself\u001B[39m\u001B[38;5;241m.\u001B[39mf \u001B[38;5;241m=\u001B[39m fun_wrapped(\u001B[38;5;28mself\u001B[39m\u001B[38;5;241m.\u001B[39mx)\n\u001B[1;32m    157\u001B[0m \u001B[38;5;28mself\u001B[39m\u001B[38;5;241m.\u001B[39m_update_fun_impl \u001B[38;5;241m=\u001B[39m update_fun\n\u001B[0;32m--> 158\u001B[0m \u001B[38;5;28;43mself\u001B[39;49m\u001B[38;5;241;43m.\u001B[39;49m\u001B[43m_update_fun\u001B[49m\u001B[43m(\u001B[49m\u001B[43m)\u001B[49m\n\u001B[1;32m    160\u001B[0m \u001B[38;5;66;03m# Gradient evaluation\u001B[39;00m\n\u001B[1;32m    161\u001B[0m \u001B[38;5;28;01mif\u001B[39;00m \u001B[38;5;28mcallable\u001B[39m(grad):\n",
      "File \u001B[0;32m~/anaconda3/envs/ForeCache-Master/lib/python3.9/site-packages/scipy/optimize/_differentiable_functions.py:251\u001B[0m, in \u001B[0;36mScalarFunction._update_fun\u001B[0;34m(self)\u001B[0m\n\u001B[1;32m    249\u001B[0m \u001B[38;5;28;01mdef\u001B[39;00m \u001B[38;5;21m_update_fun\u001B[39m(\u001B[38;5;28mself\u001B[39m):\n\u001B[1;32m    250\u001B[0m     \u001B[38;5;28;01mif\u001B[39;00m \u001B[38;5;129;01mnot\u001B[39;00m \u001B[38;5;28mself\u001B[39m\u001B[38;5;241m.\u001B[39mf_updated:\n\u001B[0;32m--> 251\u001B[0m         \u001B[38;5;28;43mself\u001B[39;49m\u001B[38;5;241;43m.\u001B[39;49m\u001B[43m_update_fun_impl\u001B[49m\u001B[43m(\u001B[49m\u001B[43m)\u001B[49m\n\u001B[1;32m    252\u001B[0m         \u001B[38;5;28mself\u001B[39m\u001B[38;5;241m.\u001B[39mf_updated \u001B[38;5;241m=\u001B[39m \u001B[38;5;28;01mTrue\u001B[39;00m\n",
      "File \u001B[0;32m~/anaconda3/envs/ForeCache-Master/lib/python3.9/site-packages/scipy/optimize/_differentiable_functions.py:155\u001B[0m, in \u001B[0;36mScalarFunction.__init__.<locals>.update_fun\u001B[0;34m()\u001B[0m\n\u001B[1;32m    154\u001B[0m \u001B[38;5;28;01mdef\u001B[39;00m \u001B[38;5;21mupdate_fun\u001B[39m():\n\u001B[0;32m--> 155\u001B[0m     \u001B[38;5;28mself\u001B[39m\u001B[38;5;241m.\u001B[39mf \u001B[38;5;241m=\u001B[39m \u001B[43mfun_wrapped\u001B[49m\u001B[43m(\u001B[49m\u001B[38;5;28;43mself\u001B[39;49m\u001B[38;5;241;43m.\u001B[39;49m\u001B[43mx\u001B[49m\u001B[43m)\u001B[49m\n",
      "File \u001B[0;32m~/anaconda3/envs/ForeCache-Master/lib/python3.9/site-packages/scipy/optimize/_differentiable_functions.py:137\u001B[0m, in \u001B[0;36mScalarFunction.__init__.<locals>.fun_wrapped\u001B[0;34m(x)\u001B[0m\n\u001B[1;32m    133\u001B[0m \u001B[38;5;28mself\u001B[39m\u001B[38;5;241m.\u001B[39mnfev \u001B[38;5;241m+\u001B[39m\u001B[38;5;241m=\u001B[39m \u001B[38;5;241m1\u001B[39m\n\u001B[1;32m    134\u001B[0m \u001B[38;5;66;03m# Send a copy because the user may overwrite it.\u001B[39;00m\n\u001B[1;32m    135\u001B[0m \u001B[38;5;66;03m# Overwriting results in undefined behaviour because\u001B[39;00m\n\u001B[1;32m    136\u001B[0m \u001B[38;5;66;03m# fun(self.x) will change self.x, with the two no longer linked.\u001B[39;00m\n\u001B[0;32m--> 137\u001B[0m fx \u001B[38;5;241m=\u001B[39m \u001B[43mfun\u001B[49m\u001B[43m(\u001B[49m\u001B[43mnp\u001B[49m\u001B[38;5;241;43m.\u001B[39;49m\u001B[43mcopy\u001B[49m\u001B[43m(\u001B[49m\u001B[43mx\u001B[49m\u001B[43m)\u001B[49m\u001B[43m,\u001B[49m\u001B[43m \u001B[49m\u001B[38;5;241;43m*\u001B[39;49m\u001B[43margs\u001B[49m\u001B[43m)\u001B[49m\n\u001B[1;32m    138\u001B[0m \u001B[38;5;66;03m# Make sure the function returns a true scalar\u001B[39;00m\n\u001B[1;32m    139\u001B[0m \u001B[38;5;28;01mif\u001B[39;00m \u001B[38;5;129;01mnot\u001B[39;00m np\u001B[38;5;241m.\u001B[39misscalar(fx):\n",
      "File \u001B[0;32m~/anaconda3/envs/ForeCache-Master/lib/python3.9/site-packages/statsmodels/base/model.py:534\u001B[0m, in \u001B[0;36mLikelihoodModel.fit.<locals>.f\u001B[0;34m(params, *args)\u001B[0m\n\u001B[1;32m    533\u001B[0m \u001B[38;5;28;01mdef\u001B[39;00m \u001B[38;5;21mf\u001B[39m(params, \u001B[38;5;241m*\u001B[39margs):\n\u001B[0;32m--> 534\u001B[0m     \u001B[38;5;28;01mreturn\u001B[39;00m \u001B[38;5;241m-\u001B[39m\u001B[38;5;28;43mself\u001B[39;49m\u001B[38;5;241;43m.\u001B[39;49m\u001B[43mloglike\u001B[49m\u001B[43m(\u001B[49m\u001B[43mparams\u001B[49m\u001B[43m,\u001B[49m\u001B[43m \u001B[49m\u001B[38;5;241;43m*\u001B[39;49m\u001B[43margs\u001B[49m\u001B[43m)\u001B[49m \u001B[38;5;241m/\u001B[39m nobs\n",
      "File \u001B[0;32m~/anaconda3/envs/ForeCache-Master/lib/python3.9/site-packages/statsmodels/regression/mixed_linear_model.py:1499\u001B[0m, in \u001B[0;36mMixedLM.loglike\u001B[0;34m(self, params, profile_fe)\u001B[0m\n\u001B[1;32m   1497\u001B[0m \u001B[38;5;66;03m# Move to the profile set\u001B[39;00m\n\u001B[1;32m   1498\u001B[0m \u001B[38;5;28;01mif\u001B[39;00m profile_fe:\n\u001B[0;32m-> 1499\u001B[0m     fe_params, sing \u001B[38;5;241m=\u001B[39m \u001B[38;5;28;43mself\u001B[39;49m\u001B[38;5;241;43m.\u001B[39;49m\u001B[43mget_fe_params\u001B[49m\u001B[43m(\u001B[49m\u001B[43mcov_re\u001B[49m\u001B[43m,\u001B[49m\u001B[43m \u001B[49m\u001B[43mvcomp\u001B[49m\u001B[43m)\u001B[49m\n\u001B[1;32m   1500\u001B[0m     \u001B[38;5;28;01mif\u001B[39;00m sing:\n\u001B[1;32m   1501\u001B[0m         \u001B[38;5;28mself\u001B[39m\u001B[38;5;241m.\u001B[39m_cov_sing \u001B[38;5;241m+\u001B[39m\u001B[38;5;241m=\u001B[39m \u001B[38;5;241m1\u001B[39m\n",
      "File \u001B[0;32m~/anaconda3/envs/ForeCache-Master/lib/python3.9/site-packages/statsmodels/regression/mixed_linear_model.py:1346\u001B[0m, in \u001B[0;36mMixedLM.get_fe_params\u001B[0;34m(self, cov_re, vcomp, tol)\u001B[0m\n\u001B[1;32m   1344\u001B[0m     fe_params \u001B[38;5;241m=\u001B[39m np\u001B[38;5;241m.\u001B[39mdot(np\u001B[38;5;241m.\u001B[39mlinalg\u001B[38;5;241m.\u001B[39mpinv(xtxy[:, \u001B[38;5;241m0\u001B[39m:\u001B[38;5;241m-\u001B[39m\u001B[38;5;241m1\u001B[39m]), xtxy[:, \u001B[38;5;241m-\u001B[39m\u001B[38;5;241m1\u001B[39m])\n\u001B[1;32m   1345\u001B[0m \u001B[38;5;28;01melse\u001B[39;00m:\n\u001B[0;32m-> 1346\u001B[0m     fe_params \u001B[38;5;241m=\u001B[39m \u001B[43mnp\u001B[49m\u001B[38;5;241;43m.\u001B[39;49m\u001B[43mlinalg\u001B[49m\u001B[38;5;241;43m.\u001B[39;49m\u001B[43msolve\u001B[49m\u001B[43m(\u001B[49m\u001B[43mxtxy\u001B[49m\u001B[43m[\u001B[49m\u001B[43m:\u001B[49m\u001B[43m,\u001B[49m\u001B[43m \u001B[49m\u001B[38;5;241;43m0\u001B[39;49m\u001B[43m:\u001B[49m\u001B[38;5;241;43m-\u001B[39;49m\u001B[38;5;241;43m1\u001B[39;49m\u001B[43m]\u001B[49m\u001B[43m,\u001B[49m\u001B[43m \u001B[49m\u001B[43mxtxy\u001B[49m\u001B[43m[\u001B[49m\u001B[43m:\u001B[49m\u001B[43m,\u001B[49m\u001B[43m \u001B[49m\u001B[38;5;241;43m-\u001B[39;49m\u001B[38;5;241;43m1\u001B[39;49m\u001B[43m]\u001B[49m\u001B[43m)\u001B[49m\n\u001B[1;32m   1348\u001B[0m \u001B[38;5;28;01mreturn\u001B[39;00m fe_params, sing\n",
      "File \u001B[0;32m~/anaconda3/envs/ForeCache-Master/lib/python3.9/site-packages/numpy/linalg/linalg.py:409\u001B[0m, in \u001B[0;36msolve\u001B[0;34m(a, b)\u001B[0m\n\u001B[1;32m    407\u001B[0m signature \u001B[38;5;241m=\u001B[39m \u001B[38;5;124m'\u001B[39m\u001B[38;5;124mDD->D\u001B[39m\u001B[38;5;124m'\u001B[39m \u001B[38;5;28;01mif\u001B[39;00m isComplexType(t) \u001B[38;5;28;01melse\u001B[39;00m \u001B[38;5;124m'\u001B[39m\u001B[38;5;124mdd->d\u001B[39m\u001B[38;5;124m'\u001B[39m\n\u001B[1;32m    408\u001B[0m extobj \u001B[38;5;241m=\u001B[39m get_linalg_error_extobj(_raise_linalgerror_singular)\n\u001B[0;32m--> 409\u001B[0m r \u001B[38;5;241m=\u001B[39m \u001B[43mgufunc\u001B[49m\u001B[43m(\u001B[49m\u001B[43ma\u001B[49m\u001B[43m,\u001B[49m\u001B[43m \u001B[49m\u001B[43mb\u001B[49m\u001B[43m,\u001B[49m\u001B[43m \u001B[49m\u001B[43msignature\u001B[49m\u001B[38;5;241;43m=\u001B[39;49m\u001B[43msignature\u001B[49m\u001B[43m,\u001B[49m\u001B[43m \u001B[49m\u001B[43mextobj\u001B[49m\u001B[38;5;241;43m=\u001B[39;49m\u001B[43mextobj\u001B[49m\u001B[43m)\u001B[49m\n\u001B[1;32m    411\u001B[0m \u001B[38;5;28;01mreturn\u001B[39;00m wrap(r\u001B[38;5;241m.\u001B[39mastype(result_t, copy\u001B[38;5;241m=\u001B[39m\u001B[38;5;28;01mFalse\u001B[39;00m))\n",
      "File \u001B[0;32m~/anaconda3/envs/ForeCache-Master/lib/python3.9/site-packages/numpy/linalg/linalg.py:112\u001B[0m, in \u001B[0;36m_raise_linalgerror_singular\u001B[0;34m(err, flag)\u001B[0m\n\u001B[1;32m    111\u001B[0m \u001B[38;5;28;01mdef\u001B[39;00m \u001B[38;5;21m_raise_linalgerror_singular\u001B[39m(err, flag):\n\u001B[0;32m--> 112\u001B[0m     \u001B[38;5;28;01mraise\u001B[39;00m LinAlgError(\u001B[38;5;124m\"\u001B[39m\u001B[38;5;124mSingular matrix\u001B[39m\u001B[38;5;124m\"\u001B[39m)\n",
      "\u001B[0;31mLinAlgError\u001B[0m: Singular matrix"
     ]
    }
   ],
   "source": [
    "# # # Calculate mean and standard deviation of the column\n",
    "# mean_probab = df['probab'].mean()\n",
    "# std_probab = df['probab'].std()\n",
    "#\n",
    "# #Normalize the column\n",
    "# df['probab_normalized'] = (df['probab'] - mean_probab) / std_probab\n",
    "import statsmodels.api as sm\n",
    "import statsmodels.formula.api as smf\n",
    "\n",
    "md = smf.mixedlm(\"probabsame ~ minutessame + Trial \", df, groups=df['u'])\n",
    "mdf = md.fit(method=[\"lbfgs\"])\n",
    "print(mdf.summary())"
   ],
   "metadata": {
    "collapsed": false
   }
  },
  {
   "cell_type": "code",
   "execution_count": 742,
   "outputs": [
    {
     "data": {
      "text/plain": "<Figure size 800x600 with 1 Axes>",
      "image/png": "[encoded data removed]"
     },
     "metadata": {},
     "output_type": "display_data"
    },
    {
     "name": "stdout",
     "output_type": "stream",
     "text": [
      "Shapiro-Wilk Test Statistic: 0.9723801612854004\n",
      "P-value: 0.11396561563014984\n"
     ]
    }
   ],
   "source": [
    "import scipy.stats as stats\n",
    "import matplotlib.pyplot as plt\n",
    "\n",
    "# Calculate Shapiro-Wilk test statistic and p-value\n",
    "shapiro_statistic, shapiro_pvalue = stats.shapiro(mdf.resid)\n",
    "\n",
    "# Plot Q-Q plot of the residuals\n",
    "plt.figure(figsize=(8, 6))\n",
    "stats.probplot(mdf.resid, dist=\"norm\", plot=plt)\n",
    "plt.title('Q-Q plot of Residuals')\n",
    "plt.xlabel('Theoretical Quantiles')\n",
    "plt.ylabel('Sample Quantiles')\n",
    "plt.grid(True)\n",
    "plt.show()\n",
    "\n",
    "# Print Shapiro-Wilk test statistic and p-value\n",
    "print(f\"Shapiro-Wilk Test Statistic: {shapiro_statistic}\")\n",
    "print(f\"P-value: {shapiro_pvalue}\")\n"
   ],
   "metadata": {
    "collapsed": false
   }
  },
  {
   "cell_type": "markdown",
   "source": [
    "Group Var is Random effects Intercept i.e User\n",
    "\n",
    "\n",
    "Significance of Predictors:\n",
    "\n",
    "The intercept term is highly significant (p < 0.001), indicating that when all predictors are zero, the expected value of the dependent variable probab is significantly different from zero.\n",
    "The coefficient for the predictor Trial is not significant (p = 0.454), suggesting that there is no significant linear relationship between the predictor Trial and the dependent variable probab.\n",
    "Variance Components:\n",
    "\n",
    "The variance component associated with the random effect (Group Var) is estimated to be 76.229. This indicates the variability in the dependent variable probab between different groups or clusters in the data.\n",
    "Model Fit:\n",
    "\n",
    "The model seems to fit the data reasonably well, as indicated by the converged status and the negative log-likelihood value.\n",
    "The scale parameter (6.3556) provides information about the dispersion or variability of the dependent variable probab.\n",
    "Trial Coefficient:\n",
    "\n",
    "Although the coefficient for the Trial predictor is not significant, its positive value (0.444) suggests a slight positive trend in the dependent variable probab as Trial increases, even though this trend is not statistically significant.\n",
    "Group Structure:\n",
    "\n",
    "The data contain 36 groups or clusters, each with a minimum group size of 2 and a maximum group size of 2. The mean group size is also 2.0.\n",
    "In summary, the significant intercept indicates that the dependent variable has a non-zero mean when all predictors are zero. However, the lack of significance for the Trial predictor suggests that it may not have a significant linear relationship with the dependent variable. The large variance component for the random effect indicates substantial variability between groups, which should be considered when interpreting the results. Additionally, the insignificant trial coefficient suggests that any observed trends in the dependent variable over trials may not be reliably captured by the linear model."
   ],
   "metadata": {
    "collapsed": false
   }
  },
  {
   "cell_type": "code",
   "execution_count": 74,
   "outputs": [
    {
     "data": {
      "text/plain": "<Figure size 1000x600 with 1 Axes>",
      "image/png": "[encoded data removed]"
     },
     "metadata": {},
     "output_type": "display_data"
    }
   ],
   "source": [
    "import matplotlib.pyplot as plt\n",
    "\n",
    "# Create a boxplot for each Trail value\n",
    "plt.figure(figsize=(10, 6))\n",
    "\n",
    "# Plot boxplots of observed probab values for each Trail value\n",
    "plt.boxplot([df[df[\"Trial\"] == trail][\"probab\"] for trail in df[\"Trial\"].unique()], positions=np.arange(1, len(df[\"Trial\"].unique()) + 1), labels=df[\"Trial\"].unique())\n",
    "\n",
    "# Overlay predicted values as points\n",
    "for trail in df[\"Trial\"].unique():\n",
    "    trail_data = df[df[\"Trial\"] == trail]\n",
    "\n",
    "    # Predict the normalized probab values using the fitted model\n",
    "    predicted_values = mdf.predict(trail_data[\"Trial\"])\n",
    "\n",
    "    # Inverse normalize the predicted values\n",
    "    predicted_values = predicted_values\n",
    "\n",
    "    # Plot predicted values as points\n",
    "    plt.plot(np.full(len(trail_data), np.where(df[\"Trial\"].unique() == trail)[0][0] + 1), predicted_values, 'ro', alpha=0.5)\n",
    "\n",
    "# Add labels and title\n",
    "plt.xlabel(\"Trial\")\n",
    "plt.ylabel(\"Probability\")\n",
    "plt.title(\"Boxplot of Probability for Each Trial\")\n",
    "\n",
    "# Show plot\n",
    "plt.show()\n"
   ],
   "metadata": {
    "collapsed": false,
    "ExecuteTime": {
     "end_time": "2024-02-16T23:28:41.610720Z",
     "start_time": "2024-02-16T23:28:41.526377Z"
    }
   }
  },
  {
   "cell_type": "code",
   "execution_count": 48,
   "outputs": [],
   "source": [],
   "metadata": {
    "collapsed": false,
    "ExecuteTime": {
     "end_time": "2024-02-16T23:26:50.067684Z",
     "start_time": "2024-02-16T23:26:50.062278Z"
    }
   }
  },
  {
   "cell_type": "code",
   "execution_count": null,
   "outputs": [],
   "source": [],
   "metadata": {
    "collapsed": false
   }
  }
 ],
 "metadata": {
  "kernelspec": {
   "display_name": "Python 3",
   "language": "python",
   "name": "python3"
  },
  "language_info": {
   "codemirror_mode": {
    "name": "ipython",
    "version": 2
   },
   "file_extension": ".py",
   "mimetype": "text/x-python",
   "name": "python",
   "nbconvert_exporter": "python",
   "pygments_lexer": "ipython2",
   "version": "2.7.6"
  }
 },
 "nbformat": 4,
 "nbformat_minor": 0
}
