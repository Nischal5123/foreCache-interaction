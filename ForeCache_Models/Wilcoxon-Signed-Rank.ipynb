{
 "cells": [
  {
   "cell_type": "code",
   "execution_count": 104,
   "metadata": {
    "collapsed": true,
    "ExecuteTime": {
     "end_time": "2023-11-22T23:00:20.022945Z",
     "start_time": "2023-11-22T23:00:20.016376Z"
    }
   },
   "outputs": [],
   "source": [
    "import numpy as np\n",
    "import glob\n",
    "import pandas as pd\n",
    "pd.options.mode.chained_assignment = None  # default='warn'\n",
    "from scipy.stats import wilcoxon"
   ]
  },
  {
   "cell_type": "code",
   "execution_count": 105,
   "outputs": [],
   "source": [
    "fileNames2D = np.sort(glob.glob(\"data/NDSI-2D/U_*\"))"
   ],
   "metadata": {
    "collapsed": false,
    "pycharm": {
     "name": "#%%\n"
    },
    "ExecuteTime": {
     "end_time": "2023-11-22T23:00:20.407265Z",
     "start_time": "2023-11-22T23:00:20.402799Z"
    }
   }
  },
  {
   "cell_type": "code",
   "execution_count": 106,
   "outputs": [],
   "source": [
    "def get_probabilities(dataframe,current_phase):\n",
    "    map = {'Sensemaking': 0, 'Foraging': 0, 'Navigation': 0}\n",
    "    for state in dataframe['State']:\n",
    "        map[state] += 1\n",
    "    return map[current_phase] / (map['Foraging'] + map['Sensemaking'] + map['Navigation'])\n"
   ],
   "metadata": {
    "collapsed": false,
    "ExecuteTime": {
     "end_time": "2023-11-22T23:00:20.823687Z",
     "start_time": "2023-11-22T23:00:20.819164Z"
    }
   }
  },
  {
   "cell_type": "code",
   "execution_count": 107,
   "outputs": [],
   "source": [
    "class StationarityTests:\n",
    "    def __init__(self, significance=.05):\n",
    "        self.SignificanceLevel = significance\n",
    "        self.pValue = None\n",
    "        self.isStationary = None\n",
    "        self.trend= None\n",
    "\n",
    "    def Wilcoxon_Test(self,series_X, series_Y):\n",
    "\n",
    "        return wilcoxon(series_X, series_Y)\n"
   ],
   "metadata": {
    "collapsed": false,
    "pycharm": {
     "name": "#%%\n"
    },
    "ExecuteTime": {
     "end_time": "2023-11-22T23:00:21.363872Z",
     "start_time": "2023-11-22T23:00:21.360026Z"
    }
   }
  },
  {
   "cell_type": "code",
   "execution_count": 108,
   "outputs": [
    {
     "name": "stdout",
     "output_type": "stream",
     "text": [
      "\n",
      "Processing test for state: Foraging\n",
      "WilcoxonResult(statistic=82.0, pvalue=0.6008710115741303)\n",
      "State: Foraging Users are Non-stationary False\n",
      "\n",
      "Processing test for state: Navigation\n",
      "WilcoxonResult(statistic=28.0, pvalue=0.002712249755859375)\n",
      "State: Navigation Users are Non-stationary True\n",
      "\n",
      "Processing test for state: Sensemaking\n",
      "WilcoxonResult(statistic=45.0, pvalue=0.023950576782226562)\n",
      "State: Sensemaking Users are Non-stationary True\n"
     ]
    },
    {
     "name": "stderr",
     "output_type": "stream",
     "text": [
      "/var/folders/w6/jn7_623d6d96165_8x9l_vqh0000gn/T/ipykernel_15554/1595532937.py:32: FutureWarning: The behavior of DataFrame concatenation with empty or all-NA entries is deprecated. In a future version, this will no longer exclude empty or all-NA columns when determining the result dtypes. To retain the old behavior, exclude the relevant entries before the concat operation.\n",
      "  test_dfs = pd.concat([test_dfs, user_df], ignore_index=True)\n",
      "/Users/aryal/anaconda3/envs/ForeCache-Master/lib/python3.9/site-packages/scipy/stats/_morestats.py:4088: UserWarning: Exact p-value calculation does not work if there are zeros. Switching to normal approximation.\n",
      "  warnings.warn(\"Exact p-value calculation does not work if there are \"\n",
      "/var/folders/w6/jn7_623d6d96165_8x9l_vqh0000gn/T/ipykernel_15554/1595532937.py:32: FutureWarning: The behavior of DataFrame concatenation with empty or all-NA entries is deprecated. In a future version, this will no longer exclude empty or all-NA columns when determining the result dtypes. To retain the old behavior, exclude the relevant entries before the concat operation.\n",
      "  test_dfs = pd.concat([test_dfs, user_df], ignore_index=True)\n",
      "/var/folders/w6/jn7_623d6d96165_8x9l_vqh0000gn/T/ipykernel_15554/1595532937.py:32: FutureWarning: The behavior of DataFrame concatenation with empty or all-NA entries is deprecated. In a future version, this will no longer exclude empty or all-NA columns when determining the result dtypes. To retain the old behavior, exclude the relevant entries before the concat operation.\n",
      "  test_dfs = pd.concat([test_dfs, user_df], ignore_index=True)\n"
     ]
    }
   ],
   "source": [
    "\n",
    "all_pvalue=[]\n",
    "for state in ['Foraging','Navigation','Sensemaking']:\n",
    "    print(f\"\\nProcessing test for state: {state}\")\n",
    "     # Create an empty DataFrame to store test data\n",
    "    test_dfs = pd.DataFrame(columns=['User', 'First_Half', 'Second_Half'])\n",
    "    # Iterate through file names\n",
    "    for i, u in enumerate(fileNames2D):\n",
    "        # Read CSV file\n",
    "        df = pd.read_csv(u)\n",
    "\n",
    "        # Extract user information from file path\n",
    "        u = u.lstrip('data/NDSI-2D\\\\')\n",
    "        u = u.rstrip('.csv')\n",
    "\n",
    "        #print(f\"\\nProcessing data for user: {u}\")\n",
    "\n",
    "        # Split the DataFrame into two halves\n",
    "        mid = round(len(df) / 2)\n",
    "        slice1 = df[:mid].reset_index(drop=True)\n",
    "        slice2 = df[mid:].reset_index(drop=True)\n",
    "\n",
    "        # Calculate Navigation probabilities for each half\n",
    "        probab_1 = get_probabilities(slice1,state)\n",
    "        probab_2 = get_probabilities(slice2,state)\n",
    "\n",
    "        #print(f\"Probabilities for {u} - First Half: {probab_1}, Second Half: {probab_2}\")\n",
    "\n",
    "        # Create a DataFrame with user, first_half, and second_half probabilities\n",
    "        user_df = pd.DataFrame({'User': [u], 'First_Half': [probab_1], 'Second_Half': [probab_2]})\n",
    "\n",
    "        # Concatenate the result to the test_dfs DataFrame for all users\n",
    "        test_dfs = pd.concat([test_dfs, user_df], ignore_index=True)\n",
    "\n",
    "    # Perform Wilcoxon signed-rank test on the probabilities of the two halves\n",
    "    stats_test = StationarityTests()\n",
    "    result = stats_test.Wilcoxon_Test(test_dfs['First_Half'], test_dfs['Second_Half'])\n",
    "    print(result)\n",
    "    del test_dfs\n",
    "\n",
    "    print(f\"State: {state} Users are Non-stationary {result.pvalue<0.05}\")\n",
    "    all_pvalue.append(result.pvalue)\n"
   ],
   "metadata": {
    "collapsed": false,
    "ExecuteTime": {
     "end_time": "2023-11-22T23:00:22.116441Z",
     "start_time": "2023-11-22T23:00:22.037545Z"
    }
   }
  },
  {
   "cell_type": "code",
   "execution_count": 111,
   "outputs": [
    {
     "data": {
      "text/plain": "array([0.60087101, 0.00813675, 0.03592587])"
     },
     "execution_count": 111,
     "metadata": {},
     "output_type": "execute_result"
    }
   ],
   "source": [
    "from scipy import stats\n",
    "stats.false_discovery_control(all_pvalue,method='bh')"
   ],
   "metadata": {
    "collapsed": false,
    "ExecuteTime": {
     "end_time": "2023-11-22T23:02:23.083645Z",
     "start_time": "2023-11-22T23:02:23.081232Z"
    }
   }
  },
  {
   "cell_type": "code",
   "execution_count": 112,
   "outputs": [
    {
     "data": {
      "text/plain": "(array([False,  True, False]),\n array([1.        , 0.00813675, 0.07185173]),\n 0.016952427508441503,\n 0.016666666666666666)"
     },
     "execution_count": 112,
     "metadata": {},
     "output_type": "execute_result"
    }
   ],
   "source": [
    "from statsmodels.stats.multitest import multipletests\n",
    "multipletests(all_pvalue,alpha=0.05,method='bonferroni')"
   ],
   "metadata": {
    "collapsed": false,
    "ExecuteTime": {
     "end_time": "2023-11-29T22:22:39.799637Z",
     "start_time": "2023-11-29T22:22:39.785933Z"
    }
   }
  },
  {
   "cell_type": "code",
   "execution_count": null,
   "outputs": [],
   "source": [],
   "metadata": {
    "collapsed": false
   }
  }
 ],
 "metadata": {
  "kernelspec": {
   "display_name": "Python 3",
   "language": "python",
   "name": "python3"
  },
  "language_info": {
   "codemirror_mode": {
    "name": "ipython",
    "version": 2
   },
   "file_extension": ".py",
   "mimetype": "text/x-python",
   "name": "python",
   "nbconvert_exporter": "python",
   "pygments_lexer": "ipython2",
   "version": "2.7.6"
  }
 },
 "nbformat": 4,
 "nbformat_minor": 0
}
