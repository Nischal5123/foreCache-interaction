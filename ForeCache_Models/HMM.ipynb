{
 "nbformat": 4,
 "nbformat_minor": 0,
 "metadata": {
  "colab": {
   "provenance": []
  },
  "kernelspec": {
   "name": "python3",
   "language": "python",
   "display_name": "Python 3 (ipykernel)"
  },
  "language_info": {
   "name": "python"
  }
 },
 "cells": [
  {
   "cell_type": "code",
   "execution_count": 51,
   "metadata": {
    "id": "S13shOgQl-zP",
    "colab": {
     "base_uri": "https://localhost:8080/"
    },
    "outputId": "a5a0086a-0a0d-4f39-b75b-dbb74c7397cf"
   },
   "outputs": [
    {
     "output_type": "stream",
     "name": "stdout",
     "text": [
      "[0 1 3 4 5]\n"
     ]
    }
   ],
   "source": [
    "import ast\n",
    "from sklearn.preprocessing import LabelEncoder\n",
    "\n",
    "file = open(\"example_data.csv\", \"r\")\n",
    "all_attributes = []\n",
    "all_actions = set()\n",
    "\n",
    "data_dataframe = []\n",
    "\n",
    "for line in file:\n",
    "  # print(line)\n",
    "  parts = line.split(\",\")\n",
    "  parts[1] = parts[1].replace(\";\", \",\")\n",
    "  all_actions.add(int(parts[0]))\n",
    "  # print(parts[1])\n",
    "  list_part = ast.literal_eval(parts[1])\n",
    "  # print(list_part)\n",
    "  for attrs in list_part:\n",
    "    all_attributes.append(attrs)\n",
    "  if len(list_part) == 0:\n",
    "    continue\n",
    "  data_dataframe.append([int(parts[0]), list_part])\n",
    "\n",
    "unique_attributes = set(all_attributes)\n",
    "# print(unique_attributes)\n",
    "# Encode the actions and attributes\n",
    "attribute_encoder = LabelEncoder().fit(list(unique_attributes))\n",
    "# print(attribute_encoder.classes_)\n",
    "\n",
    "action_encoder = LabelEncoder().fit(list(all_actions))\n",
    "print(action_encoder.classes_)"
   ]
  },
  {
   "cell_type": "code",
   "source": [
    "pip install hmmlearn"
   ],
   "metadata": {
    "colab": {
     "base_uri": "https://localhost:8080/"
    },
    "id": "GlshRVLN_HJs",
    "outputId": "9eecca72-5203-4f1e-b33e-cdcf062d6e15",
    "ExecuteTime": {
     "end_time": "2024-03-09T23:14:25.221160Z",
     "start_time": "2024-03-09T23:14:25.220649Z"
    }
   },
   "execution_count": 1,
   "outputs": [
    {
     "name": "stdout",
     "output_type": "stream",
     "text": [
      "0\n",
      "1\n",
      "2\n",
      "3\n",
      "4\n"
     ]
    }
   ]
  },
  {
   "cell_type": "code",
   "source": [
    "#in this version all the encoded attributes are merged into a single encode\n",
    "import ast\n",
    "from sklearn.preprocessing import LabelEncoder\n",
    "import pandas as pd\n",
    "\n",
    "file = open(\"example_data.csv\", \"r\")\n",
    "all_attributes = []\n",
    "all_actions = set()\n",
    "\n",
    "data_dataframe = []\n",
    "\n",
    "for line in file:\n",
    "  # print(line)\n",
    "  parts = line.split(\",\")\n",
    "  parts[1] = parts[1].replace(\";\", \",\")\n",
    "  all_actions.add(int(parts[0]))\n",
    "  # print(parts[1])\n",
    "  list_part = ast.literal_eval(parts[1])\n",
    "  # print(list_part)\n",
    "  for attrs in list_part:\n",
    "    all_attributes.append(attrs)\n",
    "  if len(list_part) == 0:\n",
    "    continue\n",
    "  # data_dataframe.append([int(parts[0]), list_part])\n",
    "\n",
    "# unique_attributes = set(all_attributes)\n",
    "# print(all_attributes)\n",
    "# print(unique_attributes)\n",
    "# Encode the actions and attributes\n",
    "attribute_encoder = LabelEncoder().fit(list(unique_attributes))\n",
    "\n",
    "file = open(\"example_data.csv\", \"r\")\n",
    "for line in file:\n",
    "  parts = line.split(\",\")\n",
    "  parts[1] = parts[1].replace(\";\", \",\")\n",
    "  list_part = ast.literal_eval(parts[1])\n",
    "  # print(list_part)\n",
    "  if len(list_part) == 0:\n",
    "    continue\n",
    "  x = attribute_encoder.transform(list_part)\n",
    "  # print(''.join(str(p) for p in sorted(x)))\n",
    "  encoded_interaction = ''.join(str(p) for p in sorted(x))\n",
    "  data_dataframe.append([int(parts[0]), encoded_interaction])\n",
    "  # for attrs in list_part:\n",
    "  #   all_attributes.append(attrs)\n",
    "\n",
    "# print(attribute_encoder.classes_)\n",
    "data = pd.DataFrame(data_dataframe, columns=['Action', 'Attribute'])\n",
    "\n",
    "interaction_encoder = LabelEncoder().fit(data['Attribute'])\n",
    "print(interaction_encoder.classes_)\n",
    "action_encoder = LabelEncoder().fit(data['Action'])\n",
    "print(action_encoder.classes_)\n",
    "\n",
    "data['Encoded_Attribute'] = attribute_encoder.fit_transform(data['Attribute'])\n",
    "# print(data.head(20))"
   ],
   "metadata": {
    "colab": {
     "base_uri": "https://localhost:8080/"
    },
    "id": "hZTQnN3uqRWp",
    "outputId": "7726416c-d768-4c27-d4d0-2e6d3926de43"
   },
   "execution_count": 84,
   "outputs": [
    {
     "output_type": "stream",
     "name": "stdout",
     "text": [
      "['029' '07' '079' '09' '1' '19' '1910' '29' '2912' '3456' '34569' '7' '8'\n",
      " '89' '8913' '891314' '9' '910' '91011' '911' '91113' '912' '913' '914'\n",
      " '91415']\n",
      "[0 1 3 4 5]\n"
     ]
    }
   ]
  },
  {
   "cell_type": "code",
   "source": [
    "# 2 using the new encoded interactions\n",
    "from hmmlearn import hmm\n",
    "import numpy as np\n",
    "\n",
    "# Prepare the sequences for HMM\n",
    "# This example assumes each action transition marks a new sequence\n",
    "# Further preprocessing might be needed based on the actual sequence definition\n",
    "\n",
    "# Group by action to identify sequences (simple approach for demonstration)\n",
    "groups = data.groupby('Action')\n",
    "\n",
    "sequences = []\n",
    "lengths = []\n",
    "for name, group in groups:\n",
    "    sequences.append(group['Encoded_Attribute'].values.reshape(-1, 1))\n",
    "    lengths.append(len(group))\n",
    "\n",
    "# Combine all sequences for training\n",
    "X = np.concatenate(sequences)\n",
    "lengths = np.array(lengths)\n",
    "\n",
    "# Define a Multinomial HMM\n",
    "# Number of components is the number of unique actions\n",
    "model = hmm.MultinomialHMM(n_components=len(data['Action'].unique()), n_iter=100, random_state=42)\n",
    "\n",
    "# Fit the model\n",
    "model.fit(X, lengths=lengths)"
   ],
   "metadata": {
    "colab": {
     "base_uri": "https://localhost:8080/",
     "height": 218
    },
    "id": "X95WuFyhwpup",
    "outputId": "ba9aba2e-00c7-4240-a585-c8e9ada63268"
   },
   "execution_count": 85,
   "outputs": [
    {
     "output_type": "stream",
     "name": "stderr",
     "text": [
      "WARNING:hmmlearn.hmm:MultinomialHMM has undergone major changes. The previous version was implementing a CategoricalHMM (a special case of MultinomialHMM). This new implementation follows the standard definition for a Multinomial distribution (e.g. as in https://en.wikipedia.org/wiki/Multinomial_distribution). See these issues for details:\n",
      "https://github.com/hmmlearn/hmmlearn/issues/335\n",
      "https://github.com/hmmlearn/hmmlearn/issues/340\n"
     ]
    },
    {
     "output_type": "execute_result",
     "data": {
      "text/plain": [
       "MultinomialHMM(n_components=5, n_iter=100,\n",
       "               n_trials=array([ 9,  9,  9,  9,  9, 10, 10, 10, 10, 11, 11,  1, 12, 12, 13, 14,  3,\n",
       "        3,  7,  7, 16, 22, 19, 17, 17,  5,  4, 16, 23,  0,  8, 21, 20, 18,\n",
       "        6,  5,  5, 24,  2, 15, 10]),\n",
       "               random_state=RandomState(MT19937) at 0x7C18EF9C3640)"
      ],
      "text/html": [
       "<style>#sk-container-id-1 {color: black;background-color: white;}#sk-container-id-1 pre{padding: 0;}#sk-container-id-1 div.sk-toggleable {background-color: white;}#sk-container-id-1 label.sk-toggleable__label {cursor: pointer;display: block;width: 100%;margin-bottom: 0;padding: 0.3em;box-sizing: border-box;text-align: center;}#sk-container-id-1 label.sk-toggleable__label-arrow:before {content: \"▸\";float: left;margin-right: 0.25em;color: #696969;}#sk-container-id-1 label.sk-toggleable__label-arrow:hover:before {color: black;}#sk-container-id-1 div.sk-estimator:hover label.sk-toggleable__label-arrow:before {color: black;}#sk-container-id-1 div.sk-toggleable__content {max-height: 0;max-width: 0;overflow: hidden;text-align: left;background-color: #f0f8ff;}#sk-container-id-1 div.sk-toggleable__content pre {margin: 0.2em;color: black;border-radius: 0.25em;background-color: #f0f8ff;}#sk-container-id-1 input.sk-toggleable__control:checked~div.sk-toggleable__content {max-height: 200px;max-width: 100%;overflow: auto;}#sk-container-id-1 input.sk-toggleable__control:checked~label.sk-toggleable__label-arrow:before {content: \"▾\";}#sk-container-id-1 div.sk-estimator input.sk-toggleable__control:checked~label.sk-toggleable__label {background-color: #d4ebff;}#sk-container-id-1 div.sk-label input.sk-toggleable__control:checked~label.sk-toggleable__label {background-color: #d4ebff;}#sk-container-id-1 input.sk-hidden--visually {border: 0;clip: rect(1px 1px 1px 1px);clip: rect(1px, 1px, 1px, 1px);height: 1px;margin: -1px;overflow: hidden;padding: 0;position: absolute;width: 1px;}#sk-container-id-1 div.sk-estimator {font-family: monospace;background-color: #f0f8ff;border: 1px dotted black;border-radius: 0.25em;box-sizing: border-box;margin-bottom: 0.5em;}#sk-container-id-1 div.sk-estimator:hover {background-color: #d4ebff;}#sk-container-id-1 div.sk-parallel-item::after {content: \"\";width: 100%;border-bottom: 1px solid gray;flex-grow: 1;}#sk-container-id-1 div.sk-label:hover label.sk-toggleable__label {background-color: #d4ebff;}#sk-container-id-1 div.sk-serial::before {content: \"\";position: absolute;border-left: 1px solid gray;box-sizing: border-box;top: 0;bottom: 0;left: 50%;z-index: 0;}#sk-container-id-1 div.sk-serial {display: flex;flex-direction: column;align-items: center;background-color: white;padding-right: 0.2em;padding-left: 0.2em;position: relative;}#sk-container-id-1 div.sk-item {position: relative;z-index: 1;}#sk-container-id-1 div.sk-parallel {display: flex;align-items: stretch;justify-content: center;background-color: white;position: relative;}#sk-container-id-1 div.sk-item::before, #sk-container-id-1 div.sk-parallel-item::before {content: \"\";position: absolute;border-left: 1px solid gray;box-sizing: border-box;top: 0;bottom: 0;left: 50%;z-index: -1;}#sk-container-id-1 div.sk-parallel-item {display: flex;flex-direction: column;z-index: 1;position: relative;background-color: white;}#sk-container-id-1 div.sk-parallel-item:first-child::after {align-self: flex-end;width: 50%;}#sk-container-id-1 div.sk-parallel-item:last-child::after {align-self: flex-start;width: 50%;}#sk-container-id-1 div.sk-parallel-item:only-child::after {width: 0;}#sk-container-id-1 div.sk-dashed-wrapped {border: 1px dashed gray;margin: 0 0.4em 0.5em 0.4em;box-sizing: border-box;padding-bottom: 0.4em;background-color: white;}#sk-container-id-1 div.sk-label label {font-family: monospace;font-weight: bold;display: inline-block;line-height: 1.2em;}#sk-container-id-1 div.sk-label-container {text-align: center;}#sk-container-id-1 div.sk-container {/* jupyter's `normalize.less` sets `[hidden] { display: none; }` but bootstrap.min.css set `[hidden] { display: none !important; }` so we also need the `!important` here to be able to override the default hidden behavior on the sphinx rendered scikit-learn.org. See: https://github.com/scikit-learn/scikit-learn/issues/21755 */display: inline-block !important;position: relative;}#sk-container-id-1 div.sk-text-repr-fallback {display: none;}</style><div id=\"sk-container-id-1\" class=\"sk-top-container\"><div class=\"sk-text-repr-fallback\"><pre>MultinomialHMM(n_components=5, n_iter=100,\n",
       "               n_trials=array([ 9,  9,  9,  9,  9, 10, 10, 10, 10, 11, 11,  1, 12, 12, 13, 14,  3,\n",
       "        3,  7,  7, 16, 22, 19, 17, 17,  5,  4, 16, 23,  0,  8, 21, 20, 18,\n",
       "        6,  5,  5, 24,  2, 15, 10]),\n",
       "               random_state=RandomState(MT19937) at 0x7C18EF9C3640)</pre><b>In a Jupyter environment, please rerun this cell to show the HTML representation or trust the notebook. <br />On GitHub, the HTML representation is unable to render, please try loading this page with nbviewer.org.</b></div><div class=\"sk-container\" hidden><div class=\"sk-item\"><div class=\"sk-estimator sk-toggleable\"><input class=\"sk-toggleable__control sk-hidden--visually\" id=\"sk-estimator-id-1\" type=\"checkbox\" checked><label for=\"sk-estimator-id-1\" class=\"sk-toggleable__label sk-toggleable__label-arrow\">MultinomialHMM</label><div class=\"sk-toggleable__content\"><pre>MultinomialHMM(n_components=5, n_iter=100,\n",
       "               n_trials=array([ 9,  9,  9,  9,  9, 10, 10, 10, 10, 11, 11,  1, 12, 12, 13, 14,  3,\n",
       "        3,  7,  7, 16, 22, 19, 17, 17,  5,  4, 16, 23,  0,  8, 21, 20, 18,\n",
       "        6,  5,  5, 24,  2, 15, 10]),\n",
       "               random_state=RandomState(MT19937) at 0x7C18EF9C3640)</pre></div></div></div></div></div>"
      ]
     },
     "metadata": {},
     "execution_count": 85
    }
   ]
  },
  {
   "cell_type": "code",
   "source": [
    "# 2 using the new encoded interactions\n",
    "from hmmlearn import hmm\n",
    "import numpy as np\n",
    "\n",
    "# Prepare the sequences for HMM\n",
    "# This example assumes each action transition marks a new sequence\n",
    "# Further preprocessing might be needed based on the actual sequence definition\n",
    "\n",
    "# Group by action to identify sequences (simple approach for demonstration)\n",
    "split = int(len(data)* 0.8)\n",
    "groups = data[:split].groupby('Action')\n",
    "\n",
    "sequences = []\n",
    "lengths = []\n",
    "for name, group in groups:\n",
    "  # print(group)\n",
    "  sequences.append(group['Encoded_Attribute'].values.reshape(-1, 1))\n",
    "  lengths.append(len(group))\n",
    "\n",
    "# print(groups.head())\n",
    "# Combine all sequences for training\n",
    "X = np.concatenate(sequences)\n",
    "lengths = np.array(lengths)\n",
    "\n",
    "# Define a Multinomial HMM\n",
    "# Number of components is the number of unique actions\n",
    "model = hmm.MultinomialHMM(n_components=len(data['Action'].unique()), n_iter=100, random_state=42)\n",
    "\n",
    "# Fit the model\n",
    "model.fit(X, lengths=lengths)"
   ],
   "metadata": {
    "colab": {
     "base_uri": "https://localhost:8080/",
     "height": 200
    },
    "id": "mh3sUI9Y2dIi",
    "outputId": "91215b97-d4f4-450d-8c4a-f082e28caf89"
   },
   "execution_count": 98,
   "outputs": [
    {
     "output_type": "stream",
     "name": "stderr",
     "text": [
      "WARNING:hmmlearn.hmm:MultinomialHMM has undergone major changes. The previous version was implementing a CategoricalHMM (a special case of MultinomialHMM). This new implementation follows the standard definition for a Multinomial distribution (e.g. as in https://en.wikipedia.org/wiki/Multinomial_distribution). See these issues for details:\n",
      "https://github.com/hmmlearn/hmmlearn/issues/335\n",
      "https://github.com/hmmlearn/hmmlearn/issues/340\n"
     ]
    },
    {
     "output_type": "execute_result",
     "data": {
      "text/plain": [
       "MultinomialHMM(n_components=5, n_iter=100,\n",
       "               n_trials=array([ 9,  9,  9,  9,  9, 10, 10, 10, 10, 11, 11,  1, 12, 12, 13, 14,  3,\n",
       "        3,  7,  7, 16, 22, 19, 17,  0,  8, 21, 20, 18,  2, 15, 10]),\n",
       "               random_state=RandomState(MT19937) at 0x7C18EF9C3E40)"
      ],
      "text/html": [
       "<style>#sk-container-id-2 {color: black;background-color: white;}#sk-container-id-2 pre{padding: 0;}#sk-container-id-2 div.sk-toggleable {background-color: white;}#sk-container-id-2 label.sk-toggleable__label {cursor: pointer;display: block;width: 100%;margin-bottom: 0;padding: 0.3em;box-sizing: border-box;text-align: center;}#sk-container-id-2 label.sk-toggleable__label-arrow:before {content: \"▸\";float: left;margin-right: 0.25em;color: #696969;}#sk-container-id-2 label.sk-toggleable__label-arrow:hover:before {color: black;}#sk-container-id-2 div.sk-estimator:hover label.sk-toggleable__label-arrow:before {color: black;}#sk-container-id-2 div.sk-toggleable__content {max-height: 0;max-width: 0;overflow: hidden;text-align: left;background-color: #f0f8ff;}#sk-container-id-2 div.sk-toggleable__content pre {margin: 0.2em;color: black;border-radius: 0.25em;background-color: #f0f8ff;}#sk-container-id-2 input.sk-toggleable__control:checked~div.sk-toggleable__content {max-height: 200px;max-width: 100%;overflow: auto;}#sk-container-id-2 input.sk-toggleable__control:checked~label.sk-toggleable__label-arrow:before {content: \"▾\";}#sk-container-id-2 div.sk-estimator input.sk-toggleable__control:checked~label.sk-toggleable__label {background-color: #d4ebff;}#sk-container-id-2 div.sk-label input.sk-toggleable__control:checked~label.sk-toggleable__label {background-color: #d4ebff;}#sk-container-id-2 input.sk-hidden--visually {border: 0;clip: rect(1px 1px 1px 1px);clip: rect(1px, 1px, 1px, 1px);height: 1px;margin: -1px;overflow: hidden;padding: 0;position: absolute;width: 1px;}#sk-container-id-2 div.sk-estimator {font-family: monospace;background-color: #f0f8ff;border: 1px dotted black;border-radius: 0.25em;box-sizing: border-box;margin-bottom: 0.5em;}#sk-container-id-2 div.sk-estimator:hover {background-color: #d4ebff;}#sk-container-id-2 div.sk-parallel-item::after {content: \"\";width: 100%;border-bottom: 1px solid gray;flex-grow: 1;}#sk-container-id-2 div.sk-label:hover label.sk-toggleable__label {background-color: #d4ebff;}#sk-container-id-2 div.sk-serial::before {content: \"\";position: absolute;border-left: 1px solid gray;box-sizing: border-box;top: 0;bottom: 0;left: 50%;z-index: 0;}#sk-container-id-2 div.sk-serial {display: flex;flex-direction: column;align-items: center;background-color: white;padding-right: 0.2em;padding-left: 0.2em;position: relative;}#sk-container-id-2 div.sk-item {position: relative;z-index: 1;}#sk-container-id-2 div.sk-parallel {display: flex;align-items: stretch;justify-content: center;background-color: white;position: relative;}#sk-container-id-2 div.sk-item::before, #sk-container-id-2 div.sk-parallel-item::before {content: \"\";position: absolute;border-left: 1px solid gray;box-sizing: border-box;top: 0;bottom: 0;left: 50%;z-index: -1;}#sk-container-id-2 div.sk-parallel-item {display: flex;flex-direction: column;z-index: 1;position: relative;background-color: white;}#sk-container-id-2 div.sk-parallel-item:first-child::after {align-self: flex-end;width: 50%;}#sk-container-id-2 div.sk-parallel-item:last-child::after {align-self: flex-start;width: 50%;}#sk-container-id-2 div.sk-parallel-item:only-child::after {width: 0;}#sk-container-id-2 div.sk-dashed-wrapped {border: 1px dashed gray;margin: 0 0.4em 0.5em 0.4em;box-sizing: border-box;padding-bottom: 0.4em;background-color: white;}#sk-container-id-2 div.sk-label label {font-family: monospace;font-weight: bold;display: inline-block;line-height: 1.2em;}#sk-container-id-2 div.sk-label-container {text-align: center;}#sk-container-id-2 div.sk-container {/* jupyter's `normalize.less` sets `[hidden] { display: none; }` but bootstrap.min.css set `[hidden] { display: none !important; }` so we also need the `!important` here to be able to override the default hidden behavior on the sphinx rendered scikit-learn.org. See: https://github.com/scikit-learn/scikit-learn/issues/21755 */display: inline-block !important;position: relative;}#sk-container-id-2 div.sk-text-repr-fallback {display: none;}</style><div id=\"sk-container-id-2\" class=\"sk-top-container\"><div class=\"sk-text-repr-fallback\"><pre>MultinomialHMM(n_components=5, n_iter=100,\n",
       "               n_trials=array([ 9,  9,  9,  9,  9, 10, 10, 10, 10, 11, 11,  1, 12, 12, 13, 14,  3,\n",
       "        3,  7,  7, 16, 22, 19, 17,  0,  8, 21, 20, 18,  2, 15, 10]),\n",
       "               random_state=RandomState(MT19937) at 0x7C18EF9C3E40)</pre><b>In a Jupyter environment, please rerun this cell to show the HTML representation or trust the notebook. <br />On GitHub, the HTML representation is unable to render, please try loading this page with nbviewer.org.</b></div><div class=\"sk-container\" hidden><div class=\"sk-item\"><div class=\"sk-estimator sk-toggleable\"><input class=\"sk-toggleable__control sk-hidden--visually\" id=\"sk-estimator-id-2\" type=\"checkbox\" checked><label for=\"sk-estimator-id-2\" class=\"sk-toggleable__label sk-toggleable__label-arrow\">MultinomialHMM</label><div class=\"sk-toggleable__content\"><pre>MultinomialHMM(n_components=5, n_iter=100,\n",
       "               n_trials=array([ 9,  9,  9,  9,  9, 10, 10, 10, 10, 11, 11,  1, 12, 12, 13, 14,  3,\n",
       "        3,  7,  7, 16, 22, 19, 17,  0,  8, 21, 20, 18,  2, 15, 10]),\n",
       "               random_state=RandomState(MT19937) at 0x7C18EF9C3E40)</pre></div></div></div></div></div>"
      ]
     },
     "metadata": {},
     "execution_count": 98
    }
   ]
  },
  {
   "cell_type": "code",
   "source": [
    "test_data = data['Attribute'].values[split:]\n",
    "# print(new_sequence)\n",
    "for new_sequence in test_data:\n",
    "  new_sequence_encoded = attribute_encoder.transform([new_sequence]).reshape(-1, 1)\n",
    "  # Predict the state sequence\n",
    "  # logprob, state_sequence = model.decode(new_sequence_encoded, algorithm=\"viterbi\")\n",
    "  print(new_sequence_encoded)\n",
    "  hidden_states = model.predict(new_sequence_encoded)\n",
    "  print(hidden_states)"
   ],
   "metadata": {
    "colab": {
     "base_uri": "https://localhost:8080/"
    },
    "id": "jZ9I-crBAytF",
    "outputId": "e0200314-36fe-462f-ff21-c12b5045f206"
   },
   "execution_count": 106,
   "outputs": [
    {
     "output_type": "stream",
     "name": "stdout",
     "text": [
      "[[17]]\n",
      "[1]\n",
      "[[6]]\n",
      "[1]\n",
      "[[5]]\n",
      "[1]\n",
      "[[5]]\n",
      "[1]\n",
      "[[4]]\n",
      "[1]\n",
      "[[5]]\n",
      "[1]\n",
      "[[16]]\n",
      "[1]\n",
      "[[23]]\n",
      "[1]\n",
      "[[24]]\n",
      "[1]\n"
     ]
    }
   ]
  },
  {
   "cell_type": "code",
   "source": [
    "# Example: Predicting the state sequence for a new sequence of attributes\n",
    "new_sequence = ['3456']  # New sequence of attributes\n",
    "new_sequence_encoded = attribute_encoder.transform(new_sequence).reshape(-1, 1)\n",
    "\n",
    "# Predict the state sequence\n",
    "logprob, state_sequence = model.decode(new_sequence_encoded, algorithm=\"viterbi\")\n",
    "print(state_sequence)\n",
    "# The last state in `state_sequence` can be interpreted as the predicted next action"
   ],
   "metadata": {
    "colab": {
     "base_uri": "https://localhost:8080/"
    },
    "id": "qLLq20qWzwAu",
    "outputId": "ccee3d75-c6cf-44ac-e4ea-33f83fbe0e44"
   },
   "execution_count": 86,
   "outputs": [
    {
     "output_type": "stream",
     "name": "stdout",
     "text": [
      "[1]\n"
     ]
    }
   ]
  },
  {
   "cell_type": "code",
   "source": [
    "from hmmlearn import hmm\n",
    "import numpy as np\n",
    "import pandas as pd\n",
    "\n",
    "data = pd.DataFrame(data_dataframe, columns=['Action', 'Attribute'])\n",
    "# print(data.head())\n",
    "\n",
    "# Prepare the sequences and their lengths for HMM\n",
    "sequences = [attribute_encoder.transform(seq) for seq in data['Attribute']]\n",
    "actions = action_encoder.transform(data['Action'])\n",
    "\n",
    "encoded_sequences = [attribute_encoder.transform(seq).reshape(-1, 1) for seq in data['Attribute']]\n",
    "print(encoded_sequences)\n"
   ],
   "metadata": {
    "id": "w_76tBwX-wSx"
   },
   "execution_count": null,
   "outputs": []
  },
  {
   "cell_type": "code",
   "source": [
    "from sklearn.model_selection import train_test_split\n",
    "\n",
    "# Split the dataset into training and testing sets\n",
    "train_data, test_data = train_test_split(data, test_size=0.2, random_state=42)\n",
    "\n",
    "# print(len(test_data))\n",
    "\n",
    "# Prepare the sequences and their lengths for HMM, separately for training and testing\n",
    "train_sequences = [attribute_encoder.transform(seq) for seq in train_data['Attribute']]\n",
    "test_sequences = [attribute_encoder.transform(seq) for seq in test_data['Attribute']]\n",
    "\n",
    "train_lengths = [len(s) for s in train_sequences]\n",
    "test_lengths = [len(s) for s in test_sequences]\n",
    "\n",
    "print(train_lengths)\n",
    "print(test_lengths)\n",
    "train_X = np.concatenate([s.reshape(-1, 1) for s in train_sequences])\n",
    "test_X = np.concatenate([s.reshape(-1, 1) for s in test_sequences])\n",
    "\n",
    "# Define and train the HMM on the training set\n",
    "model = hmm.CategoricalHMM(n_components=len(unique_attributes) + len(data['Action'].unique()), n_iter=100, random_state=42)\n",
    "print(len(train_X))\n",
    "model.fit(train_X, lengths=train_lengths)\n",
    "\n",
    "# To predict the sequence of states (including the next action) for a new observation sequence:\n",
    "# Example using the first sequence from the test set\n",
    "logprob, states = model.decode(test_X[:test_lengths[0]].reshape(-1, 1), algorithm=\"viterbi\")\n"
   ],
   "metadata": {
    "colab": {
     "base_uri": "https://localhost:8080/",
     "height": 599
    },
    "id": "2tTxoAoFaEdG",
    "outputId": "7c5f1d09-c72f-474f-a34c-61dc99fefbf3"
   },
   "execution_count": 53,
   "outputs": [
    {
     "output_type": "stream",
     "name": "stderr",
     "text": [
      "WARNING:hmmlearn.base:Fitting a model with 734 free scalar parameters with only 84 data points will result in a degenerate solution.\n",
      "WARNING:hmmlearn.base:Some rows of transmat_ have zero sum because no transition from the state was ever observed.\n",
      "WARNING:hmmlearn.base:Some rows of transmat_ have zero sum because no transition from the state was ever observed.\n",
      "WARNING:hmmlearn.base:Some rows of transmat_ have zero sum because no transition from the state was ever observed.\n",
      "WARNING:hmmlearn.base:Some rows of transmat_ have zero sum because no transition from the state was ever observed.\n",
      "WARNING:hmmlearn.base:Some rows of transmat_ have zero sum because no transition from the state was ever observed.\n",
      "WARNING:hmmlearn.base:Some rows of transmat_ have zero sum because no transition from the state was ever observed.\n",
      "WARNING:hmmlearn.base:Some rows of transmat_ have zero sum because no transition from the state was ever observed.\n",
      "WARNING:hmmlearn.base:Some rows of transmat_ have zero sum because no transition from the state was ever observed.\n",
      "WARNING:hmmlearn.base:Some rows of transmat_ have zero sum because no transition from the state was ever observed.\n",
      "WARNING:hmmlearn.base:Some rows of transmat_ have zero sum because no transition from the state was ever observed.\n"
     ]
    },
    {
     "output_type": "stream",
     "name": "stdout",
     "text": [
      "[5, 1, 2, 3, 5, 1, 2, 2, 2, 2, 4, 2, 5, 1, 4, 3, 3, 4, 2, 2, 4, 1, 2, 3, 1, 2, 4, 2, 5, 1, 3, 1]\n",
      "[3, 3, 5, 2, 4, 3, 2, 2, 2]\n",
      "84\n"
     ]
    },
    {
     "output_type": "error",
     "ename": "ValueError",
     "evalue": "transmat_ rows must sum to 1 (got row sums of [1. 1. 1. 1. 1. 1. 1. 1. 0. 1. 1. 1. 1. 1. 1. 1. 1. 1. 1. 1. 1.])",
     "traceback": [
      "\u001B[0;31m---------------------------------------------------------------------------\u001B[0m",
      "\u001B[0;31mValueError\u001B[0m                                Traceback (most recent call last)",
      "\u001B[0;32m<ipython-input-53-6c33d34b0a67>\u001B[0m in \u001B[0;36m<cell line: 27>\u001B[0;34m()\u001B[0m\n\u001B[1;32m     25\u001B[0m \u001B[0;31m# To predict the sequence of states (including the next action) for a new observation sequence:\u001B[0m\u001B[0;34m\u001B[0m\u001B[0;34m\u001B[0m\u001B[0m\n\u001B[1;32m     26\u001B[0m \u001B[0;31m# Example using the first sequence from the test set\u001B[0m\u001B[0;34m\u001B[0m\u001B[0;34m\u001B[0m\u001B[0m\n\u001B[0;32m---> 27\u001B[0;31m \u001B[0mlogprob\u001B[0m\u001B[0;34m,\u001B[0m \u001B[0mstates\u001B[0m \u001B[0;34m=\u001B[0m \u001B[0mmodel\u001B[0m\u001B[0;34m.\u001B[0m\u001B[0mdecode\u001B[0m\u001B[0;34m(\u001B[0m\u001B[0mtest_X\u001B[0m\u001B[0;34m[\u001B[0m\u001B[0;34m:\u001B[0m\u001B[0mtest_lengths\u001B[0m\u001B[0;34m[\u001B[0m\u001B[0;36m0\u001B[0m\u001B[0;34m]\u001B[0m\u001B[0;34m]\u001B[0m\u001B[0;34m.\u001B[0m\u001B[0mreshape\u001B[0m\u001B[0;34m(\u001B[0m\u001B[0;34m-\u001B[0m\u001B[0;36m1\u001B[0m\u001B[0;34m,\u001B[0m \u001B[0;36m1\u001B[0m\u001B[0;34m)\u001B[0m\u001B[0;34m,\u001B[0m \u001B[0malgorithm\u001B[0m\u001B[0;34m=\u001B[0m\u001B[0;34m\"viterbi\"\u001B[0m\u001B[0;34m)\u001B[0m\u001B[0;34m\u001B[0m\u001B[0;34m\u001B[0m\u001B[0m\n\u001B[0m",
      "\u001B[0;32m/usr/local/lib/python3.10/dist-packages/hmmlearn/_emissions.py\u001B[0m in \u001B[0;36m<lambda>\u001B[0;34m(*args, **kwargs)\u001B[0m\n\u001B[1;32m     25\u001B[0m \u001B[0;34m\u001B[0m\u001B[0m\n\u001B[1;32m     26\u001B[0m \u001B[0;32mdef\u001B[0m \u001B[0m_make_wrapper\u001B[0m\u001B[0;34m(\u001B[0m\u001B[0mfunc\u001B[0m\u001B[0;34m)\u001B[0m\u001B[0;34m:\u001B[0m\u001B[0;34m\u001B[0m\u001B[0;34m\u001B[0m\u001B[0m\n\u001B[0;32m---> 27\u001B[0;31m     \u001B[0;32mreturn\u001B[0m \u001B[0mfunctools\u001B[0m\u001B[0;34m.\u001B[0m\u001B[0mwraps\u001B[0m\u001B[0;34m(\u001B[0m\u001B[0mfunc\u001B[0m\u001B[0;34m)\u001B[0m\u001B[0;34m(\u001B[0m\u001B[0;32mlambda\u001B[0m \u001B[0;34m*\u001B[0m\u001B[0margs\u001B[0m\u001B[0;34m,\u001B[0m \u001B[0;34m**\u001B[0m\u001B[0mkwargs\u001B[0m\u001B[0;34m:\u001B[0m \u001B[0mfunc\u001B[0m\u001B[0;34m(\u001B[0m\u001B[0;34m*\u001B[0m\u001B[0margs\u001B[0m\u001B[0;34m,\u001B[0m \u001B[0;34m**\u001B[0m\u001B[0mkwargs\u001B[0m\u001B[0;34m)\u001B[0m\u001B[0;34m)\u001B[0m\u001B[0;34m\u001B[0m\u001B[0;34m\u001B[0m\u001B[0m\n\u001B[0m\u001B[1;32m     28\u001B[0m \u001B[0;34m\u001B[0m\u001B[0m\n\u001B[1;32m     29\u001B[0m \u001B[0;34m\u001B[0m\u001B[0m\n",
      "\u001B[0;32m/usr/local/lib/python3.10/dist-packages/hmmlearn/base.py\u001B[0m in \u001B[0;36mdecode\u001B[0;34m(self, X, lengths, algorithm)\u001B[0m\n\u001B[1;32m    334\u001B[0m         \"\"\"\n\u001B[1;32m    335\u001B[0m         \u001B[0mcheck_is_fitted\u001B[0m\u001B[0;34m(\u001B[0m\u001B[0mself\u001B[0m\u001B[0;34m,\u001B[0m \u001B[0;34m\"startprob_\"\u001B[0m\u001B[0;34m)\u001B[0m\u001B[0;34m\u001B[0m\u001B[0;34m\u001B[0m\u001B[0m\n\u001B[0;32m--> 336\u001B[0;31m         \u001B[0mself\u001B[0m\u001B[0;34m.\u001B[0m\u001B[0m_check\u001B[0m\u001B[0;34m(\u001B[0m\u001B[0;34m)\u001B[0m\u001B[0;34m\u001B[0m\u001B[0;34m\u001B[0m\u001B[0m\n\u001B[0m\u001B[1;32m    337\u001B[0m \u001B[0;34m\u001B[0m\u001B[0m\n\u001B[1;32m    338\u001B[0m         \u001B[0malgorithm\u001B[0m \u001B[0;34m=\u001B[0m \u001B[0malgorithm\u001B[0m \u001B[0;32mor\u001B[0m \u001B[0mself\u001B[0m\u001B[0;34m.\u001B[0m\u001B[0malgorithm\u001B[0m\u001B[0;34m\u001B[0m\u001B[0;34m\u001B[0m\u001B[0m\n",
      "\u001B[0;32m/usr/local/lib/python3.10/dist-packages/hmmlearn/hmm.py\u001B[0m in \u001B[0;36m_check\u001B[0;34m(self)\u001B[0m\n\u001B[1;32m    137\u001B[0m \u001B[0;34m\u001B[0m\u001B[0m\n\u001B[1;32m    138\u001B[0m     \u001B[0;32mdef\u001B[0m \u001B[0m_check\u001B[0m\u001B[0;34m(\u001B[0m\u001B[0mself\u001B[0m\u001B[0;34m)\u001B[0m\u001B[0;34m:\u001B[0m\u001B[0;34m\u001B[0m\u001B[0;34m\u001B[0m\u001B[0m\n\u001B[0;32m--> 139\u001B[0;31m         \u001B[0msuper\u001B[0m\u001B[0;34m(\u001B[0m\u001B[0;34m)\u001B[0m\u001B[0;34m.\u001B[0m\u001B[0m_check\u001B[0m\u001B[0;34m(\u001B[0m\u001B[0;34m)\u001B[0m\u001B[0;34m\u001B[0m\u001B[0;34m\u001B[0m\u001B[0m\n\u001B[0m\u001B[1;32m    140\u001B[0m \u001B[0;34m\u001B[0m\u001B[0m\n\u001B[1;32m    141\u001B[0m         \u001B[0mself\u001B[0m\u001B[0;34m.\u001B[0m\u001B[0memissionprob_\u001B[0m \u001B[0;34m=\u001B[0m \u001B[0mnp\u001B[0m\u001B[0;34m.\u001B[0m\u001B[0matleast_2d\u001B[0m\u001B[0;34m(\u001B[0m\u001B[0mself\u001B[0m\u001B[0;34m.\u001B[0m\u001B[0memissionprob_\u001B[0m\u001B[0;34m)\u001B[0m\u001B[0;34m\u001B[0m\u001B[0;34m\u001B[0m\u001B[0m\n",
      "\u001B[0;32m/usr/local/lib/python3.10/dist-packages/hmmlearn/base.py\u001B[0m in \u001B[0;36m_check\u001B[0;34m(self)\u001B[0m\n\u001B[1;32m    975\u001B[0m             raise ValueError(\n\u001B[1;32m    976\u001B[0m                 \"transmat_ must have shape (n_components, n_components)\")\n\u001B[0;32m--> 977\u001B[0;31m         \u001B[0mself\u001B[0m\u001B[0;34m.\u001B[0m\u001B[0m_check_sum_1\u001B[0m\u001B[0;34m(\u001B[0m\u001B[0;34m\"transmat_\"\u001B[0m\u001B[0;34m)\u001B[0m\u001B[0;34m\u001B[0m\u001B[0;34m\u001B[0m\u001B[0m\n\u001B[0m\u001B[1;32m    978\u001B[0m \u001B[0;34m\u001B[0m\u001B[0m\n\u001B[1;32m    979\u001B[0m     \u001B[0;32mdef\u001B[0m \u001B[0maic\u001B[0m\u001B[0;34m(\u001B[0m\u001B[0mself\u001B[0m\u001B[0;34m,\u001B[0m \u001B[0mX\u001B[0m\u001B[0;34m,\u001B[0m \u001B[0mlengths\u001B[0m\u001B[0;34m=\u001B[0m\u001B[0;32mNone\u001B[0m\u001B[0;34m)\u001B[0m\u001B[0;34m:\u001B[0m\u001B[0;34m\u001B[0m\u001B[0;34m\u001B[0m\u001B[0m\n",
      "\u001B[0;32m/usr/local/lib/python3.10/dist-packages/hmmlearn/base.py\u001B[0m in \u001B[0;36m_check_sum_1\u001B[0;34m(self, name)\u001B[0m\n\u001B[1;32m    949\u001B[0m         \u001B[0ms\u001B[0m \u001B[0;34m=\u001B[0m \u001B[0mgetattr\u001B[0m\u001B[0;34m(\u001B[0m\u001B[0mself\u001B[0m\u001B[0;34m,\u001B[0m \u001B[0mname\u001B[0m\u001B[0;34m)\u001B[0m\u001B[0;34m.\u001B[0m\u001B[0msum\u001B[0m\u001B[0;34m(\u001B[0m\u001B[0maxis\u001B[0m\u001B[0;34m=\u001B[0m\u001B[0;34m-\u001B[0m\u001B[0;36m1\u001B[0m\u001B[0;34m)\u001B[0m\u001B[0;34m\u001B[0m\u001B[0;34m\u001B[0m\u001B[0m\n\u001B[1;32m    950\u001B[0m         \u001B[0;32mif\u001B[0m \u001B[0;32mnot\u001B[0m \u001B[0mnp\u001B[0m\u001B[0;34m.\u001B[0m\u001B[0mallclose\u001B[0m\u001B[0;34m(\u001B[0m\u001B[0ms\u001B[0m\u001B[0;34m,\u001B[0m \u001B[0;36m1\u001B[0m\u001B[0;34m)\u001B[0m\u001B[0;34m:\u001B[0m\u001B[0;34m\u001B[0m\u001B[0;34m\u001B[0m\u001B[0m\n\u001B[0;32m--> 951\u001B[0;31m             raise ValueError(\n\u001B[0m\u001B[1;32m    952\u001B[0m                 \u001B[0;34mf\"{name} must sum to 1 (got {s:.4f})\"\u001B[0m\u001B[0;34m\u001B[0m\u001B[0;34m\u001B[0m\u001B[0m\n\u001B[1;32m    953\u001B[0m                 \u001B[0;32mif\u001B[0m \u001B[0ms\u001B[0m\u001B[0;34m.\u001B[0m\u001B[0mndim\u001B[0m \u001B[0;34m==\u001B[0m \u001B[0;36m0\u001B[0m\u001B[0;34m\u001B[0m\u001B[0;34m\u001B[0m\u001B[0m\n",
      "\u001B[0;31mValueError\u001B[0m: transmat_ rows must sum to 1 (got row sums of [1. 1. 1. 1. 1. 1. 1. 1. 0. 1. 1. 1. 1. 1. 1. 1. 1. 1. 1. 1. 1.])"
     ]
    }
   ]
  }
 ]
}
