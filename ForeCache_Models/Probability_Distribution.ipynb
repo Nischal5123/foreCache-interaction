{
 "cells": [
  {
   "cell_type": "code",
   "execution_count": 158,
   "metadata": {
    "collapsed": true
   },
   "outputs": [],
   "source": [
    "import glob\n",
    "import pandas as pd\n",
    "import numpy as np\n",
    "import environment2\n",
    "import pandas as pd\n",
    "pd.options.mode.chained_assignment = None  # default='warn'\n",
    "from collections import defaultdict"
   ]
  },
  {
   "cell_type": "code",
   "execution_count": 159,
   "outputs": [],
   "source": [
    "env = environment2.environment2()\n",
    "user_list_2D = env.user_list_2D\n",
    "user_list_3D = env.user_list_3D"
   ],
   "metadata": {
    "collapsed": false,
    "pycharm": {
     "name": "#%%\n"
    }
   }
  },
  {
   "cell_type": "code",
   "execution_count": 160,
   "outputs": [
    {
     "data": {
      "text/plain": "'data/NDSI-2D\\\\taskname_ndsi-2d-task_userid_3abeecbe-327a-441e-be2a-0dd3763c1d45.csv'"
     },
     "execution_count": 160,
     "metadata": {},
     "output_type": "execute_result"
    }
   ],
   "source": [
    "user_list_2D[0]"
   ],
   "metadata": {
    "collapsed": false,
    "pycharm": {
     "name": "#%%\n"
    }
   }
  },
  {
   "cell_type": "code",
   "execution_count": 161,
   "outputs": [],
   "source": [
    "fileNames2D=['data/NDSI-2D\\\\taskname_ndsi-2d-task_userid_3abeecbe-327a-441e-be2a-0dd3763c1d45.csv',\n",
    " 'data/NDSI-2D\\\\taskname_ndsi-2d-task_userid_44968286-f204-4ad6-a9b5-d95b38e97866.csv',\n",
    " 'data/NDSI-2D\\\\taskname_ndsi-2d-task_userid_6d49fab8-273b-4a91-948b-ecd14556b049.csv',\n",
    " 'data/NDSI-2D\\\\taskname_ndsi-2d-task_userid_72a8d170-77ae-400e-b2a5-de9e1d33a714.csv',\n",
    " 'data/NDSI-2D\\\\taskname_ndsi-2d-task_userid_733a1ac5-0b01-485e-9b29-ac33932aa240.csv']"
   ],
   "metadata": {
    "collapsed": false,
    "pycharm": {
     "name": "#%%\n"
    }
   }
  },
  {
   "cell_type": "code",
   "execution_count": 112,
   "outputs": [],
   "source": [
    "fileNames2D=user_list_2D"
   ],
   "metadata": {
    "collapsed": false,
    "pycharm": {
     "name": "#%%\n"
    }
   }
  },
  {
   "cell_type": "code",
   "execution_count": 162,
   "outputs": [
    {
     "data": {
      "text/plain": "['data/NDSI-2D\\\\taskname_ndsi-2d-task_userid_3abeecbe-327a-441e-be2a-0dd3763c1d45.csv',\n 'data/NDSI-2D\\\\taskname_ndsi-2d-task_userid_44968286-f204-4ad6-a9b5-d95b38e97866.csv',\n 'data/NDSI-2D\\\\taskname_ndsi-2d-task_userid_6d49fab8-273b-4a91-948b-ecd14556b049.csv',\n 'data/NDSI-2D\\\\taskname_ndsi-2d-task_userid_72a8d170-77ae-400e-b2a5-de9e1d33a714.csv',\n 'data/NDSI-2D\\\\taskname_ndsi-2d-task_userid_733a1ac5-0b01-485e-9b29-ac33932aa240.csv']"
     },
     "execution_count": 162,
     "metadata": {},
     "output_type": "execute_result"
    }
   ],
   "source": [
    "fileNames2D"
   ],
   "metadata": {
    "collapsed": false,
    "pycharm": {
     "name": "#%%\n"
    }
   }
  },
  {
   "cell_type": "code",
   "execution_count": 163,
   "outputs": [],
   "source": [
    "#subset of users\n",
    "fileNames3D=['data/NDSI-3D\\\\taskname_ndsi-3d-task_userid_3abeecbe-327a-441e-be2a-0dd3763c1d45.csv',\n",
    " 'data/NDSI-3D\\\\taskname_ndsi-3d-task_userid_44968286-f204-4ad6-a9b5-d95b38e97866.csv',\n",
    " 'data/NDSI-3D\\\\taskname_ndsi-3d-task_userid_6d49fab8-273b-4a91-948b-ecd14556b049.csv',\n",
    " 'data/NDSI-3D\\\\taskname_ndsi-3d-task_userid_733a1ac5-0b01-485e-9b29-ac33932aa240.csv',\n",
    " 'data/NDSI-3D\\\\taskname_ndsi-3d-task_userid_7d014c75-453b-4188-9e4e-fb086984896a.csv']"
   ],
   "metadata": {
    "collapsed": false,
    "pycharm": {
     "name": "#%%\n"
    }
   }
  },
  {
   "cell_type": "code",
   "execution_count": 164,
   "outputs": [],
   "source": [
    "def get_ROISubset(data):\n",
    "    roi_subset=[]\n",
    "    subset=1\n",
    "    for i in range(len(data)):\n",
    "        if data['State'][i]=='Sensemaking':\n",
    "            if (i < (len(data) - 1)) and data['State'][i+1]!= 'Sensemaking':\n",
    "                roi_subset.append(subset)\n",
    "                subset=subset+1\n",
    "            else:\n",
    "                roi_subset.append(subset)\n",
    "        else:\n",
    "            roi_subset.append(subset)\n",
    "    return roi_subset\n",
    "\n"
   ],
   "metadata": {
    "collapsed": false,
    "pycharm": {
     "name": "#%%\n"
    }
   }
  },
  {
   "cell_type": "code",
   "execution_count": 165,
   "outputs": [],
   "source": [
    "def get_ROISubset_3D(data):\n",
    "    roi_subset=[]\n",
    "    subset=1\n",
    "    for i in range(len(data)):\n",
    "            if data['State'][i]=='Answering':\n",
    "                    subset+=1\n",
    "            if subset > 3:\n",
    "                subset=3\n",
    "            roi_subset.append(subset)\n",
    "    return roi_subset"
   ],
   "metadata": {
    "collapsed": false,
    "pycharm": {
     "name": "#%%\n"
    }
   }
  },
  {
   "cell_type": "code",
   "execution_count": 166,
   "outputs": [],
   "source": [
    "from collections import defaultdict\n",
    "def get_probabilities(dataframe):\n",
    "    dataframe['high-level-action']=np.zeros(len(dataframe))\n",
    "    probabilities=[]\n",
    "    map=dict()\n",
    "    # print(dataframe.head(5))\n",
    "    states=['Answering','Sensemaking','Foraging','Navigation']\n",
    "    actions=['change','same']\n",
    "    for state in states:\n",
    "      for action in actions:\n",
    "        map[state+action]=1\n",
    "\n",
    "\n",
    "    current_state=None\n",
    "    for i in range(len(dataframe)):\n",
    "      if dataframe[\"State\"][i]== current_state:\n",
    "        dataframe[\"high-level-action\"][i]=\"same\"\n",
    "      else:\n",
    "        dataframe[\"high-level-action\"][i]=\"change\"\n",
    "      current_state=dataframe[\"State\"][i]\n",
    "\n",
    "    for i in range(len(dataframe)):\n",
    "      if dataframe['State'][i]==\"Navigation\":\n",
    "        map[str(dataframe['State'][i]+dataframe['high-level-action'][i])] += 1\n",
    "        probs = (map[str(dataframe['State'][i]+dataframe['high-level-action'][i])])/(map['Navigationchange']  + map['Navigationsame'])\n",
    "\n",
    "      elif dataframe['State'][i]==\"Sensemaking\":\n",
    "        map[str(dataframe['State'][i]+dataframe['high-level-action'][i])] += 1\n",
    "        probs = (map[str(dataframe['State'][i]+dataframe['high-level-action'][i])])/(map['Sensemakingchange'] + map['Sensemakingsame'])\n",
    "\n",
    "      elif dataframe['State'][i]==\"Foraging\":\n",
    "        map[str(dataframe['State'][i]+dataframe['high-level-action'][i])] += 1\n",
    "        probs = (map[str(dataframe['State'][i]+dataframe['high-level-action'][i])])/(map['Foragingchange'] + map['Foragingsame'])\n",
    "      else:\n",
    "        map[str(dataframe['State'][i]+dataframe['high-level-action'][i])] += 1\n",
    "        probs = (map[str(dataframe['State'][i]+dataframe['high-level-action'][i])])/(map['Answeringsame'] + map['Answeringchange'])\n",
    "      probabilities.append(probs)\n",
    "    dataframe['probabilities']=probabilities\n",
    "    return dataframe, map"
   ],
   "metadata": {
    "collapsed": false,
    "pycharm": {
     "name": "#%%\n"
    }
   }
  },
  {
   "cell_type": "code",
   "execution_count": 167,
   "outputs": [],
   "source": [
    "from collections import defaultdict\n",
    "def get_probabilities_region(dataframe):\n",
    "    df=dataframe\n",
    "    probabilities=[]\n",
    "    map=defaultdict(lambda: defaultdict(int))\n",
    "    # print(dataframe.head(5))\n",
    "    actions=['Answering','Sensemaking','Foraging','Navigation']\n",
    "    states=['SouthEast','South','OhioValley','NorthernRockiesPlains','SouthWest','NorthWest','UpperMidwest','Northeast','West','Other','None']\n",
    "    for state in states:\n",
    "      for action in actions:\n",
    "        map[state][action]=1\n",
    "\n",
    "    for i in range(len(df)):\n",
    "      sum = 0\n",
    "      map[df['Most_frequent_region'][i]][df['State'][i]] +=1\n",
    "      for act in map[df['Most_frequent_region'][i]]:\n",
    "                sum += map[df['Most_frequent_region'][i]][act]\n",
    "      probs=map[df['Most_frequent_region'][i]][df['State'][i]]   / sum\n",
    "      probabilities.append(probs)\n",
    "    df['probabilities']= probabilities\n",
    "    return df, map"
   ],
   "metadata": {
    "collapsed": false,
    "pycharm": {
     "name": "#%%\n"
    }
   }
  },
  {
   "cell_type": "code",
   "execution_count": 168,
   "outputs": [
    {
     "name": "stdout",
     "output_type": "stream",
     "text": [
      "Requirement already satisfied: pymannkendall in c:\\users\\nischal aryal\\appdata\\local\\programs\\python\\python39\\lib\\site-packages (1.4.2)\n",
      "Requirement already satisfied: numpy in c:\\users\\nischal aryal\\appdata\\local\\programs\\python\\python39\\lib\\site-packages (from pymannkendall) (1.22.3)\n",
      "Requirement already satisfied: scipy in c:\\users\\nischal aryal\\appdata\\local\\programs\\python\\python39\\lib\\site-packages (from pymannkendall) (1.8.0)\n"
     ]
    },
    {
     "name": "stderr",
     "output_type": "stream",
     "text": [
      "WARNING: You are using pip version 21.2.3; however, version 22.2.2 is available.\n",
      "You should consider upgrading via the 'C:\\Users\\Nischal Aryal\\AppData\\Local\\Programs\\Python\\Python39\\python.exe -m pip install --upgrade pip' command.\n"
     ]
    }
   ],
   "source": [
    "!pip install pymannkendall\n",
    "from statsmodels.tsa.stattools import adfuller\n",
    "import pymannkendall as mk"
   ],
   "metadata": {
    "collapsed": false,
    "pycharm": {
     "name": "#%%\n"
    }
   }
  },
  {
   "cell_type": "code",
   "execution_count": 169,
   "outputs": [],
   "source": [
    "class StationarityTests:\n",
    "    def __init__(self, significance=.05):\n",
    "        self.SignificanceLevel = significance\n",
    "        self.pValue = None\n",
    "        self.isStationary = None\n",
    "        self.trend= None\n",
    "\n",
    "    def ADF_Stationarity_Test(self, timeseries, printResults = True):\n",
    "      #Dickey-Fuller test:\n",
    "      adfTest = adfuller(timeseries, autolag='AIC')\n",
    "\n",
    "      self.pValue = adfTest[1]\n",
    "\n",
    "      if (self.pValue<self.SignificanceLevel):\n",
    "          self.isStationary = True\n",
    "      else:\n",
    "          self.isStationary = False\n",
    "\n",
    "      if printResults:\n",
    "          dfResults = pd.Series(adfTest[0:4], index=['ADF Test Statistic','P-Value','# Lags Used','# Observations Used'])\n",
    "          #Add Critical Values\n",
    "          for key,value in adfTest[4].items():\n",
    "              dfResults['Critical Value (%s)'%key] = value\n",
    "          print('Augmented Dickey-Fuller Test Results:')\n",
    "          print(dfResults)\n",
    "\n",
    "    def Mann_Kendall_Stationarity_Test(self, timeseries, printResults = True):\n",
    "      #Mann Kendall Trend Test:\n",
    "      mktTest = mk.original_test(timeseries,self.SignificanceLevel)\n",
    "\n",
    "      self.pValue = mktTest[2]\n",
    "      self.trend= mktTest[0]\n",
    "      self.isStationary = mktTest[1]\n",
    "\n",
    "      if printResults:\n",
    "          dfResults = pd.Series(mktTest[0:3], index=['Trend Type','Stationarity','P-Value'])\n",
    "          #Add Critical Values\n",
    "          for key,value in mktTest[3].items():\n",
    "              dfResults['Critical Value (%s)'%key] = value\n",
    "          print('Mann Kendall Trend Test:')\n",
    "          print(dfResults)"
   ],
   "metadata": {
    "collapsed": false,
    "pycharm": {
     "name": "#%%\n"
    }
   }
  },
  {
   "cell_type": "code",
   "execution_count": 170,
   "outputs": [
    {
     "name": "stdout",
     "output_type": "stream",
     "text": [
      "########################### data/NDSI-2D\\taskname_ndsi-2d-task_userid_3abeecbe-327a-441e-be2a-0dd3763c1d45.csv\n",
      "Roi Cycle: ####################### 1\n",
      "########################### data/NDSI-2D\\taskname_ndsi-2d-task_userid_44968286-f204-4ad6-a9b5-d95b38e97866.csv\n",
      "Roi Cycle: ####################### 1\n",
      "Roi Cycle: ####################### 2\n",
      "Roi Cycle: ####################### 3\n",
      "Roi Cycle: ####################### 4\n",
      "Roi Cycle: ####################### 5\n",
      "Roi Cycle: ####################### 6\n",
      "Roi Cycle: ####################### 7\n",
      "########################### data/NDSI-2D\\taskname_ndsi-2d-task_userid_6d49fab8-273b-4a91-948b-ecd14556b049.csv\n"
     ]
    },
    {
     "name": "stderr",
     "output_type": "stream",
     "text": [
      "C:\\Users\\Nischal Aryal\\AppData\\Local\\Temp\\ipykernel_21824\\1184691345.py:112: FutureWarning: The frame.append method is deprecated and will be removed from pandas in a future version. Use pandas.concat instead.\n",
      "  result_dataframe = result_dataframe.append(some_df, ignore_index=True)\n",
      "C:\\Users\\Nischal Aryal\\AppData\\Local\\Temp\\ipykernel_21824\\1184691345.py:112: FutureWarning: The frame.append method is deprecated and will be removed from pandas in a future version. Use pandas.concat instead.\n",
      "  result_dataframe = result_dataframe.append(some_df, ignore_index=True)\n",
      "C:\\Users\\Nischal Aryal\\AppData\\Local\\Temp\\ipykernel_21824\\1184691345.py:112: FutureWarning: The frame.append method is deprecated and will be removed from pandas in a future version. Use pandas.concat instead.\n",
      "  result_dataframe = result_dataframe.append(some_df, ignore_index=True)\n",
      "C:\\Users\\Nischal Aryal\\AppData\\Local\\Temp\\ipykernel_21824\\1184691345.py:112: FutureWarning: The frame.append method is deprecated and will be removed from pandas in a future version. Use pandas.concat instead.\n",
      "  result_dataframe = result_dataframe.append(some_df, ignore_index=True)\n",
      "C:\\Users\\Nischal Aryal\\AppData\\Local\\Temp\\ipykernel_21824\\1184691345.py:112: FutureWarning: The frame.append method is deprecated and will be removed from pandas in a future version. Use pandas.concat instead.\n",
      "  result_dataframe = result_dataframe.append(some_df, ignore_index=True)\n",
      "C:\\Users\\Nischal Aryal\\AppData\\Local\\Temp\\ipykernel_21824\\1184691345.py:112: FutureWarning: The frame.append method is deprecated and will be removed from pandas in a future version. Use pandas.concat instead.\n",
      "  result_dataframe = result_dataframe.append(some_df, ignore_index=True)\n",
      "C:\\Users\\Nischal Aryal\\AppData\\Local\\Temp\\ipykernel_21824\\1184691345.py:112: FutureWarning: The frame.append method is deprecated and will be removed from pandas in a future version. Use pandas.concat instead.\n",
      "  result_dataframe = result_dataframe.append(some_df, ignore_index=True)\n",
      "C:\\Users\\Nischal Aryal\\AppData\\Local\\Temp\\ipykernel_21824\\1184691345.py:112: FutureWarning: The frame.append method is deprecated and will be removed from pandas in a future version. Use pandas.concat instead.\n",
      "  result_dataframe = result_dataframe.append(some_df, ignore_index=True)\n"
     ]
    },
    {
     "name": "stdout",
     "output_type": "stream",
     "text": [
      "Roi Cycle: ####################### 1\n"
     ]
    },
    {
     "name": "stderr",
     "output_type": "stream",
     "text": [
      "C:\\Users\\Nischal Aryal\\AppData\\Local\\Temp\\ipykernel_21824\\1184691345.py:112: FutureWarning: The frame.append method is deprecated and will be removed from pandas in a future version. Use pandas.concat instead.\n",
      "  result_dataframe = result_dataframe.append(some_df, ignore_index=True)\n",
      "C:\\Users\\Nischal Aryal\\AppData\\Local\\Temp\\ipykernel_21824\\1184691345.py:112: FutureWarning: The frame.append method is deprecated and will be removed from pandas in a future version. Use pandas.concat instead.\n",
      "  result_dataframe = result_dataframe.append(some_df, ignore_index=True)\n",
      "C:\\Users\\Nischal Aryal\\AppData\\Local\\Temp\\ipykernel_21824\\1184691345.py:112: FutureWarning: The frame.append method is deprecated and will be removed from pandas in a future version. Use pandas.concat instead.\n",
      "  result_dataframe = result_dataframe.append(some_df, ignore_index=True)\n",
      "C:\\Users\\Nischal Aryal\\AppData\\Local\\Temp\\ipykernel_21824\\1184691345.py:112: FutureWarning: The frame.append method is deprecated and will be removed from pandas in a future version. Use pandas.concat instead.\n",
      "  result_dataframe = result_dataframe.append(some_df, ignore_index=True)\n",
      "C:\\Users\\Nischal Aryal\\AppData\\Local\\Temp\\ipykernel_21824\\1184691345.py:112: FutureWarning: The frame.append method is deprecated and will be removed from pandas in a future version. Use pandas.concat instead.\n",
      "  result_dataframe = result_dataframe.append(some_df, ignore_index=True)\n"
     ]
    },
    {
     "name": "stdout",
     "output_type": "stream",
     "text": [
      "Roi Cycle: ####################### 2\n",
      "Roi Cycle: ####################### 3\n",
      "Roi Cycle: ####################### 4\n",
      "Roi Cycle: ####################### 5\n",
      "########################### data/NDSI-2D\\taskname_ndsi-2d-task_userid_72a8d170-77ae-400e-b2a5-de9e1d33a714.csv\n",
      "Roi Cycle: ####################### 1\n",
      "Roi Cycle: ####################### 2\n",
      "Roi Cycle: ####################### 3\n",
      "Roi Cycle: ####################### 4\n",
      "Roi Cycle: ####################### 5\n",
      "Roi Cycle: ####################### 6\n",
      "########################### data/NDSI-2D\\taskname_ndsi-2d-task_userid_733a1ac5-0b01-485e-9b29-ac33932aa240.csv\n",
      "Roi Cycle: ####################### 1\n",
      "Roi Cycle: ####################### 2\n",
      "Roi Cycle: ####################### 3\n"
     ]
    },
    {
     "name": "stderr",
     "output_type": "stream",
     "text": [
      "C:\\Users\\Nischal Aryal\\AppData\\Local\\Temp\\ipykernel_21824\\1184691345.py:112: FutureWarning: The frame.append method is deprecated and will be removed from pandas in a future version. Use pandas.concat instead.\n",
      "  result_dataframe = result_dataframe.append(some_df, ignore_index=True)\n",
      "C:\\Users\\Nischal Aryal\\AppData\\Local\\Temp\\ipykernel_21824\\1184691345.py:112: FutureWarning: The frame.append method is deprecated and will be removed from pandas in a future version. Use pandas.concat instead.\n",
      "  result_dataframe = result_dataframe.append(some_df, ignore_index=True)\n",
      "C:\\Users\\Nischal Aryal\\AppData\\Local\\Temp\\ipykernel_21824\\1184691345.py:112: FutureWarning: The frame.append method is deprecated and will be removed from pandas in a future version. Use pandas.concat instead.\n",
      "  result_dataframe = result_dataframe.append(some_df, ignore_index=True)\n",
      "C:\\Users\\Nischal Aryal\\AppData\\Local\\Temp\\ipykernel_21824\\1184691345.py:112: FutureWarning: The frame.append method is deprecated and will be removed from pandas in a future version. Use pandas.concat instead.\n",
      "  result_dataframe = result_dataframe.append(some_df, ignore_index=True)\n",
      "C:\\Users\\Nischal Aryal\\AppData\\Local\\Temp\\ipykernel_21824\\1184691345.py:112: FutureWarning: The frame.append method is deprecated and will be removed from pandas in a future version. Use pandas.concat instead.\n",
      "  result_dataframe = result_dataframe.append(some_df, ignore_index=True)\n",
      "C:\\Users\\Nischal Aryal\\AppData\\Local\\Temp\\ipykernel_21824\\1184691345.py:112: FutureWarning: The frame.append method is deprecated and will be removed from pandas in a future version. Use pandas.concat instead.\n",
      "  result_dataframe = result_dataframe.append(some_df, ignore_index=True)\n",
      "C:\\Users\\Nischal Aryal\\AppData\\Local\\Temp\\ipykernel_21824\\1184691345.py:112: FutureWarning: The frame.append method is deprecated and will be removed from pandas in a future version. Use pandas.concat instead.\n",
      "  result_dataframe = result_dataframe.append(some_df, ignore_index=True)\n",
      "C:\\Users\\Nischal Aryal\\AppData\\Local\\Temp\\ipykernel_21824\\1184691345.py:112: FutureWarning: The frame.append method is deprecated and will be removed from pandas in a future version. Use pandas.concat instead.\n",
      "  result_dataframe = result_dataframe.append(some_df, ignore_index=True)\n",
      "C:\\Users\\Nischal Aryal\\AppData\\Local\\Temp\\ipykernel_21824\\1184691345.py:112: FutureWarning: The frame.append method is deprecated and will be removed from pandas in a future version. Use pandas.concat instead.\n",
      "  result_dataframe = result_dataframe.append(some_df, ignore_index=True)\n"
     ]
    }
   ],
   "source": [
    "user=[]\n",
    "ROI_Cycle=[]\n",
    "SouthEastAnswering=[]\n",
    "SouthEastSensemaking=[]\n",
    "SouthEastForaging=[]\n",
    "SouthEastNavigation=[]\n",
    "SouthAnswering=[]\n",
    "SouthSensemaking=[]\n",
    "SouthForaging=[]\n",
    "SouthNavigation=[]\n",
    "OhioValleyAnswering=[]\n",
    "OhioValleySensemaking=[]\n",
    "OhioValleyForaging=[]\n",
    "OhioValleyNavigation=[]\n",
    "NorthernRockiesPlainsAnswering=[]\n",
    "NorthernRockiesPlainsSensemaking=[]\n",
    "NorthernRockiesPlainsForaging=[]\n",
    "NorthernRockiesPlainsNavigation=[]\n",
    "SouthWestAnswering=[]\n",
    "SouthWestSensemaking=[]\n",
    "SouthWestForaging=[]\n",
    "SouthWestNavigation=[]\n",
    "NorthWestAnswering=[]\n",
    "NorthWestSensemaking=[]\n",
    "NorthWestForaging=[]\n",
    "NorthWestNavigation=[]\n",
    "UpperMidwestAnswering=[]\n",
    "UpperMidwestSensemaking=[]\n",
    "UpperMidwestForaging=[]\n",
    "UpperMidwestNavigation=[]\n",
    "OtherAnswering=[]\n",
    "OtherSensemaking=[]\n",
    "OtherForaging=[]\n",
    "OtherNavigation=[]\n",
    "NoneAnswering=[]\n",
    "NoneSensemaking=[]\n",
    "NoneForaging=[]\n",
    "NoneNavigation=[]\n",
    "\n",
    "output_dataframe=pd.DataFrame(columns=['User','ROI_Cycle','SouthEastAnswering',\n",
    "'SouthEastSensemaking',\n",
    "'SouthEastForaging',\n",
    "'SouthEastNavigation',\n",
    "'SouthAnswering',\n",
    "'SouthSensemaking',\n",
    "'SouthForaging',\n",
    "'SouthNavigation',\n",
    "'OhioValleyAnswering',\n",
    "'OhioValleySensemaking',\n",
    "'OhioValleyForaging',\n",
    "'OhioValleyNavigation',\n",
    "'NorthernRockiesPlainsAnswering',\n",
    "'NorthernRockiesPlainsSensemaking',\n",
    "'NorthernRockiesPlainsForaging',\n",
    "'NorthernRockiesPlainsNavigation',\n",
    "'SouthWestAnswering',\n",
    "'SouthWestSensemaking',\n",
    "'SouthWestForaging',\n",
    "'SouthWestNavigation',\n",
    "'NorthWestAnswering',\n",
    "'NorthWestSensemaking',\n",
    "'NorthWestForaging',\n",
    "'NorthWestNavigation',\n",
    "'UpperMidwestAnswering',\n",
    "'UpperMidwestSensemaking',\n",
    "'UpperMidwestForaging',\n",
    "'UpperMidwestNavigation',\n",
    "'OtherAnswering',\n",
    "'OtherSensemaking',\n",
    "'OtherForaging',\n",
    "'OtherNavigation',\n",
    "'NoneAnswering',\n",
    "'NoneSensemaking',\n",
    "'NoneForaging',\n",
    "'NoneNavigation'])\n",
    "\n",
    "\n",
    "result_dataframe= pd.DataFrame(columns=['User','ROI_Cycle','SouthEast','South','OhioValley','NorthernRockiesPlains','SouthWest','NorthWest','UpperMidwest','Northeast','West','Other','None'])\n",
    "\n",
    "for u in fileNames2D:\n",
    "  print(\"###########################\",u)\n",
    "  index=[]\n",
    "\n",
    "  all_dfs=[]\n",
    "  maps=[]\n",
    "  df = pd.read_csv(u)\n",
    "  u=u.lstrip('data/NDSI-2D\\\\taskname_ndsi-2d-task_')\n",
    "  #u=u.lstrip('data/NDSI-3D\\\\taskname_ndsi-3d-task_')\n",
    "  u=u.rstrip('.csv')\n",
    "\n",
    "\n",
    "\n",
    "  #df['ROI_Cycle']=get_ROISubset(df)\n",
    "  df['ROI_Cycle']=get_ROISubset(df)\n",
    "\n",
    "  # print(df.ROI_Cycle.unique())\n",
    "  for k in df.ROI_Cycle.unique():\n",
    "    dfs,mappings=get_probabilities_region((df.loc[df['ROI_Cycle'] == k]).reset_index(drop=True))\n",
    "    mapper=dict()\n",
    "    mapper['User']=u\n",
    "    mapper['ROI_Cycle']=k\n",
    "    print(\"Roi Cycle: #######################\", k)\n",
    "    for j in ['SouthEast','South','OhioValley','NorthernRockiesPlains','SouthWest','NorthWest','UpperMidwest','Northeast','West','Other','None']:\n",
    "        #print(\"Region: \",j ,\"Action Preferred: \" ,max(mappings[j], key=mappings[j].get))\n",
    "        maximum=max(mappings[j], key=mappings[j].get)\n",
    "        if mappings[j][maximum] > 1 :\n",
    "            action_preferred=maximum\n",
    "        else:\n",
    "            action_preferred='NA'\n",
    "        mapper[j]=action_preferred\n",
    "    some_df=pd.DataFrame([mapper])\n",
    "    result_dataframe = result_dataframe.append(some_df, ignore_index=True)\n",
    "\n",
    "        # series=(dfs.loc[dfs['Most_frequent_region'] == j])['probabilities']\n",
    "        # if len(series) > 2 :\n",
    "        #     sTest_state = StationarityTests()\n",
    "        #     sTest_state.Mann_Kendall_Stationarity_Test(series.values, printResults = False)\n",
    "        #     print(\"Region is: \", j, \"  MKT Result is:  \", sTest_state.trend)\n",
    "        # else :\n",
    "        #      print(\"Region is: \", j, \"  MKT Result is:  \",\"Not Enough Data\")\n",
    "    all_dfs.append(dfs)\n",
    "    maps.append(mappings)\n",
    "    ROI_Cycle.append(k)\n",
    "    user.append(u)"
   ],
   "metadata": {
    "collapsed": false,
    "pycharm": {
     "name": "#%%\n"
    }
   }
  },
  {
   "cell_type": "code",
   "execution_count": 171,
   "outputs": [],
   "source": [
    "\n",
    "result_dataframe.to_csv(\"data/NDSI-2D\\\\region_new-actions_roi_cycle.csv\", index=False)\n",
    "#output_dataframe.to_csv(\"data/NDSI-3D\\\\probability_distribution_roi_cycle_3d.csv\", index=False)"
   ],
   "metadata": {
    "collapsed": false,
    "pycharm": {
     "name": "#%%\n"
    }
   }
  },
  {
   "cell_type": "code",
   "execution_count": 172,
   "outputs": [
    {
     "data": {
      "text/plain": "                                           User ROI_Cycle SouthEast  \\\n0   userid_3abeecbe-327a-441e-be2a-0dd3763c1d45         1        NA   \n1   userid_44968286-f204-4ad6-a9b5-d95b38e97866         1        NA   \n2   userid_44968286-f204-4ad6-a9b5-d95b38e97866         2        NA   \n3   userid_44968286-f204-4ad6-a9b5-d95b38e97866         3        NA   \n4   userid_44968286-f204-4ad6-a9b5-d95b38e97866         4        NA   \n5   userid_44968286-f204-4ad6-a9b5-d95b38e97866         5        NA   \n6   userid_44968286-f204-4ad6-a9b5-d95b38e97866         6        NA   \n7   userid_44968286-f204-4ad6-a9b5-d95b38e97866         7        NA   \n8   userid_6d49fab8-273b-4a91-948b-ecd14556b049         1        NA   \n9   userid_6d49fab8-273b-4a91-948b-ecd14556b049         2        NA   \n10  userid_6d49fab8-273b-4a91-948b-ecd14556b049         3        NA   \n11  userid_6d49fab8-273b-4a91-948b-ecd14556b049         4        NA   \n12  userid_6d49fab8-273b-4a91-948b-ecd14556b049         5        NA   \n13  userid_72a8d170-77ae-400e-b2a5-de9e1d33a714         1        NA   \n14  userid_72a8d170-77ae-400e-b2a5-de9e1d33a714         2        NA   \n15  userid_72a8d170-77ae-400e-b2a5-de9e1d33a714         3        NA   \n16  userid_72a8d170-77ae-400e-b2a5-de9e1d33a714         4        NA   \n17  userid_72a8d170-77ae-400e-b2a5-de9e1d33a714         5        NA   \n18  userid_72a8d170-77ae-400e-b2a5-de9e1d33a714         6        NA   \n19  userid_733a1ac5-0b01-485e-9b29-ac33932aa240         1        NA   \n\n          South OhioValley NorthernRockiesPlains   SouthWest    NorthWest  \\\n0      Foraging         NA           Sensemaking          NA           NA   \n1      Foraging         NA                    NA          NA  Sensemaking   \n2            NA         NA                    NA          NA   Navigation   \n3            NA         NA            Navigation          NA   Navigation   \n4      Foraging         NA            Navigation          NA           NA   \n5            NA         NA            Navigation  Navigation           NA   \n6      Foraging         NA              Foraging          NA           NA   \n7      Foraging         NA            Navigation          NA           NA   \n8      Foraging         NA                    NA          NA  Sensemaking   \n9      Foraging         NA            Navigation          NA   Navigation   \n10     Foraging         NA            Navigation          NA           NA   \n11     Foraging         NA            Navigation  Navigation           NA   \n12   Navigation         NA                    NA  Navigation           NA   \n13     Foraging         NA           Sensemaking          NA           NA   \n14           NA         NA            Navigation          NA  Sensemaking   \n15           NA         NA                    NA          NA   Navigation   \n16     Foraging         NA            Navigation          NA   Navigation   \n17           NA         NA            Navigation          NA           NA   \n18     Foraging         NA            Navigation          NA           NA   \n19  Sensemaking         NA                    NA          NA           NA   \n\n   UpperMidwest   Northeast        West        Other         None  \n0    Navigation          NA          NA  Sensemaking     Foraging  \n1            NA          NA          NA   Navigation     Foraging  \n2            NA          NA          NA           NA  Sensemaking  \n3      Foraging          NA          NA  Sensemaking     Foraging  \n4            NA  Navigation          NA   Navigation           NA  \n5            NA  Navigation          NA   Navigation   Navigation  \n6            NA          NA          NA  Sensemaking     Foraging  \n7            NA          NA          NA   Navigation           NA  \n8            NA          NA  Navigation   Navigation     Foraging  \n9    Navigation          NA          NA   Navigation   Navigation  \n10   Navigation  Navigation          NA   Navigation     Foraging  \n11           NA  Navigation  Navigation   Navigation  Sensemaking  \n12   Navigation          NA          NA           NA     Foraging  \n13           NA          NA  Navigation           NA     Foraging  \n14           NA          NA  Navigation           NA   Navigation  \n15           NA          NA    Foraging  Sensemaking   Navigation  \n16   Navigation          NA          NA   Navigation   Navigation  \n17     Foraging          NA    Foraging   Navigation     Foraging  \n18     Foraging    Foraging    Foraging     Foraging     Foraging  \n19           NA          NA          NA  Sensemaking   Navigation  ",
      "text/html": "<div>\n<style scoped>\n    .dataframe tbody tr th:only-of-type {\n        vertical-align: middle;\n    }\n\n    .dataframe tbody tr th {\n        vertical-align: top;\n    }\n\n    .dataframe thead th {\n        text-align: right;\n    }\n</style>\n<table border=\"1\" class=\"dataframe\">\n  <thead>\n    <tr style=\"text-align: right;\">\n      <th></th>\n      <th>User</th>\n      <th>ROI_Cycle</th>\n      <th>SouthEast</th>\n      <th>South</th>\n      <th>OhioValley</th>\n      <th>NorthernRockiesPlains</th>\n      <th>SouthWest</th>\n      <th>NorthWest</th>\n      <th>UpperMidwest</th>\n      <th>Northeast</th>\n      <th>West</th>\n      <th>Other</th>\n      <th>None</th>\n    </tr>\n  </thead>\n  <tbody>\n    <tr>\n      <th>0</th>\n      <td>userid_3abeecbe-327a-441e-be2a-0dd3763c1d45</td>\n      <td>1</td>\n      <td>NA</td>\n      <td>Foraging</td>\n      <td>NA</td>\n      <td>Sensemaking</td>\n      <td>NA</td>\n      <td>NA</td>\n      <td>Navigation</td>\n      <td>NA</td>\n      <td>NA</td>\n      <td>Sensemaking</td>\n      <td>Foraging</td>\n    </tr>\n    <tr>\n      <th>1</th>\n      <td>userid_44968286-f204-4ad6-a9b5-d95b38e97866</td>\n      <td>1</td>\n      <td>NA</td>\n      <td>Foraging</td>\n      <td>NA</td>\n      <td>NA</td>\n      <td>NA</td>\n      <td>Sensemaking</td>\n      <td>NA</td>\n      <td>NA</td>\n      <td>NA</td>\n      <td>Navigation</td>\n      <td>Foraging</td>\n    </tr>\n    <tr>\n      <th>2</th>\n      <td>userid_44968286-f204-4ad6-a9b5-d95b38e97866</td>\n      <td>2</td>\n      <td>NA</td>\n      <td>NA</td>\n      <td>NA</td>\n      <td>NA</td>\n      <td>NA</td>\n      <td>Navigation</td>\n      <td>NA</td>\n      <td>NA</td>\n      <td>NA</td>\n      <td>NA</td>\n      <td>Sensemaking</td>\n    </tr>\n    <tr>\n      <th>3</th>\n      <td>userid_44968286-f204-4ad6-a9b5-d95b38e97866</td>\n      <td>3</td>\n      <td>NA</td>\n      <td>NA</td>\n      <td>NA</td>\n      <td>Navigation</td>\n      <td>NA</td>\n      <td>Navigation</td>\n      <td>Foraging</td>\n      <td>NA</td>\n      <td>NA</td>\n      <td>Sensemaking</td>\n      <td>Foraging</td>\n    </tr>\n    <tr>\n      <th>4</th>\n      <td>userid_44968286-f204-4ad6-a9b5-d95b38e97866</td>\n      <td>4</td>\n      <td>NA</td>\n      <td>Foraging</td>\n      <td>NA</td>\n      <td>Navigation</td>\n      <td>NA</td>\n      <td>NA</td>\n      <td>NA</td>\n      <td>Navigation</td>\n      <td>NA</td>\n      <td>Navigation</td>\n      <td>NA</td>\n    </tr>\n    <tr>\n      <th>5</th>\n      <td>userid_44968286-f204-4ad6-a9b5-d95b38e97866</td>\n      <td>5</td>\n      <td>NA</td>\n      <td>NA</td>\n      <td>NA</td>\n      <td>Navigation</td>\n      <td>Navigation</td>\n      <td>NA</td>\n      <td>NA</td>\n      <td>Navigation</td>\n      <td>NA</td>\n      <td>Navigation</td>\n      <td>Navigation</td>\n    </tr>\n    <tr>\n      <th>6</th>\n      <td>userid_44968286-f204-4ad6-a9b5-d95b38e97866</td>\n      <td>6</td>\n      <td>NA</td>\n      <td>Foraging</td>\n      <td>NA</td>\n      <td>Foraging</td>\n      <td>NA</td>\n      <td>NA</td>\n      <td>NA</td>\n      <td>NA</td>\n      <td>NA</td>\n      <td>Sensemaking</td>\n      <td>Foraging</td>\n    </tr>\n    <tr>\n      <th>7</th>\n      <td>userid_44968286-f204-4ad6-a9b5-d95b38e97866</td>\n      <td>7</td>\n      <td>NA</td>\n      <td>Foraging</td>\n      <td>NA</td>\n      <td>Navigation</td>\n      <td>NA</td>\n      <td>NA</td>\n      <td>NA</td>\n      <td>NA</td>\n      <td>NA</td>\n      <td>Navigation</td>\n      <td>NA</td>\n    </tr>\n    <tr>\n      <th>8</th>\n      <td>userid_6d49fab8-273b-4a91-948b-ecd14556b049</td>\n      <td>1</td>\n      <td>NA</td>\n      <td>Foraging</td>\n      <td>NA</td>\n      <td>NA</td>\n      <td>NA</td>\n      <td>Sensemaking</td>\n      <td>NA</td>\n      <td>NA</td>\n      <td>Navigation</td>\n      <td>Navigation</td>\n      <td>Foraging</td>\n    </tr>\n    <tr>\n      <th>9</th>\n      <td>userid_6d49fab8-273b-4a91-948b-ecd14556b049</td>\n      <td>2</td>\n      <td>NA</td>\n      <td>Foraging</td>\n      <td>NA</td>\n      <td>Navigation</td>\n      <td>NA</td>\n      <td>Navigation</td>\n      <td>Navigation</td>\n      <td>NA</td>\n      <td>NA</td>\n      <td>Navigation</td>\n      <td>Navigation</td>\n    </tr>\n    <tr>\n      <th>10</th>\n      <td>userid_6d49fab8-273b-4a91-948b-ecd14556b049</td>\n      <td>3</td>\n      <td>NA</td>\n      <td>Foraging</td>\n      <td>NA</td>\n      <td>Navigation</td>\n      <td>NA</td>\n      <td>NA</td>\n      <td>Navigation</td>\n      <td>Navigation</td>\n      <td>NA</td>\n      <td>Navigation</td>\n      <td>Foraging</td>\n    </tr>\n    <tr>\n      <th>11</th>\n      <td>userid_6d49fab8-273b-4a91-948b-ecd14556b049</td>\n      <td>4</td>\n      <td>NA</td>\n      <td>Foraging</td>\n      <td>NA</td>\n      <td>Navigation</td>\n      <td>Navigation</td>\n      <td>NA</td>\n      <td>NA</td>\n      <td>Navigation</td>\n      <td>Navigation</td>\n      <td>Navigation</td>\n      <td>Sensemaking</td>\n    </tr>\n    <tr>\n      <th>12</th>\n      <td>userid_6d49fab8-273b-4a91-948b-ecd14556b049</td>\n      <td>5</td>\n      <td>NA</td>\n      <td>Navigation</td>\n      <td>NA</td>\n      <td>NA</td>\n      <td>Navigation</td>\n      <td>NA</td>\n      <td>Navigation</td>\n      <td>NA</td>\n      <td>NA</td>\n      <td>NA</td>\n      <td>Foraging</td>\n    </tr>\n    <tr>\n      <th>13</th>\n      <td>userid_72a8d170-77ae-400e-b2a5-de9e1d33a714</td>\n      <td>1</td>\n      <td>NA</td>\n      <td>Foraging</td>\n      <td>NA</td>\n      <td>Sensemaking</td>\n      <td>NA</td>\n      <td>NA</td>\n      <td>NA</td>\n      <td>NA</td>\n      <td>Navigation</td>\n      <td>NA</td>\n      <td>Foraging</td>\n    </tr>\n    <tr>\n      <th>14</th>\n      <td>userid_72a8d170-77ae-400e-b2a5-de9e1d33a714</td>\n      <td>2</td>\n      <td>NA</td>\n      <td>NA</td>\n      <td>NA</td>\n      <td>Navigation</td>\n      <td>NA</td>\n      <td>Sensemaking</td>\n      <td>NA</td>\n      <td>NA</td>\n      <td>Navigation</td>\n      <td>NA</td>\n      <td>Navigation</td>\n    </tr>\n    <tr>\n      <th>15</th>\n      <td>userid_72a8d170-77ae-400e-b2a5-de9e1d33a714</td>\n      <td>3</td>\n      <td>NA</td>\n      <td>NA</td>\n      <td>NA</td>\n      <td>NA</td>\n      <td>NA</td>\n      <td>Navigation</td>\n      <td>NA</td>\n      <td>NA</td>\n      <td>Foraging</td>\n      <td>Sensemaking</td>\n      <td>Navigation</td>\n    </tr>\n    <tr>\n      <th>16</th>\n      <td>userid_72a8d170-77ae-400e-b2a5-de9e1d33a714</td>\n      <td>4</td>\n      <td>NA</td>\n      <td>Foraging</td>\n      <td>NA</td>\n      <td>Navigation</td>\n      <td>NA</td>\n      <td>Navigation</td>\n      <td>Navigation</td>\n      <td>NA</td>\n      <td>NA</td>\n      <td>Navigation</td>\n      <td>Navigation</td>\n    </tr>\n    <tr>\n      <th>17</th>\n      <td>userid_72a8d170-77ae-400e-b2a5-de9e1d33a714</td>\n      <td>5</td>\n      <td>NA</td>\n      <td>NA</td>\n      <td>NA</td>\n      <td>Navigation</td>\n      <td>NA</td>\n      <td>NA</td>\n      <td>Foraging</td>\n      <td>NA</td>\n      <td>Foraging</td>\n      <td>Navigation</td>\n      <td>Foraging</td>\n    </tr>\n    <tr>\n      <th>18</th>\n      <td>userid_72a8d170-77ae-400e-b2a5-de9e1d33a714</td>\n      <td>6</td>\n      <td>NA</td>\n      <td>Foraging</td>\n      <td>NA</td>\n      <td>Navigation</td>\n      <td>NA</td>\n      <td>NA</td>\n      <td>Foraging</td>\n      <td>Foraging</td>\n      <td>Foraging</td>\n      <td>Foraging</td>\n      <td>Foraging</td>\n    </tr>\n    <tr>\n      <th>19</th>\n      <td>userid_733a1ac5-0b01-485e-9b29-ac33932aa240</td>\n      <td>1</td>\n      <td>NA</td>\n      <td>Sensemaking</td>\n      <td>NA</td>\n      <td>NA</td>\n      <td>NA</td>\n      <td>NA</td>\n      <td>NA</td>\n      <td>NA</td>\n      <td>NA</td>\n      <td>Sensemaking</td>\n      <td>Navigation</td>\n    </tr>\n  </tbody>\n</table>\n</div>"
     },
     "execution_count": 172,
     "metadata": {},
     "output_type": "execute_result"
    }
   ],
   "source": [
    "result_dataframe.head(20)"
   ],
   "metadata": {
    "collapsed": false,
    "pycharm": {
     "name": "#%%\n"
    }
   }
  },
  {
   "cell_type": "code",
   "execution_count": 173,
   "outputs": [
    {
     "name": "stdout",
     "output_type": "stream",
     "text": [
      "########################### data/NDSI-2D\\taskname_ndsi-2d-task_userid_3abeecbe-327a-441e-be2a-0dd3763c1d45.csv\n",
      "Roi Cycle: ####################### 1  TimeSpent: ##############  175.86700000000002\n",
      "State is:  Foraging   MKT Result is:   increasing\n",
      "State is:  Navigation   MKT Result is:   increasing\n",
      "State is:  Sensemaking   MKT Result is:   increasing\n",
      "##################################################\n",
      "########################### data/NDSI-2D\\taskname_ndsi-2d-task_userid_44968286-f204-4ad6-a9b5-d95b38e97866.csv\n",
      "Roi Cycle: ####################### 1  TimeSpent: ##############  36.94200000000001\n",
      "State is:  Foraging   MKT Result is:   no trend\n",
      "State is:  Navigation   MKT Result is:   no trend\n",
      "State is:  Sensemaking   MKT Result is:   Not Enough Data\n",
      "Roi Cycle: ####################### 2  TimeSpent: ##############  37.586999999999996\n",
      "State is:  Navigation   MKT Result is:   no trend\n",
      "State is:  Foraging   MKT Result is:   Not Enough Data\n",
      "State is:  Sensemaking   MKT Result is:   no trend\n",
      "Roi Cycle: ####################### 3  TimeSpent: ##############  44.978\n",
      "State is:  Navigation   MKT Result is:   increasing\n",
      "State is:  Foraging   MKT Result is:   Not Enough Data\n",
      "State is:  Sensemaking   MKT Result is:   Not Enough Data\n",
      "Roi Cycle: ####################### 4  TimeSpent: ##############  12.711\n",
      "State is:  Navigation   MKT Result is:   increasing\n",
      "State is:  Foraging   MKT Result is:   Not Enough Data\n",
      "State is:  Sensemaking   MKT Result is:   Not Enough Data\n",
      "Roi Cycle: ####################### 5  TimeSpent: ##############  8.392\n",
      "State is:  Navigation   MKT Result is:   increasing\n",
      "State is:  Foraging   MKT Result is:   Not Enough Data\n",
      "State is:  Sensemaking   MKT Result is:   Not Enough Data\n",
      "Roi Cycle: ####################### 6  TimeSpent: ##############  36.139\n",
      "State is:  Navigation   MKT Result is:   Not Enough Data\n",
      "State is:  Foraging   MKT Result is:   increasing\n",
      "State is:  Sensemaking   MKT Result is:   no trend\n",
      "Roi Cycle: ####################### 7  TimeSpent: ##############  7.654\n",
      "State is:  Navigation   MKT Result is:   no trend\n",
      "State is:  Foraging   MKT Result is:   Not Enough Data\n",
      "##################################################\n",
      "##################################################\n",
      "##################################################\n",
      "##################################################\n",
      "##################################################\n",
      "##################################################\n",
      "##################################################\n",
      "########################### data/NDSI-2D\\taskname_ndsi-2d-task_userid_6d49fab8-273b-4a91-948b-ecd14556b049.csv\n",
      "Roi Cycle: ####################### 1  TimeSpent: ##############  61.377\n",
      "State is:  Foraging   MKT Result is:   no trend\n",
      "State is:  Answering   MKT Result is:   Not Enough Data\n",
      "State is:  Navigation   MKT Result is:   increasing\n",
      "State is:  Sensemaking   MKT Result is:   Not Enough Data\n",
      "Roi Cycle: ####################### 2  TimeSpent: ##############  32.504000000000005\n",
      "State is:  Navigation   MKT Result is:   increasing\n",
      "State is:  Foraging   MKT Result is:   no trend\n",
      "State is:  Sensemaking   MKT Result is:   Not Enough Data\n",
      "Roi Cycle: ####################### 3  TimeSpent: ##############  50.18000000000001\n",
      "State is:  Navigation   MKT Result is:   increasing\n",
      "State is:  Foraging   MKT Result is:   increasing\n",
      "State is:  Sensemaking   MKT Result is:   Not Enough Data\n",
      "Roi Cycle: ####################### 4  TimeSpent: ##############  22.601\n",
      "State is:  Navigation   MKT Result is:   increasing\n",
      "State is:  Foraging   MKT Result is:   Not Enough Data\n",
      "State is:  Sensemaking   MKT Result is:   Not Enough Data\n",
      "Roi Cycle: ####################### 5  TimeSpent: ##############  23.268\n",
      "State is:  Navigation   MKT Result is:   Not Enough Data\n",
      "State is:  Foraging   MKT Result is:   Not Enough Data\n",
      "##################################################\n",
      "##################################################\n",
      "##################################################\n",
      "##################################################\n",
      "##################################################\n",
      "########################### data/NDSI-2D\\taskname_ndsi-2d-task_userid_72a8d170-77ae-400e-b2a5-de9e1d33a714.csv\n",
      "Roi Cycle: ####################### 1  TimeSpent: ##############  59.28800000000001\n",
      "State is:  Foraging   MKT Result is:   increasing\n",
      "State is:  Navigation   MKT Result is:   Not Enough Data\n",
      "State is:  Sensemaking   MKT Result is:   Not Enough Data\n",
      "Roi Cycle: ####################### 2  TimeSpent: ##############  31.550999999999995\n",
      "State is:  Navigation   MKT Result is:   increasing\n",
      "State is:  Foraging   MKT Result is:   Not Enough Data\n",
      "State is:  Sensemaking   MKT Result is:   Not Enough Data\n",
      "Roi Cycle: ####################### 3  TimeSpent: ##############  34.007999999999996\n",
      "State is:  Navigation   MKT Result is:   increasing\n",
      "State is:  Foraging   MKT Result is:   Not Enough Data\n",
      "State is:  Answering   MKT Result is:   Not Enough Data\n",
      "State is:  Sensemaking   MKT Result is:   Not Enough Data\n",
      "Roi Cycle: ####################### 4  TimeSpent: ##############  20.848\n",
      "State is:  Navigation   MKT Result is:   increasing\n",
      "State is:  Foraging   MKT Result is:   Not Enough Data\n",
      "State is:  Sensemaking   MKT Result is:   Not Enough Data\n",
      "Roi Cycle: ####################### 5  TimeSpent: ##############  25.491999999999997\n",
      "State is:  Navigation   MKT Result is:   no trend\n",
      "State is:  Foraging   MKT Result is:   increasing\n",
      "State is:  Sensemaking   MKT Result is:   Not Enough Data\n",
      "Roi Cycle: ####################### 6  TimeSpent: ##############  34.620000000000005\n",
      "State is:  Navigation   MKT Result is:   no trend\n",
      "State is:  Foraging   MKT Result is:   increasing\n",
      "State is:  Sensemaking   MKT Result is:   Not Enough Data\n",
      "##################################################\n",
      "##################################################\n",
      "##################################################\n",
      "##################################################\n",
      "##################################################\n",
      "##################################################\n",
      "########################### data/NDSI-2D\\taskname_ndsi-2d-task_userid_733a1ac5-0b01-485e-9b29-ac33932aa240.csv\n",
      "Roi Cycle: ####################### 1  TimeSpent: ##############  35.633\n",
      "State is:  Foraging   MKT Result is:   Not Enough Data\n",
      "State is:  Navigation   MKT Result is:   Not Enough Data\n",
      "State is:  Sensemaking   MKT Result is:   Not Enough Data\n",
      "Roi Cycle: ####################### 2  TimeSpent: ##############  38.187000000000005\n",
      "State is:  Navigation   MKT Result is:   increasing\n",
      "State is:  Sensemaking   MKT Result is:   increasing\n",
      "Roi Cycle: ####################### 3  TimeSpent: ##############  13.415\n",
      "State is:  Navigation   MKT Result is:   no trend\n",
      "State is:  Foraging   MKT Result is:   increasing\n",
      "State is:  Sensemaking   MKT Result is:   Not Enough Data\n",
      "##################################################\n",
      "##################################################\n",
      "##################################################\n"
     ]
    }
   ],
   "source": [
    "user=[]\n",
    "ROI_Cycle=[]\n",
    "Foragingchange=[]\n",
    "Foragingsame=[]\n",
    "Foraging=[]\n",
    "Sensemakingchange=[]\n",
    "Sensemakingsame=[]\n",
    "Sensemaking=[]\n",
    "Navigationsame=[]\n",
    "Navigationchange=[]\n",
    "Navigation=[]\n",
    "\n",
    "\n",
    "output_dataframe=pd.DataFrame(columns=['User','ROI_Cycle','Foragingchange','Foragingsame','Sensemakingchange','Sensemakingsame','Navigationsame','Navigationchange','Foraging','Navigation','Sensemaking'])\n",
    "for u in fileNames2D:\n",
    "  print(\"###########################\",u)\n",
    "  index=[]\n",
    "\n",
    "  all_dfs=[]\n",
    "  maps=[]\n",
    "  df = pd.read_csv(u)\n",
    "  u=u.lstrip('data/NDSI-2D\\\\taskname_ndsi-2d-task_')\n",
    "  #u=u.lstrip('data/NDSI-3D\\\\taskname_ndsi-3d-task_')\n",
    "  u=u.rstrip('.csv')\n",
    "\n",
    "\n",
    "\n",
    "  #df['ROI_Cycle']=get_ROISubset(df)\n",
    "  df['ROI_Cycle']=get_ROISubset(df)\n",
    "\n",
    "  # print(df.ROI_Cycle.unique())\n",
    "  for k in df.ROI_Cycle.unique():\n",
    "    dfs,mappings=get_probabilities((df.loc[df['ROI_Cycle'] == k]).reset_index(drop=True))\n",
    "    print(\"Roi Cycle: #######################\", k, \" TimeSpent: ############## \", dfs['IdleTime'].sum())\n",
    "    for j in dfs.State.unique():\n",
    "        series=(dfs.loc[(dfs['State'] == j) & (dfs[\"high-level-action\"]==\"same\")])['probabilities']\n",
    "        if len(series) > 2 :\n",
    "            sTest_state = StationarityTests()\n",
    "            sTest_state.Mann_Kendall_Stationarity_Test(series.values, printResults = False)\n",
    "            print(\"State is: \", j, \"  MKT Result is:  \", sTest_state.trend)\n",
    "        else :\n",
    "             print(\"State is: \", j, \"  MKT Result is:  \",\"Not Enough Data\")\n",
    "    all_dfs.append(dfs)\n",
    "    maps.append(mappings)\n",
    "    ROI_Cycle.append(k)\n",
    "    user.append(u)\n",
    "  for k in range(len(maps)):\n",
    "      #print(\"Cycle: \",k, \"Foragingchange: \",maps[k]['Foragingchange']/(maps[k]['Foragingsame'] + maps[k]['Foragingchange']) )\n",
    "      Foragingchange.append(maps[k]['Foragingchange']/(maps[k]['Foragingsame'] + maps[k]['Foragingchange']) )\n",
    "      #print(\"Cycle: \",k, \"Foragingsame: \",maps[k]['Foragingsame']/(maps[k]['Foragingsame'] + maps[k]['Foragingchange']) )\n",
    "      Foragingsame.append(maps[k]['Foragingsame']/(maps[k]['Foragingsame'] + maps[k]['Foragingchange']))\n",
    "      Foraging.append((maps[k]['Foragingsame'] + maps[k]['Foragingchange']))\n",
    "\n",
    "\n",
    "      #print(\"Cycle: \",k, \"Navigationchange: \",maps[k]['Navigationchange']/(maps[k]['Navigationsame'] + maps[k]['Navigationchange']) )\n",
    "      Navigationchange.append(maps[k]['Navigationchange']/(maps[k]['Navigationsame'] + maps[k]['Navigationchange']) )\n",
    "      #print(\"Cycle: \",k, \"Navigationsame: \",maps[k]['Navigationsame']/(maps[k]['Navigationsame'] + maps[k]['Navigationchange']) )\n",
    "      Navigationsame.append(maps[k]['Navigationsame']/(maps[k]['Navigationsame'] + maps[k]['Navigationchange']))\n",
    "      Navigation.append((maps[k]['Navigationsame'] + maps[k]['Navigationchange']))\n",
    "\n",
    "\n",
    "      #print(\"Cycle: \",k, \"Sensemakingchange: \",maps[k]['Sensemakingchange']/(maps[k]['Sensemakingsame'] + maps[k]['Sensemakingchange']) )\n",
    "      Sensemakingchange.append(maps[k]['Sensemakingchange']/(maps[k]['Sensemakingsame'] + maps[k]['Sensemakingchange']))\n",
    "      #print(\"Cycle: \",k, \"Sensemakingsame: \",maps[k]['Sensemakingsame']/(maps[k]['Sensemakingsame'] + maps[k]['Sensemakingchange']) )\n",
    "      Sensemakingsame.append(maps[k]['Sensemakingsame']/(maps[k]['Sensemakingsame'] + maps[k]['Sensemakingchange']))\n",
    "      Sensemaking.append((maps[k]['Sensemakingsame'] + maps[k]['Sensemakingchange']))\n",
    "\n",
    "\n",
    "      print(\"##################################################\")\n",
    "\n",
    "\n",
    "output_dataframe['User']=user\n",
    "output_dataframe['ROI_Cycle']=ROI_Cycle\n",
    "output_dataframe['Foragingchange']=Foragingchange\n",
    "output_dataframe['Foragingsame']=Foragingsame\n",
    "output_dataframe['Foraging']=Foraging\n",
    "\n",
    "output_dataframe['Sensemakingchange']=Sensemakingchange\n",
    "output_dataframe['Sensemakingsame']=Sensemakingsame\n",
    "output_dataframe['Sensemaking']=Sensemaking\n",
    "\n",
    "output_dataframe['Navigationsame']=Navigationsame\n",
    "output_dataframe['Navigationchange']=Navigationchange\n",
    "output_dataframe['Navigation']=Navigation"
   ],
   "metadata": {
    "collapsed": false,
    "pycharm": {
     "name": "#%%\n"
    }
   }
  },
  {
   "cell_type": "code",
   "execution_count": 174,
   "outputs": [
    {
     "data": {
      "text/plain": "                                          User  ROI_Cycle  Foragingchange  \\\n0  userid_3abeecbe-327a-441e-be2a-0dd3763c1d45          1        0.363636   \n1  userid_44968286-f204-4ad6-a9b5-d95b38e97866          1        0.333333   \n2  userid_44968286-f204-4ad6-a9b5-d95b38e97866          2        0.666667   \n3  userid_44968286-f204-4ad6-a9b5-d95b38e97866          3        0.400000   \n4  userid_44968286-f204-4ad6-a9b5-d95b38e97866          4        0.500000   \n5  userid_44968286-f204-4ad6-a9b5-d95b38e97866          5        0.666667   \n6  userid_44968286-f204-4ad6-a9b5-d95b38e97866          6        0.142857   \n7  userid_44968286-f204-4ad6-a9b5-d95b38e97866          7        0.666667   \n8  userid_6d49fab8-273b-4a91-948b-ecd14556b049          1        0.333333   \n9  userid_6d49fab8-273b-4a91-948b-ecd14556b049          2        0.333333   \n\n   Foragingsame  Sensemakingchange  Sensemakingsame  Navigationsame  \\\n0      0.636364           0.142857         0.857143        0.777778   \n1      0.666667           0.400000         0.600000        0.714286   \n2      0.333333           0.285714         0.714286        0.571429   \n3      0.600000           0.666667         0.333333        0.700000   \n4      0.500000           0.666667         0.333333        0.750000   \n5      0.333333           0.666667         0.333333        0.785714   \n6      0.857143           0.333333         0.666667        0.500000   \n7      0.333333           0.500000         0.500000        0.666667   \n8      0.666667           0.500000         0.500000        0.750000   \n9      0.666667           0.666667         0.333333        0.785714   \n\n   Navigationchange  Foraging  Navigation  Sensemaking  \n0          0.222222        11          18           14  \n1          0.285714         6           7            5  \n2          0.428571         3           7            7  \n3          0.300000         5          10            3  \n4          0.250000         4          12            3  \n5          0.214286         3          14            3  \n6          0.500000        14           6            6  \n7          0.333333         3           6            2  \n8          0.250000         9           8            4  \n9          0.214286         6          14            3  ",
      "text/html": "<div>\n<style scoped>\n    .dataframe tbody tr th:only-of-type {\n        vertical-align: middle;\n    }\n\n    .dataframe tbody tr th {\n        vertical-align: top;\n    }\n\n    .dataframe thead th {\n        text-align: right;\n    }\n</style>\n<table border=\"1\" class=\"dataframe\">\n  <thead>\n    <tr style=\"text-align: right;\">\n      <th></th>\n      <th>User</th>\n      <th>ROI_Cycle</th>\n      <th>Foragingchange</th>\n      <th>Foragingsame</th>\n      <th>Sensemakingchange</th>\n      <th>Sensemakingsame</th>\n      <th>Navigationsame</th>\n      <th>Navigationchange</th>\n      <th>Foraging</th>\n      <th>Navigation</th>\n      <th>Sensemaking</th>\n    </tr>\n  </thead>\n  <tbody>\n    <tr>\n      <th>0</th>\n      <td>userid_3abeecbe-327a-441e-be2a-0dd3763c1d45</td>\n      <td>1</td>\n      <td>0.363636</td>\n      <td>0.636364</td>\n      <td>0.142857</td>\n      <td>0.857143</td>\n      <td>0.777778</td>\n      <td>0.222222</td>\n      <td>11</td>\n      <td>18</td>\n      <td>14</td>\n    </tr>\n    <tr>\n      <th>1</th>\n      <td>userid_44968286-f204-4ad6-a9b5-d95b38e97866</td>\n      <td>1</td>\n      <td>0.333333</td>\n      <td>0.666667</td>\n      <td>0.400000</td>\n      <td>0.600000</td>\n      <td>0.714286</td>\n      <td>0.285714</td>\n      <td>6</td>\n      <td>7</td>\n      <td>5</td>\n    </tr>\n    <tr>\n      <th>2</th>\n      <td>userid_44968286-f204-4ad6-a9b5-d95b38e97866</td>\n      <td>2</td>\n      <td>0.666667</td>\n      <td>0.333333</td>\n      <td>0.285714</td>\n      <td>0.714286</td>\n      <td>0.571429</td>\n      <td>0.428571</td>\n      <td>3</td>\n      <td>7</td>\n      <td>7</td>\n    </tr>\n    <tr>\n      <th>3</th>\n      <td>userid_44968286-f204-4ad6-a9b5-d95b38e97866</td>\n      <td>3</td>\n      <td>0.400000</td>\n      <td>0.600000</td>\n      <td>0.666667</td>\n      <td>0.333333</td>\n      <td>0.700000</td>\n      <td>0.300000</td>\n      <td>5</td>\n      <td>10</td>\n      <td>3</td>\n    </tr>\n    <tr>\n      <th>4</th>\n      <td>userid_44968286-f204-4ad6-a9b5-d95b38e97866</td>\n      <td>4</td>\n      <td>0.500000</td>\n      <td>0.500000</td>\n      <td>0.666667</td>\n      <td>0.333333</td>\n      <td>0.750000</td>\n      <td>0.250000</td>\n      <td>4</td>\n      <td>12</td>\n      <td>3</td>\n    </tr>\n    <tr>\n      <th>5</th>\n      <td>userid_44968286-f204-4ad6-a9b5-d95b38e97866</td>\n      <td>5</td>\n      <td>0.666667</td>\n      <td>0.333333</td>\n      <td>0.666667</td>\n      <td>0.333333</td>\n      <td>0.785714</td>\n      <td>0.214286</td>\n      <td>3</td>\n      <td>14</td>\n      <td>3</td>\n    </tr>\n    <tr>\n      <th>6</th>\n      <td>userid_44968286-f204-4ad6-a9b5-d95b38e97866</td>\n      <td>6</td>\n      <td>0.142857</td>\n      <td>0.857143</td>\n      <td>0.333333</td>\n      <td>0.666667</td>\n      <td>0.500000</td>\n      <td>0.500000</td>\n      <td>14</td>\n      <td>6</td>\n      <td>6</td>\n    </tr>\n    <tr>\n      <th>7</th>\n      <td>userid_44968286-f204-4ad6-a9b5-d95b38e97866</td>\n      <td>7</td>\n      <td>0.666667</td>\n      <td>0.333333</td>\n      <td>0.500000</td>\n      <td>0.500000</td>\n      <td>0.666667</td>\n      <td>0.333333</td>\n      <td>3</td>\n      <td>6</td>\n      <td>2</td>\n    </tr>\n    <tr>\n      <th>8</th>\n      <td>userid_6d49fab8-273b-4a91-948b-ecd14556b049</td>\n      <td>1</td>\n      <td>0.333333</td>\n      <td>0.666667</td>\n      <td>0.500000</td>\n      <td>0.500000</td>\n      <td>0.750000</td>\n      <td>0.250000</td>\n      <td>9</td>\n      <td>8</td>\n      <td>4</td>\n    </tr>\n    <tr>\n      <th>9</th>\n      <td>userid_6d49fab8-273b-4a91-948b-ecd14556b049</td>\n      <td>2</td>\n      <td>0.333333</td>\n      <td>0.666667</td>\n      <td>0.666667</td>\n      <td>0.333333</td>\n      <td>0.785714</td>\n      <td>0.214286</td>\n      <td>6</td>\n      <td>14</td>\n      <td>3</td>\n    </tr>\n  </tbody>\n</table>\n</div>"
     },
     "execution_count": 174,
     "metadata": {},
     "output_type": "execute_result"
    }
   ],
   "source": [
    "output_dataframe.head(10)"
   ],
   "metadata": {
    "collapsed": false,
    "pycharm": {
     "name": "#%%\n"
    }
   }
  },
  {
   "cell_type": "code",
   "execution_count": 175,
   "outputs": [],
   "source": [
    "output_dataframe.to_csv(\"data/NDSI-2D\\\\probability_distribution_roi_cycle.csv\", index=False)\n",
    "#output_dataframe.to_csv(\"data/NDSI-3D\\\\probability_distribution_roi_cycle_3d.csv\", index=False)"
   ],
   "metadata": {
    "collapsed": false,
    "pycharm": {
     "name": "#%%\n"
    }
   }
  },
  {
   "cell_type": "code",
   "execution_count": 89,
   "outputs": [
    {
     "name": "stdout",
     "output_type": "stream",
     "text": [
      "userid_44968286-f204-4ad6-a9b5-d95b38e97866\n",
      "[0.66666667 0.33333333 0.6        0.5        0.33333333 0.85714286\n",
      " 0.33333333]\n",
      "no trend\n",
      "#############################\n",
      "userid_6d49fab8-273b-4a91-948b-ecd14556b049\n",
      "[0.66666667 0.66666667 0.75       0.6        0.5       ]\n",
      "no trend\n",
      "#############################\n",
      "userid_72a8d170-77ae-400e-b2a5-de9e1d33a714\n",
      "[0.75       0.33333333 0.6        0.5        0.75       0.8       ]\n",
      "no trend\n",
      "#############################\n",
      "userid_733a1ac5-0b01-485e-9b29-ac33932aa240\n",
      "[0.33333333 0.5        0.77777778]\n",
      "no trend\n",
      "#############################\n"
     ]
    }
   ],
   "source": [
    "for u in output_dataframe['User'].unique()[1:]:\n",
    "    print(u)\n",
    "    user_df=(output_dataframe.loc[output_dataframe['User']==u]).sort_values(by=['ROI_Cycle'])\n",
    "    print(user_df['Foragingsame'].values)\n",
    "    sTest_state = StationarityTests()\n",
    "    sTest_state.Mann_Kendall_Stationarity_Test(user_df['Foragingsame'].values, printResults = False)\n",
    "    print(sTest_state.trend)\n",
    "    print(\"#############################\")"
   ],
   "metadata": {
    "collapsed": false,
    "pycharm": {
     "name": "#%%\n"
    }
   }
  },
  {
   "cell_type": "code",
   "execution_count": null,
   "outputs": [],
   "source": [],
   "metadata": {
    "collapsed": false,
    "pycharm": {
     "name": "#%%\n"
    }
   }
  },
  {
   "cell_type": "code",
   "execution_count": null,
   "outputs": [],
   "source": [],
   "metadata": {
    "collapsed": false,
    "pycharm": {
     "name": "#%%\n"
    }
   }
  },
  {
   "cell_type": "code",
   "execution_count": null,
   "outputs": [],
   "source": [
    "# user=[]\n",
    "# ROI_Cycle=[]\n",
    "# Foragingchange=[]\n",
    "# Foragingsame=[]\n",
    "# Foraging=[]\n",
    "# Sensemakingchange=[]\n",
    "# Sensemakingsame=[]\n",
    "# Sensemaking=[]\n",
    "# Navigationsame=[]\n",
    "# Navigationchange=[]\n",
    "# Navigation=[]\n",
    "#\n",
    "#\n",
    "# actions=['Answering','Sensemaking','Foraging','Navigation']\n",
    "# states=['SouthEast','South','OhioValley','NorthernRockiesPlains','SouthWest','NorthWest','UpperMidwest','Other','None']\n",
    "# for i in states:\n",
    "#     for act in actions:\n",
    "#           exec(f\"{str(i)+str(act)} = {[]}\")\n",
    "# print(SouthEastAnswering)\n",
    "# output_dataframe=pd.DataFrame(columns=['User','ROI_Cycle','Foragingchange','Foragingsame','Sensemakingchange','Sensemakingsame','Navigationsame','Navigationchange','Foraging','Navigation','Sensemaking'])\n",
    "# for u in fileNames2D:\n",
    "#   print(\"###########################\",u)\n",
    "#   index=[]\n",
    "#\n",
    "#   all_dfs=[]\n",
    "#   maps=[]\n",
    "#   all_dfs_region=[]\n",
    "#   maps_region=[]\n",
    "#   df = pd.read_csv(u)\n",
    "#   u=u.lstrip('data/NDSI-2D\\\\taskname_ndsi-2d-task_')\n",
    "#   #u=u.lstrip('data/NDSI-3D\\\\taskname_ndsi-3d-task_')\n",
    "#   u=u.rstrip('.csv')\n",
    "#\n",
    "#\n",
    "#\n",
    "#   #df['ROI_Cycle']=get_ROISubset(df)\n",
    "#   df['ROI_Cycle']=get_ROISubset(df)\n",
    "#\n",
    "#   # print(df.ROI_Cycle.unique())\n",
    "#   for k in df.ROI_Cycle.unique():\n",
    "#     dfs,mappings=get_probabilities((df.loc[df['ROI_Cycle'] == k]).reset_index(drop=True))\n",
    "#     dfs_region,mappings_region=get_probabilities_region((df.loc[df['ROI_Cycle'] == k]).reset_index(drop=True))\n",
    "#     all_dfs.append(dfs)\n",
    "#     all_dfs_region.append(dfs_region)\n",
    "#     maps.append(mappings)\n",
    "#     maps_region.append(mappings_region)\n",
    "#     ROI_Cycle.append(k)\n",
    "#     user.append(u)\n",
    "#   for k in range(len(maps)):\n",
    "#       print(\"Cycle: \",k, \"Foragingchange: \",maps[k]['Foragingchange']/(maps[k]['Foragingsame'] + maps[k]['Foragingchange']) )\n",
    "#       Foragingchange.append(maps[k]['Foragingchange']/(maps[k]['Foragingsame'] + maps[k]['Foragingchange']) )\n",
    "#       print(\"Cycle: \",k, \"Foragingsame: \",maps[k]['Foragingsame']/(maps[k]['Foragingsame'] + maps[k]['Foragingchange']) )\n",
    "#       Foragingsame.append(maps[k]['Foragingsame']/(maps[k]['Foragingsame'] + maps[k]['Foragingchange']))\n",
    "#       Foraging.append((maps[k]['Foragingsame'] + maps[k]['Foragingchange']))\n",
    "#\n",
    "#\n",
    "#       print(\"Cycle: \",k, \"Navigationchange: \",maps[k]['Navigationchange']/(maps[k]['Navigationsame'] + maps[k]['Navigationchange']) )\n",
    "#       Navigationchange.append(maps[k]['Navigationchange']/(maps[k]['Navigationsame'] + maps[k]['Navigationchange']) )\n",
    "#       print(\"Cycle: \",k, \"Navigationsame: \",maps[k]['Navigationsame']/(maps[k]['Navigationsame'] + maps[k]['Navigationchange']) )\n",
    "#       Navigationsame.append(maps[k]['Navigationsame']/(maps[k]['Navigationsame'] + maps[k]['Navigationchange']))\n",
    "#       Navigation.append((maps[k]['Navigationsame'] + maps[k]['Navigationchange']))\n",
    "#\n",
    "#\n",
    "#       print(\"Cycle: \",k, \"Sensemakingchange: \",maps[k]['Sensemakingchange']/(maps[k]['Sensemakingsame'] + maps[k]['Sensemakingchange']) )\n",
    "#       Sensemakingchange.append(maps[k]['Sensemakingchange']/(maps[k]['Sensemakingsame'] + maps[k]['Sensemakingchange']))\n",
    "#       print(\"Cycle: \",k, \"Sensemakingsame: \",maps[k]['Sensemakingsame']/(maps[k]['Sensemakingsame'] + maps[k]['Sensemakingchange']) )\n",
    "#       Sensemakingsame.append(maps[k]['Sensemakingsame']/(maps[k]['Sensemakingsame'] + maps[k]['Sensemakingchange']))\n",
    "#       Sensemaking.append((maps[k]['Sensemakingsame'] + maps[k]['Sensemakingchange']))\n",
    "#\n",
    "#\n",
    "#       print(\"##################################################\")\n",
    "#\n",
    "#\n",
    "#   for k in range(len(maps_region)):\n",
    "#       actions=['Answering','Sensemaking','Foraging','Navigation']\n",
    "#       states=['SouthEast','South','OhioValley','NorthernRockiesPlains','SouthWest','NorthWest','UpperMidwest','Other','None']\n",
    "#       for i in states:\n",
    "#           sum=0\n",
    "#           probabilities=[]\n",
    "#           action=None\n",
    "#           for act in mappings_region[i]:\n",
    "#                     sum += mappings_region[i][act]\n",
    "#                     probs=mappings_region[i][act]  / sum\n",
    "#                     probabilities.append(probs)\n",
    "#                     action=act\n",
    "#\n",
    "# output_dataframe['User']=user\n",
    "# output_dataframe['ROI_Cycle']=ROI_Cycle\n",
    "# output_dataframe['Foragingchange']=Foragingchange\n",
    "# output_dataframe['Foragingsame']=Foragingsame\n",
    "# output_dataframe['Foraging']=Foraging\n",
    "#\n",
    "# output_dataframe['Sensemakingchange']=Sensemakingchange\n",
    "# output_dataframe['Sensemakingsame']=Sensemakingsame\n",
    "# output_dataframe['Sensemaking']=Sensemaking\n",
    "#\n",
    "# output_dataframe['Navigationsame']=Navigationsame\n",
    "# output_dataframe['Navigationchange']=Navigationchange\n",
    "# output_dataframe['Navigation']=Navigation"
   ],
   "metadata": {
    "collapsed": false,
    "pycharm": {
     "name": "#%%\n"
    }
   }
  }
 ],
 "metadata": {
  "kernelspec": {
   "display_name": "Python 3",
   "language": "python",
   "name": "python3"
  },
  "language_info": {
   "codemirror_mode": {
    "name": "ipython",
    "version": 2
   },
   "file_extension": ".py",
   "mimetype": "text/x-python",
   "name": "python",
   "nbconvert_exporter": "python",
   "pygments_lexer": "ipython2",
   "version": "2.7.6"
  }
 },
 "nbformat": 4,
 "nbformat_minor": 0
}