{
 "cells": [
  {
   "cell_type": "code",
   "execution_count": 1,
   "metadata": {
    "collapsed": true
   },
   "outputs": [
    {
     "name": "stdout",
     "output_type": "stream",
     "text": [
      "# User :82316e37-1117-4663-84b4-ddb6455c83b2\n",
      "Learning rate:   Correlation :-0.8660254037844389, Significant: 0.33333333333333304\n",
      "# User :ff56863b-0710-4a58-ad22-4bf2889c9bc0\n",
      "Learning rate:   Correlation :0.006046038426659878, Significant: 0.9876834868506355\n",
      "# User :bda49380-37ad-41c5-a109-7fa198a7691a\n",
      "Learning rate:   Correlation :-0.7691863372812279, Significant: 0.07376412753418472\n",
      "# User :6d49fab8-273b-4a91-948b-ecd14556b049\n",
      "Learning rate:   Correlation :-0.7748254880911243, Significant: 0.22517451190887572\n",
      "# User :954edb7c-4eae-47ab-9338-5c5c7eccac2d\n",
      "Learning rate:   Correlation :-0.9259542560157596, Significant: 0.07404574398424035\n",
      "# User :a6aab5f5-fdb6-41df-9fc6-221d70f8c6e8\n",
      "Learning rate:   Correlation :-0.8157381141371958, Significant: 0.18426188586280423\n"
     ]
    }
   ],
   "source": [
    "from scipy.stats.stats import pearsonr\n",
    "import pandas as pd\n",
    "\n",
    "result_dataframe=pd.read_csv(\"data/NDSI-2D\\\\actor-critic_experienced.csv\")\n",
    "for user in result_dataframe['User'].unique():\n",
    "    print(\"# User :{}\".format(user))\n",
    "    threshold= result_dataframe.loc[result_dataframe['User'] == user]['Threshold']\n",
    "    discount= result_dataframe.loc[result_dataframe['User'] == user]['Discount']\n",
    "    learning_rate=result_dataframe.loc[result_dataframe['User'] == user]['LearningRate']\n",
    "    correlation,pvalue=pearsonr(learning_rate, threshold)\n",
    "    print(\"Learning rate:   Correlation :{}, Significant: {}\".format(correlation,pvalue))\n",
    "\n"
   ]
  },
  {
   "cell_type": "code",
   "execution_count": 11,
   "outputs": [
    {
     "name": "stdout",
     "output_type": "stream",
     "text": [
      "Learning rate:   Correlation :-0.2995906820084029, Significant: 0.016171939303140603\n"
     ]
    }
   ],
   "source": [
    "result_dataframe=pd.read_csv(\"data/NDSI-2D\\\\actor-critic_experienced.csv\")\n",
    "threshold= result_dataframe['Threshold']\n",
    "discount= result_dataframe['Discount']\n",
    "learning_rate=result_dataframe['LearningRate']\n",
    "correlation,pvalue=pearsonr(learning_rate, threshold)\n",
    "print(\"Learning rate:   Correlation :{}, Significant: {}\".format(correlation,pvalue))\n"
   ],
   "metadata": {
    "collapsed": false,
    "pycharm": {
     "name": "#%%\n"
    }
   }
  },
  {
   "cell_type": "code",
   "execution_count": 8,
   "outputs": [
    {
     "name": "stdout",
     "output_type": "stream",
     "text": [
      "Learning rate:   Correlation :-0.06198939690861108, Significant: 0.7276356456561034\n"
     ]
    }
   ],
   "source": [
    "result_dataframe=pd.read_csv(\"data/NDSI-2D\\\\actor-critic_first_time.csv\")\n",
    "threshold= result_dataframe['Threshold']\n",
    "discount= result_dataframe['Discount']\n",
    "learning_rate=result_dataframe['LearningRate']\n",
    "correlation,pvalue=pearsonr(learning_rate, threshold)\n",
    "print(\"Learning rate:   Correlation :{}, Significant: {}\".format(correlation,pvalue))\n"
   ],
   "metadata": {
    "collapsed": false,
    "pycharm": {
     "name": "#%%\n"
    }
   }
  },
  {
   "cell_type": "code",
   "execution_count": 15,
   "outputs": [
    {
     "name": "stdout",
     "output_type": "stream",
     "text": [
      "Learning Rate:   Correlation :1.0, Significant: 0.0\n"
     ]
    }
   ],
   "source": [
    "result_dataframe=pd.read_csv(\"data/NDSI-2D\\\\reinforce_experienced.csv\")\n",
    "threshold= result_dataframe['Threshold']\n",
    "discount= result_dataframe['Discount']\n",
    "learning_rate=result_dataframe['LearningRate']\n",
    "correlation,pvalue=pearsonr(learning_rate, learning_rate)\n",
    "print(\"Learning Rate:   Correlation :{}, Significant: {}\".format(correlation,pvalue))\n"
   ],
   "metadata": {
    "collapsed": false,
    "pycharm": {
     "name": "#%%\n"
    }
   }
  },
  {
   "cell_type": "code",
   "execution_count": 16,
   "outputs": [
    {
     "name": "stdout",
     "output_type": "stream",
     "text": [
      "Learning Rate:   Correlation :0.9999999999999998, Significant: 3.2025523416413e-247\n"
     ]
    }
   ],
   "source": [
    "result_dataframe=pd.read_csv(\"data/NDSI-2D\\\\reinforce_first_time.csv\")\n",
    "threshold= result_dataframe['Threshold']\n",
    "discount= result_dataframe['Discount']\n",
    "learning_rate=result_dataframe['LearningRate']\n",
    "correlation,pvalue=pearsonr(learning_rate, learning_rate)\n",
    "print(\"Learning Rate:   Correlation :{}, Significant: {}\".format(correlation,pvalue))"
   ],
   "metadata": {
    "collapsed": false,
    "pycharm": {
     "name": "#%%\n"
    }
   }
  },
  {
   "cell_type": "code",
   "execution_count": null,
   "outputs": [],
   "source": [],
   "metadata": {
    "collapsed": false,
    "pycharm": {
     "name": "#%%\n"
    }
   }
  }
 ],
 "metadata": {
  "kernelspec": {
   "display_name": "Python 3",
   "language": "python",
   "name": "python3"
  },
  "language_info": {
   "codemirror_mode": {
    "name": "ipython",
    "version": 2
   },
   "file_extension": ".py",
   "mimetype": "text/x-python",
   "name": "python",
   "nbconvert_exporter": "python",
   "pygments_lexer": "ipython2",
   "version": "2.7.6"
  }
 },
 "nbformat": 4,
 "nbformat_minor": 0
}