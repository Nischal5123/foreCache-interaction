{
 "cells": [
  {
   "cell_type": "code",
   "execution_count": 36,
   "metadata": {
    "collapsed": true
   },
   "outputs": [],
   "source": [
    "import pandas as pd\n",
    "from collections import defaultdict\n",
    "import numpy as np"
   ]
  },
  {
   "cell_type": "code",
   "execution_count": 37,
   "outputs": [],
   "source": [
    "df = pd.read_csv(\"data/NDSI-2D\\\\region-aggregated-roi-manwhitneyresults.csv\")"
   ],
   "metadata": {
    "collapsed": false,
    "pycharm": {
     "name": "#%%\n"
    }
   }
  },
  {
   "cell_type": "code",
   "execution_count": 45,
   "outputs": [
    {
     "data": {
      "text/plain": "    Unnamed: 0  User        State Result  Percentage\n0            0   U_1     Foraging  False    0.666667\n1            1   U_1     Foraging   True    0.333333\n2            2   U_1   Navigation  False    1.000000\n3            3   U_1  Sensemaking  False    0.500000\n4            4   U_1  Sensemaking    NED    0.500000\n5            5  U_10     Foraging    NED    0.700000\n6            6  U_10     Foraging  False    0.200000\n7            7  U_10     Foraging   True    0.100000\n8            8  U_10   Navigation   True    0.800000\n9            9  U_10   Navigation  False    0.200000\n10          10  U_10  Sensemaking  False    0.800000\n11          11  U_10  Sensemaking   True    0.200000\n12          12  U_12     Foraging  False    1.000000\n13          13  U_12   Navigation  False    0.666667\n14          14  U_12   Navigation   True    0.333333",
      "text/html": "<div>\n<style scoped>\n    .dataframe tbody tr th:only-of-type {\n        vertical-align: middle;\n    }\n\n    .dataframe tbody tr th {\n        vertical-align: top;\n    }\n\n    .dataframe thead th {\n        text-align: right;\n    }\n</style>\n<table border=\"1\" class=\"dataframe\">\n  <thead>\n    <tr style=\"text-align: right;\">\n      <th></th>\n      <th>Unnamed: 0</th>\n      <th>User</th>\n      <th>State</th>\n      <th>Result</th>\n      <th>Percentage</th>\n    </tr>\n  </thead>\n  <tbody>\n    <tr>\n      <th>0</th>\n      <td>0</td>\n      <td>U_1</td>\n      <td>Foraging</td>\n      <td>False</td>\n      <td>0.666667</td>\n    </tr>\n    <tr>\n      <th>1</th>\n      <td>1</td>\n      <td>U_1</td>\n      <td>Foraging</td>\n      <td>True</td>\n      <td>0.333333</td>\n    </tr>\n    <tr>\n      <th>2</th>\n      <td>2</td>\n      <td>U_1</td>\n      <td>Navigation</td>\n      <td>False</td>\n      <td>1.000000</td>\n    </tr>\n    <tr>\n      <th>3</th>\n      <td>3</td>\n      <td>U_1</td>\n      <td>Sensemaking</td>\n      <td>False</td>\n      <td>0.500000</td>\n    </tr>\n    <tr>\n      <th>4</th>\n      <td>4</td>\n      <td>U_1</td>\n      <td>Sensemaking</td>\n      <td>NED</td>\n      <td>0.500000</td>\n    </tr>\n    <tr>\n      <th>5</th>\n      <td>5</td>\n      <td>U_10</td>\n      <td>Foraging</td>\n      <td>NED</td>\n      <td>0.700000</td>\n    </tr>\n    <tr>\n      <th>6</th>\n      <td>6</td>\n      <td>U_10</td>\n      <td>Foraging</td>\n      <td>False</td>\n      <td>0.200000</td>\n    </tr>\n    <tr>\n      <th>7</th>\n      <td>7</td>\n      <td>U_10</td>\n      <td>Foraging</td>\n      <td>True</td>\n      <td>0.100000</td>\n    </tr>\n    <tr>\n      <th>8</th>\n      <td>8</td>\n      <td>U_10</td>\n      <td>Navigation</td>\n      <td>True</td>\n      <td>0.800000</td>\n    </tr>\n    <tr>\n      <th>9</th>\n      <td>9</td>\n      <td>U_10</td>\n      <td>Navigation</td>\n      <td>False</td>\n      <td>0.200000</td>\n    </tr>\n    <tr>\n      <th>10</th>\n      <td>10</td>\n      <td>U_10</td>\n      <td>Sensemaking</td>\n      <td>False</td>\n      <td>0.800000</td>\n    </tr>\n    <tr>\n      <th>11</th>\n      <td>11</td>\n      <td>U_10</td>\n      <td>Sensemaking</td>\n      <td>True</td>\n      <td>0.200000</td>\n    </tr>\n    <tr>\n      <th>12</th>\n      <td>12</td>\n      <td>U_12</td>\n      <td>Foraging</td>\n      <td>False</td>\n      <td>1.000000</td>\n    </tr>\n    <tr>\n      <th>13</th>\n      <td>13</td>\n      <td>U_12</td>\n      <td>Navigation</td>\n      <td>False</td>\n      <td>0.666667</td>\n    </tr>\n    <tr>\n      <th>14</th>\n      <td>14</td>\n      <td>U_12</td>\n      <td>Navigation</td>\n      <td>True</td>\n      <td>0.333333</td>\n    </tr>\n  </tbody>\n</table>\n</div>"
     },
     "execution_count": 45,
     "metadata": {},
     "output_type": "execute_result"
    }
   ],
   "source": [
    "df.head(15)"
   ],
   "metadata": {
    "collapsed": false,
    "pycharm": {
     "name": "#%%\n"
    }
   }
  },
  {
   "cell_type": "code",
   "execution_count": 39,
   "outputs": [],
   "source": [
    "result_dataframe = pd.DataFrame(\n",
    "        columns=['User', 'State','Result'])"
   ],
   "metadata": {
    "collapsed": false,
    "pycharm": {
     "name": "#%%\n"
    }
   }
  },
  {
   "cell_type": "code",
   "execution_count": 40,
   "outputs": [],
   "source": [
    "def argmax_second(l):\n",
    "    max_val = max(l)\n",
    "    max_indices = [i for i, val in enumerate(l) if val == max_val]\n",
    "    if len(max_indices) == 1:\n",
    "        return max_indices[0]\n",
    "    else:\n",
    "        second_max_val = max(l[:max_indices[0]] + l[max_indices[0]+1:])\n",
    "        return l.index(second_max_val)"
   ],
   "metadata": {
    "collapsed": false,
    "pycharm": {
     "name": "#%%\n"
    }
   }
  },
  {
   "cell_type": "code",
   "execution_count": 41,
   "outputs": [],
   "source": [
    "\n",
    "aggregate = defaultdict(lambda: defaultdict(lambda: defaultdict(int)))\n",
    "users=[]\n",
    "state=[]\n",
    "main_result=[]\n",
    "for u in df.User.unique():\n",
    "    dfs=df.loc[df['User'] == u]\n",
    "    for k in dfs.State.unique():\n",
    "        df_state=dfs.loc[dfs['State'] == k]\n",
    "        res=df_state.Result.unique()\n",
    "        per=df_state.Percentage.unique()\n",
    "        top_percentage=np.argmax(per)\n",
    "        users.append(u)\n",
    "        state.append(k)\n",
    "        main_result.append(res[top_percentage])\n",
    "\n",
    "\n",
    "\n"
   ],
   "metadata": {
    "collapsed": false,
    "pycharm": {
     "name": "#%%\n"
    }
   }
  },
  {
   "cell_type": "code",
   "execution_count": 42,
   "outputs": [],
   "source": [
    "assert(len(state)==len(users))"
   ],
   "metadata": {
    "collapsed": false,
    "pycharm": {
     "name": "#%%\n"
    }
   }
  },
  {
   "cell_type": "code",
   "execution_count": 43,
   "outputs": [],
   "source": [
    "result_dataframe['User'] = users\n",
    "result_dataframe['State'] = state\n",
    "result_dataframe['Result'] = main_result"
   ],
   "metadata": {
    "collapsed": false,
    "pycharm": {
     "name": "#%%\n"
    }
   }
  },
  {
   "cell_type": "code",
   "execution_count": 44,
   "outputs": [
    {
     "data": {
      "text/plain": "   User        State Result\n0   U_1     Foraging  False\n1   U_1   Navigation  False\n2   U_1  Sensemaking  False\n3  U_10     Foraging    NED\n4  U_10   Navigation   True\n5  U_10  Sensemaking  False\n6  U_12     Foraging  False\n7  U_12   Navigation  False\n8  U_12  Sensemaking    NED\n9  U_13     Foraging    NED",
      "text/html": "<div>\n<style scoped>\n    .dataframe tbody tr th:only-of-type {\n        vertical-align: middle;\n    }\n\n    .dataframe tbody tr th {\n        vertical-align: top;\n    }\n\n    .dataframe thead th {\n        text-align: right;\n    }\n</style>\n<table border=\"1\" class=\"dataframe\">\n  <thead>\n    <tr style=\"text-align: right;\">\n      <th></th>\n      <th>User</th>\n      <th>State</th>\n      <th>Result</th>\n    </tr>\n  </thead>\n  <tbody>\n    <tr>\n      <th>0</th>\n      <td>U_1</td>\n      <td>Foraging</td>\n      <td>False</td>\n    </tr>\n    <tr>\n      <th>1</th>\n      <td>U_1</td>\n      <td>Navigation</td>\n      <td>False</td>\n    </tr>\n    <tr>\n      <th>2</th>\n      <td>U_1</td>\n      <td>Sensemaking</td>\n      <td>False</td>\n    </tr>\n    <tr>\n      <th>3</th>\n      <td>U_10</td>\n      <td>Foraging</td>\n      <td>NED</td>\n    </tr>\n    <tr>\n      <th>4</th>\n      <td>U_10</td>\n      <td>Navigation</td>\n      <td>True</td>\n    </tr>\n    <tr>\n      <th>5</th>\n      <td>U_10</td>\n      <td>Sensemaking</td>\n      <td>False</td>\n    </tr>\n    <tr>\n      <th>6</th>\n      <td>U_12</td>\n      <td>Foraging</td>\n      <td>False</td>\n    </tr>\n    <tr>\n      <th>7</th>\n      <td>U_12</td>\n      <td>Navigation</td>\n      <td>False</td>\n    </tr>\n    <tr>\n      <th>8</th>\n      <td>U_12</td>\n      <td>Sensemaking</td>\n      <td>NED</td>\n    </tr>\n    <tr>\n      <th>9</th>\n      <td>U_13</td>\n      <td>Foraging</td>\n      <td>NED</td>\n    </tr>\n  </tbody>\n</table>\n</div>"
     },
     "execution_count": 44,
     "metadata": {},
     "output_type": "execute_result"
    }
   ],
   "source": [
    "result_dataframe.head(10)\n"
   ],
   "metadata": {
    "collapsed": false,
    "pycharm": {
     "name": "#%%\n"
    }
   }
  },
  {
   "cell_type": "code",
   "execution_count": 46,
   "outputs": [],
   "source": [
    "result_dataframe.to_csv(\"Experiments_Folder\\\\\" + \"ManWhitney-Granular-State-Results\" + \".csv\", index=False)"
   ],
   "metadata": {
    "collapsed": false,
    "pycharm": {
     "name": "#%%\n"
    }
   }
  },
  {
   "cell_type": "code",
   "execution_count": null,
   "outputs": [],
   "source": [],
   "metadata": {
    "collapsed": false,
    "pycharm": {
     "name": "#%%\n"
    }
   }
  },
  {
   "cell_type": "code",
   "execution_count": 64,
   "outputs": [
    {
     "data": {
      "text/plain": "defaultdict(<function __main__.<lambda>.<locals>.<lambda>()>,\n            {'Foraging': defaultdict(int, {'False': 1}),\n             'Navigation': defaultdict(int, {'False': 1}),\n             'Sensemaking': defaultdict(int, {'True': 1})})"
     },
     "execution_count": 64,
     "metadata": {},
     "output_type": "execute_result"
    }
   ],
   "source": [
    "for i in range(len(aggregate)):\n",
    "    for j in range(len(aggregate[i])):\n",
    "        if aggregate[i][j]\n"
   ],
   "metadata": {
    "collapsed": false,
    "pycharm": {
     "name": "#%%\n"
    }
   }
  },
  {
   "cell_type": "code",
   "execution_count": 40,
   "outputs": [
    {
     "data": {
      "text/plain": "defaultdict(<function __main__.<lambda>()>,\n            {'Foraging': defaultdict(int, {'False': 8, 'NED': 11, 'True': 1}),\n             'Navigation': defaultdict(int, {'False': 9, 'True': 11}),\n             'Sensemaking': defaultdict(int,\n                         {'NED': 9, 'False': 6, 'True': 7})})"
     },
     "execution_count": 40,
     "metadata": {},
     "output_type": "execute_result"
    }
   ],
   "source": [
    "aggregate"
   ],
   "metadata": {
    "collapsed": false,
    "pycharm": {
     "name": "#%%\n"
    }
   }
  },
  {
   "cell_type": "code",
   "execution_count": 1,
   "outputs": [],
   "source": [
    "a=[1,2,3,4,5,6,7]"
   ],
   "metadata": {
    "collapsed": false,
    "pycharm": {
     "name": "#%%\n"
    }
   }
  },
  {
   "cell_type": "code",
   "execution_count": 3,
   "outputs": [
    {
     "data": {
      "text/plain": "[6, 7]"
     },
     "execution_count": 3,
     "metadata": {},
     "output_type": "execute_result"
    }
   ],
   "source": [
    "a[5:]"
   ],
   "metadata": {
    "collapsed": false,
    "pycharm": {
     "name": "#%%\n"
    }
   }
  },
  {
   "cell_type": "code",
   "execution_count": null,
   "outputs": [],
   "source": [],
   "metadata": {
    "collapsed": false,
    "pycharm": {
     "name": "#%%\n"
    }
   }
  }
 ],
 "metadata": {
  "kernelspec": {
   "display_name": "Python 3",
   "language": "python",
   "name": "python3"
  },
  "language_info": {
   "codemirror_mode": {
    "name": "ipython",
    "version": 2
   },
   "file_extension": ".py",
   "mimetype": "text/x-python",
   "name": "python",
   "nbconvert_exporter": "python",
   "pygments_lexer": "ipython2",
   "version": "2.7.6"
  }
 },
 "nbformat": 4,
 "nbformat_minor": 0
}