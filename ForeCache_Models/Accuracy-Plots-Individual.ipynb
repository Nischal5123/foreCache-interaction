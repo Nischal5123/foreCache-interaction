{
 "cells": [
  {
   "cell_type": "code",
   "execution_count": 21,
   "metadata": {
    "collapsed": true,
    "ExecuteTime": {
     "end_time": "2024-10-08T00:14:51.377031Z",
     "start_time": "2024-10-08T00:14:51.373102Z"
    }
   },
   "outputs": [],
   "source": [
    "import numpy as np\n",
    "import matplotlib.pyplot as plt\n",
    "import pandas as pd\n",
    "import ast\n",
    "import re\n",
    "import ast\n",
    "import numpy as np\n",
    "from matplotlib.patches import Patch\n",
    "\n",
    "ANALYSIS_FOLDER = 'Experiments_Folder/VizRec/Analysis/'"
   ]
  },
  {
   "cell_type": "code",
   "execution_count": 22,
   "outputs": [],
   "source": [
    "def get_user_name(url):\n",
    "\n",
    "    if len(url) >15 or url.endswith('.csv'):\n",
    "        parts = url.split('/')\n",
    "        fname = parts[-1]\n",
    "        uname = fname.rstrip('_log.csv')\n",
    "        return uname\n",
    "    return url"
   ],
   "metadata": {
    "collapsed": false,
    "ExecuteTime": {
     "end_time": "2024-10-08T00:14:51.625965Z",
     "start_time": "2024-10-08T00:14:51.615755Z"
    }
   }
  },
  {
   "cell_type": "code",
   "execution_count": 16,
   "outputs": [],
   "source": [
    "def rename_algorithms(df):\n",
    "           #trim everything before first - for the algorithm name\n",
    "        df['Algorithm'] = df['Algorithm'].apply(lambda x: x.split('-')[0])\n",
    "        #rename algorithm name if AC then change to Actor-Critic if Online change to Online SVM if FullOffline change to  Offline SVM\n",
    "        df['Algorithm'] = df['Algorithm'].apply(lambda x: 'ActorCritic' if x == 'AC' else x)\n",
    "        df['Algorithm'] = df['Algorithm'].apply(lambda x: 'Online SVM' if x == 'Online' else x)\n",
    "        #df['Algorithm'] = df['Algorithm'].apply(lambda x: 'Offline SVM' if x == 'FullOfflineSVM' else x)\n",
    "        return df\n"
   ],
   "metadata": {
    "collapsed": false,
    "ExecuteTime": {
     "end_time": "2024-10-07T23:22:05.055205Z",
     "start_time": "2024-10-07T23:22:05.044707Z"
    }
   }
  },
  {
   "cell_type": "code",
   "execution_count": 23,
   "outputs": [],
   "source": [
    "import seaborn as sns\n",
    "import matplotlib.pyplot as plt\n",
    "import pandas as pd\n",
    "import numpy as np\n",
    "from matplotlib.patches import Patch\n",
    "import ast\n",
    "\n",
    "# Function to map predictions and ground truth to encoded values\n",
    "def encode_predictions(user_data, prediction_map):\n",
    "    \"\"\"\n",
    "    Encode the predictions and ground truth based on a mapping and return a dictionary\n",
    "    of algorithms with their corresponding encoded predictions.\n",
    "\n",
    "    Parameters:\n",
    "    - user_data: DataFrame containing user-specific results (including predictions).\n",
    "    - prediction_map: Dictionary mapping prediction categories to integers.\n",
    "\n",
    "    Returns:\n",
    "    - algorithm_pred: Dictionary with algorithms as keys and encoded prediction lists as values.\n",
    "    \"\"\"\n",
    "    algorithm_pred = {}\n",
    "\n",
    "    # Find QLearn's encoded truth, assume QLearn exists in the dataset\n",
    "    qlearn_data = user_data[user_data['Algorithm'] == 'QLearn']\n",
    "    if not qlearn_data.empty:\n",
    "        qlearn_truth = [prediction_map[truth] for truth in ast.literal_eval(qlearn_data.iloc[0]['GroundTruth'])]\n",
    "        algorithm_pred['Truth'] = qlearn_truth\n",
    "\n",
    "    # Encode predictions for all algorithms\n",
    "    for index, row in user_data.iterrows():\n",
    "        encode_pred = [prediction_map[pred] for pred in ast.literal_eval(row['Predictions'])]\n",
    "        algorithm_pred[row['Algorithm']] = encode_pred\n",
    "\n",
    "    return algorithm_pred\n",
    "\n",
    "# Function to normalize the length of all prediction lists\n",
    "def normalize_prediction_lengths(algorithm_pred):\n",
    "    \"\"\"\n",
    "    Ensure all prediction lists in the dictionary have the same length by padding\n",
    "    shorter lists with 0.\n",
    "\n",
    "    Parameters:\n",
    "    - algorithm_pred: Dictionary with algorithms and their corresponding encoded predictions.\n",
    "\n",
    "    Returns:\n",
    "    - algorithm_pred: Dictionary with predictions lists of the same length.\n",
    "    \"\"\"\n",
    "    #get min length\n",
    "    min_length = min([len(algorithm_pred[algorithm]) for algorithm in algorithm_pred])\n",
    "    #subtract min length from all lists\n",
    "    for algorithm in algorithm_pred:\n",
    "        algorithm_pred[algorithm] = algorithm_pred[algorithm][:min_length]\n",
    "    return algorithm_pred\n",
    "\n",
    "# Function to plot the heatmap with categorical color index\n",
    "def plot_encoded_predictions_heatmap(pred_df, user, categories, category_colors):\n",
    "    \"\"\"\n",
    "    Plot a heatmap of encoded predictions with a categorical color index.\n",
    "\n",
    "    Parameters:\n",
    "    - pred_df: DataFrame containing the encoded predictions for each algorithm.\n",
    "    - user: User identifier for the title of the plot.\n",
    "    - categories: Unique categories used for encoding predictions.\n",
    "    - category_colors: List of colors corresponding to the categories.\n",
    "    \"\"\"\n",
    "    sns.set(style='whitegrid')\n",
    "    plt.figure(figsize=(12, 6))\n",
    "\n",
    "    # Create a heatmap with space between algorithms\n",
    "    ax = sns.heatmap(pred_df.T, cmap=category_colors, cbar=False, annot=False, fmt='d',\n",
    "                     linewidths=2, linecolor='white')\n",
    "\n",
    "    # Add title and labels\n",
    "    plt.title(f'Encoded Predictions for User {user}')\n",
    "    ax.set_xticks([])  # Remove x labels and ticks\n",
    "    plt.ylabel('Algorithm')\n",
    "\n",
    "    # Create patches for the categorical color legend\n",
    "    legend_patches = [Patch(color=category_colors[i], label=f'modify-{categories[i]}')\n",
    "                      for i in range(len(categories))]\n",
    "\n",
    "    # Add a legend to the right of the plot\n",
    "    plt.legend(handles=legend_patches, title=\"Data Focus Shifts\", bbox_to_anchor=(1.05, 1), loc='upper left')\n",
    "\n",
    "    # Display the plot\n",
    "    plt.tight_layout()\n",
    "    plt.show()\n",
    "\n",
    "# Driver function to process and visualize user prediction data\n",
    "def driver_function(combined_results, user, prediction_map):\n",
    "    \"\"\"\n",
    "    Orchestrates the encoding, normalization, and plotting of predictions for a given user.\n",
    "\n",
    "    Parameters:\n",
    "    - combined_results: DataFrame containing all user results.\n",
    "    - user: Specific user identifier to filter the data.\n",
    "    - prediction_map: Dictionary mapping prediction categories to integers.\n",
    "    \"\"\"\n",
    "    # Filter user-specific data\n",
    "    user_data = combined_results[combined_results['User'] == user]\n",
    "\n",
    "    # Step 1: Encode predictions and ground truth (using QLearn's truth for all algorithms)\n",
    "    algorithm_pred = encode_predictions(user_data, prediction_map)\n",
    "\n",
    "    # Step 2: Normalize prediction lengths\n",
    "    algorithm_pred = normalize_prediction_lengths(algorithm_pred)\n",
    "\n",
    "    # Step 3: Add accuracy to the algorithm names\n",
    "    user_data['AlgorithmWithAccuracy'] = user_data.apply(lambda row: f\"{row['Algorithm']} ({row['Accuracy']:.2%})\", axis=1)\n",
    "\n",
    "    # Update algorithm_pred to use names with accuracies\n",
    "    algorithm_pred_with_acc = {}\n",
    "    for algorithm in algorithm_pred:\n",
    "        if algorithm == 'Truth':\n",
    "            algorithm_pred_with_acc['Truth'] = algorithm_pred[algorithm]\n",
    "            #create new algorithm called ShiftTruth where you shift the truth by 1 right last is 0\n",
    "            algorithm_pred_with_acc['ShiftTruth'] = [0] + algorithm_pred['Truth'][:-1]\n",
    "        else:\n",
    "            accuracy = user_data[user_data['Algorithm'] == algorithm]['Accuracy'].values[0]\n",
    "            algorithm_with_acc = f\"{algorithm} ({accuracy:.2%})\"\n",
    "            algorithm_pred_with_acc[algorithm_with_acc] = algorithm_pred[algorithm]\n",
    "\n",
    "    # Step 4: Create a DataFrame for the encoded predictions\n",
    "    pred_df = pd.DataFrame(algorithm_pred_with_acc)\n",
    "\n",
    "    # Step 5: Generate distinct colors for the categories\n",
    "    categories = np.unique(pred_df.values)\n",
    "\n",
    "    category_colors = sns.color_palette(\"tab10\", len(categories))\n",
    "\n",
    "    # Step 6: Plot the encoded predictions heatmap\n",
    "    plot_encoded_predictions_heatmap(pred_df, user, categories, category_colors)\n",
    "\n",
    "# Example usage:\n",
    "# driver_function(combined_results, user, prediction_map)\n"
   ],
   "metadata": {
    "collapsed": false,
    "ExecuteTime": {
     "end_time": "2024-10-08T00:15:38.765450Z",
     "start_time": "2024-10-08T00:15:38.763499Z"
    }
   }
  },
  {
   "cell_type": "code",
   "execution_count": 27,
   "outputs": [
    {
     "name": "stdout",
     "output_type": "stream",
     "text": [
      "Experiments_Folder/VizRec/movies/p1/QLearn-Aligned-Test-Single-Model.csv\n",
      "Experiments_Folder/VizRec/movies/p1/QLearn-Single-Model.csv\n",
      "Experiments_Folder/VizRec/movies/p1/FullOfflineSVM-Single-Model.csv\n",
      "Experiments_Folder/VizRec/movies/p1/Online-SVM-Single-Model.csv\n",
      "Experiments_Folder/VizRec/movies/p2/QLearn-Aligned-Test-Single-Model.csv\n",
      "Experiments_Folder/VizRec/movies/p2/QLearn-Single-Model.csv\n",
      "Experiments_Folder/VizRec/movies/p2/FullOfflineSVM-Single-Model.csv\n",
      "Experiments_Folder/VizRec/movies/p2/Online-SVM-Single-Model.csv\n",
      "Experiments_Folder/VizRec/movies/p3/QLearn-Aligned-Test-Single-Model.csv\n",
      "Experiments_Folder/VizRec/movies/p3/QLearn-Single-Model.csv\n",
      "Experiments_Folder/VizRec/movies/p3/FullOfflineSVM-Single-Model.csv\n",
      "Experiments_Folder/VizRec/movies/p3/Online-SVM-Single-Model.csv\n",
      "Experiments_Folder/VizRec/movies/p4/QLearn-Aligned-Test-Single-Model.csv\n",
      "Experiments_Folder/VizRec/movies/p4/QLearn-Single-Model.csv\n",
      "Experiments_Folder/VizRec/movies/p4/FullOfflineSVM-Single-Model.csv\n",
      "Experiments_Folder/VizRec/movies/p4/Online-SVM-Single-Model.csv\n",
      "Experiments_Folder/VizRec/birdstrikes/p1/QLearn-Aligned-Test-Single-Model.csv\n",
      "Experiments_Folder/VizRec/birdstrikes/p1/QLearn-Single-Model.csv\n",
      "Experiments_Folder/VizRec/birdstrikes/p1/FullOfflineSVM-Single-Model.csv\n",
      "Experiments_Folder/VizRec/birdstrikes/p1/Online-SVM-Single-Model.csv\n",
      "Experiments_Folder/VizRec/birdstrikes/p2/QLearn-Aligned-Test-Single-Model.csv\n",
      "Experiments_Folder/VizRec/birdstrikes/p2/QLearn-Single-Model.csv\n",
      "Experiments_Folder/VizRec/birdstrikes/p2/FullOfflineSVM-Single-Model.csv\n",
      "Experiments_Folder/VizRec/birdstrikes/p2/Online-SVM-Single-Model.csv\n",
      "Experiments_Folder/VizRec/birdstrikes/p3/QLearn-Aligned-Test-Single-Model.csv\n",
      "Experiments_Folder/VizRec/birdstrikes/p3/QLearn-Single-Model.csv\n",
      "Experiments_Folder/VizRec/birdstrikes/p3/FullOfflineSVM-Single-Model.csv\n",
      "Experiments_Folder/VizRec/birdstrikes/p3/Online-SVM-Single-Model.csv\n",
      "Experiments_Folder/VizRec/birdstrikes/p4/QLearn-Aligned-Test-Single-Model.csv\n",
      "Experiments_Folder/VizRec/birdstrikes/p4/QLearn-Single-Model.csv\n",
      "Experiments_Folder/VizRec/birdstrikes/p4/FullOfflineSVM-Single-Model.csv\n",
      "Experiments_Folder/VizRec/birdstrikes/p4/Online-SVM-Single-Model.csv\n"
     ]
    }
   ],
   "source": [
    "datasets = ['movies', 'birdstrikes']\n",
    "tasks = ['p1', 'p2', 'p3', 'p4']\n",
    "algorithms = ['QLearn-Aligned-Test-Single-Model', 'QLearn-Single-Model', 'FullOfflineSVM-Single-Model', 'Online-SVM-Single-Model']\n",
    "\n",
    "combined_results = pd.DataFrame()\n",
    "for dataset in datasets:\n",
    "    for task in tasks:\n",
    "        for algorithm in algorithms:\n",
    "            #combine into the same dataframe\n",
    "            print(f'Experiments_Folder/VizRec/{dataset}/{task}/{algorithm}.csv')\n",
    "            file_name = f\"Experiments_Folder/VizRec/{dataset}/{task}/{algorithm}.csv\"\n",
    "\n",
    "            results = pd.read_csv(file_name)\n",
    "            results['Dataset'] = dataset\n",
    "            results['Task'] = task\n",
    "            results['Algorithm'] = algorithm\n",
    "            if algorithm ==\"QLearn-Aligned-Test-Single-Model\":\n",
    "                results['Algorithm'] = \"QLearnAligned\"\n",
    "            if algorithm ==\"FullOfflineSVM-Single-Model\":\n",
    "                results['Algorithm'] = \"Offline SVM\"\n",
    "            combined_results = pd.concat([combined_results, results])"
   ],
   "metadata": {
    "collapsed": false,
    "ExecuteTime": {
     "end_time": "2024-10-08T00:17:12.774975Z",
     "start_time": "2024-10-08T00:17:12.696771Z"
    }
   }
  },
  {
   "cell_type": "code",
   "execution_count": 28,
   "outputs": [
    {
     "name": "stdout",
     "output_type": "stream",
     "text": [
      "Experiments_Folder/VizRec/movies/p1/Individual/QLearn-Individual-Model.csv\n",
      "Experiments_Folder/VizRec/movies/p1/Individual/QLearnAligned-Individual-Model.csv\n",
      "Experiments_Folder/VizRec/movies/p2/Individual/QLearn-Individual-Model.csv\n",
      "Experiments_Folder/VizRec/movies/p2/Individual/QLearnAligned-Individual-Model.csv\n",
      "Experiments_Folder/VizRec/movies/p3/Individual/QLearn-Individual-Model.csv\n",
      "Experiments_Folder/VizRec/movies/p3/Individual/QLearnAligned-Individual-Model.csv\n",
      "Experiments_Folder/VizRec/movies/p4/Individual/QLearn-Individual-Model.csv\n",
      "Experiments_Folder/VizRec/movies/p4/Individual/QLearnAligned-Individual-Model.csv\n",
      "Experiments_Folder/VizRec/birdstrikes/p1/Individual/QLearn-Individual-Model.csv\n",
      "Experiments_Folder/VizRec/birdstrikes/p1/Individual/QLearnAligned-Individual-Model.csv\n",
      "Experiments_Folder/VizRec/birdstrikes/p2/Individual/QLearn-Individual-Model.csv\n",
      "Experiments_Folder/VizRec/birdstrikes/p2/Individual/QLearnAligned-Individual-Model.csv\n",
      "Experiments_Folder/VizRec/birdstrikes/p3/Individual/QLearn-Individual-Model.csv\n",
      "Experiments_Folder/VizRec/birdstrikes/p3/Individual/QLearnAligned-Individual-Model.csv\n",
      "Experiments_Folder/VizRec/birdstrikes/p4/Individual/QLearn-Individual-Model.csv\n",
      "Experiments_Folder/VizRec/birdstrikes/p4/Individual/QLearnAligned-Individual-Model.csv\n"
     ]
    }
   ],
   "source": [
    "individual_algorithms=['QLearn-Individual-Model', 'QLearnAligned-Individual-Model']\n",
    "\n",
    "#(f\"Experiments_Folder/VizRec/{dataset}/{task}/Individual/QLearn-Individual-Model.csv\")\n",
    "\n",
    "for dataset in datasets:\n",
    "    for task in tasks:\n",
    "        for algorithm in individual_algorithms:\n",
    "            #combine into the same dataframe\n",
    "            print(f'Experiments_Folder/VizRec/{dataset}/{task}/Individual/{algorithm}.csv')\n",
    "            file_name = f\"Experiments_Folder/VizRec/{dataset}/{task}/Individual/{algorithm}.csv\"\n",
    "\n",
    "            results = pd.read_csv(file_name)\n",
    "            results['Dataset'] = dataset\n",
    "            results['Task'] = task\n",
    "            results['Algorithm'] = algorithm\n",
    "            combined_results = pd.concat([combined_results, results])"
   ],
   "metadata": {
    "collapsed": false,
    "ExecuteTime": {
     "end_time": "2024-10-08T00:17:13.462219Z",
     "start_time": "2024-10-08T00:17:13.427040Z"
    }
   }
  },
  {
   "cell_type": "code",
   "execution_count": 30,
   "outputs": [
    {
     "data": {
      "text/plain": "array(['QLearnAligned', 'QLearn-Single-Model', 'Offline SVM',\n       'Online-SVM-Single-Model', 'QLearn-Individual-Model',\n       'QLearnAligned-Individual-Model'], dtype=object)"
     },
     "execution_count": 30,
     "metadata": {},
     "output_type": "execute_result"
    }
   ],
   "source": [
    "#all algorithms\n",
    "#list\n",
    "algorithms = combined_results['Algorithm'].unique()\n",
    "algorithms"
   ],
   "metadata": {
    "collapsed": false,
    "ExecuteTime": {
     "end_time": "2024-10-08T00:17:56.330732Z",
     "start_time": "2024-10-08T00:17:56.319966Z"
    }
   }
  },
  {
   "cell_type": "code",
   "execution_count": 33,
   "outputs": [
    {
     "name": "stdout",
     "output_type": "stream",
     "text": [
      "All algorithms for user pro14_bdf_p3: ['QLearnAligned' 'QLearn-Single-Model' 'QLearn-Individual-Model'\n",
      " 'QLearnAligned-Individual-Model']\n"
     ]
    },
    {
     "data": {
      "text/plain": "<Figure size 1200x600 with 1 Axes>",
      "image/png": "[encoded data removed]"
     },
     "metadata": {},
     "output_type": "display_data"
    }
   ],
   "source": [
    "user = 'pro14_bdf_p3'\n",
    "resulting=combined_results[combined_results['User'] == user]\n",
    "print(f'All algorithms for user {user}: {resulting[\"Algorithm\"].unique()}')\n",
    "prediction_map = {'same': 0, 'modify-1': 1, 'modify-2': 2, 'modify-3': 3}\n",
    "# Call the driver function with the necessary parameters\n",
    "driver_function(resulting, user, prediction_map)"
   ],
   "metadata": {
    "collapsed": false,
    "ExecuteTime": {
     "end_time": "2024-10-08T00:19:08.304832Z",
     "start_time": "2024-10-08T00:19:08.190003Z"
    }
   }
  },
  {
   "cell_type": "code",
   "execution_count": null,
   "outputs": [],
   "source": [],
   "metadata": {
    "collapsed": false
   }
  }
 ],
 "metadata": {
  "kernelspec": {
   "display_name": "Python 3",
   "language": "python",
   "name": "python3"
  },
  "language_info": {
   "codemirror_mode": {
    "name": "ipython",
    "version": 2
   },
   "file_extension": ".py",
   "mimetype": "text/x-python",
   "name": "python",
   "nbconvert_exporter": "python",
   "pygments_lexer": "ipython2",
   "version": "2.7.6"
  }
 },
 "nbformat": 4,
 "nbformat_minor": 0
}
