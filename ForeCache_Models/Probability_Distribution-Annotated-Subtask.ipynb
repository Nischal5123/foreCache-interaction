{
 "cells": [
  {
   "cell_type": "code",
   "execution_count": 1,
   "metadata": {
    "collapsed": true
   },
   "outputs": [],
   "source": [
    "import glob\n",
    "import pandas as pd\n",
    "import numpy as np\n",
    "import environment2\n",
    "import pandas as pd\n",
    "pd.options.mode.chained_assignment = None  # default='warn'\n",
    "from collections import defaultdict\n",
    "\n",
    "from statsmodels.tsa.stattools import adfuller\n",
    "import pymannkendall as mk\n",
    "import warnings;   warnings.filterwarnings(\"ignore\")"
   ]
  },
  {
   "cell_type": "code",
   "execution_count": 2,
   "outputs": [],
   "source": [
    "env = environment2.environment2()\n",
    "user_list_2D = env.user_list_2D\n",
    "user_list_3D = env.user_list_3D"
   ],
   "metadata": {
    "collapsed": false,
    "pycharm": {
     "name": "#%%\n"
    }
   }
  },
  {
   "cell_type": "code",
   "execution_count": 3,
   "outputs": [
    {
     "data": {
      "text/plain": "'data/NDSI-2D\\\\taskname_ndsi-2d-task_userid_3abeecbe-327a-441e-be2a-0dd3763c1d45.csv'"
     },
     "execution_count": 3,
     "metadata": {},
     "output_type": "execute_result"
    }
   ],
   "source": [
    "user_list_2D[0]"
   ],
   "metadata": {
    "collapsed": false,
    "pycharm": {
     "name": "#%%\n"
    }
   }
  },
  {
   "cell_type": "code",
   "execution_count": 4,
   "outputs": [],
   "source": [
    "fileNames2D=['data/NDSI-2D\\\\taskname_ndsi-2d-task_userid_3abeecbe-327a-441e-be2a-0dd3763c1d45.csv',\n",
    " 'data/NDSI-2D\\\\taskname_ndsi-2d-task_userid_44968286-f204-4ad6-a9b5-d95b38e97866.csv',\n",
    " 'data/NDSI-2D\\\\taskname_ndsi-2d-task_userid_72a8d170-77ae-400e-b2a5-de9e1d33a714.csv',\n",
    " 'data/NDSI-2D\\\\taskname_ndsi-2d-task_userid_82316e37-1117-4663-84b4-ddb6455c83b2.csv',\n",
    " 'data/NDSI-2D\\\\taskname_ndsi-2d-task_userid_7d014c75-453b-4188-9e4e-fb086984896a.csv']"
   ],
   "metadata": {
    "collapsed": false,
    "pycharm": {
     "name": "#%%\n"
    }
   }
  },
  {
   "cell_type": "code",
   "execution_count": 5,
   "outputs": [],
   "source": [
    "# fileNames2D=user_list_2D"
   ],
   "metadata": {
    "collapsed": false,
    "pycharm": {
     "name": "#%%\n"
    }
   }
  },
  {
   "cell_type": "code",
   "execution_count": 6,
   "outputs": [
    {
     "data": {
      "text/plain": "['data/NDSI-2D\\\\taskname_ndsi-2d-task_userid_3abeecbe-327a-441e-be2a-0dd3763c1d45.csv',\n 'data/NDSI-2D\\\\taskname_ndsi-2d-task_userid_44968286-f204-4ad6-a9b5-d95b38e97866.csv',\n 'data/NDSI-2D\\\\taskname_ndsi-2d-task_userid_72a8d170-77ae-400e-b2a5-de9e1d33a714.csv',\n 'data/NDSI-2D\\\\taskname_ndsi-2d-task_userid_82316e37-1117-4663-84b4-ddb6455c83b2.csv',\n 'data/NDSI-2D\\\\taskname_ndsi-2d-task_userid_7d014c75-453b-4188-9e4e-fb086984896a.csv']"
     },
     "execution_count": 6,
     "metadata": {},
     "output_type": "execute_result"
    }
   ],
   "source": [
    "fileNames2D"
   ],
   "metadata": {
    "collapsed": false,
    "pycharm": {
     "name": "#%%\n"
    }
   }
  },
  {
   "cell_type": "code",
   "execution_count": 7,
   "outputs": [],
   "source": [
    "from collections import defaultdict\n",
    "def get_probabilities(dataframe):\n",
    "    dataframe['high-level-action']=np.zeros(len(dataframe))\n",
    "    probabilities=[]\n",
    "    map=dict()\n",
    "    # print(dataframe.head(5))\n",
    "    states=['Answering','Sensemaking','Foraging','Navigation']\n",
    "    actions=['change','same']\n",
    "    for state in states:\n",
    "      for action in actions:\n",
    "        map[state+action]=1\n",
    "\n",
    "\n",
    "    current_state=None\n",
    "    for i in range(len(dataframe)):\n",
    "      if dataframe[\"State\"][i]== current_state:\n",
    "        dataframe[\"high-level-action\"][i]=\"same\"\n",
    "      else:\n",
    "        dataframe[\"high-level-action\"][i]=\"change\"\n",
    "      current_state=dataframe[\"State\"][i]\n",
    "\n",
    "    for i in range(len(dataframe)):\n",
    "      if dataframe['State'][i]==\"Navigation\":\n",
    "        map[str(dataframe['State'][i]+dataframe['high-level-action'][i])] += 1\n",
    "        probs = (map[str(dataframe['State'][i]+dataframe['high-level-action'][i])])/(map['Navigationchange']  + map['Navigationsame'])\n",
    "\n",
    "      elif dataframe['State'][i]==\"Sensemaking\":\n",
    "        map[str(dataframe['State'][i]+dataframe['high-level-action'][i])] += 1\n",
    "        probs = (map[str(dataframe['State'][i]+dataframe['high-level-action'][i])])/(map['Sensemakingchange'] + map['Sensemakingsame'])\n",
    "\n",
    "      elif dataframe['State'][i]==\"Foraging\":\n",
    "        map[str(dataframe['State'][i]+dataframe['high-level-action'][i])] += 1\n",
    "        probs = (map[str(dataframe['State'][i]+dataframe['high-level-action'][i])])/(map['Foragingchange'] + map['Foragingsame'])\n",
    "      else:\n",
    "        map[str(dataframe['State'][i]+dataframe['high-level-action'][i])] += 1\n",
    "        probs = (map[str(dataframe['State'][i]+dataframe['high-level-action'][i])])/(map['Answeringsame'] + map['Answeringchange'])\n",
    "      probabilities.append(probs)\n",
    "    dataframe['probabilities']=probabilities\n",
    "    return dataframe, map"
   ],
   "metadata": {
    "collapsed": false,
    "pycharm": {
     "name": "#%%\n"
    }
   }
  },
  {
   "cell_type": "code",
   "execution_count": 13,
   "outputs": [],
   "source": [
    "from collections import defaultdict\n",
    "def get_probabilities_subtask(dataframe):\n",
    "    dataframe['high-level-action']=np.zeros(len(dataframe))\n",
    "    probabilities=[]\n",
    "    map=dict()\n",
    "    # print(dataframe.head(5))\n",
    "    states=['Sensemaking','Foraging','Navigation']\n",
    "    actions=['change','same']\n",
    "    for state in states:\n",
    "      for action in actions:\n",
    "        map[state+action]=1\n",
    "\n",
    "\n",
    "    current_state=None\n",
    "\n",
    "    for i in range(len(dataframe)):\n",
    "      if dataframe['State'][i]==\"Navigation\":\n",
    "        map[str(dataframe['State'][i]+dataframe['high-level-action'][i])] += 1\n",
    "        probs = (map[str(dataframe['State'][i]+dataframe['high-level-action'][i])])/(map['Navigationchange']  + map['Navigationsame'])\n",
    "\n",
    "      elif dataframe['State'][i]==\"Sensemaking\":\n",
    "        map[str(dataframe['State'][i]+dataframe['high-level-action'][i])] += 1\n",
    "        probs = (map[str(dataframe['State'][i]+dataframe['high-level-action'][i])])/(map['Sensemakingchange'] + map['Sensemakingsame'])\n",
    "\n",
    "      else :\n",
    "        map[str(dataframe['State'][i]+dataframe['high-level-action'][i])] += 1\n",
    "        probs = (map[str(dataframe['State'][i]+dataframe['high-level-action'][i])])/(map['Foragingchange'] + map['Foragingsame'])\n",
    "\n",
    "      probabilities.append(probs)\n",
    "    return probabilities"
   ],
   "metadata": {
    "collapsed": false,
    "pycharm": {
     "name": "#%%\n"
    }
   }
  },
  {
   "cell_type": "code",
   "execution_count": 8,
   "outputs": [],
   "source": [
    "from collections import defaultdict\n",
    "def get_probabilities_region(dataframe):\n",
    "    df=dataframe\n",
    "    probabilities=[]\n",
    "    map=defaultdict(lambda: defaultdict(int))\n",
    "    # print(dataframe.head(5))\n",
    "    actions=['Answering','Sensemaking','Foraging','Navigation']\n",
    "    states=['SouthEast','South','OhioValley','NorthernRockiesPlains','SouthWest','NorthWest','UpperMidwest','Northeast','West','Other','None']\n",
    "    for state in states:\n",
    "      for action in actions:\n",
    "        map[state][action]=1\n",
    "\n",
    "    for i in range(len(df)):\n",
    "      sum = 0\n",
    "      map[df['Most_frequent_region'][i]][df['State'][i]] +=1\n",
    "      for act in map[df['Most_frequent_region'][i]]:\n",
    "                sum += map[df['Most_frequent_region'][i]][act]\n",
    "      probs=map[df['Most_frequent_region'][i]][df['State'][i]]   / sum\n",
    "      probabilities.append(probs)\n",
    "    df['probabilities']= probabilities\n",
    "    return df, map"
   ],
   "metadata": {
    "collapsed": false,
    "pycharm": {
     "name": "#%%\n"
    }
   }
  },
  {
   "cell_type": "code",
   "execution_count": 9,
   "outputs": [],
   "source": [
    "class StationarityTests:\n",
    "    def __init__(self, significance=.05):\n",
    "        self.SignificanceLevel = significance\n",
    "        self.pValue = None\n",
    "        self.isStationary = None\n",
    "        self.trend= None\n",
    "\n",
    "    def ADF_Stationarity_Test(self, timeseries, printResults = True):\n",
    "      #Dickey-Fuller test:\n",
    "      adfTest = adfuller(timeseries, autolag='AIC')\n",
    "\n",
    "      self.pValue = adfTest[1]\n",
    "\n",
    "      if (self.pValue<self.SignificanceLevel):\n",
    "          self.isStationary = True\n",
    "      else:\n",
    "          self.isStationary = False\n",
    "\n",
    "      if printResults:\n",
    "          dfResults = pd.Series(adfTest[0:4], index=['ADF Test Statistic','P-Value','# Lags Used','# Observations Used'])\n",
    "          #Add Critical Values\n",
    "          for key,value in adfTest[4].items():\n",
    "              dfResults['Critical Value (%s)'%key] = value\n",
    "          print('Augmented Dickey-Fuller Test Results:')\n",
    "          print(dfResults)\n",
    "\n",
    "    def Mann_Kendall_Stationarity_Test(self, timeseries, printResults = True):\n",
    "      #Mann Kendall Trend Test:\n",
    "      mktTest = mk.original_test(timeseries,self.SignificanceLevel)\n",
    "\n",
    "      self.pValue = mktTest[2]\n",
    "      self.trend= mktTest[0]\n",
    "      self.isStationary = mktTest[1]\n",
    "\n",
    "      if printResults:\n",
    "          dfResults = pd.Series(mktTest[0:3], index=['Trend Type','Stationarity','P-Value'])\n",
    "          #Add Critical Values\n",
    "          for key,value in mktTest[3].items():\n",
    "              dfResults['Critical Value (%s)'%key] = value\n",
    "          print('Mann Kendall Trend Test:')\n",
    "          print(dfResults)"
   ],
   "metadata": {
    "collapsed": false,
    "pycharm": {
     "name": "#%%\n"
    }
   }
  },
  {
   "cell_type": "code",
   "execution_count": 10,
   "outputs": [
    {
     "name": "stdout",
     "output_type": "stream",
     "text": [
      "########################### data/NDSI-2D\\taskname_ndsi-2d-task_userid_3abeecbe-327a-441e-be2a-0dd3763c1d45.csv\n",
      "annotated_subtask: ####################### Subtask_1\n",
      "annotated_subtask: ####################### Subtask_2\n",
      "########################### data/NDSI-2D\\taskname_ndsi-2d-task_userid_44968286-f204-4ad6-a9b5-d95b38e97866.csv\n",
      "annotated_subtask: ####################### Subtask_1\n",
      "annotated_subtask: ####################### Subtask_2\n",
      "annotated_subtask: ####################### Subtask_3\n",
      "annotated_subtask: ####################### Subtask_4\n",
      "########################### data/NDSI-2D\\taskname_ndsi-2d-task_userid_72a8d170-77ae-400e-b2a5-de9e1d33a714.csv\n",
      "annotated_subtask: ####################### Subtask_1\n",
      "annotated_subtask: ####################### Subtask_2\n",
      "annotated_subtask: ####################### Subtask_3\n",
      "annotated_subtask: ####################### Subtask_4\n",
      "########################### data/NDSI-2D\\taskname_ndsi-2d-task_userid_82316e37-1117-4663-84b4-ddb6455c83b2.csv\n",
      "annotated_subtask: ####################### Subtask_1\n",
      "annotated_subtask: ####################### Subtask_2\n",
      "annotated_subtask: ####################### Subtask_3\n",
      "########################### data/NDSI-2D\\taskname_ndsi-2d-task_userid_7d014c75-453b-4188-9e4e-fb086984896a.csv\n",
      "annotated_subtask: ####################### Subtask_1\n",
      "annotated_subtask: ####################### Subtask_2\n",
      "annotated_subtask: ####################### Subtask_3\n",
      "annotated_subtask: ####################### Subtask_4\n",
      "annotated_subtask: ####################### Subtask_5\n",
      "annotated_subtask: ####################### Subtask_6\n",
      "annotated_subtask: ####################### Subtask_7\n",
      "annotated_subtask: ####################### Subtask_8\n",
      "annotated_subtask: ####################### Subtask_9\n"
     ]
    }
   ],
   "source": [
    "user=[]\n",
    "annotated_subtask=[]\n",
    "SouthEastAnswering=[]\n",
    "SouthEastSensemaking=[]\n",
    "SouthEastForaging=[]\n",
    "SouthEastNavigation=[]\n",
    "SouthAnswering=[]\n",
    "SouthSensemaking=[]\n",
    "SouthForaging=[]\n",
    "SouthNavigation=[]\n",
    "OhioValleyAnswering=[]\n",
    "OhioValleySensemaking=[]\n",
    "OhioValleyForaging=[]\n",
    "OhioValleyNavigation=[]\n",
    "NorthernRockiesPlainsAnswering=[]\n",
    "NorthernRockiesPlainsSensemaking=[]\n",
    "NorthernRockiesPlainsForaging=[]\n",
    "NorthernRockiesPlainsNavigation=[]\n",
    "SouthWestAnswering=[]\n",
    "SouthWestSensemaking=[]\n",
    "SouthWestForaging=[]\n",
    "SouthWestNavigation=[]\n",
    "NorthWestAnswering=[]\n",
    "NorthWestSensemaking=[]\n",
    "NorthWestForaging=[]\n",
    "NorthWestNavigation=[]\n",
    "UpperMidwestAnswering=[]\n",
    "UpperMidwestSensemaking=[]\n",
    "UpperMidwestForaging=[]\n",
    "UpperMidwestNavigation=[]\n",
    "OtherAnswering=[]\n",
    "OtherSensemaking=[]\n",
    "OtherForaging=[]\n",
    "OtherNavigation=[]\n",
    "NoneAnswering=[]\n",
    "NoneSensemaking=[]\n",
    "NoneForaging=[]\n",
    "NoneNavigation=[]\n",
    "\n",
    "output_dataframe=pd.DataFrame(columns=['User','annotated_subtask','SouthEastAnswering',\n",
    "'SouthEastSensemaking',\n",
    "'SouthEastForaging',\n",
    "'SouthEastNavigation',\n",
    "'SouthAnswering',\n",
    "'SouthSensemaking',\n",
    "'SouthForaging',\n",
    "'SouthNavigation',\n",
    "'OhioValleyAnswering',\n",
    "'OhioValleySensemaking',\n",
    "'OhioValleyForaging',\n",
    "'OhioValleyNavigation',\n",
    "'NorthernRockiesPlainsAnswering',\n",
    "'NorthernRockiesPlainsSensemaking',\n",
    "'NorthernRockiesPlainsForaging',\n",
    "'NorthernRockiesPlainsNavigation',\n",
    "'SouthWestAnswering',\n",
    "'SouthWestSensemaking',\n",
    "'SouthWestForaging',\n",
    "'SouthWestNavigation',\n",
    "'NorthWestAnswering',\n",
    "'NorthWestSensemaking',\n",
    "'NorthWestForaging',\n",
    "'NorthWestNavigation',\n",
    "'UpperMidwestAnswering',\n",
    "'UpperMidwestSensemaking',\n",
    "'UpperMidwestForaging',\n",
    "'UpperMidwestNavigation',\n",
    "'OtherAnswering',\n",
    "'OtherSensemaking',\n",
    "'OtherForaging',\n",
    "'OtherNavigation',\n",
    "'NoneAnswering',\n",
    "'NoneSensemaking',\n",
    "'NoneForaging',\n",
    "'NoneNavigation'])\n",
    "\n",
    "\n",
    "result_dataframe= pd.DataFrame(columns=['User','annotated_subtask','SouthEast','South','OhioValley','NorthernRockiesPlains','SouthWest','NorthWest','UpperMidwest','Northeast','West','Other','None'])\n",
    "\n",
    "for u in fileNames2D:\n",
    "  print(\"###########################\",u)\n",
    "  index=[]\n",
    "\n",
    "  all_dfs=[]\n",
    "  maps=[]\n",
    "  df = pd.read_csv(u)\n",
    "  u=u.lstrip('data/NDSI-2D\\\\taskname_ndsi-2d-task_')\n",
    "  #u=u.lstrip('data/NDSI-3D\\\\taskname_ndsi-3d-task_')\n",
    "  u=u.rstrip('.csv')\n",
    "\n",
    "\n",
    "  # print(df.ROI_Cycle.unique())\n",
    "  for k in  df['annotated_subtask'].unique():\n",
    "    dfs,mappings=get_probabilities_region((df.loc[df['annotated_subtask'] == k]).reset_index(drop=True))\n",
    "    mapper=dict()\n",
    "    mapper['User']=u\n",
    "    mapper['annotated_subtask']=k\n",
    "    print(\"annotated_subtask: #######################\", k)\n",
    "    for j in ['SouthEast','South','OhioValley','NorthernRockiesPlains','SouthWest','NorthWest','UpperMidwest','Northeast','West','Other','None']:\n",
    "        #print(\"Region: \",j ,\"Action Preferred: \" ,max(mappings[j], key=mappings[j].get))\n",
    "        maximum=max(mappings[j], key=mappings[j].get)\n",
    "        if mappings[j][maximum] > 1 :\n",
    "            action_preferred=maximum\n",
    "        else:\n",
    "            action_preferred='NA'\n",
    "        mapper[j]=action_preferred\n",
    "    some_df=pd.DataFrame([mapper])\n",
    "    result_dataframe = result_dataframe.append(some_df, ignore_index=True)\n",
    "    all_dfs.append(dfs)\n",
    "    maps.append(mappings)\n",
    "    annotated_subtask.append(k)\n",
    "    user.append(u)"
   ],
   "metadata": {
    "collapsed": false,
    "pycharm": {
     "name": "#%%\n"
    }
   }
  },
  {
   "cell_type": "code",
   "execution_count": 11,
   "outputs": [],
   "source": [
    "\n",
    "result_dataframe.to_csv(\"data/NDSI-2D\\\\region_new-actions_annotated_subtask.csv\", index=False)\n",
    "#output_dataframe.to_csv(\"data/NDSI-3D\\\\probability_distribution_roi_cycle_3d.csv\", index=False)"
   ],
   "metadata": {
    "collapsed": false,
    "pycharm": {
     "name": "#%%\n"
    }
   }
  },
  {
   "cell_type": "code",
   "execution_count": 12,
   "outputs": [
    {
     "data": {
      "text/plain": "                                           User annotated_subtask SouthEast  \\\n0   userid_3abeecbe-327a-441e-be2a-0dd3763c1d45         Subtask_1        NA   \n1   userid_3abeecbe-327a-441e-be2a-0dd3763c1d45         Subtask_2        NA   \n2   userid_44968286-f204-4ad6-a9b5-d95b38e97866         Subtask_1        NA   \n3   userid_44968286-f204-4ad6-a9b5-d95b38e97866         Subtask_2        NA   \n4   userid_44968286-f204-4ad6-a9b5-d95b38e97866         Subtask_3        NA   \n5   userid_44968286-f204-4ad6-a9b5-d95b38e97866         Subtask_4        NA   \n6   userid_72a8d170-77ae-400e-b2a5-de9e1d33a714         Subtask_1        NA   \n7   userid_72a8d170-77ae-400e-b2a5-de9e1d33a714         Subtask_2        NA   \n8   userid_72a8d170-77ae-400e-b2a5-de9e1d33a714         Subtask_3        NA   \n9   userid_72a8d170-77ae-400e-b2a5-de9e1d33a714         Subtask_4        NA   \n10  userid_82316e37-1117-4663-84b4-ddb6455c83b2         Subtask_1        NA   \n11  userid_82316e37-1117-4663-84b4-ddb6455c83b2         Subtask_2        NA   \n12  userid_82316e37-1117-4663-84b4-ddb6455c83b2         Subtask_3        NA   \n13  userid_7d014c75-453b-4188-9e4e-fb086984896a         Subtask_1        NA   \n14  userid_7d014c75-453b-4188-9e4e-fb086984896a         Subtask_2        NA   \n15  userid_7d014c75-453b-4188-9e4e-fb086984896a         Subtask_3        NA   \n16  userid_7d014c75-453b-4188-9e4e-fb086984896a         Subtask_4        NA   \n17  userid_7d014c75-453b-4188-9e4e-fb086984896a         Subtask_5        NA   \n18  userid_7d014c75-453b-4188-9e4e-fb086984896a         Subtask_6        NA   \n19  userid_7d014c75-453b-4188-9e4e-fb086984896a         Subtask_7        NA   \n\n          South OhioValley NorthernRockiesPlains    SouthWest   NorthWest  \\\n0      Foraging         NA                    NA           NA          NA   \n1            NA         NA           Sensemaking           NA          NA   \n2      Foraging         NA                    NA           NA  Navigation   \n3    Navigation         NA            Navigation           NA          NA   \n4      Foraging         NA                    NA           NA          NA   \n5      Foraging         NA            Navigation   Navigation          NA   \n6      Foraging         NA                    NA           NA          NA   \n7            NA         NA           Sensemaking           NA          NA   \n8            NA         NA            Navigation           NA  Navigation   \n9      Foraging         NA            Navigation           NA          NA   \n10   Navigation         NA                    NA           NA          NA   \n11           NA         NA                    NA           NA  Navigation   \n12     Foraging         NA            Navigation  Sensemaking          NA   \n13     Foraging         NA                    NA           NA          NA   \n14   Navigation         NA              Foraging           NA  Navigation   \n15  Sensemaking         NA           Sensemaking  Sensemaking          NA   \n16           NA         NA              Foraging           NA          NA   \n17     Foraging         NA           Sensemaking  Sensemaking          NA   \n18           NA         NA           Sensemaking           NA  Navigation   \n19     Foraging         NA            Navigation           NA          NA   \n\n   UpperMidwest   Northeast        West        Other         None  \n0      Foraging          NA          NA           NA     Foraging  \n1    Navigation          NA          NA           NA           NA  \n2            NA          NA  Navigation           NA     Foraging  \n3      Foraging          NA  Navigation           NA     Foraging  \n4            NA  Navigation          NA           NA   Navigation  \n5    Navigation          NA          NA  Sensemaking     Foraging  \n6            NA          NA          NA           NA     Foraging  \n7            NA          NA  Navigation           NA   Navigation  \n8            NA          NA    Foraging           NA   Navigation  \n9      Foraging    Foraging    Foraging           NA     Foraging  \n10   Navigation          NA          NA           NA   Navigation  \n11           NA          NA  Navigation           NA   Navigation  \n12     Foraging    Foraging    Foraging  Sensemaking     Foraging  \n13     Foraging          NA          NA     Foraging     Foraging  \n14           NA    Foraging  Navigation           NA     Foraging  \n15     Foraging    Foraging    Foraging           NA  Sensemaking  \n16           NA  Navigation          NA           NA  Sensemaking  \n17           NA          NA          NA  Sensemaking     Foraging  \n18           NA          NA          NA           NA   Navigation  \n19   Navigation          NA  Navigation  Sensemaking   Navigation  ",
      "text/html": "<div>\n<style scoped>\n    .dataframe tbody tr th:only-of-type {\n        vertical-align: middle;\n    }\n\n    .dataframe tbody tr th {\n        vertical-align: top;\n    }\n\n    .dataframe thead th {\n        text-align: right;\n    }\n</style>\n<table border=\"1\" class=\"dataframe\">\n  <thead>\n    <tr style=\"text-align: right;\">\n      <th></th>\n      <th>User</th>\n      <th>annotated_subtask</th>\n      <th>SouthEast</th>\n      <th>South</th>\n      <th>OhioValley</th>\n      <th>NorthernRockiesPlains</th>\n      <th>SouthWest</th>\n      <th>NorthWest</th>\n      <th>UpperMidwest</th>\n      <th>Northeast</th>\n      <th>West</th>\n      <th>Other</th>\n      <th>None</th>\n    </tr>\n  </thead>\n  <tbody>\n    <tr>\n      <th>0</th>\n      <td>userid_3abeecbe-327a-441e-be2a-0dd3763c1d45</td>\n      <td>Subtask_1</td>\n      <td>NA</td>\n      <td>Foraging</td>\n      <td>NA</td>\n      <td>NA</td>\n      <td>NA</td>\n      <td>NA</td>\n      <td>Foraging</td>\n      <td>NA</td>\n      <td>NA</td>\n      <td>NA</td>\n      <td>Foraging</td>\n    </tr>\n    <tr>\n      <th>1</th>\n      <td>userid_3abeecbe-327a-441e-be2a-0dd3763c1d45</td>\n      <td>Subtask_2</td>\n      <td>NA</td>\n      <td>NA</td>\n      <td>NA</td>\n      <td>Sensemaking</td>\n      <td>NA</td>\n      <td>NA</td>\n      <td>Navigation</td>\n      <td>NA</td>\n      <td>NA</td>\n      <td>NA</td>\n      <td>NA</td>\n    </tr>\n    <tr>\n      <th>2</th>\n      <td>userid_44968286-f204-4ad6-a9b5-d95b38e97866</td>\n      <td>Subtask_1</td>\n      <td>NA</td>\n      <td>Foraging</td>\n      <td>NA</td>\n      <td>NA</td>\n      <td>NA</td>\n      <td>Navigation</td>\n      <td>NA</td>\n      <td>NA</td>\n      <td>Navigation</td>\n      <td>NA</td>\n      <td>Foraging</td>\n    </tr>\n    <tr>\n      <th>3</th>\n      <td>userid_44968286-f204-4ad6-a9b5-d95b38e97866</td>\n      <td>Subtask_2</td>\n      <td>NA</td>\n      <td>Navigation</td>\n      <td>NA</td>\n      <td>Navigation</td>\n      <td>NA</td>\n      <td>NA</td>\n      <td>Foraging</td>\n      <td>NA</td>\n      <td>Navigation</td>\n      <td>NA</td>\n      <td>Foraging</td>\n    </tr>\n    <tr>\n      <th>4</th>\n      <td>userid_44968286-f204-4ad6-a9b5-d95b38e97866</td>\n      <td>Subtask_3</td>\n      <td>NA</td>\n      <td>Foraging</td>\n      <td>NA</td>\n      <td>NA</td>\n      <td>NA</td>\n      <td>NA</td>\n      <td>NA</td>\n      <td>Navigation</td>\n      <td>NA</td>\n      <td>NA</td>\n      <td>Navigation</td>\n    </tr>\n    <tr>\n      <th>5</th>\n      <td>userid_44968286-f204-4ad6-a9b5-d95b38e97866</td>\n      <td>Subtask_4</td>\n      <td>NA</td>\n      <td>Foraging</td>\n      <td>NA</td>\n      <td>Navigation</td>\n      <td>Navigation</td>\n      <td>NA</td>\n      <td>Navigation</td>\n      <td>NA</td>\n      <td>NA</td>\n      <td>Sensemaking</td>\n      <td>Foraging</td>\n    </tr>\n    <tr>\n      <th>6</th>\n      <td>userid_72a8d170-77ae-400e-b2a5-de9e1d33a714</td>\n      <td>Subtask_1</td>\n      <td>NA</td>\n      <td>Foraging</td>\n      <td>NA</td>\n      <td>NA</td>\n      <td>NA</td>\n      <td>NA</td>\n      <td>NA</td>\n      <td>NA</td>\n      <td>NA</td>\n      <td>NA</td>\n      <td>Foraging</td>\n    </tr>\n    <tr>\n      <th>7</th>\n      <td>userid_72a8d170-77ae-400e-b2a5-de9e1d33a714</td>\n      <td>Subtask_2</td>\n      <td>NA</td>\n      <td>NA</td>\n      <td>NA</td>\n      <td>Sensemaking</td>\n      <td>NA</td>\n      <td>NA</td>\n      <td>NA</td>\n      <td>NA</td>\n      <td>Navigation</td>\n      <td>NA</td>\n      <td>Navigation</td>\n    </tr>\n    <tr>\n      <th>8</th>\n      <td>userid_72a8d170-77ae-400e-b2a5-de9e1d33a714</td>\n      <td>Subtask_3</td>\n      <td>NA</td>\n      <td>NA</td>\n      <td>NA</td>\n      <td>Navigation</td>\n      <td>NA</td>\n      <td>Navigation</td>\n      <td>NA</td>\n      <td>NA</td>\n      <td>Foraging</td>\n      <td>NA</td>\n      <td>Navigation</td>\n    </tr>\n    <tr>\n      <th>9</th>\n      <td>userid_72a8d170-77ae-400e-b2a5-de9e1d33a714</td>\n      <td>Subtask_4</td>\n      <td>NA</td>\n      <td>Foraging</td>\n      <td>NA</td>\n      <td>Navigation</td>\n      <td>NA</td>\n      <td>NA</td>\n      <td>Foraging</td>\n      <td>Foraging</td>\n      <td>Foraging</td>\n      <td>NA</td>\n      <td>Foraging</td>\n    </tr>\n    <tr>\n      <th>10</th>\n      <td>userid_82316e37-1117-4663-84b4-ddb6455c83b2</td>\n      <td>Subtask_1</td>\n      <td>NA</td>\n      <td>Navigation</td>\n      <td>NA</td>\n      <td>NA</td>\n      <td>NA</td>\n      <td>NA</td>\n      <td>Navigation</td>\n      <td>NA</td>\n      <td>NA</td>\n      <td>NA</td>\n      <td>Navigation</td>\n    </tr>\n    <tr>\n      <th>11</th>\n      <td>userid_82316e37-1117-4663-84b4-ddb6455c83b2</td>\n      <td>Subtask_2</td>\n      <td>NA</td>\n      <td>NA</td>\n      <td>NA</td>\n      <td>NA</td>\n      <td>NA</td>\n      <td>Navigation</td>\n      <td>NA</td>\n      <td>NA</td>\n      <td>Navigation</td>\n      <td>NA</td>\n      <td>Navigation</td>\n    </tr>\n    <tr>\n      <th>12</th>\n      <td>userid_82316e37-1117-4663-84b4-ddb6455c83b2</td>\n      <td>Subtask_3</td>\n      <td>NA</td>\n      <td>Foraging</td>\n      <td>NA</td>\n      <td>Navigation</td>\n      <td>Sensemaking</td>\n      <td>NA</td>\n      <td>Foraging</td>\n      <td>Foraging</td>\n      <td>Foraging</td>\n      <td>Sensemaking</td>\n      <td>Foraging</td>\n    </tr>\n    <tr>\n      <th>13</th>\n      <td>userid_7d014c75-453b-4188-9e4e-fb086984896a</td>\n      <td>Subtask_1</td>\n      <td>NA</td>\n      <td>Foraging</td>\n      <td>NA</td>\n      <td>NA</td>\n      <td>NA</td>\n      <td>NA</td>\n      <td>Foraging</td>\n      <td>NA</td>\n      <td>NA</td>\n      <td>Foraging</td>\n      <td>Foraging</td>\n    </tr>\n    <tr>\n      <th>14</th>\n      <td>userid_7d014c75-453b-4188-9e4e-fb086984896a</td>\n      <td>Subtask_2</td>\n      <td>NA</td>\n      <td>Navigation</td>\n      <td>NA</td>\n      <td>Foraging</td>\n      <td>NA</td>\n      <td>Navigation</td>\n      <td>NA</td>\n      <td>Foraging</td>\n      <td>Navigation</td>\n      <td>NA</td>\n      <td>Foraging</td>\n    </tr>\n    <tr>\n      <th>15</th>\n      <td>userid_7d014c75-453b-4188-9e4e-fb086984896a</td>\n      <td>Subtask_3</td>\n      <td>NA</td>\n      <td>Sensemaking</td>\n      <td>NA</td>\n      <td>Sensemaking</td>\n      <td>Sensemaking</td>\n      <td>NA</td>\n      <td>Foraging</td>\n      <td>Foraging</td>\n      <td>Foraging</td>\n      <td>NA</td>\n      <td>Sensemaking</td>\n    </tr>\n    <tr>\n      <th>16</th>\n      <td>userid_7d014c75-453b-4188-9e4e-fb086984896a</td>\n      <td>Subtask_4</td>\n      <td>NA</td>\n      <td>NA</td>\n      <td>NA</td>\n      <td>Foraging</td>\n      <td>NA</td>\n      <td>NA</td>\n      <td>NA</td>\n      <td>Navigation</td>\n      <td>NA</td>\n      <td>NA</td>\n      <td>Sensemaking</td>\n    </tr>\n    <tr>\n      <th>17</th>\n      <td>userid_7d014c75-453b-4188-9e4e-fb086984896a</td>\n      <td>Subtask_5</td>\n      <td>NA</td>\n      <td>Foraging</td>\n      <td>NA</td>\n      <td>Sensemaking</td>\n      <td>Sensemaking</td>\n      <td>NA</td>\n      <td>NA</td>\n      <td>NA</td>\n      <td>NA</td>\n      <td>Sensemaking</td>\n      <td>Foraging</td>\n    </tr>\n    <tr>\n      <th>18</th>\n      <td>userid_7d014c75-453b-4188-9e4e-fb086984896a</td>\n      <td>Subtask_6</td>\n      <td>NA</td>\n      <td>NA</td>\n      <td>NA</td>\n      <td>Sensemaking</td>\n      <td>NA</td>\n      <td>Navigation</td>\n      <td>NA</td>\n      <td>NA</td>\n      <td>NA</td>\n      <td>NA</td>\n      <td>Navigation</td>\n    </tr>\n    <tr>\n      <th>19</th>\n      <td>userid_7d014c75-453b-4188-9e4e-fb086984896a</td>\n      <td>Subtask_7</td>\n      <td>NA</td>\n      <td>Foraging</td>\n      <td>NA</td>\n      <td>Navigation</td>\n      <td>NA</td>\n      <td>NA</td>\n      <td>Navigation</td>\n      <td>NA</td>\n      <td>Navigation</td>\n      <td>Sensemaking</td>\n      <td>Navigation</td>\n    </tr>\n  </tbody>\n</table>\n</div>"
     },
     "execution_count": 12,
     "metadata": {},
     "output_type": "execute_result"
    }
   ],
   "source": [
    "result_dataframe.head(20)"
   ],
   "metadata": {
    "collapsed": false,
    "pycharm": {
     "name": "#%%\n"
    }
   }
  },
  {
   "cell_type": "code",
   "execution_count": 56,
   "outputs": [
    {
     "name": "stdout",
     "output_type": "stream",
     "text": [
      "########################### data/NDSI-2D\\taskname_ndsi-2d-task_userid_3abeecbe-327a-441e-be2a-0dd3763c1d45.csv\n",
      "annotated_subtask: ####################### Subtask_1  TimeSpent: ##############  89.844 14 6\n",
      "State is:  Foraging   MKT Result is:   increasing\n",
      "State is:  Navigation   MKT Result is:   Not Enough Data\n",
      "annotated_subtask: ####################### Subtask_2  TimeSpent: ##############  86.023 23 4\n",
      "State is:  Navigation   MKT Result is:   increasing\n",
      "State is:  Sensemaking   MKT Result is:   increasing\n",
      "##################################################\n",
      "##################################################\n",
      "########################### data/NDSI-2D\\taskname_ndsi-2d-task_userid_44968286-f204-4ad6-a9b5-d95b38e97866.csv\n",
      "annotated_subtask: ####################### Subtask_1  TimeSpent: ##############  110.288 25 4\n",
      "State is:  Foraging   MKT Result is:   no trend\n",
      "State is:  Navigation   MKT Result is:   no trend\n",
      "State is:  Sensemaking   MKT Result is:   increasing\n",
      "annotated_subtask: ####################### Subtask_2  TimeSpent: ##############  12.590999999999998 15 1\n",
      "State is:  Navigation   MKT Result is:   increasing\n",
      "State is:  Foraging   MKT Result is:   Not Enough Data\n",
      "State is:  Sensemaking   MKT Result is:   Not Enough Data\n",
      "annotated_subtask: ####################### Subtask_3  TimeSpent: ##############  11.072 13 1\n",
      "State is:  Foraging   MKT Result is:   Not Enough Data\n",
      "State is:  Navigation   MKT Result is:   increasing\n",
      "State is:  Sensemaking   MKT Result is:   Not Enough Data\n",
      "annotated_subtask: ####################### Subtask_4  TimeSpent: ##############  50.452 34 1\n",
      "State is:  Foraging   MKT Result is:   increasing\n",
      "State is:  Navigation   MKT Result is:   no trend\n",
      "State is:  Sensemaking   MKT Result is:   no trend\n",
      "##################################################\n",
      "##################################################\n",
      "##################################################\n",
      "##################################################\n",
      "########################### data/NDSI-2D\\taskname_ndsi-2d-task_userid_72a8d170-77ae-400e-b2a5-de9e1d33a714.csv\n",
      "annotated_subtask: ####################### Subtask_1  TimeSpent: ##############  42.251000000000005 6 7\n",
      "State is:  Foraging   MKT Result is:   increasing\n",
      "annotated_subtask: ####################### Subtask_2  TimeSpent: ##############  28.192999999999998 9 3\n",
      "State is:  Navigation   MKT Result is:   no trend\n",
      "State is:  Sensemaking   MKT Result is:   Not Enough Data\n",
      "annotated_subtask: ####################### Subtask_3  TimeSpent: ##############  60.712 28 2\n",
      "State is:  Foraging   MKT Result is:   Not Enough Data\n",
      "State is:  Navigation   MKT Result is:   no trend\n",
      "State is:  Sensemaking   MKT Result is:   no trend\n",
      "State is:  Answering   MKT Result is:   Not Enough Data\n",
      "annotated_subtask: ####################### Subtask_4  TimeSpent: ##############  74.65099999999997 38 2\n",
      "State is:  Foraging   MKT Result is:   increasing\n",
      "State is:  Navigation   MKT Result is:   increasing\n",
      "State is:  Sensemaking   MKT Result is:   Not Enough Data\n",
      "##################################################\n",
      "##################################################\n",
      "##################################################\n",
      "##################################################\n",
      "########################### data/NDSI-2D\\taskname_ndsi-2d-task_userid_82316e37-1117-4663-84b4-ddb6455c83b2.csv\n",
      "annotated_subtask: ####################### Subtask_1  TimeSpent: ##############  31.502 5 6\n",
      "State is:  Foraging   MKT Result is:   Not Enough Data\n",
      "State is:  Navigation   MKT Result is:   no trend\n",
      "annotated_subtask: ####################### Subtask_2  TimeSpent: ##############  13.877 10 1\n",
      "State is:  Navigation   MKT Result is:   no trend\n",
      "State is:  Sensemaking   MKT Result is:   Not Enough Data\n",
      "State is:  Foraging   MKT Result is:   Not Enough Data\n",
      "annotated_subtask: ####################### Subtask_3  TimeSpent: ##############  34.512 34 1\n",
      "State is:  Foraging   MKT Result is:   increasing\n",
      "State is:  Navigation   MKT Result is:   increasing\n",
      "State is:  Sensemaking   MKT Result is:   increasing\n",
      "##################################################\n",
      "##################################################\n",
      "##################################################\n",
      "########################### data/NDSI-2D\\taskname_ndsi-2d-task_userid_7d014c75-453b-4188-9e4e-fb086984896a.csv\n",
      "annotated_subtask: ####################### Subtask_1  TimeSpent: ##############  65.189 26 3\n",
      "State is:  Foraging   MKT Result is:   increasing\n",
      "State is:  Navigation   MKT Result is:   increasing\n",
      "annotated_subtask: ####################### Subtask_2  TimeSpent: ##############  32.21300000000001 20 2\n",
      "State is:  Navigation   MKT Result is:   increasing\n",
      "State is:  Foraging   MKT Result is:   increasing\n",
      "State is:  Sensemaking   MKT Result is:   Not Enough Data\n",
      "annotated_subtask: ####################### Subtask_3  TimeSpent: ##############  44.135 48 1\n",
      "State is:  Navigation   MKT Result is:   increasing\n",
      "State is:  Foraging   MKT Result is:   no trend\n",
      "State is:  Sensemaking   MKT Result is:   increasing\n",
      "annotated_subtask: ####################### Subtask_4  TimeSpent: ##############  17.929000000000002 25 1\n",
      "State is:  Foraging   MKT Result is:   no trend\n",
      "State is:  Navigation   MKT Result is:   increasing\n",
      "State is:  Sensemaking   MKT Result is:   increasing\n",
      "annotated_subtask: ####################### Subtask_5  TimeSpent: ##############  16.395999999999997 19 1\n",
      "State is:  Navigation   MKT Result is:   Not Enough Data\n",
      "State is:  Foraging   MKT Result is:   Not Enough Data\n",
      "State is:  Sensemaking   MKT Result is:   increasing\n",
      "annotated_subtask: ####################### Subtask_6  TimeSpent: ##############  6.922000000000001 11 1\n",
      "State is:  Sensemaking   MKT Result is:   Not Enough Data\n",
      "State is:  Navigation   MKT Result is:   no trend\n",
      "annotated_subtask: ####################### Subtask_7  TimeSpent: ##############  14.572000000000001 22 1\n",
      "State is:  Navigation   MKT Result is:   increasing\n",
      "State is:  Foraging   MKT Result is:   no trend\n",
      "State is:  Sensemaking   MKT Result is:   increasing\n",
      "annotated_subtask: ####################### Subtask_8  TimeSpent: ##############  12.982000000000001 9 1\n",
      "State is:  Navigation   MKT Result is:   Not Enough Data\n",
      "State is:  Sensemaking   MKT Result is:   increasing\n",
      "annotated_subtask: ####################### Subtask_9  TimeSpent: ##############  32.323 15 2\n",
      "State is:  Navigation   MKT Result is:   Not Enough Data\n",
      "State is:  Foraging   MKT Result is:   no trend\n",
      "State is:  Sensemaking   MKT Result is:   increasing\n",
      "##################################################\n",
      "##################################################\n",
      "##################################################\n",
      "##################################################\n",
      "##################################################\n",
      "##################################################\n",
      "##################################################\n",
      "##################################################\n",
      "##################################################\n"
     ]
    }
   ],
   "source": [
    "user=[]\n",
    "annotated_subtask=[]\n",
    "Foragingchange=[]\n",
    "Foragingsame=[]\n",
    "Foraging=[]\n",
    "Sensemakingchange=[]\n",
    "Sensemakingsame=[]\n",
    "Sensemaking=[]\n",
    "Navigationsame=[]\n",
    "Navigationchange=[]\n",
    "Navigation=[]\n",
    "\n",
    "\n",
    "output_dataframe=pd.DataFrame(columns=['User','annotated_subtask','Foragingchange','Foragingsame','Sensemakingchange','Sensemakingsame','Navigationsame','Navigationchange','Foraging','Navigation','Sensemaking'])\n",
    "for u in fileNames2D:\n",
    "  print(\"###########################\",u)\n",
    "  index=[]\n",
    "\n",
    "  all_dfs=[]\n",
    "  maps=[]\n",
    "  df = pd.read_csv(u)\n",
    "  u=u.lstrip('data/NDSI-2D\\\\taskname_ndsi-2d-task_')\n",
    "  #u=u.lstrip('data/NDSI-3D\\\\taskname_ndsi-3d-task_')\n",
    "  u=u.rstrip('.csv')\n",
    "\n",
    "\n",
    "\n",
    "\n",
    "  # print(df.ROI_Cycle.unique())\n",
    "  for k in df['annotated_subtask'].unique():\n",
    "    dfs,mappings=get_probabilities((df.loc[df['annotated_subtask'] == k]).reset_index(drop=True))\n",
    "    print(\"annotated_subtask: #######################\", k, \" TimeSpent: ############## \", dfs['IdleTime'].sum(), len(dfs), round(dfs['IdleTime'].sum()/len(dfs),2) )\n",
    "    for j in dfs.State.unique():\n",
    "        series=(dfs.loc[(dfs['State'] == j) & (dfs[\"high-level-action\"]==\"same\")])['probabilities']\n",
    "        if len(series) > 2 :\n",
    "            sTest_state = StationarityTests()\n",
    "            sTest_state.Mann_Kendall_Stationarity_Test(series.values, printResults = False)\n",
    "            print(\"State is: \", j, \"  MKT Result is:  \", sTest_state.trend)\n",
    "        else :\n",
    "             print(\"State is: \", j, \"  MKT Result is:  \",\"Not Enough Data\")\n",
    "    all_dfs.append(dfs)\n",
    "    maps.append(mappings)\n",
    "    annotated_subtask.append(k)\n",
    "    user.append(u)\n",
    "  for k in range(len(maps)):\n",
    "      #print(\"Cycle: \",k, \"Foragingchange: \",maps[k]['Foragingchange']/(maps[k]['Foragingsame'] + maps[k]['Foragingchange']) )\n",
    "      Foragingchange.append(maps[k]['Foragingchange']/(maps[k]['Foragingsame'] + maps[k]['Foragingchange']) )\n",
    "      #print(\"Cycle: \",k, \"Foragingsame: \",maps[k]['Foragingsame']/(maps[k]['Foragingsame'] + maps[k]['Foragingchange']) )\n",
    "      Foragingsame.append(maps[k]['Foragingsame']/(maps[k]['Foragingsame'] + maps[k]['Foragingchange']))\n",
    "      Foraging.append((maps[k]['Foragingsame'] + maps[k]['Foragingchange']))\n",
    "\n",
    "\n",
    "      #print(\"Cycle: \",k, \"Navigationchange: \",maps[k]['Navigationchange']/(maps[k]['Navigationsame'] + maps[k]['Navigationchange']) )\n",
    "      Navigationchange.append(maps[k]['Navigationchange']/(maps[k]['Navigationsame'] + maps[k]['Navigationchange']) )\n",
    "      #print(\"Cycle: \",k, \"Navigationsame: \",maps[k]['Navigationsame']/(maps[k]['Navigationsame'] + maps[k]['Navigationchange']) )\n",
    "      Navigationsame.append(maps[k]['Navigationsame']/(maps[k]['Navigationsame'] + maps[k]['Navigationchange']))\n",
    "      Navigation.append((maps[k]['Navigationsame'] + maps[k]['Navigationchange']))\n",
    "\n",
    "\n",
    "      #print(\"Cycle: \",k, \"Sensemakingchange: \",maps[k]['Sensemakingchange']/(maps[k]['Sensemakingsame'] + maps[k]['Sensemakingchange']) )\n",
    "      Sensemakingchange.append(maps[k]['Sensemakingchange']/(maps[k]['Sensemakingsame'] + maps[k]['Sensemakingchange']))\n",
    "      #print(\"Cycle: \",k, \"Sensemakingsame: \",maps[k]['Sensemakingsame']/(maps[k]['Sensemakingsame'] + maps[k]['Sensemakingchange']) )\n",
    "      Sensemakingsame.append(maps[k]['Sensemakingsame']/(maps[k]['Sensemakingsame'] + maps[k]['Sensemakingchange']))\n",
    "      Sensemaking.append((maps[k]['Sensemakingsame'] + maps[k]['Sensemakingchange']))\n",
    "\n",
    "\n",
    "      print(\"##################################################\")\n",
    "\n",
    "\n",
    "output_dataframe['User']=user\n",
    "output_dataframe['annotated_subtask']=annotated_subtask\n",
    "output_dataframe['Foragingchange']=Foragingchange\n",
    "output_dataframe['Foragingsame']=Foragingsame\n",
    "output_dataframe['Foraging']=Foraging\n",
    "\n",
    "output_dataframe['Sensemakingchange']=Sensemakingchange\n",
    "output_dataframe['Sensemakingsame']=Sensemakingsame\n",
    "output_dataframe['Sensemaking']=Sensemaking\n",
    "\n",
    "output_dataframe['Navigationsame']=Navigationsame\n",
    "output_dataframe['Navigationchange']=Navigationchange\n",
    "output_dataframe['Navigation']=Navigation"
   ],
   "metadata": {
    "collapsed": false,
    "pycharm": {
     "name": "#%%\n"
    }
   }
  },
  {
   "cell_type": "code",
   "execution_count": 39,
   "outputs": [
    {
     "data": {
      "text/plain": "                                          User annotated_subtask  \\\n0  userid_3abeecbe-327a-441e-be2a-0dd3763c1d45         Subtask_1   \n1  userid_3abeecbe-327a-441e-be2a-0dd3763c1d45         Subtask_2   \n2  userid_44968286-f204-4ad6-a9b5-d95b38e97866         Subtask_1   \n3  userid_44968286-f204-4ad6-a9b5-d95b38e97866         Subtask_2   \n4  userid_44968286-f204-4ad6-a9b5-d95b38e97866         Subtask_3   \n5  userid_44968286-f204-4ad6-a9b5-d95b38e97866         Subtask_4   \n6  userid_72a8d170-77ae-400e-b2a5-de9e1d33a714         Subtask_1   \n7  userid_72a8d170-77ae-400e-b2a5-de9e1d33a714         Subtask_2   \n8  userid_72a8d170-77ae-400e-b2a5-de9e1d33a714         Subtask_3   \n9  userid_72a8d170-77ae-400e-b2a5-de9e1d33a714         Subtask_4   \n\n   Foragingchange  Foragingsame  Sensemakingchange  Sensemakingsame  \\\n0        0.363636      0.636364           0.500000         0.500000   \n1        0.500000      0.500000           0.142857         0.857143   \n2        0.428571      0.571429           0.300000         0.700000   \n3        0.400000      0.600000           0.666667         0.333333   \n4        0.500000      0.500000           0.666667         0.333333   \n5        0.250000      0.750000           0.428571         0.571429   \n6        0.250000      0.750000           0.500000         0.500000   \n7        0.500000      0.500000           0.500000         0.500000   \n8        0.500000      0.500000           0.428571         0.571429   \n9        0.222222      0.777778           0.666667         0.333333   \n\n   Navigationsame  Navigationchange  Foraging  Navigation  Sensemaking  \n0        0.428571          0.571429        11           7            2  \n1        0.846154          0.153846         2          13           14  \n2        0.642857          0.357143         7          14           10  \n3        0.692308          0.307692         5          13            3  \n4        0.750000          0.250000         4          12            3  \n5        0.705882          0.294118        16          17            7  \n6        0.500000          0.500000         8           2            2  \n7        0.666667          0.333333         2           9            4  \n8        0.700000          0.300000         6          20            7  \n9        0.700000          0.300000        18          20            6  ",
      "text/html": "<div>\n<style scoped>\n    .dataframe tbody tr th:only-of-type {\n        vertical-align: middle;\n    }\n\n    .dataframe tbody tr th {\n        vertical-align: top;\n    }\n\n    .dataframe thead th {\n        text-align: right;\n    }\n</style>\n<table border=\"1\" class=\"dataframe\">\n  <thead>\n    <tr style=\"text-align: right;\">\n      <th></th>\n      <th>User</th>\n      <th>annotated_subtask</th>\n      <th>Foragingchange</th>\n      <th>Foragingsame</th>\n      <th>Sensemakingchange</th>\n      <th>Sensemakingsame</th>\n      <th>Navigationsame</th>\n      <th>Navigationchange</th>\n      <th>Foraging</th>\n      <th>Navigation</th>\n      <th>Sensemaking</th>\n    </tr>\n  </thead>\n  <tbody>\n    <tr>\n      <th>0</th>\n      <td>userid_3abeecbe-327a-441e-be2a-0dd3763c1d45</td>\n      <td>Subtask_1</td>\n      <td>0.363636</td>\n      <td>0.636364</td>\n      <td>0.500000</td>\n      <td>0.500000</td>\n      <td>0.428571</td>\n      <td>0.571429</td>\n      <td>11</td>\n      <td>7</td>\n      <td>2</td>\n    </tr>\n    <tr>\n      <th>1</th>\n      <td>userid_3abeecbe-327a-441e-be2a-0dd3763c1d45</td>\n      <td>Subtask_2</td>\n      <td>0.500000</td>\n      <td>0.500000</td>\n      <td>0.142857</td>\n      <td>0.857143</td>\n      <td>0.846154</td>\n      <td>0.153846</td>\n      <td>2</td>\n      <td>13</td>\n      <td>14</td>\n    </tr>\n    <tr>\n      <th>2</th>\n      <td>userid_44968286-f204-4ad6-a9b5-d95b38e97866</td>\n      <td>Subtask_1</td>\n      <td>0.428571</td>\n      <td>0.571429</td>\n      <td>0.300000</td>\n      <td>0.700000</td>\n      <td>0.642857</td>\n      <td>0.357143</td>\n      <td>7</td>\n      <td>14</td>\n      <td>10</td>\n    </tr>\n    <tr>\n      <th>3</th>\n      <td>userid_44968286-f204-4ad6-a9b5-d95b38e97866</td>\n      <td>Subtask_2</td>\n      <td>0.400000</td>\n      <td>0.600000</td>\n      <td>0.666667</td>\n      <td>0.333333</td>\n      <td>0.692308</td>\n      <td>0.307692</td>\n      <td>5</td>\n      <td>13</td>\n      <td>3</td>\n    </tr>\n    <tr>\n      <th>4</th>\n      <td>userid_44968286-f204-4ad6-a9b5-d95b38e97866</td>\n      <td>Subtask_3</td>\n      <td>0.500000</td>\n      <td>0.500000</td>\n      <td>0.666667</td>\n      <td>0.333333</td>\n      <td>0.750000</td>\n      <td>0.250000</td>\n      <td>4</td>\n      <td>12</td>\n      <td>3</td>\n    </tr>\n    <tr>\n      <th>5</th>\n      <td>userid_44968286-f204-4ad6-a9b5-d95b38e97866</td>\n      <td>Subtask_4</td>\n      <td>0.250000</td>\n      <td>0.750000</td>\n      <td>0.428571</td>\n      <td>0.571429</td>\n      <td>0.705882</td>\n      <td>0.294118</td>\n      <td>16</td>\n      <td>17</td>\n      <td>7</td>\n    </tr>\n    <tr>\n      <th>6</th>\n      <td>userid_72a8d170-77ae-400e-b2a5-de9e1d33a714</td>\n      <td>Subtask_1</td>\n      <td>0.250000</td>\n      <td>0.750000</td>\n      <td>0.500000</td>\n      <td>0.500000</td>\n      <td>0.500000</td>\n      <td>0.500000</td>\n      <td>8</td>\n      <td>2</td>\n      <td>2</td>\n    </tr>\n    <tr>\n      <th>7</th>\n      <td>userid_72a8d170-77ae-400e-b2a5-de9e1d33a714</td>\n      <td>Subtask_2</td>\n      <td>0.500000</td>\n      <td>0.500000</td>\n      <td>0.500000</td>\n      <td>0.500000</td>\n      <td>0.666667</td>\n      <td>0.333333</td>\n      <td>2</td>\n      <td>9</td>\n      <td>4</td>\n    </tr>\n    <tr>\n      <th>8</th>\n      <td>userid_72a8d170-77ae-400e-b2a5-de9e1d33a714</td>\n      <td>Subtask_3</td>\n      <td>0.500000</td>\n      <td>0.500000</td>\n      <td>0.428571</td>\n      <td>0.571429</td>\n      <td>0.700000</td>\n      <td>0.300000</td>\n      <td>6</td>\n      <td>20</td>\n      <td>7</td>\n    </tr>\n    <tr>\n      <th>9</th>\n      <td>userid_72a8d170-77ae-400e-b2a5-de9e1d33a714</td>\n      <td>Subtask_4</td>\n      <td>0.222222</td>\n      <td>0.777778</td>\n      <td>0.666667</td>\n      <td>0.333333</td>\n      <td>0.700000</td>\n      <td>0.300000</td>\n      <td>18</td>\n      <td>20</td>\n      <td>6</td>\n    </tr>\n  </tbody>\n</table>\n</div>"
     },
     "execution_count": 39,
     "metadata": {},
     "output_type": "execute_result"
    }
   ],
   "source": [
    "output_dataframe.head(10)"
   ],
   "metadata": {
    "collapsed": false,
    "pycharm": {
     "name": "#%%\n"
    }
   }
  },
  {
   "cell_type": "code",
   "execution_count": 40,
   "outputs": [],
   "source": [
    "output_dataframe.to_csv(\"data/NDSI-2D\\\\probability_distribution_annotated_subtask.csv\", index=False)\n",
    "#output_dataframe.to_csv(\"data/NDSI-3D\\\\probability_distribution_roi_cycle_3d.csv\", index=False)"
   ],
   "metadata": {
    "collapsed": false,
    "pycharm": {
     "name": "#%%\n"
    }
   }
  },
  {
   "cell_type": "code",
   "execution_count": null,
   "outputs": [],
   "source": [],
   "metadata": {
    "collapsed": false,
    "pycharm": {
     "name": "#%%\n"
    }
   }
  }
 ],
 "metadata": {
  "kernelspec": {
   "display_name": "Python 3",
   "language": "python",
   "name": "python3"
  },
  "language_info": {
   "codemirror_mode": {
    "name": "ipython",
    "version": 2
   },
   "file_extension": ".py",
   "mimetype": "text/x-python",
   "name": "python",
   "nbconvert_exporter": "python",
   "pygments_lexer": "ipython2",
   "version": "2.7.6"
  }
 },
 "nbformat": 4,
 "nbformat_minor": 0
}