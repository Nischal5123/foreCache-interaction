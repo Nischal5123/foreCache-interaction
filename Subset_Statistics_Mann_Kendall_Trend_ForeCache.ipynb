{
  "cells": [
    {
      "cell_type": "markdown",
      "metadata": {
        "id": "view-in-github",
        "colab_type": "text"
      },
      "source": [
        "<a href=\"https://colab.research.google.com/github/Nischal5123/foreCache-interaction/blob/main/Subset_Statistics_Mann_Kendall_Trend_ForeCache.ipynb\" target=\"_parent\"><img src=\"https://colab.research.google.com/assets/colab-badge.svg\" alt=\"Open In Colab\"/></a>"
      ]
    },
    {
      "cell_type": "code",
      "execution_count": 29,
      "metadata": {
        "id": "3Z_4ZesOpGRO"
      },
      "outputs": [],
      "source": [
        "import pandas as pd\n",
        "import numpy as np\n",
        "import os\n",
        "from tqdm import tqdm\n",
        "from statsmodels.tsa.stattools import adfuller\n",
        "import pymannkendall as mk"
      ]
    },
    {
      "cell_type": "code",
      "source": [
        "pip install pymannkendall"
      ],
      "metadata": {
        "colab": {
          "base_uri": "https://localhost:8080/"
        },
        "id": "yrHatKk5LJUh",
        "outputId": "40c71be7-56b3-45e9-e5be-4c53525a6072"
      },
      "execution_count": 2,
      "outputs": [
        {
          "output_type": "stream",
          "name": "stdout",
          "text": [
            "Collecting pymannkendall\n",
            "  Downloading pymannkendall-1.4.2-py3-none-any.whl (12 kB)\n",
            "Requirement already satisfied: numpy in /usr/local/lib/python3.7/dist-packages (from pymannkendall) (1.19.5)\n",
            "Requirement already satisfied: scipy in /usr/local/lib/python3.7/dist-packages (from pymannkendall) (1.4.1)\n",
            "Installing collected packages: pymannkendall\n",
            "Successfully installed pymannkendall-1.4.2\n"
          ]
        }
      ]
    },
    {
      "cell_type": "code",
      "source": [
        "# this is implemented from STATE ACTION ANALYSIS FILE : https://colab.research.google.com/drive/1n9nJdd84etLey3piTKkRJmttpZlW1gor#scrollTo=bgGiHn-LobHm\n",
        "\n",
        "#GET ALL STATE ACTION MODEL FOR NDSI 2D AND NDSI 3D\n",
        "global_drive_path=\"/content/drive/MyDrive/ForeCache/interactions/stateActionModel/\"\n",
        "path=(str(global_drive_path) +\"/ndsi-3d\")\n",
        "fileNames_NDSI_3D=[]\n",
        "for filename in os.listdir(path):\n",
        "    if filename.endswith(\".csv\"):\n",
        "        filePath=(os.path.join(path, filename))\n",
        "        fileNames_NDSI_3D.append(filename)\n",
        "    else:\n",
        "        continue\n",
        "path=(str(global_drive_path) +\"/ndsi-2d\")\n",
        "fileNames_NDSI_2D=[]\n",
        "for filename in os.listdir(path):\n",
        "    if filename.endswith(\".csv\"):\n",
        "        filePath=(os.path.join(path, filename))\n",
        "        fileNames_NDSI_2D.append(filename)\n",
        "    else:\n",
        "        continue\n",
        "matchingName=[]\n",
        "df_twoD=[]\n",
        "df_threeD=[]\n",
        "path_twoD=(str(global_drive_path) +\"/ndsi-2d\")\n",
        "path_threeD=(str(global_drive_path) +\"/ndsi-3d\")\n",
        "for i in range(len(fileNames_NDSI_2D)):\n",
        "  for j in range(len(fileNames_NDSI_3D)):\n",
        "  # if fileNames_NDSI_2D[i].removesuffix('taskname_ndsi-2d-task_') == fileNames_NDSI_3D[i].removesuffix('taskname_ndsi-3d-task_'):\n",
        "   if fileNames_NDSI_2D[i][22:] == fileNames_NDSI_3D[j][22:]:\n",
        "      #print(os.path.join(path, str(fileNames_NDSI_2D[i])))\n",
        "      df=pd.read_csv(os.path.join(path_twoD, str(fileNames_NDSI_2D[i])),sep=',')\n",
        "      df_twoD.append(df)\n",
        "      df=pd.read_csv(os.path.join(path_threeD, str(fileNames_NDSI_3D[j])),sep=',')\n",
        "      df_threeD.append(df)\n",
        "      matchingName.append(fileNames_NDSI_2D[i])\n",
        "#STORE ALL USERS NAME\n",
        "users=[]\n",
        "for name in matchingName:\n",
        "    users.append(name[22:-4:1])"
      ],
      "metadata": {
        "id": "JGqHw-GJPIjU"
      },
      "execution_count": 30,
      "outputs": []
    },
    {
      "cell_type": "code",
      "source": [
        "class StationarityTests:\n",
        "    def __init__(self, significance=.05):\n",
        "        self.SignificanceLevel = significance\n",
        "        self.pValue = None\n",
        "        self.isStationary = None\n",
        "        self.trend= None\n",
        "\n",
        "    def ADF_Stationarity_Test(self, timeseries, printResults = True):\n",
        "      #Dickey-Fuller test:\n",
        "      adfTest = adfuller(timeseries, autolag='AIC')\n",
        "      \n",
        "      self.pValue = adfTest[1]\n",
        "      \n",
        "      if (self.pValue<self.SignificanceLevel):\n",
        "          self.isStationary = True\n",
        "      else:\n",
        "          self.isStationary = False\n",
        "      \n",
        "      if printResults:\n",
        "          dfResults = pd.Series(adfTest[0:4], index=['ADF Test Statistic','P-Value','# Lags Used','# Observations Used'])\n",
        "          #Add Critical Values\n",
        "          for key,value in adfTest[4].items():\n",
        "              dfResults['Critical Value (%s)'%key] = value\n",
        "          print('Augmented Dickey-Fuller Test Results:')\n",
        "          print(dfResults)\n",
        "    \n",
        "    def Mann_Kendall_Stationarity_Test(self, timeseries, printResults = True):\n",
        "      #Mann Kendall Trend Test:\n",
        "      mktTest = mk.original_test(timeseries)\n",
        "      \n",
        "      self.pValue = mktTest[2]\n",
        "      self.trend= mktTest[0]\n",
        "      self.isStationary = mktTest[1]\n",
        "      \n",
        "      if printResults:\n",
        "          dfResults = pd.Series(mktTest[0:3], index=['Trend Type','Stationarity','P-Value'])\n",
        "          #Add Critical Values\n",
        "          for key,value in mktTest[3].items():\n",
        "              dfResults['Critical Value (%s)'%key] = value\n",
        "          print('Mann Kendall Trend Test:')\n",
        "          print(dfResults)"
      ],
      "metadata": {
        "id": "xAQzaSSWYHWR"
      },
      "execution_count": 31,
      "outputs": []
    },
    {
      "cell_type": "code",
      "execution_count": 32,
      "metadata": {
        "id": "KwyTVSXTqAbw"
      },
      "outputs": [],
      "source": [
        "def make_numerical_dataframe(df):\n",
        "  df['State_Action']=(df['Action']+ df['State'])\n",
        " \n",
        "  df['Action']=pd.factorize(df['Action'])[0]\n",
        "  df['State']=pd.factorize(df['State'])[0]\n",
        "  state_action_correlated_series=pd.factorize(df['State_Action'])[0]\n",
        " \n",
        "  action_only_series=df['Action'].values\n",
        "  state_only_series=df['State'].values\n",
        "  options=[state_action_correlated_series,action_only_series,state_only_series]\n",
        "  return options"
      ]
    },
    {
      "cell_type": "code",
      "source": [
        "\n",
        "#3D Mann Kendall\n",
        "saveDir=(str(global_drive_path) +\"StationarityTests/ndsi-3d/MKT_Sliding\")\n",
        "failed_files=[]\n",
        "for i in tqdm(range(len(df_threeD))):\n",
        "  final_dataframe_3d = pd.DataFrame(columns=['User','MKT Stationary_State_Action'])\n",
        "  subtask=0\n",
        "  length_parsedFile=0\n",
        "\n",
        "\n",
        "  window_dataframe=(df_threeD[i])\n",
        "  window_dataframe['State_Action']=(window_dataframe['Action']+ window_dataframe['State'])\n",
        "  window_dataframe['Action']=pd.factorize(window_dataframe['Action'])[0]\n",
        "  window_dataframe['State']=pd.factorize(window_dataframe['State'])[0]\n",
        "  window_dataframe['State_Action']=pd.factorize(window_dataframe['State_Action'])[0]\n",
        "  subtask_values=window_dataframe[\"Subtask\"].unique()\n",
        "  original_fileLength=len(window_dataframe)\n",
        "\n",
        "  print(\"Starting for user\", users[i])\n",
        "  while ((length_parsedFile < original_fileLength) and (subtask <= len(subtask_values))):\n",
        "    \n",
        "    window_dataframe_subset=window_dataframe.loc[window_dataframe['Subtask'] == subtask_values[subtask]]\n",
        "    length_parsedFile+=len(window_dataframe_subset)\n",
        "    print(\"Length of file\",len(window_dataframe_subset), \" in \",\"Subtask: \",subtask_values[subtask])\n",
        "    #creating series\n",
        "    state_action_correlated_series=window_dataframe_subset['State_Action'].values\n",
        "    # action_only_series=window_dataframe_subset['Action'].values\n",
        "    # state_only_series=window_dataframe_subset['State'].values\n",
        "    three_series=[state_action_correlated_series]\n",
        "    three_series_results=[subtask_values[subtask]]\n",
        "    for series in (three_series):\n",
        "      if len(series)>2:\n",
        "        sTest_state = StationarityTests()\n",
        "        sTest_state.Mann_Kendall_Stationarity_Test(series, printResults = False)\n",
        "        three_series_results.append(sTest_state.trend)\n",
        "        \n",
        "      else:\n",
        "        three_series_results.append(\"Not Enough Data\")\n",
        "        print(\"Failed for user\", users[i])\n",
        "        failed_files.append(users[i])\n",
        "    df_length = len(final_dataframe_3d)\n",
        "    final_dataframe_3d.loc[df_length] = three_series_results\n",
        "    userfilename= str(users[i]) + \"MKT_sliding.csv\"\n",
        "    final_dataframe_3d.to_csv(os.path.join(saveDir,userfilename), index=False)\n",
        "    subtask +=1\n",
        "    "
      ],
      "metadata": {
        "colab": {
          "base_uri": "https://localhost:8080/"
        },
        "id": "Nz77xFVOSfh3",
        "outputId": "595e7754-d2b7-43ee-d580-2a483516337a"
      },
      "execution_count": 64,
      "outputs": [
        {
          "output_type": "stream",
          "name": "stderr",
          "text": [
            " 11%|█         | 2/19 [00:00<00:01, 16.11it/s]"
          ]
        },
        {
          "output_type": "stream",
          "name": "stdout",
          "text": [
            "Starting for user userid_ac5b65d7-f260-4534-9fae-d998b726ed32\n",
            "Length of file 105  in  Subtask:  1\n",
            "Length of file 2  in  Subtask:  2\n",
            "Failed for user userid_ac5b65d7-f260-4534-9fae-d998b726ed32\n",
            "Length of file 71  in  Subtask:  3\n",
            "Starting for user userid_82316e37-1117-4663-84b4-ddb6455c83b2\n",
            "Length of file 69  in  Subtask:  1\n",
            "Length of file 25  in  Subtask:  2\n",
            "Length of file 35  in  Subtask:  3\n",
            "Starting for user userid_da52acdd-3cea-483c-86e5-2c2740d371aa\n",
            "Length of file 171  in  Subtask:  1\n",
            "Length of file 2  in  Subtask:  2\n",
            "Failed for user userid_da52acdd-3cea-483c-86e5-2c2740d371aa\n"
          ]
        },
        {
          "output_type": "stream",
          "name": "stderr",
          "text": [
            " 32%|███▏      | 6/19 [00:00<00:00, 14.31it/s]"
          ]
        },
        {
          "output_type": "stream",
          "name": "stdout",
          "text": [
            "Starting for user userid_ff56863b-0710-4a58-ad22-4bf2889c9bc0\n",
            "Length of file 92  in  Subtask:  1\n",
            "Length of file 32  in  Subtask:  2\n",
            "Length of file 207  in  Subtask:  3\n",
            "Starting for user userid_d6555293-35c7-4c27-b522-38d67d2d1b1a\n",
            "Length of file 42  in  Subtask:  1\n",
            "Length of file 21  in  Subtask:  2\n",
            "Starting for user userid_bc9f9425-e867-4876-a5d9-791229916767\n",
            "Length of file 52  in  Subtask:  1\n",
            "Length of file 2  in  Subtask:  2\n",
            "Failed for user userid_bc9f9425-e867-4876-a5d9-791229916767\n",
            "Starting for user userid_bda49380-37ad-41c5-a109-7fa198a7691a"
          ]
        },
        {
          "output_type": "stream",
          "name": "stderr",
          "text": [
            "\r 42%|████▏     | 8/19 [00:00<00:00, 15.22it/s]"
          ]
        },
        {
          "output_type": "stream",
          "name": "stdout",
          "text": [
            "\n",
            "Length of file 89  in  Subtask:  1\n",
            "Length of file 1  in  Subtask:  2\n",
            "Failed for user userid_bda49380-37ad-41c5-a109-7fa198a7691a\n",
            "Starting for user userid_7d014c75-453b-4188-9e4e-fb086984896a\n",
            "Length of file 91  in  Subtask:  1\n",
            "Length of file 3  in  Subtask:  2\n",
            "Starting for user userid_8bf5b71b-dfd4-403f-8791-06427b26ccaf\n",
            "Length of file 104  in  Subtask:  1\n",
            "Length of file 2  in  Subtask:  2\n",
            "Failed for user userid_8bf5b71b-dfd4-403f-8791-06427b26ccaf\n",
            "Length of file 9  in  Subtask:  3\n",
            "Starting for user userid_cd3ef507-e3e9-4edb-9222-90a69a9bf272\n",
            "Length of file 89  in  Subtask:  1\n"
          ]
        },
        {
          "output_type": "stream",
          "name": "stderr",
          "text": [
            " 63%|██████▎   | 12/19 [00:00<00:00, 14.17it/s]"
          ]
        },
        {
          "output_type": "stream",
          "name": "stdout",
          "text": [
            "Length of file 2  in  Subtask:  2\n",
            "Failed for user userid_cd3ef507-e3e9-4edb-9222-90a69a9bf272\n",
            "Starting for user userid_3abeecbe-327a-441e-be2a-0dd3763c1d45\n",
            "Length of file 105  in  Subtask:  1\n",
            "Length of file 2  in  Subtask:  2\n",
            "Failed for user userid_3abeecbe-327a-441e-be2a-0dd3763c1d45\n",
            "Starting for user userid_93be0a02-3f7a-46c9-b526-aa956ed00856\n",
            "Length of file 75  in  Subtask:  1\n",
            "Length of file 6  in  Subtask:  2\n",
            "Length of file 3  in  Subtask:  3\n",
            "Length of file 4  in  Subtask:  4\n",
            "Length of file 3  in  Subtask:  5\n",
            "Starting for user userid_e4221e48-0930-40db-af3c-f4de1ed87582\n",
            "Length of file 85  in  Subtask:  1\n",
            "Length of file 68  in  Subtask:  2\n"
          ]
        },
        {
          "output_type": "stream",
          "name": "stderr",
          "text": [
            " 89%|████████▉ | 17/19 [00:01<00:00, 18.61it/s]"
          ]
        },
        {
          "output_type": "stream",
          "name": "stdout",
          "text": [
            "Length of file 4  in  Subtask:  3\n",
            "Length of file 49  in  Subtask:  4\n",
            "Starting for user userid_6d49fab8-273b-4a91-948b-ecd14556b049\n",
            "Length of file 61  in  Subtask:  1\n",
            "Length of file 2  in  Subtask:  2\n",
            "Failed for user userid_6d49fab8-273b-4a91-948b-ecd14556b049\n",
            "Starting for user userid_733a1ac5-0b01-485e-9b29-ac33932aa240\n",
            "Length of file 92  in  Subtask:  1\n",
            "Length of file 1  in  Subtask:  2\n",
            "Failed for user userid_733a1ac5-0b01-485e-9b29-ac33932aa240\n",
            "Starting for user userid_a6aab5f5-fdb6-41df-9fc6-221d70f8c6e8\n",
            "Length of file 89  in  Subtask:  1\n",
            "Length of file 1  in  Subtask:  2\n",
            "Failed for user userid_a6aab5f5-fdb6-41df-9fc6-221d70f8c6e8\n",
            "Starting for user userid_44968286-f204-4ad6-a9b5-d95b38e97866\n",
            "Length of file 45  in  Subtask:  1\n",
            "Length of file 2  in  Subtask:  2\n",
            "Failed for user userid_44968286-f204-4ad6-a9b5-d95b38e97866\n",
            "Length of file 38  in  Subtask:  3\n",
            "Starting for user userid_954edb7c-4eae-47ab-9338-5c5c7eccac2d\n",
            "Length of file 81  in  Subtask:  1\n",
            "Length of file 2  in  Subtask:  2\n",
            "Failed for user userid_954edb7c-4eae-47ab-9338-5c5c7eccac2d\n"
          ]
        },
        {
          "output_type": "stream",
          "name": "stderr",
          "text": [
            "100%|██████████| 19/19 [00:01<00:00, 15.91it/s]"
          ]
        },
        {
          "output_type": "stream",
          "name": "stdout",
          "text": [
            "Length of file 65  in  Subtask:  3\n",
            "Starting for user userid_8b544d24-3274-4bb0-9719-fd2bccc87b02\n",
            "Length of file 19  in  Subtask:  1\n",
            "Length of file 10  in  Subtask:  2\n",
            "Length of file 26  in  Subtask:  3\n"
          ]
        },
        {
          "output_type": "stream",
          "name": "stderr",
          "text": [
            "\n"
          ]
        }
      ]
    },
    {
      "cell_type": "code",
      "source": [
        "failed_files"
      ],
      "metadata": {
        "colab": {
          "base_uri": "https://localhost:8080/"
        },
        "id": "E_qnn5cno1Nh",
        "outputId": "7020a67d-333c-4b38-a5e2-0b75d4c6937f"
      },
      "execution_count": 65,
      "outputs": [
        {
          "output_type": "execute_result",
          "data": {
            "text/plain": [
              "['userid_ac5b65d7-f260-4534-9fae-d998b726ed32',\n",
              " 'userid_da52acdd-3cea-483c-86e5-2c2740d371aa',\n",
              " 'userid_bc9f9425-e867-4876-a5d9-791229916767',\n",
              " 'userid_bda49380-37ad-41c5-a109-7fa198a7691a',\n",
              " 'userid_8bf5b71b-dfd4-403f-8791-06427b26ccaf',\n",
              " 'userid_cd3ef507-e3e9-4edb-9222-90a69a9bf272',\n",
              " 'userid_3abeecbe-327a-441e-be2a-0dd3763c1d45',\n",
              " 'userid_6d49fab8-273b-4a91-948b-ecd14556b049',\n",
              " 'userid_733a1ac5-0b01-485e-9b29-ac33932aa240',\n",
              " 'userid_a6aab5f5-fdb6-41df-9fc6-221d70f8c6e8',\n",
              " 'userid_44968286-f204-4ad6-a9b5-d95b38e97866',\n",
              " 'userid_954edb7c-4eae-47ab-9338-5c5c7eccac2d']"
            ]
          },
          "metadata": {},
          "execution_count": 65
        }
      ]
    },
    {
      "cell_type": "code",
      "source": [
        "a"
      ],
      "metadata": {
        "colab": {
          "base_uri": "https://localhost:8080/"
        },
        "id": "FHHXCHzXptRC",
        "outputId": "a63ae98d-cd9b-44cf-ec34-88fe6533b08e"
      },
      "execution_count": 20,
      "outputs": [
        {
          "output_type": "execute_result",
          "data": {
            "text/plain": [
              "array([  1, 100])"
            ]
          },
          "metadata": {},
          "execution_count": 20
        }
      ]
    },
    {
      "cell_type": "code",
      "source": [
        "#Man Kendall for 2d\n",
        "saveDir=(str(global_drive_path) +\"StationarityTests/ndsi-2d/MKT_Sliding\")\n",
        "for i in tqdm(range(len(df_twoD))):\n",
        "  final_dataframe_2d = pd.DataFrame(columns=['User','MKT Stationary_State_Action','MKT Stationary_Action','MKT Stationary_State'])\n",
        "  window_start=0\n",
        "  window=10\n",
        "  \n",
        "  window_dataframe_2d=(df_twoD[i])\n",
        "  window_dataframe_2d['State_Action']=(window_dataframe_2d['Action']+ window_dataframe_2d['State'])\n",
        "  window_dataframe_2d['Action']=pd.factorize(window_dataframe_2d['Action'])[0]\n",
        "  window_dataframe_2d['State']=pd.factorize(window_dataframe_2d['State'])[0]\n",
        "  window_dataframe_2d['State_Action']=pd.factorize(window_dataframe_2d['State_Action'])[0]\n",
        "  print(users[i])\n",
        "  while (window_start+window) <= (len(df_twoD[i])):\n",
        "    \n",
        "    window_dataframe_subset=window_dataframe_2d.iloc[window_start:window_start + window,]\n",
        "    state_action_correlated_series=window_dataframe_subset['State_Action'].values\n",
        "    action_only_series=window_dataframe_subset['Action'].values\n",
        "    state_only_series=window_dataframe_subset['State'].values\n",
        "    three_series=[state_action_correlated_series,action_only_series,state_only_series]\n",
        "    three_series_results=[window_start]\n",
        "    for series in (three_series):\n",
        "      sTest_state = StationarityTests()\n",
        "      sTest_state.Mann_Kendall_Stationarity_Test(series, printResults = False)\n",
        "      three_series_results.append(sTest_state.trend)\n",
        "    df_length = len(final_dataframe_2d)\n",
        "    final_dataframe_2d.loc[df_length] = three_series_results\n",
        "    userfilename= str(users[i]) + \"MKT_sliding.csv\"\n",
        "    final_dataframe_2d.to_csv(os.path.join(saveDir,userfilename), index=False)\n",
        "    window_start=window_start + window\n",
        "    # state_action_correlated_series=[]\n",
        "    # action_only_series=[]\n",
        "    # state_only_series=[]"
      ],
      "metadata": {
        "colab": {
          "base_uri": "https://localhost:8080/"
        },
        "id": "cfu9caJPX51L",
        "outputId": "4afce677-03ef-4c4b-939b-3b8a36068405"
      },
      "execution_count": null,
      "outputs": [
        {
          "output_type": "stream",
          "name": "stderr",
          "text": [
            "\r  0%|          | 0/17 [00:00<?, ?it/s]"
          ]
        },
        {
          "output_type": "stream",
          "name": "stdout",
          "text": [
            "userid_ac5b65d7-f260-4534-9fae-d998b726ed32\n"
          ]
        },
        {
          "output_type": "stream",
          "name": "stderr",
          "text": [
            " 12%|█▏        | 2/17 [00:00<00:05,  2.97it/s]"
          ]
        },
        {
          "output_type": "stream",
          "name": "stdout",
          "text": [
            "userid_da52acdd-3cea-483c-86e5-2c2740d371aa\n",
            "userid_82316e37-1117-4663-84b4-ddb6455c83b2\n",
            "userid_d6555293-35c7-4c27-b522-38d67d2d1b1a\n"
          ]
        },
        {
          "output_type": "stream",
          "name": "stderr",
          "text": [
            "\r 24%|██▎       | 4/17 [00:01<00:02,  4.71it/s]"
          ]
        },
        {
          "output_type": "stream",
          "name": "stdout",
          "text": [
            "userid_ff56863b-0710-4a58-ad22-4bf2889c9bc0\n"
          ]
        },
        {
          "output_type": "stream",
          "name": "stderr",
          "text": [
            "\r 29%|██▉       | 5/17 [00:01<00:03,  3.88it/s]"
          ]
        },
        {
          "output_type": "stream",
          "name": "stdout",
          "text": [
            "userid_bc9f9425-e867-4876-a5d9-791229916767\n",
            "userid_7d014c75-453b-4188-9e4e-fb086984896a\n"
          ]
        },
        {
          "output_type": "stream",
          "name": "stderr",
          "text": [
            "\r 41%|████      | 7/17 [00:01<00:02,  4.32it/s]"
          ]
        },
        {
          "output_type": "stream",
          "name": "stdout",
          "text": [
            "userid_bda49380-37ad-41c5-a109-7fa198a7691a\n"
          ]
        },
        {
          "output_type": "stream",
          "name": "stderr",
          "text": [
            " 53%|█████▎    | 9/17 [00:02<00:01,  4.36it/s]"
          ]
        },
        {
          "output_type": "stream",
          "name": "stdout",
          "text": [
            "userid_8bf5b71b-dfd4-403f-8791-06427b26ccaf\n",
            "userid_cd3ef507-e3e9-4edb-9222-90a69a9bf272"
          ]
        },
        {
          "output_type": "stream",
          "name": "stderr",
          "text": [
            "\r 59%|█████▉    | 10/17 [00:02<00:01,  4.66it/s]"
          ]
        },
        {
          "output_type": "stream",
          "name": "stdout",
          "text": [
            "\n",
            "userid_93be0a02-3f7a-46c9-b526-aa956ed00856\n"
          ]
        },
        {
          "output_type": "stream",
          "name": "stderr",
          "text": [
            " 71%|███████   | 12/17 [00:02<00:01,  4.18it/s]"
          ]
        },
        {
          "output_type": "stream",
          "name": "stdout",
          "text": [
            "userid_6d49fab8-273b-4a91-948b-ecd14556b049\n",
            "userid_733a1ac5-0b01-485e-9b29-ac33932aa240\n",
            "userid_e4221e48-0930-40db-af3c-f4de1ed87582"
          ]
        },
        {
          "output_type": "stream",
          "name": "stderr",
          "text": [
            " 88%|████████▊ | 15/17 [00:03<00:00,  6.49it/s]"
          ]
        },
        {
          "output_type": "stream",
          "name": "stdout",
          "text": [
            "\n",
            "userid_954edb7c-4eae-47ab-9338-5c5c7eccac2d\n",
            "userid_a6aab5f5-fdb6-41df-9fc6-221d70f8c6e8\n"
          ]
        },
        {
          "output_type": "stream",
          "name": "stderr",
          "text": [
            "\r 94%|█████████▍| 16/17 [00:03<00:00,  6.51it/s]"
          ]
        },
        {
          "output_type": "stream",
          "name": "stdout",
          "text": [
            "userid_8b544d24-3274-4bb0-9719-fd2bccc87b02\n"
          ]
        },
        {
          "output_type": "stream",
          "name": "stderr",
          "text": [
            "100%|██████████| 17/17 [00:03<00:00,  4.62it/s]\n"
          ]
        }
      ]
    },
    {
      "cell_type": "code",
      "source": [
        ""
      ],
      "metadata": {
        "colab": {
          "base_uri": "https://localhost:8080/",
          "height": 206
        },
        "id": "hThQgEl7_m5m",
        "outputId": "d358bb60-d54c-4e49-b654-8228eb81e969"
      },
      "execution_count": null,
      "outputs": [
        {
          "output_type": "execute_result",
          "data": {
            "text/html": [
              "\n",
              "  <div id=\"df-439e8795-5c20-4a1f-b2da-48cb986b6890\">\n",
              "    <div class=\"colab-df-container\">\n",
              "      <div>\n",
              "<style scoped>\n",
              "    .dataframe tbody tr th:only-of-type {\n",
              "        vertical-align: middle;\n",
              "    }\n",
              "\n",
              "    .dataframe tbody tr th {\n",
              "        vertical-align: top;\n",
              "    }\n",
              "\n",
              "    .dataframe thead th {\n",
              "        text-align: right;\n",
              "    }\n",
              "</style>\n",
              "<table border=\"1\" class=\"dataframe\">\n",
              "  <thead>\n",
              "    <tr style=\"text-align: right;\">\n",
              "      <th></th>\n",
              "      <th>Action</th>\n",
              "      <th>State</th>\n",
              "      <th>TimeStamp</th>\n",
              "      <th>Angle</th>\n",
              "      <th>State_Action</th>\n",
              "    </tr>\n",
              "  </thead>\n",
              "  <tbody>\n",
              "    <tr>\n",
              "      <th>10</th>\n",
              "      <td>2</td>\n",
              "      <td>2</td>\n",
              "      <td>2016-06-08 18:12:38.558</td>\n",
              "      <td>10.449105</td>\n",
              "      <td>4</td>\n",
              "    </tr>\n",
              "    <tr>\n",
              "      <th>11</th>\n",
              "      <td>2</td>\n",
              "      <td>2</td>\n",
              "      <td>2016-06-08 18:12:41.054</td>\n",
              "      <td>354.659732</td>\n",
              "      <td>4</td>\n",
              "    </tr>\n",
              "    <tr>\n",
              "      <th>12</th>\n",
              "      <td>2</td>\n",
              "      <td>2</td>\n",
              "      <td>2016-06-08 18:12:41.538</td>\n",
              "      <td>353.731233</td>\n",
              "      <td>4</td>\n",
              "    </tr>\n",
              "    <tr>\n",
              "      <th>13</th>\n",
              "      <td>2</td>\n",
              "      <td>2</td>\n",
              "      <td>2016-06-08 18:12:43.919</td>\n",
              "      <td>349.541828</td>\n",
              "      <td>4</td>\n",
              "    </tr>\n",
              "    <tr>\n",
              "      <th>14</th>\n",
              "      <td>2</td>\n",
              "      <td>2</td>\n",
              "      <td>2016-06-08 18:12:44.382</td>\n",
              "      <td>345.467115</td>\n",
              "      <td>4</td>\n",
              "    </tr>\n",
              "  </tbody>\n",
              "</table>\n",
              "</div>\n",
              "      <button class=\"colab-df-convert\" onclick=\"convertToInteractive('df-439e8795-5c20-4a1f-b2da-48cb986b6890')\"\n",
              "              title=\"Convert this dataframe to an interactive table.\"\n",
              "              style=\"display:none;\">\n",
              "        \n",
              "  <svg xmlns=\"http://www.w3.org/2000/svg\" height=\"24px\"viewBox=\"0 0 24 24\"\n",
              "       width=\"24px\">\n",
              "    <path d=\"M0 0h24v24H0V0z\" fill=\"none\"/>\n",
              "    <path d=\"M18.56 5.44l.94 2.06.94-2.06 2.06-.94-2.06-.94-.94-2.06-.94 2.06-2.06.94zm-11 1L8.5 8.5l.94-2.06 2.06-.94-2.06-.94L8.5 2.5l-.94 2.06-2.06.94zm10 10l.94 2.06.94-2.06 2.06-.94-2.06-.94-.94-2.06-.94 2.06-2.06.94z\"/><path d=\"M17.41 7.96l-1.37-1.37c-.4-.4-.92-.59-1.43-.59-.52 0-1.04.2-1.43.59L10.3 9.45l-7.72 7.72c-.78.78-.78 2.05 0 2.83L4 21.41c.39.39.9.59 1.41.59.51 0 1.02-.2 1.41-.59l7.78-7.78 2.81-2.81c.8-.78.8-2.07 0-2.86zM5.41 20L4 18.59l7.72-7.72 1.47 1.35L5.41 20z\"/>\n",
              "  </svg>\n",
              "      </button>\n",
              "      \n",
              "  <style>\n",
              "    .colab-df-container {\n",
              "      display:flex;\n",
              "      flex-wrap:wrap;\n",
              "      gap: 12px;\n",
              "    }\n",
              "\n",
              "    .colab-df-convert {\n",
              "      background-color: #E8F0FE;\n",
              "      border: none;\n",
              "      border-radius: 50%;\n",
              "      cursor: pointer;\n",
              "      display: none;\n",
              "      fill: #1967D2;\n",
              "      height: 32px;\n",
              "      padding: 0 0 0 0;\n",
              "      width: 32px;\n",
              "    }\n",
              "\n",
              "    .colab-df-convert:hover {\n",
              "      background-color: #E2EBFA;\n",
              "      box-shadow: 0px 1px 2px rgba(60, 64, 67, 0.3), 0px 1px 3px 1px rgba(60, 64, 67, 0.15);\n",
              "      fill: #174EA6;\n",
              "    }\n",
              "\n",
              "    [theme=dark] .colab-df-convert {\n",
              "      background-color: #3B4455;\n",
              "      fill: #D2E3FC;\n",
              "    }\n",
              "\n",
              "    [theme=dark] .colab-df-convert:hover {\n",
              "      background-color: #434B5C;\n",
              "      box-shadow: 0px 1px 3px 1px rgba(0, 0, 0, 0.15);\n",
              "      filter: drop-shadow(0px 1px 2px rgba(0, 0, 0, 0.3));\n",
              "      fill: #FFFFFF;\n",
              "    }\n",
              "  </style>\n",
              "\n",
              "      <script>\n",
              "        const buttonEl =\n",
              "          document.querySelector('#df-439e8795-5c20-4a1f-b2da-48cb986b6890 button.colab-df-convert');\n",
              "        buttonEl.style.display =\n",
              "          google.colab.kernel.accessAllowed ? 'block' : 'none';\n",
              "\n",
              "        async function convertToInteractive(key) {\n",
              "          const element = document.querySelector('#df-439e8795-5c20-4a1f-b2da-48cb986b6890');\n",
              "          const dataTable =\n",
              "            await google.colab.kernel.invokeFunction('convertToInteractive',\n",
              "                                                     [key], {});\n",
              "          if (!dataTable) return;\n",
              "\n",
              "          const docLinkHtml = 'Like what you see? Visit the ' +\n",
              "            '<a target=\"_blank\" href=https://colab.research.google.com/notebooks/data_table.ipynb>data table notebook</a>'\n",
              "            + ' to learn more about interactive tables.';\n",
              "          element.innerHTML = '';\n",
              "          dataTable['output_type'] = 'display_data';\n",
              "          await google.colab.output.renderOutput(dataTable, element);\n",
              "          const docLink = document.createElement('div');\n",
              "          docLink.innerHTML = docLinkHtml;\n",
              "          element.appendChild(docLink);\n",
              "        }\n",
              "      </script>\n",
              "    </div>\n",
              "  </div>\n",
              "  "
            ],
            "text/plain": [
              "    Action  State                TimeStamp       Angle  State_Action\n",
              "10       2      2  2016-06-08 18:12:38.558   10.449105             4\n",
              "11       2      2  2016-06-08 18:12:41.054  354.659732             4\n",
              "12       2      2  2016-06-08 18:12:41.538  353.731233             4\n",
              "13       2      2  2016-06-08 18:12:43.919  349.541828             4\n",
              "14       2      2  2016-06-08 18:12:44.382  345.467115             4"
            ]
          },
          "metadata": {},
          "execution_count": 105
        }
      ]
    },
    {
      "cell_type": "code",
      "source": [
        "#3D Mann Kendall\n",
        "saveDir=(str(global_drive_path) +\"StationarityTests/ndsi-3d\")\n",
        "final_dataframe_3d = pd.DataFrame(columns=['User','MKT Stationary_State_Action','MKT Stationary_Action','MKT Stationary_State'])\n",
        "for i in tqdm(range(len(df_threeD[i]))):\n",
        "  three_series=make_numerical_dataframe(df_threeD[i])\n",
        "  three_series_results=[users[i]]\n",
        "  for series in (three_series):\n",
        "    sTest_state = StationarityTests()\n",
        "    sTest_state.Mann_Kendall_Stationarity_Test(series, printResults = False)\n",
        "    three_series_results.append(sTest_state.trend)\n",
        "  df_length = len(final_dataframe_3d)\n",
        "  final_dataframe_3d.loc[df_length] = three_series_results\n",
        "  final_dataframe_3d.to_csv(os.path.join(saveDir,\"MKT.csv\"), index=False)"
      ],
      "metadata": {
        "id": "nmgg_czTUeaf"
      },
      "execution_count": null,
      "outputs": []
    },
    {
      "cell_type": "code",
      "source": [
        ""
      ],
      "metadata": {
        "id": "RGJO14VNYK0O"
      },
      "execution_count": null,
      "outputs": []
    },
    {
      "cell_type": "code",
      "source": [
        ""
      ],
      "metadata": {
        "id": "Qc5QWQzIYK30"
      },
      "execution_count": null,
      "outputs": []
    },
    {
      "cell_type": "code",
      "source": [
        "#FOLLOWING BLOCKS TO TEST ON SINGLE FILE "
      ],
      "metadata": {
        "id": "8dRTymllYK6-"
      },
      "execution_count": null,
      "outputs": []
    },
    {
      "cell_type": "code",
      "execution_count": null,
      "metadata": {
        "id": "L2XwEr5Fq8y9"
      },
      "outputs": [],
      "source": [
        "state_action_correlated_series=df['Action'].values + df['State'].values\n",
        "action_only_series=df['Action'].values\n",
        "state_only_series=df['State'].values\n",
        "options=[state_action_correlated_series,action_only_series,state_only_series]"
      ]
    },
    {
      "cell_type": "code",
      "source": [
        "class StationarityTests:\n",
        "    def __init__(self, significance=.05):\n",
        "        self.SignificanceLevel = significance\n",
        "        self.pValue = None\n",
        "        self.isStationary = None\n",
        "\n",
        "    def ADF_Stationarity_Test(self, timeseries, printResults = True):\n",
        "      #Dickey-Fuller test:\n",
        "      adfTest = adfuller(timeseries, autolag='AIC')\n",
        "      \n",
        "      self.pValue = adfTest[1]\n",
        "      \n",
        "      if (self.pValue<self.SignificanceLevel):\n",
        "          self.isStationary = True\n",
        "      else:\n",
        "          self.isStationary = False\n",
        "      \n",
        "      if printResults:\n",
        "          dfResults = pd.Series(adfTest[0:4], index=['ADF Test Statistic','P-Value','# Lags Used','# Observations Used'])\n",
        "          #Add Critical Values\n",
        "          for key,value in adfTest[4].items():\n",
        "              dfResults['Critical Value (%s)'%key] = value\n",
        "          print('Augmented Dickey-Fuller Test Results:')\n",
        "          print(dfResults)"
      ],
      "metadata": {
        "id": "8JhSAznrHMyY"
      },
      "execution_count": null,
      "outputs": []
    },
    {
      "cell_type": "code",
      "source": [
        "for series in (options):\n",
        "  sTest_state = StationarityTests()\n",
        "  sTest_state.ADF_Stationarity_Test(series, printResults = True)\n",
        "  print(\"Is the time series stationary? {0}\".format(sTest_state.isStationary))\n",
        "  print('\\n')"
      ],
      "metadata": {
        "colab": {
          "base_uri": "https://localhost:8080/"
        },
        "id": "G4lwdxQQH3Xp",
        "outputId": "89cd84ae-4252-4afe-91c8-d34b428d9406"
      },
      "execution_count": null,
      "outputs": [
        {
          "output_type": "stream",
          "name": "stdout",
          "text": [
            "Augmented Dickey-Fuller Test Results:\n",
            "ADF Test Statistic      -2.970378\n",
            "P-Value                  0.037755\n",
            "# Lags Used              5.000000\n",
            "# Observations Used     59.000000\n",
            "Critical Value (1%)     -3.546395\n",
            "Critical Value (5%)     -2.911939\n",
            "Critical Value (10%)    -2.593652\n",
            "dtype: float64\n",
            "Is the time series stationary? True\n",
            "\n",
            "\n",
            "Augmented Dickey-Fuller Test Results:\n",
            "ADF Test Statistic      -5.476252\n",
            "P-Value                  0.000002\n",
            "# Lags Used              0.000000\n",
            "# Observations Used     64.000000\n",
            "Critical Value (1%)     -3.536928\n",
            "Critical Value (5%)     -2.907887\n",
            "Critical Value (10%)    -2.591493\n",
            "dtype: float64\n",
            "Is the time series stationary? True\n",
            "\n",
            "\n",
            "Augmented Dickey-Fuller Test Results:\n",
            "ADF Test Statistic      -3.063729\n",
            "P-Value                  0.029356\n",
            "# Lags Used              4.000000\n",
            "# Observations Used     60.000000\n",
            "Critical Value (1%)     -3.544369\n",
            "Critical Value (5%)     -2.911073\n",
            "Critical Value (10%)    -2.593190\n",
            "dtype: float64\n",
            "Is the time series stationary? True\n",
            "\n",
            "\n"
          ]
        }
      ]
    }
  ],
  "metadata": {
    "colab": {
      "name": "Subset_Statistics_Mann_Kendall_Trend_ForeCache.ipynb",
      "provenance": [],
      "collapsed_sections": [],
      "mount_file_id": "1ev_phZKK-G9vTaLQJtcTBP4EB5-tlf6U",
      "authorship_tag": "ABX9TyNO+dzi0se8NESyiefkuq87",
      "include_colab_link": true
    },
    "kernelspec": {
      "display_name": "Python 3",
      "name": "python3"
    },
    "language_info": {
      "name": "python"
    }
  },
  "nbformat": 4,
  "nbformat_minor": 0
}