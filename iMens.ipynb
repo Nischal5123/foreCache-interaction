{
  "nbformat": 4,
  "nbformat_minor": 0,
  "metadata": {
    "colab": {
      "name": "iMens.ipynb",
      "provenance": [],
      "mount_file_id": "1x2Cqs3AjfjYzqF6X3cxZ4kECKWa30KeF",
      "authorship_tag": "ABX9TyNJmN2UMJKRtnL29HpDuv4l"
    },
    "kernelspec": {
      "name": "python3",
      "display_name": "Python 3"
    },
    "language_info": {
      "name": "python"
    }
  },
  "cells": [
    {
      "cell_type": "code",
      "execution_count": 1,
      "metadata": {
        "colab": {
          "base_uri": "https://localhost:8080/"
        },
        "id": "12MUAxX-6c6Z",
        "outputId": "93a1059c-569d-48fa-8e4c-88fdc438ea18"
      },
      "outputs": [
        {
          "output_type": "stream",
          "name": "stdout",
          "text": [
            "Collecting pymannkendall\n",
            "  Downloading pymannkendall-1.4.2-py3-none-any.whl (12 kB)\n",
            "Requirement already satisfied: numpy in /usr/local/lib/python3.7/dist-packages (from pymannkendall) (1.21.5)\n",
            "Requirement already satisfied: scipy in /usr/local/lib/python3.7/dist-packages (from pymannkendall) (1.4.1)\n",
            "Installing collected packages: pymannkendall\n",
            "Successfully installed pymannkendall-1.4.2\n"
          ]
        }
      ],
      "source": [
        "!pip install pymannkendall"
      ]
    },
    {
      "cell_type": "code",
      "source": [
        "import os\n",
        "import pandas as pd\n"
      ],
      "metadata": {
        "id": "jLtOA4-4Jw5n"
      },
      "execution_count": 2,
      "outputs": []
    },
    {
      "cell_type": "code",
      "source": [
        "#global path\n",
        "global_directory=\"/content/drive/MyDrive/Research\"\n",
        "directory=\"/content/drive/MyDrive/Research/iMens\"\n",
        "\n",
        "          "
      ],
      "metadata": {
        "id": "K9iJVr7EAn8Y"
      },
      "execution_count": 3,
      "outputs": []
    },
    {
      "cell_type": "code",
      "source": [
        "fileNames=[]\n",
        "for filename in os.listdir(directory):\n",
        "  fileNames.append(filename)"
      ],
      "metadata": {
        "id": "K0OjPwlqAoBl"
      },
      "execution_count": 4,
      "outputs": []
    },
    {
      "cell_type": "code",
      "source": [
        "fileNames"
      ],
      "metadata": {
        "colab": {
          "base_uri": "https://localhost:8080/"
        },
        "id": "Y5QaEgPdEczZ",
        "outputId": "259876fe-60d9-45c6-d369-0c61a8d672e1"
      },
      "execution_count": 5,
      "outputs": [
        {
          "output_type": "execute_result",
          "data": {
            "text/plain": [
              "['p5_reformed.csv',\n",
              " 'p17_reformed.csv',\n",
              " 'p4_reformed.csv',\n",
              " 'p16_reformed.csv',\n",
              " 'p9_reformed.csv',\n",
              " 'p12_reformed.csv',\n",
              " 'p13_reformed.csv',\n",
              " 'p8_reformed.csv']"
            ]
          },
          "metadata": {},
          "execution_count": 5
        }
      ]
    },
    {
      "cell_type": "code",
      "source": [
        "def get_min(time_str):\n",
        "    \"\"\"Get minutes from time.\"\"\"\n",
        "    h, m, s = time_str.split(':')\n",
        "    seconds= int(h) * 3600 + int(m) * 60 + int(s)\n",
        "    return seconds/60"
      ],
      "metadata": {
        "id": "d4jtvLJVQdCW"
      },
      "execution_count": 11,
      "outputs": []
    },
    {
      "cell_type": "code",
      "source": [
        "def get_sec(time_str):\n",
        "    \"\"\"Get seconds from time.\"\"\"\n",
        "    h, m, s = time_str.split(':')\n",
        "    seconds= int(h) * 3600 + int(m) * 60 + int(s)\n",
        "    return seconds"
      ],
      "metadata": {
        "id": "RcXN3gOGZbGI"
      },
      "execution_count": 12,
      "outputs": []
    },
    {
      "cell_type": "code",
      "source": [
        "final_dataframe = pd.DataFrame(columns=['Index','Time','State','action','reward','visualization','subtask'])\n",
        "all_dfs=[]\n",
        "length=0\n",
        "for filename in fileNames:\n",
        "      print(\"###########################\",filename)\n",
        "      \n",
        "      index=[]\n",
        "      user=[]\n",
        "      df = pd.read_csv(os.path.join(directory,filename))\n",
        "      length=length+len(df)\n",
        "      start_time=get_min(df['Time'][0])\n",
        "      for i in range(len(df)):\n",
        "        if \"Sensemaking\" in df[\"State\"][i]:\n",
        "           df[\"State\"][i]='Sensemaking / Hypothesis Testing'\n",
        "        elif \"Question\" in df[\"State\"][i]:\n",
        "           df[\"State\"][i]='Question / Hypothesis Generation'\n",
        "        else:\n",
        "           df[\"State\"][i]='Inference Feedback'\n",
        "        df[\"Time\"][i]=get_min(df[\"Time\"][i])-start_time  #get minute or get seconds\n",
        "        index.append(i+1)\n",
        "        user.append(filename[ 0 : filename.index(\"_\")])\n",
        "      df['Index']=index\n",
        "      df['User']=user\n",
        "      df = df[df.State != \"Inference Feedback\"]\n",
        "      df.to_csv(os.path.join(directory,filename), index=False)\n",
        "      all_dfs.append(df)"
      ],
      "metadata": {
        "colab": {
          "base_uri": "https://localhost:8080/"
        },
        "id": "MqEmeGT5BVdW",
        "outputId": "7e29df49-ba88-48cf-b077-961660cf348c"
      },
      "execution_count": 7,
      "outputs": [
        {
          "output_type": "stream",
          "name": "stdout",
          "text": [
            "########################### p5_reformed.csv\n"
          ]
        },
        {
          "output_type": "stream",
          "name": "stderr",
          "text": [
            "/usr/local/lib/python3.7/dist-packages/ipykernel_launcher.py:16: SettingWithCopyWarning: \n",
            "A value is trying to be set on a copy of a slice from a DataFrame\n",
            "\n",
            "See the caveats in the documentation: https://pandas.pydata.org/pandas-docs/stable/user_guide/indexing.html#returning-a-view-versus-a-copy\n",
            "  app.launch_new_instance()\n",
            "/usr/local/lib/python3.7/dist-packages/ipykernel_launcher.py:19: SettingWithCopyWarning: \n",
            "A value is trying to be set on a copy of a slice from a DataFrame\n",
            "\n",
            "See the caveats in the documentation: https://pandas.pydata.org/pandas-docs/stable/user_guide/indexing.html#returning-a-view-versus-a-copy\n",
            "/usr/local/lib/python3.7/dist-packages/ipykernel_launcher.py:14: SettingWithCopyWarning: \n",
            "A value is trying to be set on a copy of a slice from a DataFrame\n",
            "\n",
            "See the caveats in the documentation: https://pandas.pydata.org/pandas-docs/stable/user_guide/indexing.html#returning-a-view-versus-a-copy\n",
            "  \n"
          ]
        },
        {
          "output_type": "stream",
          "name": "stdout",
          "text": [
            "########################### p17_reformed.csv\n"
          ]
        },
        {
          "output_type": "stream",
          "name": "stderr",
          "text": [
            "/usr/local/lib/python3.7/dist-packages/ipykernel_launcher.py:18: SettingWithCopyWarning: \n",
            "A value is trying to be set on a copy of a slice from a DataFrame\n",
            "\n",
            "See the caveats in the documentation: https://pandas.pydata.org/pandas-docs/stable/user_guide/indexing.html#returning-a-view-versus-a-copy\n"
          ]
        },
        {
          "output_type": "stream",
          "name": "stdout",
          "text": [
            "########################### p4_reformed.csv\n",
            "########################### p16_reformed.csv\n",
            "########################### p9_reformed.csv\n",
            "########################### p12_reformed.csv\n",
            "########################### p13_reformed.csv\n",
            "########################### p8_reformed.csv\n"
          ]
        }
      ]
    },
    {
      "cell_type": "code",
      "source": [
        "new_df = pd.concat(all_dfs)"
      ],
      "metadata": {
        "id": "07xtHsgmGIS8"
      },
      "execution_count": 8,
      "outputs": []
    },
    {
      "cell_type": "code",
      "source": [
        "new_df.to_csv(os.path.join(global_directory,\"all_user_iMens\"), index=False)"
      ],
      "metadata": {
        "id": "JfTOrSstFw4Y"
      },
      "execution_count": 9,
      "outputs": []
    },
    {
      "cell_type": "code",
      "source": [
        "fileNames"
      ],
      "metadata": {
        "colab": {
          "base_uri": "https://localhost:8080/"
        },
        "id": "8c-aNTq9BQut",
        "outputId": "7bcadd7a-1fee-48f3-aa55-aadeece3ee50"
      },
      "execution_count": 10,
      "outputs": [
        {
          "output_type": "execute_result",
          "data": {
            "text/plain": [
              "['p5_reformed.csv',\n",
              " 'p17_reformed.csv',\n",
              " 'p4_reformed.csv',\n",
              " 'p16_reformed.csv',\n",
              " 'p9_reformed.csv',\n",
              " 'p12_reformed.csv',\n",
              " 'p13_reformed.csv',\n",
              " 'p8_reformed.csv']"
            ]
          },
          "metadata": {},
          "execution_count": 10
        }
      ]
    }
  ]
}