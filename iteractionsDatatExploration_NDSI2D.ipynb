{
  "nbformat": 4,
  "nbformat_minor": 0,
  "metadata": {
    "colab": {
      "name": "iteractionsDatatExploration-NDSI2D.ipynb",
      "provenance": [],
      "collapsed_sections": [],
      "mount_file_id": "1BVZhcb3-ff5Njh3rRLdNj6QolKdiGH2j",
      "authorship_tag": "ABX9TyNJGz1Ya8aeJ08l675bwsct"
    },
    "kernelspec": {
      "name": "python3",
      "display_name": "Python 3"
    },
    "language_info": {
      "name": "python"
    }
  },
  "cells": [
    {
      "cell_type": "code",
      "metadata": {
        "id": "m-8TXygTheni"
      },
      "source": [
        "#global path\n",
        "global_drive_path=\"/content/drive/MyDrive/ForeCache/interactions/\"\n",
        "          "
      ],
      "execution_count": 1,
      "outputs": []
    },
    {
      "cell_type": "code",
      "metadata": {
        "id": "7RO65cvBS4TL"
      },
      "source": [
        "import os\n",
        "import pandas as pd\n",
        "import json\n",
        "from pandas.io.json import json_normalize\n",
        "from tqdm import tqdm\n",
        "\n",
        "from statistics import mean\n",
        "#for reward\n",
        "import time\n",
        "import datetime\n",
        "\n",
        "pd.options.mode.chained_assignment = None  # default='warn'\n"
      ],
      "execution_count": 2,
      "outputs": []
    },
    {
      "cell_type": "code",
      "metadata": {
        "id": "XNXz63-kSlF_"
      },
      "source": [
        "def clean_files(filePath,fileName):\n",
        "\n",
        "  lastline = None\n",
        " # filePath=\"/content/drive/Shareddrives/Colearning-Exploration/Dataset/forecache_interactions_2016/forecache-interaction-analysis/forecache-interaction-analysis/interactions/taskname_ndsi-2d-subtask_userid_3abeecbe-327a-441e-be2a-0dd3763c1d45.txt\"\n",
        "  with open(filePath,\"r\") as f:\n",
        "      lineList = f.readlines()\n",
        "      lastline=lineList[-1]\n",
        "  with open(filePath,\"r\") as f, open(global_drive_path+\"cleanInteractions/cleanInteractions-ndsi-2d-task/\"+(str(fileName)+\".json\"),\"w\") as g:\n",
        "  #with open(filePath,\"r\") as f, open(global_drive_path+\"cleanInteractions/cleanInteractions-ndsi-3d-task/\"+(str(fileName)+\".json\"),\"w\") as g:\n",
        "  #os.makedirs(os.path.dirname(global_drive_path+\"cleanInteractions/cleanInteractions-rgb-hurricane-3d-task/\"+(str(fileName)+\".json\")))\n",
        "  #with open(filePath,\"r\") as f, open(global_drive_path+\"cleanInteractions/cleanInteractions-rgb-hurricane-3d-task/\"+(str(fileName)+\".json\"),\"w+\") as g:\n",
        "   \n",
        "      for i,line in enumerate(f,0):\n",
        "          if i == 0:\n",
        "              line = \"[\"+str(line)+\",\"\n",
        "              g.write(line)\n",
        "          elif line == lastline:            \n",
        "              g.write(line)\n",
        "              g.write(\"]\")\n",
        "          else:\n",
        "              line = str(line)+\",\"\n",
        "              g.write(line)\n",
        "          "
      ],
      "execution_count": 3,
      "outputs": []
    },
    {
      "cell_type": "code",
      "metadata": {
        "id": "Jvj6DoD6T5xL",
        "colab": {
          "base_uri": "https://localhost:8080/"
        },
        "outputId": "c638e30a-3b4b-47e9-889a-0715694af018"
      },
      "source": [
        "directory =(str(global_drive_path) +\"/ndsi-2d-task\")\n",
        "#directory =(str(global_drive_path) +\"/ndsi-3d-task\")\n",
        "#directory =(str(global_drive_path) +\"/rgb-hurricane-3d-task\")\n",
        "failed_files=[]\n",
        "for filename in os.listdir(directory):\n",
        "  try:\n",
        "    if filename.endswith(\".txt\"):\n",
        "        \n",
        "        filePath=(os.path.join(directory, filename))\n",
        "        print(filename)\n",
        "        name=os.path.splitext(filename)[0]\n",
        "        clean_files(filePath,name)\n",
        "    else:\n",
        "        continue\n",
        "  except OSError as err:\n",
        "    print(\"OS error: {0}\".format(err))\n",
        "    failed_files.append(filename)\n",
        "  except UnicodeDecodeError:\n",
        "    print(\"Unicode Error\")\n",
        "    failed_files.append(filename)\n",
        "  except BaseException as err:\n",
        "    failed_files.append(filename)\n",
        "    \n",
        "    raise\n"
      ],
      "execution_count": 4,
      "outputs": [
        {
          "output_type": "stream",
          "name": "stdout",
          "text": [
            "taskname_ndsi-2d-task_userid_72a8d170-77ae-400e-b2a5-de9e1d33a714.txt\n",
            "taskname_ndsi-2d-task_userid_ac5b65d7-f260-4534-9fae-d998b726ed32.txt\n",
            "taskname_ndsi-2d-task_userid_82316e37-1117-4663-84b4-ddb6455c83b2.txt\n",
            "taskname_ndsi-2d-task_userid_da52acdd-3cea-483c-86e5-2c2740d371aa.txt\n",
            "taskname_ndsi-2d-task_userid_d6555293-35c7-4c27-b522-38d67d2d1b1a.txt\n",
            "taskname_ndsi-2d-task_userid_ff56863b-0710-4a58-ad22-4bf2889c9bc0.txt\n",
            "taskname_ndsi-2d-task_userid_bc9f9425-e867-4876-a5d9-791229916767.txt\n",
            "taskname_ndsi-2d-task_userid_bda49380-37ad-41c5-a109-7fa198a7691a.txt\n",
            "taskname_ndsi-2d-task_userid_7d014c75-453b-4188-9e4e-fb086984896a.txt\n",
            "taskname_ndsi-2d-task_userid_8bf5b71b-dfd4-403f-8791-06427b26ccaf.txt\n",
            "taskname_ndsi-2d-task_userid_3abeecbe-327a-441e-be2a-0dd3763c1d45.txt\n",
            "taskname_ndsi-2d-task_userid_6d49fab8-273b-4a91-948b-ecd14556b049.txt\n",
            "taskname_ndsi-2d-task_userid_733a1ac5-0b01-485e-9b29-ac33932aa240.txt\n",
            "taskname_ndsi-2d-task_userid_e4221e48-0930-40db-af3c-f4de1ed87582.txt\n",
            "taskname_ndsi-2d-task_userid_44968286-f204-4ad6-a9b5-d95b38e97866.txt\n",
            "taskname_ndsi-2d-task_userid_954edb7c-4eae-47ab-9338-5c5c7eccac2d.txt\n",
            "taskname_ndsi-2d-task_userid_a6aab5f5-fdb6-41df-9fc6-221d70f8c6e8.txt\n",
            "taskname_ndsi-2d-task_userid_8b544d24-3274-4bb0-9719-fd2bccc87b02.txt\n",
            "taskname_ndsi-2d-task_userid_cd3ef507-e3e9-4edb-9222-90a69a9bf272.txt\n",
            "taskname_ndsi-2d-task_userid_93be0a02-3f7a-46c9-b526-aa956ed00856.txt\n"
          ]
        }
      ]
    },
    {
      "cell_type": "code",
      "metadata": {
        "id": "qiJITCuwYP2I"
      },
      "source": [
        "#directory =(str(global_drive_path) +\"/cleanInteractions//cleanInteractions-ndsi-3d-task\")\n",
        "directory =(str(global_drive_path) +\"/cleanInteractions//cleanInteractions-ndsi-2d-task\")\n",
        "#directory =(str(global_drive_path) +\"/cleanInteractions//cleanInteractions-rgb-hurricane-3d-task\")\n",
        "fileNames=[]\n",
        "for filename in os.listdir(directory):\n",
        "    if filename.endswith(\".json\"):\n",
        "        filePath=(os.path.join(directory, filename))\n",
        "        fileNames.append(filename)\n",
        "    else:\n",
        "        continue"
      ],
      "execution_count": 5,
      "outputs": []
    },
    {
      "cell_type": "code",
      "source": [
        "# #  # SANITY CHECK !!! small view test\n",
        "# df = pd.read_json(os.path.join(directory,fileNames[0]))\n",
        "# df[:10]\n",
        "# df.toFetch[:10]\n",
        "# for i in range(len(df)):\n",
        "#   print(df)\n"
      ],
      "metadata": {
        "id": "DEUYUWuAtfM5"
      },
      "execution_count": null,
      "outputs": []
    },
    {
      "cell_type": "code",
      "source": [
        "# # # (pd.json_normalize(df.toFetch)).iloc[[0]][0][0]['name']\n",
        "# df = pd.read_json(os.path.join(directory,fileNames[8]))\n",
        "# all_latitude, all_long=get_Location(df)"
      ],
      "metadata": {
        "colab": {
          "base_uri": "https://localhost:8080/"
        },
        "id": "rg9oaoKeHEX7",
        "outputId": "a01f2268-a92f-4fae-92a8-475be373ec29"
      },
      "execution_count": 14,
      "outputs": [
        {
          "output_type": "stream",
          "name": "stdout",
          "text": [
            "Lat-Long file not found\n",
            "Lat-Long file not found\n",
            "Lat-Long file not found\n",
            "Lat-Long file not found\n",
            "Lat-Long file not found\n",
            "Lat-Long file not found\n",
            "Lat-Long file not found\n",
            "Lat-Long file not found\n",
            "Lat-Long file not found\n",
            "Lat-Long file not found\n",
            "Lat-Long file not found\n",
            "Lat-Long file not found\n",
            "Lat-Long file not found\n",
            "Lat-Long file not found\n",
            "Lat-Long file not found\n",
            "Lat-Long file not found\n",
            "Lat-Long file not found\n",
            "Lat-Long file not found\n",
            "Lat-Long file not found\n"
          ]
        }
      ]
    },
    {
      "cell_type": "code",
      "metadata": {
        "id": "UaBB968jtY3k"
      },
      "source": [
        "import numpy as np\n",
        "import matplotlib.pyplot as plt\n",
        "def angle_between(p1, p2):\n",
        "    ang1 = np.arctan2(*p1[::-1])\n",
        "    ang2 = np.arctan2(*p2[::-1])\n",
        "    return np.rad2deg((ang1 - ang2) % (2 * np.pi))"
      ],
      "execution_count": 6,
      "outputs": []
    },
    {
      "cell_type": "code",
      "source": [
        "def get_Location(dataframe):\n",
        "  zoom_files_global_path=\"/content/drive/MyDrive/ForeCache/ndsi_2d_jsons/ndsi_2d_jsons/\" \n",
        "  toFetchData=pd.json_normalize(dataframe.toFetch)\n",
        "  all_longitude=[]\n",
        "  all_latitude=[]\n",
        "  for i in range(len(toFetchData)):\n",
        "    current_row=toFetchData.iloc[i]\n",
        "    row_longitude=[]\n",
        "    row_latitude=[]\n",
        "    for j in range(len(current_row)):\n",
        "      current_column=current_row[j]\n",
        "      if current_column != None:\n",
        "        zoom_file_name=current_column['name']\n",
        "        path=zoom_files_global_path + str(zoom_file_name) +\".json\"\n",
        "        try:\n",
        "          with open(path) as data:    \n",
        "            d = json.load(data)  \n",
        "            df_zoom = pd.json_normalize(d)\n",
        "            if df_zoom.domains[0][0][0] != None:\n",
        "               column_mean_longitude=mean(df_zoom.domains[0][0])\n",
        "            else:\n",
        "               column_mean_longitude=0\n",
        "            if df_zoom.domains[0][1][0] != None:\n",
        "               column_mean_latitude=mean(df_zoom.domains[0][1])\n",
        "            else:\n",
        "               column_mean_latitude=0\n",
        "        except FileNotFoundError:\n",
        "          pass\n",
        "          print(\"Lat-Long file not found\")\n",
        "      row_longitude.append(column_mean_longitude)\n",
        "      row_latitude.append(column_mean_latitude)\n",
        "    all_longitude.append(mean(row_longitude))\n",
        "    all_latitude.append(mean(row_latitude))\n",
        "  return all_longitude, all_latitude"
      ],
      "metadata": {
        "id": "5qZuJPLJfUQ7"
      },
      "execution_count": 7,
      "outputs": []
    },
    {
      "cell_type": "code",
      "source": [
        "def get_Ndsi(dataframe):\n",
        "  zoom_files_global_path=\"/content/drive/MyDrive/ForeCache/ndsi_2d_jsons/ndsi_2d_jsons/\" \n",
        "  toFetchData=pd.json_normalize(dataframe.toFetch)\n",
        "  all_ndsi=[]\n",
        "  for i in range(len(toFetchData)):\n",
        "    current_row=toFetchData.iloc[i]\n",
        "    row_ndsi=[]\n",
        "    for j in range(len(current_row)):\n",
        "      current_column=current_row[j]\n",
        "      if current_column != None:\n",
        "        zoom_file_name=current_column['name']\n",
        "        path=zoom_files_global_path + str(zoom_file_name) +\".json\"\n",
        "        try:\n",
        "          with open(path) as data:    \n",
        "            d = json.load(data)  \n",
        "            df_zoom = pd.json_normalize(d)\n",
        "            if df_zoom.domains[0][2][0] != None:\n",
        "               column_mean_ndsi=mean(df_zoom.domains[0][2])\n",
        "            else:\n",
        "               column_mean_ndsi=0\n",
        "        except FileNotFoundError:\n",
        "          pass\n",
        "          print(\"Zoom file not found\")\n",
        "      row_ndsi.append(column_mean_ndsi)\n",
        "    all_ndsi.append(mean(row_ndsi))\n",
        "  return all_ndsi"
      ],
      "metadata": {
        "id": "fQoOBeRwPTMc"
      },
      "execution_count": 8,
      "outputs": []
    },
    {
      "cell_type": "code",
      "metadata": {
        "id": "il69FBfLspUB"
      },
      "source": [
        "def get_Angle(df):\n",
        "  interactionData= pd.json_normalize(df.interactionData)\n",
        "  x1=[]\n",
        "  x2=[]\n",
        "  y1=[]\n",
        "  y2=[]\n",
        "  angle=[]\n",
        "  for i in range(len(interactionData['interactionType'])):\n",
        "    #handles if the interactiontype doesn't have a coordinate : if interactionType is zoom\n",
        "    if ((isinstance(interactionData['state.dragStart'][i], list) or isinstance(interactionData['state.dragEnd'][i], list) )==False):\n",
        "      \n",
        "      interactionData['state.dragStart'][i]=[0,0]\n",
        "      interactionData['state.dragEnd'][i]=[0,0]\n",
        "    #get between drag start and drag end\n",
        "    angle.append(angle_between(interactionData['state.dragStart'][i],interactionData['state.dragEnd'][i]))\n",
        "    #print(angle)\n",
        "\n",
        "    #this are to plot later on\n",
        "    x1.append(interactionData['state.dragStart'][i][0])\n",
        "    y1.append(interactionData['state.dragStart'][i][1])\n",
        "\n",
        "    x2.append(interactionData['state.dragEnd'][i][0])\n",
        "    y2.append(interactionData['state.dragEnd'][i][1])\n",
        "  return angle\n",
        "\n"
      ],
      "execution_count": 9,
      "outputs": []
    },
    {
      "cell_type": "code",
      "source": [
        "#to generate reward based on radiclick and snapshot data \n",
        "def get_Reward(dataframe,filenamed):\n",
        "  #global path\n",
        "  reward=[]\n",
        "  subtask=[]\n",
        "  raw_timestamp= dataframe.timestampMillis\n",
        "  snapshot_global_drive_path=\"/content/drive/MyDrive/ForeCache/forecache_user_study_data_dump/forecache_user_study_data_dump\"\n",
        "  #get a pandas dataframe object from json file\n",
        "  path= snapshot_global_drive_path + \"/snapshots.json\"\n",
        "  with open(path) as project_file:    \n",
        "      data = json.load(project_file) \n",
        "  df_snapshots = pd.json_normalize(data)\n",
        "\n",
        "  #get userid from fileName\n",
        "  #filenamed[filenamed.find(\"userid_\")+7: filenamed.find(\".csv\")] need to remove  hard code later\n",
        "  dataframe_dimension=df_snapshots.loc[(df_snapshots['taskname']==\"ndsi-2d-task\") & (df_snapshots['userid']==filenamed[filenamed.find(\"userid_\")+7: filenamed.find(\".json\")])] #change here for different Task name 2d, 3d\n",
        "  print(\"There are \", len(dataframe_dimension) , \"Snapshot times\")\n",
        "  for i in tqdm(range(len(raw_timestamp))):\n",
        "      stringmyDate=str(raw_timestamp[i])\n",
        "      myDate=stringmyDate[: stringmyDate.find(\".\")]\n",
        "      dt = datetime.datetime.strptime(myDate, \"%Y-%m-%d %H:%M:%S\")\n",
        "      a=time.mktime(dt.timetuple()) + (dt.microsecond / 1000000.0)\n",
        "      temp=0\n",
        "      task=1\n",
        "      for j in range(len(dataframe_dimension[\"timestampMillis\"])):\n",
        "\n",
        "\n",
        "        if abs(a - (dataframe_dimension.timestampMillis.iloc[j]/1000)) < 10:\n",
        "          temp=temp+10\n",
        "        else:\n",
        "         temp=temp+0\n",
        "        if (a - (dataframe_dimension.timestampMillis.iloc[j]/1000)) < 0:\n",
        "          task=task\n",
        "        else:\n",
        "          task=task+1\n",
        "      subtask.append(task)\n",
        "      reward.append(temp)\n",
        "  return reward, subtask\n",
        "    "
      ],
      "metadata": {
        "id": "V4y5GzZYJ6eB"
      },
      "execution_count": 10,
      "outputs": []
    },
    {
      "cell_type": "code",
      "source": [
        "def get_Zoom(df_zoom):\n",
        "  df_zoom['state.newZoom'] = df_zoom['state.newZoom'].replace(np.nan, 0)\n",
        "  lastZoom=[0,0]\n",
        "  zoom_level=[]\n",
        "  for i in tqdm(range(len(df_zoom))):\n",
        "    if df_zoom['state.newZoom'][i]==0:\n",
        "      if (lastZoom!=[0,0]):\n",
        "          df_zoom['state.newZoom'][i]=lastZoom\n",
        "      else:\n",
        "        df_zoom['state.newZoom'][i]= [0,0]\n",
        "        lastZoom= [0,0]\n",
        "    else:\n",
        "      lastZoom = df_zoom['state.newZoom'][i]\n",
        "    zoom_level.append(df_zoom['state.newZoom'][i][0])\n",
        "  #zoom level subset:\n",
        "  # third_last=0\n",
        "  # second_last=0\n",
        "  # last=0\n",
        "  zoom_subset=[]\n",
        "  subset=1\n",
        "  for z in range(len(zoom_level)):\n",
        "    try:\n",
        "      third_last=zoom_level[z+2]\n",
        "      second_last=zoom_level[z+1]\n",
        "      last=zoom_level[z]\n",
        "      if (zoom_level[z+3]==5 and third_last==5 and second_last==5 and last==int(5)):\n",
        "        subset=subset+1\n",
        "      else:\n",
        "        subset=subset\n",
        "      zoom_subset.append(subset)\n",
        "    except IndexError:\n",
        "      print(\"List complete\")\n",
        "      zoom_subset.append(subset)\n",
        "  assert(len(zoom_level)==len(zoom_subset))\n",
        "  return zoom_level,zoom_subset"
      ],
      "metadata": {
        "id": "-kUjWJ6JwYrC"
      },
      "execution_count": 11,
      "outputs": []
    },
    {
      "cell_type": "code",
      "source": [
        "def get_IdleTime(df):\n",
        "  idle_time=[]\n",
        "  previous_time=df['timestampMillis'][0]\n",
        "  for i in tqdm(range(len(df))):\n",
        "      wait_time=df['timestampMillis'][i]-previous_time\n",
        "      previous_time=df['timestampMillis'][i]\n",
        "\n",
        "\n",
        "      #fixing format\n",
        "      idle_time.append(wait_time.total_seconds())\n",
        "  return idle_time"
      ],
      "metadata": {
        "id": "rO2eqykcD3P_"
      },
      "execution_count": 12,
      "outputs": []
    },
    {
      "cell_type": "code",
      "source": [
        "import heapq\n",
        "def get_Subset_Idletime(idle_time):\n",
        "  subset_idle_time=[]\n",
        "  largest_indexes=heapq.nlargest(2, range(len(idle_time)), key=idle_time.__getitem__)\n",
        "  second_max_index=largest_indexes[1]\n",
        "  for j in tqdm(range(len(idle_time))):\n",
        "    if (j<= second_max_index):\n",
        "      subset_idle_time.append(1)\n",
        "    else:\n",
        "      subset_idle_time.append(2)\n",
        "  return subset_idle_time"
      ],
      "metadata": {
        "id": "cIR9VPrq5nmo"
      },
      "execution_count": 13,
      "outputs": []
    },
    {
      "cell_type": "code",
      "source": [
        "def get_State(df_state):\n",
        "  states_array=[]\n",
        "  for i in range(len(df_state)):\n",
        "    if pd.isna(df_state.phase[i]):\n",
        "      states_array.append('Answering')\n",
        "    else:\n",
        "      states_array.append(df_state.phase[i])\n",
        "  return states_array"
      ],
      "metadata": {
        "id": "chEn5X6f0Mta"
      },
      "execution_count": 14,
      "outputs": []
    },
    {
      "cell_type": "code",
      "source": [
        "# from collections import defaultdict\n",
        "# probabilities=[]\n",
        "# states_actions=[]\n",
        "# _map = defaultdict(int)\n",
        "# states=['Answering','SenseMaking','Foraging','Navigation']\n",
        "# actions=['start','pan','zoom','radioClick']\n",
        "# for state in states:\n",
        "#   for action in actions:\n",
        "#     states_actions.append(state+action)\n",
        "#     _map[state+action]=1\n"
      ],
      "metadata": {
        "id": "aSjcO1HvoqLi"
      },
      "execution_count": null,
      "outputs": []
    },
    {
      "cell_type": "code",
      "source": [
        "def get_index(df):\n",
        "  index=[]\n",
        "  for i in range(len(df)):\n",
        "    index.append(i)\n",
        "  return index"
      ],
      "metadata": {
        "id": "VAlJ9aMxHSAn"
      },
      "execution_count": 15,
      "outputs": []
    },
    {
      "cell_type": "code",
      "source": [
        "from collections import defaultdict\n",
        "def get_probabilities(df):\n",
        "    probabilities=[]\n",
        "    map=dict()\n",
        "\n",
        "    states=['Answering','Sensemaking','Foraging','Navigation']\n",
        "    actions=['start','pan','zoom','radioClick']\n",
        "    for state in states:\n",
        "      for action in actions:\n",
        "        map[state+action]=1\n",
        "\n",
        "\n",
        "    for i in range(len(df)):\n",
        "      #print(str(df['State'][i]+df['Action']))\n",
        "      if df['State'][i]==\"Navigation\":\n",
        "        map[str(df['State'][i]+df['Action'][i])] += 1\n",
        "        probs = (map[str(df['State'][i]+df['Action'][i])])/(map['Navigationpan'] + map['NavigationradioClick']+ map['Navigationstart'] + map['Navigationzoom'])\n",
        "\n",
        "      elif df['State'][i]==\"Sensemaking\":\n",
        "        map[str(df['State'][i]+df['Action'][i])] += 1\n",
        "        probs = (map[str(df['State'][i]+df['Action'][i])])/(map['Sensemakingpan'] + map['SensemakingradioClick']+ map['Sensemakingstart'] + map['Sensemakingzoom'])\n",
        "      elif df['State'][i]==\"Foraging\":\n",
        "        map[str(df['State'][i]+df['Action'][i])] += 1\n",
        "        probs = (map[str(df['State'][i]+df['Action'][i])])/(map['Foragingpan'] + map['ForagingradioClick']+ map['Foragingstart'] + map['Foragingzoom'])\n",
        "      else:\n",
        "        map[str(df['State'][i]+df['Action'][i])] += 1\n",
        "        probs = (map[str(df['State'][i]+df['Action'][i])])/(map['Answeringpan'] + map['AnsweringradioClick']+ map['Answeringstart'] + map['Answeringzoom'])\n",
        "      probabilities.append(probs)\n",
        "    return probabilities"
      ],
      "metadata": {
        "id": "BVVMkz_YtrJY"
      },
      "execution_count": 16,
      "outputs": []
    },
    {
      "cell_type": "markdown",
      "source": [
        "MAIN FUNCTION THAT RETURNS THE COMPLETED FILE"
      ],
      "metadata": {
        "id": "OQHc1xG3LvB6"
      }
    },
    {
      "cell_type": "code",
      "metadata": {
        "colab": {
          "base_uri": "https://localhost:8080/"
        },
        "id": "fmDN-TjfYyI7",
        "outputId": "2d696d65-f73e-4af6-f95f-440523cb9e70"
      },
      "source": [
        "error_files=[]\n",
        "\n",
        "for filename in tqdm(fileNames):\n",
        "  try:\n",
        "    #saveDir=(str(global_drive_path) +\"/stateActionModel/ndsi-2d\")\n",
        "    saveDir=(str(global_drive_path) +\"/stateActionModel/ndsi-2d\")\n",
        "    #saveDir=(str(global_drive_path) +\"/stateActionModel/rgb-hurricane-3d\")\n",
        "\n",
        "\n",
        "    #get a pandas dataframe object from json file\n",
        "    df = pd.read_json(os.path.join(directory,filename))\n",
        "    print(\"Read file:\",filename)\n",
        "    interactionData=pd.json_normalize(df.interactionData)\n",
        "    final_dataframe = pd.DataFrame(columns=['UserIndex','Action','State','TimeStamp','StateActionProbab','IdleTime','Reward','Subtask_Screenshot_Time','Subtask_Idle_Time','ZoomLevel','NDSI','Subtask_Zoom','Latitude','Longitude'])\n",
        "    final_dataframe['UserIndex']= get_index(df)\t\n",
        "    final_dataframe['NDSI']= get_Ndsi(df)\t\n",
        "    final_dataframe['Action']=interactionData.interactionType\n",
        "    final_dataframe['State']=get_State(df)\n",
        "    final_dataframe['TimeStamp']=df.timestampMillis\n",
        "    final_dataframe['IdleTime']=get_IdleTime(df)\n",
        "    final_dataframe['Subtask_Idle_Time']= get_Subset_Idletime(final_dataframe['IdleTime'])\n",
        "    final_dataframe['Reward'],final_dataframe['Subtask_Screenshot_Time']= get_Reward(df,filename)\n",
        "    final_dataframe['Angle']= get_Angle(df)\n",
        "    final_dataframe['ZoomLevel'],final_dataframe['Subtask_Zoom']= get_Zoom(interactionData)\t\n",
        "    final_dataframe['Longitude'],final_dataframe['Latitude']=get_Location(df)\n",
        "    \n",
        "    #get probabilities\n",
        "    final_dataframe['StateActionProbab']=get_probabilities(final_dataframe)\n",
        "    txt_version= filename.replace(\"json\",\"csv\")\n",
        "    final_dataframe.to_csv(os.path.join(saveDir,txt_version), index=False)\n",
        "  except AttributeError:\n",
        "    print(\"AttributeError\")\n",
        "    error_files.append(filename)\n"
      ],
      "execution_count": 17,
      "outputs": [
        {
          "output_type": "stream",
          "name": "stderr",
          "text": [
            "\r  0%|          | 0/20 [00:00<?, ?it/s]"
          ]
        },
        {
          "output_type": "stream",
          "name": "stdout",
          "text": [
            "Read file: taskname_ndsi-2d-task_userid_72a8d170-77ae-400e-b2a5-de9e1d33a714.json\n",
            "Zoom file not found\n",
            "Zoom file not found\n",
            "Zoom file not found\n",
            "Zoom file not found\n",
            "Zoom file not found\n",
            "Zoom file not found\n",
            "Zoom file not found\n",
            "Zoom file not found\n",
            "Zoom file not found\n",
            "Zoom file not found\n",
            "Zoom file not found\n",
            "Zoom file not found\n",
            "Zoom file not found\n",
            "Zoom file not found\n"
          ]
        },
        {
          "output_type": "stream",
          "name": "stderr",
          "text": [
            "\n",
            "100%|██████████| 81/81 [00:00<00:00, 17121.33it/s]\n",
            "\n",
            "100%|██████████| 81/81 [00:00<00:00, 504063.24it/s]\n"
          ]
        },
        {
          "output_type": "stream",
          "name": "stdout",
          "text": [
            "There are  3 Snapshot times\n"
          ]
        },
        {
          "output_type": "stream",
          "name": "stderr",
          "text": [
            "\n",
            "100%|██████████| 81/81 [00:00<00:00, 3877.41it/s]\n",
            "\n",
            "100%|██████████| 81/81 [00:00<00:00, 4329.98it/s]"
          ]
        },
        {
          "output_type": "stream",
          "name": "stdout",
          "text": [
            "List complete\n",
            "List complete\n",
            "List complete\n",
            "Lat-Long file not found\n",
            "Lat-Long file not found\n"
          ]
        },
        {
          "output_type": "stream",
          "name": "stderr",
          "text": [
            "\n"
          ]
        },
        {
          "output_type": "stream",
          "name": "stdout",
          "text": [
            "Lat-Long file not found\n",
            "Lat-Long file not found\n",
            "Lat-Long file not found\n",
            "Lat-Long file not found\n",
            "Lat-Long file not found\n",
            "Lat-Long file not found\n",
            "Lat-Long file not found\n",
            "Lat-Long file not found\n",
            "Lat-Long file not found\n",
            "Lat-Long file not found\n",
            "Lat-Long file not found\n",
            "Lat-Long file not found\n"
          ]
        },
        {
          "output_type": "stream",
          "name": "stderr",
          "text": [
            "\r  5%|▌         | 1/20 [00:02<00:39,  2.08s/it]"
          ]
        },
        {
          "output_type": "stream",
          "name": "stdout",
          "text": [
            "Read file: taskname_ndsi-2d-task_userid_ff56863b-0710-4a58-ad22-4bf2889c9bc0.json\n",
            "Zoom file not found\n",
            "Zoom file not found\n",
            "Zoom file not found\n",
            "Zoom file not found\n",
            "Zoom file not found\n",
            "Zoom file not found\n",
            "Zoom file not found\n",
            "Zoom file not found\n",
            "Zoom file not found\n",
            "Zoom file not found\n",
            "Zoom file not found\n",
            "Zoom file not found\n",
            "Zoom file not found\n",
            "Zoom file not found\n",
            "Zoom file not found\n",
            "Zoom file not found\n",
            "Zoom file not found\n",
            "Zoom file not found\n",
            "Zoom file not found\n",
            "Zoom file not found\n",
            "Zoom file not found\n",
            "Zoom file not found\n",
            "Zoom file not found\n",
            "Zoom file not found\n",
            "Zoom file not found\n",
            "Zoom file not found\n"
          ]
        },
        {
          "output_type": "stream",
          "name": "stderr",
          "text": [
            "\n",
            "100%|██████████| 176/176 [00:00<00:00, 17971.07it/s]\n",
            "\n",
            "100%|██████████| 176/176 [00:00<00:00, 686695.35it/s]\n"
          ]
        },
        {
          "output_type": "stream",
          "name": "stdout",
          "text": [
            "There are  3 Snapshot times\n"
          ]
        },
        {
          "output_type": "stream",
          "name": "stderr",
          "text": [
            "\n",
            "100%|██████████| 176/176 [00:00<00:00, 5084.11it/s]\n",
            "\n",
            "100%|██████████| 176/176 [00:00<00:00, 3048.83it/s]"
          ]
        },
        {
          "output_type": "stream",
          "name": "stdout",
          "text": [
            "List complete\n",
            "List complete\n",
            "List complete\n"
          ]
        },
        {
          "output_type": "stream",
          "name": "stderr",
          "text": [
            "\n"
          ]
        },
        {
          "output_type": "stream",
          "name": "stdout",
          "text": [
            "Lat-Long file not found\n",
            "Lat-Long file not found\n",
            "Lat-Long file not found\n",
            "Lat-Long file not found\n",
            "Lat-Long file not found\n",
            "Lat-Long file not found\n",
            "Lat-Long file not found\n",
            "Lat-Long file not found\n",
            "Lat-Long file not found\n",
            "Lat-Long file not found\n",
            "Lat-Long file not found\n",
            "Lat-Long file not found\n",
            "Lat-Long file not found\n",
            "Lat-Long file not found\n",
            "Lat-Long file not found\n",
            "Lat-Long file not found\n",
            "Lat-Long file not found\n",
            "Lat-Long file not found\n",
            "Lat-Long file not found\n",
            "Lat-Long file not found\n",
            "Lat-Long file not found\n",
            "Lat-Long file not found\n",
            "Lat-Long file not found\n",
            "Lat-Long file not found\n",
            "Lat-Long file not found\n",
            "Lat-Long file not found\n"
          ]
        },
        {
          "output_type": "stream",
          "name": "stderr",
          "text": [
            "\r 10%|█         | 2/20 [00:05<00:51,  2.85s/it]"
          ]
        },
        {
          "output_type": "stream",
          "name": "stdout",
          "text": [
            "Read file: taskname_ndsi-2d-task_userid_ac5b65d7-f260-4534-9fae-d998b726ed32.json\n",
            "Zoom file not found\n",
            "Zoom file not found\n",
            "Zoom file not found\n",
            "Zoom file not found\n",
            "Zoom file not found\n",
            "Zoom file not found\n",
            "Zoom file not found\n",
            "Zoom file not found\n",
            "Zoom file not found\n",
            "Zoom file not found\n",
            "Zoom file not found\n",
            "Zoom file not found\n",
            "Zoom file not found\n",
            "Zoom file not found\n",
            "Zoom file not found\n",
            "Zoom file not found\n",
            "Zoom file not found\n",
            "Zoom file not found\n",
            "Zoom file not found\n",
            "Zoom file not found\n",
            "Zoom file not found\n",
            "Zoom file not found\n",
            "Zoom file not found\n",
            "Zoom file not found\n",
            "Zoom file not found\n",
            "Zoom file not found\n",
            "Zoom file not found\n",
            "Zoom file not found\n",
            "Zoom file not found\n",
            "Zoom file not found\n",
            "Zoom file not found\n",
            "Zoom file not found\n"
          ]
        },
        {
          "output_type": "stream",
          "name": "stderr",
          "text": [
            "\n",
            "100%|██████████| 112/112 [00:00<00:00, 18400.39it/s]\n",
            "\n",
            "100%|██████████| 112/112 [00:00<00:00, 722710.84it/s]\n"
          ]
        },
        {
          "output_type": "stream",
          "name": "stdout",
          "text": [
            "There are  3 Snapshot times\n"
          ]
        },
        {
          "output_type": "stream",
          "name": "stderr",
          "text": [
            "\n",
            "100%|██████████| 112/112 [00:00<00:00, 4693.07it/s]\n",
            "\n",
            "100%|██████████| 112/112 [00:00<00:00, 4222.66it/s]"
          ]
        },
        {
          "output_type": "stream",
          "name": "stdout",
          "text": [
            "List complete\n",
            "List complete\n",
            "List complete\n",
            "Lat-Long file not found\n"
          ]
        },
        {
          "output_type": "stream",
          "name": "stderr",
          "text": [
            "\n"
          ]
        },
        {
          "output_type": "stream",
          "name": "stdout",
          "text": [
            "Lat-Long file not found\n",
            "Lat-Long file not found\n",
            "Lat-Long file not found\n",
            "Lat-Long file not found\n",
            "Lat-Long file not found\n",
            "Lat-Long file not found\n",
            "Lat-Long file not found\n",
            "Lat-Long file not found\n",
            "Lat-Long file not found\n",
            "Lat-Long file not found\n",
            "Lat-Long file not found\n",
            "Lat-Long file not found\n",
            "Lat-Long file not found\n",
            "Lat-Long file not found\n",
            "Lat-Long file not found\n",
            "Lat-Long file not found\n",
            "Lat-Long file not found\n",
            "Lat-Long file not found\n",
            "Lat-Long file not found\n",
            "Lat-Long file not found\n",
            "Lat-Long file not found\n",
            "Lat-Long file not found\n",
            "Lat-Long file not found\n",
            "Lat-Long file not found\n",
            "Lat-Long file not found\n",
            "Lat-Long file not found\n",
            "Lat-Long file not found\n",
            "Lat-Long file not found\n",
            "Lat-Long file not found\n"
          ]
        },
        {
          "output_type": "stream",
          "name": "stderr",
          "text": [
            "\r 15%|█▌        | 3/20 [00:07<00:44,  2.64s/it]"
          ]
        },
        {
          "output_type": "stream",
          "name": "stdout",
          "text": [
            "Lat-Long file not found\n",
            "Lat-Long file not found\n",
            "Read file: taskname_ndsi-2d-task_userid_8bf5b71b-dfd4-403f-8791-06427b26ccaf.json\n",
            "Zoom file not found\n",
            "Zoom file not found\n",
            "Zoom file not found\n",
            "Zoom file not found\n",
            "Zoom file not found\n",
            "Zoom file not found\n",
            "Zoom file not found\n",
            "Zoom file not found\n",
            "Zoom file not found\n",
            "Zoom file not found\n",
            "Zoom file not found\n",
            "Zoom file not found\n",
            "Zoom file not found\n",
            "Zoom file not found\n",
            "Zoom file not found\n",
            "Zoom file not found\n",
            "Zoom file not found\n",
            "Zoom file not found\n",
            "Zoom file not found\n"
          ]
        },
        {
          "output_type": "stream",
          "name": "stderr",
          "text": [
            "\n",
            "100%|██████████| 81/81 [00:00<00:00, 25511.65it/s]\n",
            "\n",
            "100%|██████████| 81/81 [00:00<00:00, 444684.06it/s]\n"
          ]
        },
        {
          "output_type": "stream",
          "name": "stdout",
          "text": [
            "There are  3 Snapshot times\n"
          ]
        },
        {
          "output_type": "stream",
          "name": "stderr",
          "text": [
            "\n",
            "100%|██████████| 81/81 [00:00<00:00, 3108.14it/s]\n",
            "\n",
            "100%|██████████| 81/81 [00:00<00:00, 4207.71it/s]"
          ]
        },
        {
          "output_type": "stream",
          "name": "stdout",
          "text": [
            "List complete\n",
            "List complete\n",
            "List complete\n",
            "Lat-Long file not found\n",
            "Lat-Long file not found\n",
            "Lat-Long file not found\n",
            "Lat-Long file not found\n",
            "Lat-Long file not found\n",
            "Lat-Long file not found\n",
            "Lat-Long file not found\n",
            "Lat-Long file not found\n"
          ]
        },
        {
          "output_type": "stream",
          "name": "stderr",
          "text": [
            "\n"
          ]
        },
        {
          "output_type": "stream",
          "name": "stdout",
          "text": [
            "Lat-Long file not found\n",
            "Lat-Long file not found\n",
            "Lat-Long file not found\n",
            "Lat-Long file not found\n",
            "Lat-Long file not found\n",
            "Lat-Long file not found\n",
            "Lat-Long file not found\n",
            "Lat-Long file not found\n",
            "Lat-Long file not found\n",
            "Lat-Long file not found\n",
            "Lat-Long file not found\n"
          ]
        },
        {
          "output_type": "stream",
          "name": "stderr",
          "text": [
            "\r 20%|██        | 4/20 [00:09<00:35,  2.25s/it]"
          ]
        },
        {
          "output_type": "stream",
          "name": "stdout",
          "text": [
            "Read file: taskname_ndsi-2d-task_userid_82316e37-1117-4663-84b4-ddb6455c83b2.json\n",
            "Zoom file not found\n",
            "Zoom file not found\n",
            "Zoom file not found\n",
            "Zoom file not found\n",
            "Zoom file not found\n",
            "Zoom file not found\n",
            "Zoom file not found\n",
            "Zoom file not found\n",
            "Zoom file not found\n",
            "Zoom file not found\n",
            "Zoom file not found\n",
            "Zoom file not found\n",
            "Zoom file not found\n",
            "Zoom file not found\n"
          ]
        },
        {
          "output_type": "stream",
          "name": "stderr",
          "text": [
            "\n",
            "100%|██████████| 49/49 [00:00<00:00, 27070.72it/s]\n",
            "\n",
            "100%|██████████| 49/49 [00:00<00:00, 370976.35it/s]\n"
          ]
        },
        {
          "output_type": "stream",
          "name": "stdout",
          "text": [
            "There are  3 Snapshot times\n"
          ]
        },
        {
          "output_type": "stream",
          "name": "stderr",
          "text": [
            "\n",
            "100%|██████████| 49/49 [00:00<00:00, 4849.25it/s]\n",
            "\n",
            "100%|██████████| 49/49 [00:00<00:00, 4078.52it/s]\n"
          ]
        },
        {
          "output_type": "stream",
          "name": "stdout",
          "text": [
            "List complete\n",
            "List complete\n",
            "List complete\n",
            "Lat-Long file not found\n",
            "Lat-Long file not found\n",
            "Lat-Long file not found\n",
            "Lat-Long file not found\n",
            "Lat-Long file not found\n",
            "Lat-Long file not found\n",
            "Lat-Long file not found\n",
            "Lat-Long file not found\n",
            "Lat-Long file not found\n",
            "Lat-Long file not found\n",
            "Lat-Long file not found\n",
            "Lat-Long file not found\n",
            "Lat-Long file not found\n",
            "Lat-Long file not found\n"
          ]
        },
        {
          "output_type": "stream",
          "name": "stderr",
          "text": [
            "\r 25%|██▌       | 5/20 [00:10<00:28,  1.91s/it]"
          ]
        },
        {
          "output_type": "stream",
          "name": "stdout",
          "text": [
            "Read file: taskname_ndsi-2d-task_userid_7d014c75-453b-4188-9e4e-fb086984896a.json\n",
            "Zoom file not found\n",
            "Zoom file not found\n",
            "Zoom file not found\n",
            "Zoom file not found\n",
            "Zoom file not found\n",
            "Zoom file not found\n",
            "Zoom file not found\n",
            "Zoom file not found\n",
            "Zoom file not found\n",
            "Zoom file not found\n",
            "Zoom file not found\n",
            "Zoom file not found\n",
            "Zoom file not found\n",
            "Zoom file not found\n",
            "Zoom file not found\n",
            "Zoom file not found\n",
            "Zoom file not found\n",
            "Zoom file not found\n",
            "Zoom file not found\n",
            "Zoom file not found\n",
            "Zoom file not found\n",
            "Zoom file not found\n",
            "Zoom file not found\n",
            "Zoom file not found\n",
            "Zoom file not found\n",
            "Zoom file not found\n",
            "Zoom file not found\n",
            "Zoom file not found\n",
            "Zoom file not found\n",
            "Zoom file not found\n",
            "Zoom file not found\n",
            "Zoom file not found\n",
            "Zoom file not found\n",
            "Zoom file not found\n",
            "Zoom file not found\n",
            "Zoom file not found\n"
          ]
        },
        {
          "output_type": "stream",
          "name": "stderr",
          "text": [
            "\n",
            "100%|██████████| 195/195 [00:00<00:00, 22372.37it/s]\n",
            "\n",
            "100%|██████████| 195/195 [00:00<00:00, 56845.24it/s]\n"
          ]
        },
        {
          "output_type": "stream",
          "name": "stdout",
          "text": [
            "There are  4 Snapshot times\n"
          ]
        },
        {
          "output_type": "stream",
          "name": "stderr",
          "text": [
            "\n",
            "100%|██████████| 195/195 [00:00<00:00, 3812.95it/s]\n",
            "\n",
            "100%|██████████| 195/195 [00:00<00:00, 5448.35it/s]\n"
          ]
        },
        {
          "output_type": "stream",
          "name": "stdout",
          "text": [
            "List complete\n",
            "List complete\n",
            "List complete\n",
            "Lat-Long file not found\n",
            "Lat-Long file not found\n",
            "Lat-Long file not found\n",
            "Lat-Long file not found\n",
            "Lat-Long file not found\n",
            "Lat-Long file not found\n",
            "Lat-Long file not found\n",
            "Lat-Long file not found\n",
            "Lat-Long file not found\n",
            "Lat-Long file not found\n",
            "Lat-Long file not found\n",
            "Lat-Long file not found\n",
            "Lat-Long file not found\n",
            "Lat-Long file not found\n",
            "Lat-Long file not found\n",
            "Lat-Long file not found\n",
            "Lat-Long file not found\n",
            "Lat-Long file not found\n",
            "Lat-Long file not found\n",
            "Lat-Long file not found\n",
            "Lat-Long file not found\n",
            "Lat-Long file not found\n",
            "Lat-Long file not found\n",
            "Lat-Long file not found\n",
            "Lat-Long file not found\n",
            "Lat-Long file not found\n",
            "Lat-Long file not found\n",
            "Lat-Long file not found\n",
            "Lat-Long file not found\n",
            "Lat-Long file not found\n",
            "Lat-Long file not found\n",
            "Lat-Long file not found\n",
            "Lat-Long file not found\n",
            "Lat-Long file not found\n",
            "Lat-Long file not found\n",
            "Lat-Long file not found\n"
          ]
        },
        {
          "output_type": "stream",
          "name": "stderr",
          "text": [
            "\r 30%|███       | 6/20 [00:14<00:36,  2.62s/it]"
          ]
        },
        {
          "output_type": "stream",
          "name": "stdout",
          "text": [
            "Read file: taskname_ndsi-2d-task_userid_bc9f9425-e867-4876-a5d9-791229916767.json\n",
            "Zoom file not found\n",
            "Zoom file not found\n",
            "Zoom file not found\n",
            "Zoom file not found\n",
            "Zoom file not found\n",
            "Zoom file not found\n",
            "Zoom file not found\n",
            "Zoom file not found\n"
          ]
        },
        {
          "output_type": "stream",
          "name": "stderr",
          "text": [
            "\n",
            "100%|██████████| 45/45 [00:00<00:00, 9159.20it/s]\n",
            "\n",
            "100%|██████████| 45/45 [00:00<00:00, 225500.22it/s]\n"
          ]
        },
        {
          "output_type": "stream",
          "name": "stdout",
          "text": [
            "There are  4 Snapshot times\n"
          ]
        },
        {
          "output_type": "stream",
          "name": "stderr",
          "text": [
            "\n",
            "100%|██████████| 45/45 [00:00<00:00, 2647.40it/s]\n",
            "\n",
            "100%|██████████| 45/45 [00:00<00:00, 3236.62it/s]\n"
          ]
        },
        {
          "output_type": "stream",
          "name": "stdout",
          "text": [
            "List complete\n",
            "List complete\n",
            "List complete\n",
            "Lat-Long file not found\n",
            "Lat-Long file not found\n",
            "Lat-Long file not found\n",
            "Lat-Long file not found\n",
            "Lat-Long file not found\n",
            "Lat-Long file not found\n",
            "Lat-Long file not found\n",
            "Lat-Long file not found\n"
          ]
        },
        {
          "output_type": "stream",
          "name": "stderr",
          "text": [
            "\r 35%|███▌      | 7/20 [00:15<00:26,  2.06s/it]"
          ]
        },
        {
          "output_type": "stream",
          "name": "stdout",
          "text": [
            "Read file: taskname_ndsi-2d-task_userid_bda49380-37ad-41c5-a109-7fa198a7691a.json\n",
            "Zoom file not found\n",
            "Zoom file not found\n",
            "Zoom file not found\n",
            "Zoom file not found\n",
            "Zoom file not found\n",
            "Zoom file not found\n",
            "Zoom file not found\n",
            "Zoom file not found\n",
            "Zoom file not found\n",
            "Zoom file not found\n",
            "Zoom file not found\n",
            "Zoom file not found\n",
            "Zoom file not found\n",
            "Zoom file not found\n",
            "Zoom file not found\n",
            "Zoom file not found\n",
            "Zoom file not found\n",
            "Zoom file not found\n",
            "Zoom file not found\n",
            "Zoom file not found\n",
            "Zoom file not found\n",
            "Zoom file not found\n",
            "Zoom file not found\n",
            "Zoom file not found\n"
          ]
        },
        {
          "output_type": "stream",
          "name": "stderr",
          "text": [
            "\n",
            "100%|██████████| 129/129 [00:00<00:00, 29367.41it/s]\n",
            "\n",
            "100%|██████████| 129/129 [00:00<00:00, 713806.35it/s]\n"
          ]
        },
        {
          "output_type": "stream",
          "name": "stdout",
          "text": [
            "There are  4 Snapshot times\n"
          ]
        },
        {
          "output_type": "stream",
          "name": "stderr",
          "text": [
            "\n",
            "100%|██████████| 129/129 [00:00<00:00, 4178.82it/s]\n",
            "\n",
            "100%|██████████| 129/129 [00:00<00:00, 2837.71it/s]"
          ]
        },
        {
          "output_type": "stream",
          "name": "stdout",
          "text": [
            "List complete\n",
            "List complete\n",
            "List complete\n",
            "Lat-Long file not found\n",
            "Lat-Long file not found\n",
            "Lat-Long file not found\n"
          ]
        },
        {
          "output_type": "stream",
          "name": "stderr",
          "text": [
            "\n"
          ]
        },
        {
          "output_type": "stream",
          "name": "stdout",
          "text": [
            "Lat-Long file not found\n",
            "Lat-Long file not found\n",
            "Lat-Long file not found\n",
            "Lat-Long file not found\n",
            "Lat-Long file not found\n",
            "Lat-Long file not found\n",
            "Lat-Long file not found\n",
            "Lat-Long file not found\n",
            "Lat-Long file not found\n",
            "Lat-Long file not found\n",
            "Lat-Long file not found\n",
            "Lat-Long file not found\n",
            "Lat-Long file not found\n",
            "Lat-Long file not found\n",
            "Lat-Long file not found\n",
            "Lat-Long file not found\n",
            "Lat-Long file not found\n"
          ]
        },
        {
          "output_type": "stream",
          "name": "stderr",
          "text": [
            "\r 40%|████      | 8/20 [00:18<00:26,  2.22s/it]"
          ]
        },
        {
          "output_type": "stream",
          "name": "stdout",
          "text": [
            "Lat-Long file not found\n",
            "Lat-Long file not found\n",
            "Lat-Long file not found\n",
            "Lat-Long file not found\n",
            "Read file: taskname_ndsi-2d-task_userid_d6555293-35c7-4c27-b522-38d67d2d1b1a.json\n",
            "Zoom file not found\n",
            "Zoom file not found\n",
            "Zoom file not found\n",
            "Zoom file not found\n",
            "Zoom file not found\n",
            "Zoom file not found\n",
            "Zoom file not found\n",
            "Zoom file not found\n",
            "Zoom file not found\n",
            "Zoom file not found\n",
            "Zoom file not found\n",
            "Zoom file not found\n",
            "Zoom file not found\n",
            "Zoom file not found\n",
            "Zoom file not found\n",
            "Zoom file not found\n",
            "Zoom file not found\n",
            "Zoom file not found\n",
            "Zoom file not found\n"
          ]
        },
        {
          "output_type": "stream",
          "name": "stderr",
          "text": [
            "\n",
            "100%|██████████| 82/82 [00:00<00:00, 13462.75it/s]\n",
            "\n",
            "100%|██████████| 82/82 [00:00<00:00, 425133.41it/s]\n"
          ]
        },
        {
          "output_type": "stream",
          "name": "stdout",
          "text": [
            "There are  3 Snapshot times\n"
          ]
        },
        {
          "output_type": "stream",
          "name": "stderr",
          "text": [
            "\n",
            "100%|██████████| 82/82 [00:00<00:00, 4056.72it/s]\n",
            "\n",
            "100%|██████████| 82/82 [00:00<00:00, 4481.44it/s]"
          ]
        },
        {
          "output_type": "stream",
          "name": "stdout",
          "text": [
            "List complete\n",
            "List complete\n",
            "List complete\n"
          ]
        },
        {
          "output_type": "stream",
          "name": "stderr",
          "text": [
            "\n"
          ]
        },
        {
          "output_type": "stream",
          "name": "stdout",
          "text": [
            "Lat-Long file not found\n",
            "Lat-Long file not found\n",
            "Lat-Long file not found\n",
            "Lat-Long file not found\n",
            "Lat-Long file not found\n",
            "Lat-Long file not found\n",
            "Lat-Long file not found\n",
            "Lat-Long file not found\n",
            "Lat-Long file not found\n",
            "Lat-Long file not found\n",
            "Lat-Long file not found\n",
            "Lat-Long file not found\n",
            "Lat-Long file not found\n",
            "Lat-Long file not found\n",
            "Lat-Long file not found\n",
            "Lat-Long file not found\n",
            "Lat-Long file not found\n",
            "Lat-Long file not found\n",
            "Lat-Long file not found\n"
          ]
        },
        {
          "output_type": "stream",
          "name": "stderr",
          "text": [
            "\r 45%|████▌     | 9/20 [00:20<00:23,  2.18s/it]"
          ]
        },
        {
          "output_type": "stream",
          "name": "stdout",
          "text": [
            "Read file: taskname_ndsi-2d-task_userid_da52acdd-3cea-483c-86e5-2c2740d371aa.json\n",
            "Zoom file not found\n",
            "Zoom file not found\n",
            "Zoom file not found\n",
            "Zoom file not found\n",
            "Zoom file not found\n",
            "Zoom file not found\n",
            "Zoom file not found\n",
            "Zoom file not found\n",
            "Zoom file not found\n",
            "Zoom file not found\n",
            "Zoom file not found\n",
            "Zoom file not found\n",
            "Zoom file not found\n",
            "Zoom file not found\n",
            "Zoom file not found\n",
            "Zoom file not found\n",
            "Zoom file not found\n",
            "Zoom file not found\n",
            "Zoom file not found\n",
            "Zoom file not found\n",
            "Zoom file not found\n",
            "Zoom file not found\n",
            "Zoom file not found\n",
            "Zoom file not found\n",
            "Zoom file not found\n",
            "Zoom file not found\n",
            "Zoom file not found\n",
            "Zoom file not found\n",
            "Zoom file not found\n",
            "Zoom file not found\n",
            "Zoom file not found\n",
            "Zoom file not found\n",
            "Zoom file not found\n",
            "Zoom file not found\n",
            "Zoom file not found\n"
          ]
        },
        {
          "output_type": "stream",
          "name": "stderr",
          "text": [
            "\n",
            "100%|██████████| 125/125 [00:00<00:00, 5354.63it/s]\n",
            "\n",
            "100%|██████████| 125/125 [00:00<00:00, 693502.65it/s]\n"
          ]
        },
        {
          "output_type": "stream",
          "name": "stdout",
          "text": [
            "There are  4 Snapshot times\n"
          ]
        },
        {
          "output_type": "stream",
          "name": "stderr",
          "text": [
            "\n",
            "100%|██████████| 125/125 [00:00<00:00, 4151.03it/s]\n",
            "\n",
            "100%|██████████| 125/125 [00:00<00:00, 6169.47it/s]"
          ]
        },
        {
          "output_type": "stream",
          "name": "stdout",
          "text": [
            "List complete\n",
            "List complete\n",
            "List complete\n",
            "Lat-Long file not found\n"
          ]
        },
        {
          "output_type": "stream",
          "name": "stderr",
          "text": [
            "\n"
          ]
        },
        {
          "output_type": "stream",
          "name": "stdout",
          "text": [
            "Lat-Long file not found\n",
            "Lat-Long file not found\n",
            "Lat-Long file not found\n",
            "Lat-Long file not found\n",
            "Lat-Long file not found\n",
            "Lat-Long file not found\n",
            "Lat-Long file not found\n",
            "Lat-Long file not found\n",
            "Lat-Long file not found\n",
            "Lat-Long file not found\n",
            "Lat-Long file not found\n",
            "Lat-Long file not found\n",
            "Lat-Long file not found\n",
            "Lat-Long file not found\n",
            "Lat-Long file not found\n",
            "Lat-Long file not found\n",
            "Lat-Long file not found\n",
            "Lat-Long file not found\n",
            "Lat-Long file not found\n",
            "Lat-Long file not found\n",
            "Lat-Long file not found\n",
            "Lat-Long file not found\n",
            "Lat-Long file not found\n",
            "Lat-Long file not found\n",
            "Lat-Long file not found\n",
            "Lat-Long file not found\n",
            "Lat-Long file not found\n",
            "Lat-Long file not found\n",
            "Lat-Long file not found\n",
            "Lat-Long file not found\n"
          ]
        },
        {
          "output_type": "stream",
          "name": "stderr",
          "text": [
            "\r 50%|█████     | 10/20 [00:24<00:27,  2.70s/it]"
          ]
        },
        {
          "output_type": "stream",
          "name": "stdout",
          "text": [
            "Lat-Long file not found\n",
            "Lat-Long file not found\n",
            "Lat-Long file not found\n",
            "Lat-Long file not found\n",
            "Read file: taskname_ndsi-2d-task_userid_3abeecbe-327a-441e-be2a-0dd3763c1d45.json\n",
            "Zoom file not found\n",
            "Zoom file not found\n",
            "Zoom file not found\n",
            "Zoom file not found\n",
            "Zoom file not found\n",
            "Zoom file not found\n",
            "Zoom file not found\n",
            "Zoom file not found\n",
            "Zoom file not found\n",
            "Zoom file not found\n"
          ]
        },
        {
          "output_type": "stream",
          "name": "stderr",
          "text": [
            "\n",
            "100%|██████████| 37/37 [00:00<00:00, 11381.68it/s]\n",
            "\n",
            "100%|██████████| 37/37 [00:00<00:00, 249902.17it/s]\n"
          ]
        },
        {
          "output_type": "stream",
          "name": "stdout",
          "text": [
            "There are  3 Snapshot times\n"
          ]
        },
        {
          "output_type": "stream",
          "name": "stderr",
          "text": [
            "\n",
            "100%|██████████| 37/37 [00:00<00:00, 2498.34it/s]\n",
            "\n",
            "100%|██████████| 37/37 [00:00<00:00, 6663.63it/s]"
          ]
        },
        {
          "output_type": "stream",
          "name": "stdout",
          "text": [
            "List complete\n",
            "List complete\n",
            "List complete\n",
            "Lat-Long file not found\n",
            "Lat-Long file not found\n",
            "Lat-Long file not found\n",
            "Lat-Long file not found\n",
            "Lat-Long file not found\n",
            "Lat-Long file not found\n",
            "Lat-Long file not found\n",
            "Lat-Long file not found\n",
            "Lat-Long file not found\n",
            "Lat-Long file not found\n"
          ]
        },
        {
          "output_type": "stream",
          "name": "stderr",
          "text": [
            "\n",
            " 55%|█████▌    | 11/20 [00:25<00:19,  2.21s/it]"
          ]
        },
        {
          "output_type": "stream",
          "name": "stdout",
          "text": [
            "Read file: taskname_ndsi-2d-task_userid_6d49fab8-273b-4a91-948b-ecd14556b049.json\n",
            "Zoom file not found\n",
            "Zoom file not found\n",
            "Zoom file not found\n",
            "Zoom file not found\n",
            "Zoom file not found\n",
            "Zoom file not found\n",
            "Zoom file not found\n",
            "Zoom file not found\n",
            "Zoom file not found\n",
            "Zoom file not found\n",
            "Zoom file not found\n",
            "Zoom file not found\n",
            "Zoom file not found\n",
            "Zoom file not found\n",
            "Zoom file not found\n",
            "Zoom file not found\n",
            "Zoom file not found\n",
            "Zoom file not found\n",
            "Zoom file not found\n",
            "Zoom file not found\n"
          ]
        },
        {
          "output_type": "stream",
          "name": "stderr",
          "text": [
            "\n",
            "100%|██████████| 76/76 [00:00<00:00, 15371.16it/s]\n",
            "\n",
            "100%|██████████| 76/76 [00:00<00:00, 517479.06it/s]\n"
          ]
        },
        {
          "output_type": "stream",
          "name": "stdout",
          "text": [
            "There are  3 Snapshot times\n"
          ]
        },
        {
          "output_type": "stream",
          "name": "stderr",
          "text": [
            "\n",
            "100%|██████████| 76/76 [00:00<00:00, 3773.95it/s]\n",
            "\n",
            "100%|██████████| 76/76 [00:00<00:00, 3719.27it/s]"
          ]
        },
        {
          "output_type": "stream",
          "name": "stdout",
          "text": [
            "List complete\n",
            "List complete\n",
            "List complete\n",
            "Lat-Long file not found\n",
            "Lat-Long file not found\n",
            "Lat-Long file not found\n",
            "Lat-Long file not found\n",
            "Lat-Long file not found\n"
          ]
        },
        {
          "output_type": "stream",
          "name": "stderr",
          "text": [
            "\n"
          ]
        },
        {
          "output_type": "stream",
          "name": "stdout",
          "text": [
            "Lat-Long file not found\n",
            "Lat-Long file not found\n",
            "Lat-Long file not found\n",
            "Lat-Long file not found\n",
            "Lat-Long file not found\n",
            "Lat-Long file not found\n",
            "Lat-Long file not found\n",
            "Lat-Long file not found\n",
            "Lat-Long file not found\n",
            "Lat-Long file not found\n",
            "Lat-Long file not found\n",
            "Lat-Long file not found\n",
            "Lat-Long file not found\n",
            "Lat-Long file not found\n",
            "Lat-Long file not found\n"
          ]
        },
        {
          "output_type": "stream",
          "name": "stderr",
          "text": [
            "\r 60%|██████    | 12/20 [00:27<00:16,  2.04s/it]"
          ]
        },
        {
          "output_type": "stream",
          "name": "stdout",
          "text": [
            "Read file: taskname_ndsi-2d-task_userid_733a1ac5-0b01-485e-9b29-ac33932aa240.json\n",
            "Zoom file not found\n",
            "Zoom file not found\n",
            "Zoom file not found\n",
            "Zoom file not found\n",
            "Zoom file not found\n"
          ]
        },
        {
          "output_type": "stream",
          "name": "stderr",
          "text": [
            "\n",
            "100%|██████████| 43/43 [00:00<00:00, 8242.54it/s]\n",
            "\n",
            "100%|██████████| 43/43 [00:00<00:00, 330926.74it/s]\n"
          ]
        },
        {
          "output_type": "stream",
          "name": "stdout",
          "text": [
            "There are  3 Snapshot times\n"
          ]
        },
        {
          "output_type": "stream",
          "name": "stderr",
          "text": [
            "\n",
            "100%|██████████| 43/43 [00:00<00:00, 4059.13it/s]\n",
            "\n",
            "100%|██████████| 43/43 [00:00<00:00, 3420.87it/s]\n"
          ]
        },
        {
          "output_type": "stream",
          "name": "stdout",
          "text": [
            "List complete\n",
            "List complete\n",
            "List complete\n",
            "Lat-Long file not found\n"
          ]
        },
        {
          "output_type": "stream",
          "name": "stderr",
          "text": [
            "\r 65%|██████▌   | 13/20 [00:27<00:12,  1.72s/it]"
          ]
        },
        {
          "output_type": "stream",
          "name": "stdout",
          "text": [
            "Lat-Long file not found\n",
            "Lat-Long file not found\n",
            "Lat-Long file not found\n",
            "Lat-Long file not found\n",
            "Read file: taskname_ndsi-2d-task_userid_8b544d24-3274-4bb0-9719-fd2bccc87b02.json\n",
            "Zoom file not found\n",
            "Zoom file not found\n",
            "Zoom file not found\n",
            "Zoom file not found\n",
            "Zoom file not found\n",
            "Zoom file not found\n",
            "Zoom file not found\n",
            "Zoom file not found\n",
            "Zoom file not found\n",
            "Zoom file not found\n",
            "Zoom file not found\n",
            "Zoom file not found\n",
            "Zoom file not found\n",
            "Zoom file not found\n",
            "Zoom file not found\n",
            "Zoom file not found\n",
            "Zoom file not found\n",
            "Zoom file not found\n",
            "Zoom file not found\n",
            "Zoom file not found\n",
            "Zoom file not found\n",
            "Zoom file not found\n"
          ]
        },
        {
          "output_type": "stream",
          "name": "stderr",
          "text": [
            "\n",
            "100%|██████████| 74/74 [00:00<00:00, 5176.86it/s]\n",
            "\n",
            "100%|██████████| 74/74 [00:00<00:00, 549342.47it/s]\n"
          ]
        },
        {
          "output_type": "stream",
          "name": "stdout",
          "text": [
            "There are  4 Snapshot times\n"
          ]
        },
        {
          "output_type": "stream",
          "name": "stderr",
          "text": [
            "\n",
            "100%|██████████| 74/74 [00:00<00:00, 3702.03it/s]\n",
            "\n",
            "100%|██████████| 74/74 [00:00<00:00, 4341.69it/s]"
          ]
        },
        {
          "output_type": "stream",
          "name": "stdout",
          "text": [
            "List complete\n",
            "List complete\n",
            "List complete\n",
            "Lat-Long file not found\n",
            "Lat-Long file not found\n",
            "Lat-Long file not found\n",
            "Lat-Long file not found\n",
            "Lat-Long file not found\n",
            "Lat-Long file not found\n"
          ]
        },
        {
          "output_type": "stream",
          "name": "stderr",
          "text": [
            "\n"
          ]
        },
        {
          "output_type": "stream",
          "name": "stdout",
          "text": [
            "Lat-Long file not found\n",
            "Lat-Long file not found\n",
            "Lat-Long file not found\n",
            "Lat-Long file not found\n",
            "Lat-Long file not found\n",
            "Lat-Long file not found\n",
            "Lat-Long file not found\n",
            "Lat-Long file not found\n",
            "Lat-Long file not found\n",
            "Lat-Long file not found\n",
            "Lat-Long file not found\n",
            "Lat-Long file not found\n",
            "Lat-Long file not found\n",
            "Lat-Long file not found\n"
          ]
        },
        {
          "output_type": "stream",
          "name": "stderr",
          "text": [
            "\r 70%|███████   | 14/20 [00:30<00:11,  1.84s/it]"
          ]
        },
        {
          "output_type": "stream",
          "name": "stdout",
          "text": [
            "Lat-Long file not found\n",
            "Lat-Long file not found\n",
            "Read file: taskname_ndsi-2d-task_userid_44968286-f204-4ad6-a9b5-d95b38e97866.json\n",
            "Zoom file not found\n",
            "Zoom file not found\n",
            "Zoom file not found\n",
            "Zoom file not found\n",
            "Zoom file not found\n",
            "Zoom file not found\n",
            "Zoom file not found\n",
            "Zoom file not found\n",
            "Zoom file not found\n",
            "Zoom file not found\n",
            "Zoom file not found\n",
            "Zoom file not found\n",
            "Zoom file not found\n",
            "Zoom file not found\n",
            "Zoom file not found\n",
            "Zoom file not found\n",
            "Zoom file not found\n",
            "Zoom file not found\n",
            "Zoom file not found\n",
            "Zoom file not found\n",
            "Zoom file not found\n",
            "Zoom file not found\n"
          ]
        },
        {
          "output_type": "stream",
          "name": "stderr",
          "text": [
            "\n",
            "100%|██████████| 87/87 [00:00<00:00, 27819.20it/s]\n",
            "\n",
            "100%|██████████| 87/87 [00:00<00:00, 569273.71it/s]\n"
          ]
        },
        {
          "output_type": "stream",
          "name": "stdout",
          "text": [
            "There are  3 Snapshot times\n"
          ]
        },
        {
          "output_type": "stream",
          "name": "stderr",
          "text": [
            "\n",
            "100%|██████████| 87/87 [00:00<00:00, 3996.33it/s]\n",
            "\n",
            "100%|██████████| 87/87 [00:00<00:00, 3832.14it/s]"
          ]
        },
        {
          "output_type": "stream",
          "name": "stdout",
          "text": [
            "List complete\n",
            "List complete\n",
            "List complete\n",
            "Lat-Long file not found\n",
            "Lat-Long file not found\n",
            "Lat-Long file not found\n"
          ]
        },
        {
          "output_type": "stream",
          "name": "stderr",
          "text": [
            "\n"
          ]
        },
        {
          "output_type": "stream",
          "name": "stdout",
          "text": [
            "Lat-Long file not found\n",
            "Lat-Long file not found\n",
            "Lat-Long file not found\n",
            "Lat-Long file not found\n",
            "Lat-Long file not found\n",
            "Lat-Long file not found\n",
            "Lat-Long file not found\n",
            "Lat-Long file not found\n",
            "Lat-Long file not found\n",
            "Lat-Long file not found\n",
            "Lat-Long file not found\n",
            "Lat-Long file not found\n",
            "Lat-Long file not found\n",
            "Lat-Long file not found\n",
            "Lat-Long file not found\n"
          ]
        },
        {
          "output_type": "stream",
          "name": "stderr",
          "text": [
            "\r 75%|███████▌  | 15/20 [00:32<00:09,  1.91s/it]"
          ]
        },
        {
          "output_type": "stream",
          "name": "stdout",
          "text": [
            "Lat-Long file not found\n",
            "Lat-Long file not found\n",
            "Lat-Long file not found\n",
            "Lat-Long file not found\n",
            "Read file: taskname_ndsi-2d-task_userid_93be0a02-3f7a-46c9-b526-aa956ed00856.json\n",
            "Zoom file not found\n",
            "Zoom file not found\n",
            "Zoom file not found\n"
          ]
        },
        {
          "output_type": "stream",
          "name": "stderr",
          "text": [
            "\n",
            "100%|██████████| 130/130 [00:00<00:00, 21340.88it/s]\n",
            "\n",
            "100%|██████████| 130/130 [00:00<00:00, 639225.70it/s]\n"
          ]
        },
        {
          "output_type": "stream",
          "name": "stdout",
          "text": [
            "There are  3 Snapshot times\n"
          ]
        },
        {
          "output_type": "stream",
          "name": "stderr",
          "text": [
            "\n",
            "100%|██████████| 130/130 [00:00<00:00, 3820.19it/s]\n",
            "\n",
            "100%|██████████| 130/130 [00:00<00:00, 2477.87it/s]"
          ]
        },
        {
          "output_type": "stream",
          "name": "stdout",
          "text": [
            "List complete\n",
            "List complete\n",
            "List complete\n",
            "Lat-Long file not found\n"
          ]
        },
        {
          "output_type": "stream",
          "name": "stderr",
          "text": [
            "\n"
          ]
        },
        {
          "output_type": "stream",
          "name": "stdout",
          "text": [
            "Lat-Long file not found\n",
            "Lat-Long file not found\n"
          ]
        },
        {
          "output_type": "stream",
          "name": "stderr",
          "text": [
            "\r 80%|████████  | 16/20 [00:34<00:08,  2.04s/it]"
          ]
        },
        {
          "output_type": "stream",
          "name": "stdout",
          "text": [
            "Read file: taskname_ndsi-2d-task_userid_cd3ef507-e3e9-4edb-9222-90a69a9bf272.json\n",
            "Zoom file not found\n",
            "Zoom file not found\n",
            "Zoom file not found\n",
            "Zoom file not found\n",
            "Zoom file not found\n",
            "Zoom file not found\n",
            "Zoom file not found\n",
            "Zoom file not found\n"
          ]
        },
        {
          "output_type": "stream",
          "name": "stderr",
          "text": [
            "\n",
            "100%|██████████| 66/66 [00:00<00:00, 23837.43it/s]\n",
            "\n",
            "100%|██████████| 66/66 [00:00<00:00, 394336.27it/s]\n"
          ]
        },
        {
          "output_type": "stream",
          "name": "stdout",
          "text": [
            "There are  3 Snapshot times\n"
          ]
        },
        {
          "output_type": "stream",
          "name": "stderr",
          "text": [
            "\n",
            "100%|██████████| 66/66 [00:00<00:00, 3709.78it/s]\n",
            "\n",
            "100%|██████████| 66/66 [00:00<00:00, 4009.27it/s]"
          ]
        },
        {
          "output_type": "stream",
          "name": "stdout",
          "text": [
            "List complete\n",
            "List complete\n",
            "List complete\n"
          ]
        },
        {
          "output_type": "stream",
          "name": "stderr",
          "text": [
            "\n"
          ]
        },
        {
          "output_type": "stream",
          "name": "stdout",
          "text": [
            "Lat-Long file not found\n",
            "Lat-Long file not found\n",
            "Lat-Long file not found\n",
            "Lat-Long file not found\n",
            "Lat-Long file not found\n",
            "Lat-Long file not found\n"
          ]
        },
        {
          "output_type": "stream",
          "name": "stderr",
          "text": [
            "\r 85%|████████▌ | 17/20 [00:36<00:05,  1.90s/it]"
          ]
        },
        {
          "output_type": "stream",
          "name": "stdout",
          "text": [
            "Lat-Long file not found\n",
            "Lat-Long file not found\n",
            "Read file: taskname_ndsi-2d-task_userid_954edb7c-4eae-47ab-9338-5c5c7eccac2d.json\n",
            "Zoom file not found\n",
            "Zoom file not found\n",
            "Zoom file not found\n",
            "Zoom file not found\n",
            "Zoom file not found\n",
            "Zoom file not found\n",
            "Zoom file not found\n",
            "Zoom file not found\n",
            "Zoom file not found\n",
            "Zoom file not found\n",
            "Zoom file not found\n",
            "Zoom file not found\n",
            "Zoom file not found\n"
          ]
        },
        {
          "output_type": "stream",
          "name": "stderr",
          "text": [
            "\n",
            "100%|██████████| 59/59 [00:00<00:00, 8235.07it/s]\n",
            "\n",
            "100%|██████████| 59/59 [00:00<00:00, 391556.86it/s]\n"
          ]
        },
        {
          "output_type": "stream",
          "name": "stdout",
          "text": [
            "There are  3 Snapshot times\n"
          ]
        },
        {
          "output_type": "stream",
          "name": "stderr",
          "text": [
            "\n",
            "100%|██████████| 59/59 [00:00<00:00, 3534.95it/s]\n",
            "\n",
            "100%|██████████| 59/59 [00:00<00:00, 4748.42it/s]\n"
          ]
        },
        {
          "output_type": "stream",
          "name": "stdout",
          "text": [
            "List complete\n",
            "List complete\n",
            "List complete\n",
            "Lat-Long file not found\n",
            "Lat-Long file not found\n",
            "Lat-Long file not found\n",
            "Lat-Long file not found\n",
            "Lat-Long file not found\n",
            "Lat-Long file not found\n",
            "Lat-Long file not found\n",
            "Lat-Long file not found\n",
            "Lat-Long file not found\n",
            "Lat-Long file not found\n",
            "Lat-Long file not found\n",
            "Lat-Long file not found\n",
            "Lat-Long file not found\n"
          ]
        },
        {
          "output_type": "stream",
          "name": "stderr",
          "text": [
            "\r 90%|█████████ | 18/20 [00:37<00:03,  1.84s/it]"
          ]
        },
        {
          "output_type": "stream",
          "name": "stdout",
          "text": [
            "Read file: taskname_ndsi-2d-task_userid_a6aab5f5-fdb6-41df-9fc6-221d70f8c6e8.json\n",
            "Zoom file not found\n",
            "Zoom file not found\n",
            "Zoom file not found\n",
            "Zoom file not found\n",
            "Zoom file not found\n",
            "Zoom file not found\n",
            "Zoom file not found\n",
            "Zoom file not found\n"
          ]
        },
        {
          "output_type": "stream",
          "name": "stderr",
          "text": [
            "\n",
            "100%|██████████| 60/60 [00:00<00:00, 16898.89it/s]\n",
            "\n",
            "100%|██████████| 60/60 [00:00<00:00, 34899.22it/s]\n"
          ]
        },
        {
          "output_type": "stream",
          "name": "stdout",
          "text": [
            "There are  3 Snapshot times\n"
          ]
        },
        {
          "output_type": "stream",
          "name": "stderr",
          "text": [
            "\n",
            "100%|██████████| 60/60 [00:00<00:00, 2749.67it/s]\n",
            "\n",
            "100%|██████████| 60/60 [00:00<00:00, 4616.48it/s]\n"
          ]
        },
        {
          "output_type": "stream",
          "name": "stdout",
          "text": [
            "List complete\n",
            "List complete\n",
            "List complete\n",
            "Lat-Long file not found\n",
            "Lat-Long file not found\n",
            "Lat-Long file not found\n",
            "Lat-Long file not found\n",
            "Lat-Long file not found\n",
            "Lat-Long file not found\n",
            "Lat-Long file not found\n",
            "Lat-Long file not found\n"
          ]
        },
        {
          "output_type": "stream",
          "name": "stderr",
          "text": [
            "\r 95%|█████████▌| 19/20 [00:39<00:01,  1.82s/it]"
          ]
        },
        {
          "output_type": "stream",
          "name": "stdout",
          "text": [
            "Read file: taskname_ndsi-2d-task_userid_e4221e48-0930-40db-af3c-f4de1ed87582.json\n",
            "Zoom file not found\n",
            "Zoom file not found\n",
            "Zoom file not found\n",
            "Zoom file not found\n",
            "Zoom file not found\n",
            "Zoom file not found\n",
            "Zoom file not found\n",
            "Zoom file not found\n",
            "Zoom file not found\n"
          ]
        },
        {
          "output_type": "stream",
          "name": "stderr",
          "text": [
            "\n",
            "100%|██████████| 47/47 [00:00<00:00, 10152.56it/s]\n",
            "\n",
            "100%|██████████| 47/47 [00:00<00:00, 259043.74it/s]\n"
          ]
        },
        {
          "output_type": "stream",
          "name": "stdout",
          "text": [
            "There are  4 Snapshot times\n"
          ]
        },
        {
          "output_type": "stream",
          "name": "stderr",
          "text": [
            "\n",
            "100%|██████████| 47/47 [00:00<00:00, 3600.85it/s]\n",
            "\n",
            "100%|██████████| 47/47 [00:00<00:00, 3615.91it/s]\n"
          ]
        },
        {
          "output_type": "stream",
          "name": "stdout",
          "text": [
            "List complete\n",
            "List complete\n",
            "List complete\n",
            "Lat-Long file not found\n",
            "Lat-Long file not found\n",
            "Lat-Long file not found\n",
            "Lat-Long file not found\n",
            "Lat-Long file not found\n",
            "Lat-Long file not found\n",
            "Lat-Long file not found\n",
            "Lat-Long file not found\n",
            "Lat-Long file not found\n"
          ]
        },
        {
          "output_type": "stream",
          "name": "stderr",
          "text": [
            "100%|██████████| 20/20 [00:40<00:00,  2.03s/it]\n"
          ]
        }
      ]
    },
    {
      "cell_type": "code",
      "source": [
        ""
      ],
      "metadata": {
        "id": "HCRd_GNHLjdr"
      },
      "execution_count": null,
      "outputs": []
    },
    {
      "cell_type": "code",
      "source": [
        ""
      ],
      "metadata": {
        "id": "yW9NWHiTLjhD"
      },
      "execution_count": null,
      "outputs": []
    },
    {
      "cell_type": "code",
      "source": [
        ""
      ],
      "metadata": {
        "id": "eH5tNp5pLjkY"
      },
      "execution_count": null,
      "outputs": []
    },
    {
      "cell_type": "code",
      "source": [
        ""
      ],
      "metadata": {
        "id": "34lTA7upLjni"
      },
      "execution_count": null,
      "outputs": []
    },
    {
      "cell_type": "code",
      "source": [
        ""
      ],
      "metadata": {
        "id": "TG9b2Im3Ljq6"
      },
      "execution_count": null,
      "outputs": []
    },
    {
      "cell_type": "markdown",
      "source": [
        "RANDOM TEST SNIPPETS AFTER THIS POINT"
      ],
      "metadata": {
        "id": "n1S5xJYaLkKo"
      }
    },
    {
      "cell_type": "code",
      "metadata": {
        "colab": {
          "base_uri": "https://localhost:8080/",
          "height": 165
        },
        "id": "Kc_Q3jxlKf3L",
        "outputId": "4feaa468-486e-4960-b30c-44b64088ec23"
      },
      "source": [
        "len(matchingName) # so 19 users are the same "
      ],
      "execution_count": null,
      "outputs": [
        {
          "output_type": "error",
          "ename": "NameError",
          "evalue": "ignored",
          "traceback": [
            "\u001b[0;31m---------------------------------------------------------------------------\u001b[0m",
            "\u001b[0;31mNameError\u001b[0m                                 Traceback (most recent call last)",
            "\u001b[0;32m<ipython-input-14-22a2a337585a>\u001b[0m in \u001b[0;36m<module>\u001b[0;34m()\u001b[0m\n\u001b[0;32m----> 1\u001b[0;31m \u001b[0mlen\u001b[0m\u001b[0;34m(\u001b[0m\u001b[0mmatchingName\u001b[0m\u001b[0;34m)\u001b[0m \u001b[0;31m# so 19 users are the same\u001b[0m\u001b[0;34m\u001b[0m\u001b[0;34m\u001b[0m\u001b[0m\n\u001b[0m",
            "\u001b[0;31mNameError\u001b[0m: name 'matchingName' is not defined"
          ]
        }
      ]
    },
    {
      "cell_type": "code",
      "metadata": {
        "id": "t3DFBNOEGKgd"
      },
      "source": [
        "filenamed=\"taskname_ndsi-3d-task_userid_8b544d24-3274-4bb0-9719-fd2bccc87b02.csv\""
      ],
      "execution_count": null,
      "outputs": []
    },
    {
      "cell_type": "code",
      "metadata": {
        "id": "_RzdFG-xGKi3"
      },
      "source": [
        "filenamed[filenamed.find(\"userid_\")+7: filenamed.find(\".csv\")]"
      ],
      "execution_count": null,
      "outputs": []
    },
    {
      "cell_type": "code",
      "metadata": {
        "id": "aEc2_xWCoANE"
      },
      "source": [
        "df.head(5)"
      ],
      "execution_count": null,
      "outputs": []
    },
    {
      "cell_type": "code",
      "metadata": {
        "id": "XAw1ghRVcMB7"
      },
      "source": [
        "df.phase"
      ],
      "execution_count": null,
      "outputs": []
    },
    {
      "cell_type": "code",
      "metadata": {
        "id": "Mx6u0FtNPZWC"
      },
      "source": [
        "interactionData= pd.io.json.json_normalize(df.interactionData)"
      ],
      "execution_count": null,
      "outputs": []
    },
    {
      "cell_type": "code",
      "metadata": {
        "id": "DQUSSW_jdgsi"
      },
      "source": [
        "interactionData.interactionType"
      ],
      "execution_count": null,
      "outputs": []
    },
    {
      "cell_type": "code",
      "metadata": {
        "id": "laHuy1Pf23I1"
      },
      "source": [
        "final_dataframe = pd.DataFrame(columns=['Action','State','TimeStamp'])\n",
        "final_dataframe['Action']=interactionData.interactionType\n",
        "final_dataframe['State']=df.phase\n",
        "final_dataframe['TimeStamp']=df.timestampMillis"
      ],
      "execution_count": null,
      "outputs": []
    },
    {
      "cell_type": "code",
      "metadata": {
        "id": "sp7uyKm2RBkk"
      },
      "source": [
        "final_dataframe.head"
      ],
      "execution_count": null,
      "outputs": []
    },
    {
      "cell_type": "code",
      "metadata": {
        "id": "FLCYBF5w3ycM"
      },
      "source": [
        "final_dataframe['Action']=interactionData.interactionType\n",
        "final_dataframe['State']=df.phase\n",
        "final_dataframe['TimeStamp']=df.timestampMillis"
      ],
      "execution_count": null,
      "outputs": []
    },
    {
      "cell_type": "code",
      "metadata": {
        "id": "SFuNlEahPpND"
      },
      "source": [
        "final_dataframe"
      ],
      "execution_count": null,
      "outputs": []
    },
    {
      "cell_type": "code",
      "metadata": {
        "id": "dlW99WHfd3pY"
      },
      "source": [
        "for item in df.toFetch:\n",
        "  print (item)"
      ],
      "execution_count": null,
      "outputs": []
    },
    {
      "cell_type": "code",
      "metadata": {
        "id": "OQFknKINeW8A"
      },
      "source": [
        "toFetch"
      ],
      "execution_count": null,
      "outputs": []
    },
    {
      "cell_type": "code",
      "metadata": {
        "id": "zlC1d8OFoPtk"
      },
      "source": [
        "import json\n",
        "from pandas.io.json import json_normalize\n",
        "normalized_json = json_normalize(df['taskname_ndsi-2d-subtask_userid_3abeecbe-327a-441e-be2a-0dd3763c1d45'])\n",
        "normalized_json.head(3 )\n"
      ],
      "execution_count": null,
      "outputs": []
    },
    {
      "cell_type": "code",
      "metadata": {
        "id": "olu8Z5HZtl12"
      },
      "source": [
        "normalized_json['toFetch']"
      ],
      "execution_count": null,
      "outputs": []
    },
    {
      "cell_type": "code",
      "metadata": {
        "id": "tjeNjcIdr8hb"
      },
      "source": [
        "#get a pandas dataframe object from json file\n",
        "#df = pd.read_json(\"/content/interactions_data/zoom_0_pos_0_0.json\")\n",
        "import json\n",
        "import pandas as pd\n",
        "from pandas.io.json import json_normalize\n",
        "path= '/content/drive/Shareddrives/Colearning-Exploration/Dataset/forecache_interactions_2016/ndsi_2d_jsons/zoom_0_pos_0_0.json'\n",
        "with open(path) as project_file:    \n",
        "    data = json.load(project_file)  \n",
        "\n",
        "df_zoom = pd.json_normalize(data)\n",
        "df_zoom.head(5)"
      ],
      "execution_count": null,
      "outputs": []
    },
    {
      "cell_type": "code",
      "metadata": {
        "id": "Xq_dZKVizMbv"
      },
      "source": [
        "df_zoom.domains"
      ],
      "execution_count": null,
      "outputs": []
    }
  ]
}