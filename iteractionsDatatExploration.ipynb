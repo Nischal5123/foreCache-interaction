{
  "nbformat": 4,
  "nbformat_minor": 0,
  "metadata": {
    "colab": {
      "name": "iteractionsDatatExploration.ipynb",
      "provenance": [],
      "collapsed_sections": [],
      "mount_file_id": "1JRtqe4nGw6Xevggo1Ks9pOrdhoGJS9hX",
      "authorship_tag": "ABX9TyPOV6wZk9Udhxa3PljfUcAM",
      "include_colab_link": true
    },
    "kernelspec": {
      "name": "python3",
      "display_name": "Python 3"
    },
    "language_info": {
      "name": "python"
    }
  },
  "cells": [
    {
      "cell_type": "markdown",
      "metadata": {
        "id": "view-in-github",
        "colab_type": "text"
      },
      "source": [
        "<a href=\"https://colab.research.google.com/github/Nischal5123/foreCache-interaction/blob/develop/iteractionsDatatExploration.ipynb\" target=\"_parent\"><img src=\"https://colab.research.google.com/assets/colab-badge.svg\" alt=\"Open In Colab\"/></a>"
      ]
    },
    {
      "cell_type": "code",
      "metadata": {
        "id": "m-8TXygTheni"
      },
      "source": [
        "#global path\n",
        "global_drive_path=\"/content/drive/MyDrive/ForeCache/interactions/\"\n",
        "          "
      ],
      "execution_count": 46,
      "outputs": []
    },
    {
      "cell_type": "code",
      "metadata": {
        "id": "7RO65cvBS4TL"
      },
      "source": [
        "import os\n",
        "import pandas as pd\n",
        "import json\n",
        "from pandas.io.json import json_normalize\n",
        "from tqdm import tqdm\n",
        "\n",
        "\n",
        "#for reward\n",
        "import time\n",
        "import datetime\n",
        "\n",
        "pd.options.mode.chained_assignment = None  # default='warn'\n"
      ],
      "execution_count": 47,
      "outputs": []
    },
    {
      "cell_type": "code",
      "metadata": {
        "id": "XNXz63-kSlF_"
      },
      "source": [
        "def clean_files(filePath,fileName):\n",
        "\n",
        "  lastline = None\n",
        " # filePath=\"/content/drive/Shareddrives/Colearning-Exploration/Dataset/forecache_interactions_2016/forecache-interaction-analysis/forecache-interaction-analysis/interactions/taskname_ndsi-2d-subtask_userid_3abeecbe-327a-441e-be2a-0dd3763c1d45.txt\"\n",
        "  with open(filePath,\"r\") as f:\n",
        "      lineList = f.readlines()\n",
        "      lastline=lineList[-1]\n",
        "  with open(filePath,\"r\") as f, open(global_drive_path+\"cleanInteractions/cleanInteractions-ndsi-2d-task/\"+(str(fileName)+\".json\"),\"w\") as g:\n",
        "  #with open(filePath,\"r\") as f, open(global_drive_path+\"cleanInteractions/cleanInteractions-ndsi-3d-task/\"+(str(fileName)+\".json\"),\"w\") as g:\n",
        "  #os.makedirs(os.path.dirname(global_drive_path+\"cleanInteractions/cleanInteractions-rgb-hurricane-3d-task/\"+(str(fileName)+\".json\")))\n",
        "  #with open(filePath,\"r\") as f, open(global_drive_path+\"cleanInteractions/cleanInteractions-rgb-hurricane-3d-task/\"+(str(fileName)+\".json\"),\"w+\") as g:\n",
        "   \n",
        "      for i,line in enumerate(f,0):\n",
        "          if i == 0:\n",
        "              line = \"[\"+str(line)+\",\"\n",
        "              g.write(line)\n",
        "          elif line == lastline:            \n",
        "              g.write(line)\n",
        "              g.write(\"]\")\n",
        "          else:\n",
        "              line = str(line)+\",\"\n",
        "              g.write(line)\n",
        "          "
      ],
      "execution_count": 48,
      "outputs": []
    },
    {
      "cell_type": "code",
      "metadata": {
        "id": "Jvj6DoD6T5xL",
        "colab": {
          "base_uri": "https://localhost:8080/"
        },
        "outputId": "c1e0db10-f8f0-4235-d781-1a4a75230fab"
      },
      "source": [
        "directory =(str(global_drive_path) +\"/ndsi-2d-task\")\n",
        "#directory =(str(global_drive_path) +\"/ndsi-3d-task\")\n",
        "#directory =(str(global_drive_path) +\"/rgb-hurricane-3d-task\")\n",
        "failed_files=[]\n",
        "for filename in os.listdir(directory):\n",
        "  try:\n",
        "    if filename.endswith(\".txt\"):\n",
        "        \n",
        "        filePath=(os.path.join(directory, filename))\n",
        "        print(filename)\n",
        "        name=os.path.splitext(filename)[0]\n",
        "        clean_files(filePath,name)\n",
        "    else:\n",
        "        continue\n",
        "  except OSError as err:\n",
        "    print(\"OS error: {0}\".format(err))\n",
        "    failed_files.append(filename)\n",
        "  except UnicodeDecodeError:\n",
        "    print(\"Unicode Error\")\n",
        "    failed_files.append(filename)\n",
        "  except BaseException as err:\n",
        "    failed_files.append(filename)\n",
        "    \n",
        "    raise\n"
      ],
      "execution_count": 49,
      "outputs": [
        {
          "output_type": "stream",
          "name": "stdout",
          "text": [
            "taskname_ndsi-2d-task_userid_72a8d170-77ae-400e-b2a5-de9e1d33a714.txt\n",
            "taskname_ndsi-2d-task_userid_ac5b65d7-f260-4534-9fae-d998b726ed32.txt\n",
            "taskname_ndsi-2d-task_userid_82316e37-1117-4663-84b4-ddb6455c83b2.txt\n",
            "taskname_ndsi-2d-task_userid_da52acdd-3cea-483c-86e5-2c2740d371aa.txt\n",
            "taskname_ndsi-2d-task_userid_d6555293-35c7-4c27-b522-38d67d2d1b1a.txt\n",
            "taskname_ndsi-2d-task_userid_ff56863b-0710-4a58-ad22-4bf2889c9bc0.txt\n",
            "taskname_ndsi-2d-task_userid_bc9f9425-e867-4876-a5d9-791229916767.txt\n",
            "taskname_ndsi-2d-task_userid_bda49380-37ad-41c5-a109-7fa198a7691a.txt\n",
            "taskname_ndsi-2d-task_userid_7d014c75-453b-4188-9e4e-fb086984896a.txt\n",
            "taskname_ndsi-2d-task_userid_8bf5b71b-dfd4-403f-8791-06427b26ccaf.txt\n",
            "taskname_ndsi-2d-task_userid_3abeecbe-327a-441e-be2a-0dd3763c1d45.txt\n",
            "taskname_ndsi-2d-task_userid_6d49fab8-273b-4a91-948b-ecd14556b049.txt\n",
            "taskname_ndsi-2d-task_userid_733a1ac5-0b01-485e-9b29-ac33932aa240.txt\n",
            "taskname_ndsi-2d-task_userid_e4221e48-0930-40db-af3c-f4de1ed87582.txt\n",
            "taskname_ndsi-2d-task_userid_44968286-f204-4ad6-a9b5-d95b38e97866.txt\n",
            "taskname_ndsi-2d-task_userid_954edb7c-4eae-47ab-9338-5c5c7eccac2d.txt\n",
            "taskname_ndsi-2d-task_userid_a6aab5f5-fdb6-41df-9fc6-221d70f8c6e8.txt\n",
            "taskname_ndsi-2d-task_userid_8b544d24-3274-4bb0-9719-fd2bccc87b02.txt\n",
            "taskname_ndsi-2d-task_userid_cd3ef507-e3e9-4edb-9222-90a69a9bf272.txt\n",
            "taskname_ndsi-2d-task_userid_93be0a02-3f7a-46c9-b526-aa956ed00856.txt\n"
          ]
        }
      ]
    },
    {
      "cell_type": "code",
      "metadata": {
        "id": "qiJITCuwYP2I"
      },
      "source": [
        "# directory =(str(global_drive_path) +\"/cleanInteractions//cleanInteractions-ndsi-3d-task\")\n",
        "directory =(str(global_drive_path) +\"/cleanInteractions//cleanInteractions-ndsi-2d-task\")\n",
        "#directory =(str(global_drive_path) +\"/cleanInteractions//cleanInteractions-rgb-hurricane-3d-task\")\n",
        "fileNames=[]\n",
        "for filename in os.listdir(directory):\n",
        "    if filename.endswith(\".json\"):\n",
        "        filePath=(os.path.join(directory, filename))\n",
        "        fileNames.append(filename)\n",
        "    else:\n",
        "        continue"
      ],
      "execution_count": 50,
      "outputs": []
    },
    {
      "cell_type": "code",
      "metadata": {
        "id": "UaBB968jtY3k"
      },
      "source": [
        "import numpy as np\n",
        "import matplotlib.pyplot as plt\n",
        "def angle_between(p1, p2):\n",
        "    ang1 = np.arctan2(*p1[::-1])\n",
        "    ang2 = np.arctan2(*p2[::-1])\n",
        "    return np.rad2deg((ang1 - ang2) % (2 * np.pi))"
      ],
      "execution_count": 51,
      "outputs": []
    },
    {
      "cell_type": "code",
      "metadata": {
        "id": "il69FBfLspUB"
      },
      "source": [
        "def get_Angle(df):\n",
        "  interactionData= pd.json_normalize(df.interactionData)\n",
        "  x1=[]\n",
        "  x2=[]\n",
        "  y1=[]\n",
        "  y2=[]\n",
        "  angle=[]\n",
        "  for i in range(len(interactionData['interactionType'])):\n",
        "    #handles if the interactiontype doesn't have a coordinate : if interactionType is zoom\n",
        "    if ((isinstance(interactionData['state.dragStart'][i], list) or isinstance(interactionData['state.dragEnd'][i], list) )==False):\n",
        "      \n",
        "      interactionData['state.dragStart'][i]=[0,0]\n",
        "      interactionData['state.dragEnd'][i]=[0,0]\n",
        "    #get between drag start and drag end\n",
        "    angle.append(angle_between(interactionData['state.dragStart'][i],interactionData['state.dragEnd'][i]))\n",
        "    #print(angle)\n",
        "\n",
        "    #this are to plot later on\n",
        "    x1.append(interactionData['state.dragStart'][i][0])\n",
        "    y1.append(interactionData['state.dragStart'][i][1])\n",
        "\n",
        "    x2.append(interactionData['state.dragEnd'][i][0])\n",
        "    y2.append(interactionData['state.dragEnd'][i][1])\n",
        "  return angle\n",
        "\n"
      ],
      "execution_count": 52,
      "outputs": []
    },
    {
      "cell_type": "code",
      "source": [
        "#to generate reward based on radiclick and snapshot data \n",
        "def get_Reward(dataframe,filenamed):\n",
        "  #global path\n",
        "  reward=[]\n",
        "  subtask=[]\n",
        "  raw_timestamp= dataframe.timestampMillis\n",
        "  snapshot_global_drive_path=\"/content/drive/MyDrive/ForeCache/forecache_user_study_data_dump/forecache_user_study_data_dump\"\n",
        "  #get a pandas dataframe object from json file\n",
        "  path= snapshot_global_drive_path + \"/snapshots.json\"\n",
        "  with open(path) as project_file:    \n",
        "      data = json.load(project_file) \n",
        "  df_snapshots = pd.json_normalize(data)\n",
        "\n",
        "  #get userid from fileName\n",
        "  #filenamed[filenamed.find(\"userid_\")+7: filenamed.find(\".csv\")] need to remove  hard code later\n",
        "  dataframe_dimension=df_snapshots.loc[(df_snapshots['taskname']==\"ndsi-2d-task\") & (df_snapshots['userid']==filenamed[filenamed.find(\"userid_\")+7: filenamed.find(\".json\")])]\n",
        "  print(\"There are \", len(dataframe_dimension) , \"Snapshot time\")\n",
        "  for i in tqdm(range(len(raw_timestamp))):\n",
        "      stringmyDate=str(raw_timestamp[i])\n",
        "      myDate=stringmyDate[: stringmyDate.find(\".\")]\n",
        "      dt = datetime.datetime.strptime(myDate, \"%Y-%m-%d %H:%M:%S\")\n",
        "      a=time.mktime(dt.timetuple()) + (dt.microsecond / 1000000.0)\n",
        "      temp=0\n",
        "      task=1\n",
        "      for j in range(len(dataframe_dimension[\"timestampMillis\"])):\n",
        "        # print(\"data\",dataframe_dimension.timestampMillis.iloc[j])\n",
        "        # print(\"a\",a)\n",
        "        # print(abs(a - (dataframe_dimension.timestampMillis.iloc[j]/1000)))\n",
        "        if abs(a - (dataframe_dimension.timestampMillis.iloc[j]/1000)) < 10:\n",
        "          temp=temp+10\n",
        "        else:\n",
        "         temp=temp+0\n",
        "        if (a - (dataframe_dimension.timestampMillis.iloc[j]/1000)) < 0:\n",
        "          task=task\n",
        "        else:\n",
        "          task=task+1\n",
        "      subtask.append(task)\n",
        "      reward.append(temp)\n",
        "  return reward, subtask\n",
        "    "
      ],
      "metadata": {
        "id": "V4y5GzZYJ6eB"
      },
      "execution_count": 60,
      "outputs": []
    },
    {
      "cell_type": "code",
      "source": [
        "def get_Zoom(df_zoom):\n",
        "  df_zoom['state.newZoom'] = df_zoom['state.newZoom'].replace(np.nan, 0)\n",
        "  lastZoom=[0,0]\n",
        "  zoom_level=[]\n",
        "  for i in tqdm(range(len(df_zoom))):\n",
        "    if df_zoom['state.newZoom'][i]==0:\n",
        "      if (lastZoom!=[0,0]):\n",
        "          df_zoom['state.newZoom'][i]=lastZoom\n",
        "      else:\n",
        "        df_zoom['state.newZoom'][i]= [0,0]\n",
        "        lastZoom= [0,0]\n",
        "    else:\n",
        "      lastZoom = df_zoom['state.newZoom'][i]\n",
        "    zoom_level.append(df_zoom['state.newZoom'][i][0])\n",
        "  return zoom_level"
      ],
      "metadata": {
        "id": "-kUjWJ6JwYrC"
      },
      "execution_count": 54,
      "outputs": []
    },
    {
      "cell_type": "code",
      "source": [
        "def get_IdleTime(df):\n",
        "  idle_time=[]\n",
        "  previous_time=df['timestampMillis'][0]\n",
        "  for i in tqdm(range(len(df))):\n",
        "      wait_time=df['timestampMillis'][i]-previous_time\n",
        "      previous_time=df['timestampMillis'][i]\n",
        "\n",
        "\n",
        "      #fixing format\n",
        "\n",
        "      stringmyDate=str(wait_time)\n",
        "      myDate=stringmyDate[: stringmyDate.find(\".\")]\n",
        "      dt = datetime.datetime.strptime(myDate, \"%Y-%m-%d %H:%M:%S\")\n",
        "      wait_time=time.mktime(dt.timetuple()) + (dt.microsecond / 1000000.0)\n",
        "      idle_time.append(wait_time)\n",
        "  return idle_time"
      ],
      "metadata": {
        "id": "rO2eqykcD3P_"
      },
      "execution_count": 58,
      "outputs": []
    },
    {
      "cell_type": "code",
      "source": [
        "def get_State(df_state):\n",
        "  states_array=[]\n",
        "  for i in range(len(df_state)):\n",
        "    if pd.isna(df_state.phase[i]):\n",
        "      states_array.append('Answering')\n",
        "    else:\n",
        "      states_array.append(df_state.phase[i])\n",
        "  return states_array"
      ],
      "metadata": {
        "id": "chEn5X6f0Mta"
      },
      "execution_count": 56,
      "outputs": []
    },
    {
      "cell_type": "code",
      "metadata": {
        "colab": {
          "base_uri": "https://localhost:8080/",
          "height": 450
        },
        "id": "fmDN-TjfYyI7",
        "outputId": "2e4cb939-5592-47a7-bd41-2b634680f17d"
      },
      "source": [
        "error_files=[]\n",
        "\n",
        "for filename in tqdm(fileNames):\n",
        "  try:\n",
        "    saveDir=(str(global_drive_path) +\"/stateActionModel/ndsi-2d\")\n",
        "    # saveDir=(str(global_drive_path) +\"/stateActionModel/ndsi-3d\")\n",
        "    \n",
        "    #saveDir=(str(global_drive_path) +\"/stateActionModel/rgb-hurricane-3d\")\n",
        "    #get a pandas dataframe object from json file\n",
        "    df = pd.read_json(os.path.join(directory,filename))\n",
        "    print(\"Read file:\",filename)\n",
        "    interactionData=pd.json_normalize(df.interactionData)\n",
        "    final_dataframe = pd.DataFrame(columns=['Action','State','TimeStamp','IdleTime','Reward','Subtask','ZoomLevel'])\n",
        "    final_dataframe['Action']=interactionData.interactionType\n",
        "    final_dataframe['State']=get_State(df)\n",
        "    final_dataframe['TimeStamp']=df.timestampMillis\n",
        "    final_dataframe['IdleTime']=get_IdleTime(df)\n",
        "    final_dataframe['Reward'],final_dataframe['Subtask']= get_Reward(df,filename)\n",
        "    final_dataframe['Angle']= get_Angle(df)\n",
        "    final_dataframe['ZoomLevel']= get_Zoom(interactionData)\t\n",
        "    txt_version= filename.replace(\"json\",\"csv\")\n",
        "    final_dataframe.to_csv(os.path.join(saveDir,txt_version), index=False)\n",
        "  except AttributeError:\n",
        "    print(\"AttributeError\")\n",
        "    error_files.append(filename)\n"
      ],
      "execution_count": 59,
      "outputs": [
        {
          "output_type": "stream",
          "name": "stderr",
          "text": [
            "\r  0%|          | 0/20 [00:00<?, ?it/s]"
          ]
        },
        {
          "output_type": "stream",
          "name": "stdout",
          "text": [
            "Read file: taskname_ndsi-2d-task_userid_72a8d170-77ae-400e-b2a5-de9e1d33a714.json\n"
          ]
        },
        {
          "output_type": "stream",
          "name": "stderr",
          "text": [
            "\n",
            "  0%|          | 0/81 [00:00<?, ?it/s]\n",
            "  0%|          | 0/20 [00:00<?, ?it/s]\n"
          ]
        },
        {
          "output_type": "error",
          "ename": "ValueError",
          "evalue": "ignored",
          "traceback": [
            "\u001b[0;31m---------------------------------------------------------------------------\u001b[0m",
            "\u001b[0;31mValueError\u001b[0m                                Traceback (most recent call last)",
            "\u001b[0;32m<ipython-input-59-be55b5fb65d1>\u001b[0m in \u001b[0;36m<module>\u001b[0;34m()\u001b[0m\n\u001b[1;32m     15\u001b[0m     \u001b[0mfinal_dataframe\u001b[0m\u001b[0;34m[\u001b[0m\u001b[0;34m'State'\u001b[0m\u001b[0;34m]\u001b[0m\u001b[0;34m=\u001b[0m\u001b[0mget_State\u001b[0m\u001b[0;34m(\u001b[0m\u001b[0mdf\u001b[0m\u001b[0;34m)\u001b[0m\u001b[0;34m\u001b[0m\u001b[0;34m\u001b[0m\u001b[0m\n\u001b[1;32m     16\u001b[0m     \u001b[0mfinal_dataframe\u001b[0m\u001b[0;34m[\u001b[0m\u001b[0;34m'TimeStamp'\u001b[0m\u001b[0;34m]\u001b[0m\u001b[0;34m=\u001b[0m\u001b[0mdf\u001b[0m\u001b[0;34m.\u001b[0m\u001b[0mtimestampMillis\u001b[0m\u001b[0;34m\u001b[0m\u001b[0;34m\u001b[0m\u001b[0m\n\u001b[0;32m---> 17\u001b[0;31m     \u001b[0mfinal_dataframe\u001b[0m\u001b[0;34m[\u001b[0m\u001b[0;34m'IdleTime'\u001b[0m\u001b[0;34m]\u001b[0m\u001b[0;34m=\u001b[0m\u001b[0mget_IdleTime\u001b[0m\u001b[0;34m(\u001b[0m\u001b[0mdf\u001b[0m\u001b[0;34m)\u001b[0m\u001b[0;34m\u001b[0m\u001b[0;34m\u001b[0m\u001b[0m\n\u001b[0m\u001b[1;32m     18\u001b[0m     \u001b[0mfinal_dataframe\u001b[0m\u001b[0;34m[\u001b[0m\u001b[0;34m'Reward'\u001b[0m\u001b[0;34m]\u001b[0m\u001b[0;34m,\u001b[0m\u001b[0mfinal_dataframe\u001b[0m\u001b[0;34m[\u001b[0m\u001b[0;34m'Subtask'\u001b[0m\u001b[0;34m]\u001b[0m\u001b[0;34m=\u001b[0m \u001b[0mget_Reward\u001b[0m\u001b[0;34m(\u001b[0m\u001b[0mdf\u001b[0m\u001b[0;34m,\u001b[0m\u001b[0mfilename\u001b[0m\u001b[0;34m)\u001b[0m\u001b[0;34m\u001b[0m\u001b[0;34m\u001b[0m\u001b[0m\n\u001b[1;32m     19\u001b[0m     \u001b[0mfinal_dataframe\u001b[0m\u001b[0;34m[\u001b[0m\u001b[0;34m'Angle'\u001b[0m\u001b[0;34m]\u001b[0m\u001b[0;34m=\u001b[0m \u001b[0mget_Angle\u001b[0m\u001b[0;34m(\u001b[0m\u001b[0mdf\u001b[0m\u001b[0;34m)\u001b[0m\u001b[0;34m\u001b[0m\u001b[0;34m\u001b[0m\u001b[0m\n",
            "\u001b[0;32m<ipython-input-58-ff7cfadd4b12>\u001b[0m in \u001b[0;36mget_IdleTime\u001b[0;34m(df)\u001b[0m\n\u001b[1;32m     11\u001b[0m       \u001b[0mstringmyDate\u001b[0m\u001b[0;34m=\u001b[0m\u001b[0mstr\u001b[0m\u001b[0;34m(\u001b[0m\u001b[0mwait_time\u001b[0m\u001b[0;34m)\u001b[0m\u001b[0;34m\u001b[0m\u001b[0;34m\u001b[0m\u001b[0m\n\u001b[1;32m     12\u001b[0m       \u001b[0mmyDate\u001b[0m\u001b[0;34m=\u001b[0m\u001b[0mstringmyDate\u001b[0m\u001b[0;34m[\u001b[0m\u001b[0;34m:\u001b[0m \u001b[0mstringmyDate\u001b[0m\u001b[0;34m.\u001b[0m\u001b[0mfind\u001b[0m\u001b[0;34m(\u001b[0m\u001b[0;34m\".\"\u001b[0m\u001b[0;34m)\u001b[0m\u001b[0;34m]\u001b[0m\u001b[0;34m\u001b[0m\u001b[0;34m\u001b[0m\u001b[0m\n\u001b[0;32m---> 13\u001b[0;31m       \u001b[0mdt\u001b[0m \u001b[0;34m=\u001b[0m \u001b[0mdatetime\u001b[0m\u001b[0;34m.\u001b[0m\u001b[0mdatetime\u001b[0m\u001b[0;34m.\u001b[0m\u001b[0mstrptime\u001b[0m\u001b[0;34m(\u001b[0m\u001b[0mmyDate\u001b[0m\u001b[0;34m,\u001b[0m \u001b[0;34m\"%Y-%m-%d %H:%M:%S\"\u001b[0m\u001b[0;34m)\u001b[0m\u001b[0;34m\u001b[0m\u001b[0;34m\u001b[0m\u001b[0m\n\u001b[0m\u001b[1;32m     14\u001b[0m       \u001b[0mwait_time\u001b[0m\u001b[0;34m=\u001b[0m\u001b[0mtime\u001b[0m\u001b[0;34m.\u001b[0m\u001b[0mmktime\u001b[0m\u001b[0;34m(\u001b[0m\u001b[0mdt\u001b[0m\u001b[0;34m.\u001b[0m\u001b[0mtimetuple\u001b[0m\u001b[0;34m(\u001b[0m\u001b[0;34m)\u001b[0m\u001b[0;34m)\u001b[0m \u001b[0;34m+\u001b[0m \u001b[0;34m(\u001b[0m\u001b[0mdt\u001b[0m\u001b[0;34m.\u001b[0m\u001b[0mmicrosecond\u001b[0m \u001b[0;34m/\u001b[0m \u001b[0;36m1000000.0\u001b[0m\u001b[0;34m)\u001b[0m\u001b[0;34m\u001b[0m\u001b[0;34m\u001b[0m\u001b[0m\n\u001b[1;32m     15\u001b[0m       \u001b[0midle_time\u001b[0m\u001b[0;34m.\u001b[0m\u001b[0mappend\u001b[0m\u001b[0;34m(\u001b[0m\u001b[0mwait_time\u001b[0m\u001b[0;34m)\u001b[0m\u001b[0;34m\u001b[0m\u001b[0;34m\u001b[0m\u001b[0m\n",
            "\u001b[0;32m/usr/lib/python3.7/_strptime.py\u001b[0m in \u001b[0;36m_strptime_datetime\u001b[0;34m(cls, data_string, format)\u001b[0m\n\u001b[1;32m    575\u001b[0m     \"\"\"Return a class cls instance based on the input string and the\n\u001b[1;32m    576\u001b[0m     format string.\"\"\"\n\u001b[0;32m--> 577\u001b[0;31m     \u001b[0mtt\u001b[0m\u001b[0;34m,\u001b[0m \u001b[0mfraction\u001b[0m\u001b[0;34m,\u001b[0m \u001b[0mgmtoff_fraction\u001b[0m \u001b[0;34m=\u001b[0m \u001b[0m_strptime\u001b[0m\u001b[0;34m(\u001b[0m\u001b[0mdata_string\u001b[0m\u001b[0;34m,\u001b[0m \u001b[0mformat\u001b[0m\u001b[0;34m)\u001b[0m\u001b[0;34m\u001b[0m\u001b[0;34m\u001b[0m\u001b[0m\n\u001b[0m\u001b[1;32m    578\u001b[0m     \u001b[0mtzname\u001b[0m\u001b[0;34m,\u001b[0m \u001b[0mgmtoff\u001b[0m \u001b[0;34m=\u001b[0m \u001b[0mtt\u001b[0m\u001b[0;34m[\u001b[0m\u001b[0;34m-\u001b[0m\u001b[0;36m2\u001b[0m\u001b[0;34m:\u001b[0m\u001b[0;34m]\u001b[0m\u001b[0;34m\u001b[0m\u001b[0;34m\u001b[0m\u001b[0m\n\u001b[1;32m    579\u001b[0m     \u001b[0margs\u001b[0m \u001b[0;34m=\u001b[0m \u001b[0mtt\u001b[0m\u001b[0;34m[\u001b[0m\u001b[0;34m:\u001b[0m\u001b[0;36m6\u001b[0m\u001b[0;34m]\u001b[0m \u001b[0;34m+\u001b[0m \u001b[0;34m(\u001b[0m\u001b[0mfraction\u001b[0m\u001b[0;34m,\u001b[0m\u001b[0;34m)\u001b[0m\u001b[0;34m\u001b[0m\u001b[0;34m\u001b[0m\u001b[0m\n",
            "\u001b[0;32m/usr/lib/python3.7/_strptime.py\u001b[0m in \u001b[0;36m_strptime\u001b[0;34m(data_string, format)\u001b[0m\n\u001b[1;32m    357\u001b[0m     \u001b[0;32mif\u001b[0m \u001b[0;32mnot\u001b[0m \u001b[0mfound\u001b[0m\u001b[0;34m:\u001b[0m\u001b[0;34m\u001b[0m\u001b[0;34m\u001b[0m\u001b[0m\n\u001b[1;32m    358\u001b[0m         raise ValueError(\"time data %r does not match format %r\" %\n\u001b[0;32m--> 359\u001b[0;31m                          (data_string, format))\n\u001b[0m\u001b[1;32m    360\u001b[0m     \u001b[0;32mif\u001b[0m \u001b[0mlen\u001b[0m\u001b[0;34m(\u001b[0m\u001b[0mdata_string\u001b[0m\u001b[0;34m)\u001b[0m \u001b[0;34m!=\u001b[0m \u001b[0mfound\u001b[0m\u001b[0;34m.\u001b[0m\u001b[0mend\u001b[0m\u001b[0;34m(\u001b[0m\u001b[0;34m)\u001b[0m\u001b[0;34m:\u001b[0m\u001b[0;34m\u001b[0m\u001b[0;34m\u001b[0m\u001b[0m\n\u001b[1;32m    361\u001b[0m         raise ValueError(\"unconverted data remains: %s\" %\n",
            "\u001b[0;31mValueError\u001b[0m: time data '0 days 00:00:0' does not match format '%Y-%m-%d %H:%M:%S'"
          ]
        }
      ]
    },
    {
      "cell_type": "code",
      "metadata": {
        "id": "vs52W0dCGKLV"
      },
      "source": [
        "path=(str(global_drive_path) +\"/stateActionModel/ndsi-2d\")\n",
        "fileNames_NDSI_2D=[]\n",
        "for filename in os.listdir(path):\n",
        "    if filename.endswith(\".csv\"):\n",
        "        filePath=(os.path.join(directory, filename))\n",
        "        fileNames_NDSI_2D.append(filename)\n",
        "    else:\n",
        "        continue"
      ],
      "execution_count": null,
      "outputs": []
    },
    {
      "cell_type": "code",
      "metadata": {
        "id": "QoE3mCUbGKTZ"
      },
      "source": [
        "path=(str(global_drive_path) +\"/stateActionModel/ndsi-3d\")\n",
        "fileNames_NDSI_3D=[]\n",
        "for filename in os.listdir(path):\n",
        "    if filename.endswith(\".csv\"):\n",
        "        filePath=(os.path.join(directory, filename))\n",
        "        fileNames_NDSI_3D.append(filename)\n",
        "    else:\n",
        "        continue"
      ],
      "execution_count": null,
      "outputs": []
    },
    {
      "cell_type": "code",
      "metadata": {
        "colab": {
          "base_uri": "https://localhost:8080/"
        },
        "id": "MB7tNILtGKWX",
        "outputId": "4658ca72-56b4-45ba-e1a8-ab9ce5141d6c"
      },
      "source": [
        "#all 2d tasks\n",
        "fileNames_NDSI_2D.remove"
      ],
      "execution_count": null,
      "outputs": [
        {
          "output_type": "execute_result",
          "data": {
            "text/plain": [
              "['taskname_ndsi-2d-task_userid_72a8d170-77ae-400e-b2a5-de9e1d33a714.csv',\n",
              " 'taskname_ndsi-2d-task_userid_ac5b65d7-f260-4534-9fae-d998b726ed32.csv',\n",
              " 'taskname_ndsi-2d-task_userid_82316e37-1117-4663-84b4-ddb6455c83b2.csv',\n",
              " 'taskname_ndsi-2d-task_userid_da52acdd-3cea-483c-86e5-2c2740d371aa.csv',\n",
              " 'taskname_ndsi-2d-task_userid_d6555293-35c7-4c27-b522-38d67d2d1b1a.csv',\n",
              " 'taskname_ndsi-2d-task_userid_ff56863b-0710-4a58-ad22-4bf2889c9bc0.csv',\n",
              " 'taskname_ndsi-2d-task_userid_bc9f9425-e867-4876-a5d9-791229916767.csv',\n",
              " 'taskname_ndsi-2d-task_userid_bda49380-37ad-41c5-a109-7fa198a7691a.csv',\n",
              " 'taskname_ndsi-2d-task_userid_7d014c75-453b-4188-9e4e-fb086984896a.csv',\n",
              " 'taskname_ndsi-2d-task_userid_8bf5b71b-dfd4-403f-8791-06427b26ccaf.csv',\n",
              " 'taskname_ndsi-2d-task_userid_3abeecbe-327a-441e-be2a-0dd3763c1d45.csv',\n",
              " 'taskname_ndsi-2d-task_userid_cd3ef507-e3e9-4edb-9222-90a69a9bf272.csv',\n",
              " 'taskname_ndsi-2d-task_userid_93be0a02-3f7a-46c9-b526-aa956ed00856.csv',\n",
              " 'taskname_ndsi-2d-task_userid_6d49fab8-273b-4a91-948b-ecd14556b049.csv',\n",
              " 'taskname_ndsi-2d-task_userid_733a1ac5-0b01-485e-9b29-ac33932aa240.csv',\n",
              " 'taskname_ndsi-2d-task_userid_e4221e48-0930-40db-af3c-f4de1ed87582.csv',\n",
              " 'taskname_ndsi-2d-task_userid_44968286-f204-4ad6-a9b5-d95b38e97866.csv',\n",
              " 'taskname_ndsi-2d-task_userid_954edb7c-4eae-47ab-9338-5c5c7eccac2d.csv',\n",
              " 'taskname_ndsi-2d-task_userid_a6aab5f5-fdb6-41df-9fc6-221d70f8c6e8.csv',\n",
              " 'taskname_ndsi-2d-task_userid_8b544d24-3274-4bb0-9719-fd2bccc87b02.csv']"
            ]
          },
          "metadata": {},
          "execution_count": 39
        }
      ]
    },
    {
      "cell_type": "code",
      "metadata": {
        "colab": {
          "base_uri": "https://localhost:8080/"
        },
        "id": "WZH6KxB2GKZP",
        "outputId": "7c4a3b0d-86fa-42d6-9206-a146c6e00e60"
      },
      "source": [
        "#all 3d tasks\n",
        "fileNames_NDSI_3D"
      ],
      "execution_count": null,
      "outputs": [
        {
          "output_type": "execute_result",
          "data": {
            "text/plain": [
              "['taskname_ndsi-3d-task_userid_8b544d24-3274-4bb0-9719-fd2bccc87b02.csv',\n",
              " 'taskname_ndsi-3d-task_userid_bda49380-37ad-41c5-a109-7fa198a7691a.csv',\n",
              " 'taskname_ndsi-3d-task_userid_954edb7c-4eae-47ab-9338-5c5c7eccac2d.csv',\n",
              " 'taskname_ndsi-3d-task_userid_e4221e48-0930-40db-af3c-f4de1ed87582.csv',\n",
              " 'taskname_ndsi-3d-task_userid_d6555293-35c7-4c27-b522-38d67d2d1b1a.csv',\n",
              " 'taskname_ndsi-3d-task_userid_8bf5b71b-dfd4-403f-8791-06427b26ccaf.csv',\n",
              " 'taskname_ndsi-3d-task_userid_c7cac3a0-2f18-4359-905e-ce343d6d92f1.csv',\n",
              " 'taskname_ndsi-3d-task_userid_7d014c75-453b-4188-9e4e-fb086984896a.csv',\n",
              " 'taskname_ndsi-3d-task_userid_ac5b65d7-f260-4534-9fae-d998b726ed32.csv',\n",
              " 'taskname_ndsi-3d-task_userid_3abeecbe-327a-441e-be2a-0dd3763c1d45.csv',\n",
              " 'taskname_ndsi-3d-task_userid_ff56863b-0710-4a58-ad22-4bf2889c9bc0.csv',\n",
              " 'taskname_ndsi-3d-task_userid_733a1ac5-0b01-485e-9b29-ac33932aa240.csv',\n",
              " 'taskname_ndsi-3d-task_userid_a6aab5f5-fdb6-41df-9fc6-221d70f8c6e8.csv',\n",
              " 'taskname_ndsi-3d-task_userid_93be0a02-3f7a-46c9-b526-aa956ed00856.csv',\n",
              " 'taskname_ndsi-3d-task_userid_82316e37-1117-4663-84b4-ddb6455c83b2.csv',\n",
              " 'taskname_ndsi-3d-task_userid_da52acdd-3cea-483c-86e5-2c2740d371aa.csv',\n",
              " 'taskname_ndsi-3d-task_userid_cd3ef507-e3e9-4edb-9222-90a69a9bf272.csv',\n",
              " 'taskname_ndsi-3d-task_userid_bc9f9425-e867-4876-a5d9-791229916767.csv',\n",
              " 'taskname_ndsi-3d-task_userid_44968286-f204-4ad6-a9b5-d95b38e97866.csv',\n",
              " 'taskname_ndsi-3d-task_userid_6d49fab8-273b-4a91-948b-ecd14556b049.csv']"
            ]
          },
          "metadata": {},
          "execution_count": 40
        }
      ]
    },
    {
      "cell_type": "code",
      "metadata": {
        "colab": {
          "base_uri": "https://localhost:8080/"
        },
        "id": "Topl9AUeGKdV",
        "outputId": "8742d9c4-2ec2-4505-c1c5-efc060357878"
      },
      "source": [
        "matchingName=[]\n",
        "for i in range(len(fileNames_NDSI_2D)):\n",
        "  for j in range(len(fileNames_NDSI_2D)):\n",
        "  # if fileNames_NDSI_2D[i].removesuffix('taskname_ndsi-2d-task_') == fileNames_NDSI_3D[i].removesuffix('taskname_ndsi-3d-task_'):\n",
        "   if fileNames_NDSI_2D[i][22:] == fileNames_NDSI_3D[j][22:]:\n",
        "      matchingName.append(fileNames_NDSI_2D[i][22:])\n",
        "      print(fileNames_NDSI_3D[i])"
      ],
      "execution_count": null,
      "outputs": [
        {
          "output_type": "stream",
          "name": "stdout",
          "text": [
            "taskname_ndsi-3d-task_userid_bda49380-37ad-41c5-a109-7fa198a7691a.csv\n",
            "taskname_ndsi-3d-task_userid_954edb7c-4eae-47ab-9338-5c5c7eccac2d.csv\n",
            "taskname_ndsi-3d-task_userid_e4221e48-0930-40db-af3c-f4de1ed87582.csv\n",
            "taskname_ndsi-3d-task_userid_d6555293-35c7-4c27-b522-38d67d2d1b1a.csv\n",
            "taskname_ndsi-3d-task_userid_8bf5b71b-dfd4-403f-8791-06427b26ccaf.csv\n",
            "taskname_ndsi-3d-task_userid_c7cac3a0-2f18-4359-905e-ce343d6d92f1.csv\n",
            "taskname_ndsi-3d-task_userid_7d014c75-453b-4188-9e4e-fb086984896a.csv\n",
            "taskname_ndsi-3d-task_userid_ac5b65d7-f260-4534-9fae-d998b726ed32.csv\n",
            "taskname_ndsi-3d-task_userid_3abeecbe-327a-441e-be2a-0dd3763c1d45.csv\n",
            "taskname_ndsi-3d-task_userid_ff56863b-0710-4a58-ad22-4bf2889c9bc0.csv\n",
            "taskname_ndsi-3d-task_userid_733a1ac5-0b01-485e-9b29-ac33932aa240.csv\n",
            "taskname_ndsi-3d-task_userid_a6aab5f5-fdb6-41df-9fc6-221d70f8c6e8.csv\n",
            "taskname_ndsi-3d-task_userid_93be0a02-3f7a-46c9-b526-aa956ed00856.csv\n",
            "taskname_ndsi-3d-task_userid_82316e37-1117-4663-84b4-ddb6455c83b2.csv\n",
            "taskname_ndsi-3d-task_userid_da52acdd-3cea-483c-86e5-2c2740d371aa.csv\n",
            "taskname_ndsi-3d-task_userid_cd3ef507-e3e9-4edb-9222-90a69a9bf272.csv\n",
            "taskname_ndsi-3d-task_userid_bc9f9425-e867-4876-a5d9-791229916767.csv\n",
            "taskname_ndsi-3d-task_userid_44968286-f204-4ad6-a9b5-d95b38e97866.csv\n",
            "taskname_ndsi-3d-task_userid_6d49fab8-273b-4a91-948b-ecd14556b049.csv\n"
          ]
        }
      ]
    },
    {
      "cell_type": "code",
      "metadata": {
        "colab": {
          "base_uri": "https://localhost:8080/"
        },
        "id": "Kc_Q3jxlKf3L",
        "outputId": "5c6252d6-63bc-4fdc-ff9f-50c9c8a137df"
      },
      "source": [
        "len(matchingName) # so 19 users are the same "
      ],
      "execution_count": null,
      "outputs": [
        {
          "output_type": "execute_result",
          "data": {
            "text/plain": [
              "19"
            ]
          },
          "metadata": {},
          "execution_count": 58
        }
      ]
    },
    {
      "cell_type": "code",
      "metadata": {
        "id": "t3DFBNOEGKgd"
      },
      "source": [
        "filenamed=\"taskname_ndsi-3d-task_userid_8b544d24-3274-4bb0-9719-fd2bccc87b02.csv\""
      ],
      "execution_count": null,
      "outputs": []
    },
    {
      "cell_type": "code",
      "metadata": {
        "colab": {
          "base_uri": "https://localhost:8080/",
          "height": 35
        },
        "id": "_RzdFG-xGKi3",
        "outputId": "ae13aedb-8229-4df0-ab03-250fdc11fd3e"
      },
      "source": [
        "filenamed[filenamed.find(\"userid_\")+7: filenamed.find(\".csv\")]"
      ],
      "execution_count": null,
      "outputs": [
        {
          "output_type": "execute_result",
          "data": {
            "application/vnd.google.colaboratory.intrinsic+json": {
              "type": "string"
            },
            "text/plain": [
              "'8b544d24-3274-4bb0-9719-fd2bccc87b02'"
            ]
          },
          "metadata": {},
          "execution_count": 33
        }
      ]
    },
    {
      "cell_type": "code",
      "metadata": {
        "colab": {
          "base_uri": "https://localhost:8080/",
          "height": 205
        },
        "id": "aEc2_xWCoANE",
        "outputId": "09b82a06-0415-4861-dd6d-27f70b86e736"
      },
      "source": [
        "df.head(5)"
      ],
      "execution_count": null,
      "outputs": [
        {
          "output_type": "execute_result",
          "data": {
            "text/html": [
              "<div>\n",
              "<style scoped>\n",
              "    .dataframe tbody tr th:only-of-type {\n",
              "        vertical-align: middle;\n",
              "    }\n",
              "\n",
              "    .dataframe tbody tr th {\n",
              "        vertical-align: top;\n",
              "    }\n",
              "\n",
              "    .dataframe thead th {\n",
              "        text-align: right;\n",
              "    }\n",
              "</style>\n",
              "<table border=\"1\" class=\"dataframe\">\n",
              "  <thead>\n",
              "    <tr style=\"text-align: right;\">\n",
              "      <th></th>\n",
              "      <th>phase</th>\n",
              "      <th>toFetch</th>\n",
              "      <th>timestampMillis</th>\n",
              "      <th>interactionData</th>\n",
              "    </tr>\n",
              "  </thead>\n",
              "  <tbody>\n",
              "    <tr>\n",
              "      <th>0</th>\n",
              "      <td>Foraging</td>\n",
              "      <td>[{'dimindices': [0, 0, 1], 'zoom': [0, 0], 'na...</td>\n",
              "      <td>2016-06-15 19:57:43.550</td>\n",
              "      <td>{'state': {}, 'viewName': None, 'interactionTy...</td>\n",
              "    </tr>\n",
              "    <tr>\n",
              "      <th>1</th>\n",
              "      <td>Foraging</td>\n",
              "      <td>[{'dimindices': [1, 0, 0], 'zoom': [0, 0], 'na...</td>\n",
              "      <td>2016-06-15 19:58:14.420</td>\n",
              "      <td>{'state': {'dragEnd': [253, 164], 'dragStart':...</td>\n",
              "    </tr>\n",
              "    <tr>\n",
              "      <th>2</th>\n",
              "      <td>Navigation</td>\n",
              "      <td>[{'dimindices': [0, 0, 0], 'zoom': [1, 0], 'na...</td>\n",
              "      <td>2016-06-15 19:58:15.182</td>\n",
              "      <td>{'state': {'newMids': {'1': 79.77037037037039,...</td>\n",
              "    </tr>\n",
              "    <tr>\n",
              "      <th>3</th>\n",
              "      <td>Navigation</td>\n",
              "      <td>[]</td>\n",
              "      <td>2016-06-15 19:58:19.564</td>\n",
              "      <td>{'state': {'dragEnd': [397, 174], 'dragStart':...</td>\n",
              "    </tr>\n",
              "    <tr>\n",
              "      <th>4</th>\n",
              "      <td>Navigation</td>\n",
              "      <td>[{'dimindices': [2, 1, 0], 'zoom': [2, 0], 'na...</td>\n",
              "      <td>2016-06-15 19:58:20.211</td>\n",
              "      <td>{'state': {'newMids': {'1': 158.20740740740746...</td>\n",
              "    </tr>\n",
              "  </tbody>\n",
              "</table>\n",
              "</div>"
            ],
            "text/plain": [
              "        phase  ...                                    interactionData\n",
              "0    Foraging  ...  {'state': {}, 'viewName': None, 'interactionTy...\n",
              "1    Foraging  ...  {'state': {'dragEnd': [253, 164], 'dragStart':...\n",
              "2  Navigation  ...  {'state': {'newMids': {'1': 79.77037037037039,...\n",
              "3  Navigation  ...  {'state': {'dragEnd': [397, 174], 'dragStart':...\n",
              "4  Navigation  ...  {'state': {'newMids': {'1': 158.20740740740746...\n",
              "\n",
              "[5 rows x 4 columns]"
            ]
          },
          "metadata": {},
          "execution_count": 53
        }
      ]
    },
    {
      "cell_type": "code",
      "metadata": {
        "colab": {
          "base_uri": "https://localhost:8080/"
        },
        "id": "XAw1ghRVcMB7",
        "outputId": "60f287e3-1838-4b44-f4eb-4cf115d85957"
      },
      "source": [
        "df.phase"
      ],
      "execution_count": null,
      "outputs": [
        {
          "output_type": "execute_result",
          "data": {
            "text/plain": [
              "0         Foraging\n",
              "1         Foraging\n",
              "2       Navigation\n",
              "3       Navigation\n",
              "4       Navigation\n",
              "          ...     \n",
              "241     Navigation\n",
              "242    Sensemaking\n",
              "243    Sensemaking\n",
              "244    Sensemaking\n",
              "245    Sensemaking\n",
              "Name: phase, Length: 246, dtype: object"
            ]
          },
          "metadata": {},
          "execution_count": 54
        }
      ]
    },
    {
      "cell_type": "code",
      "metadata": {
        "colab": {
          "base_uri": "https://localhost:8080/"
        },
        "id": "Mx6u0FtNPZWC",
        "outputId": "3198816a-4965-45b7-923c-ce4462573339"
      },
      "source": [
        "interactionData= pd.io.json.json_normalize(df.interactionData)"
      ],
      "execution_count": null,
      "outputs": [
        {
          "output_type": "stream",
          "name": "stderr",
          "text": [
            "/usr/local/lib/python3.7/dist-packages/ipykernel_launcher.py:1: FutureWarning: pandas.io.json.json_normalize is deprecated, use pandas.json_normalize instead\n",
            "  \"\"\"Entry point for launching an IPython kernel.\n"
          ]
        }
      ]
    },
    {
      "cell_type": "code",
      "metadata": {
        "colab": {
          "base_uri": "https://localhost:8080/"
        },
        "id": "DQUSSW_jdgsi",
        "outputId": "797520f5-5d1a-4131-c87b-e0b4304c9096"
      },
      "source": [
        "interactionData.interactionType"
      ],
      "execution_count": null,
      "outputs": [
        {
          "output_type": "execute_result",
          "data": {
            "text/plain": [
              "0     start\n",
              "1      zoom\n",
              "2       pan\n",
              "3       pan\n",
              "4       pan\n",
              "5       pan\n",
              "6      zoom\n",
              "7      zoom\n",
              "8      zoom\n",
              "9      zoom\n",
              "10     zoom\n",
              "11     zoom\n",
              "12     zoom\n",
              "13     zoom\n",
              "14      pan\n",
              "15     zoom\n",
              "16      pan\n",
              "17     zoom\n",
              "18     zoom\n",
              "19      pan\n",
              "20     zoom\n",
              "21      pan\n",
              "22     zoom\n",
              "23      pan\n",
              "24      pan\n",
              "25     zoom\n",
              "26     zoom\n",
              "27     zoom\n",
              "28      pan\n",
              "29     zoom\n",
              "30      pan\n",
              "31     zoom\n",
              "32     zoom\n",
              "33     zoom\n",
              "34      pan\n",
              "35      pan\n",
              "36      pan\n",
              "37      pan\n",
              "38      pan\n",
              "39      pan\n",
              "40     zoom\n",
              "41     zoom\n",
              "42     zoom\n",
              "43     zoom\n",
              "44      pan\n",
              "45      pan\n",
              "46      pan\n",
              "47     zoom\n",
              "48     zoom\n",
              "49      pan\n",
              "50     zoom\n",
              "51     zoom\n",
              "52      pan\n",
              "53     zoom\n",
              "54      pan\n",
              "55     zoom\n",
              "Name: interactionType, dtype: object"
            ]
          },
          "metadata": {},
          "execution_count": 19
        }
      ]
    },
    {
      "cell_type": "code",
      "metadata": {
        "id": "laHuy1Pf23I1"
      },
      "source": [
        "final_dataframe = pd.DataFrame(columns=['Action','State','TimeStamp'])\n",
        "final_dataframe['Action']=interactionData.interactionType\n",
        "final_dataframe['State']=df.phase\n",
        "final_dataframe['TimeStamp']=df.timestampMillis"
      ],
      "execution_count": null,
      "outputs": []
    },
    {
      "cell_type": "code",
      "metadata": {
        "colab": {
          "base_uri": "https://localhost:8080/"
        },
        "id": "sp7uyKm2RBkk",
        "outputId": "e9a3d4c5-8a8d-4c7e-f5b3-05e092490415"
      },
      "source": [
        "final_dataframe.head"
      ],
      "execution_count": null,
      "outputs": [
        {
          "output_type": "execute_result",
          "data": {
            "text/plain": [
              "<bound method NDFrame.head of Empty DataFrame\n",
              "Columns: [Action, State, TimeStamp]\n",
              "Index: []>"
            ]
          },
          "metadata": {},
          "execution_count": 29
        }
      ]
    },
    {
      "cell_type": "code",
      "metadata": {
        "id": "FLCYBF5w3ycM"
      },
      "source": [
        "final_dataframe['Action']=interactionData.interactionType\n",
        "final_dataframe['State']=df.phase\n",
        "final_dataframe['TimeStamp']=df.timestampMillis"
      ],
      "execution_count": null,
      "outputs": []
    },
    {
      "cell_type": "code",
      "metadata": {
        "colab": {
          "base_uri": "https://localhost:8080/",
          "height": 1000
        },
        "id": "SFuNlEahPpND",
        "outputId": "c1cfa0e6-a704-4c5a-8d77-990807d98cfd"
      },
      "source": [
        "final_dataframe"
      ],
      "execution_count": null,
      "outputs": [
        {
          "output_type": "execute_result",
          "data": {
            "text/html": [
              "<div>\n",
              "<style scoped>\n",
              "    .dataframe tbody tr th:only-of-type {\n",
              "        vertical-align: middle;\n",
              "    }\n",
              "\n",
              "    .dataframe tbody tr th {\n",
              "        vertical-align: top;\n",
              "    }\n",
              "\n",
              "    .dataframe thead th {\n",
              "        text-align: right;\n",
              "    }\n",
              "</style>\n",
              "<table border=\"1\" class=\"dataframe\">\n",
              "  <thead>\n",
              "    <tr style=\"text-align: right;\">\n",
              "      <th></th>\n",
              "      <th>Action</th>\n",
              "      <th>State</th>\n",
              "      <th>TimeStamp</th>\n",
              "    </tr>\n",
              "  </thead>\n",
              "  <tbody>\n",
              "    <tr>\n",
              "      <th>0</th>\n",
              "      <td>start</td>\n",
              "      <td>Foraging</td>\n",
              "      <td>2016-06-15 16:30:54.682</td>\n",
              "    </tr>\n",
              "    <tr>\n",
              "      <th>1</th>\n",
              "      <td>zoom</td>\n",
              "      <td>Foraging</td>\n",
              "      <td>2016-06-15 16:31:54.487</td>\n",
              "    </tr>\n",
              "    <tr>\n",
              "      <th>2</th>\n",
              "      <td>pan</td>\n",
              "      <td>Foraging</td>\n",
              "      <td>2016-06-15 16:31:56.208</td>\n",
              "    </tr>\n",
              "    <tr>\n",
              "      <th>3</th>\n",
              "      <td>pan</td>\n",
              "      <td>Foraging</td>\n",
              "      <td>2016-06-15 16:31:59.997</td>\n",
              "    </tr>\n",
              "    <tr>\n",
              "      <th>4</th>\n",
              "      <td>pan</td>\n",
              "      <td>Foraging</td>\n",
              "      <td>2016-06-15 16:32:08.098</td>\n",
              "    </tr>\n",
              "    <tr>\n",
              "      <th>5</th>\n",
              "      <td>pan</td>\n",
              "      <td>Foraging</td>\n",
              "      <td>2016-06-15 16:32:19.471</td>\n",
              "    </tr>\n",
              "    <tr>\n",
              "      <th>6</th>\n",
              "      <td>zoom</td>\n",
              "      <td>Navigation</td>\n",
              "      <td>2016-06-15 16:32:44.131</td>\n",
              "    </tr>\n",
              "    <tr>\n",
              "      <th>7</th>\n",
              "      <td>zoom</td>\n",
              "      <td>Navigation</td>\n",
              "      <td>2016-06-15 16:32:45.547</td>\n",
              "    </tr>\n",
              "    <tr>\n",
              "      <th>8</th>\n",
              "      <td>zoom</td>\n",
              "      <td>Navigation</td>\n",
              "      <td>2016-06-15 16:32:45.987</td>\n",
              "    </tr>\n",
              "    <tr>\n",
              "      <th>9</th>\n",
              "      <td>zoom</td>\n",
              "      <td>Navigation</td>\n",
              "      <td>2016-06-15 16:32:46.627</td>\n",
              "    </tr>\n",
              "    <tr>\n",
              "      <th>10</th>\n",
              "      <td>zoom</td>\n",
              "      <td>Navigation</td>\n",
              "      <td>2016-06-15 16:32:52.234</td>\n",
              "    </tr>\n",
              "    <tr>\n",
              "      <th>11</th>\n",
              "      <td>zoom</td>\n",
              "      <td>Navigation</td>\n",
              "      <td>2016-06-15 16:32:52.516</td>\n",
              "    </tr>\n",
              "    <tr>\n",
              "      <th>12</th>\n",
              "      <td>zoom</td>\n",
              "      <td>Navigation</td>\n",
              "      <td>2016-06-15 16:32:52.923</td>\n",
              "    </tr>\n",
              "    <tr>\n",
              "      <th>13</th>\n",
              "      <td>zoom</td>\n",
              "      <td>Navigation</td>\n",
              "      <td>2016-06-15 16:32:53.530</td>\n",
              "    </tr>\n",
              "    <tr>\n",
              "      <th>14</th>\n",
              "      <td>pan</td>\n",
              "      <td>Foraging</td>\n",
              "      <td>2016-06-15 16:32:56.321</td>\n",
              "    </tr>\n",
              "    <tr>\n",
              "      <th>15</th>\n",
              "      <td>zoom</td>\n",
              "      <td>Navigation</td>\n",
              "      <td>2016-06-15 16:32:57.722</td>\n",
              "    </tr>\n",
              "    <tr>\n",
              "      <th>16</th>\n",
              "      <td>pan</td>\n",
              "      <td>Navigation</td>\n",
              "      <td>2016-06-15 16:33:01.853</td>\n",
              "    </tr>\n",
              "    <tr>\n",
              "      <th>17</th>\n",
              "      <td>zoom</td>\n",
              "      <td>Navigation</td>\n",
              "      <td>2016-06-15 16:33:03.890</td>\n",
              "    </tr>\n",
              "    <tr>\n",
              "      <th>18</th>\n",
              "      <td>zoom</td>\n",
              "      <td>Navigation</td>\n",
              "      <td>2016-06-15 16:33:04.659</td>\n",
              "    </tr>\n",
              "    <tr>\n",
              "      <th>19</th>\n",
              "      <td>pan</td>\n",
              "      <td>Foraging</td>\n",
              "      <td>2016-06-15 16:33:06.053</td>\n",
              "    </tr>\n",
              "    <tr>\n",
              "      <th>20</th>\n",
              "      <td>zoom</td>\n",
              "      <td>Foraging</td>\n",
              "      <td>2016-06-15 16:33:07.788</td>\n",
              "    </tr>\n",
              "    <tr>\n",
              "      <th>21</th>\n",
              "      <td>pan</td>\n",
              "      <td>Foraging</td>\n",
              "      <td>2016-06-15 16:33:09.341</td>\n",
              "    </tr>\n",
              "    <tr>\n",
              "      <th>22</th>\n",
              "      <td>zoom</td>\n",
              "      <td>Navigation</td>\n",
              "      <td>2016-06-15 16:33:10.308</td>\n",
              "    </tr>\n",
              "    <tr>\n",
              "      <th>23</th>\n",
              "      <td>pan</td>\n",
              "      <td>Navigation</td>\n",
              "      <td>2016-06-15 16:33:15.626</td>\n",
              "    </tr>\n",
              "    <tr>\n",
              "      <th>24</th>\n",
              "      <td>pan</td>\n",
              "      <td>Navigation</td>\n",
              "      <td>2016-06-15 16:33:27.529</td>\n",
              "    </tr>\n",
              "    <tr>\n",
              "      <th>25</th>\n",
              "      <td>zoom</td>\n",
              "      <td>Navigation</td>\n",
              "      <td>2016-06-15 16:33:28.315</td>\n",
              "    </tr>\n",
              "    <tr>\n",
              "      <th>26</th>\n",
              "      <td>zoom</td>\n",
              "      <td>Navigation</td>\n",
              "      <td>2016-06-15 16:33:29.052</td>\n",
              "    </tr>\n",
              "    <tr>\n",
              "      <th>27</th>\n",
              "      <td>zoom</td>\n",
              "      <td>Navigation</td>\n",
              "      <td>2016-06-15 16:33:29.635</td>\n",
              "    </tr>\n",
              "    <tr>\n",
              "      <th>28</th>\n",
              "      <td>pan</td>\n",
              "      <td>Foraging</td>\n",
              "      <td>2016-06-15 16:33:33.742</td>\n",
              "    </tr>\n",
              "    <tr>\n",
              "      <th>29</th>\n",
              "      <td>zoom</td>\n",
              "      <td>Foraging</td>\n",
              "      <td>2016-06-15 16:33:34.997</td>\n",
              "    </tr>\n",
              "    <tr>\n",
              "      <th>30</th>\n",
              "      <td>pan</td>\n",
              "      <td>Foraging</td>\n",
              "      <td>2016-06-15 16:33:41.342</td>\n",
              "    </tr>\n",
              "    <tr>\n",
              "      <th>31</th>\n",
              "      <td>zoom</td>\n",
              "      <td>Foraging</td>\n",
              "      <td>2016-06-15 16:33:42.450</td>\n",
              "    </tr>\n",
              "    <tr>\n",
              "      <th>32</th>\n",
              "      <td>zoom</td>\n",
              "      <td>Navigation</td>\n",
              "      <td>2016-06-15 16:33:43.491</td>\n",
              "    </tr>\n",
              "    <tr>\n",
              "      <th>33</th>\n",
              "      <td>zoom</td>\n",
              "      <td>Navigation</td>\n",
              "      <td>2016-06-15 16:33:44.323</td>\n",
              "    </tr>\n",
              "    <tr>\n",
              "      <th>34</th>\n",
              "      <td>pan</td>\n",
              "      <td>Sensemaking</td>\n",
              "      <td>2016-06-15 16:33:48.543</td>\n",
              "    </tr>\n",
              "    <tr>\n",
              "      <th>35</th>\n",
              "      <td>pan</td>\n",
              "      <td>Sensemaking</td>\n",
              "      <td>2016-06-15 16:33:49.667</td>\n",
              "    </tr>\n",
              "    <tr>\n",
              "      <th>36</th>\n",
              "      <td>pan</td>\n",
              "      <td>Sensemaking</td>\n",
              "      <td>2016-06-15 16:33:51.937</td>\n",
              "    </tr>\n",
              "    <tr>\n",
              "      <th>37</th>\n",
              "      <td>pan</td>\n",
              "      <td>Sensemaking</td>\n",
              "      <td>2016-06-15 16:33:54.434</td>\n",
              "    </tr>\n",
              "    <tr>\n",
              "      <th>38</th>\n",
              "      <td>pan</td>\n",
              "      <td>Sensemaking</td>\n",
              "      <td>2016-06-15 16:33:57.875</td>\n",
              "    </tr>\n",
              "    <tr>\n",
              "      <th>39</th>\n",
              "      <td>pan</td>\n",
              "      <td>Sensemaking</td>\n",
              "      <td>2016-06-15 16:34:01.966</td>\n",
              "    </tr>\n",
              "    <tr>\n",
              "      <th>40</th>\n",
              "      <td>zoom</td>\n",
              "      <td>Navigation</td>\n",
              "      <td>2016-06-15 16:34:08.211</td>\n",
              "    </tr>\n",
              "    <tr>\n",
              "      <th>41</th>\n",
              "      <td>zoom</td>\n",
              "      <td>Navigation</td>\n",
              "      <td>2016-06-15 16:34:09.243</td>\n",
              "    </tr>\n",
              "    <tr>\n",
              "      <th>42</th>\n",
              "      <td>zoom</td>\n",
              "      <td>Navigation</td>\n",
              "      <td>2016-06-15 16:34:09.586</td>\n",
              "    </tr>\n",
              "    <tr>\n",
              "      <th>43</th>\n",
              "      <td>zoom</td>\n",
              "      <td>Navigation</td>\n",
              "      <td>2016-06-15 16:34:10.051</td>\n",
              "    </tr>\n",
              "    <tr>\n",
              "      <th>44</th>\n",
              "      <td>pan</td>\n",
              "      <td>Foraging</td>\n",
              "      <td>2016-06-15 16:34:13.312</td>\n",
              "    </tr>\n",
              "    <tr>\n",
              "      <th>45</th>\n",
              "      <td>pan</td>\n",
              "      <td>Foraging</td>\n",
              "      <td>2016-06-15 16:34:18.093</td>\n",
              "    </tr>\n",
              "    <tr>\n",
              "      <th>46</th>\n",
              "      <td>pan</td>\n",
              "      <td>Foraging</td>\n",
              "      <td>2016-06-15 16:34:19.552</td>\n",
              "    </tr>\n",
              "    <tr>\n",
              "      <th>47</th>\n",
              "      <td>zoom</td>\n",
              "      <td>Navigation</td>\n",
              "      <td>2016-06-15 16:34:21.162</td>\n",
              "    </tr>\n",
              "    <tr>\n",
              "      <th>48</th>\n",
              "      <td>zoom</td>\n",
              "      <td>Navigation</td>\n",
              "      <td>2016-06-15 16:34:21.788</td>\n",
              "    </tr>\n",
              "    <tr>\n",
              "      <th>49</th>\n",
              "      <td>pan</td>\n",
              "      <td>Navigation</td>\n",
              "      <td>2016-06-15 16:34:23.087</td>\n",
              "    </tr>\n",
              "    <tr>\n",
              "      <th>50</th>\n",
              "      <td>zoom</td>\n",
              "      <td>Navigation</td>\n",
              "      <td>2016-06-15 16:34:24.018</td>\n",
              "    </tr>\n",
              "    <tr>\n",
              "      <th>51</th>\n",
              "      <td>zoom</td>\n",
              "      <td>Navigation</td>\n",
              "      <td>2016-06-15 16:34:24.895</td>\n",
              "    </tr>\n",
              "    <tr>\n",
              "      <th>52</th>\n",
              "      <td>pan</td>\n",
              "      <td>Sensemaking</td>\n",
              "      <td>2016-06-15 16:34:26.469</td>\n",
              "    </tr>\n",
              "    <tr>\n",
              "      <th>53</th>\n",
              "      <td>zoom</td>\n",
              "      <td>Sensemaking</td>\n",
              "      <td>2016-06-15 16:34:28.298</td>\n",
              "    </tr>\n",
              "    <tr>\n",
              "      <th>54</th>\n",
              "      <td>pan</td>\n",
              "      <td>Sensemaking</td>\n",
              "      <td>2016-06-15 16:34:29.976</td>\n",
              "    </tr>\n",
              "    <tr>\n",
              "      <th>55</th>\n",
              "      <td>zoom</td>\n",
              "      <td>Sensemaking</td>\n",
              "      <td>2016-06-15 16:35:35.649</td>\n",
              "    </tr>\n",
              "  </tbody>\n",
              "</table>\n",
              "</div>"
            ],
            "text/plain": [
              "   Action        State               TimeStamp\n",
              "0   start     Foraging 2016-06-15 16:30:54.682\n",
              "1    zoom     Foraging 2016-06-15 16:31:54.487\n",
              "2     pan     Foraging 2016-06-15 16:31:56.208\n",
              "3     pan     Foraging 2016-06-15 16:31:59.997\n",
              "4     pan     Foraging 2016-06-15 16:32:08.098\n",
              "5     pan     Foraging 2016-06-15 16:32:19.471\n",
              "6    zoom   Navigation 2016-06-15 16:32:44.131\n",
              "7    zoom   Navigation 2016-06-15 16:32:45.547\n",
              "8    zoom   Navigation 2016-06-15 16:32:45.987\n",
              "9    zoom   Navigation 2016-06-15 16:32:46.627\n",
              "10   zoom   Navigation 2016-06-15 16:32:52.234\n",
              "11   zoom   Navigation 2016-06-15 16:32:52.516\n",
              "12   zoom   Navigation 2016-06-15 16:32:52.923\n",
              "13   zoom   Navigation 2016-06-15 16:32:53.530\n",
              "14    pan     Foraging 2016-06-15 16:32:56.321\n",
              "15   zoom   Navigation 2016-06-15 16:32:57.722\n",
              "16    pan   Navigation 2016-06-15 16:33:01.853\n",
              "17   zoom   Navigation 2016-06-15 16:33:03.890\n",
              "18   zoom   Navigation 2016-06-15 16:33:04.659\n",
              "19    pan     Foraging 2016-06-15 16:33:06.053\n",
              "20   zoom     Foraging 2016-06-15 16:33:07.788\n",
              "21    pan     Foraging 2016-06-15 16:33:09.341\n",
              "22   zoom   Navigation 2016-06-15 16:33:10.308\n",
              "23    pan   Navigation 2016-06-15 16:33:15.626\n",
              "24    pan   Navigation 2016-06-15 16:33:27.529\n",
              "25   zoom   Navigation 2016-06-15 16:33:28.315\n",
              "26   zoom   Navigation 2016-06-15 16:33:29.052\n",
              "27   zoom   Navigation 2016-06-15 16:33:29.635\n",
              "28    pan     Foraging 2016-06-15 16:33:33.742\n",
              "29   zoom     Foraging 2016-06-15 16:33:34.997\n",
              "30    pan     Foraging 2016-06-15 16:33:41.342\n",
              "31   zoom     Foraging 2016-06-15 16:33:42.450\n",
              "32   zoom   Navigation 2016-06-15 16:33:43.491\n",
              "33   zoom   Navigation 2016-06-15 16:33:44.323\n",
              "34    pan  Sensemaking 2016-06-15 16:33:48.543\n",
              "35    pan  Sensemaking 2016-06-15 16:33:49.667\n",
              "36    pan  Sensemaking 2016-06-15 16:33:51.937\n",
              "37    pan  Sensemaking 2016-06-15 16:33:54.434\n",
              "38    pan  Sensemaking 2016-06-15 16:33:57.875\n",
              "39    pan  Sensemaking 2016-06-15 16:34:01.966\n",
              "40   zoom   Navigation 2016-06-15 16:34:08.211\n",
              "41   zoom   Navigation 2016-06-15 16:34:09.243\n",
              "42   zoom   Navigation 2016-06-15 16:34:09.586\n",
              "43   zoom   Navigation 2016-06-15 16:34:10.051\n",
              "44    pan     Foraging 2016-06-15 16:34:13.312\n",
              "45    pan     Foraging 2016-06-15 16:34:18.093\n",
              "46    pan     Foraging 2016-06-15 16:34:19.552\n",
              "47   zoom   Navigation 2016-06-15 16:34:21.162\n",
              "48   zoom   Navigation 2016-06-15 16:34:21.788\n",
              "49    pan   Navigation 2016-06-15 16:34:23.087\n",
              "50   zoom   Navigation 2016-06-15 16:34:24.018\n",
              "51   zoom   Navigation 2016-06-15 16:34:24.895\n",
              "52    pan  Sensemaking 2016-06-15 16:34:26.469\n",
              "53   zoom  Sensemaking 2016-06-15 16:34:28.298\n",
              "54    pan  Sensemaking 2016-06-15 16:34:29.976\n",
              "55   zoom  Sensemaking 2016-06-15 16:35:35.649"
            ]
          },
          "metadata": {},
          "execution_count": 32
        }
      ]
    },
    {
      "cell_type": "code",
      "metadata": {
        "colab": {
          "base_uri": "https://localhost:8080/"
        },
        "id": "dlW99WHfd3pY",
        "outputId": "1e33733a-d574-4e14-fc3a-6055eca193ef"
      },
      "source": [
        "for item in df.toFetch:\n",
        "  print (item)"
      ],
      "execution_count": null,
      "outputs": [
        {
          "output_type": "stream",
          "name": "stdout",
          "text": [
            "[{'dimindices': [0, 0], 'zoom': [0], 'name': 'zoom_0_pos_0_0'}]\n",
            "[{'dimindices': [0, 0], 'zoom': [1], 'name': 'zoom_1_pos_0_0'}, {'dimindices': [1, 0], 'zoom': [1], 'name': 'zoom_1_pos_1_0'}, {'dimindices': [0, 1], 'zoom': [1], 'name': 'zoom_1_pos_0_1'}, {'dimindices': [1, 1], 'zoom': [1], 'name': 'zoom_1_pos_1_1'}]\n",
            "[]\n",
            "[{'dimindices': [0, 2], 'zoom': [1], 'name': 'zoom_1_pos_0_2'}, {'dimindices': [1, 2], 'zoom': [1], 'name': 'zoom_1_pos_1_2'}]\n",
            "[{'dimindices': [0, 0], 'zoom': [1], 'name': 'zoom_1_pos_0_0'}, {'dimindices': [1, 0], 'zoom': [1], 'name': 'zoom_1_pos_1_0'}]\n",
            "[]\n",
            "[{'dimindices': [0, 2], 'zoom': [2], 'name': 'zoom_2_pos_0_2'}, {'dimindices': [1, 2], 'zoom': [2], 'name': 'zoom_2_pos_1_2'}, {'dimindices': [0, 3], 'zoom': [2], 'name': 'zoom_2_pos_0_3'}, {'dimindices': [1, 3], 'zoom': [2], 'name': 'zoom_2_pos_1_3'}]\n",
            "[{'dimindices': [1, 4], 'zoom': [3], 'name': 'zoom_3_pos_1_4'}, {'dimindices': [2, 4], 'zoom': [3], 'name': 'zoom_3_pos_2_4'}, {'dimindices': [1, 5], 'zoom': [3], 'name': 'zoom_3_pos_1_5'}, {'dimindices': [2, 5], 'zoom': [3], 'name': 'zoom_3_pos_2_5'}]\n",
            "[{'dimindices': [4, 8], 'zoom': [4], 'name': 'zoom_4_pos_4_8'}, {'dimindices': [5, 8], 'zoom': [4], 'name': 'zoom_4_pos_5_8'}, {'dimindices': [4, 9], 'zoom': [4], 'name': 'zoom_4_pos_4_9'}, {'dimindices': [5, 9], 'zoom': [4], 'name': 'zoom_4_pos_5_9'}]\n",
            "[{'dimindices': [9, 17], 'zoom': [5], 'name': 'zoom_5_pos_9_17'}, {'dimindices': [10, 17], 'zoom': [5], 'name': 'zoom_5_pos_10_17'}, {'dimindices': [9, 18], 'zoom': [5], 'name': 'zoom_5_pos_9_18'}, {'dimindices': [10, 18], 'zoom': [5], 'name': 'zoom_5_pos_10_18'}]\n",
            "[{'dimindices': [4, 8], 'zoom': [4], 'name': 'zoom_4_pos_4_8'}, {'dimindices': [5, 8], 'zoom': [4], 'name': 'zoom_4_pos_5_8'}, {'dimindices': [4, 9], 'zoom': [4], 'name': 'zoom_4_pos_4_9'}, {'dimindices': [5, 9], 'zoom': [4], 'name': 'zoom_4_pos_5_9'}]\n",
            "[{'dimindices': [1, 4], 'zoom': [3], 'name': 'zoom_3_pos_1_4'}, {'dimindices': [2, 4], 'zoom': [3], 'name': 'zoom_3_pos_2_4'}, {'dimindices': [1, 5], 'zoom': [3], 'name': 'zoom_3_pos_1_5'}, {'dimindices': [2, 5], 'zoom': [3], 'name': 'zoom_3_pos_2_5'}]\n",
            "[{'dimindices': [0, 2], 'zoom': [2], 'name': 'zoom_2_pos_0_2'}, {'dimindices': [1, 2], 'zoom': [2], 'name': 'zoom_2_pos_1_2'}, {'dimindices': [0, 3], 'zoom': [2], 'name': 'zoom_2_pos_0_3'}, {'dimindices': [1, 3], 'zoom': [2], 'name': 'zoom_2_pos_1_3'}]\n",
            "[{'dimindices': [0, 0], 'zoom': [1], 'name': 'zoom_1_pos_0_0'}, {'dimindices': [1, 0], 'zoom': [1], 'name': 'zoom_1_pos_1_0'}, {'dimindices': [0, 1], 'zoom': [1], 'name': 'zoom_1_pos_0_1'}, {'dimindices': [1, 1], 'zoom': [1], 'name': 'zoom_1_pos_1_1'}]\n",
            "[]\n",
            "[{'dimindices': [0, 2], 'zoom': [2], 'name': 'zoom_2_pos_0_2'}, {'dimindices': [1, 2], 'zoom': [2], 'name': 'zoom_2_pos_1_2'}, {'dimindices': [0, 3], 'zoom': [2], 'name': 'zoom_2_pos_0_3'}, {'dimindices': [1, 3], 'zoom': [2], 'name': 'zoom_2_pos_1_3'}]\n",
            "[]\n",
            "[{'dimindices': [1, 4], 'zoom': [3], 'name': 'zoom_3_pos_1_4'}, {'dimindices': [2, 4], 'zoom': [3], 'name': 'zoom_3_pos_2_4'}, {'dimindices': [1, 5], 'zoom': [3], 'name': 'zoom_3_pos_1_5'}, {'dimindices': [2, 5], 'zoom': [3], 'name': 'zoom_3_pos_2_5'}]\n",
            "[{'dimindices': [4, 8], 'zoom': [4], 'name': 'zoom_4_pos_4_8'}, {'dimindices': [5, 8], 'zoom': [4], 'name': 'zoom_4_pos_5_8'}, {'dimindices': [4, 9], 'zoom': [4], 'name': 'zoom_4_pos_4_9'}, {'dimindices': [5, 9], 'zoom': [4], 'name': 'zoom_4_pos_5_9'}]\n",
            "[]\n",
            "[{'dimindices': [2, 3], 'zoom': [3], 'name': 'zoom_3_pos_2_3'}, {'dimindices': [3, 3], 'zoom': [3], 'name': 'zoom_3_pos_3_3'}, {'dimindices': [2, 4], 'zoom': [3], 'name': 'zoom_3_pos_2_4'}, {'dimindices': [3, 4], 'zoom': [3], 'name': 'zoom_3_pos_3_4'}]\n",
            "[{'dimindices': [2, 5], 'zoom': [3], 'name': 'zoom_3_pos_2_5'}, {'dimindices': [3, 5], 'zoom': [3], 'name': 'zoom_3_pos_3_5'}]\n",
            "[{'dimindices': [4, 8], 'zoom': [4], 'name': 'zoom_4_pos_4_8'}, {'dimindices': [5, 8], 'zoom': [4], 'name': 'zoom_4_pos_5_8'}, {'dimindices': [4, 9], 'zoom': [4], 'name': 'zoom_4_pos_4_9'}, {'dimindices': [5, 9], 'zoom': [4], 'name': 'zoom_4_pos_5_9'}]\n",
            "[]\n",
            "[]\n",
            "[{'dimindices': [9, 17], 'zoom': [5], 'name': 'zoom_5_pos_9_17'}, {'dimindices': [10, 17], 'zoom': [5], 'name': 'zoom_5_pos_10_17'}, {'dimindices': [9, 18], 'zoom': [5], 'name': 'zoom_5_pos_9_18'}, {'dimindices': [10, 18], 'zoom': [5], 'name': 'zoom_5_pos_10_18'}]\n",
            "[{'dimindices': [4, 8], 'zoom': [4], 'name': 'zoom_4_pos_4_8'}, {'dimindices': [5, 8], 'zoom': [4], 'name': 'zoom_4_pos_5_8'}, {'dimindices': [4, 9], 'zoom': [4], 'name': 'zoom_4_pos_4_9'}, {'dimindices': [5, 9], 'zoom': [4], 'name': 'zoom_4_pos_5_9'}]\n",
            "[{'dimindices': [2, 4], 'zoom': [3], 'name': 'zoom_3_pos_2_4'}, {'dimindices': [3, 4], 'zoom': [3], 'name': 'zoom_3_pos_3_4'}, {'dimindices': [2, 5], 'zoom': [3], 'name': 'zoom_3_pos_2_5'}, {'dimindices': [3, 5], 'zoom': [3], 'name': 'zoom_3_pos_3_5'}]\n",
            "[]\n",
            "[{'dimindices': [4, 8], 'zoom': [4], 'name': 'zoom_4_pos_4_8'}, {'dimindices': [5, 8], 'zoom': [4], 'name': 'zoom_4_pos_5_8'}, {'dimindices': [4, 9], 'zoom': [4], 'name': 'zoom_4_pos_4_9'}, {'dimindices': [5, 9], 'zoom': [4], 'name': 'zoom_4_pos_5_9'}]\n",
            "[]\n",
            "[{'dimindices': [2, 4], 'zoom': [3], 'name': 'zoom_3_pos_2_4'}, {'dimindices': [3, 4], 'zoom': [3], 'name': 'zoom_3_pos_3_4'}, {'dimindices': [2, 5], 'zoom': [3], 'name': 'zoom_3_pos_2_5'}, {'dimindices': [3, 5], 'zoom': [3], 'name': 'zoom_3_pos_3_5'}]\n",
            "[{'dimindices': [4, 8], 'zoom': [4], 'name': 'zoom_4_pos_4_8'}, {'dimindices': [5, 8], 'zoom': [4], 'name': 'zoom_4_pos_5_8'}, {'dimindices': [4, 9], 'zoom': [4], 'name': 'zoom_4_pos_4_9'}, {'dimindices': [5, 9], 'zoom': [4], 'name': 'zoom_4_pos_5_9'}]\n",
            "[{'dimindices': [10, 17], 'zoom': [5], 'name': 'zoom_5_pos_10_17'}, {'dimindices': [11, 17], 'zoom': [5], 'name': 'zoom_5_pos_11_17'}, {'dimindices': [10, 18], 'zoom': [5], 'name': 'zoom_5_pos_10_18'}, {'dimindices': [11, 18], 'zoom': [5], 'name': 'zoom_5_pos_11_18'}]\n",
            "[]\n",
            "[]\n",
            "[]\n",
            "[{'dimindices': [10, 19], 'zoom': [5], 'name': 'zoom_5_pos_10_19'}, {'dimindices': [11, 19], 'zoom': [5], 'name': 'zoom_5_pos_11_19'}]\n",
            "[{'dimindices': [10, 17], 'zoom': [5], 'name': 'zoom_5_pos_10_17'}, {'dimindices': [11, 17], 'zoom': [5], 'name': 'zoom_5_pos_11_17'}]\n",
            "[{'dimindices': [9, 16], 'zoom': [5], 'name': 'zoom_5_pos_9_16'}, {'dimindices': [10, 16], 'zoom': [5], 'name': 'zoom_5_pos_10_16'}, {'dimindices': [9, 17], 'zoom': [5], 'name': 'zoom_5_pos_9_17'}]\n",
            "[{'dimindices': [4, 8], 'zoom': [4], 'name': 'zoom_4_pos_4_8'}, {'dimindices': [5, 8], 'zoom': [4], 'name': 'zoom_4_pos_5_8'}, {'dimindices': [4, 9], 'zoom': [4], 'name': 'zoom_4_pos_4_9'}, {'dimindices': [5, 9], 'zoom': [4], 'name': 'zoom_4_pos_5_9'}]\n",
            "[{'dimindices': [2, 3], 'zoom': [3], 'name': 'zoom_3_pos_2_3'}, {'dimindices': [3, 3], 'zoom': [3], 'name': 'zoom_3_pos_3_3'}, {'dimindices': [2, 4], 'zoom': [3], 'name': 'zoom_3_pos_2_4'}, {'dimindices': [3, 4], 'zoom': [3], 'name': 'zoom_3_pos_3_4'}]\n",
            "[{'dimindices': [1, 2], 'zoom': [2], 'name': 'zoom_2_pos_1_2'}, {'dimindices': [2, 2], 'zoom': [2], 'name': 'zoom_2_pos_2_2'}, {'dimindices': [1, 3], 'zoom': [2], 'name': 'zoom_2_pos_1_3'}, {'dimindices': [2, 3], 'zoom': [2], 'name': 'zoom_2_pos_2_3'}]\n",
            "[{'dimindices': [0, 0], 'zoom': [1], 'name': 'zoom_1_pos_0_0'}, {'dimindices': [1, 0], 'zoom': [1], 'name': 'zoom_1_pos_1_0'}, {'dimindices': [0, 1], 'zoom': [1], 'name': 'zoom_1_pos_0_1'}, {'dimindices': [1, 1], 'zoom': [1], 'name': 'zoom_1_pos_1_1'}]\n",
            "[{'dimindices': [0, 2], 'zoom': [1], 'name': 'zoom_1_pos_0_2'}, {'dimindices': [1, 2], 'zoom': [1], 'name': 'zoom_1_pos_1_2'}]\n",
            "[{'dimindices': [0, 0], 'zoom': [1], 'name': 'zoom_1_pos_0_0'}, {'dimindices': [1, 0], 'zoom': [1], 'name': 'zoom_1_pos_1_0'}]\n",
            "[]\n",
            "[{'dimindices': [0, 1], 'zoom': [2], 'name': 'zoom_2_pos_0_1'}, {'dimindices': [1, 1], 'zoom': [2], 'name': 'zoom_2_pos_1_1'}, {'dimindices': [0, 2], 'zoom': [2], 'name': 'zoom_2_pos_0_2'}, {'dimindices': [1, 2], 'zoom': [2], 'name': 'zoom_2_pos_1_2'}]\n",
            "[{'dimindices': [0, 3], 'zoom': [3], 'name': 'zoom_3_pos_0_3'}, {'dimindices': [1, 3], 'zoom': [3], 'name': 'zoom_3_pos_1_3'}, {'dimindices': [0, 4], 'zoom': [3], 'name': 'zoom_3_pos_0_4'}, {'dimindices': [1, 4], 'zoom': [3], 'name': 'zoom_3_pos_1_4'}]\n",
            "[]\n",
            "[{'dimindices': [2, 8], 'zoom': [4], 'name': 'zoom_4_pos_2_8'}, {'dimindices': [3, 8], 'zoom': [4], 'name': 'zoom_4_pos_3_8'}, {'dimindices': [2, 9], 'zoom': [4], 'name': 'zoom_4_pos_2_9'}, {'dimindices': [3, 9], 'zoom': [4], 'name': 'zoom_4_pos_3_9'}]\n",
            "[{'dimindices': [5, 17], 'zoom': [5], 'name': 'zoom_5_pos_5_17'}, {'dimindices': [6, 17], 'zoom': [5], 'name': 'zoom_5_pos_6_17'}, {'dimindices': [5, 18], 'zoom': [5], 'name': 'zoom_5_pos_5_18'}, {'dimindices': [6, 18], 'zoom': [5], 'name': 'zoom_5_pos_6_18'}]\n",
            "[]\n",
            "[{'dimindices': [2, 8], 'zoom': [4], 'name': 'zoom_4_pos_2_8'}, {'dimindices': [3, 8], 'zoom': [4], 'name': 'zoom_4_pos_3_8'}, {'dimindices': [2, 9], 'zoom': [4], 'name': 'zoom_4_pos_2_9'}, {'dimindices': [3, 9], 'zoom': [4], 'name': 'zoom_4_pos_3_9'}]\n",
            "[]\n",
            "[{'dimindices': [5, 16], 'zoom': [5], 'name': 'zoom_5_pos_5_16'}, {'dimindices': [6, 16], 'zoom': [5], 'name': 'zoom_5_pos_6_16'}, {'dimindices': [5, 17], 'zoom': [5], 'name': 'zoom_5_pos_5_17'}, {'dimindices': [6, 17], 'zoom': [5], 'name': 'zoom_5_pos_6_17'}]\n"
          ]
        }
      ]
    },
    {
      "cell_type": "code",
      "metadata": {
        "colab": {
          "base_uri": "https://localhost:8080/"
        },
        "id": "OQFknKINeW8A",
        "outputId": "d9a7adcc-816f-4ab9-aee4-4af47b8d96c2"
      },
      "source": [
        "toFetch"
      ],
      "execution_count": null,
      "outputs": [
        {
          "output_type": "execute_result",
          "data": {
            "text/plain": [
              "[  dimindices zoom            name\n",
              " 0     [0, 0]  [0]  zoom_0_pos_0_0,   dimindices zoom            name\n",
              " 0     [0, 0]  [0]  zoom_0_pos_0_0,   dimindices zoom            name\n",
              " 0     [0, 0]  [0]  zoom_0_pos_0_0,   dimindices zoom            name\n",
              " 0     [0, 0]  [0]  zoom_0_pos_0_0]"
            ]
          },
          "metadata": {},
          "execution_count": 50
        }
      ]
    },
    {
      "cell_type": "code",
      "metadata": {
        "colab": {
          "base_uri": "https://localhost:8080/",
          "height": 298
        },
        "id": "zlC1d8OFoPtk",
        "outputId": "9cd73a3c-e198-4501-b823-ee3b5194fbbe"
      },
      "source": [
        "import json\n",
        "from pandas.io.json import json_normalize\n",
        "normalized_json = json_normalize(df['taskname_ndsi-2d-subtask_userid_3abeecbe-327a-441e-be2a-0dd3763c1d45'])\n",
        "normalized_json.head(3 )\n"
      ],
      "execution_count": null,
      "outputs": [
        {
          "output_type": "stream",
          "name": "stderr",
          "text": [
            "/usr/local/lib/python3.7/dist-packages/ipykernel_launcher.py:3: FutureWarning: pandas.io.json.json_normalize is deprecated, use pandas.json_normalize instead\n",
            "  This is separate from the ipykernel package so we can avoid doing imports until\n"
          ]
        },
        {
          "output_type": "execute_result",
          "data": {
            "text/html": [
              "<div>\n",
              "<style scoped>\n",
              "    .dataframe tbody tr th:only-of-type {\n",
              "        vertical-align: middle;\n",
              "    }\n",
              "\n",
              "    .dataframe tbody tr th {\n",
              "        vertical-align: top;\n",
              "    }\n",
              "\n",
              "    .dataframe thead th {\n",
              "        text-align: right;\n",
              "    }\n",
              "</style>\n",
              "<table border=\"1\" class=\"dataframe\">\n",
              "  <thead>\n",
              "    <tr style=\"text-align: right;\">\n",
              "      <th></th>\n",
              "      <th>phase</th>\n",
              "      <th>toFetch</th>\n",
              "      <th>timestampMillis</th>\n",
              "      <th>interactionData.viewName</th>\n",
              "      <th>interactionData.interactionType</th>\n",
              "      <th>interactionData.state.newMids.1</th>\n",
              "      <th>interactionData.state.newMids.0</th>\n",
              "      <th>interactionData.state.oldMids.1</th>\n",
              "      <th>interactionData.state.oldMids.0</th>\n",
              "      <th>interactionData.state.newZoom</th>\n",
              "      <th>interactionData.state.oldZoom</th>\n",
              "      <th>interactionData.state.dragEnd</th>\n",
              "      <th>interactionData.state.dragStart</th>\n",
              "    </tr>\n",
              "  </thead>\n",
              "  <tbody>\n",
              "    <tr>\n",
              "      <th>0</th>\n",
              "      <td>Foraging</td>\n",
              "      <td>[{'dimindices': [0, 0], 'zoom': [0], 'name': '...</td>\n",
              "      <td>1466008254682</td>\n",
              "      <td>None</td>\n",
              "      <td>start</td>\n",
              "      <td>NaN</td>\n",
              "      <td>NaN</td>\n",
              "      <td>NaN</td>\n",
              "      <td>NaN</td>\n",
              "      <td>NaN</td>\n",
              "      <td>NaN</td>\n",
              "      <td>NaN</td>\n",
              "      <td>NaN</td>\n",
              "    </tr>\n",
              "    <tr>\n",
              "      <th>1</th>\n",
              "      <td>Foraging</td>\n",
              "      <td>[{'dimindices': [0, 0], 'zoom': [1], 'name': '...</td>\n",
              "      <td>1466008314487</td>\n",
              "      <td>heatmap</td>\n",
              "      <td>zoom</td>\n",
              "      <td>89.0</td>\n",
              "      <td>179.0</td>\n",
              "      <td>44.5</td>\n",
              "      <td>89.5</td>\n",
              "      <td>[1]</td>\n",
              "      <td>[0]</td>\n",
              "      <td>NaN</td>\n",
              "      <td>NaN</td>\n",
              "    </tr>\n",
              "    <tr>\n",
              "      <th>2</th>\n",
              "      <td>Foraging</td>\n",
              "      <td>[]</td>\n",
              "      <td>1466008316208</td>\n",
              "      <td>heatmap</td>\n",
              "      <td>pan</td>\n",
              "      <td>NaN</td>\n",
              "      <td>NaN</td>\n",
              "      <td>NaN</td>\n",
              "      <td>NaN</td>\n",
              "      <td>NaN</td>\n",
              "      <td>NaN</td>\n",
              "      <td>[360, 202.5]</td>\n",
              "      <td>[283, 71.5]</td>\n",
              "    </tr>\n",
              "  </tbody>\n",
              "</table>\n",
              "</div>"
            ],
            "text/plain": [
              "      phase  ... interactionData.state.dragStart\n",
              "0  Foraging  ...                             NaN\n",
              "1  Foraging  ...                             NaN\n",
              "2  Foraging  ...                     [283, 71.5]\n",
              "\n",
              "[3 rows x 13 columns]"
            ]
          },
          "metadata": {},
          "execution_count": 33
        }
      ]
    },
    {
      "cell_type": "code",
      "metadata": {
        "colab": {
          "base_uri": "https://localhost:8080/"
        },
        "id": "olu8Z5HZtl12",
        "outputId": "342cc4f3-a95b-4558-9c55-8b55bd409f76"
      },
      "source": [
        "normalized_json['toFetch']"
      ],
      "execution_count": null,
      "outputs": [
        {
          "output_type": "execute_result",
          "data": {
            "text/plain": [
              "0     [{'dimindices': [0, 0], 'zoom': [0], 'name': '...\n",
              "1     [{'dimindices': [0, 0], 'zoom': [1], 'name': '...\n",
              "2                                                    []\n",
              "3     [{'dimindices': [0, 2], 'zoom': [1], 'name': '...\n",
              "4     [{'dimindices': [0, 0], 'zoom': [1], 'name': '...\n",
              "5                                                    []\n",
              "6     [{'dimindices': [0, 2], 'zoom': [2], 'name': '...\n",
              "7     [{'dimindices': [1, 4], 'zoom': [3], 'name': '...\n",
              "8     [{'dimindices': [4, 8], 'zoom': [4], 'name': '...\n",
              "9     [{'dimindices': [9, 17], 'zoom': [5], 'name': ...\n",
              "10    [{'dimindices': [4, 8], 'zoom': [4], 'name': '...\n",
              "11    [{'dimindices': [1, 4], 'zoom': [3], 'name': '...\n",
              "12    [{'dimindices': [0, 2], 'zoom': [2], 'name': '...\n",
              "13    [{'dimindices': [0, 0], 'zoom': [1], 'name': '...\n",
              "14                                                   []\n",
              "15    [{'dimindices': [0, 2], 'zoom': [2], 'name': '...\n",
              "16                                                   []\n",
              "17    [{'dimindices': [1, 4], 'zoom': [3], 'name': '...\n",
              "18    [{'dimindices': [4, 8], 'zoom': [4], 'name': '...\n",
              "19                                                   []\n",
              "20    [{'dimindices': [2, 3], 'zoom': [3], 'name': '...\n",
              "21    [{'dimindices': [2, 5], 'zoom': [3], 'name': '...\n",
              "22    [{'dimindices': [4, 8], 'zoom': [4], 'name': '...\n",
              "23                                                   []\n",
              "24                                                   []\n",
              "25    [{'dimindices': [9, 17], 'zoom': [5], 'name': ...\n",
              "26    [{'dimindices': [4, 8], 'zoom': [4], 'name': '...\n",
              "27    [{'dimindices': [2, 4], 'zoom': [3], 'name': '...\n",
              "28                                                   []\n",
              "29    [{'dimindices': [4, 8], 'zoom': [4], 'name': '...\n",
              "30                                                   []\n",
              "31    [{'dimindices': [2, 4], 'zoom': [3], 'name': '...\n",
              "32    [{'dimindices': [4, 8], 'zoom': [4], 'name': '...\n",
              "33    [{'dimindices': [10, 17], 'zoom': [5], 'name':...\n",
              "34                                                   []\n",
              "35                                                   []\n",
              "36                                                   []\n",
              "37    [{'dimindices': [10, 19], 'zoom': [5], 'name':...\n",
              "38    [{'dimindices': [10, 17], 'zoom': [5], 'name':...\n",
              "39    [{'dimindices': [9, 16], 'zoom': [5], 'name': ...\n",
              "40    [{'dimindices': [4, 8], 'zoom': [4], 'name': '...\n",
              "41    [{'dimindices': [2, 3], 'zoom': [3], 'name': '...\n",
              "42    [{'dimindices': [1, 2], 'zoom': [2], 'name': '...\n",
              "43    [{'dimindices': [0, 0], 'zoom': [1], 'name': '...\n",
              "44    [{'dimindices': [0, 2], 'zoom': [1], 'name': '...\n",
              "45    [{'dimindices': [0, 0], 'zoom': [1], 'name': '...\n",
              "46                                                   []\n",
              "47    [{'dimindices': [0, 1], 'zoom': [2], 'name': '...\n",
              "48    [{'dimindices': [0, 3], 'zoom': [3], 'name': '...\n",
              "49                                                   []\n",
              "50    [{'dimindices': [2, 8], 'zoom': [4], 'name': '...\n",
              "51    [{'dimindices': [5, 17], 'zoom': [5], 'name': ...\n",
              "52                                                   []\n",
              "53    [{'dimindices': [2, 8], 'zoom': [4], 'name': '...\n",
              "54                                                   []\n",
              "55    [{'dimindices': [5, 16], 'zoom': [5], 'name': ...\n",
              "Name: toFetch, dtype: object"
            ]
          },
          "metadata": {},
          "execution_count": 36
        }
      ]
    },
    {
      "cell_type": "code",
      "metadata": {
        "colab": {
          "base_uri": "https://localhost:8080/",
          "height": 80
        },
        "id": "tjeNjcIdr8hb",
        "outputId": "3e55c148-0fc4-48a1-a929-766f221d1f9d"
      },
      "source": [
        "#get a pandas dataframe object from json file\n",
        "#df = pd.read_json(\"/content/interactions_data/zoom_0_pos_0_0.json\")\n",
        "import json\n",
        "import pandas as pd\n",
        "from pandas.io.json import json_normalize\n",
        "path= '/content/drive/Shareddrives/Colearning-Exploration/Dataset/forecache_interactions_2016/ndsi_2d_jsons/zoom_0_pos_0_0.json'\n",
        "with open(path) as project_file:    \n",
        "    data = json.load(project_file)  \n",
        "\n",
        "df_zoom = pd.json_normalize(data)\n",
        "df_zoom.head(5)"
      ],
      "execution_count": null,
      "outputs": [
        {
          "output_type": "execute_result",
          "data": {
            "text/html": [
              "<div>\n",
              "<style scoped>\n",
              "    .dataframe tbody tr th:only-of-type {\n",
              "        vertical-align: middle;\n",
              "    }\n",
              "\n",
              "    .dataframe tbody tr th {\n",
              "        vertical-align: top;\n",
              "    }\n",
              "\n",
              "    .dataframe thead th {\n",
              "        text-align: right;\n",
              "    }\n",
              "</style>\n",
              "<table border=\"1\" class=\"dataframe\">\n",
              "  <thead>\n",
              "    <tr style=\"text-align: right;\">\n",
              "      <th></th>\n",
              "      <th>dataTypes</th>\n",
              "      <th>columns</th>\n",
              "      <th>domains</th>\n",
              "      <th>attributes</th>\n",
              "      <th>id.dimindices</th>\n",
              "      <th>id.zoom</th>\n",
              "    </tr>\n",
              "  </thead>\n",
              "  <tbody>\n",
              "    <tr>\n",
              "      <th>0</th>\n",
              "      <td>[int, int, float, float, int, float, float, fl...</td>\n",
              "      <td>[[13, 14, 19, 20, 20, 21, 21, 21, 21, 22, 22, ...</td>\n",
              "      <td>[[13, 147], [14, 89], [0.40029, 0.953198], [0....</td>\n",
              "      <td>[longitude_e4, latitude_e4, ndsi, total_snow, ...</td>\n",
              "      <td>[0, 0]</td>\n",
              "      <td>[0]</td>\n",
              "    </tr>\n",
              "  </tbody>\n",
              "</table>\n",
              "</div>"
            ],
            "text/plain": [
              "                                           dataTypes  ... id.zoom\n",
              "0  [int, int, float, float, int, float, float, fl...  ...     [0]\n",
              "\n",
              "[1 rows x 6 columns]"
            ]
          },
          "metadata": {},
          "execution_count": 8
        }
      ]
    },
    {
      "cell_type": "code",
      "metadata": {
        "colab": {
          "base_uri": "https://localhost:8080/"
        },
        "id": "Xq_dZKVizMbv",
        "outputId": "a78ff627-2653-4f02-e5a1-03a220b47d71"
      },
      "source": [
        "df_zoom.domains"
      ],
      "execution_count": null,
      "outputs": [
        {
          "output_type": "execute_result",
          "data": {
            "text/plain": [
              "0    [[13, 147], [14, 89], [0.40029, 0.953198], [0....\n",
              "Name: domains, dtype: object"
            ]
          },
          "metadata": {},
          "execution_count": 46
        }
      ]
    }
  ]
}