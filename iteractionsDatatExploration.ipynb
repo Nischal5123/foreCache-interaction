{
  "nbformat": 4,
  "nbformat_minor": 0,
  "metadata": {
    "colab": {
      "name": "iteractionsDatatExploration.ipynb",
      "provenance": [],
      "collapsed_sections": [],
      "mount_file_id": "1JRtqe4nGw6Xevggo1Ks9pOrdhoGJS9hX",
      "authorship_tag": "ABX9TyMsEX+el3WbksgczToa9KDi"
    },
    "kernelspec": {
      "name": "python3",
      "display_name": "Python 3"
    },
    "language_info": {
      "name": "python"
    }
  },
  "cells": [
    {
      "cell_type": "code",
      "metadata": {
        "id": "m-8TXygTheni"
      },
      "source": [
        "#global path\n",
        "global_drive_path=\"/content/drive/MyDrive/ForeCache/interactions/\"\n",
        "          "
      ],
      "execution_count": 1,
      "outputs": []
    },
    {
      "cell_type": "code",
      "metadata": {
        "id": "7RO65cvBS4TL"
      },
      "source": [
        "import os\n",
        "import pandas as pd\n",
        "import json\n",
        "from pandas.io.json import json_normalize\n",
        "from tqdm import tqdm\n",
        "\n",
        "from statistics import mean\n",
        "#for reward\n",
        "import time\n",
        "import datetime\n",
        "\n",
        "pd.options.mode.chained_assignment = None  # default='warn'\n"
      ],
      "execution_count": 2,
      "outputs": []
    },
    {
      "cell_type": "code",
      "metadata": {
        "id": "XNXz63-kSlF_"
      },
      "source": [
        "def clean_files(filePath,fileName):\n",
        "\n",
        "  lastline = None\n",
        " # filePath=\"/content/drive/Shareddrives/Colearning-Exploration/Dataset/forecache_interactions_2016/forecache-interaction-analysis/forecache-interaction-analysis/interactions/taskname_ndsi-2d-subtask_userid_3abeecbe-327a-441e-be2a-0dd3763c1d45.txt\"\n",
        "  with open(filePath,\"r\") as f:\n",
        "      lineList = f.readlines()\n",
        "      lastline=lineList[-1]\n",
        "  with open(filePath,\"r\") as f, open(global_drive_path+\"cleanInteractions/cleanInteractions-ndsi-2d-task/\"+(str(fileName)+\".json\"),\"w\") as g:\n",
        "  #with open(filePath,\"r\") as f, open(global_drive_path+\"cleanInteractions/cleanInteractions-ndsi-3d-task/\"+(str(fileName)+\".json\"),\"w\") as g:\n",
        "  #os.makedirs(os.path.dirname(global_drive_path+\"cleanInteractions/cleanInteractions-rgb-hurricane-3d-task/\"+(str(fileName)+\".json\")))\n",
        "  #with open(filePath,\"r\") as f, open(global_drive_path+\"cleanInteractions/cleanInteractions-rgb-hurricane-3d-task/\"+(str(fileName)+\".json\"),\"w+\") as g:\n",
        "   \n",
        "      for i,line in enumerate(f,0):\n",
        "          if i == 0:\n",
        "              line = \"[\"+str(line)+\",\"\n",
        "              g.write(line)\n",
        "          elif line == lastline:            \n",
        "              g.write(line)\n",
        "              g.write(\"]\")\n",
        "          else:\n",
        "              line = str(line)+\",\"\n",
        "              g.write(line)\n",
        "          "
      ],
      "execution_count": 3,
      "outputs": []
    },
    {
      "cell_type": "code",
      "metadata": {
        "id": "Jvj6DoD6T5xL",
        "colab": {
          "base_uri": "https://localhost:8080/"
        },
        "outputId": "6edc5384-5d7f-41bb-95ea-6d145815c3d5"
      },
      "source": [
        "directory =(str(global_drive_path) +\"/ndsi-2d-task\")\n",
        "#directory =(str(global_drive_path) +\"/ndsi-3d-task\")\n",
        "#directory =(str(global_drive_path) +\"/rgb-hurricane-3d-task\")\n",
        "failed_files=[]\n",
        "for filename in os.listdir(directory):\n",
        "  try:\n",
        "    if filename.endswith(\".txt\"):\n",
        "        \n",
        "        filePath=(os.path.join(directory, filename))\n",
        "        print(filename)\n",
        "        name=os.path.splitext(filename)[0]\n",
        "        clean_files(filePath,name)\n",
        "    else:\n",
        "        continue\n",
        "  except OSError as err:\n",
        "    print(\"OS error: {0}\".format(err))\n",
        "    failed_files.append(filename)\n",
        "  except UnicodeDecodeError:\n",
        "    print(\"Unicode Error\")\n",
        "    failed_files.append(filename)\n",
        "  except BaseException as err:\n",
        "    failed_files.append(filename)\n",
        "    \n",
        "    raise\n"
      ],
      "execution_count": 4,
      "outputs": [
        {
          "output_type": "stream",
          "name": "stdout",
          "text": [
            "taskname_ndsi-2d-task_userid_72a8d170-77ae-400e-b2a5-de9e1d33a714.txt\n",
            "taskname_ndsi-2d-task_userid_ac5b65d7-f260-4534-9fae-d998b726ed32.txt\n",
            "taskname_ndsi-2d-task_userid_82316e37-1117-4663-84b4-ddb6455c83b2.txt\n",
            "taskname_ndsi-2d-task_userid_da52acdd-3cea-483c-86e5-2c2740d371aa.txt\n",
            "taskname_ndsi-2d-task_userid_d6555293-35c7-4c27-b522-38d67d2d1b1a.txt\n",
            "taskname_ndsi-2d-task_userid_ff56863b-0710-4a58-ad22-4bf2889c9bc0.txt\n",
            "taskname_ndsi-2d-task_userid_bc9f9425-e867-4876-a5d9-791229916767.txt\n",
            "taskname_ndsi-2d-task_userid_bda49380-37ad-41c5-a109-7fa198a7691a.txt\n",
            "taskname_ndsi-2d-task_userid_7d014c75-453b-4188-9e4e-fb086984896a.txt\n",
            "taskname_ndsi-2d-task_userid_8bf5b71b-dfd4-403f-8791-06427b26ccaf.txt\n",
            "taskname_ndsi-2d-task_userid_3abeecbe-327a-441e-be2a-0dd3763c1d45.txt\n",
            "taskname_ndsi-2d-task_userid_6d49fab8-273b-4a91-948b-ecd14556b049.txt\n",
            "taskname_ndsi-2d-task_userid_733a1ac5-0b01-485e-9b29-ac33932aa240.txt\n",
            "taskname_ndsi-2d-task_userid_e4221e48-0930-40db-af3c-f4de1ed87582.txt\n",
            "taskname_ndsi-2d-task_userid_44968286-f204-4ad6-a9b5-d95b38e97866.txt\n",
            "taskname_ndsi-2d-task_userid_954edb7c-4eae-47ab-9338-5c5c7eccac2d.txt\n",
            "taskname_ndsi-2d-task_userid_a6aab5f5-fdb6-41df-9fc6-221d70f8c6e8.txt\n",
            "taskname_ndsi-2d-task_userid_8b544d24-3274-4bb0-9719-fd2bccc87b02.txt\n",
            "taskname_ndsi-2d-task_userid_cd3ef507-e3e9-4edb-9222-90a69a9bf272.txt\n",
            "taskname_ndsi-2d-task_userid_93be0a02-3f7a-46c9-b526-aa956ed00856.txt\n"
          ]
        }
      ]
    },
    {
      "cell_type": "code",
      "metadata": {
        "id": "qiJITCuwYP2I"
      },
      "source": [
        "#directory =(str(global_drive_path) +\"/cleanInteractions//cleanInteractions-ndsi-3d-task\")\n",
        "directory =(str(global_drive_path) +\"/cleanInteractions//cleanInteractions-ndsi-2d-task\")\n",
        "#directory =(str(global_drive_path) +\"/cleanInteractions//cleanInteractions-rgb-hurricane-3d-task\")\n",
        "fileNames=[]\n",
        "for filename in os.listdir(directory):\n",
        "    if filename.endswith(\".json\"):\n",
        "        filePath=(os.path.join(directory, filename))\n",
        "        fileNames.append(filename)\n",
        "    else:\n",
        "        continue"
      ],
      "execution_count": 5,
      "outputs": []
    },
    {
      "cell_type": "code",
      "source": [
        "#  # SANITY CHECK !!! small view test\n",
        "#  df = pd.read_json(os.path.join(directory,fileNames[0]))\n",
        "#  df[:10]\n",
        "#  df.toFetch[:10]\n",
        "#  for i in range(len(df)):\n",
        "#   print(df.toFetch[i])\n"
      ],
      "metadata": {
        "id": "DEUYUWuAtfM5",
        "colab": {
          "base_uri": "https://localhost:8080/",
          "height": 235
        },
        "outputId": "974b8f76-1620-40a7-c10a-a22930800972"
      },
      "execution_count": 28,
      "outputs": [
        {
          "output_type": "stream",
          "name": "stdout",
          "text": [
            "{'dimindices': [0, 0], 'zoom': [0], 'name': 'zoom_0_pos_0_0'}\n",
            "{'dimindices': [0, 0], 'zoom': [1], 'name': 'zoom_1_pos_0_0'}\n"
          ]
        },
        {
          "output_type": "error",
          "ename": "IndexError",
          "evalue": "ignored",
          "traceback": [
            "\u001b[0;31m---------------------------------------------------------------------------\u001b[0m",
            "\u001b[0;31mIndexError\u001b[0m                                Traceback (most recent call last)",
            "\u001b[0;32m<ipython-input-28-236dac52e349>\u001b[0m in \u001b[0;36m<module>\u001b[0;34m()\u001b[0m\n\u001b[1;32m      4\u001b[0m \u001b[0mdf\u001b[0m\u001b[0;34m.\u001b[0m\u001b[0mtoFetch\u001b[0m\u001b[0;34m[\u001b[0m\u001b[0;34m:\u001b[0m\u001b[0;36m10\u001b[0m\u001b[0;34m]\u001b[0m\u001b[0;34m\u001b[0m\u001b[0;34m\u001b[0m\u001b[0m\n\u001b[1;32m      5\u001b[0m \u001b[0;32mfor\u001b[0m \u001b[0mi\u001b[0m \u001b[0;32min\u001b[0m \u001b[0mrange\u001b[0m\u001b[0;34m(\u001b[0m\u001b[0mlen\u001b[0m\u001b[0;34m(\u001b[0m\u001b[0mdf\u001b[0m\u001b[0;34m)\u001b[0m\u001b[0;34m)\u001b[0m\u001b[0;34m:\u001b[0m\u001b[0;34m\u001b[0m\u001b[0;34m\u001b[0m\u001b[0m\n\u001b[0;32m----> 6\u001b[0;31m  \u001b[0mprint\u001b[0m\u001b[0;34m(\u001b[0m\u001b[0mdf\u001b[0m\u001b[0;34m.\u001b[0m\u001b[0mtoFetch\u001b[0m\u001b[0;34m[\u001b[0m\u001b[0mi\u001b[0m\u001b[0;34m]\u001b[0m\u001b[0;34m[\u001b[0m\u001b[0;36m0\u001b[0m\u001b[0;34m]\u001b[0m\u001b[0;34m)\u001b[0m\u001b[0;34m\u001b[0m\u001b[0;34m\u001b[0m\u001b[0m\n\u001b[0m",
            "\u001b[0;31mIndexError\u001b[0m: list index out of range"
          ]
        }
      ]
    },
    {
      "cell_type": "code",
      "source": [
        "# # (pd.json_normalize(df.toFetch)).iloc[[0]][0][0]['name']\n",
        "# df = pd.read_json(os.path.join(directory,fileNames[0]))\n",
        "# ndsi=get_Ndsi(df)"
      ],
      "metadata": {
        "colab": {
          "base_uri": "https://localhost:8080/",
          "height": 35
        },
        "id": "rg9oaoKeHEX7",
        "outputId": "2ca1e39f-3842-4b61-f629-2b94e1cea59a"
      },
      "execution_count": 64,
      "outputs": [
        {
          "output_type": "execute_result",
          "data": {
            "text/plain": [
              "'zoom_0_pos_0_0'"
            ],
            "application/vnd.google.colaboratory.intrinsic+json": {
              "type": "string"
            }
          },
          "metadata": {},
          "execution_count": 64
        }
      ]
    },
    {
      "cell_type": "code",
      "metadata": {
        "id": "UaBB968jtY3k"
      },
      "source": [
        "import numpy as np\n",
        "import matplotlib.pyplot as plt\n",
        "def angle_between(p1, p2):\n",
        "    ang1 = np.arctan2(*p1[::-1])\n",
        "    ang2 = np.arctan2(*p2[::-1])\n",
        "    return np.rad2deg((ang1 - ang2) % (2 * np.pi))"
      ],
      "execution_count": 6,
      "outputs": []
    },
    {
      "cell_type": "code",
      "source": [
        "def get_Ndsi(dataframe):\n",
        "  zoom_files_global_path=\"/content/drive/MyDrive/ForeCache/ndsi_2d_jsons/ndsi_2d_jsons/\" \n",
        "  toFetchData=pd.json_normalize(dataframe.toFetch)\n",
        "  all_ndsi=[]\n",
        "  for i in range(len(toFetchData)):\n",
        "    current_row=toFetchData.iloc[i]\n",
        "    row_ndsi=[]\n",
        "    for j in range(len(current_row)):\n",
        "      current_column=current_row[j]\n",
        "      if current_column != None:\n",
        "        zoom_file_name=current_column['name']\n",
        "        path=zoom_files_global_path + str(zoom_file_name) +\".json\"\n",
        "        try:\n",
        "          with open(path) as data:    \n",
        "            d = json.load(data)  \n",
        "            df_zoom = pd.json_normalize(d)\n",
        "            if df_zoom.domains[0][2][0] != None:\n",
        "               column_mean_ndsi=mean(df_zoom.domains[0][2])\n",
        "            else:\n",
        "               column_mean_ndsi=0\n",
        "        except FileNotFoundError:\n",
        "          column_mean_ndsi=0\n",
        "          print(\"Zoom file not found\")\n",
        "      row_ndsi.append(column_mean_ndsi)\n",
        "    all_ndsi.append(mean(row_ndsi))\n",
        "  return all_ndsi"
      ],
      "metadata": {
        "id": "fQoOBeRwPTMc"
      },
      "execution_count": 13,
      "outputs": []
    },
    {
      "cell_type": "code",
      "metadata": {
        "id": "il69FBfLspUB"
      },
      "source": [
        "def get_Angle(df):\n",
        "  interactionData= pd.json_normalize(df.interactionData)\n",
        "  x1=[]\n",
        "  x2=[]\n",
        "  y1=[]\n",
        "  y2=[]\n",
        "  angle=[]\n",
        "  for i in range(len(interactionData['interactionType'])):\n",
        "    #handles if the interactiontype doesn't have a coordinate : if interactionType is zoom\n",
        "    if ((isinstance(interactionData['state.dragStart'][i], list) or isinstance(interactionData['state.dragEnd'][i], list) )==False):\n",
        "      \n",
        "      interactionData['state.dragStart'][i]=[0,0]\n",
        "      interactionData['state.dragEnd'][i]=[0,0]\n",
        "    #get between drag start and drag end\n",
        "    angle.append(angle_between(interactionData['state.dragStart'][i],interactionData['state.dragEnd'][i]))\n",
        "    #print(angle)\n",
        "\n",
        "    #this are to plot later on\n",
        "    x1.append(interactionData['state.dragStart'][i][0])\n",
        "    y1.append(interactionData['state.dragStart'][i][1])\n",
        "\n",
        "    x2.append(interactionData['state.dragEnd'][i][0])\n",
        "    y2.append(interactionData['state.dragEnd'][i][1])\n",
        "  return angle\n",
        "\n"
      ],
      "execution_count": 8,
      "outputs": []
    },
    {
      "cell_type": "code",
      "source": [
        "#to generate reward based on radiclick and snapshot data \n",
        "def get_Reward(dataframe,filenamed):\n",
        "  #global path\n",
        "  reward=[]\n",
        "  subtask=[]\n",
        "  raw_timestamp= dataframe.timestampMillis\n",
        "  snapshot_global_drive_path=\"/content/drive/MyDrive/ForeCache/forecache_user_study_data_dump/forecache_user_study_data_dump\"\n",
        "  #get a pandas dataframe object from json file\n",
        "  path= snapshot_global_drive_path + \"/snapshots.json\"\n",
        "  with open(path) as project_file:    \n",
        "      data = json.load(project_file) \n",
        "  df_snapshots = pd.json_normalize(data)\n",
        "\n",
        "  #get userid from fileName\n",
        "  #filenamed[filenamed.find(\"userid_\")+7: filenamed.find(\".csv\")] need to remove  hard code later\n",
        "  dataframe_dimension=df_snapshots.loc[(df_snapshots['taskname']==\"ndsi-2d-task\") & (df_snapshots['userid']==filenamed[filenamed.find(\"userid_\")+7: filenamed.find(\".json\")])] #change here for different Task name 2d, 3d\n",
        "  print(\"There are \", len(dataframe_dimension) , \"Snapshot times\")\n",
        "  for i in tqdm(range(len(raw_timestamp))):\n",
        "      stringmyDate=str(raw_timestamp[i])\n",
        "      myDate=stringmyDate[: stringmyDate.find(\".\")]\n",
        "      dt = datetime.datetime.strptime(myDate, \"%Y-%m-%d %H:%M:%S\")\n",
        "      a=time.mktime(dt.timetuple()) + (dt.microsecond / 1000000.0)\n",
        "      temp=0\n",
        "      task=1\n",
        "      for j in range(len(dataframe_dimension[\"timestampMillis\"])):\n",
        "\n",
        "\n",
        "        if abs(a - (dataframe_dimension.timestampMillis.iloc[j]/1000)) < 10:\n",
        "          temp=temp+10\n",
        "        else:\n",
        "         temp=temp+0\n",
        "        if (a - (dataframe_dimension.timestampMillis.iloc[j]/1000)) < 0:\n",
        "          task=task\n",
        "        else:\n",
        "          task=task+1\n",
        "      subtask.append(task)\n",
        "      reward.append(temp)\n",
        "  return reward, subtask\n",
        "    "
      ],
      "metadata": {
        "id": "V4y5GzZYJ6eB"
      },
      "execution_count": 9,
      "outputs": []
    },
    {
      "cell_type": "code",
      "source": [
        "def get_Zoom(df_zoom):\n",
        "  df_zoom['state.newZoom'] = df_zoom['state.newZoom'].replace(np.nan, 0)\n",
        "  lastZoom=[0,0]\n",
        "  zoom_level=[]\n",
        "  for i in tqdm(range(len(df_zoom))):\n",
        "    if df_zoom['state.newZoom'][i]==0:\n",
        "      if (lastZoom!=[0,0]):\n",
        "          df_zoom['state.newZoom'][i]=lastZoom\n",
        "      else:\n",
        "        df_zoom['state.newZoom'][i]= [0,0]\n",
        "        lastZoom= [0,0]\n",
        "    else:\n",
        "      lastZoom = df_zoom['state.newZoom'][i]\n",
        "    zoom_level.append(df_zoom['state.newZoom'][i][0])\n",
        "  return zoom_level"
      ],
      "metadata": {
        "id": "-kUjWJ6JwYrC"
      },
      "execution_count": 10,
      "outputs": []
    },
    {
      "cell_type": "code",
      "source": [
        "def get_IdleTime(df):\n",
        "  idle_time=[]\n",
        "  previous_time=df['timestampMillis'][0]\n",
        "  for i in tqdm(range(len(df))):\n",
        "      wait_time=df['timestampMillis'][i]-previous_time\n",
        "      previous_time=df['timestampMillis'][i]\n",
        "\n",
        "\n",
        "      #fixing format\n",
        "      idle_time.append(wait_time.total_seconds())\n",
        "  return idle_time"
      ],
      "metadata": {
        "id": "rO2eqykcD3P_"
      },
      "execution_count": 11,
      "outputs": []
    },
    {
      "cell_type": "code",
      "source": [
        "import heapq\n",
        "def get_Subset_Idletime(idle_time):\n",
        "  subset_idle_time=[]\n",
        "  largest_indexes=heapq.nlargest(2, range(len(idle_time)), key=idle_time.__getitem__)\n",
        "  second_max_index=largest_indexes[1]\n",
        "  for j in tqdm(range(len(idle_time))):\n",
        "    if (j<= second_max_index):\n",
        "      subset_idle_time.append(1)\n",
        "    else:\n",
        "      subset_idle_time.append(2)\n",
        "  return subset_idle_time"
      ],
      "metadata": {
        "id": "cIR9VPrq5nmo"
      },
      "execution_count": 12,
      "outputs": []
    },
    {
      "cell_type": "code",
      "source": [
        "def get_State(df_state):\n",
        "  states_array=[]\n",
        "  for i in range(len(df_state)):\n",
        "    if pd.isna(df_state.phase[i]):\n",
        "      states_array.append('Answering')\n",
        "    else:\n",
        "      states_array.append(df_state.phase[i])\n",
        "  return states_array"
      ],
      "metadata": {
        "id": "chEn5X6f0Mta"
      },
      "execution_count": 14,
      "outputs": []
    },
    {
      "cell_type": "code",
      "source": [
        "# from collections import defaultdict\n",
        "# probabilities=[]\n",
        "# states_actions=[]\n",
        "# _map = defaultdict(int)\n",
        "# states=['Answering','SenseMaking','Foraging','Navigation']\n",
        "# actions=['start','pan','zoom','radioClick']\n",
        "# for state in states:\n",
        "#   for action in actions:\n",
        "#     states_actions.append(state+action)\n",
        "#     _map[state+action]=1\n"
      ],
      "metadata": {
        "id": "aSjcO1HvoqLi"
      },
      "execution_count": null,
      "outputs": []
    },
    {
      "cell_type": "code",
      "source": [
        "from collections import defaultdict\n",
        "def get_probabilities(df):\n",
        "    probabilities=[]\n",
        "    map=dict()\n",
        "\n",
        "    states=['Answering','Sensemaking','Foraging','Navigation']\n",
        "    actions=['start','pan','zoom','radioClick']\n",
        "    for state in states:\n",
        "      for action in actions:\n",
        "        map[state+action]=1\n",
        "\n",
        "\n",
        "    for i in range(len(df)):\n",
        "      #print(str(df['State'][i]+df['Action']))\n",
        "      if df['State'][i]==\"Navigation\":\n",
        "        map[str(df['State'][i]+df['Action'][i])] += 1\n",
        "        probs = (map[str(df['State'][i]+df['Action'][i])])/(map['Navigationpan'] + map['NavigationradioClick']+ map['Navigationstart'] + map['Navigationzoom'])\n",
        "\n",
        "      elif df['State'][i]==\"Sensemaking\":\n",
        "        map[str(df['State'][i]+df['Action'][i])] += 1\n",
        "        probs = (map[str(df['State'][i]+df['Action'][i])])/(map['Sensemakingpan'] + map['SensemakingradioClick']+ map['Sensemakingstart'] + map['Sensemakingzoom'])\n",
        "      elif df['State'][i]==\"Foraging\":\n",
        "        map[str(df['State'][i]+df['Action'][i])] += 1\n",
        "        probs = (map[str(df['State'][i]+df['Action'][i])])/(map['Foragingpan'] + map['ForagingradioClick']+ map['Foragingstart'] + map['Foragingzoom'])\n",
        "      else:\n",
        "        map[str(df['State'][i]+df['Action'][i])] += 1\n",
        "        probs = (map[str(df['State'][i]+df['Action'][i])])/(map['Answeringpan'] + map['AnsweringradioClick']+ map['Answeringstart'] + map['Answeringzoom'])\n",
        "      probabilities.append(probs)\n",
        "    return probabilities"
      ],
      "metadata": {
        "id": "BVVMkz_YtrJY"
      },
      "execution_count": 15,
      "outputs": []
    },
    {
      "cell_type": "markdown",
      "source": [
        "MAIN FUNCTION THAT RETURNS THE COMPLETED FILE"
      ],
      "metadata": {
        "id": "OQHc1xG3LvB6"
      }
    },
    {
      "cell_type": "code",
      "metadata": {
        "colab": {
          "base_uri": "https://localhost:8080/"
        },
        "id": "fmDN-TjfYyI7",
        "outputId": "e10858bb-85f7-44ec-f416-72008319f875"
      },
      "source": [
        "error_files=[]\n",
        "\n",
        "for filename in tqdm(fileNames):\n",
        "  try:\n",
        "    #saveDir=(str(global_drive_path) +\"/stateActionModel/ndsi-2d\")\n",
        "    saveDir=(str(global_drive_path) +\"/stateActionModel/ndsi-2d\")\n",
        "    #saveDir=(str(global_drive_path) +\"/stateActionModel/rgb-hurricane-3d\")\n",
        "\n",
        "\n",
        "    #get a pandas dataframe object from json file\n",
        "    df = pd.read_json(os.path.join(directory,filename))\n",
        "    print(\"Read file:\",filename)\n",
        "    interactionData=pd.json_normalize(df.interactionData)\n",
        "    final_dataframe = pd.DataFrame(columns=['Action','State','TimeStamp','StateActionProbab','IdleTime','Reward','Subtask_Screenshot_Time','Subtask_Idle_Time','ZoomLevel','NDSI'])\n",
        "    final_dataframe['NDSI']= get_Ndsi(df)\t\n",
        "    final_dataframe['Action']=interactionData.interactionType\n",
        "    final_dataframe['State']=get_State(df)\n",
        "    final_dataframe['TimeStamp']=df.timestampMillis\n",
        "    final_dataframe['IdleTime']=get_IdleTime(df)\n",
        "    final_dataframe['Subtask_Idle_Time']= get_Subset_Idletime(final_dataframe['IdleTime'])\n",
        "    final_dataframe['Reward'],final_dataframe['Subtask_Screenshot_Time']= get_Reward(df,filename)\n",
        "    final_dataframe['Angle']= get_Angle(df)\n",
        "    final_dataframe['ZoomLevel']= get_Zoom(interactionData)\t\n",
        "    \n",
        "    #get probabilities\n",
        "    final_dataframe['StateActionProbab']=get_probabilities(final_dataframe)\n",
        "    txt_version= filename.replace(\"json\",\"csv\")\n",
        "    final_dataframe.to_csv(os.path.join(saveDir,txt_version), index=False)\n",
        "  except AttributeError:\n",
        "    print(\"AttributeError\")\n",
        "    error_files.append(filename)\n"
      ],
      "execution_count": 16,
      "outputs": [
        {
          "output_type": "stream",
          "name": "stderr",
          "text": [
            "\r  0%|          | 0/20 [00:00<?, ?it/s]"
          ]
        },
        {
          "output_type": "stream",
          "name": "stdout",
          "text": [
            "Read file: taskname_ndsi-2d-task_userid_72a8d170-77ae-400e-b2a5-de9e1d33a714.json\n",
            "Zoom file not found\n",
            "Zoom file not found\n",
            "Zoom file not found\n",
            "Zoom file not found\n",
            "Zoom file not found\n",
            "Zoom file not found\n",
            "Zoom file not found\n",
            "Zoom file not found\n",
            "Zoom file not found\n",
            "Zoom file not found\n",
            "Zoom file not found\n",
            "Zoom file not found\n",
            "Zoom file not found\n",
            "Zoom file not found\n"
          ]
        },
        {
          "output_type": "stream",
          "name": "stderr",
          "text": [
            "\n",
            "100%|██████████| 81/81 [00:00<00:00, 20985.77it/s]\n",
            "\n",
            "100%|██████████| 81/81 [00:00<00:00, 316330.19it/s]\n"
          ]
        },
        {
          "output_type": "stream",
          "name": "stdout",
          "text": [
            "There are  3 Snapshot times\n"
          ]
        },
        {
          "output_type": "stream",
          "name": "stderr",
          "text": [
            "\n",
            "100%|██████████| 81/81 [00:00<00:00, 4435.23it/s]\n",
            "\n",
            "100%|██████████| 81/81 [00:00<00:00, 3227.00it/s]\n",
            "  5%|▌         | 1/20 [00:01<00:29,  1.54s/it]"
          ]
        },
        {
          "output_type": "stream",
          "name": "stdout",
          "text": [
            "Read file: taskname_ndsi-2d-task_userid_ac5b65d7-f260-4534-9fae-d998b726ed32.json\n",
            "Zoom file not found\n",
            "Zoom file not found\n",
            "Zoom file not found\n",
            "Zoom file not found\n",
            "Zoom file not found\n",
            "Zoom file not found\n",
            "Zoom file not found\n",
            "Zoom file not found\n",
            "Zoom file not found\n",
            "Zoom file not found\n",
            "Zoom file not found\n",
            "Zoom file not found\n",
            "Zoom file not found\n",
            "Zoom file not found\n",
            "Zoom file not found\n",
            "Zoom file not found\n",
            "Zoom file not found\n",
            "Zoom file not found\n",
            "Zoom file not found\n",
            "Zoom file not found\n",
            "Zoom file not found\n",
            "Zoom file not found\n",
            "Zoom file not found\n",
            "Zoom file not found\n",
            "Zoom file not found\n",
            "Zoom file not found\n",
            "Zoom file not found\n",
            "Zoom file not found\n",
            "Zoom file not found\n",
            "Zoom file not found\n",
            "Zoom file not found\n",
            "Zoom file not found\n"
          ]
        },
        {
          "output_type": "stream",
          "name": "stderr",
          "text": [
            "\n",
            "100%|██████████| 112/112 [00:00<00:00, 10108.28it/s]\n",
            "\n",
            "100%|██████████| 112/112 [00:00<00:00, 484790.56it/s]\n"
          ]
        },
        {
          "output_type": "stream",
          "name": "stdout",
          "text": [
            "There are  3 Snapshot times\n"
          ]
        },
        {
          "output_type": "stream",
          "name": "stderr",
          "text": [
            "\n",
            "100%|██████████| 112/112 [00:00<00:00, 3608.39it/s]\n",
            "\n",
            "100%|██████████| 112/112 [00:00<00:00, 3191.12it/s]\n",
            " 10%|█         | 2/20 [00:04<00:44,  2.44s/it]"
          ]
        },
        {
          "output_type": "stream",
          "name": "stdout",
          "text": [
            "Read file: taskname_ndsi-2d-task_userid_d6555293-35c7-4c27-b522-38d67d2d1b1a.json\n",
            "Zoom file not found\n",
            "Zoom file not found\n",
            "Zoom file not found\n",
            "Zoom file not found\n",
            "Zoom file not found\n",
            "Zoom file not found\n",
            "Zoom file not found\n",
            "Zoom file not found\n",
            "Zoom file not found\n",
            "Zoom file not found\n",
            "Zoom file not found\n",
            "Zoom file not found\n",
            "Zoom file not found\n",
            "Zoom file not found\n",
            "Zoom file not found\n",
            "Zoom file not found\n",
            "Zoom file not found\n",
            "Zoom file not found\n",
            "Zoom file not found\n"
          ]
        },
        {
          "output_type": "stream",
          "name": "stderr",
          "text": [
            "\n",
            "100%|██████████| 82/82 [00:00<00:00, 8262.85it/s]\n",
            "\n",
            "100%|██████████| 82/82 [00:00<00:00, 394871.33it/s]\n"
          ]
        },
        {
          "output_type": "stream",
          "name": "stdout",
          "text": [
            "There are  3 Snapshot times\n"
          ]
        },
        {
          "output_type": "stream",
          "name": "stderr",
          "text": [
            "\n",
            "100%|██████████| 82/82 [00:00<00:00, 4910.87it/s]\n",
            "\n",
            "100%|██████████| 82/82 [00:00<00:00, 2369.78it/s]\n",
            " 15%|█▌        | 3/20 [00:06<00:40,  2.38s/it]"
          ]
        },
        {
          "output_type": "stream",
          "name": "stdout",
          "text": [
            "Read file: taskname_ndsi-2d-task_userid_da52acdd-3cea-483c-86e5-2c2740d371aa.json\n",
            "Zoom file not found\n",
            "Zoom file not found\n",
            "Zoom file not found\n",
            "Zoom file not found\n",
            "Zoom file not found\n",
            "Zoom file not found\n",
            "Zoom file not found\n",
            "Zoom file not found\n",
            "Zoom file not found\n",
            "Zoom file not found\n",
            "Zoom file not found\n",
            "Zoom file not found\n",
            "Zoom file not found\n",
            "Zoom file not found\n",
            "Zoom file not found\n",
            "Zoom file not found\n",
            "Zoom file not found\n",
            "Zoom file not found\n",
            "Zoom file not found\n",
            "Zoom file not found\n",
            "Zoom file not found\n",
            "Zoom file not found\n",
            "Zoom file not found\n",
            "Zoom file not found\n",
            "Zoom file not found\n",
            "Zoom file not found\n",
            "Zoom file not found\n",
            "Zoom file not found\n",
            "Zoom file not found\n",
            "Zoom file not found\n",
            "Zoom file not found\n",
            "Zoom file not found\n",
            "Zoom file not found\n",
            "Zoom file not found\n",
            "Zoom file not found\n"
          ]
        },
        {
          "output_type": "stream",
          "name": "stderr",
          "text": [
            "\n",
            "100%|██████████| 125/125 [00:00<00:00, 13081.36it/s]\n",
            "\n",
            "100%|██████████| 125/125 [00:00<00:00, 369477.10it/s]\n"
          ]
        },
        {
          "output_type": "stream",
          "name": "stdout",
          "text": [
            "There are  4 Snapshot times\n"
          ]
        },
        {
          "output_type": "stream",
          "name": "stderr",
          "text": [
            "\n",
            "100%|██████████| 125/125 [00:00<00:00, 3731.69it/s]\n",
            "\n",
            "100%|██████████| 125/125 [00:00<00:00, 5021.96it/s]\n",
            " 20%|██        | 4/20 [00:13<01:05,  4.08s/it]"
          ]
        },
        {
          "output_type": "stream",
          "name": "stdout",
          "text": [
            "Read file: taskname_ndsi-2d-task_userid_82316e37-1117-4663-84b4-ddb6455c83b2.json\n",
            "Zoom file not found\n",
            "Zoom file not found\n",
            "Zoom file not found\n",
            "Zoom file not found\n",
            "Zoom file not found\n",
            "Zoom file not found\n",
            "Zoom file not found\n",
            "Zoom file not found\n",
            "Zoom file not found\n",
            "Zoom file not found\n",
            "Zoom file not found\n",
            "Zoom file not found\n",
            "Zoom file not found\n",
            "Zoom file not found\n"
          ]
        },
        {
          "output_type": "stream",
          "name": "stderr",
          "text": [
            "\n",
            "100%|██████████| 49/49 [00:00<00:00, 17715.79it/s]\n",
            "\n",
            "100%|██████████| 49/49 [00:00<00:00, 278106.76it/s]\n"
          ]
        },
        {
          "output_type": "stream",
          "name": "stdout",
          "text": [
            "There are  3 Snapshot times\n"
          ]
        },
        {
          "output_type": "stream",
          "name": "stderr",
          "text": [
            "\n",
            "100%|██████████| 49/49 [00:00<00:00, 1479.82it/s]\n",
            "\n",
            "100%|██████████| 49/49 [00:00<00:00, 3328.65it/s]\n",
            " 25%|██▌       | 5/20 [00:15<00:46,  3.12s/it]"
          ]
        },
        {
          "output_type": "stream",
          "name": "stdout",
          "text": [
            "Read file: taskname_ndsi-2d-task_userid_ff56863b-0710-4a58-ad22-4bf2889c9bc0.json\n",
            "Zoom file not found\n",
            "Zoom file not found\n",
            "Zoom file not found\n",
            "Zoom file not found\n",
            "Zoom file not found\n",
            "Zoom file not found\n",
            "Zoom file not found\n",
            "Zoom file not found\n",
            "Zoom file not found\n",
            "Zoom file not found\n",
            "Zoom file not found\n",
            "Zoom file not found\n",
            "Zoom file not found\n",
            "Zoom file not found\n",
            "Zoom file not found\n",
            "Zoom file not found\n",
            "Zoom file not found\n",
            "Zoom file not found\n",
            "Zoom file not found\n",
            "Zoom file not found\n",
            "Zoom file not found\n",
            "Zoom file not found\n",
            "Zoom file not found\n",
            "Zoom file not found\n",
            "Zoom file not found\n",
            "Zoom file not found\n"
          ]
        },
        {
          "output_type": "stream",
          "name": "stderr",
          "text": [
            "\n",
            "100%|██████████| 176/176 [00:00<00:00, 12064.61it/s]\n",
            "\n",
            "100%|██████████| 176/176 [00:00<00:00, 680994.01it/s]\n"
          ]
        },
        {
          "output_type": "stream",
          "name": "stdout",
          "text": [
            "There are  3 Snapshot times\n"
          ]
        },
        {
          "output_type": "stream",
          "name": "stderr",
          "text": [
            "\n",
            "100%|██████████| 176/176 [00:00<00:00, 4187.90it/s]\n",
            "\n",
            "100%|██████████| 176/176 [00:00<00:00, 3803.98it/s]\n",
            " 30%|███       | 6/20 [00:20<00:56,  4.06s/it]"
          ]
        },
        {
          "output_type": "stream",
          "name": "stdout",
          "text": [
            "Read file: taskname_ndsi-2d-task_userid_bc9f9425-e867-4876-a5d9-791229916767.json\n",
            "Zoom file not found\n",
            "Zoom file not found\n",
            "Zoom file not found\n",
            "Zoom file not found\n",
            "Zoom file not found\n",
            "Zoom file not found\n",
            "Zoom file not found\n",
            "Zoom file not found\n"
          ]
        },
        {
          "output_type": "stream",
          "name": "stderr",
          "text": [
            "\n",
            "100%|██████████| 45/45 [00:00<00:00, 6592.74it/s]\n",
            "\n",
            "100%|██████████| 45/45 [00:00<00:00, 257143.98it/s]\n"
          ]
        },
        {
          "output_type": "stream",
          "name": "stdout",
          "text": [
            "There are  4 Snapshot times\n"
          ]
        },
        {
          "output_type": "stream",
          "name": "stderr",
          "text": [
            "\n",
            "100%|██████████| 45/45 [00:00<00:00, 2055.00it/s]\n",
            "\n",
            "100%|██████████| 45/45 [00:00<00:00, 3107.20it/s]\n",
            " 35%|███▌      | 7/20 [00:23<00:46,  3.55s/it]"
          ]
        },
        {
          "output_type": "stream",
          "name": "stdout",
          "text": [
            "Read file: taskname_ndsi-2d-task_userid_bda49380-37ad-41c5-a109-7fa198a7691a.json\n",
            "Zoom file not found\n",
            "Zoom file not found\n",
            "Zoom file not found\n",
            "Zoom file not found\n",
            "Zoom file not found\n",
            "Zoom file not found\n",
            "Zoom file not found\n",
            "Zoom file not found\n",
            "Zoom file not found\n",
            "Zoom file not found\n",
            "Zoom file not found\n",
            "Zoom file not found\n",
            "Zoom file not found\n",
            "Zoom file not found\n",
            "Zoom file not found\n",
            "Zoom file not found\n",
            "Zoom file not found\n",
            "Zoom file not found\n",
            "Zoom file not found\n",
            "Zoom file not found\n",
            "Zoom file not found\n",
            "Zoom file not found\n",
            "Zoom file not found\n",
            "Zoom file not found\n"
          ]
        },
        {
          "output_type": "stream",
          "name": "stderr",
          "text": [
            "\n",
            "100%|██████████| 129/129 [00:00<00:00, 20667.91it/s]\n",
            "\n",
            "100%|██████████| 129/129 [00:00<00:00, 573770.11it/s]\n"
          ]
        },
        {
          "output_type": "stream",
          "name": "stdout",
          "text": [
            "There are  4 Snapshot times\n"
          ]
        },
        {
          "output_type": "stream",
          "name": "stderr",
          "text": [
            "\n",
            "100%|██████████| 129/129 [00:00<00:00, 3378.68it/s]\n",
            "\n",
            "100%|██████████| 129/129 [00:00<00:00, 2933.38it/s]\n",
            " 40%|████      | 8/20 [00:25<00:37,  3.13s/it]"
          ]
        },
        {
          "output_type": "stream",
          "name": "stdout",
          "text": [
            "Read file: taskname_ndsi-2d-task_userid_7d014c75-453b-4188-9e4e-fb086984896a.json\n",
            "Zoom file not found\n",
            "Zoom file not found\n",
            "Zoom file not found\n",
            "Zoom file not found\n",
            "Zoom file not found\n",
            "Zoom file not found\n",
            "Zoom file not found\n",
            "Zoom file not found\n",
            "Zoom file not found\n",
            "Zoom file not found\n",
            "Zoom file not found\n",
            "Zoom file not found\n",
            "Zoom file not found\n",
            "Zoom file not found\n",
            "Zoom file not found\n",
            "Zoom file not found\n",
            "Zoom file not found\n",
            "Zoom file not found\n",
            "Zoom file not found\n",
            "Zoom file not found\n",
            "Zoom file not found\n",
            "Zoom file not found\n",
            "Zoom file not found\n",
            "Zoom file not found\n",
            "Zoom file not found\n",
            "Zoom file not found\n",
            "Zoom file not found\n",
            "Zoom file not found\n",
            "Zoom file not found\n",
            "Zoom file not found\n",
            "Zoom file not found\n",
            "Zoom file not found\n",
            "Zoom file not found\n",
            "Zoom file not found\n",
            "Zoom file not found\n",
            "Zoom file not found\n"
          ]
        },
        {
          "output_type": "stream",
          "name": "stderr",
          "text": [
            "\n",
            "100%|██████████| 195/195 [00:00<00:00, 14149.84it/s]\n",
            "\n",
            "100%|██████████| 195/195 [00:00<00:00, 624342.96it/s]\n"
          ]
        },
        {
          "output_type": "stream",
          "name": "stdout",
          "text": [
            "There are  4 Snapshot times\n"
          ]
        },
        {
          "output_type": "stream",
          "name": "stderr",
          "text": [
            "\n",
            "100%|██████████| 195/195 [00:00<00:00, 3584.36it/s]\n",
            "\n",
            "100%|██████████| 195/195 [00:00<00:00, 3141.06it/s]\n",
            " 45%|████▌     | 9/20 [00:34<00:53,  4.84s/it]"
          ]
        },
        {
          "output_type": "stream",
          "name": "stdout",
          "text": [
            "Read file: taskname_ndsi-2d-task_userid_733a1ac5-0b01-485e-9b29-ac33932aa240.json\n",
            "Zoom file not found\n",
            "Zoom file not found\n",
            "Zoom file not found\n",
            "Zoom file not found\n",
            "Zoom file not found\n"
          ]
        },
        {
          "output_type": "stream",
          "name": "stderr",
          "text": [
            "\n",
            "100%|██████████| 43/43 [00:00<00:00, 6903.28it/s]\n",
            "\n",
            "100%|██████████| 43/43 [00:00<00:00, 189847.44it/s]\n"
          ]
        },
        {
          "output_type": "stream",
          "name": "stdout",
          "text": [
            "There are  3 Snapshot times\n"
          ]
        },
        {
          "output_type": "stream",
          "name": "stderr",
          "text": [
            "\n",
            "100%|██████████| 43/43 [00:00<00:00, 4074.07it/s]\n",
            "\n",
            "100%|██████████| 43/43 [00:00<00:00, 2595.90it/s]\n",
            " 50%|█████     | 10/20 [00:36<00:41,  4.16s/it]"
          ]
        },
        {
          "output_type": "stream",
          "name": "stdout",
          "text": [
            "Read file: taskname_ndsi-2d-task_userid_6d49fab8-273b-4a91-948b-ecd14556b049.json\n",
            "Zoom file not found\n",
            "Zoom file not found\n",
            "Zoom file not found\n",
            "Zoom file not found\n",
            "Zoom file not found\n",
            "Zoom file not found\n",
            "Zoom file not found\n",
            "Zoom file not found\n",
            "Zoom file not found\n",
            "Zoom file not found\n",
            "Zoom file not found\n",
            "Zoom file not found\n",
            "Zoom file not found\n",
            "Zoom file not found\n",
            "Zoom file not found\n",
            "Zoom file not found\n",
            "Zoom file not found\n",
            "Zoom file not found\n",
            "Zoom file not found\n",
            "Zoom file not found\n"
          ]
        },
        {
          "output_type": "stream",
          "name": "stderr",
          "text": [
            "\n",
            "100%|██████████| 76/76 [00:00<00:00, 14763.89it/s]\n",
            "\n",
            "100%|██████████| 76/76 [00:00<00:00, 316551.25it/s]\n"
          ]
        },
        {
          "output_type": "stream",
          "name": "stdout",
          "text": [
            "There are  3 Snapshot times\n"
          ]
        },
        {
          "output_type": "stream",
          "name": "stderr",
          "text": [
            "\n",
            "100%|██████████| 76/76 [00:00<00:00, 2808.30it/s]\n",
            "\n",
            "100%|██████████| 76/76 [00:00<00:00, 2894.70it/s]\n",
            " 55%|█████▌    | 11/20 [00:39<00:33,  3.68s/it]"
          ]
        },
        {
          "output_type": "stream",
          "name": "stdout",
          "text": [
            "Read file: taskname_ndsi-2d-task_userid_8bf5b71b-dfd4-403f-8791-06427b26ccaf.json\n",
            "Zoom file not found\n",
            "Zoom file not found\n",
            "Zoom file not found\n",
            "Zoom file not found\n",
            "Zoom file not found\n",
            "Zoom file not found\n",
            "Zoom file not found\n",
            "Zoom file not found\n",
            "Zoom file not found\n",
            "Zoom file not found\n",
            "Zoom file not found\n",
            "Zoom file not found\n",
            "Zoom file not found\n",
            "Zoom file not found\n",
            "Zoom file not found\n",
            "Zoom file not found\n",
            "Zoom file not found\n",
            "Zoom file not found\n",
            "Zoom file not found\n"
          ]
        },
        {
          "output_type": "stream",
          "name": "stderr",
          "text": [
            "\n",
            "100%|██████████| 81/81 [00:00<00:00, 6549.68it/s]\n",
            "\n",
            "100%|██████████| 81/81 [00:00<00:00, 382158.18it/s]\n"
          ]
        },
        {
          "output_type": "stream",
          "name": "stdout",
          "text": [
            "There are  3 Snapshot times\n"
          ]
        },
        {
          "output_type": "stream",
          "name": "stderr",
          "text": [
            "\n",
            "100%|██████████| 81/81 [00:00<00:00, 2995.17it/s]\n",
            "\n",
            "100%|██████████| 81/81 [00:00<00:00, 3908.77it/s]\n",
            " 60%|██████    | 12/20 [00:40<00:24,  3.02s/it]"
          ]
        },
        {
          "output_type": "stream",
          "name": "stdout",
          "text": [
            "Read file: taskname_ndsi-2d-task_userid_3abeecbe-327a-441e-be2a-0dd3763c1d45.json\n",
            "Zoom file not found\n",
            "Zoom file not found\n",
            "Zoom file not found\n",
            "Zoom file not found\n",
            "Zoom file not found\n",
            "Zoom file not found\n",
            "Zoom file not found\n",
            "Zoom file not found\n",
            "Zoom file not found\n",
            "Zoom file not found\n"
          ]
        },
        {
          "output_type": "stream",
          "name": "stderr",
          "text": [
            "\n",
            "100%|██████████| 37/37 [00:00<00:00, 14621.18it/s]\n",
            "\n",
            "100%|██████████| 37/37 [00:00<00:00, 259513.79it/s]\n"
          ]
        },
        {
          "output_type": "stream",
          "name": "stdout",
          "text": [
            "There are  3 Snapshot times\n"
          ]
        },
        {
          "output_type": "stream",
          "name": "stderr",
          "text": [
            "\n",
            "100%|██████████| 37/37 [00:00<00:00, 3157.46it/s]\n",
            "\n",
            "100%|██████████| 37/37 [00:00<00:00, 3426.27it/s]\n",
            " 65%|██████▌   | 13/20 [00:43<00:19,  2.75s/it]"
          ]
        },
        {
          "output_type": "stream",
          "name": "stdout",
          "text": [
            "Read file: taskname_ndsi-2d-task_userid_e4221e48-0930-40db-af3c-f4de1ed87582.json\n",
            "Zoom file not found\n",
            "Zoom file not found\n",
            "Zoom file not found\n",
            "Zoom file not found\n",
            "Zoom file not found\n",
            "Zoom file not found\n",
            "Zoom file not found\n",
            "Zoom file not found\n",
            "Zoom file not found\n"
          ]
        },
        {
          "output_type": "stream",
          "name": "stderr",
          "text": [
            "\n",
            "100%|██████████| 47/47 [00:00<00:00, 18418.41it/s]\n",
            "\n",
            "100%|██████████| 47/47 [00:00<00:00, 159750.64it/s]\n"
          ]
        },
        {
          "output_type": "stream",
          "name": "stdout",
          "text": [
            "There are  4 Snapshot times\n"
          ]
        },
        {
          "output_type": "stream",
          "name": "stderr",
          "text": [
            "\n",
            "100%|██████████| 47/47 [00:00<00:00, 3602.10it/s]\n",
            "\n",
            "100%|██████████| 47/47 [00:00<00:00, 2706.34it/s]\n",
            " 70%|███████   | 14/20 [00:44<00:13,  2.20s/it]"
          ]
        },
        {
          "output_type": "stream",
          "name": "stdout",
          "text": [
            "Read file: taskname_ndsi-2d-task_userid_44968286-f204-4ad6-a9b5-d95b38e97866.json\n",
            "Zoom file not found\n",
            "Zoom file not found\n",
            "Zoom file not found\n",
            "Zoom file not found\n",
            "Zoom file not found\n",
            "Zoom file not found\n",
            "Zoom file not found\n",
            "Zoom file not found\n",
            "Zoom file not found\n",
            "Zoom file not found\n",
            "Zoom file not found\n",
            "Zoom file not found\n",
            "Zoom file not found\n",
            "Zoom file not found\n",
            "Zoom file not found\n",
            "Zoom file not found\n",
            "Zoom file not found\n",
            "Zoom file not found\n",
            "Zoom file not found\n",
            "Zoom file not found\n",
            "Zoom file not found\n",
            "Zoom file not found\n"
          ]
        },
        {
          "output_type": "stream",
          "name": "stderr",
          "text": [
            "\n",
            "100%|██████████| 87/87 [00:00<00:00, 7394.96it/s]\n",
            "\n",
            "100%|██████████| 87/87 [00:00<00:00, 365635.72it/s]\n"
          ]
        },
        {
          "output_type": "stream",
          "name": "stdout",
          "text": [
            "There are  3 Snapshot times\n"
          ]
        },
        {
          "output_type": "stream",
          "name": "stderr",
          "text": [
            "\n",
            "100%|██████████| 87/87 [00:00<00:00, 3454.52it/s]\n",
            "\n",
            "100%|██████████| 87/87 [00:00<00:00, 2950.49it/s]\n",
            " 75%|███████▌  | 15/20 [00:47<00:13,  2.64s/it]"
          ]
        },
        {
          "output_type": "stream",
          "name": "stdout",
          "text": [
            "Read file: taskname_ndsi-2d-task_userid_954edb7c-4eae-47ab-9338-5c5c7eccac2d.json\n",
            "Zoom file not found\n",
            "Zoom file not found\n",
            "Zoom file not found\n",
            "Zoom file not found\n",
            "Zoom file not found\n",
            "Zoom file not found\n",
            "Zoom file not found\n",
            "Zoom file not found\n",
            "Zoom file not found\n",
            "Zoom file not found\n",
            "Zoom file not found\n",
            "Zoom file not found\n",
            "Zoom file not found\n"
          ]
        },
        {
          "output_type": "stream",
          "name": "stderr",
          "text": [
            "\n",
            "100%|██████████| 59/59 [00:00<00:00, 7737.60it/s]\n",
            "\n",
            "100%|██████████| 59/59 [00:00<00:00, 283788.92it/s]\n"
          ]
        },
        {
          "output_type": "stream",
          "name": "stdout",
          "text": [
            "There are  3 Snapshot times\n"
          ]
        },
        {
          "output_type": "stream",
          "name": "stderr",
          "text": [
            "\n",
            "100%|██████████| 59/59 [00:00<00:00, 2484.65it/s]\n",
            "\n",
            "100%|██████████| 59/59 [00:00<00:00, 3753.21it/s]\n",
            " 80%|████████  | 16/20 [00:49<00:09,  2.39s/it]"
          ]
        },
        {
          "output_type": "stream",
          "name": "stdout",
          "text": [
            "Read file: taskname_ndsi-2d-task_userid_a6aab5f5-fdb6-41df-9fc6-221d70f8c6e8.json\n",
            "Zoom file not found\n",
            "Zoom file not found\n",
            "Zoom file not found\n",
            "Zoom file not found\n",
            "Zoom file not found\n",
            "Zoom file not found\n",
            "Zoom file not found\n",
            "Zoom file not found\n"
          ]
        },
        {
          "output_type": "stream",
          "name": "stderr",
          "text": [
            "\n",
            "100%|██████████| 60/60 [00:00<00:00, 20247.67it/s]\n",
            "\n",
            "100%|██████████| 60/60 [00:00<00:00, 322225.66it/s]\n"
          ]
        },
        {
          "output_type": "stream",
          "name": "stdout",
          "text": [
            "There are  3 Snapshot times\n"
          ]
        },
        {
          "output_type": "stream",
          "name": "stderr",
          "text": [
            "\n",
            "100%|██████████| 60/60 [00:00<00:00, 2225.29it/s]\n",
            "\n",
            "100%|██████████| 60/60 [00:00<00:00, 3398.49it/s]\n",
            " 85%|████████▌ | 17/20 [00:51<00:06,  2.31s/it]"
          ]
        },
        {
          "output_type": "stream",
          "name": "stdout",
          "text": [
            "Read file: taskname_ndsi-2d-task_userid_8b544d24-3274-4bb0-9719-fd2bccc87b02.json\n",
            "Zoom file not found\n",
            "Zoom file not found\n",
            "Zoom file not found\n",
            "Zoom file not found\n",
            "Zoom file not found\n",
            "Zoom file not found\n",
            "Zoom file not found\n",
            "Zoom file not found\n",
            "Zoom file not found\n",
            "Zoom file not found\n",
            "Zoom file not found\n",
            "Zoom file not found\n",
            "Zoom file not found\n",
            "Zoom file not found\n",
            "Zoom file not found\n",
            "Zoom file not found\n",
            "Zoom file not found\n",
            "Zoom file not found\n",
            "Zoom file not found\n",
            "Zoom file not found\n",
            "Zoom file not found\n",
            "Zoom file not found\n"
          ]
        },
        {
          "output_type": "stream",
          "name": "stderr",
          "text": [
            "\n",
            "100%|██████████| 74/74 [00:00<00:00, 6864.65it/s]\n",
            "\n",
            "100%|██████████| 74/74 [00:00<00:00, 376672.93it/s]\n"
          ]
        },
        {
          "output_type": "stream",
          "name": "stdout",
          "text": [
            "There are  4 Snapshot times\n"
          ]
        },
        {
          "output_type": "stream",
          "name": "stderr",
          "text": [
            "\n",
            "100%|██████████| 74/74 [00:00<00:00, 2747.93it/s]\n",
            "\n",
            "100%|██████████| 74/74 [00:00<00:00, 4312.19it/s]\n",
            " 90%|█████████ | 18/20 [00:53<00:04,  2.24s/it]"
          ]
        },
        {
          "output_type": "stream",
          "name": "stdout",
          "text": [
            "Read file: taskname_ndsi-2d-task_userid_cd3ef507-e3e9-4edb-9222-90a69a9bf272.json\n",
            "Zoom file not found\n",
            "Zoom file not found\n",
            "Zoom file not found\n",
            "Zoom file not found\n",
            "Zoom file not found\n",
            "Zoom file not found\n",
            "Zoom file not found\n",
            "Zoom file not found\n"
          ]
        },
        {
          "output_type": "stream",
          "name": "stderr",
          "text": [
            "\n",
            "100%|██████████| 66/66 [00:00<00:00, 21003.34it/s]\n",
            "\n",
            "100%|██████████| 66/66 [00:00<00:00, 315648.88it/s]\n"
          ]
        },
        {
          "output_type": "stream",
          "name": "stdout",
          "text": [
            "There are  3 Snapshot times\n"
          ]
        },
        {
          "output_type": "stream",
          "name": "stderr",
          "text": [
            "\n",
            "100%|██████████| 66/66 [00:00<00:00, 4720.42it/s]\n",
            "\n",
            "100%|██████████| 66/66 [00:00<00:00, 2643.57it/s]\n",
            " 95%|█████████▌| 19/20 [00:55<00:01,  2.00s/it]"
          ]
        },
        {
          "output_type": "stream",
          "name": "stdout",
          "text": [
            "Read file: taskname_ndsi-2d-task_userid_93be0a02-3f7a-46c9-b526-aa956ed00856.json\n",
            "Zoom file not found\n",
            "Zoom file not found\n",
            "Zoom file not found\n"
          ]
        },
        {
          "output_type": "stream",
          "name": "stderr",
          "text": [
            "\n",
            "100%|██████████| 130/130 [00:00<00:00, 11437.25it/s]\n",
            "\n",
            "100%|██████████| 130/130 [00:00<00:00, 566209.26it/s]\n"
          ]
        },
        {
          "output_type": "stream",
          "name": "stdout",
          "text": [
            "There are  3 Snapshot times\n"
          ]
        },
        {
          "output_type": "stream",
          "name": "stderr",
          "text": [
            "\n",
            "100%|██████████| 130/130 [00:00<00:00, 3090.76it/s]\n",
            "\n",
            "100%|██████████| 130/130 [00:00<00:00, 2309.47it/s]\n",
            "100%|██████████| 20/20 [00:57<00:00,  2.86s/it]\n"
          ]
        }
      ]
    },
    {
      "cell_type": "code",
      "source": [
        ""
      ],
      "metadata": {
        "id": "HCRd_GNHLjdr"
      },
      "execution_count": null,
      "outputs": []
    },
    {
      "cell_type": "code",
      "source": [
        ""
      ],
      "metadata": {
        "id": "yW9NWHiTLjhD"
      },
      "execution_count": null,
      "outputs": []
    },
    {
      "cell_type": "code",
      "source": [
        ""
      ],
      "metadata": {
        "id": "eH5tNp5pLjkY"
      },
      "execution_count": null,
      "outputs": []
    },
    {
      "cell_type": "code",
      "source": [
        ""
      ],
      "metadata": {
        "id": "34lTA7upLjni"
      },
      "execution_count": null,
      "outputs": []
    },
    {
      "cell_type": "code",
      "source": [
        ""
      ],
      "metadata": {
        "id": "TG9b2Im3Ljq6"
      },
      "execution_count": null,
      "outputs": []
    },
    {
      "cell_type": "markdown",
      "source": [
        "RANDOM TEST SNIPPETS AFTER THIS POINT"
      ],
      "metadata": {
        "id": "n1S5xJYaLkKo"
      }
    },
    {
      "cell_type": "code",
      "metadata": {
        "colab": {
          "base_uri": "https://localhost:8080/",
          "height": 165
        },
        "id": "Kc_Q3jxlKf3L",
        "outputId": "4feaa468-486e-4960-b30c-44b64088ec23"
      },
      "source": [
        "len(matchingName) # so 19 users are the same "
      ],
      "execution_count": null,
      "outputs": [
        {
          "output_type": "error",
          "ename": "NameError",
          "evalue": "ignored",
          "traceback": [
            "\u001b[0;31m---------------------------------------------------------------------------\u001b[0m",
            "\u001b[0;31mNameError\u001b[0m                                 Traceback (most recent call last)",
            "\u001b[0;32m<ipython-input-14-22a2a337585a>\u001b[0m in \u001b[0;36m<module>\u001b[0;34m()\u001b[0m\n\u001b[0;32m----> 1\u001b[0;31m \u001b[0mlen\u001b[0m\u001b[0;34m(\u001b[0m\u001b[0mmatchingName\u001b[0m\u001b[0;34m)\u001b[0m \u001b[0;31m# so 19 users are the same\u001b[0m\u001b[0;34m\u001b[0m\u001b[0;34m\u001b[0m\u001b[0m\n\u001b[0m",
            "\u001b[0;31mNameError\u001b[0m: name 'matchingName' is not defined"
          ]
        }
      ]
    },
    {
      "cell_type": "code",
      "metadata": {
        "id": "t3DFBNOEGKgd"
      },
      "source": [
        "filenamed=\"taskname_ndsi-3d-task_userid_8b544d24-3274-4bb0-9719-fd2bccc87b02.csv\""
      ],
      "execution_count": null,
      "outputs": []
    },
    {
      "cell_type": "code",
      "metadata": {
        "id": "_RzdFG-xGKi3"
      },
      "source": [
        "filenamed[filenamed.find(\"userid_\")+7: filenamed.find(\".csv\")]"
      ],
      "execution_count": null,
      "outputs": []
    },
    {
      "cell_type": "code",
      "metadata": {
        "id": "aEc2_xWCoANE"
      },
      "source": [
        "df.head(5)"
      ],
      "execution_count": null,
      "outputs": []
    },
    {
      "cell_type": "code",
      "metadata": {
        "id": "XAw1ghRVcMB7"
      },
      "source": [
        "df.phase"
      ],
      "execution_count": null,
      "outputs": []
    },
    {
      "cell_type": "code",
      "metadata": {
        "id": "Mx6u0FtNPZWC"
      },
      "source": [
        "interactionData= pd.io.json.json_normalize(df.interactionData)"
      ],
      "execution_count": null,
      "outputs": []
    },
    {
      "cell_type": "code",
      "metadata": {
        "id": "DQUSSW_jdgsi"
      },
      "source": [
        "interactionData.interactionType"
      ],
      "execution_count": null,
      "outputs": []
    },
    {
      "cell_type": "code",
      "metadata": {
        "id": "laHuy1Pf23I1"
      },
      "source": [
        "final_dataframe = pd.DataFrame(columns=['Action','State','TimeStamp'])\n",
        "final_dataframe['Action']=interactionData.interactionType\n",
        "final_dataframe['State']=df.phase\n",
        "final_dataframe['TimeStamp']=df.timestampMillis"
      ],
      "execution_count": null,
      "outputs": []
    },
    {
      "cell_type": "code",
      "metadata": {
        "id": "sp7uyKm2RBkk"
      },
      "source": [
        "final_dataframe.head"
      ],
      "execution_count": null,
      "outputs": []
    },
    {
      "cell_type": "code",
      "metadata": {
        "id": "FLCYBF5w3ycM"
      },
      "source": [
        "final_dataframe['Action']=interactionData.interactionType\n",
        "final_dataframe['State']=df.phase\n",
        "final_dataframe['TimeStamp']=df.timestampMillis"
      ],
      "execution_count": null,
      "outputs": []
    },
    {
      "cell_type": "code",
      "metadata": {
        "id": "SFuNlEahPpND"
      },
      "source": [
        "final_dataframe"
      ],
      "execution_count": null,
      "outputs": []
    },
    {
      "cell_type": "code",
      "metadata": {
        "id": "dlW99WHfd3pY"
      },
      "source": [
        "for item in df.toFetch:\n",
        "  print (item)"
      ],
      "execution_count": null,
      "outputs": []
    },
    {
      "cell_type": "code",
      "metadata": {
        "id": "OQFknKINeW8A"
      },
      "source": [
        "toFetch"
      ],
      "execution_count": null,
      "outputs": []
    },
    {
      "cell_type": "code",
      "metadata": {
        "id": "zlC1d8OFoPtk"
      },
      "source": [
        "import json\n",
        "from pandas.io.json import json_normalize\n",
        "normalized_json = json_normalize(df['taskname_ndsi-2d-subtask_userid_3abeecbe-327a-441e-be2a-0dd3763c1d45'])\n",
        "normalized_json.head(3 )\n"
      ],
      "execution_count": null,
      "outputs": []
    },
    {
      "cell_type": "code",
      "metadata": {
        "id": "olu8Z5HZtl12"
      },
      "source": [
        "normalized_json['toFetch']"
      ],
      "execution_count": null,
      "outputs": []
    },
    {
      "cell_type": "code",
      "metadata": {
        "id": "tjeNjcIdr8hb"
      },
      "source": [
        "#get a pandas dataframe object from json file\n",
        "#df = pd.read_json(\"/content/interactions_data/zoom_0_pos_0_0.json\")\n",
        "import json\n",
        "import pandas as pd\n",
        "from pandas.io.json import json_normalize\n",
        "path= '/content/drive/Shareddrives/Colearning-Exploration/Dataset/forecache_interactions_2016/ndsi_2d_jsons/zoom_0_pos_0_0.json'\n",
        "with open(path) as project_file:    \n",
        "    data = json.load(project_file)  \n",
        "\n",
        "df_zoom = pd.json_normalize(data)\n",
        "df_zoom.head(5)"
      ],
      "execution_count": null,
      "outputs": []
    },
    {
      "cell_type": "code",
      "metadata": {
        "id": "Xq_dZKVizMbv"
      },
      "source": [
        "df_zoom.domains"
      ],
      "execution_count": null,
      "outputs": []
    }
  ]
}