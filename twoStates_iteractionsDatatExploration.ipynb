{
  "nbformat": 4,
  "nbformat_minor": 0,
  "metadata": {
    "colab": {
      "name": "twoStates-iteractionsDatatExploration.ipynb",
      "provenance": [],
      "collapsed_sections": [],
      "mount_file_id": "1JRtqe4nGw6Xevggo1Ks9pOrdhoGJS9hX",
      "authorship_tag": "ABX9TyPMbpB8PaWomlyVZL4PA59+"
    },
    "kernelspec": {
      "name": "python3",
      "display_name": "Python 3"
    },
    "language_info": {
      "name": "python"
    }
  },
  "cells": [
    {
      "cell_type": "code",
      "metadata": {
        "id": "m-8TXygTheni"
      },
      "source": [
        "#global path\n",
        "global_drive_path=\"/content/drive/MyDrive/ForeCache/interactions/\"\n",
        "          "
      ],
      "execution_count": null,
      "outputs": []
    },
    {
      "cell_type": "code",
      "metadata": {
        "id": "7RO65cvBS4TL"
      },
      "source": [
        "import os\n",
        "import pandas as pd\n",
        "import json\n",
        "from pandas.io.json import json_normalize\n",
        "from tqdm import tqdm\n",
        "\n",
        "\n",
        "#for reward\n",
        "import time\n",
        "import datetime\n",
        "\n",
        "pd.options.mode.chained_assignment = None  # default='warn'\n"
      ],
      "execution_count": null,
      "outputs": []
    },
    {
      "cell_type": "code",
      "metadata": {
        "id": "XNXz63-kSlF_"
      },
      "source": [
        "def clean_files(filePath,fileName):\n",
        "\n",
        "  lastline = None\n",
        " # filePath=\"/content/drive/Shareddrives/Colearning-Exploration/Dataset/forecache_interactions_2016/forecache-interaction-analysis/forecache-interaction-analysis/interactions/taskname_ndsi-2d-subtask_userid_3abeecbe-327a-441e-be2a-0dd3763c1d45.txt\"\n",
        "  with open(filePath,\"r\") as f:\n",
        "      lineList = f.readlines()\n",
        "      lastline=lineList[-1]\n",
        "  #with open(filePath,\"r\") as f, open(global_drive_path+\"cleanInteractions/cleanInteractions-ndsi-2d-task/\"+(str(fileName)+\".json\"),\"w\") as g:\n",
        "  #with open(filePath,\"r\") as f, open(global_drive_path+\"cleanInteractions/cleanInteractions-ndsi-3d-task/\"+(str(fileName)+\".json\"),\"w\") as g:\n",
        "  #os.makedirs(os.path.dirname(global_drive_path+\"cleanInteractions/cleanInteractions-rgb-hurricane-3d-task/\"+(str(fileName)+\".json\")))\n",
        "  with open(filePath,\"r\") as f, open(global_drive_path+\"cleanInteractions/cleanInteractions-rgb-hurricane-3d-task/\"+(str(fileName)+\".json\"),\"w+\") as g:\n",
        "   \n",
        "      for i,line in enumerate(f,0):\n",
        "          if i == 0:\n",
        "              line = \"[\"+str(line)+\",\"\n",
        "              g.write(line)\n",
        "          elif line == lastline:            \n",
        "              g.write(line)\n",
        "              g.write(\"]\")\n",
        "          else:\n",
        "              line = str(line)+\",\"\n",
        "              g.write(line)\n",
        "          "
      ],
      "execution_count": null,
      "outputs": []
    },
    {
      "cell_type": "code",
      "metadata": {
        "id": "Jvj6DoD6T5xL",
        "colab": {
          "base_uri": "https://localhost:8080/"
        },
        "outputId": "fc088915-7a4f-42fb-85f5-fa18cef07a4b"
      },
      "source": [
        "#directory =(str(global_drive_path) +\"/ndsi-2d-task\")\n",
        "#directory =(str(global_drive_path) +\"/ndsi-3d-task\")\n",
        "directory =(str(global_drive_path) +\"/rgb-hurricane-3d-task\")\n",
        "failed_files=[]\n",
        "for filename in os.listdir(directory):\n",
        "  try:\n",
        "    if filename.endswith(\".txt\"):\n",
        "        \n",
        "        filePath=(os.path.join(directory, filename))\n",
        "        print(filename)\n",
        "        name=os.path.splitext(filename)[0]\n",
        "        clean_files(filePath,name)\n",
        "    else:\n",
        "        continue\n",
        "  except OSError as err:\n",
        "    print(\"OS error: {0}\".format(err))\n",
        "    failed_files.append(filename)\n",
        "  except UnicodeDecodeError:\n",
        "    print(\"Unicode Error\")\n",
        "    failed_files.append(filename)\n",
        "  except BaseException as err:\n",
        "    failed_files.append(filename)\n",
        "    \n",
        "    raise\n"
      ],
      "execution_count": null,
      "outputs": [
        {
          "output_type": "stream",
          "name": "stdout",
          "text": [
            "taskname_rgb-hurricane-3d-task_userid_a6aab5f5-fdb6-41df-9fc6-221d70f8c6e8.txt\n",
            "taskname_rgb-hurricane-3d-task_userid_bda49380-37ad-41c5-a109-7fa198a7691a.txt\n",
            "taskname_rgb-hurricane-3d-task_userid_d6555293-35c7-4c27-b522-38d67d2d1b1a.txt\n",
            "taskname_rgb-hurricane-3d-task_userid_cd3ef507-e3e9-4edb-9222-90a69a9bf272.txt\n",
            "taskname_rgb-hurricane-3d-task_userid_954edb7c-4eae-47ab-9338-5c5c7eccac2d.txt\n",
            "taskname_rgb-hurricane-3d-task_userid_ac5b65d7-f260-4534-9fae-d998b726ed32.txt\n",
            "taskname_rgb-hurricane-3d-task_userid_da52acdd-3cea-483c-86e5-2c2740d371aa.txt\n",
            "taskname_rgb-hurricane-3d-task_userid_bc9f9425-e867-4876-a5d9-791229916767.txt\n",
            "taskname_rgb-hurricane-3d-task_userid_3abeecbe-327a-441e-be2a-0dd3763c1d45.txt\n",
            "taskname_rgb-hurricane-3d-task_userid_93be0a02-3f7a-46c9-b526-aa956ed00856.txt\n",
            "taskname_rgb-hurricane-3d-task_userid_733a1ac5-0b01-485e-9b29-ac33932aa240.txt\n",
            "taskname_rgb-hurricane-3d-task_userid_7d014c75-453b-4188-9e4e-fb086984896a.txt\n",
            "taskname_rgb-hurricane-3d-task_userid_8bf5b71b-dfd4-403f-8791-06427b26ccaf.txt\n",
            "taskname_rgb-hurricane-3d-task_userid_6d49fab8-273b-4a91-948b-ecd14556b049.txt\n",
            "taskname_rgb-hurricane-3d-task_userid_ff56863b-0710-4a58-ad22-4bf2889c9bc0.txt\n",
            "taskname_rgb-hurricane-3d-task_userid_c7cac3a0-2f18-4359-905e-ce343d6d92f1.txt\n",
            "taskname_rgb-hurricane-3d-task_userid_8b544d24-3274-4bb0-9719-fd2bccc87b02.txt\n",
            "taskname_rgb-hurricane-3d-task_userid_82316e37-1117-4663-84b4-ddb6455c83b2.txt\n",
            "taskname_rgb-hurricane-3d-task_userid_44968286-f204-4ad6-a9b5-d95b38e97866.txt\n",
            "taskname_rgb-hurricane-3d-task_userid_e4221e48-0930-40db-af3c-f4de1ed87582.txt\n"
          ]
        }
      ]
    },
    {
      "cell_type": "code",
      "metadata": {
        "id": "qiJITCuwYP2I"
      },
      "source": [
        "#directory =(str(global_drive_path) +\"/cleanInteractions//cleanInteractions-ndsi-3d-task\")\n",
        "#directory =(str(global_drive_path) +\"/cleanInteractions//cleanInteractions-ndsi-2d-task\")\n",
        "directory =(str(global_drive_path) +\"/cleanInteractions//cleanInteractions-rgb-hurricane-3d-task\")\n",
        "fileNames=[]\n",
        "for filename in os.listdir(directory):\n",
        "    if filename.endswith(\".json\"):\n",
        "        filePath=(os.path.join(directory, filename))\n",
        "        fileNames.append(filename)\n",
        "    else:\n",
        "        continue"
      ],
      "execution_count": null,
      "outputs": []
    },
    {
      "cell_type": "code",
      "metadata": {
        "id": "UaBB968jtY3k"
      },
      "source": [
        "import numpy as np\n",
        "import matplotlib.pyplot as plt\n",
        "def angle_between(p1, p2):\n",
        "    ang1 = np.arctan2(*p1[::-1])\n",
        "    ang2 = np.arctan2(*p2[::-1])\n",
        "    return np.rad2deg((ang1 - ang2) % (2 * np.pi))"
      ],
      "execution_count": null,
      "outputs": []
    },
    {
      "cell_type": "code",
      "metadata": {
        "id": "il69FBfLspUB"
      },
      "source": [
        "def get_Angle(df):\n",
        "  interactionData= pd.json_normalize(df.interactionData)\n",
        "  x1=[]\n",
        "  x2=[]\n",
        "  y1=[]\n",
        "  y2=[]\n",
        "  angle=[]\n",
        "  for i in range(len(interactionData['interactionType'])):\n",
        "    #handles if the interactiontype doesn't have a coordinate : if interactionType is zoom\n",
        "    if ((isinstance(interactionData['state.dragStart'][i], list) or isinstance(interactionData['state.dragEnd'][i], list) )==False):\n",
        "      \n",
        "      interactionData['state.dragStart'][i]=[0,0]\n",
        "      interactionData['state.dragEnd'][i]=[0,0]\n",
        "    #get between drag start and drag end\n",
        "    angle.append(angle_between(interactionData['state.dragStart'][i],interactionData['state.dragEnd'][i]))\n",
        "    #print(angle)\n",
        "\n",
        "    #this are to plot later on\n",
        "    x1.append(interactionData['state.dragStart'][i][0])\n",
        "    y1.append(interactionData['state.dragStart'][i][1])\n",
        "\n",
        "    x2.append(interactionData['state.dragEnd'][i][0])\n",
        "    y2.append(interactionData['state.dragEnd'][i][1])\n",
        "  return angle\n",
        "\n"
      ],
      "execution_count": null,
      "outputs": []
    },
    {
      "cell_type": "code",
      "source": [
        "#to generate reward based on radiclick and snapshot data \n",
        "def get_Reward(dataframe,filenamed):\n",
        "  #global path\n",
        "  reward=[]\n",
        "  subtask=[]\n",
        "  raw_timestamp= dataframe.timestampMillis\n",
        "  snapshot_global_drive_path=\"/content/drive/MyDrive/ForeCache/forecache_user_study_data_dump/forecache_user_study_data_dump\"\n",
        "  #get a pandas dataframe object from json file\n",
        "  path= snapshot_global_drive_path + \"/snapshots.json\"\n",
        "  with open(path) as project_file:    \n",
        "      data = json.load(project_file) \n",
        "  df_snapshots = pd.json_normalize(data)\n",
        "\n",
        "  #get userid from fileName\n",
        "  #filenamed[filenamed.find(\"userid_\")+7: filenamed.find(\".csv\")] need to remove  hard code later\n",
        "  dataframe_dimension=df_snapshots.loc[(df_snapshots['taskname']==\"rgb-hurricane-3d-task\") & (df_snapshots['userid']==filenamed[filenamed.find(\"userid_\")+7: filenamed.find(\".json\")])] #change here for different Task name 2d, 3d\n",
        "  print(\"There are \", len(dataframe_dimension) , \"Snapshot times\")\n",
        "  for i in tqdm(range(len(raw_timestamp))):\n",
        "      stringmyDate=str(raw_timestamp[i])\n",
        "      myDate=stringmyDate[: stringmyDate.find(\".\")]\n",
        "      dt = datetime.datetime.strptime(myDate, \"%Y-%m-%d %H:%M:%S\")\n",
        "      a=time.mktime(dt.timetuple()) + (dt.microsecond / 1000000.0)\n",
        "      temp=0\n",
        "      task=1\n",
        "      for j in range(len(dataframe_dimension[\"timestampMillis\"])):\n",
        "\n",
        "\n",
        "        if abs(a - (dataframe_dimension.timestampMillis.iloc[j]/1000)) < 10:\n",
        "          temp=temp+10\n",
        "        else:\n",
        "         temp=temp+0\n",
        "        if (a - (dataframe_dimension.timestampMillis.iloc[j]/1000)) < 0:\n",
        "          task=task\n",
        "        else:\n",
        "          task=task+1\n",
        "      subtask.append(task)\n",
        "      reward.append(temp)\n",
        "  return reward, subtask\n",
        "    "
      ],
      "metadata": {
        "id": "V4y5GzZYJ6eB"
      },
      "execution_count": null,
      "outputs": []
    },
    {
      "cell_type": "code",
      "source": [
        "def get_Zoom(df_zoom):\n",
        "  df_zoom['state.newZoom'] = df_zoom['state.newZoom'].replace(np.nan, 0)\n",
        "  lastZoom=[0,0]\n",
        "  zoom_level=[]\n",
        "  for i in tqdm(range(len(df_zoom))):\n",
        "    if df_zoom['state.newZoom'][i]==0:\n",
        "      if (lastZoom!=[0,0]):\n",
        "          df_zoom['state.newZoom'][i]=lastZoom\n",
        "      else:\n",
        "        df_zoom['state.newZoom'][i]= [0,0]\n",
        "        lastZoom= [0,0]\n",
        "    else:\n",
        "      lastZoom = df_zoom['state.newZoom'][i]\n",
        "    zoom_level.append(df_zoom['state.newZoom'][i][0])\n",
        "  return zoom_level"
      ],
      "metadata": {
        "id": "-kUjWJ6JwYrC"
      },
      "execution_count": null,
      "outputs": []
    },
    {
      "cell_type": "code",
      "source": [
        "def get_IdleTime(df):\n",
        "  idle_time=[]\n",
        "  previous_time=df['timestampMillis'][0]\n",
        "  for i in tqdm(range(len(df))):\n",
        "      wait_time=df['timestampMillis'][i]-previous_time\n",
        "      previous_time=df['timestampMillis'][i]\n",
        "\n",
        "\n",
        "      #fixing format\n",
        "      idle_time.append(wait_time.total_seconds())\n",
        "  return idle_time"
      ],
      "metadata": {
        "id": "rO2eqykcD3P_"
      },
      "execution_count": null,
      "outputs": []
    },
    {
      "cell_type": "code",
      "source": [
        "import heapq\n",
        "def get_Subset_Idletime(idle_time):\n",
        "  subset_idle_time=[]\n",
        "  largest_indexes=heapq.nlargest(2, range(len(idle_time)), key=idle_time.__getitem__)\n",
        "  second_max_index=largest_indexes[1]\n",
        "  for j in tqdm(range(len(idle_time))):\n",
        "    if (j<= second_max_index):\n",
        "      subset_idle_time.append(1)\n",
        "    else:\n",
        "      subset_idle_time.append(2)\n",
        "  return subset_idle_time"
      ],
      "metadata": {
        "id": "cIR9VPrq5nmo"
      },
      "execution_count": null,
      "outputs": []
    },
    {
      "cell_type": "code",
      "source": [
        "def get_State(df_state):\n",
        "  states_array=[]\n",
        "  for i in range(len(df_state)):\n",
        "    if pd.isna(df_state.phase[i]):\n",
        "      states_array.append('Answering')\n",
        "    else:\n",
        "      states_array.append(df_state.phase[i])\n",
        "  return states_array"
      ],
      "metadata": {
        "id": "chEn5X6f0Mta"
      },
      "execution_count": null,
      "outputs": []
    },
    {
      "cell_type": "code",
      "source": [
        "# from collections import defaultdict\n",
        "# probabilities=[]\n",
        "# states_actions=[]\n",
        "# _map = defaultdict(int)\n",
        "# states=['Answering','SenseMaking','Foraging','Navigation']\n",
        "# actions=['start','pan','zoom','radioClick']\n",
        "# for state in states:\n",
        "#   for action in actions:\n",
        "#     states_actions.append(state+action)\n",
        "#     _map[state+action]=1\n"
      ],
      "metadata": {
        "id": "aSjcO1HvoqLi"
      },
      "execution_count": null,
      "outputs": []
    },
    {
      "cell_type": "code",
      "source": [
        "from collections import defaultdict\n",
        "def get_probabilities(df):\n",
        "    probabilities=[]\n",
        "    map=dict()\n",
        "\n",
        "    states=['Answering','Sensemaking','Foraging','Navigation']\n",
        "    actions=['start','pan','zoom','radioClick']\n",
        "    for state in states:\n",
        "      for action in actions:\n",
        "        map[state+action]=1\n",
        "\n",
        "\n",
        "    for i in range(len(df)):\n",
        "      #print(str(df['State'][i]+df['Action']))\n",
        "      if df['State'][i]==\"Navigation\":\n",
        "        map[str(df['State'][i]+df['Action'][i])] += 1\n",
        "        probs = (map[str(df['State'][i]+df['Action'][i])])/(map['Navigationpan'] + map['NavigationradioClick']+ map['Navigationstart'] + map['Navigationzoom'])\n",
        "\n",
        "      elif df['State'][i]==\"Sensemaking\":\n",
        "        map[str(df['State'][i]+df['Action'][i])] += 1\n",
        "        probs = (map[str(df['State'][i]+df['Action'][i])])/(map['Sensemakingpan'] + map['SensemakingradioClick']+ map['Sensemakingstart'] + map['Sensemakingzoom'])\n",
        "      elif df['State'][i]==\"Foraging\":\n",
        "        map[str(df['State'][i]+df['Action'][i])] += 1\n",
        "        probs = (map[str(df['State'][i]+df['Action'][i])])/(map['Foragingpan'] + map['ForagingradioClick']+ map['Foragingstart'] + map['Foragingzoom'])\n",
        "      else:\n",
        "        map[str(df['State'][i]+df['Action'][i])] += 1\n",
        "        probs = (map[str(df['State'][i]+df['Action'][i])])/(map['Answeringpan'] + map['AnsweringradioClick']+ map['Answeringstart'] + map['Answeringzoom'])\n",
        "      probabilities.append(probs)\n",
        "    return probabilities"
      ],
      "metadata": {
        "id": "BVVMkz_YtrJY"
      },
      "execution_count": null,
      "outputs": []
    },
    {
      "cell_type": "markdown",
      "source": [
        "MAIN FUNCTION THAT RETURNS THE COMPLETED FILE"
      ],
      "metadata": {
        "id": "OQHc1xG3LvB6"
      }
    },
    {
      "cell_type": "code",
      "metadata": {
        "colab": {
          "base_uri": "https://localhost:8080/"
        },
        "id": "fmDN-TjfYyI7",
        "outputId": "83bd8f45-2b59-4688-831f-9cfb35e33ab2"
      },
      "source": [
        "error_files=[]\n",
        "\n",
        "for filename in tqdm(fileNames):\n",
        "  try:\n",
        "    #saveDir=(str(global_drive_path) +\"/stateActionModel/ndsi-2d\")\n",
        "    #saveDir=(str(global_drive_path) +\"/stateActionModel/ndsi-3d\")\n",
        "    saveDir=(str(global_drive_path) +\"/stateActionModel/rgb-hurricane-3d\")\n",
        "\n",
        "\n",
        "    #get a pandas dataframe object from json file\n",
        "    df = pd.read_json(os.path.join(directory,filename))\n",
        "    print(\"Read file:\",filename)\n",
        "    interactionData=pd.json_normalize(df.interactionData)\n",
        "    final_dataframe = pd.DataFrame(columns=['Action','State','TimeStamp','StateActionProbab','IdleTime','Reward','Subtask_Screenshot_Time','Subtask_Idle_Time','ZoomLevel'])\n",
        "    final_dataframe['Action']=interactionData.interactionType\n",
        "    final_dataframe['State']=get_State(df)\n",
        "    final_dataframe['TimeStamp']=df.timestampMillis\n",
        "    final_dataframe['IdleTime']=get_IdleTime(df)\n",
        "    final_dataframe['Subtask_Idle_Time']= get_Subset_Idletime(final_dataframe['IdleTime'])\n",
        "    final_dataframe['Reward'],final_dataframe['Subtask_Screenshot_Time']= get_Reward(df,filename)\n",
        "    final_dataframe['Angle']= get_Angle(df)\n",
        "    final_dataframe['ZoomLevel']= get_Zoom(interactionData)\t\n",
        "    #get probabilities\n",
        "    final_dataframe['StateActionProbab']=get_probabilities(final_dataframe)\n",
        "    txt_version= filename.replace(\"json\",\"csv\")\n",
        "    final_dataframe.to_csv(os.path.join(saveDir,txt_version), index=False)\n",
        "  except AttributeError:\n",
        "    print(\"AttributeError\")\n",
        "    error_files.append(filename)\n"
      ],
      "execution_count": null,
      "outputs": [
        {
          "output_type": "stream",
          "name": "stderr",
          "text": [
            "\r  0%|          | 0/20 [00:00<?, ?it/s]"
          ]
        },
        {
          "output_type": "stream",
          "name": "stdout",
          "text": [
            "Read file: taskname_rgb-hurricane-3d-task_userid_a6aab5f5-fdb6-41df-9fc6-221d70f8c6e8.json\n"
          ]
        },
        {
          "output_type": "stream",
          "name": "stderr",
          "text": [
            "\n",
            "100%|██████████| 68/68 [00:00<00:00, 11169.92it/s]\n",
            "\n",
            "100%|██████████| 68/68 [00:00<00:00, 384383.65it/s]\n"
          ]
        },
        {
          "output_type": "stream",
          "name": "stdout",
          "text": [
            "There are  2 Snapshot time\n"
          ]
        },
        {
          "output_type": "stream",
          "name": "stderr",
          "text": [
            "\n",
            "100%|██████████| 68/68 [00:00<00:00, 4036.92it/s]\n",
            "\n",
            "100%|██████████| 68/68 [00:00<00:00, 2980.81it/s]\n",
            "  5%|▌         | 1/20 [00:01<00:27,  1.46s/it]"
          ]
        },
        {
          "output_type": "stream",
          "name": "stdout",
          "text": [
            "Read file: taskname_rgb-hurricane-3d-task_userid_bda49380-37ad-41c5-a109-7fa198a7691a.json\n"
          ]
        },
        {
          "output_type": "stream",
          "name": "stderr",
          "text": [
            "\n",
            "100%|██████████| 112/112 [00:00<00:00, 17552.01it/s]\n",
            "\n",
            "100%|██████████| 112/112 [00:00<00:00, 572880.55it/s]\n"
          ]
        },
        {
          "output_type": "stream",
          "name": "stdout",
          "text": [
            "There are  2 Snapshot time\n"
          ]
        },
        {
          "output_type": "stream",
          "name": "stderr",
          "text": [
            "\n",
            "100%|██████████| 112/112 [00:00<00:00, 4811.71it/s]\n",
            "\n",
            "100%|██████████| 112/112 [00:00<00:00, 2832.38it/s]\n",
            " 10%|█         | 2/20 [00:02<00:21,  1.17s/it]"
          ]
        },
        {
          "output_type": "stream",
          "name": "stdout",
          "text": [
            "Read file: taskname_rgb-hurricane-3d-task_userid_ac5b65d7-f260-4534-9fae-d998b726ed32.json\n"
          ]
        },
        {
          "output_type": "stream",
          "name": "stderr",
          "text": [
            "\n",
            "100%|██████████| 138/138 [00:00<00:00, 24648.21it/s]\n",
            "\n",
            "100%|██████████| 138/138 [00:00<00:00, 552830.90it/s]\n"
          ]
        },
        {
          "output_type": "stream",
          "name": "stdout",
          "text": [
            "There are  2 Snapshot time\n"
          ]
        },
        {
          "output_type": "stream",
          "name": "stderr",
          "text": [
            "\n",
            "100%|██████████| 138/138 [00:00<00:00, 6537.39it/s]\n",
            "\n",
            "100%|██████████| 138/138 [00:00<00:00, 2605.52it/s]\n",
            " 15%|█▌        | 3/20 [00:03<00:18,  1.11s/it]"
          ]
        },
        {
          "output_type": "stream",
          "name": "stdout",
          "text": [
            "Read file: taskname_rgb-hurricane-3d-task_userid_d6555293-35c7-4c27-b522-38d67d2d1b1a.json\n"
          ]
        },
        {
          "output_type": "stream",
          "name": "stderr",
          "text": [
            "\n",
            "100%|██████████| 40/40 [00:00<00:00, 9815.26it/s]\n",
            "\n",
            "100%|██████████| 40/40 [00:00<00:00, 234975.01it/s]\n"
          ]
        },
        {
          "output_type": "stream",
          "name": "stdout",
          "text": [
            "There are  2 Snapshot time\n"
          ]
        },
        {
          "output_type": "stream",
          "name": "stderr",
          "text": [
            "\n",
            "100%|██████████| 40/40 [00:00<00:00, 5254.54it/s]\n",
            "\n",
            "100%|██████████| 40/40 [00:00<00:00, 2892.03it/s]\n",
            " 20%|██        | 4/20 [00:04<00:16,  1.04s/it]"
          ]
        },
        {
          "output_type": "stream",
          "name": "stdout",
          "text": [
            "Read file: taskname_rgb-hurricane-3d-task_userid_cd3ef507-e3e9-4edb-9222-90a69a9bf272.json\n"
          ]
        },
        {
          "output_type": "stream",
          "name": "stderr",
          "text": [
            "\n",
            "100%|██████████| 83/83 [00:00<00:00, 11756.69it/s]\n",
            "\n",
            "100%|██████████| 83/83 [00:00<00:00, 430850.53it/s]\n"
          ]
        },
        {
          "output_type": "stream",
          "name": "stdout",
          "text": [
            "There are  2 Snapshot time\n"
          ]
        },
        {
          "output_type": "stream",
          "name": "stderr",
          "text": [
            "\n",
            "100%|██████████| 83/83 [00:00<00:00, 5665.67it/s]\n",
            "\n",
            "100%|██████████| 83/83 [00:00<00:00, 3204.47it/s]\n",
            " 25%|██▌       | 5/20 [00:05<00:15,  1.00s/it]"
          ]
        },
        {
          "output_type": "stream",
          "name": "stdout",
          "text": [
            "Read file: taskname_rgb-hurricane-3d-task_userid_da52acdd-3cea-483c-86e5-2c2740d371aa.json\n"
          ]
        },
        {
          "output_type": "stream",
          "name": "stderr",
          "text": [
            "\n",
            "100%|██████████| 66/66 [00:00<00:00, 26653.58it/s]\n",
            "\n",
            "100%|██████████| 66/66 [00:00<00:00, 390442.97it/s]\n"
          ]
        },
        {
          "output_type": "stream",
          "name": "stdout",
          "text": [
            "There are  2 Snapshot time\n"
          ]
        },
        {
          "output_type": "stream",
          "name": "stderr",
          "text": [
            "\n",
            "100%|██████████| 66/66 [00:00<00:00, 4673.71it/s]\n",
            "\n",
            "100%|██████████| 66/66 [00:00<00:00, 3073.74it/s]\n",
            " 30%|███       | 6/20 [00:06<00:13,  1.03it/s]"
          ]
        },
        {
          "output_type": "stream",
          "name": "stdout",
          "text": [
            "Read file: taskname_rgb-hurricane-3d-task_userid_bc9f9425-e867-4876-a5d9-791229916767.json\n"
          ]
        },
        {
          "output_type": "stream",
          "name": "stderr",
          "text": [
            "\n",
            "100%|██████████| 52/52 [00:00<00:00, 10562.95it/s]\n",
            "\n",
            "100%|██████████| 52/52 [00:00<00:00, 284359.59it/s]\n"
          ]
        },
        {
          "output_type": "stream",
          "name": "stdout",
          "text": [
            "There are  2 Snapshot time\n"
          ]
        },
        {
          "output_type": "stream",
          "name": "stderr",
          "text": [
            "\n",
            "100%|██████████| 52/52 [00:00<00:00, 4001.83it/s]\n",
            "\n",
            "100%|██████████| 52/52 [00:00<00:00, 2938.30it/s]\n",
            " 35%|███▌      | 7/20 [00:07<00:12,  1.02it/s]"
          ]
        },
        {
          "output_type": "stream",
          "name": "stdout",
          "text": [
            "Read file: taskname_rgb-hurricane-3d-task_userid_3abeecbe-327a-441e-be2a-0dd3763c1d45.json\n"
          ]
        },
        {
          "output_type": "stream",
          "name": "stderr",
          "text": [
            "\n",
            "100%|██████████| 65/65 [00:00<00:00, 13483.17it/s]\n",
            "\n",
            "100%|██████████| 65/65 [00:00<00:00, 301915.57it/s]\n"
          ]
        },
        {
          "output_type": "stream",
          "name": "stdout",
          "text": [
            "There are  2 Snapshot time\n"
          ]
        },
        {
          "output_type": "stream",
          "name": "stderr",
          "text": [
            "\n",
            "100%|██████████| 65/65 [00:00<00:00, 3887.16it/s]\n",
            "\n",
            "100%|██████████| 65/65 [00:00<00:00, 2200.92it/s]\n",
            " 40%|████      | 8/20 [00:08<00:11,  1.00it/s]"
          ]
        },
        {
          "output_type": "stream",
          "name": "stdout",
          "text": [
            "Read file: taskname_rgb-hurricane-3d-task_userid_954edb7c-4eae-47ab-9338-5c5c7eccac2d.json\n"
          ]
        },
        {
          "output_type": "stream",
          "name": "stderr",
          "text": [
            "\n",
            "100%|██████████| 84/84 [00:00<00:00, 13059.59it/s]\n",
            "\n",
            "100%|██████████| 84/84 [00:00<00:00, 420933.73it/s]\n"
          ]
        },
        {
          "output_type": "stream",
          "name": "stdout",
          "text": [
            "There are  2 Snapshot time\n"
          ]
        },
        {
          "output_type": "stream",
          "name": "stderr",
          "text": [
            "\n",
            "100%|██████████| 84/84 [00:00<00:00, 5472.36it/s]\n",
            "\n",
            "100%|██████████| 84/84 [00:00<00:00, 2674.47it/s]\n",
            " 45%|████▌     | 9/20 [00:09<00:10,  1.00it/s]"
          ]
        },
        {
          "output_type": "stream",
          "name": "stdout",
          "text": [
            "Read file: taskname_rgb-hurricane-3d-task_userid_733a1ac5-0b01-485e-9b29-ac33932aa240.json\n"
          ]
        },
        {
          "output_type": "stream",
          "name": "stderr",
          "text": [
            "\n",
            "100%|██████████| 69/69 [00:00<00:00, 18184.54it/s]\n",
            "\n",
            "100%|██████████| 69/69 [00:00<00:00, 257022.18it/s]\n"
          ]
        },
        {
          "output_type": "stream",
          "name": "stdout",
          "text": [
            "There are  0 Snapshot time\n"
          ]
        },
        {
          "output_type": "stream",
          "name": "stderr",
          "text": [
            "\n",
            "100%|██████████| 69/69 [00:00<00:00, 6180.61it/s]\n",
            "\n",
            "100%|██████████| 69/69 [00:00<00:00, 2493.30it/s]\n",
            " 50%|█████     | 10/20 [00:10<00:09,  1.01it/s]"
          ]
        },
        {
          "output_type": "stream",
          "name": "stdout",
          "text": [
            "Read file: taskname_rgb-hurricane-3d-task_userid_93be0a02-3f7a-46c9-b526-aa956ed00856.json\n"
          ]
        },
        {
          "output_type": "stream",
          "name": "stderr",
          "text": [
            "\n",
            "100%|██████████| 169/169 [00:00<00:00, 14694.89it/s]\n",
            "\n",
            "100%|██████████| 169/169 [00:00<00:00, 465727.58it/s]\n"
          ]
        },
        {
          "output_type": "stream",
          "name": "stdout",
          "text": [
            "There are  2 Snapshot time\n"
          ]
        },
        {
          "output_type": "stream",
          "name": "stderr",
          "text": [
            "\n",
            "100%|██████████| 169/169 [00:00<00:00, 6376.62it/s]\n",
            "\n",
            "100%|██████████| 169/169 [00:00<00:00, 2817.23it/s]\n",
            " 55%|█████▌    | 11/20 [00:11<00:09,  1.02s/it]"
          ]
        },
        {
          "output_type": "stream",
          "name": "stdout",
          "text": [
            "Read file: taskname_rgb-hurricane-3d-task_userid_8bf5b71b-dfd4-403f-8791-06427b26ccaf.json\n"
          ]
        },
        {
          "output_type": "stream",
          "name": "stderr",
          "text": [
            "\n",
            "100%|██████████| 68/68 [00:00<00:00, 23532.40it/s]\n",
            "\n",
            "100%|██████████| 68/68 [00:00<00:00, 400579.60it/s]\n"
          ]
        },
        {
          "output_type": "stream",
          "name": "stdout",
          "text": [
            "There are  2 Snapshot time\n"
          ]
        },
        {
          "output_type": "stream",
          "name": "stderr",
          "text": [
            "\n",
            "100%|██████████| 68/68 [00:00<00:00, 4331.38it/s]\n",
            "\n",
            "100%|██████████| 68/68 [00:00<00:00, 2213.92it/s]\n",
            " 60%|██████    | 12/20 [00:12<00:08,  1.01s/it]"
          ]
        },
        {
          "output_type": "stream",
          "name": "stdout",
          "text": [
            "Read file: taskname_rgb-hurricane-3d-task_userid_7d014c75-453b-4188-9e4e-fb086984896a.json\n"
          ]
        },
        {
          "output_type": "stream",
          "name": "stderr",
          "text": [
            "\n",
            "100%|██████████| 106/106 [00:00<00:00, 10900.44it/s]\n",
            "\n",
            "100%|██████████| 106/106 [00:00<00:00, 338095.99it/s]\n"
          ]
        },
        {
          "output_type": "stream",
          "name": "stdout",
          "text": [
            "There are  2 Snapshot time\n"
          ]
        },
        {
          "output_type": "stream",
          "name": "stderr",
          "text": [
            "\n",
            "100%|██████████| 106/106 [00:00<00:00, 1754.80it/s]\n",
            "\n",
            "100%|██████████| 106/106 [00:00<00:00, 2681.41it/s]\n",
            " 65%|██████▌   | 13/20 [00:13<00:07,  1.12s/it]"
          ]
        },
        {
          "output_type": "stream",
          "name": "stdout",
          "text": [
            "Read file: taskname_rgb-hurricane-3d-task_userid_ff56863b-0710-4a58-ad22-4bf2889c9bc0.json\n"
          ]
        },
        {
          "output_type": "stream",
          "name": "stderr",
          "text": [
            "\n",
            "100%|██████████| 102/102 [00:00<00:00, 2438.27it/s]\n",
            "\n",
            "100%|██████████| 102/102 [00:00<00:00, 499788.56it/s]\n"
          ]
        },
        {
          "output_type": "stream",
          "name": "stdout",
          "text": [
            "There are  2 Snapshot time\n"
          ]
        },
        {
          "output_type": "stream",
          "name": "stderr",
          "text": [
            "\n",
            "100%|██████████| 102/102 [00:00<00:00, 4278.49it/s]\n",
            "\n",
            "100%|██████████| 102/102 [00:00<00:00, 2954.59it/s]\n",
            " 70%|███████   | 14/20 [00:14<00:06,  1.09s/it]"
          ]
        },
        {
          "output_type": "stream",
          "name": "stdout",
          "text": [
            "Read file: taskname_rgb-hurricane-3d-task_userid_6d49fab8-273b-4a91-948b-ecd14556b049.json\n"
          ]
        },
        {
          "output_type": "stream",
          "name": "stderr",
          "text": [
            "\n",
            "100%|██████████| 65/65 [00:00<00:00, 13326.32it/s]\n",
            "\n",
            "100%|██████████| 65/65 [00:00<00:00, 329661.14it/s]\n"
          ]
        },
        {
          "output_type": "stream",
          "name": "stdout",
          "text": [
            "There are  2 Snapshot time\n"
          ]
        },
        {
          "output_type": "stream",
          "name": "stderr",
          "text": [
            "\n",
            "100%|██████████| 65/65 [00:00<00:00, 4576.78it/s]\n",
            "\n",
            "100%|██████████| 65/65 [00:00<00:00, 2991.56it/s]\n",
            " 75%|███████▌  | 15/20 [00:15<00:05,  1.07s/it]"
          ]
        },
        {
          "output_type": "stream",
          "name": "stdout",
          "text": [
            "Read file: taskname_rgb-hurricane-3d-task_userid_8b544d24-3274-4bb0-9719-fd2bccc87b02.json\n"
          ]
        },
        {
          "output_type": "stream",
          "name": "stderr",
          "text": [
            "\n",
            "100%|██████████| 32/32 [00:00<00:00, 11501.09it/s]\n",
            "\n",
            "100%|██████████| 32/32 [00:00<00:00, 218595.65it/s]\n"
          ]
        },
        {
          "output_type": "stream",
          "name": "stdout",
          "text": [
            "There are  2 Snapshot time\n"
          ]
        },
        {
          "output_type": "stream",
          "name": "stderr",
          "text": [
            "\n",
            "100%|██████████| 32/32 [00:00<00:00, 2425.68it/s]\n",
            "\n",
            "100%|██████████| 32/32 [00:00<00:00, 2571.37it/s]\n",
            " 80%|████████  | 16/20 [00:16<00:04,  1.02s/it]"
          ]
        },
        {
          "output_type": "stream",
          "name": "stdout",
          "text": [
            "Read file: taskname_rgb-hurricane-3d-task_userid_c7cac3a0-2f18-4359-905e-ce343d6d92f1.json\n"
          ]
        },
        {
          "output_type": "stream",
          "name": "stderr",
          "text": [
            "\n",
            "100%|██████████| 46/46 [00:00<00:00, 7635.36it/s]\n",
            "\n",
            "100%|██████████| 46/46 [00:00<00:00, 226453.03it/s]\n"
          ]
        },
        {
          "output_type": "stream",
          "name": "stdout",
          "text": [
            "There are  2 Snapshot time\n"
          ]
        },
        {
          "output_type": "stream",
          "name": "stderr",
          "text": [
            "\n",
            "100%|██████████| 46/46 [00:00<00:00, 2603.89it/s]\n",
            "\n",
            "100%|██████████| 46/46 [00:00<00:00, 2700.28it/s]\n",
            " 85%|████████▌ | 17/20 [00:17<00:02,  1.01it/s]"
          ]
        },
        {
          "output_type": "stream",
          "name": "stdout",
          "text": [
            "Read file: taskname_rgb-hurricane-3d-task_userid_82316e37-1117-4663-84b4-ddb6455c83b2.json\n"
          ]
        },
        {
          "output_type": "stream",
          "name": "stderr",
          "text": [
            "\n",
            "100%|██████████| 45/45 [00:00<00:00, 24385.49it/s]\n",
            "\n",
            "100%|██████████| 45/45 [00:00<00:00, 292172.88it/s]\n"
          ]
        },
        {
          "output_type": "stream",
          "name": "stdout",
          "text": [
            "There are  2 Snapshot time\n"
          ]
        },
        {
          "output_type": "stream",
          "name": "stderr",
          "text": [
            "\n",
            "100%|██████████| 45/45 [00:00<00:00, 3853.64it/s]\n",
            "\n",
            "100%|██████████| 45/45 [00:00<00:00, 2880.26it/s]\n",
            " 90%|█████████ | 18/20 [00:18<00:02,  1.02s/it]"
          ]
        },
        {
          "output_type": "stream",
          "name": "stdout",
          "text": [
            "Read file: taskname_rgb-hurricane-3d-task_userid_44968286-f204-4ad6-a9b5-d95b38e97866.json\n"
          ]
        },
        {
          "output_type": "stream",
          "name": "stderr",
          "text": [
            "\n",
            "100%|██████████| 45/45 [00:00<00:00, 21041.66it/s]\n",
            "\n",
            "100%|██████████| 45/45 [00:00<00:00, 248346.95it/s]\n"
          ]
        },
        {
          "output_type": "stream",
          "name": "stdout",
          "text": [
            "There are  2 Snapshot time\n"
          ]
        },
        {
          "output_type": "stream",
          "name": "stderr",
          "text": [
            "\n",
            "100%|██████████| 45/45 [00:00<00:00, 2669.45it/s]\n",
            "\n",
            "100%|██████████| 45/45 [00:00<00:00, 2677.79it/s]\n",
            " 95%|█████████▌| 19/20 [00:19<00:01,  1.01s/it]"
          ]
        },
        {
          "output_type": "stream",
          "name": "stdout",
          "text": [
            "Read file: taskname_rgb-hurricane-3d-task_userid_e4221e48-0930-40db-af3c-f4de1ed87582.json\n"
          ]
        },
        {
          "output_type": "stream",
          "name": "stderr",
          "text": [
            "\n",
            "100%|██████████| 74/74 [00:00<00:00, 26170.19it/s]\n",
            "\n",
            "100%|██████████| 74/74 [00:00<00:00, 388458.69it/s]\n"
          ]
        },
        {
          "output_type": "stream",
          "name": "stdout",
          "text": [
            "There are  2 Snapshot time\n"
          ]
        },
        {
          "output_type": "stream",
          "name": "stderr",
          "text": [
            "\n",
            "100%|██████████| 74/74 [00:00<00:00, 3857.74it/s]\n",
            "\n",
            "100%|██████████| 74/74 [00:00<00:00, 2415.96it/s]\n",
            "100%|██████████| 20/20 [00:20<00:00,  1.03s/it]\n"
          ]
        }
      ]
    },
    {
      "cell_type": "code",
      "source": [
        ""
      ],
      "metadata": {
        "id": "HCRd_GNHLjdr"
      },
      "execution_count": null,
      "outputs": []
    },
    {
      "cell_type": "code",
      "source": [
        ""
      ],
      "metadata": {
        "id": "yW9NWHiTLjhD"
      },
      "execution_count": null,
      "outputs": []
    },
    {
      "cell_type": "code",
      "source": [
        ""
      ],
      "metadata": {
        "id": "eH5tNp5pLjkY"
      },
      "execution_count": null,
      "outputs": []
    },
    {
      "cell_type": "code",
      "source": [
        ""
      ],
      "metadata": {
        "id": "34lTA7upLjni"
      },
      "execution_count": null,
      "outputs": []
    },
    {
      "cell_type": "code",
      "source": [
        ""
      ],
      "metadata": {
        "id": "TG9b2Im3Ljq6"
      },
      "execution_count": null,
      "outputs": []
    },
    {
      "cell_type": "markdown",
      "source": [
        "RANDOM TEST SNIPPETS AFTER THIS POINT"
      ],
      "metadata": {
        "id": "n1S5xJYaLkKo"
      }
    },
    {
      "cell_type": "code",
      "metadata": {
        "colab": {
          "base_uri": "https://localhost:8080/",
          "height": 165
        },
        "id": "Kc_Q3jxlKf3L",
        "outputId": "4feaa468-486e-4960-b30c-44b64088ec23"
      },
      "source": [
        "len(matchingName) # so 19 users are the same "
      ],
      "execution_count": null,
      "outputs": [
        {
          "output_type": "error",
          "ename": "NameError",
          "evalue": "ignored",
          "traceback": [
            "\u001b[0;31m---------------------------------------------------------------------------\u001b[0m",
            "\u001b[0;31mNameError\u001b[0m                                 Traceback (most recent call last)",
            "\u001b[0;32m<ipython-input-14-22a2a337585a>\u001b[0m in \u001b[0;36m<module>\u001b[0;34m()\u001b[0m\n\u001b[0;32m----> 1\u001b[0;31m \u001b[0mlen\u001b[0m\u001b[0;34m(\u001b[0m\u001b[0mmatchingName\u001b[0m\u001b[0;34m)\u001b[0m \u001b[0;31m# so 19 users are the same\u001b[0m\u001b[0;34m\u001b[0m\u001b[0;34m\u001b[0m\u001b[0m\n\u001b[0m",
            "\u001b[0;31mNameError\u001b[0m: name 'matchingName' is not defined"
          ]
        }
      ]
    },
    {
      "cell_type": "code",
      "metadata": {
        "id": "t3DFBNOEGKgd"
      },
      "source": [
        "filenamed=\"taskname_ndsi-3d-task_userid_8b544d24-3274-4bb0-9719-fd2bccc87b02.csv\""
      ],
      "execution_count": null,
      "outputs": []
    },
    {
      "cell_type": "code",
      "metadata": {
        "id": "_RzdFG-xGKi3"
      },
      "source": [
        "filenamed[filenamed.find(\"userid_\")+7: filenamed.find(\".csv\")]"
      ],
      "execution_count": null,
      "outputs": []
    },
    {
      "cell_type": "code",
      "metadata": {
        "id": "aEc2_xWCoANE"
      },
      "source": [
        "df.head(5)"
      ],
      "execution_count": null,
      "outputs": []
    },
    {
      "cell_type": "code",
      "metadata": {
        "id": "XAw1ghRVcMB7"
      },
      "source": [
        "df.phase"
      ],
      "execution_count": null,
      "outputs": []
    },
    {
      "cell_type": "code",
      "metadata": {
        "id": "Mx6u0FtNPZWC"
      },
      "source": [
        "interactionData= pd.io.json.json_normalize(df.interactionData)"
      ],
      "execution_count": null,
      "outputs": []
    },
    {
      "cell_type": "code",
      "metadata": {
        "id": "DQUSSW_jdgsi"
      },
      "source": [
        "interactionData.interactionType"
      ],
      "execution_count": null,
      "outputs": []
    },
    {
      "cell_type": "code",
      "metadata": {
        "id": "laHuy1Pf23I1"
      },
      "source": [
        "final_dataframe = pd.DataFrame(columns=['Action','State','TimeStamp'])\n",
        "final_dataframe['Action']=interactionData.interactionType\n",
        "final_dataframe['State']=df.phase\n",
        "final_dataframe['TimeStamp']=df.timestampMillis"
      ],
      "execution_count": null,
      "outputs": []
    },
    {
      "cell_type": "code",
      "metadata": {
        "id": "sp7uyKm2RBkk"
      },
      "source": [
        "final_dataframe.head"
      ],
      "execution_count": null,
      "outputs": []
    },
    {
      "cell_type": "code",
      "metadata": {
        "id": "FLCYBF5w3ycM"
      },
      "source": [
        "final_dataframe['Action']=interactionData.interactionType\n",
        "final_dataframe['State']=df.phase\n",
        "final_dataframe['TimeStamp']=df.timestampMillis"
      ],
      "execution_count": null,
      "outputs": []
    },
    {
      "cell_type": "code",
      "metadata": {
        "id": "SFuNlEahPpND"
      },
      "source": [
        "final_dataframe"
      ],
      "execution_count": null,
      "outputs": []
    },
    {
      "cell_type": "code",
      "metadata": {
        "id": "dlW99WHfd3pY"
      },
      "source": [
        "for item in df.toFetch:\n",
        "  print (item)"
      ],
      "execution_count": null,
      "outputs": []
    },
    {
      "cell_type": "code",
      "metadata": {
        "id": "OQFknKINeW8A"
      },
      "source": [
        "toFetch"
      ],
      "execution_count": null,
      "outputs": []
    },
    {
      "cell_type": "code",
      "metadata": {
        "id": "zlC1d8OFoPtk"
      },
      "source": [
        "import json\n",
        "from pandas.io.json import json_normalize\n",
        "normalized_json = json_normalize(df['taskname_ndsi-2d-subtask_userid_3abeecbe-327a-441e-be2a-0dd3763c1d45'])\n",
        "normalized_json.head(3 )\n"
      ],
      "execution_count": null,
      "outputs": []
    },
    {
      "cell_type": "code",
      "metadata": {
        "id": "olu8Z5HZtl12"
      },
      "source": [
        "normalized_json['toFetch']"
      ],
      "execution_count": null,
      "outputs": []
    },
    {
      "cell_type": "code",
      "metadata": {
        "id": "tjeNjcIdr8hb"
      },
      "source": [
        "#get a pandas dataframe object from json file\n",
        "#df = pd.read_json(\"/content/interactions_data/zoom_0_pos_0_0.json\")\n",
        "import json\n",
        "import pandas as pd\n",
        "from pandas.io.json import json_normalize\n",
        "path= '/content/drive/Shareddrives/Colearning-Exploration/Dataset/forecache_interactions_2016/ndsi_2d_jsons/zoom_0_pos_0_0.json'\n",
        "with open(path) as project_file:    \n",
        "    data = json.load(project_file)  \n",
        "\n",
        "df_zoom = pd.json_normalize(data)\n",
        "df_zoom.head(5)"
      ],
      "execution_count": null,
      "outputs": []
    },
    {
      "cell_type": "code",
      "metadata": {
        "id": "Xq_dZKVizMbv"
      },
      "source": [
        "df_zoom.domains"
      ],
      "execution_count": null,
      "outputs": []
    }
  ]
}