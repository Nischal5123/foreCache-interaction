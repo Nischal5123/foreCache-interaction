{
  "nbformat": 4,
  "nbformat_minor": 0,
  "metadata": {
    "colab": {
      "name": "twoStates-iteractionsDatatExploration.ipynb",
      "provenance": [],
      "collapsed_sections": [],
      "mount_file_id": "1ld0n9v0uOtomaS1ayXvTRP9sEB0qc2Kh",
      "authorship_tag": "ABX9TyPkjB4lPmqjd+pjAC04l7a5"
    },
    "kernelspec": {
      "name": "python3",
      "display_name": "Python 3"
    },
    "language_info": {
      "name": "python"
    }
  },
  "cells": [
    {
      "cell_type": "code",
      "metadata": {
        "id": "m-8TXygTheni"
      },
      "source": [
        "#global path\n",
        "global_drive_path=\"/content/drive/MyDrive/ForeCache/interactions/\"\n",
        "          "
      ],
      "execution_count": 18,
      "outputs": []
    },
    {
      "cell_type": "code",
      "metadata": {
        "id": "7RO65cvBS4TL"
      },
      "source": [
        "import os\n",
        "import pandas as pd\n",
        "import json\n",
        "from pandas.io.json import json_normalize\n",
        "from tqdm import tqdm\n",
        "\n",
        "\n",
        "#for reward\n",
        "import time\n",
        "import datetime\n",
        "\n",
        "pd.options.mode.chained_assignment = None  # default='warn'\n"
      ],
      "execution_count": 19,
      "outputs": []
    },
    {
      "cell_type": "code",
      "metadata": {
        "id": "XNXz63-kSlF_"
      },
      "source": [
        "def clean_files(filePath,fileName):\n",
        "\n",
        "  lastline = None\n",
        " # filePath=\"/content/drive/Shareddrives/Colearning-Exploration/Dataset/forecache_interactions_2016/forecache-interaction-analysis/forecache-interaction-analysis/interactions/taskname_ndsi-2d-subtask_userid_3abeecbe-327a-441e-be2a-0dd3763c1d45.txt\"\n",
        "  with open(filePath,\"r\") as f:\n",
        "      lineList = f.readlines()\n",
        "      lastline=lineList[-1]\n",
        "  #with open(filePath,\"r\") as f, open(global_drive_path+\"cleanInteractions/cleanInteractions-ndsi-2d-task/\"+(str(fileName)+\".json\"),\"w\") as g:\n",
        "  with open(filePath,\"r\") as f, open(global_drive_path+\"cleanInteractions/cleanInteractions-ndsi-3d-task/\"+(str(fileName)+\".json\"),\"w\") as g:\n",
        "  #os.makedirs(os.path.dirname(global_drive_path+\"cleanInteractions/cleanInteractions-rgb-hurricane-3d-task/\"+(str(fileName)+\".json\")))\n",
        " # with open(filePath,\"r\") as f, open(global_drive_path+\"cleanInteractions/cleanInteractions-rgb-hurricane-3d-task/\"+(str(fileName)+\".json\"),\"w+\") as g:\n",
        "   \n",
        "      for i,line in enumerate(f,0):\n",
        "          if i == 0:\n",
        "              line = \"[\"+str(line)+\",\"\n",
        "              g.write(line)\n",
        "          elif line == lastline:            \n",
        "              g.write(line)\n",
        "              g.write(\"]\")\n",
        "          else:\n",
        "              line = str(line)+\",\"\n",
        "              g.write(line)\n",
        "          "
      ],
      "execution_count": 20,
      "outputs": []
    },
    {
      "cell_type": "code",
      "metadata": {
        "id": "Jvj6DoD6T5xL",
        "colab": {
          "base_uri": "https://localhost:8080/"
        },
        "outputId": "50c43868-5ce2-44a3-9d37-eb4a12d9e76c"
      },
      "source": [
        "#directory =(str(global_drive_path) +\"/ndsi-2d-task\")\n",
        "directory =(str(global_drive_path) +\"/ndsi-3d-task\")\n",
        "#directory =(str(global_drive_path) +\"/rgb-hurricane-3d-task\")\n",
        "failed_files=[]\n",
        "for filename in os.listdir(directory):\n",
        "  try:\n",
        "    if filename.endswith(\".txt\"):\n",
        "        \n",
        "        filePath=(os.path.join(directory, filename))\n",
        "        print(filename)\n",
        "        name=os.path.splitext(filename)[0]\n",
        "        clean_files(filePath,name)\n",
        "    else:\n",
        "        continue\n",
        "  except OSError as err:\n",
        "    print(\"OS error: {0}\".format(err))\n",
        "    failed_files.append(filename)\n",
        "  except UnicodeDecodeError:\n",
        "    print(\"Unicode Error\")\n",
        "    failed_files.append(filename)\n",
        "  except BaseException as err:\n",
        "    failed_files.append(filename)\n",
        "    \n",
        "    raise\n"
      ],
      "execution_count": 21,
      "outputs": [
        {
          "output_type": "stream",
          "name": "stdout",
          "text": [
            "taskname_ndsi-3d-task_userid_8b544d24-3274-4bb0-9719-fd2bccc87b02.txt\n",
            "taskname_ndsi-3d-task_userid_bda49380-37ad-41c5-a109-7fa198a7691a.txt\n",
            "taskname_ndsi-3d-task_userid_954edb7c-4eae-47ab-9338-5c5c7eccac2d.txt\n",
            "taskname_ndsi-3d-task_userid_e4221e48-0930-40db-af3c-f4de1ed87582.txt\n",
            "taskname_ndsi-3d-task_userid_d6555293-35c7-4c27-b522-38d67d2d1b1a.txt\n",
            "taskname_ndsi-3d-task_userid_8bf5b71b-dfd4-403f-8791-06427b26ccaf.txt\n",
            "taskname_ndsi-3d-task_userid_7d014c75-453b-4188-9e4e-fb086984896a.txt\n",
            "taskname_ndsi-3d-task_userid_ac5b65d7-f260-4534-9fae-d998b726ed32.txt\n",
            "taskname_ndsi-3d-task_userid_3abeecbe-327a-441e-be2a-0dd3763c1d45.txt\n",
            "taskname_ndsi-3d-task_userid_ff56863b-0710-4a58-ad22-4bf2889c9bc0.txt\n",
            "taskname_ndsi-3d-task_userid_733a1ac5-0b01-485e-9b29-ac33932aa240.txt\n",
            "taskname_ndsi-3d-task_userid_a6aab5f5-fdb6-41df-9fc6-221d70f8c6e8.txt\n",
            "taskname_ndsi-3d-task_userid_93be0a02-3f7a-46c9-b526-aa956ed00856.txt\n",
            "taskname_ndsi-3d-task_userid_82316e37-1117-4663-84b4-ddb6455c83b2.txt\n",
            "taskname_ndsi-3d-task_userid_da52acdd-3cea-483c-86e5-2c2740d371aa.txt\n",
            "taskname_ndsi-3d-task_userid_bc9f9425-e867-4876-a5d9-791229916767.txt\n",
            "taskname_ndsi-3d-task_userid_44968286-f204-4ad6-a9b5-d95b38e97866.txt\n",
            "taskname_ndsi-3d-task_userid_6d49fab8-273b-4a91-948b-ecd14556b049.txt\n",
            "taskname_ndsi-3d-task_userid_cd3ef507-e3e9-4edb-9222-90a69a9bf272.txt\n",
            "taskname_ndsi-3d-task_userid_c7cac3a0-2f18-4359-905e-ce343d6d92f1.txt\n"
          ]
        }
      ]
    },
    {
      "cell_type": "code",
      "metadata": {
        "id": "qiJITCuwYP2I"
      },
      "source": [
        "directory =(str(global_drive_path) +\"/cleanInteractions//cleanInteractions-ndsi-3d-task\")\n",
        "#directory =(str(global_drive_path) +\"/cleanInteractions//cleanInteractions-ndsi-2d-task\")\n",
        "#directory =(str(global_drive_path) +\"/cleanInteractions//cleanInteractions-rgb-hurricane-3d-task\")\n",
        "fileNames=[]\n",
        "for filename in os.listdir(directory):\n",
        "    if filename.endswith(\".json\"):\n",
        "        filePath=(os.path.join(directory, filename))\n",
        "        fileNames.append(filename)\n",
        "    else:\n",
        "        continue"
      ],
      "execution_count": 22,
      "outputs": []
    },
    {
      "cell_type": "code",
      "metadata": {
        "id": "UaBB968jtY3k"
      },
      "source": [
        "import numpy as np\n",
        "import matplotlib.pyplot as plt\n",
        "def angle_between(p1, p2):\n",
        "    ang1 = np.arctan2(*p1[::-1])\n",
        "    ang2 = np.arctan2(*p2[::-1])\n",
        "    return np.rad2deg((ang1 - ang2) % (2 * np.pi))"
      ],
      "execution_count": 23,
      "outputs": []
    },
    {
      "cell_type": "code",
      "metadata": {
        "id": "il69FBfLspUB"
      },
      "source": [
        "def get_Angle(df):\n",
        "  interactionData= pd.json_normalize(df.interactionData)\n",
        "  x1=[]\n",
        "  x2=[]\n",
        "  y1=[]\n",
        "  y2=[]\n",
        "  angle=[]\n",
        "  for i in range(len(interactionData['interactionType'])):\n",
        "    #handles if the interactiontype doesn't have a coordinate : if interactionType is zoom\n",
        "    if ((isinstance(interactionData['state.dragStart'][i], list) or isinstance(interactionData['state.dragEnd'][i], list) )==False):\n",
        "      \n",
        "      interactionData['state.dragStart'][i]=[0,0]\n",
        "      interactionData['state.dragEnd'][i]=[0,0]\n",
        "    #get between drag start and drag end\n",
        "    angle.append(angle_between(interactionData['state.dragStart'][i],interactionData['state.dragEnd'][i]))\n",
        "    #print(angle)\n",
        "\n",
        "    #this are to plot later on\n",
        "    x1.append(interactionData['state.dragStart'][i][0])\n",
        "    y1.append(interactionData['state.dragStart'][i][1])\n",
        "\n",
        "    x2.append(interactionData['state.dragEnd'][i][0])\n",
        "    y2.append(interactionData['state.dragEnd'][i][1])\n",
        "  return angle\n",
        "\n"
      ],
      "execution_count": 24,
      "outputs": []
    },
    {
      "cell_type": "code",
      "source": [
        "#to generate reward based on radiclick and snapshot data \n",
        "def get_Reward(dataframe,filenamed):\n",
        "  #global path\n",
        "  reward=[]\n",
        "  subtask=[]\n",
        "  raw_timestamp= dataframe.timestampMillis\n",
        "  snapshot_global_drive_path=\"/content/drive/MyDrive/ForeCache/forecache_user_study_data_dump/forecache_user_study_data_dump\"\n",
        "  #get a pandas dataframe object from json file\n",
        "  path= snapshot_global_drive_path + \"/snapshots.json\"\n",
        "  with open(path) as project_file:    \n",
        "      data = json.load(project_file) \n",
        "  df_snapshots = pd.json_normalize(data)\n",
        "\n",
        "  #get userid from fileName\n",
        "  #filenamed[filenamed.find(\"userid_\")+7: filenamed.find(\".csv\")] need to remove  hard code later\n",
        "  dataframe_dimension=df_snapshots.loc[(df_snapshots['taskname']==\"ndsi-3d-task\") & (df_snapshots['userid']==filenamed[filenamed.find(\"userid_\")+7: filenamed.find(\".json\")])] #change here for different Task name 2d, 3d\n",
        "  print(\"There are \", len(dataframe_dimension) , \"Snapshot times\")\n",
        "  for i in tqdm(range(len(raw_timestamp))):\n",
        "      stringmyDate=str(raw_timestamp[i])\n",
        "      myDate=stringmyDate[: stringmyDate.find(\".\")]\n",
        "      dt = datetime.datetime.strptime(myDate, \"%Y-%m-%d %H:%M:%S\")\n",
        "      a=time.mktime(dt.timetuple()) + (dt.microsecond / 1000000.0)\n",
        "      temp=0\n",
        "      task=1\n",
        "      for j in range(len(dataframe_dimension[\"timestampMillis\"])):\n",
        "\n",
        "\n",
        "        if abs(a - (dataframe_dimension.timestampMillis.iloc[j]/1000)) < 10:\n",
        "          temp=temp+10\n",
        "        else:\n",
        "         temp=temp+0\n",
        "        if (a - (dataframe_dimension.timestampMillis.iloc[j]/1000)) < 0:\n",
        "          task=1\n",
        "        else:\n",
        "          task=2\n",
        "      subtask.append(task)\n",
        "      reward.append(temp)\n",
        "  return reward, subtask\n",
        "    "
      ],
      "metadata": {
        "id": "V4y5GzZYJ6eB"
      },
      "execution_count": 25,
      "outputs": []
    },
    {
      "cell_type": "code",
      "source": [
        "def get_Zoom(df_zoom):\n",
        "  df_zoom['state.newZoom'] = df_zoom['state.newZoom'].replace(np.nan, 0)\n",
        "  lastZoom=[0,0]\n",
        "  zoom_level=[]\n",
        "  for i in tqdm(range(len(df_zoom))):\n",
        "    if df_zoom['state.newZoom'][i]==0:\n",
        "      if (lastZoom!=[0,0]):\n",
        "          df_zoom['state.newZoom'][i]=lastZoom\n",
        "      else:\n",
        "        df_zoom['state.newZoom'][i]= [0,0]\n",
        "        lastZoom= [0,0]\n",
        "    else:\n",
        "      lastZoom = df_zoom['state.newZoom'][i]\n",
        "    zoom_level.append(df_zoom['state.newZoom'][i][0])\n",
        "  return zoom_level"
      ],
      "metadata": {
        "id": "-kUjWJ6JwYrC"
      },
      "execution_count": 26,
      "outputs": []
    },
    {
      "cell_type": "code",
      "source": [
        "def get_IdleTime(df):\n",
        "  idle_time=[]\n",
        "  previous_time=df['timestampMillis'][0]\n",
        "  for i in tqdm(range(len(df))):\n",
        "      wait_time=df['timestampMillis'][i]-previous_time\n",
        "      previous_time=df['timestampMillis'][i]\n",
        "\n",
        "\n",
        "      #fixing format\n",
        "      idle_time.append(wait_time.total_seconds())\n",
        "  return idle_time"
      ],
      "metadata": {
        "id": "rO2eqykcD3P_"
      },
      "execution_count": 27,
      "outputs": []
    },
    {
      "cell_type": "code",
      "source": [
        "import heapq\n",
        "def get_Subset_Idletime(idle_time):\n",
        "  subset_idle_time=[]\n",
        "  largest_indexes=heapq.nlargest(3, range(len(idle_time)), key=idle_time.__getitem__)\n",
        "  second_max_index=largest_indexes[2]\n",
        "  for j in tqdm(range(len(idle_time))):\n",
        "    print(largest_indexes)\n",
        "    if (j<= second_max_index):\n",
        "      subset_idle_time.append(1)\n",
        "    else:\n",
        "      subset_idle_time.append(2)\n",
        "  return subset_idle_time"
      ],
      "metadata": {
        "id": "cIR9VPrq5nmo"
      },
      "execution_count": 28,
      "outputs": []
    },
    {
      "cell_type": "code",
      "source": [
        "def get_State(df_state):\n",
        "  states_array=[]\n",
        "  for i in range(len(df_state)):\n",
        "    if (df_state.phase[i]=='Sensemaking'):\n",
        "      states_array.append(df_state.phase[i])\n",
        "    else:\n",
        "      states_array.append(\"Foraging\")\n",
        "  return states_array"
      ],
      "metadata": {
        "id": "chEn5X6f0Mta"
      },
      "execution_count": 29,
      "outputs": []
    },
    {
      "cell_type": "code",
      "source": [
        "def get_Action(df_action):\n",
        "  action_array=[]\n",
        "  last_action=df_action.interactionType[0]\n",
        "  for i in range(len(df_action)):\n",
        "    if (df_action.interactionType[i]==last_action):\n",
        "      action_array.append(\"keep\")\n",
        "      \n",
        "    else:\n",
        "      action_array.append(\"change\")\n",
        "    last_action=df_action.interactionType[i]\n",
        "  return action_array"
      ],
      "metadata": {
        "id": "h8imKHF2DNpB"
      },
      "execution_count": 30,
      "outputs": []
    },
    {
      "cell_type": "code",
      "source": [
        "# from collections import defaultdict\n",
        "# def get_probabilities(df):\n",
        "#     probabilities=[]\n",
        "#     map=dict()\n",
        "\n",
        "#     states=['Sensemaking','Foraging']\n",
        "#     actions=['start','pan','zoom','radioClick']\n",
        "#     for state in states:\n",
        "#       for action in actions:\n",
        "#         map[state+action]=1\n",
        "\n",
        "\n",
        "#     for i in range(len(df)):\n",
        "#       #print(str(df['State'][i]+df['Action']))\n",
        "#       # if df['State'][i]==\"Navigation\":\n",
        "#       #   map[str(df['State'][i]+df['Action'][i])] += 1\n",
        "#       #   probs = (map[str(df['State'][i]+df['Action'][i])])/(map['Navigationpan'] + map['NavigationradioClick']+ map['Navigationstart'] + map['Navigationzoom'])\n",
        "\n",
        "#       if df['State'][i]==\"Sensemaking\":\n",
        "#         map[str(df['State'][i]+df['Action'][i])] += 1\n",
        "#         probs = (map[str(df['State'][i]+df['Action'][i])])/(map['Sensemakingpan'] + map['SensemakingradioClick']+ map['Sensemakingstart'] + map['Sensemakingzoom'])\n",
        "#       else: #df['State'][i]==\"Foraging\":\n",
        "#         map[str(df['State'][i]+df['Action'][i])] += 1\n",
        "#         probs = (map[str(df['State'][i]+df['Action'][i])])/(map['Foragingpan'] + map['ForagingradioClick']+ map['Foragingstart'] + map['Foragingzoom'])\n",
        "#       # else:\n",
        "#       #   map[str(df['State'][i]+df['Action'][i])] += 1\n",
        "#       #   probs = (map[str(df['State'][i]+df['Action'][i])])/(map['Answeringpan'] + map['AnsweringradioClick']+ map['Answeringstart'] + map['Answeringzoom'])\n",
        "#       probabilities.append(probs)\n",
        "#     return probabilities"
      ],
      "metadata": {
        "id": "BVVMkz_YtrJY"
      },
      "execution_count": 15,
      "outputs": []
    },
    {
      "cell_type": "code",
      "source": [
        "from collections import defaultdict\n",
        "def get_probabilities(df):\n",
        "    probabilities=[]\n",
        "    map=dict()\n",
        "\n",
        "    states=['Sensemaking','Foraging']\n",
        "    actions=['change','keep']\n",
        "    for state in states:\n",
        "      for action in actions:\n",
        "        map[state+action]=1\n",
        "\n",
        "\n",
        "    for i in range(len(df)):\n",
        "      #print(str(df['State'][i]+df['Action']))\n",
        "      # if df['State'][i]==\"Navigation\":\n",
        "      #   map[str(df['State'][i]+df['Action'][i])] += 1\n",
        "      #   probs = (map[str(df['State'][i]+df['Action'][i])])/(map['Navigationpan'] + map['NavigationradioClick']+ map['Navigationstart'] + map['Navigationzoom'])\n",
        "\n",
        "      if df['State'][i]==\"Sensemaking\":\n",
        "        map[str(df['State'][i]+df['Action'][i])] += 1\n",
        "        probs = (map[str(df['State'][i]+df['Action'][i])])/(map['Sensemakingchange'] + map['Sensemakingkeep'])\n",
        "      else: #df['State'][i]==\"Foraging\":\n",
        "        map[str(df['State'][i]+df['Action'][i])] += 1\n",
        "        probs = (map[str(df['State'][i]+df['Action'][i])])/(map['Foragingchange'] + map['Foragingkeep'])\n",
        "      # else:\n",
        "      #   map[str(df['State'][i]+df['Action'][i])] += 1\n",
        "      #   probs = (map[str(df['State'][i]+df['Action'][i])])/(map['Answeringpan'] + map['AnsweringradioClick']+ map['Answeringstart'] + map['Answeringzoom'])\n",
        "      probabilities.append(probs)\n",
        "    return probabilities"
      ],
      "metadata": {
        "id": "xg7sZRlUFS7o"
      },
      "execution_count": 31,
      "outputs": []
    },
    {
      "cell_type": "markdown",
      "source": [
        "MAIN FUNCTION THAT RETURNS THE COMPLETED FILE"
      ],
      "metadata": {
        "id": "OQHc1xG3LvB6"
      }
    },
    {
      "cell_type": "code",
      "metadata": {
        "colab": {
          "base_uri": "https://localhost:8080/"
        },
        "id": "fmDN-TjfYyI7",
        "outputId": "be68f785-2b1f-43bb-f657-1cda4f5a2b69"
      },
      "source": [
        "error_files=[]\n",
        "\n",
        "for filename in tqdm(['taskname_ndsi-3d-task_userid_ac5b65d7-f260-4534-9fae-d998b726ed32.json']):\n",
        "  try:\n",
        "    #saveDir=(str(global_drive_path) +\"/stateActionModel/ndsi-2d\")\n",
        "    saveDir=(str(global_drive_path) +\"/stateActionModel/ndsi-3d\")\n",
        "    #saveDir=(str(global_drive_path) +\"/stateActionModel/rgb-hurricane-3d\")\n",
        "\n",
        "\n",
        "    #get a pandas dataframe object from json file\n",
        "    df = pd.read_json(os.path.join(directory,filename))\n",
        "    print(\"Read file:\",filename)\n",
        "    interactionData=pd.json_normalize(df.interactionData)\n",
        "    final_dataframe = pd.DataFrame(columns=['Action','State','TimeStamp','StateActionProbab','IdleTime','Reward','Subtask_Screenshot_Time','Subtask_Idle_Time','ZoomLevel'])\n",
        "    final_dataframe['Action']=get_Action(interactionData)\n",
        "\n",
        "    final_dataframe['State']=get_State(df)\n",
        "    final_dataframe['TimeStamp']=df.timestampMillis\n",
        "    final_dataframe['IdleTime']=get_IdleTime(df)\n",
        "    final_dataframe['Subtask_Idle_Time']= get_Subset_Idletime(final_dataframe['IdleTime'])\n",
        "    final_dataframe['Reward'],final_dataframe['Subtask_Screenshot_Time']= get_Reward(df,filename)\n",
        "    final_dataframe['Angle']= get_Angle(df)\n",
        "    final_dataframe['ZoomLevel']= get_Zoom(interactionData)\t\n",
        "    #get probabilities\n",
        "    final_dataframe['StateActionProbab']=get_probabilities(final_dataframe)\n",
        "    txt_version= filename.replace(\"json\",\"csv\")\n",
        "    final_dataframe.to_csv(os.path.join(saveDir,txt_version), index=False)\n",
        "  except AttributeError:\n",
        "    print(\"AttributeError\")\n",
        "    error_files.append(filename)\n"
      ],
      "execution_count": 32,
      "outputs": [
        {
          "output_type": "stream",
          "name": "stderr",
          "text": [
            "\r  0%|          | 0/1 [00:00<?, ?it/s]"
          ]
        },
        {
          "output_type": "stream",
          "name": "stdout",
          "text": [
            "Read file: taskname_ndsi-3d-task_userid_ac5b65d7-f260-4534-9fae-d998b726ed32.json\n"
          ]
        },
        {
          "output_type": "stream",
          "name": "stderr",
          "text": [
            "\n",
            "100%|██████████| 178/178 [00:00<00:00, 17162.90it/s]\n",
            "\n",
            "100%|██████████| 178/178 [00:00<00:00, 19466.17it/s]\n"
          ]
        },
        {
          "output_type": "stream",
          "name": "stdout",
          "text": [
            "[1, 177, 109]\n",
            "[1, 177, 109]\n",
            "[1, 177, 109]\n",
            "[1, 177, 109]\n",
            "[1, 177, 109]\n",
            "[1, 177, 109]\n",
            "[1, 177, 109]\n",
            "[1, 177, 109]\n",
            "[1, 177, 109]\n",
            "[1, 177, 109]\n",
            "[1, 177, 109]\n",
            "[1, 177, 109]\n",
            "[1, 177, 109]\n",
            "[1, 177, 109]\n",
            "[1, 177, 109]\n",
            "[1, 177, 109]\n",
            "[1, 177, 109]\n",
            "[1, 177, 109]\n",
            "[1, 177, 109]\n",
            "[1, 177, 109]\n",
            "[1, 177, 109]\n",
            "[1, 177, 109]\n",
            "[1, 177, 109]\n",
            "[1, 177, 109]\n",
            "[1, 177, 109]\n",
            "[1, 177, 109]\n",
            "[1, 177, 109]\n",
            "[1, 177, 109]\n",
            "[1, 177, 109]\n",
            "[1, 177, 109]\n",
            "[1, 177, 109]\n",
            "[1, 177, 109]\n",
            "[1, 177, 109]\n",
            "[1, 177, 109]\n",
            "[1, 177, 109]\n",
            "[1, 177, 109]\n",
            "[1, 177, 109]\n",
            "[1, 177, 109]\n",
            "[1, 177, 109]\n",
            "[1, 177, 109]\n",
            "[1, 177, 109]\n",
            "[1, 177, 109]\n",
            "[1, 177, 109]\n",
            "[1, 177, 109]\n",
            "[1, 177, 109]\n",
            "[1, 177, 109]\n",
            "[1, 177, 109]\n",
            "[1, 177, 109]\n",
            "[1, 177, 109]\n",
            "[1, 177, 109]\n",
            "[1, 177, 109]\n",
            "[1, 177, 109]\n",
            "[1, 177, 109]\n",
            "[1, 177, 109]\n",
            "[1, 177, 109]\n",
            "[1, 177, 109]\n",
            "[1, 177, 109]\n",
            "[1, 177, 109]\n",
            "[1, 177, 109]\n",
            "[1, 177, 109]\n",
            "[1, 177, 109]\n",
            "[1, 177, 109]\n",
            "[1, 177, 109]\n",
            "[1, 177, 109]\n",
            "[1, 177, 109]\n",
            "[1, 177, 109]\n",
            "[1, 177, 109]\n",
            "[1, 177, 109]\n",
            "[1, 177, 109]\n",
            "[1, 177, 109]\n",
            "[1, 177, 109]\n",
            "[1, 177, 109]\n",
            "[1, 177, 109]\n",
            "[1, 177, 109]\n",
            "[1, 177, 109]\n",
            "[1, 177, 109]\n",
            "[1, 177, 109]\n",
            "[1, 177, 109]\n",
            "[1, 177, 109]\n",
            "[1, 177, 109]\n",
            "[1, 177, 109]\n",
            "[1, 177, 109]\n",
            "[1, 177, 109]\n",
            "[1, 177, 109]\n",
            "[1, 177, 109]\n",
            "[1, 177, 109]\n",
            "[1, 177, 109]\n",
            "[1, 177, 109]\n",
            "[1, 177, 109]\n",
            "[1, 177, 109]\n",
            "[1, 177, 109]\n",
            "[1, 177, 109]\n",
            "[1, 177, 109]\n",
            "[1, 177, 109]\n",
            "[1, 177, 109]\n",
            "[1, 177, 109]\n",
            "[1, 177, 109]\n",
            "[1, 177, 109]\n",
            "[1, 177, 109]\n",
            "[1, 177, 109]\n",
            "[1, 177, 109]\n",
            "[1, 177, 109]\n",
            "[1, 177, 109]\n",
            "[1, 177, 109]\n",
            "[1, 177, 109]\n",
            "[1, 177, 109]\n",
            "[1, 177, 109]\n",
            "[1, 177, 109]\n",
            "[1, 177, 109]\n",
            "[1, 177, 109]\n",
            "[1, 177, 109]\n",
            "[1, 177, 109]\n",
            "[1, 177, 109]\n",
            "[1, 177, 109]\n",
            "[1, 177, 109]\n",
            "[1, 177, 109]\n",
            "[1, 177, 109]\n",
            "[1, 177, 109]\n",
            "[1, 177, 109]\n",
            "[1, 177, 109]\n",
            "[1, 177, 109]\n",
            "[1, 177, 109]\n",
            "[1, 177, 109]\n",
            "[1, 177, 109]\n",
            "[1, 177, 109]\n",
            "[1, 177, 109]\n",
            "[1, 177, 109]\n",
            "[1, 177, 109]\n",
            "[1, 177, 109]\n",
            "[1, 177, 109]\n",
            "[1, 177, 109]\n",
            "[1, 177, 109]\n",
            "[1, 177, 109]\n",
            "[1, 177, 109]\n",
            "[1, 177, 109]\n",
            "[1, 177, 109]\n",
            "[1, 177, 109]\n",
            "[1, 177, 109]\n",
            "[1, 177, 109]\n",
            "[1, 177, 109]\n",
            "[1, 177, 109]\n",
            "[1, 177, 109]\n",
            "[1, 177, 109]\n",
            "[1, 177, 109]\n",
            "[1, 177, 109]\n",
            "[1, 177, 109]\n",
            "[1, 177, 109]\n",
            "[1, 177, 109]\n",
            "[1, 177, 109]\n",
            "[1, 177, 109]\n",
            "[1, 177, 109]\n",
            "[1, 177, 109]\n",
            "[1, 177, 109]\n",
            "[1, 177, 109]\n",
            "[1, 177, 109]\n",
            "[1, 177, 109]\n",
            "[1, 177, 109]\n",
            "[1, 177, 109]\n",
            "[1, 177, 109]\n",
            "[1, 177, 109]\n",
            "[1, 177, 109]\n",
            "[1, 177, 109]\n",
            "[1, 177, 109]\n",
            "[1, 177, 109]\n",
            "[1, 177, 109]\n",
            "[1, 177, 109]\n",
            "[1, 177, 109]\n",
            "[1, 177, 109]\n",
            "[1, 177, 109]\n",
            "[1, 177, 109]\n",
            "[1, 177, 109]\n",
            "[1, 177, 109]\n",
            "[1, 177, 109]\n",
            "[1, 177, 109]\n",
            "[1, 177, 109]\n",
            "[1, 177, 109]\n",
            "[1, 177, 109]\n",
            "[1, 177, 109]\n",
            "There are  2 Snapshot times\n"
          ]
        },
        {
          "output_type": "stream",
          "name": "stderr",
          "text": [
            "\n",
            "100%|██████████| 178/178 [00:00<00:00, 4558.50it/s]\n",
            "\n",
            "100%|██████████| 178/178 [00:00<00:00, 2457.73it/s]\n",
            "100%|██████████| 1/1 [00:00<00:00,  2.14it/s]\n"
          ]
        }
      ]
    },
    {
      "cell_type": "code",
      "source": [
        "final_dataframe"
      ],
      "metadata": {
        "colab": {
          "base_uri": "https://localhost:8080/",
          "height": 424
        },
        "id": "y2Z51uCzM6Bm",
        "outputId": "1b673c86-2a64-4fff-995f-2d0cecb02e08"
      },
      "execution_count": 33,
      "outputs": [
        {
          "output_type": "execute_result",
          "data": {
            "text/html": [
              "\n",
              "  <div id=\"df-fdc2421a-4c4f-410a-8119-72fcd1a8629c\">\n",
              "    <div class=\"colab-df-container\">\n",
              "      <div>\n",
              "<style scoped>\n",
              "    .dataframe tbody tr th:only-of-type {\n",
              "        vertical-align: middle;\n",
              "    }\n",
              "\n",
              "    .dataframe tbody tr th {\n",
              "        vertical-align: top;\n",
              "    }\n",
              "\n",
              "    .dataframe thead th {\n",
              "        text-align: right;\n",
              "    }\n",
              "</style>\n",
              "<table border=\"1\" class=\"dataframe\">\n",
              "  <thead>\n",
              "    <tr style=\"text-align: right;\">\n",
              "      <th></th>\n",
              "      <th>Action</th>\n",
              "      <th>State</th>\n",
              "      <th>TimeStamp</th>\n",
              "      <th>StateActionProbab</th>\n",
              "      <th>IdleTime</th>\n",
              "      <th>Reward</th>\n",
              "      <th>Subtask_Screenshot_Time</th>\n",
              "      <th>Subtask_Idle_Time</th>\n",
              "      <th>ZoomLevel</th>\n",
              "      <th>Angle</th>\n",
              "    </tr>\n",
              "  </thead>\n",
              "  <tbody>\n",
              "    <tr>\n",
              "      <th>0</th>\n",
              "      <td>keep</td>\n",
              "      <td>Foraging</td>\n",
              "      <td>2016-06-08 18:11:47.904</td>\n",
              "      <td>0.666667</td>\n",
              "      <td>0.000</td>\n",
              "      <td>0</td>\n",
              "      <td>1</td>\n",
              "      <td>1</td>\n",
              "      <td>0</td>\n",
              "      <td>0.000000</td>\n",
              "    </tr>\n",
              "    <tr>\n",
              "      <th>1</th>\n",
              "      <td>change</td>\n",
              "      <td>Foraging</td>\n",
              "      <td>2016-06-08 18:12:29.704</td>\n",
              "      <td>0.500000</td>\n",
              "      <td>41.800</td>\n",
              "      <td>0</td>\n",
              "      <td>1</td>\n",
              "      <td>1</td>\n",
              "      <td>1</td>\n",
              "      <td>0.000000</td>\n",
              "    </tr>\n",
              "    <tr>\n",
              "      <th>2</th>\n",
              "      <td>keep</td>\n",
              "      <td>Foraging</td>\n",
              "      <td>2016-06-08 18:12:30.282</td>\n",
              "      <td>0.600000</td>\n",
              "      <td>0.578</td>\n",
              "      <td>0</td>\n",
              "      <td>1</td>\n",
              "      <td>1</td>\n",
              "      <td>2</td>\n",
              "      <td>0.000000</td>\n",
              "    </tr>\n",
              "    <tr>\n",
              "      <th>3</th>\n",
              "      <td>change</td>\n",
              "      <td>Sensemaking</td>\n",
              "      <td>2016-06-08 18:12:30.952</td>\n",
              "      <td>0.666667</td>\n",
              "      <td>0.670</td>\n",
              "      <td>0</td>\n",
              "      <td>1</td>\n",
              "      <td>1</td>\n",
              "      <td>2</td>\n",
              "      <td>4.296481</td>\n",
              "    </tr>\n",
              "    <tr>\n",
              "      <th>4</th>\n",
              "      <td>keep</td>\n",
              "      <td>Sensemaking</td>\n",
              "      <td>2016-06-08 18:12:31.468</td>\n",
              "      <td>0.500000</td>\n",
              "      <td>0.516</td>\n",
              "      <td>0</td>\n",
              "      <td>1</td>\n",
              "      <td>1</td>\n",
              "      <td>2</td>\n",
              "      <td>2.710408</td>\n",
              "    </tr>\n",
              "    <tr>\n",
              "      <th>...</th>\n",
              "      <td>...</td>\n",
              "      <td>...</td>\n",
              "      <td>...</td>\n",
              "      <td>...</td>\n",
              "      <td>...</td>\n",
              "      <td>...</td>\n",
              "      <td>...</td>\n",
              "      <td>...</td>\n",
              "      <td>...</td>\n",
              "      <td>...</td>\n",
              "    </tr>\n",
              "    <tr>\n",
              "      <th>173</th>\n",
              "      <td>keep</td>\n",
              "      <td>Sensemaking</td>\n",
              "      <td>2016-06-08 18:15:55.597</td>\n",
              "      <td>0.952941</td>\n",
              "      <td>0.570</td>\n",
              "      <td>0</td>\n",
              "      <td>2</td>\n",
              "      <td>2</td>\n",
              "      <td>2</td>\n",
              "      <td>6.843455</td>\n",
              "    </tr>\n",
              "    <tr>\n",
              "      <th>174</th>\n",
              "      <td>keep</td>\n",
              "      <td>Sensemaking</td>\n",
              "      <td>2016-06-08 18:15:56.200</td>\n",
              "      <td>0.953216</td>\n",
              "      <td>0.603</td>\n",
              "      <td>0</td>\n",
              "      <td>2</td>\n",
              "      <td>2</td>\n",
              "      <td>2</td>\n",
              "      <td>9.064860</td>\n",
              "    </tr>\n",
              "    <tr>\n",
              "      <th>175</th>\n",
              "      <td>keep</td>\n",
              "      <td>Sensemaking</td>\n",
              "      <td>2016-06-08 18:15:57.074</td>\n",
              "      <td>0.953488</td>\n",
              "      <td>0.874</td>\n",
              "      <td>0</td>\n",
              "      <td>2</td>\n",
              "      <td>2</td>\n",
              "      <td>2</td>\n",
              "      <td>15.973863</td>\n",
              "    </tr>\n",
              "    <tr>\n",
              "      <th>176</th>\n",
              "      <td>keep</td>\n",
              "      <td>Sensemaking</td>\n",
              "      <td>2016-06-08 18:15:57.677</td>\n",
              "      <td>0.953757</td>\n",
              "      <td>0.603</td>\n",
              "      <td>0</td>\n",
              "      <td>2</td>\n",
              "      <td>2</td>\n",
              "      <td>2</td>\n",
              "      <td>6.705084</td>\n",
              "    </tr>\n",
              "    <tr>\n",
              "      <th>177</th>\n",
              "      <td>change</td>\n",
              "      <td>Foraging</td>\n",
              "      <td>2016-06-08 18:16:23.316</td>\n",
              "      <td>0.555556</td>\n",
              "      <td>25.639</td>\n",
              "      <td>0</td>\n",
              "      <td>2</td>\n",
              "      <td>2</td>\n",
              "      <td>2</td>\n",
              "      <td>0.000000</td>\n",
              "    </tr>\n",
              "  </tbody>\n",
              "</table>\n",
              "<p>178 rows × 10 columns</p>\n",
              "</div>\n",
              "      <button class=\"colab-df-convert\" onclick=\"convertToInteractive('df-fdc2421a-4c4f-410a-8119-72fcd1a8629c')\"\n",
              "              title=\"Convert this dataframe to an interactive table.\"\n",
              "              style=\"display:none;\">\n",
              "        \n",
              "  <svg xmlns=\"http://www.w3.org/2000/svg\" height=\"24px\"viewBox=\"0 0 24 24\"\n",
              "       width=\"24px\">\n",
              "    <path d=\"M0 0h24v24H0V0z\" fill=\"none\"/>\n",
              "    <path d=\"M18.56 5.44l.94 2.06.94-2.06 2.06-.94-2.06-.94-.94-2.06-.94 2.06-2.06.94zm-11 1L8.5 8.5l.94-2.06 2.06-.94-2.06-.94L8.5 2.5l-.94 2.06-2.06.94zm10 10l.94 2.06.94-2.06 2.06-.94-2.06-.94-.94-2.06-.94 2.06-2.06.94z\"/><path d=\"M17.41 7.96l-1.37-1.37c-.4-.4-.92-.59-1.43-.59-.52 0-1.04.2-1.43.59L10.3 9.45l-7.72 7.72c-.78.78-.78 2.05 0 2.83L4 21.41c.39.39.9.59 1.41.59.51 0 1.02-.2 1.41-.59l7.78-7.78 2.81-2.81c.8-.78.8-2.07 0-2.86zM5.41 20L4 18.59l7.72-7.72 1.47 1.35L5.41 20z\"/>\n",
              "  </svg>\n",
              "      </button>\n",
              "      \n",
              "  <style>\n",
              "    .colab-df-container {\n",
              "      display:flex;\n",
              "      flex-wrap:wrap;\n",
              "      gap: 12px;\n",
              "    }\n",
              "\n",
              "    .colab-df-convert {\n",
              "      background-color: #E8F0FE;\n",
              "      border: none;\n",
              "      border-radius: 50%;\n",
              "      cursor: pointer;\n",
              "      display: none;\n",
              "      fill: #1967D2;\n",
              "      height: 32px;\n",
              "      padding: 0 0 0 0;\n",
              "      width: 32px;\n",
              "    }\n",
              "\n",
              "    .colab-df-convert:hover {\n",
              "      background-color: #E2EBFA;\n",
              "      box-shadow: 0px 1px 2px rgba(60, 64, 67, 0.3), 0px 1px 3px 1px rgba(60, 64, 67, 0.15);\n",
              "      fill: #174EA6;\n",
              "    }\n",
              "\n",
              "    [theme=dark] .colab-df-convert {\n",
              "      background-color: #3B4455;\n",
              "      fill: #D2E3FC;\n",
              "    }\n",
              "\n",
              "    [theme=dark] .colab-df-convert:hover {\n",
              "      background-color: #434B5C;\n",
              "      box-shadow: 0px 1px 3px 1px rgba(0, 0, 0, 0.15);\n",
              "      filter: drop-shadow(0px 1px 2px rgba(0, 0, 0, 0.3));\n",
              "      fill: #FFFFFF;\n",
              "    }\n",
              "  </style>\n",
              "\n",
              "      <script>\n",
              "        const buttonEl =\n",
              "          document.querySelector('#df-fdc2421a-4c4f-410a-8119-72fcd1a8629c button.colab-df-convert');\n",
              "        buttonEl.style.display =\n",
              "          google.colab.kernel.accessAllowed ? 'block' : 'none';\n",
              "\n",
              "        async function convertToInteractive(key) {\n",
              "          const element = document.querySelector('#df-fdc2421a-4c4f-410a-8119-72fcd1a8629c');\n",
              "          const dataTable =\n",
              "            await google.colab.kernel.invokeFunction('convertToInteractive',\n",
              "                                                     [key], {});\n",
              "          if (!dataTable) return;\n",
              "\n",
              "          const docLinkHtml = 'Like what you see? Visit the ' +\n",
              "            '<a target=\"_blank\" href=https://colab.research.google.com/notebooks/data_table.ipynb>data table notebook</a>'\n",
              "            + ' to learn more about interactive tables.';\n",
              "          element.innerHTML = '';\n",
              "          dataTable['output_type'] = 'display_data';\n",
              "          await google.colab.output.renderOutput(dataTable, element);\n",
              "          const docLink = document.createElement('div');\n",
              "          docLink.innerHTML = docLinkHtml;\n",
              "          element.appendChild(docLink);\n",
              "        }\n",
              "      </script>\n",
              "    </div>\n",
              "  </div>\n",
              "  "
            ],
            "text/plain": [
              "     Action        State               TimeStamp  StateActionProbab  IdleTime  \\\n",
              "0      keep     Foraging 2016-06-08 18:11:47.904           0.666667     0.000   \n",
              "1    change     Foraging 2016-06-08 18:12:29.704           0.500000    41.800   \n",
              "2      keep     Foraging 2016-06-08 18:12:30.282           0.600000     0.578   \n",
              "3    change  Sensemaking 2016-06-08 18:12:30.952           0.666667     0.670   \n",
              "4      keep  Sensemaking 2016-06-08 18:12:31.468           0.500000     0.516   \n",
              "..      ...          ...                     ...                ...       ...   \n",
              "173    keep  Sensemaking 2016-06-08 18:15:55.597           0.952941     0.570   \n",
              "174    keep  Sensemaking 2016-06-08 18:15:56.200           0.953216     0.603   \n",
              "175    keep  Sensemaking 2016-06-08 18:15:57.074           0.953488     0.874   \n",
              "176    keep  Sensemaking 2016-06-08 18:15:57.677           0.953757     0.603   \n",
              "177  change     Foraging 2016-06-08 18:16:23.316           0.555556    25.639   \n",
              "\n",
              "     Reward  Subtask_Screenshot_Time  Subtask_Idle_Time  ZoomLevel      Angle  \n",
              "0         0                        1                  1          0   0.000000  \n",
              "1         0                        1                  1          1   0.000000  \n",
              "2         0                        1                  1          2   0.000000  \n",
              "3         0                        1                  1          2   4.296481  \n",
              "4         0                        1                  1          2   2.710408  \n",
              "..      ...                      ...                ...        ...        ...  \n",
              "173       0                        2                  2          2   6.843455  \n",
              "174       0                        2                  2          2   9.064860  \n",
              "175       0                        2                  2          2  15.973863  \n",
              "176       0                        2                  2          2   6.705084  \n",
              "177       0                        2                  2          2   0.000000  \n",
              "\n",
              "[178 rows x 10 columns]"
            ]
          },
          "metadata": {},
          "execution_count": 33
        }
      ]
    },
    {
      "cell_type": "code",
      "source": [
        "error_files"
      ],
      "metadata": {
        "colab": {
          "base_uri": "https://localhost:8080/"
        },
        "id": "m-3oY9ZRF-Jn",
        "outputId": "fd5cc73c-340b-43db-a49b-4fe01e55a125"
      },
      "execution_count": 16,
      "outputs": [
        {
          "output_type": "execute_result",
          "data": {
            "text/plain": [
              "[]"
            ]
          },
          "metadata": {},
          "execution_count": 16
        }
      ]
    },
    {
      "cell_type": "code",
      "source": [
        ""
      ],
      "metadata": {
        "id": "HCRd_GNHLjdr"
      },
      "execution_count": null,
      "outputs": []
    },
    {
      "cell_type": "code",
      "source": [
        ""
      ],
      "metadata": {
        "id": "yW9NWHiTLjhD"
      },
      "execution_count": null,
      "outputs": []
    },
    {
      "cell_type": "code",
      "source": [
        ""
      ],
      "metadata": {
        "id": "eH5tNp5pLjkY"
      },
      "execution_count": null,
      "outputs": []
    },
    {
      "cell_type": "code",
      "source": [
        ""
      ],
      "metadata": {
        "id": "34lTA7upLjni"
      },
      "execution_count": null,
      "outputs": []
    },
    {
      "cell_type": "code",
      "source": [
        ""
      ],
      "metadata": {
        "id": "TG9b2Im3Ljq6"
      },
      "execution_count": null,
      "outputs": []
    },
    {
      "cell_type": "markdown",
      "source": [
        "RANDOM TEST SNIPPETS AFTER THIS POINT"
      ],
      "metadata": {
        "id": "n1S5xJYaLkKo"
      }
    },
    {
      "cell_type": "code",
      "metadata": {
        "colab": {
          "base_uri": "https://localhost:8080/",
          "height": 165
        },
        "id": "Kc_Q3jxlKf3L",
        "outputId": "4feaa468-486e-4960-b30c-44b64088ec23"
      },
      "source": [
        "len(matchingName) # so 19 users are the same "
      ],
      "execution_count": null,
      "outputs": [
        {
          "output_type": "error",
          "ename": "NameError",
          "evalue": "ignored",
          "traceback": [
            "\u001b[0;31m---------------------------------------------------------------------------\u001b[0m",
            "\u001b[0;31mNameError\u001b[0m                                 Traceback (most recent call last)",
            "\u001b[0;32m<ipython-input-14-22a2a337585a>\u001b[0m in \u001b[0;36m<module>\u001b[0;34m()\u001b[0m\n\u001b[0;32m----> 1\u001b[0;31m \u001b[0mlen\u001b[0m\u001b[0;34m(\u001b[0m\u001b[0mmatchingName\u001b[0m\u001b[0;34m)\u001b[0m \u001b[0;31m# so 19 users are the same\u001b[0m\u001b[0;34m\u001b[0m\u001b[0;34m\u001b[0m\u001b[0m\n\u001b[0m",
            "\u001b[0;31mNameError\u001b[0m: name 'matchingName' is not defined"
          ]
        }
      ]
    },
    {
      "cell_type": "code",
      "metadata": {
        "id": "t3DFBNOEGKgd"
      },
      "source": [
        "filenamed=\"taskname_ndsi-3d-task_userid_8b544d24-3274-4bb0-9719-fd2bccc87b02.csv\""
      ],
      "execution_count": null,
      "outputs": []
    },
    {
      "cell_type": "code",
      "metadata": {
        "id": "_RzdFG-xGKi3"
      },
      "source": [
        "filenamed[filenamed.find(\"userid_\")+7: filenamed.find(\".csv\")]"
      ],
      "execution_count": null,
      "outputs": []
    },
    {
      "cell_type": "code",
      "metadata": {
        "id": "aEc2_xWCoANE"
      },
      "source": [
        "df.head(5)"
      ],
      "execution_count": null,
      "outputs": []
    },
    {
      "cell_type": "code",
      "metadata": {
        "id": "XAw1ghRVcMB7"
      },
      "source": [
        "df.phase"
      ],
      "execution_count": null,
      "outputs": []
    },
    {
      "cell_type": "code",
      "metadata": {
        "id": "Mx6u0FtNPZWC"
      },
      "source": [
        "interactionData= pd.io.json.json_normalize(df.interactionData)"
      ],
      "execution_count": null,
      "outputs": []
    },
    {
      "cell_type": "code",
      "metadata": {
        "id": "DQUSSW_jdgsi"
      },
      "source": [
        "interactionData.interactionType"
      ],
      "execution_count": null,
      "outputs": []
    },
    {
      "cell_type": "code",
      "metadata": {
        "id": "laHuy1Pf23I1"
      },
      "source": [
        "final_dataframe = pd.DataFrame(columns=['Action','State','TimeStamp'])\n",
        "final_dataframe['Action']=interactionData.interactionType\n",
        "final_dataframe['State']=df.phase\n",
        "final_dataframe['TimeStamp']=df.timestampMillis"
      ],
      "execution_count": null,
      "outputs": []
    },
    {
      "cell_type": "code",
      "metadata": {
        "id": "sp7uyKm2RBkk"
      },
      "source": [
        "final_dataframe.head"
      ],
      "execution_count": null,
      "outputs": []
    },
    {
      "cell_type": "code",
      "metadata": {
        "id": "FLCYBF5w3ycM"
      },
      "source": [
        "final_dataframe['Action']=interactionData.interactionType\n",
        "final_dataframe['State']=df.phase\n",
        "final_dataframe['TimeStamp']=df.timestampMillis"
      ],
      "execution_count": null,
      "outputs": []
    },
    {
      "cell_type": "code",
      "metadata": {
        "id": "SFuNlEahPpND"
      },
      "source": [
        "final_dataframe"
      ],
      "execution_count": null,
      "outputs": []
    },
    {
      "cell_type": "code",
      "metadata": {
        "id": "dlW99WHfd3pY"
      },
      "source": [
        "for item in df.toFetch:\n",
        "  print (item)"
      ],
      "execution_count": null,
      "outputs": []
    },
    {
      "cell_type": "code",
      "metadata": {
        "id": "OQFknKINeW8A"
      },
      "source": [
        "toFetch"
      ],
      "execution_count": null,
      "outputs": []
    },
    {
      "cell_type": "code",
      "metadata": {
        "id": "zlC1d8OFoPtk"
      },
      "source": [
        "import json\n",
        "from pandas.io.json import json_normalize\n",
        "normalized_json = json_normalize(df['taskname_ndsi-2d-subtask_userid_3abeecbe-327a-441e-be2a-0dd3763c1d45'])\n",
        "normalized_json.head(3 )\n"
      ],
      "execution_count": null,
      "outputs": []
    },
    {
      "cell_type": "code",
      "metadata": {
        "id": "olu8Z5HZtl12"
      },
      "source": [
        "normalized_json['toFetch']"
      ],
      "execution_count": null,
      "outputs": []
    },
    {
      "cell_type": "code",
      "metadata": {
        "id": "tjeNjcIdr8hb"
      },
      "source": [
        "#get a pandas dataframe object from json file\n",
        "#df = pd.read_json(\"/content/interactions_data/zoom_0_pos_0_0.json\")\n",
        "import json\n",
        "import pandas as pd\n",
        "from pandas.io.json import json_normalize\n",
        "path= '/content/drive/Shareddrives/Colearning-Exploration/Dataset/forecache_interactions_2016/ndsi_2d_jsons/zoom_0_pos_0_0.json'\n",
        "with open(path) as project_file:    \n",
        "    data = json.load(project_file)  \n",
        "\n",
        "df_zoom = pd.json_normalize(data)\n",
        "df_zoom.head(5)"
      ],
      "execution_count": null,
      "outputs": []
    },
    {
      "cell_type": "code",
      "metadata": {
        "id": "Xq_dZKVizMbv"
      },
      "source": [
        "df_zoom.domains"
      ],
      "execution_count": null,
      "outputs": []
    }
  ]
}